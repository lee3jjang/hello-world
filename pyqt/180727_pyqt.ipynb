{
 "cells": [
  {
   "cell_type": "code",
   "execution_count": 101,
   "metadata": {},
   "outputs": [
    {
     "name": "stdout",
     "output_type": "stream",
     "text": [
      "2018-07-27\n",
      "2018년 7월 27일 금요일\n",
      "금 7 27 21:58:50 2018\n",
      "오후 9:58:50\n"
     ]
    }
   ],
   "source": [
    "from PyQt5.QtCore import QDate, Qt, QDateTime, QTime\n",
    "\n",
    "# 일자\n",
    "now = QDate.currentDate()\n",
    "print(now.toString(Qt.ISODate))\n",
    "print(now.toString(Qt.DefaultLocaleLongDate))\n",
    "\n",
    "# 일자/시간\n",
    "datetime = QDateTime.currentDateTime()\n",
    "print(datetime.toString())\n",
    "\n",
    "# 시간\n",
    "time = QTime.currentTime()\n",
    "print(time.toString(Qt.DefaultLocaleLongDate))"
   ]
  },
  {
   "cell_type": "code",
   "execution_count": 1,
   "metadata": {},
   "outputs": [],
   "source": [
    "import sys\n",
    "from PyQt5.QtWidgets import QMainWindow, QApplication\n",
    "\n",
    "class Ex(QMainWindow):\n",
    "    \n",
    "    def __init__(self):\n",
    "        super().__init__()\n",
    "        self.initUI()\n",
    "        return None\n",
    "        \n",
    "    def initUI(self):\n",
    "        self.statusBar().showMessage('준비하세요')\n",
    "        self.setGeometry(300,300,250,150)\n",
    "        self.setWindowTitle('여기가 상태창?')\n",
    "        self.show()\n",
    "        return None\n",
    "        \n",
    "if __name__ == '__main__':\n",
    "    app = QApplication(sys.argv)\n",
    "    ex = Ex()\n",
    "    app.exec_()"
   ]
  },
  {
   "cell_type": "code",
   "execution_count": 1,
   "metadata": {},
   "outputs": [
    {
     "ename": "SystemExit",
     "evalue": "0",
     "output_type": "error",
     "traceback": [
      "An exception has occurred, use %tb to see the full traceback.\n",
      "\u001b[1;31mSystemExit\u001b[0m\u001b[1;31m:\u001b[0m 0\n"
     ]
    },
    {
     "name": "stderr",
     "output_type": "stream",
     "text": [
      "C:\\ProgramData\\Anaconda3\\lib\\site-packages\\IPython\\core\\interactiveshell.py:2971: UserWarning: To exit: use 'exit', 'quit', or Ctrl-D.\n",
      "  warn(\"To exit: use 'exit', 'quit', or Ctrl-D.\", stacklevel=1)\n"
     ]
    }
   ],
   "source": [
    "import sys\n",
    "from PyQt5.QtWidgets import QMainWindow, QApplication, QAction, qApp\n",
    "from PyQt5.QtGui import QIcon\n",
    "\n",
    "class Ex(QMainWindow):\n",
    "    \n",
    "    def __init__(self):\n",
    "        super().__init__()\n",
    "        self.initUI()\n",
    "        return None\n",
    "        \n",
    "    def initUI(self):\n",
    "        # QAction 한글 개체 생성\n",
    "        exitAct = QAction(QIcon('c:/home-icon.png'), '&한글', self)\n",
    "        # 단축키 세팅\n",
    "        exitAct.setShortcut('Ctrl+Q')\n",
    "        # 화면 하단에 내용 설명\n",
    "        exitAct.setStatusTip('나가는 어플이래요')\n",
    "        # 트리거 발생시 실행되는 거 : quit\n",
    "        exitAct.triggered.connect(qApp.quit)\n",
    "        \n",
    "        # 상태바 생성\n",
    "        self.statusBar()\n",
    "        \n",
    "        # 메뉴바 생성\n",
    "        menubar = self.menuBar()\n",
    "        # 파입 메뉴 객체 만들기\n",
    "        fileMenu = menubar.addMenu('&파입')\n",
    "        # 파입 메뉴 안에 QAction(한글) 넣기\n",
    "        fileMenu.addAction(exitAct)\n",
    "        \n",
    "        self.setGeometry(300,300,300,200)\n",
    "        self.setWindowTitle('이 것이 무엇이냐..')\n",
    "        self.show()\n",
    "        return None\n",
    "        \n",
    "if __name__ == '__main__':\n",
    "    app = QApplication(sys.argv)\n",
    "    ex = Ex()\n",
    "    sys.exit(app.exec_())"
   ]
  },
  {
   "cell_type": "code",
   "execution_count": 1,
   "metadata": {},
   "outputs": [
    {
     "ename": "SystemExit",
     "evalue": "0",
     "output_type": "error",
     "traceback": [
      "An exception has occurred, use %tb to see the full traceback.\n",
      "\u001b[1;31mSystemExit\u001b[0m\u001b[1;31m:\u001b[0m 0\n"
     ]
    },
    {
     "name": "stderr",
     "output_type": "stream",
     "text": [
      "C:\\ProgramData\\Anaconda3\\lib\\site-packages\\IPython\\core\\interactiveshell.py:2971: UserWarning: To exit: use 'exit', 'quit', or Ctrl-D.\n",
      "  warn(\"To exit: use 'exit', 'quit', or Ctrl-D.\", stacklevel=1)\n"
     ]
    }
   ],
   "source": [
    "import sys\n",
    "from PyQt5.QtWidgets import QMainWindow, QApplication, QAction, qApp, QMenu, QTextEdit\n",
    "from PyQt5.QtGui import QIcon\n",
    "\n",
    "class Ex(QMainWindow):\n",
    "    \n",
    "    def __init__(self):\n",
    "        super().__init__()\n",
    "        self.initUI()\n",
    "        return None\n",
    "        \n",
    "    def initUI(self):\n",
    "        \n",
    "        textEdit = QTextEdit()\n",
    "        self.setCentralWidget(textEdit)\n",
    "        \n",
    "        # 액션 생성\n",
    "        exitAct = QAction(QIcon('c:/home-icon.png'), '&나가기', self)\n",
    "        exitAct.setShortcut('Ctrl+Q')\n",
    "        exitAct.setStatusTip('나가짐')\n",
    "        exitAct.triggered.connect(qApp.quit)\n",
    "        \n",
    "        goAct = QAction(QIcon('c:/sign-check-icon.png'), '&시작', self)\n",
    "        goAct.setShortcut('Ctrl+A')\n",
    "        goAct.setStatusTip('실행됨')\n",
    "        goAct.triggered.connect(self.close)\n",
    "        \n",
    "        impMenu = QMenu('불러오기', self)\n",
    "        impAct = QAction('메일 불러오기', self)\n",
    "        impMenu.addAction(impAct)\n",
    "        \n",
    "        newAct = QAction('새로하기', self)\n",
    "        \n",
    "        viewStatAct = QAction('보기 체크', self, checkable=True)\n",
    "        viewStatAct.setStatusTip('보기 체크할 수 있게 만든거임')\n",
    "        viewStatAct.setChecked(True)\n",
    "        viewStatAct.triggered.connect(self.toggleMenu)\n",
    "        \n",
    "        \n",
    "        # 메뉴바 생성\n",
    "        menubar = self.menuBar()\n",
    "        fileMenu = menubar.addMenu('&파일')\n",
    "        fileMenu.addAction(newAct)\n",
    "        fileMenu.addMenu(impMenu)\n",
    "        fileMenu.addAction(exitAct)\n",
    "        editMenu = menubar.addMenu('&편집')\n",
    "        viewMenu = menubar.addMenu('&보기')\n",
    "        viewMenu.addAction(viewStatAct)\n",
    "        runMenu = menubar.addMenu('&실행')\n",
    "        runMenu.addAction(goAct)\n",
    "        kernelMenu = menubar.addMenu('&커널')\n",
    "        \n",
    "        \n",
    "        # 툴바 생성\n",
    "        self.toolbar = self.addToolBar('나가기')\n",
    "        self.toolbar.addAction(exitAct)\n",
    "        \n",
    "        \n",
    "        # 기타 설정\n",
    "        self.statusbar = self.statusBar()\n",
    "        self.statusbar.showMessage('준비됐나요?~')\n",
    "        self.setGeometry(300,300,300,200)\n",
    "        self.setWindowTitle('이 것이 무엇이냐..')\n",
    "        self.show()\n",
    "        return None\n",
    "    \n",
    "    def toggleMenu(self, state):\n",
    "        if state:\n",
    "            self.statusbar.show()\n",
    "        else:\n",
    "            self.statusbar.hide()\n",
    "        print(state)\n",
    "        return None\n",
    "    \n",
    "    # 메쏘드 이름은 무조건 이거 그대로 해야 함\n",
    "    def contextMenuEvent(self, event):\n",
    "        print(event.x(), event.y())\n",
    "        cmenu = QMenu(self)\n",
    "        newAct = cmenu.addAction('새파일')\n",
    "        openAct = cmenu.addAction('열기')\n",
    "        quitAct = cmenu.addAction('나가기')\n",
    "        action = cmenu.exec_(self.mapToGlobal(event.pos()))\n",
    "        \n",
    "        if action == newAct:\n",
    "            print('새파일을 눌렀습니다')\n",
    "        elif action == openAct:\n",
    "            print('열기를 눌렀습니다')\n",
    "        elif action == quitAct:\n",
    "            qApp.quit()\n",
    "        \n",
    "        \n",
    "if __name__ == '__main__':\n",
    "    app = QApplication(sys.argv)\n",
    "    ex = Ex()\n",
    "    sys.exit(app.exec_())"
   ]
  }
 ],
 "metadata": {
  "kernelspec": {
   "display_name": "Python 3",
   "language": "python",
   "name": "python3"
  },
  "language_info": {
   "codemirror_mode": {
    "name": "ipython",
    "version": 3
   },
   "file_extension": ".py",
   "mimetype": "text/x-python",
   "name": "python",
   "nbconvert_exporter": "python",
   "pygments_lexer": "ipython3",
   "version": "3.6.5"
  }
 },
 "nbformat": 4,
 "nbformat_minor": 2
}
