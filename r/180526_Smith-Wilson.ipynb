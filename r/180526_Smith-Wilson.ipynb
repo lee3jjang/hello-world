{
 "cells": [
  {
   "cell_type": "code",
   "execution_count": 4,
   "metadata": {},
   "outputs": [
    {
     "name": "stderr",
     "output_type": "stream",
     "text": [
      "Loading required package: ggplot2\n",
      "Loading required package: repr\n"
     ]
    }
   ],
   "source": [
    "# 패키지 불러오기\n",
    "require(ggplot2)\n",
    "#require(dplyr)\n",
    "require(repr)\n",
    "options(repr.plot.width=10, repr.plot.height=3)"
   ]
  },
  {
   "cell_type": "code",
   "execution_count": 5,
   "metadata": {},
   "outputs": [],
   "source": [
    "# 삭제\n",
    "rm(list = ls())"
   ]
  },
  {
   "cell_type": "code",
   "execution_count": 121,
   "metadata": {},
   "outputs": [
    {
     "data": {
      "text/html": [
       "'Wilson'"
      ],
      "text/latex": [
       "'Wilson'"
      ],
      "text/markdown": [
       "'Wilson'"
      ],
      "text/plain": [
       "[1] \"Wilson\""
      ]
     },
     "metadata": {},
     "output_type": "display_data"
    },
    {
     "data": {
      "text/html": [
       "'Wilson'"
      ],
      "text/latex": [
       "'Wilson'"
      ],
      "text/markdown": [
       "'Wilson'"
      ],
      "text/plain": [
       "[1] \"Wilson\""
      ]
     },
     "metadata": {},
     "output_type": "display_data"
    },
    {
     "data": {
      "text/html": [
       "'swCurve'"
      ],
      "text/latex": [
       "'swCurve'"
      ],
      "text/markdown": [
       "'swCurve'"
      ],
      "text/plain": [
       "[1] \"swCurve\""
      ]
     },
     "metadata": {},
     "output_type": "display_data"
    },
    {
     "data": {
      "text/html": [
       "'swCurve'"
      ],
      "text/latex": [
       "'swCurve'"
      ],
      "text/markdown": [
       "'swCurve'"
      ],
      "text/plain": [
       "[1] \"swCurve\""
      ]
     },
     "metadata": {},
     "output_type": "display_data"
    },
    {
     "data": {
      "text/html": [
       "'initialize'"
      ],
      "text/latex": [
       "'initialize'"
      ],
      "text/markdown": [
       "'initialize'"
      ],
      "text/plain": [
       "[1] \"initialize\""
      ]
     },
     "metadata": {},
     "output_type": "display_data"
    }
   ],
   "source": [
    "# Smith-Wilson Class (S4) 정의\n",
    "setClass('Smith.Wilson',\n",
    "        representation(alpha=\"numeric\", UFR=\"numeric\", terms=\"numeric\", int=\"numeric\", zeta=\"numeric\"))\n",
    "\n",
    "# Wilson function 메소드 정의\n",
    "setGeneric(\"Wilson\", function(object, ...) standardGeneric(\"Wilson\"))\n",
    "setMethod(\"Wilson\", \"Smith.Wilson\", function(object,t,u){\n",
    "    y <- 1/(1+object@UFR)^(t+u)*(object@alpha*pmin(t,u) - 0.5*exp(-object@alpha*pmax(t,u))*(exp(object@alpha*pmin(t,u)) - exp(-object@alpha*pmin(t,u))))\n",
    "    return(y)\n",
    "})\n",
    "    \n",
    "# 금리 보정 결과 메소드\n",
    "setGeneric(\"swCurve\", function(object, ...) standardGeneric(\"swCurve\"))\n",
    "setMethod(\"swCurve\", \"Smith.Wilson\", function(object, t){\n",
    "    p <- 1/(1+object@UFR)^t + object@zeta %*% Wilson(object,t,object@terms)\n",
    "    y <- (1/p)^(1/t) - 1\n",
    "    return(y)\n",
    "})\n",
    "\n",
    "# 객체 초기화\n",
    "setMethod(\"initialize\", \"Smith.Wilson\", function(.Object, alpha, UFR, terms, int){\n",
    "    .Object@alpha <- alpha\n",
    "    .Object@UFR <- UFR\n",
    "    .Object@terms <- terms\n",
    "    .Object@int <- int\n",
    "    \n",
    "    W <- outer(terms, terms, FUN=function(x,y) Wilson(.Object, x, y))\n",
    "    m  <- 1/(1+int)^terms\n",
    "    mu <- 1/(1+UFR)^terms\n",
    "    .Object@zeta <- as.numeric((m-mu)%*%solve(W))\n",
    "    \n",
    "    return(.Object)\n",
    "})"
   ]
  },
  {
   "cell_type": "code",
   "execution_count": 122,
   "metadata": {},
   "outputs": [],
   "source": [
    "# 입력 데이터\n",
    "int.rate <- c(0.0187, 0.0209, 0.0215, 0.0231, 0.0238, 0.0244, 0.0246, 0.0244)\n",
    "maturity <- c(1,2,3,4,5,7,10,20)"
   ]
  },
  {
   "cell_type": "code",
   "execution_count": 213,
   "metadata": {},
   "outputs": [
    {
     "data": {},
     "metadata": {},
     "output_type": "display_data"
    },
    {
     "data": {
      "image/png": "[encoded data removed]",
      "text/plain": [
       "plot without title"
      ]
     },
     "metadata": {},
     "output_type": "display_data",
     "source": "R display func"
    }
   ],
   "source": [
    "# Smith-Wilson 객체 생성\n",
    "sw <- new(\"Smith.Wilson\", alpha=0.1, UFR=0.042, terms=maturity, int=int.rate)\n",
    "\n",
    "# 보정된 금리 생성\n",
    "t <- seq(0.01,100,by=0.5)\n",
    "int.rate.sw <- sapply(t, FUN=function(t) swCurve(sw, t))\n",
    "    \n",
    "# 그래프 출력\n",
    "ggplot() +\n",
    "    geom_line(aes(x=t, y=int.rate.sw)) +\n",
    "    geom_point(aes(x=maturity, y=int.rate)) +\n",
    "    labs(x='만기', y='금리', title='Smith-Wilson Method 로 보정된 금리기간구조')"
   ]
  },
  {
   "cell_type": "code",
   "execution_count": 211,
   "metadata": {},
   "outputs": [
    {
     "data": {
      "text/html": [
       "<dl>\n",
       "\t<dt>$minimum</dt>\n",
       "\t\t<dd>0.00432980086445873</dd>\n",
       "\t<dt>$objective</dt>\n",
       "\t\t<dd><table>\n",
       "<tbody>\n",
       "\t<tr><td>7.71773e-07</td></tr>\n",
       "</tbody>\n",
       "</table>\n",
       "</dd>\n",
       "</dl>\n"
      ],
      "text/latex": [
       "\\begin{description}\n",
       "\\item[\\$minimum] 0.00432980086445873\n",
       "\\item[\\$objective] \\begin{tabular}{l}\n",
       "\t 7.71773e-07\\\\\n",
       "\\end{tabular}\n",
       "\n",
       "\\end{description}\n"
      ],
      "text/markdown": [
       "$minimum\n",
       ":   0.00432980086445873\n",
       "$objective\n",
       ":   \n",
       "| 7.71773e-07 | \n",
       "\n",
       "\n",
       "\n",
       "\n",
       "\n"
      ],
      "text/plain": [
       "$minimum\n",
       "[1] 0.004329801\n",
       "\n",
       "$objective\n",
       "            [,1]\n",
       "[1,] 7.71773e-07\n"
      ]
     },
     "metadata": {},
     "output_type": "display_data"
    }
   ],
   "source": [
    "error <- function(alpha){\n",
    "    sw@alpha <- alpha\n",
    "    error <- abs(0.0001 - abs(swCurve(sw, 60) - UFR))\n",
    "    return(error)\n",
    "}\n",
    "\n",
    "optimize(error, interval=c(0,1), maximum=FALSE)"
   ]
  },
  {
   "cell_type": "code",
   "execution_count": 77,
   "metadata": {},
   "outputs": [],
   "source": [
    "# 입력 데이터\n",
    "int.rate <- c(0.0187, 0.0209, 0.0215, 0.0231, 0.0238, 0.0244, 0.0246, 0.0244)\n",
    "mat <- c(1,2,3,4,5,7,10,20)\n",
    "\n",
    "#1. Wilson Function\n",
    "wilson <- function(t,u, UFR=0.042, alpha=0.1) (1/(1+UFR)^(t+u))*(alpha*pmin(t,u) - 0.5*exp(-alpha*pmax(t,u))*(exp(alpha*pmin(t,u)) - exp(-alpha*pmin(t,u))))\n",
    "\n",
    "#1-1. Weight\n",
    "weight <- function(obs.mat, proj.mat, UFR=0.042, alpha=0.1) outer(obs.mat, proj.mat, FUN=function(x,y) wilson(x,y,UFR=UFR,alpha=alpha))\n",
    "\n",
    "#1.2. Bond Price\n",
    "bond.price <- function(int.rate, mat) 1/(1+int.rate)^mat\n",
    " \n",
    "#1.3. Loss Function\n",
    "tmp <- function(bond.price, mat, UFR) bond.price - 1/(1+UFR)^mat"
   ]
  }
 ],
 "metadata": {
  "kernelspec": {
   "display_name": "R",
   "language": "R",
   "name": "ir"
  },
  "language_info": {
   "codemirror_mode": "r",
   "file_extension": ".r",
   "mimetype": "text/x-r-source",
   "name": "R",
   "pygments_lexer": "r",
   "version": "3.4.3"
  }
 },
 "nbformat": 4,
 "nbformat_minor": 2
}
