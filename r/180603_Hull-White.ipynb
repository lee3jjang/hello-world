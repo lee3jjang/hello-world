{
 "cells": [
  {
   "cell_type": "code",
   "execution_count": 158,
   "metadata": {},
   "outputs": [],
   "source": [
    "# 패키지 불러오기\n",
    "require(ggplot2)\n",
    "require(repr)\n",
    "options(repr.plot.width=5, repr.plot.height=3)"
   ]
  },
  {
   "cell_type": "code",
   "execution_count": 159,
   "metadata": {},
   "outputs": [],
   "source": [
    "# 삭제\n",
    "rm(list = ls())"
   ]
  },
  {
   "cell_type": "code",
   "execution_count": 160,
   "metadata": {},
   "outputs": [
    {
     "data": {},
     "metadata": {},
     "output_type": "display_data"
    },
    {
     "data": {
      "image/png": "[encoded data removed]",
      "text/plain": [
       "plot without title"
      ]
     },
     "metadata": {},
     "output_type": "display_data",
     "source": "R display func"
    }
   ],
   "source": [
    "# 대조변수법\n",
    "Antithetic.rand <- function(scens, vars=1){\n",
    "    isodd = scens%%2\n",
    "    num = scens%/%2 + isodd\n",
    "    z <- matrix(rnorm(num*vars, mean=0, sd=1), num, vars)\n",
    "    value <- rbind(z,-z)\n",
    "    if(isodd == TRUE) value <- value[-1,]\n",
    "    return(scale(value))\n",
    "}\n",
    "    \n",
    "u <- Antithetic.rand(100000)\n",
    "ggplot() +\n",
    "    geom_histogram(aes(x=u), bins=100) +\n",
    "    labs(title='대조변수법으로 추출한 난수')"
   ]
  },
  {
   "cell_type": "code",
   "execution_count": 161,
   "metadata": {},
   "outputs": [
    {
     "data": {
      "text/html": [
       "'Wilson'"
      ],
      "text/latex": [
       "'Wilson'"
      ],
      "text/markdown": [
       "'Wilson'"
      ],
      "text/plain": [
       "[1] \"Wilson\""
      ]
     },
     "metadata": {},
     "output_type": "display_data"
    },
    {
     "data": {
      "text/html": [
       "'Wilson'"
      ],
      "text/latex": [
       "'Wilson'"
      ],
      "text/markdown": [
       "'Wilson'"
      ],
      "text/plain": [
       "[1] \"Wilson\""
      ]
     },
     "metadata": {},
     "output_type": "display_data"
    },
    {
     "data": {
      "text/html": [
       "'TermStr'"
      ],
      "text/latex": [
       "'TermStr'"
      ],
      "text/markdown": [
       "'TermStr'"
      ],
      "text/plain": [
       "[1] \"TermStr\""
      ]
     },
     "metadata": {},
     "output_type": "display_data"
    },
    {
     "data": {
      "text/html": [
       "'TermStr'"
      ],
      "text/latex": [
       "'TermStr'"
      ],
      "text/markdown": [
       "'TermStr'"
      ],
      "text/plain": [
       "[1] \"TermStr\""
      ]
     },
     "metadata": {},
     "output_type": "display_data"
    },
    {
     "data": {
      "text/html": [
       "'Forward'"
      ],
      "text/latex": [
       "'Forward'"
      ],
      "text/markdown": [
       "'Forward'"
      ],
      "text/plain": [
       "[1] \"Forward\""
      ]
     },
     "metadata": {},
     "output_type": "display_data"
    },
    {
     "data": {
      "text/html": [
       "'Forward'"
      ],
      "text/latex": [
       "'Forward'"
      ],
      "text/markdown": [
       "'Forward'"
      ],
      "text/plain": [
       "[1] \"Forward\""
      ]
     },
     "metadata": {},
     "output_type": "display_data"
    },
    {
     "data": {
      "text/html": [
       "'Bond'"
      ],
      "text/latex": [
       "'Bond'"
      ],
      "text/markdown": [
       "'Bond'"
      ],
      "text/plain": [
       "[1] \"Bond\""
      ]
     },
     "metadata": {},
     "output_type": "display_data"
    },
    {
     "data": {
      "text/html": [
       "'Bond'"
      ],
      "text/latex": [
       "'Bond'"
      ],
      "text/markdown": [
       "'Bond'"
      ],
      "text/plain": [
       "[1] \"Bond\""
      ]
     },
     "metadata": {},
     "output_type": "display_data"
    },
    {
     "data": {
      "text/html": [
       "'Calibration'"
      ],
      "text/latex": [
       "'Calibration'"
      ],
      "text/markdown": [
       "'Calibration'"
      ],
      "text/plain": [
       "[1] \"Calibration\""
      ]
     },
     "metadata": {},
     "output_type": "display_data"
    },
    {
     "data": {
      "text/html": [
       "'Calibration'"
      ],
      "text/latex": [
       "'Calibration'"
      ],
      "text/markdown": [
       "'Calibration'"
      ],
      "text/plain": [
       "[1] \"Calibration\""
      ]
     },
     "metadata": {},
     "output_type": "display_data"
    },
    {
     "data": {
      "text/html": [
       "'initialize'"
      ],
      "text/latex": [
       "'initialize'"
      ],
      "text/markdown": [
       "'initialize'"
      ],
      "text/plain": [
       "[1] \"initialize\""
      ]
     },
     "metadata": {},
     "output_type": "display_data"
    }
   ],
   "source": [
    "## Term Structure Class 정의\n",
    "\n",
    "# Smith-Wilson Class\n",
    "setClass('Smith.Wilson',\n",
    "        representation(alpha=\"numeric\", UFR=\"numeric\", terms=\"numeric\", int=\"numeric\", zeta=\"numeric\"))\n",
    "\n",
    "# Wilson function\n",
    "setGeneric(\"Wilson\", function(object, ...) standardGeneric(\"Wilson\"))\n",
    "setMethod(\"Wilson\", \"Smith.Wilson\", Vectorize(function(object,t,u,order=0){\n",
    "    if (order==0) {\n",
    "        y <- exp(-object@UFR*(t+u))*(object@alpha*pmin(t,u) - 0.5*exp(-object@alpha*pmax(t,u))*(exp(object@alpha*pmin(t,u)) - exp(-object@alpha*pmin(t,u))))\n",
    "    }else if(order==1){\n",
    "        if (t < u) y <- exp(-object@UFR*t-(object@alpha+object@UFR)*u)*(object@UFR*sinh(object@alpha*t)-object@alpha*cosh(object@alpha*t)-object@alpha*(object@UFR*t-1)*exp(object@alpha*u))\n",
    "        else y <- exp(-object@UFR*u-(object@alpha+object@UFR)*t)*((object@alpha+object@UFR)*sinh(object@alpha*u)-object@alpha*object@UFR*u*exp(object@alpha*t))\n",
    "    }else if(order==2){\n",
    "        if (t < u) y <- exp(-object@UFR*t-(object@alpha+object@UFR)*u)*(-(object@alpha^2+object@UFR^2)*sinh(object@alpha*t)+2*object@alpha*object@UFR*cosh(object@alpha*t)+object@alpha*object@UFR*(object@UFR*t-2)*exp(object@alpha*u)) \n",
    "        else y <- exp(-object@UFR*u-(object@alpha+object@UFR)*t)*(object@alpha*object@UFR^2*u*exp(object@alpha*t)-(object@alpha+object@UFR)^2*sinh(object@alpha*u))\n",
    "    }else print('유효한 order가 아닙니다.')\n",
    "    return(y)\n",
    "}, vectorize.args=c('t','u')))\n",
    "         \n",
    "# Term Structure\n",
    "setGeneric(\"TermStr\", function(object, ...) standardGeneric(\"TermStr\"))\n",
    "setMethod(\"TermStr\", \"Smith.Wilson\", function(object, t){\n",
    "    y <- (1/Bond(object,t))^(1/t) - 1\n",
    "    return(y)\n",
    "})\n",
    "\n",
    "# Forward Rate\n",
    "setGeneric(\"Forward\", function(object, ...) standardGeneric(\"Forward\"))\n",
    "setMethod(\"Forward\", \"Smith.Wilson\", Vectorize(function(object, t, order=0){\n",
    "    if (order==0) y <- -Bond(object,t,1)/Bond(object,t,0)\n",
    "    else if (order==1) y <- 1/Bond(object,t,0)*(-Bond(object,t,1)^2/Bond(object,t,0) + Bond(object,t,2))\n",
    "    else print('유효한 order가 아닙니다.')\n",
    "    return(y)\n",
    "}, vectorize.args='t'))\n",
    "        \n",
    "# Bond Price\n",
    "setGeneric(\"Bond\", function(object, ...) standardGeneric(\"Bond\"))\n",
    "setMethod(\"Bond\", \"Smith.Wilson\", Vectorize(function(object, t, order=0){\n",
    "    y <- (-object@UFR)^order*exp(-object@UFR*t) + object@zeta %*% Wilson(object, t, object@terms, order)\n",
    "    return(y)\n",
    "}, vectorize.args=\"t\"))\n",
    "    \n",
    "# Calibration\n",
    "setGeneric(\"Calibration\", function(object, ...) standardGeneric(\"Calibration\"))\n",
    "setMethod(\"Calibration\", \"Smith.Wilson\", function(object, alpha,tol=0.0001, M=60){\n",
    "    obj <- function(alpha){\n",
    "        object <- initialize(object,alpha=alpha,UFR=object@UFR,terms=object@terms,int=object@int)\n",
    "        error <- sqrt((tol-abs(Forward(object,M)-object@UFR))^2)\n",
    "        return(error)\n",
    "    }\n",
    "\n",
    "    alpha <- optimize(obj, interval=c(0,1))$minimum\n",
    "    return(alpha)\n",
    "})\n",
    "\n",
    "# Initialize\n",
    "setMethod(\"initialize\", \"Smith.Wilson\", function(.Object, alpha, UFR, terms, int){\n",
    "    .Object@alpha <- alpha\n",
    "    .Object@UFR <- UFR\n",
    "    .Object@terms <- terms\n",
    "    .Object@int <- int\n",
    "    \n",
    "    W <- outer(terms, terms, FUN=function(x,y) Wilson(.Object, x, y))\n",
    "    m  <- 1/(1+int)^terms\n",
    "    mu <- exp(-UFR*terms)\n",
    "    .Object@zeta <- as.numeric((m-mu)%*%solve(W))\n",
    "    \n",
    "    return(.Object)\n",
    "})"
   ]
  },
  {
   "cell_type": "code",
   "execution_count": 162,
   "metadata": {},
   "outputs": [],
   "source": [
    "# 입력 데이터\n",
    "int.rate <- c(0.0334,0.0326,0.0327,0.0328,0.033,0.0335,0.0342,0.0345,0.0347,0.0352)\n",
    "int.mat <- c(1,2,3,4,5,7,10,12,15,20)\n",
    "vol <- matrix (c(0.1815,0.172,0.17,0.1605,0.158,0.155,\n",
    "                 0.177,0.1715,0.17,0.158,0.1545,0.15,\n",
    "                 0.174,0.168,0.1655,0.1555,0.1495,0.1475,\n",
    "                 0.165,0.1575,0.157,0.1495,0.1455,0.144,\n",
    "                 0.165,0.1575,0.157,0.1535,0.1455,0.144,\n",
    "                 0.1665,0.159,0.1575,0.15,0.1455,0.14),\n",
    "                 ncol=6, byrow=TRUE)\n",
    "colnames(vol) <- rownames(vol) <- tenor <- c(1,2,3,5,7,10)"
   ]
  },
  {
   "cell_type": "code",
   "execution_count": 163,
   "metadata": {},
   "outputs": [],
   "source": [
    "sw <- new(\"Smith.Wilson\", alpha=0.1, UFR=0.042, terms=int.mat, int=int.rate)"
   ]
  },
  {
   "cell_type": "code",
   "execution_count": 164,
   "metadata": {},
   "outputs": [
    {
     "data": {
      "text/plain": [
       "An object of class \"Smith.Wilson\"\n",
       "Slot \"alpha\":\n",
       "[1] 0.09587148\n",
       "\n",
       "Slot \"UFR\":\n",
       "[1] 0.042\n",
       "\n",
       "Slot \"terms\":\n",
       " [1]  1  2  3  4  5  7 10 12 15 20\n",
       "\n",
       "Slot \"int\":\n",
       " [1] 0.0334 0.0326 0.0327 0.0328 0.0330 0.0335 0.0342 0.0345 0.0347 0.0352\n",
       "\n",
       "Slot \"zeta\":\n",
       " [1] -10.2191854  10.6553066  -6.1217538   2.7975629  -0.5479554   0.2245350\n",
       " [7]   0.1387420  -1.0091207   0.5506567   0.2627464\n"
      ]
     },
     "metadata": {},
     "output_type": "display_data"
    },
    {
     "data": {},
     "metadata": {},
     "output_type": "display_data"
    },
    {
     "data": {
      "image/png": "[encoded data removed]",
      "text/plain": [
       "plot without title"
      ]
     },
     "metadata": {},
     "output_type": "display_data",
     "source": "R display func"
    }
   ],
   "source": [
    "# Smith-Wilson 객체 생성\n",
    "sw <- new(\"Smith.Wilson\", alpha=0.1, UFR=0.042, terms=int.mat, int=int.rate)\n",
    "initialize(sw, alpha=Calibration(sw), UFR=0.042,terms=int.mat, int=int.rate)\n",
    "\n",
    "# 보정된 금리 생성\n",
    "t <- seq(0.01,100,by=0.05)\n",
    "int.rate.sw <- TermStr(sw, t)\n",
    "    \n",
    "# 그래프 출력\n",
    "ggplot() +\n",
    "    geom_line(aes(x=t, y=int.rate.sw)) +\n",
    "    geom_point(aes(x=int.mat, y=int.rate)) +\n",
    "    labs(x='만기', y='금리', title='Smith-Wilson Method 로 보정된 Interest Rates')"
   ]
  },
  {
   "cell_type": "code",
   "execution_count": 165,
   "metadata": {},
   "outputs": [
    {
     "data": {},
     "metadata": {},
     "output_type": "display_data"
    },
    {
     "data": {
      "image/png": "[encoded data removed]",
      "text/plain": [
       "plot without title"
      ]
     },
     "metadata": {},
     "output_type": "display_data",
     "source": "R display func"
    }
   ],
   "source": [
    "# 보정된 금리 생성\n",
    "t <- seq(0.01,100,by=0.05)\n",
    "int.rate.sw <- Forward(sw,t,order=0)\n",
    "    \n",
    "# 그래프 출력\n",
    "ggplot() +\n",
    "    geom_line(aes(x=t, y=int.rate.sw)) +\n",
    "    labs(x='만기', y='금리', title='Smith-Wilson Method 로 보정된 Forward Rates')"
   ]
  },
  {
   "cell_type": "code",
   "execution_count": 166,
   "metadata": {},
   "outputs": [
    {
     "data": {},
     "metadata": {},
     "output_type": "display_data"
    },
    {
     "data": {
      "image/png": "[encoded data removed]",
      "text/plain": [
       "plot without title"
      ]
     },
     "metadata": {},
     "output_type": "display_data",
     "source": "R display func"
    }
   ],
   "source": [
    "# 보정된 금리 생성\n",
    "t <- seq(0.01,100,by=0.05)\n",
    "int.rate.sw <- Forward(sw,t,order=1)\n",
    "\n",
    "# 그래프 출력\n",
    "ggplot() +\n",
    "    geom_line(aes(x=t, y=int.rate.sw)) +\n",
    "    labs(x='만기', y='금리', title='Smith-Wilson Method 로 보정된 1st Derivatives of Forward Rates')"
   ]
  },
  {
   "cell_type": "code",
   "execution_count": 167,
   "metadata": {},
   "outputs": [
    {
     "data": {
      "text/html": [
       "'Vol'"
      ],
      "text/latex": [
       "'Vol'"
      ],
      "text/markdown": [
       "'Vol'"
      ],
      "text/plain": [
       "[1] \"Vol\""
      ]
     },
     "metadata": {},
     "output_type": "display_data"
    },
    {
     "data": {
      "text/html": [
       "'A'"
      ],
      "text/latex": [
       "'A'"
      ],
      "text/markdown": [
       "'A'"
      ],
      "text/plain": [
       "[1] \"A\""
      ]
     },
     "metadata": {},
     "output_type": "display_data"
    },
    {
     "data": {
      "text/html": [
       "'B'"
      ],
      "text/latex": [
       "'B'"
      ],
      "text/markdown": [
       "'B'"
      ],
      "text/plain": [
       "[1] \"B\""
      ]
     },
     "metadata": {},
     "output_type": "display_data"
    },
    {
     "data": {
      "text/html": [
       "'fswap'"
      ],
      "text/latex": [
       "'fswap'"
      ],
      "text/markdown": [
       "'fswap'"
      ],
      "text/plain": [
       "[1] \"fswap\""
      ]
     },
     "metadata": {},
     "output_type": "display_data"
    },
    {
     "data": {
      "text/html": [
       "'fswap.cf'"
      ],
      "text/latex": [
       "'fswap.cf'"
      ],
      "text/markdown": [
       "'fswap.cf'"
      ],
      "text/plain": [
       "[1] \"fswap.cf\""
      ]
     },
     "metadata": {},
     "output_type": "display_data"
    },
    {
     "data": {
      "text/html": [
       "'Jamshidian'"
      ],
      "text/latex": [
       "'Jamshidian'"
      ],
      "text/markdown": [
       "'Jamshidian'"
      ],
      "text/plain": [
       "[1] \"Jamshidian\""
      ]
     },
     "metadata": {},
     "output_type": "display_data"
    },
    {
     "data": {
      "text/html": [
       "'ReceiverSwaption'"
      ],
      "text/latex": [
       "'ReceiverSwaption'"
      ],
      "text/markdown": [
       "'ReceiverSwaption'"
      ],
      "text/plain": [
       "[1] \"ReceiverSwaption\""
      ]
     },
     "metadata": {},
     "output_type": "display_data"
    },
    {
     "data": {
      "text/html": [
       "'Objective'"
      ],
      "text/latex": [
       "'Objective'"
      ],
      "text/markdown": [
       "'Objective'"
      ],
      "text/plain": [
       "[1] \"Objective\""
      ]
     },
     "metadata": {},
     "output_type": "display_data"
    }
   ],
   "source": [
    "setGeneric(\"Vol\", function(object, ...) standardGeneric(\"Vol\"))\n",
    "setGeneric(\"A\", function(object, ...) standardGeneric(\"A\"))\n",
    "setGeneric(\"B\", function(object, ...) standardGeneric(\"B\"))\n",
    "setGeneric(\"fswap\", function(object, ...) standardGeneric(\"fswap\"))\n",
    "setGeneric(\"fswap.cf\", function(object, ...) standardGeneric(\"fswap.cf\"))\n",
    "setGeneric(\"Jamshidian\", function(object, ...) standardGeneric(\"Jamshidian\"))\n",
    "setGeneric(\"ReceiverSwaption\", function(object, ...) standardGeneric(\"ReceiverSwaption\"))\n",
    "setGeneric(\"Objective\", function(object, ...) standardGeneric(\"Objective\"))"
   ]
  },
  {
   "cell_type": "code",
   "execution_count": 190,
   "metadata": {},
   "outputs": [
    {
     "data": {
      "text/html": [
       "'Bond'"
      ],
      "text/latex": [
       "'Bond'"
      ],
      "text/markdown": [
       "'Bond'"
      ],
      "text/plain": [
       "[1] \"Bond\""
      ]
     },
     "metadata": {},
     "output_type": "display_data"
    },
    {
     "data": {
      "text/html": [
       "'Vol'"
      ],
      "text/latex": [
       "'Vol'"
      ],
      "text/markdown": [
       "'Vol'"
      ],
      "text/plain": [
       "[1] \"Vol\""
      ]
     },
     "metadata": {},
     "output_type": "display_data"
    },
    {
     "data": {
      "text/html": [
       "'A'"
      ],
      "text/latex": [
       "'A'"
      ],
      "text/markdown": [
       "'A'"
      ],
      "text/plain": [
       "[1] \"A\""
      ]
     },
     "metadata": {},
     "output_type": "display_data"
    },
    {
     "data": {
      "text/html": [
       "'B'"
      ],
      "text/latex": [
       "'B'"
      ],
      "text/markdown": [
       "'B'"
      ],
      "text/plain": [
       "[1] \"B\""
      ]
     },
     "metadata": {},
     "output_type": "display_data"
    },
    {
     "data": {
      "text/html": [
       "'fswap'"
      ],
      "text/latex": [
       "'fswap'"
      ],
      "text/markdown": [
       "'fswap'"
      ],
      "text/plain": [
       "[1] \"fswap\""
      ]
     },
     "metadata": {},
     "output_type": "display_data"
    },
    {
     "data": {
      "text/html": [
       "'fswap.cf'"
      ],
      "text/latex": [
       "'fswap.cf'"
      ],
      "text/markdown": [
       "'fswap.cf'"
      ],
      "text/plain": [
       "[1] \"fswap.cf\""
      ]
     },
     "metadata": {},
     "output_type": "display_data"
    },
    {
     "data": {
      "text/html": [
       "'Jamshidian'"
      ],
      "text/latex": [
       "'Jamshidian'"
      ],
      "text/markdown": [
       "'Jamshidian'"
      ],
      "text/plain": [
       "[1] \"Jamshidian\""
      ]
     },
     "metadata": {},
     "output_type": "display_data"
    },
    {
     "data": {
      "text/html": [
       "'ReceiverSwaption'"
      ],
      "text/latex": [
       "'ReceiverSwaption'"
      ],
      "text/markdown": [
       "'ReceiverSwaption'"
      ],
      "text/plain": [
       "[1] \"ReceiverSwaption\""
      ]
     },
     "metadata": {},
     "output_type": "display_data"
    },
    {
     "data": {
      "text/html": [
       "'Objective'"
      ],
      "text/latex": [
       "'Objective'"
      ],
      "text/markdown": [
       "'Objective'"
      ],
      "text/plain": [
       "[1] \"Objective\""
      ]
     },
     "metadata": {},
     "output_type": "display_data"
    },
    {
     "data": {
      "text/html": [
       "'initialize'"
      ],
      "text/latex": [
       "'initialize'"
      ],
      "text/markdown": [
       "'initialize'"
      ],
      "text/plain": [
       "[1] \"initialize\""
      ]
     },
     "metadata": {},
     "output_type": "display_data"
    }
   ],
   "source": [
    "# Hull-White Class 정의\n",
    "setClass('Hull.White',\n",
    "        representation(alpha=\"numeric\", sigma=\"numeric\", termStr='Smith.Wilson', fswap.vol='matrix', fswap.tenor='numeric', fswap.rate='matrix', rs.black='matrix', N='numeric', tau='numeric'))\n",
    "\n",
    "# Bond Price\n",
    "setMethod(\"Bond\", \"Hull.White\", function(object,t,T,r,order=0){\n",
    "    if (order==0) y <- A(object,t,T)*exp(-B(object,t,T)*r)\n",
    "    else if(order==1) y <- -B(object,t,T)*Bond(object,t,T,r)\n",
    "    return(y)\n",
    "})\n",
    "\n",
    "# Volatility\n",
    "setMethod(\"Vol\", \"Hull.White\", function(object,T,S){\n",
    "    y <- object@sigma/object@alpha*(1-exp(-object@alpha*(S-T)))*sqrt((1-exp(-2*object@alpha*T))/(2*object@alpha))\n",
    "    return(y)\n",
    "})\n",
    "\n",
    "# A(t,T)\n",
    "setMethod(\"A\", \"Hull.White\", function(object,t,T){\n",
    "    y <- Bond(object@termStr,T)/Bond(object@termStr,t)*exp(B(object,t,T)*Forward(object@termStr, t) - object@sigma^2/(4*object@alpha)*B(object,t,T)^2*(1-exp(-2*object@alpha*t)))\n",
    "    return(y)\n",
    "})\n",
    " \n",
    "# B(t,T)\n",
    "setMethod(\"B\", \"Hull.White\", function(object,t,T){\n",
    "    y <- (1-exp(-object@alpha*(T-t)))/object@alpha\n",
    "    return(y)\n",
    "})\n",
    "\n",
    "# Forward Swap Rate\n",
    "setMethod(\"fswap\", \"Hull.White\", Vectorize(function(object,T,S, tau=0.25){\n",
    "    (Bond(object@termStr, T)-Bond(object@termStr, S))/(tau*sum(Bond(object@termStr, seq(T+tau,S,tau))))\n",
    "}, vectorize.args = c('T','S')))\n",
    "\n",
    "# Forward Swap Rate Cash flow\n",
    "setMethod(\"fswap.cf\", \"Hull.White\", function(object,T,S,tau=object@tau){\n",
    "    c <- rep(fswap(object,T,S)*object@tau,(S-T)/tau)\n",
    "    c[(S-T)/tau] <- 1+c[(S-T)/tau]\n",
    "    return(c)\n",
    "})\n",
    "\n",
    "# Jamshidian's Trick\n",
    "setMethod(\"Jamshidian\", \"Hull.White\", Vectorize(function(object,T,S,tau=object@tau){\n",
    "    #r = optimize(function(r) abs(sum(fswap.cf(object,T,S)*Bond(object, T, seq(T+tau, S, by=tau), r=r))-1), interval=c(0,1))$minimum\n",
    "    T.i <- seq(T+tau,S,by=tau)\n",
    "    f <- function(r) (sum(fswap.cf(object,T,S)*Bond(object,T,T.i,r=r))-1)^2\n",
    "    grad <- function(r) 2*(sum(fswap.cf(object,T,S)*Bond(object,T,T.i,r=r))-1)*sum(fswap.cf(object,T,S)*Bond(object,T,T.i,r=r,order=1))\n",
    "    r <- optim(0.03, f, grad, method='Brent', lower=0.01, upper=0.05)$par\n",
    "    return(r)\n",
    "}, vectorize.args=c(\"T\",\"S\")))\n",
    "\n",
    "# Hull-White Swaption\n",
    "setMethod(\"ReceiverSwaption\", \"Hull.White\", Vectorize(function(object,T,S,tau=object@tau){\n",
    "    r <- Jamshidian(object,T,S)\n",
    "    T.i <- seq(T+tau, S, by=tau)\n",
    "    X <- Bond(object, T, T.i, r)\n",
    "    di.pos <- 1/Vol(object, T=T,S=T.i)*log(Bond(object, t=0,T=T.i,r=r)/Bond(object,t=0,T=T,r=r)/X) + Vol(object,T=T,S=T.i)/2\n",
    "    di.neg <- di.pos - Vol(object,T=T,S=T.i)\n",
    "    y <- object@N*sum(fswap.cf(object,T=T,S=S,tau=tau)*(Bond(object,t=0,T=T.i,r=r)*pnorm(di.pos) - X*Bond(object,t=0,T=T,r=r)*pnorm(di.neg)))\n",
    "    return(y)\n",
    "}, vectorize.args=c(\"T\",\"S\")))     \n",
    "    \n",
    "# Objective Function\n",
    "setMethod(\"Objective\", \"Hull.White\", Vectorize(function(object,alpha,sigma){\n",
    "    object@alpha <- alpha\n",
    "    object@sigma <- sigma\n",
    "    #obj <- sqrt(sum((ReceiverSwaption(object,rev(tenor),tenor+rev(tenor))-diag(object@rs.black[length(object@fswap.tenor):1,]))^2))\n",
    "    #obj <- sum(((ReceiverSwaption(object,rev(tenor),tenor+rev(tenor))-diag(object@rs.black[length(object@fswap.tenor):1,]))/diag(object@rs.black[length(object@fswap.tenor):1,]))^2)\n",
    "    #obj <- sum(((ReceiverSwaption(object,tenor,tenor+tenor)-diag(object@rs.black))/diag(object@rs.black))^2)\n",
    "    obj <- sum(((outer(tenor,tenor, FUN=function(x,y) ReceiverSwaption(object,x,x+y)) - object@rs.black)/object@rs.black)^2)\n",
    "    return(obj)\n",
    "},vectorize.args=c(\"alpha\",\"sigma\")))    \n",
    "\n",
    "# 객체 초기화\n",
    "setMethod(\"initialize\", \"Hull.White\", function(.Object, alpha, sigma, termStr, fswap.vol, fswap.tenor, tau=0.25, N=100){\n",
    "    .Object@alpha <- alpha\n",
    "    .Object@sigma <- sigma\n",
    "    .Object@termStr <- termStr\n",
    "    colnames(fswap.vol) <- rownames(fswap.vol) <- fswap.tenor\n",
    "    .Object@fswap.vol <- fswap.vol\n",
    "    .Object@fswap.tenor <- fswap.tenor\n",
    "    # 0 < tau or tau > 1 이면 Raise Error\n",
    "    .Object@tau <- tau\n",
    "    .Object@N <- N\n",
    "    \n",
    "    fswap.rate <- outer(fswap.tenor, fswap.tenor, function(T,S) fswap(.Object,T,T+S,tau))\n",
    "    rownames(fswap.rate) <- fswap.tenor\n",
    "    colnames(fswap.rate) <- fswap.tenor\n",
    "    .Object@fswap.rate <- fswap.rate   \n",
    "        \n",
    "    # Black Swaption\n",
    "    price.alpha <- outer(fswap.tenor, fswap.tenor, FUN=function(x,y) Bond(termStr, x))\n",
    "    price.beta <- outer(fswap.tenor, fswap.tenor, FUN=function(x,y) Bond(termStr, x+y))\n",
    "    d1 <- 0.5*fswap.vol*sqrt(fswap.tenor)\n",
    "    .Object@rs.black <- N*(price.alpha - price.beta)*(2*pnorm(d1, mean=0, sd=1)-1)\n",
    "    \n",
    "    return(.Object)\n",
    "})"
   ]
  },
  {
   "cell_type": "code",
   "execution_count": 169,
   "metadata": {},
   "outputs": [],
   "source": [
    "vol <- matrix(c(0.1815,0.172,0.17,0.1605,0.158,0.155,\n",
    "                0.177,0.1715,0.17,0.158,0.1545,0.15,\n",
    "                0.174,0.168,0.1655,0.1555,0.1495,0.1475,\n",
    "                0.165,0.1575,0.157,0.1495,0.1455,0.144,\n",
    "                0.165,0.1575,0.157,0.1535,0.1455,0.144,\n",
    "                0.1665,0.159,0.1575,0.15,0.1455,0.1404),\n",
    "                ncol=6, byrow=TRUE)\n",
    "tenor <- c(1,2,3,5,7,10)"
   ]
  },
  {
   "cell_type": "code",
   "execution_count": 170,
   "metadata": {},
   "outputs": [
    {
     "data": {
      "text/plain": [
       "An object of class \"Hull.White\"\n",
       "Slot \"alpha\":\n",
       "[1] 0.05\n",
       "\n",
       "Slot \"sigma\":\n",
       "[1] 0.006\n",
       "\n",
       "Slot \"termStr\":\n",
       "An object of class \"Smith.Wilson\"\n",
       "Slot \"alpha\":\n",
       "[1] 0.1\n",
       "\n",
       "Slot \"UFR\":\n",
       "[1] 0.042\n",
       "\n",
       "Slot \"terms\":\n",
       " [1]  1  2  3  4  5  7 10 12 15 20\n",
       "\n",
       "Slot \"int\":\n",
       " [1] 0.0334 0.0326 0.0327 0.0328 0.0330 0.0335 0.0342 0.0345 0.0347 0.0352\n",
       "\n",
       "Slot \"zeta\":\n",
       " [1] -9.0067566  9.3904523 -5.3943877  2.4657602 -0.4821331  0.1994018\n",
       " [7]  0.1203538 -0.8840752  0.4721104  0.2565725\n",
       "\n",
       "\n",
       "Slot \"fswap.vol\":\n",
       "        1      2      3      5      7     10\n",
       "1  0.1815 0.1720 0.1700 0.1605 0.1580 0.1550\n",
       "2  0.1770 0.1715 0.1700 0.1580 0.1545 0.1500\n",
       "3  0.1740 0.1680 0.1655 0.1555 0.1495 0.1475\n",
       "5  0.1650 0.1575 0.1570 0.1495 0.1455 0.1440\n",
       "7  0.1650 0.1575 0.1570 0.1535 0.1455 0.1440\n",
       "10 0.1665 0.1590 0.1575 0.1500 0.1455 0.1404\n",
       "\n",
       "Slot \"fswap.tenor\":\n",
       "[1]  1  2  3  5  7 10\n",
       "\n",
       "Slot \"fswap.rate\":\n",
       "            1          2          3          5          7         10\n",
       "1  0.03142883 0.03195556 0.03219456 0.03276703 0.03330535 0.03389820\n",
       "2  0.03249935 0.03259627 0.03284839 0.03340048 0.03388200 0.03432395\n",
       "3  0.03269639 0.03303165 0.03335390 0.03391086 0.03432826 0.03460872\n",
       "5  0.03403162 0.03430102 0.03454853 0.03491211 0.03507273 0.03506352\n",
       "7  0.03506999 0.03524001 0.03535646 0.03542125 0.03531833 0.03533851\n",
       "10 0.03562146 0.03552745 0.03538979 0.03524404 0.03532936 0.03566851\n",
       "\n",
       "Slot \"rs.black\":\n",
       "           1         2         3         5        7       10\n",
       "1  0.2156563 0.4091251 0.6014401 0.9328942 1.265111 1.718248\n",
       "2  0.2975359 0.5691316 0.8391249 1.2795903 1.719499 2.299471\n",
       "3  0.3484518 0.6689291 0.9818963 1.5127983 1.993963 2.695706\n",
       "5  0.4146125 0.7847689 1.1619576 1.8017969 2.384505 3.206093\n",
       "7  0.4707874 0.8881613 1.3094864 2.0657912 2.643937 3.558126\n",
       "10 0.5168802 0.9684608 1.4090658 2.1546571 2.837103 3.755933\n",
       "\n",
       "Slot \"N\":\n",
       "[1] 100\n",
       "\n",
       "Slot \"tau\":\n",
       "[1] 0.25\n"
      ]
     },
     "metadata": {},
     "output_type": "display_data"
    }
   ],
   "source": [
    "(hw <- new(\"Hull.White\", alpha=0.05, sigma=0.006, termStr=sw, fswap.vol=vol, fswap.tenor=tenor))"
   ]
  },
  {
   "cell_type": "code",
   "execution_count": 199,
   "metadata": {},
   "outputs": [
    {
     "data": {
      "text/html": [
       "<ol class=list-inline>\n",
       "\t<li>0.0112067427660259</li>\n",
       "\t<li>0.00501016828438452</li>\n",
       "</ol>\n"
      ],
      "text/latex": [
       "\\begin{enumerate*}\n",
       "\\item 0.0112067427660259\n",
       "\\item 0.00501016828438452\n",
       "\\end{enumerate*}\n"
      ],
      "text/markdown": [
       "1. 0.0112067427660259\n",
       "2. 0.00501016828438452\n",
       "\n",
       "\n"
      ],
      "text/plain": [
       "[1] 0.011206743 0.005010168"
      ]
     },
     "metadata": {},
     "output_type": "display_data"
    }
   ],
   "source": [
    "# Global\n",
    "# alpha = 3.75e-1, sigma = 1.82e-2\n",
    "(p <- constrOptim(c(0.0112067427660259,0.00501016828438452), function(p) Objective(hw,p[1],p[2]), grad=NULL, ui = matrix(c(1,-1,0,0,0,0,1,-1),nrow=4), ci = c(0.0e-1,-3.0e-2,0.0e-2,-1.0e-2))$par)"
   ]
  },
  {
   "cell_type": "code",
   "execution_count": 141,
   "metadata": {},
   "outputs": [
    {
     "data": {
      "text/html": [
       "0.00543519590259274"
      ],
      "text/latex": [
       "0.00543519590259274"
      ],
      "text/markdown": [
       "0.00543519590259274"
      ],
      "text/plain": [
       "[1] 0.005435196"
      ]
     },
     "metadata": {},
     "output_type": "display_data"
    }
   ],
   "source": [
    "# Local\n",
    "hw@alpha <- 0.0279\n",
    "(sigma <- optimize(function(sigma) Objective(hw,hw@alpha,sigma), interval=c(0,0.1))$minimum)"
   ]
  },
  {
   "cell_type": "code",
   "execution_count": 187,
   "metadata": {},
   "outputs": [
    {
     "data": {
      "text/html": [
       "<table>\n",
       "<thead><tr><th></th><th scope=col>1</th><th scope=col>2</th><th scope=col>3</th><th scope=col>5</th><th scope=col>7</th><th scope=col>10</th></tr></thead>\n",
       "<tbody>\n",
       "\t<tr><th scope=row>1</th><td>0.2156563</td><td>0.4091251</td><td>0.6014401</td><td>0.9328942</td><td>1.265111 </td><td>1.718248 </td></tr>\n",
       "\t<tr><th scope=row>2</th><td>0.2975359</td><td>0.5691316</td><td>0.8391249</td><td>1.2795903</td><td>1.719499 </td><td>2.299471 </td></tr>\n",
       "\t<tr><th scope=row>3</th><td>0.3484518</td><td>0.6689291</td><td>0.9818963</td><td>1.5127983</td><td>1.993963 </td><td>2.695706 </td></tr>\n",
       "\t<tr><th scope=row>5</th><td>0.4146125</td><td>0.7847689</td><td>1.1619576</td><td>1.8017969</td><td>2.384505 </td><td>3.206093 </td></tr>\n",
       "\t<tr><th scope=row>7</th><td>0.4707874</td><td>0.8881613</td><td>1.3094864</td><td>2.0657912</td><td>2.643937 </td><td>3.558126 </td></tr>\n",
       "\t<tr><th scope=row>10</th><td>0.5168802</td><td>0.9684608</td><td>1.4090658</td><td>2.1546571</td><td>2.837103 </td><td>3.755933 </td></tr>\n",
       "</tbody>\n",
       "</table>\n"
      ],
      "text/latex": [
       "\\begin{tabular}{r|llllll}\n",
       "  & 1 & 2 & 3 & 5 & 7 & 10\\\\\n",
       "\\hline\n",
       "\t1 & 0.2156563 & 0.4091251 & 0.6014401 & 0.9328942 & 1.265111  & 1.718248 \\\\\n",
       "\t2 & 0.2975359 & 0.5691316 & 0.8391249 & 1.2795903 & 1.719499  & 2.299471 \\\\\n",
       "\t3 & 0.3484518 & 0.6689291 & 0.9818963 & 1.5127983 & 1.993963  & 2.695706 \\\\\n",
       "\t5 & 0.4146125 & 0.7847689 & 1.1619576 & 1.8017969 & 2.384505  & 3.206093 \\\\\n",
       "\t7 & 0.4707874 & 0.8881613 & 1.3094864 & 2.0657912 & 2.643937  & 3.558126 \\\\\n",
       "\t10 & 0.5168802 & 0.9684608 & 1.4090658 & 2.1546571 & 2.837103  & 3.755933 \\\\\n",
       "\\end{tabular}\n"
      ],
      "text/markdown": [
       "\n",
       "| <!--/--> | 1 | 2 | 3 | 5 | 7 | 10 | \n",
       "|---|---|---|---|---|---|\n",
       "| 1 | 0.2156563 | 0.4091251 | 0.6014401 | 0.9328942 | 1.265111  | 1.718248  | \n",
       "| 2 | 0.2975359 | 0.5691316 | 0.8391249 | 1.2795903 | 1.719499  | 2.299471  | \n",
       "| 3 | 0.3484518 | 0.6689291 | 0.9818963 | 1.5127983 | 1.993963  | 2.695706  | \n",
       "| 5 | 0.4146125 | 0.7847689 | 1.1619576 | 1.8017969 | 2.384505  | 3.206093  | \n",
       "| 7 | 0.4707874 | 0.8881613 | 1.3094864 | 2.0657912 | 2.643937  | 3.558126  | \n",
       "| 10 | 0.5168802 | 0.9684608 | 1.4090658 | 2.1546571 | 2.837103  | 3.755933  | \n",
       "\n",
       "\n"
      ],
      "text/plain": [
       "   1         2         3         5         7        10      \n",
       "1  0.2156563 0.4091251 0.6014401 0.9328942 1.265111 1.718248\n",
       "2  0.2975359 0.5691316 0.8391249 1.2795903 1.719499 2.299471\n",
       "3  0.3484518 0.6689291 0.9818963 1.5127983 1.993963 2.695706\n",
       "5  0.4146125 0.7847689 1.1619576 1.8017969 2.384505 3.206093\n",
       "7  0.4707874 0.8881613 1.3094864 2.0657912 2.643937 3.558126\n",
       "10 0.5168802 0.9684608 1.4090658 2.1546571 2.837103 3.755933"
      ]
     },
     "metadata": {},
     "output_type": "display_data"
    }
   ],
   "source": [
    "hw@rs.black"
   ]
  },
  {
   "cell_type": "code",
   "execution_count": 200,
   "metadata": {},
   "outputs": [
    {
     "data": {
      "text/html": [
       "<table>\n",
       "<tbody>\n",
       "\t<tr><td>0.2900344</td><td>0.5591304</td><td>0.8086087</td><td>1.252985 </td><td>1.631890 </td><td>2.096514 </td></tr>\n",
       "\t<tr><td>0.3682269</td><td>0.7105457</td><td>1.0283238</td><td>1.595616 </td><td>2.080915 </td><td>2.679291 </td></tr>\n",
       "\t<tr><td>0.3686580</td><td>0.7114822</td><td>1.0298068</td><td>1.598418 </td><td>2.085555 </td><td>2.688327 </td></tr>\n",
       "\t<tr><td>0.3818842</td><td>0.7369612</td><td>1.0666884</td><td>1.656147 </td><td>2.162655 </td><td>2.792097 </td></tr>\n",
       "\t<tr><td>0.3741625</td><td>0.7218543</td><td>1.0446777</td><td>1.622299 </td><td>2.119844 </td><td>2.736476 </td></tr>\n",
       "\t<tr><td>0.3664520</td><td>0.7069612</td><td>1.0233527</td><td>1.589956 </td><td>2.076666 </td><td>2.676723 </td></tr>\n",
       "</tbody>\n",
       "</table>\n"
      ],
      "text/latex": [
       "\\begin{tabular}{llllll}\n",
       "\t 0.2900344 & 0.5591304 & 0.8086087 & 1.252985  & 1.631890  & 2.096514 \\\\\n",
       "\t 0.3682269 & 0.7105457 & 1.0283238 & 1.595616  & 2.080915  & 2.679291 \\\\\n",
       "\t 0.3686580 & 0.7114822 & 1.0298068 & 1.598418  & 2.085555  & 2.688327 \\\\\n",
       "\t 0.3818842 & 0.7369612 & 1.0666884 & 1.656147  & 2.162655  & 2.792097 \\\\\n",
       "\t 0.3741625 & 0.7218543 & 1.0446777 & 1.622299  & 2.119844  & 2.736476 \\\\\n",
       "\t 0.3664520 & 0.7069612 & 1.0233527 & 1.589956  & 2.076666  & 2.676723 \\\\\n",
       "\\end{tabular}\n"
      ],
      "text/markdown": [
       "\n",
       "| 0.2900344 | 0.5591304 | 0.8086087 | 1.252985  | 1.631890  | 2.096514  | \n",
       "| 0.3682269 | 0.7105457 | 1.0283238 | 1.595616  | 2.080915  | 2.679291  | \n",
       "| 0.3686580 | 0.7114822 | 1.0298068 | 1.598418  | 2.085555  | 2.688327  | \n",
       "| 0.3818842 | 0.7369612 | 1.0666884 | 1.656147  | 2.162655  | 2.792097  | \n",
       "| 0.3741625 | 0.7218543 | 1.0446777 | 1.622299  | 2.119844  | 2.736476  | \n",
       "| 0.3664520 | 0.7069612 | 1.0233527 | 1.589956  | 2.076666  | 2.676723  | \n",
       "\n",
       "\n"
      ],
      "text/plain": [
       "     [,1]      [,2]      [,3]      [,4]     [,5]     [,6]    \n",
       "[1,] 0.2900344 0.5591304 0.8086087 1.252985 1.631890 2.096514\n",
       "[2,] 0.3682269 0.7105457 1.0283238 1.595616 2.080915 2.679291\n",
       "[3,] 0.3686580 0.7114822 1.0298068 1.598418 2.085555 2.688327\n",
       "[4,] 0.3818842 0.7369612 1.0666884 1.656147 2.162655 2.792097\n",
       "[5,] 0.3741625 0.7218543 1.0446777 1.622299 2.119844 2.736476\n",
       "[6,] 0.3664520 0.7069612 1.0233527 1.589956 2.076666 2.676723"
      ]
     },
     "metadata": {},
     "output_type": "display_data"
    }
   ],
   "source": [
    "hw@alpha <- 0.05\n",
    "hw@sigma <- 0.006\n",
    "outer(tenor,tenor,function(x,y) ReceiverSwaption(hw,x,x+y))"
   ]
  },
  {
   "cell_type": "code",
   "execution_count": 201,
   "metadata": {},
   "outputs": [
    {
     "data": {
      "text/html": [
       "<table>\n",
       "<tbody>\n",
       "\t<tr><td>0.2973745</td><td>0.5795566</td><td>0.8471582</td><td>1.340250 </td><td>1.780567 </td><td>2.352605 </td></tr>\n",
       "\t<tr><td>0.3824288</td><td>0.7461950</td><td>1.0917812</td><td>1.730483 </td><td>2.303335 </td><td>3.052748 </td></tr>\n",
       "\t<tr><td>0.3861169</td><td>0.7536803</td><td>1.1031301</td><td>1.749840 </td><td>2.331295 </td><td>3.095531 </td></tr>\n",
       "\t<tr><td>0.4064191</td><td>0.7936641</td><td>1.1622386</td><td>1.845944 </td><td>2.463718 </td><td>3.281107 </td></tr>\n",
       "\t<tr><td>0.4029714</td><td>0.7871148</td><td>1.1530675</td><td>1.833520 </td><td>2.451017 </td><td>3.267876 </td></tr>\n",
       "\t<tr><td>0.4020754</td><td>0.7859424</td><td>1.1524602</td><td>1.836051 </td><td>2.456523 </td><td>3.275967 </td></tr>\n",
       "</tbody>\n",
       "</table>\n"
      ],
      "text/latex": [
       "\\begin{tabular}{llllll}\n",
       "\t 0.2973745 & 0.5795566 & 0.8471582 & 1.340250  & 1.780567  & 2.352605 \\\\\n",
       "\t 0.3824288 & 0.7461950 & 1.0917812 & 1.730483  & 2.303335  & 3.052748 \\\\\n",
       "\t 0.3861169 & 0.7536803 & 1.1031301 & 1.749840  & 2.331295  & 3.095531 \\\\\n",
       "\t 0.4064191 & 0.7936641 & 1.1622386 & 1.845944  & 2.463718  & 3.281107 \\\\\n",
       "\t 0.4029714 & 0.7871148 & 1.1530675 & 1.833520  & 2.451017  & 3.267876 \\\\\n",
       "\t 0.4020754 & 0.7859424 & 1.1524602 & 1.836051  & 2.456523  & 3.275967 \\\\\n",
       "\\end{tabular}\n"
      ],
      "text/markdown": [
       "\n",
       "| 0.2973745 | 0.5795566 | 0.8471582 | 1.340250  | 1.780567  | 2.352605  | \n",
       "| 0.3824288 | 0.7461950 | 1.0917812 | 1.730483  | 2.303335  | 3.052748  | \n",
       "| 0.3861169 | 0.7536803 | 1.1031301 | 1.749840  | 2.331295  | 3.095531  | \n",
       "| 0.4064191 | 0.7936641 | 1.1622386 | 1.845944  | 2.463718  | 3.281107  | \n",
       "| 0.4029714 | 0.7871148 | 1.1530675 | 1.833520  | 2.451017  | 3.267876  | \n",
       "| 0.4020754 | 0.7859424 | 1.1524602 | 1.836051  | 2.456523  | 3.275967  | \n",
       "\n",
       "\n"
      ],
      "text/plain": [
       "     [,1]      [,2]      [,3]      [,4]     [,5]     [,6]    \n",
       "[1,] 0.2973745 0.5795566 0.8471582 1.340250 1.780567 2.352605\n",
       "[2,] 0.3824288 0.7461950 1.0917812 1.730483 2.303335 3.052748\n",
       "[3,] 0.3861169 0.7536803 1.1031301 1.749840 2.331295 3.095531\n",
       "[4,] 0.4064191 0.7936641 1.1622386 1.845944 2.463718 3.281107\n",
       "[5,] 0.4029714 0.7871148 1.1530675 1.833520 2.451017 3.267876\n",
       "[6,] 0.4020754 0.7859424 1.1524602 1.836051 2.456523 3.275967"
      ]
     },
     "metadata": {},
     "output_type": "display_data"
    }
   ],
   "source": [
    "hw@alpha <- 0.0279\n",
    "hw@sigma <- 0.006\n",
    "outer(tenor,tenor,function(x,y) ReceiverSwaption(hw,x,x+y))"
   ]
  },
  {
   "cell_type": "code",
   "execution_count": 194,
   "metadata": {},
   "outputs": [
    {
     "data": {
      "text/html": [
       "<table>\n",
       "<tbody>\n",
       "\t<tr><td>0.2666410</td><td>0.5236863</td><td>0.7713630</td><td>1.238819 </td><td>1.670121 </td><td>2.254066 </td></tr>\n",
       "\t<tr><td>0.3431629</td><td>0.6747261</td><td>0.9947443</td><td>1.600514 </td><td>2.161911 </td><td>2.927459 </td></tr>\n",
       "\t<tr><td>0.3393823</td><td>0.6675592</td><td>0.9845562</td><td>1.585479 </td><td>2.143854 </td><td>2.909079 </td></tr>\n",
       "\t<tr><td>0.3539788</td><td>0.6967037</td><td>1.0282487</td><td>1.658612 </td><td>2.247757 </td><td>3.061505 </td></tr>\n",
       "\t<tr><td>0.3487447</td><td>0.6867582</td><td>1.0142331</td><td>1.638893 </td><td>2.225944 </td><td>3.038052 </td></tr>\n",
       "\t<tr><td>0.3512508</td><td>0.6925883</td><td>1.0244066</td><td>1.660384 </td><td>2.259642 </td><td>3.089883 </td></tr>\n",
       "</tbody>\n",
       "</table>\n"
      ],
      "text/latex": [
       "\\begin{tabular}{llllll}\n",
       "\t 0.2666410 & 0.5236863 & 0.7713630 & 1.238819  & 1.670121  & 2.254066 \\\\\n",
       "\t 0.3431629 & 0.6747261 & 0.9947443 & 1.600514  & 2.161911  & 2.927459 \\\\\n",
       "\t 0.3393823 & 0.6675592 & 0.9845562 & 1.585479  & 2.143854  & 2.909079 \\\\\n",
       "\t 0.3539788 & 0.6967037 & 1.0282487 & 1.658612  & 2.247757  & 3.061505 \\\\\n",
       "\t 0.3487447 & 0.6867582 & 1.0142331 & 1.638893  & 2.225944  & 3.038052 \\\\\n",
       "\t 0.3512508 & 0.6925883 & 1.0244066 & 1.660384  & 2.259642  & 3.089883 \\\\\n",
       "\\end{tabular}\n"
      ],
      "text/markdown": [
       "\n",
       "| 0.2666410 | 0.5236863 | 0.7713630 | 1.238819  | 1.670121  | 2.254066  | \n",
       "| 0.3431629 | 0.6747261 | 0.9947443 | 1.600514  | 2.161911  | 2.927459  | \n",
       "| 0.3393823 | 0.6675592 | 0.9845562 | 1.585479  | 2.143854  | 2.909079  | \n",
       "| 0.3539788 | 0.6967037 | 1.0282487 | 1.658612  | 2.247757  | 3.061505  | \n",
       "| 0.3487447 | 0.6867582 | 1.0142331 | 1.638893  | 2.225944  | 3.038052  | \n",
       "| 0.3512508 | 0.6925883 | 1.0244066 | 1.660384  | 2.259642  | 3.089883  | \n",
       "\n",
       "\n"
      ],
      "text/plain": [
       "     [,1]      [,2]      [,3]      [,4]     [,5]     [,6]    \n",
       "[1,] 0.2666410 0.5236863 0.7713630 1.238819 1.670121 2.254066\n",
       "[2,] 0.3431629 0.6747261 0.9947443 1.600514 2.161911 2.927459\n",
       "[3,] 0.3393823 0.6675592 0.9845562 1.585479 2.143854 2.909079\n",
       "[4,] 0.3539788 0.6967037 1.0282487 1.658612 2.247757 3.061505\n",
       "[5,] 0.3487447 0.6867582 1.0142331 1.638893 2.225944 3.038052\n",
       "[6,] 0.3512508 0.6925883 1.0244066 1.660384 2.259642 3.089883"
      ]
     },
     "metadata": {},
     "output_type": "display_data"
    }
   ],
   "source": [
    "hw@alpha <- 0.0112067427660259\n",
    "hw@sigma <- 0.00501016828438452\n",
    "outer(tenor,tenor,function(x,y) ReceiverSwaption(hw,x,x+y))"
   ]
  },
  {
   "cell_type": "code",
   "execution_count": 203,
   "metadata": {},
   "outputs": [
    {
     "data": {
      "text/html": [
       "1.96034235460038"
      ],
      "text/latex": [
       "1.96034235460038"
      ],
      "text/markdown": [
       "1.96034235460038"
      ],
      "text/plain": [
       "[1] 1.960342"
      ]
     },
     "metadata": {},
     "output_type": "display_data"
    },
    {
     "data": {
      "text/html": [
       "1.69981706826479"
      ],
      "text/latex": [
       "1.69981706826479"
      ],
      "text/markdown": [
       "1.69981706826479"
      ],
      "text/plain": [
       "[1] 1.699817"
      ]
     },
     "metadata": {},
     "output_type": "display_data"
    },
    {
     "data": {
      "text/html": [
       "1.53355333351314"
      ],
      "text/latex": [
       "1.53355333351314"
      ],
      "text/markdown": [
       "1.53355333351314"
      ],
      "text/plain": [
       "[1] 1.533553"
      ]
     },
     "metadata": {},
     "output_type": "display_data"
    }
   ],
   "source": [
    "(Objective(hw,0.0279,0.006))\n",
    "(Objective(hw,0.05,0.006))\n",
    "(Objective(hw,0.0112067427660259,0.00501016828438452))"
   ]
  }
 ],
 "metadata": {
  "kernelspec": {
   "display_name": "R",
   "language": "R",
   "name": "ir"
  },
  "language_info": {
   "codemirror_mode": "r",
   "file_extension": ".r",
   "mimetype": "text/x-r-source",
   "name": "R",
   "pygments_lexer": "r",
   "version": "3.4.3"
  }
 },
 "nbformat": 4,
 "nbformat_minor": 2
}
