{
 "cells": [
  {
   "cell_type": "code",
   "execution_count": 317,
   "metadata": {},
   "outputs": [],
   "source": [
    "# 패키지 불러오기\n",
    "require(ggplot2)\n",
    "require(repr)\n",
    "options(repr.plot.width=10, repr.plot.height=3)"
   ]
  },
  {
   "cell_type": "code",
   "execution_count": 308,
   "metadata": {},
   "outputs": [],
   "source": [
    "# 삭제\n",
    "rm(list = ls())"
   ]
  },
  {
   "cell_type": "code",
   "execution_count": 309,
   "metadata": {},
   "outputs": [
    {
     "data": {},
     "metadata": {},
     "output_type": "display_data"
    },
    {
     "data": {
      "image/png": "[encoded data removed]",
      "text/plain": [
       "plot without title"
      ]
     },
     "metadata": {},
     "output_type": "display_data",
     "source": "R display func"
    }
   ],
   "source": [
    "# 대조변수법\n",
    "Antithetic.rand <- function(scens, vars=1){\n",
    "    isodd = scens%%2\n",
    "    num = scens%/%2 + isodd\n",
    "    z <- matrix(rnorm(num*vars, mean=0, sd=1), num, vars)\n",
    "    value <- rbind(z,-z)\n",
    "    if(isodd == TRUE) value <- value[-1,]\n",
    "    return(scale(value))\n",
    "}\n",
    "    \n",
    "u <- Antithetic.rand(100000)\n",
    "ggplot() +\n",
    "    geom_histogram(aes(x=u), bins=100) +\n",
    "    labs(title='대조변수법으로 추출한 난수')"
   ]
  },
  {
   "cell_type": "code",
   "execution_count": 310,
   "metadata": {},
   "outputs": [
    {
     "data": {
      "text/html": [
       "'Wilson'"
      ],
      "text/latex": [
       "'Wilson'"
      ],
      "text/markdown": [
       "'Wilson'"
      ],
      "text/plain": [
       "[1] \"Wilson\""
      ]
     },
     "metadata": {},
     "output_type": "display_data"
    },
    {
     "data": {
      "text/html": [
       "'Wilson'"
      ],
      "text/latex": [
       "'Wilson'"
      ],
      "text/markdown": [
       "'Wilson'"
      ],
      "text/plain": [
       "[1] \"Wilson\""
      ]
     },
     "metadata": {},
     "output_type": "display_data"
    },
    {
     "data": {
      "text/html": [
       "'swCurve'"
      ],
      "text/latex": [
       "'swCurve'"
      ],
      "text/markdown": [
       "'swCurve'"
      ],
      "text/plain": [
       "[1] \"swCurve\""
      ]
     },
     "metadata": {},
     "output_type": "display_data"
    },
    {
     "data": {
      "text/html": [
       "'swCurve'"
      ],
      "text/latex": [
       "'swCurve'"
      ],
      "text/markdown": [
       "'swCurve'"
      ],
      "text/plain": [
       "[1] \"swCurve\""
      ]
     },
     "metadata": {},
     "output_type": "display_data"
    },
    {
     "data": {
      "text/html": [
       "'initialize'"
      ],
      "text/latex": [
       "'initialize'"
      ],
      "text/markdown": [
       "'initialize'"
      ],
      "text/plain": [
       "[1] \"initialize\""
      ]
     },
     "metadata": {},
     "output_type": "display_data"
    }
   ],
   "source": [
    "# Smith-Wilson Class 정의\n",
    "setClass('Smith.Wilson',\n",
    "        representation(alpha=\"numeric\", UFR=\"numeric\", terms=\"numeric\", int=\"numeric\", zeta=\"numeric\"))\n",
    "\n",
    "# Wilson function 메소드 정의\n",
    "setGeneric(\"Wilson\", function(object, ...) standardGeneric(\"Wilson\"))\n",
    "setMethod(\"Wilson\", \"Smith.Wilson\", function(object,t,u){\n",
    "    y <- 1/(1+object@UFR)^(t+u)*(object@alpha*pmin(t,u) - 0.5*exp(-object@alpha*pmax(t,u))*(exp(object@alpha*pmin(t,u)) - exp(-object@alpha*pmin(t,u))))\n",
    "    return(y)\n",
    "})\n",
    "    \n",
    "# 금리 보정 결과 메소드\n",
    "setGeneric(\"swCurve\", function(object, ...) standardGeneric(\"swCurve\"))\n",
    "setMethod(\"swCurve\", \"Smith.Wilson\", function(object, t){\n",
    "    p <- 1/(1+object@UFR)^t + object@zeta %*% Wilson(object, t, object@terms)\n",
    "    y <- (1/p)^(1/t) - 1\n",
    "    return(y)\n",
    "})\n",
    "\n",
    "# 객체 초기화\n",
    "setMethod(\"initialize\", \"Smith.Wilson\", function(.Object, alpha, UFR, terms, int){\n",
    "    .Object@alpha <- alpha\n",
    "    .Object@UFR <- UFR\n",
    "    .Object@terms <- terms\n",
    "    .Object@int <- int\n",
    "    \n",
    "    W <- outer(terms, terms, FUN=function(x,y) Wilson(.Object, x, y))\n",
    "    m  <- 1/(1+int)^terms\n",
    "    mu <- 1/(1+UFR)^terms\n",
    "    .Object@zeta <- as.numeric((m-mu)%*%solve(W))\n",
    "    \n",
    "    return(.Object)\n",
    "})"
   ]
  },
  {
   "cell_type": "code",
   "execution_count": 311,
   "metadata": {},
   "outputs": [],
   "source": [
    "# 입력 데이터\n",
    "int.rate <- c(0.0334,0.0326,0.0327,0.0328,0.033,0.0335,0.0342,0.0345,0.0347,0.0352)\n",
    "int.mat <- c(1,2,3,4,5,7,10,12,15,20)\n",
    "vol <- matrix (c(0.1815,0.172,0.17,0.1605,0.158,0.155,\n",
    "                 0.177,0.1715,0.17,0.158,0.1545,0.15,\n",
    "                 0.174,0.168,0.1655,0.1555,0.1495,0.1475,\n",
    "                 0.165,0.1575,0.157,0.1495,0.1455,0.144,\n",
    "                 0.165,0.1575,0.157,0.1535,0.1455,0.144,\n",
    "                 0.1665,0.159,0.1575,0.15,0.1455,0.14),\n",
    "                 ncol=6, byrow=TRUE)\n",
    "colnames(vol) <- rownames(vol) <- tenor <- c(1,2,3,5,7,10)\n",
    "N <- 100"
   ]
  },
  {
   "cell_type": "code",
   "execution_count": 312,
   "metadata": {},
   "outputs": [
    {
     "data": {},
     "metadata": {},
     "output_type": "display_data"
    },
    {
     "data": {
      "image/png": "[encoded data removed]",
      "text/plain": [
       "plot without title"
      ]
     },
     "metadata": {},
     "output_type": "display_data",
     "source": "R display func"
    }
   ],
   "source": [
    "# Smith-Wilson 객체 생성\n",
    "sw <- new(\"Smith.Wilson\", alpha=0.1, UFR=0.042, terms=int.mat, int=int.rate)\n",
    "\n",
    "# 보정된 금리 생성\n",
    "t <- seq(0.01,100,by=0.5)\n",
    "f <- Vectorize(function(x) swCurve(sw, x))\n",
    "int.rate.sw <- f(t)\n",
    "    \n",
    "# 그래프 출력\n",
    "ggplot() +\n",
    "    geom_line(aes(x=t, y=int.rate.sw)) +\n",
    "    geom_point(aes(x=int.mat, y=int.rate)) +\n",
    "    labs(x='만기', y='금리', title='Smith-Wilson Method 로 보정된 금리기간구조')"
   ]
  },
  {
   "cell_type": "code",
   "execution_count": 315,
   "metadata": {},
   "outputs": [
    {
     "data": {
      "text/html": [
       "<table>\n",
       "<thead><tr><th></th><th scope=col>1</th><th scope=col>2</th><th scope=col>3</th><th scope=col>5</th><th scope=col>7</th><th scope=col>10</th></tr></thead>\n",
       "<tbody>\n",
       "\t<tr><th scope=row>1</th><td>0.2156563</td><td>0.4091251</td><td>0.6014401</td><td>0.9328951</td><td>1.265108 </td><td>1.718255 </td></tr>\n",
       "\t<tr><th scope=row>2</th><td>0.2975359</td><td>0.5691316</td><td>0.8391249</td><td>1.2795903</td><td>1.719493 </td><td>2.299471 </td></tr>\n",
       "\t<tr><th scope=row>3</th><td>0.3484518</td><td>0.6689291</td><td>0.9818978</td><td>1.5127931</td><td>1.993963 </td><td>2.695660 </td></tr>\n",
       "\t<tr><th scope=row>5</th><td>0.4146144</td><td>0.7847689</td><td>1.1619508</td><td>1.8017969</td><td>2.384505 </td><td>3.206093 </td></tr>\n",
       "\t<tr><th scope=row>7</th><td>0.4707790</td><td>0.8881505</td><td>1.3094864</td><td>2.0657912</td><td>2.643831 </td><td>3.558729 </td></tr>\n",
       "\t<tr><th scope=row>10</th><td>0.5169028</td><td>0.9684608</td><td>1.4089758</td><td>2.1546571</td><td>2.837829 </td><td>3.745406 </td></tr>\n",
       "</tbody>\n",
       "</table>\n"
      ],
      "text/latex": [
       "\\begin{tabular}{r|llllll}\n",
       "  & 1 & 2 & 3 & 5 & 7 & 10\\\\\n",
       "\\hline\n",
       "\t1 & 0.2156563 & 0.4091251 & 0.6014401 & 0.9328951 & 1.265108  & 1.718255 \\\\\n",
       "\t2 & 0.2975359 & 0.5691316 & 0.8391249 & 1.2795903 & 1.719493  & 2.299471 \\\\\n",
       "\t3 & 0.3484518 & 0.6689291 & 0.9818978 & 1.5127931 & 1.993963  & 2.695660 \\\\\n",
       "\t5 & 0.4146144 & 0.7847689 & 1.1619508 & 1.8017969 & 2.384505  & 3.206093 \\\\\n",
       "\t7 & 0.4707790 & 0.8881505 & 1.3094864 & 2.0657912 & 2.643831  & 3.558729 \\\\\n",
       "\t10 & 0.5169028 & 0.9684608 & 1.4089758 & 2.1546571 & 2.837829  & 3.745406 \\\\\n",
       "\\end{tabular}\n"
      ],
      "text/markdown": [
       "\n",
       "| <!--/--> | 1 | 2 | 3 | 5 | 7 | 10 | \n",
       "|---|---|---|---|---|---|\n",
       "| 1 | 0.2156563 | 0.4091251 | 0.6014401 | 0.9328951 | 1.265108  | 1.718255  | \n",
       "| 2 | 0.2975359 | 0.5691316 | 0.8391249 | 1.2795903 | 1.719493  | 2.299471  | \n",
       "| 3 | 0.3484518 | 0.6689291 | 0.9818978 | 1.5127931 | 1.993963  | 2.695660  | \n",
       "| 5 | 0.4146144 | 0.7847689 | 1.1619508 | 1.8017969 | 2.384505  | 3.206093  | \n",
       "| 7 | 0.4707790 | 0.8881505 | 1.3094864 | 2.0657912 | 2.643831  | 3.558729  | \n",
       "| 10 | 0.5169028 | 0.9684608 | 1.4089758 | 2.1546571 | 2.837829  | 3.745406  | \n",
       "\n",
       "\n"
      ],
      "text/plain": [
       "   1         2         3         5         7        10      \n",
       "1  0.2156563 0.4091251 0.6014401 0.9328951 1.265108 1.718255\n",
       "2  0.2975359 0.5691316 0.8391249 1.2795903 1.719493 2.299471\n",
       "3  0.3484518 0.6689291 0.9818978 1.5127931 1.993963 2.695660\n",
       "5  0.4146144 0.7847689 1.1619508 1.8017969 2.384505 3.206093\n",
       "7  0.4707790 0.8881505 1.3094864 2.0657912 2.643831 3.558729\n",
       "10 0.5169028 0.9684608 1.4089758 2.1546571 2.837829 3.745406"
      ]
     },
     "metadata": {},
     "output_type": "display_data"
    }
   ],
   "source": [
    "# Black Swaption\n",
    "price.alpha <- outer(tenor, tenor, FUN=function(x,y) 1/(1+f(x))^x)\n",
    "price.beta <- outer(tenor, tenor, FUN=function(x,y) 1/(1+f(x+y))^(x+y))\n",
    "d1 <- 0.5*vol*sqrt(tenor)\n",
    "rs.Black <- N*(price.alpha - price.beta)*(2*pnorm(d1, mean=0, sd=1)-1)\n",
    "rs.Black"
   ]
  },
  {
   "cell_type": "code",
   "execution_count": 316,
   "metadata": {},
   "outputs": [
    {
     "data": {
      "text/plain": [
       "   user  system elapsed \n",
       "      0       0       0 "
      ]
     },
     "metadata": {},
     "output_type": "display_data"
    }
   ],
   "source": [
    "# 수행 시간 측정(elapsed)\n",
    "system.time({\n",
    "    price.alpha <- outer(tenor, tenor, FUN=function(x,y) 1/(1+f(x))^x)\n",
    "    price.beta <- outer(tenor, tenor, FUN=function(x,y) 1/(1+f(x+y))^(x+y))\n",
    "    d1 <- 0.5*vol*sqrt(tenor)\n",
    "    rs.Black <- N*(price.alpha - price.beta)*(2*pnorm(d1, mean=0, sd=1)-1)\n",
    "})"
   ]
  }
 ],
 "metadata": {
  "kernelspec": {
   "display_name": "R",
   "language": "R",
   "name": "ir"
  },
  "language_info": {
   "codemirror_mode": "r",
   "file_extension": ".r",
   "mimetype": "text/x-r-source",
   "name": "R",
   "pygments_lexer": "r",
   "version": "3.4.3"
  }
 },
 "nbformat": 4,
 "nbformat_minor": 2
}
