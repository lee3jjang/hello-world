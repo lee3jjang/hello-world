{
 "cells": [
  {
   "cell_type": "code",
   "execution_count": 124,
   "metadata": {},
   "outputs": [
    {
     "name": "stderr",
     "output_type": "stream",
     "text": [
      "Loading required package: scatterplot3d\n"
     ]
    }
   ],
   "source": [
    "require(repr)\n",
    "require(copula)\n",
    "require(scatterplot3d)\n",
    "options(repr.plot.width=5, repr.plot.height=4)"
   ]
  },
  {
   "cell_type": "code",
   "execution_count": 80,
   "metadata": {},
   "outputs": [],
   "source": [
    "Xtras <- copula:::doExtras()\n",
    "n <- if(Xtras) 200 else 64"
   ]
  },
  {
   "cell_type": "code",
   "execution_count": 81,
   "metadata": {},
   "outputs": [
    {
     "data": {
      "image/png": "[encoded data removed]",
      "text/plain": [
       "plot without title"
      ]
     },
     "metadata": {},
     "output_type": "display_data",
     "source": "R display func"
    }
   ],
   "source": [
    "gumbel.cop <- gumbelCopula(3, dim=2)\n",
    "x <- rCopula(n, gumbel.cop)\n",
    "plot(x)"
   ]
  },
  {
   "cell_type": "code",
   "execution_count": 82,
   "metadata": {},
   "outputs": [
    {
     "data": {
      "text/plain": [
       "Gumbel copula, dim. d = 2 \n",
       "Dimension:  2 \n",
       "Parameters:\n",
       "  alpha   = 3"
      ]
     },
     "metadata": {},
     "output_type": "display_data"
    }
   ],
   "source": [
    "gumbel.cop"
   ]
  },
  {
   "cell_type": "code",
   "execution_count": 83,
   "metadata": {},
   "outputs": [
    {
     "data": {
      "text/plain": [
       "Call: fitCopula(copula, data = data, method = \"itau\")\n",
       "Fit based on \"inversion of Kendall's tau\" and 64 2-dimensional observations.\n",
       "Copula: gumbelCopula \n",
       "alpha \n",
       "2.824 "
      ]
     },
     "metadata": {},
     "output_type": "display_data"
    }
   ],
   "source": [
    "u <- pobs(x)\n",
    "fit.tau <- fitCopula(gumbelCopula(), u, method='itau')\n",
    "fit.tau"
   ]
  },
  {
   "cell_type": "code",
   "execution_count": 84,
   "metadata": {},
   "outputs": [
    {
     "data": {
      "text/html": [
       "<table>\n",
       "<thead><tr><th></th><th scope=col>2.5 %</th><th scope=col>97.5 %</th></tr></thead>\n",
       "<tbody>\n",
       "\t<tr><th scope=row>alpha</th><td>2.105446</td><td>3.541612</td></tr>\n",
       "</tbody>\n",
       "</table>\n"
      ],
      "text/latex": [
       "\\begin{tabular}{r|ll}\n",
       "  & 2.5 \\% & 97.5 \\%\\\\\n",
       "\\hline\n",
       "\talpha & 2.105446 & 3.541612\\\\\n",
       "\\end{tabular}\n"
      ],
      "text/markdown": [
       "\n",
       "| <!--/--> | 2.5 % | 97.5 % | \n",
       "|---|\n",
       "| alpha | 2.105446 | 3.541612 | \n",
       "\n",
       "\n"
      ],
      "text/plain": [
       "      2.5 %    97.5 %  \n",
       "alpha 2.105446 3.541612"
      ]
     },
     "metadata": {},
     "output_type": "display_data"
    }
   ],
   "source": [
    "confint(fit.tau)"
   ]
  },
  {
   "cell_type": "code",
   "execution_count": 86,
   "metadata": {},
   "outputs": [
    {
     "data": {
      "text/html": [
       "<table>\n",
       "<thead><tr><th></th><th scope=col>1 %</th><th scope=col>99 %</th></tr></thead>\n",
       "<tbody>\n",
       "\t<tr><th scope=row>alpha</th><td>1.971212</td><td>3.675847</td></tr>\n",
       "</tbody>\n",
       "</table>\n"
      ],
      "text/latex": [
       "\\begin{tabular}{r|ll}\n",
       "  & 1 \\% & 99 \\%\\\\\n",
       "\\hline\n",
       "\talpha & 1.971212 & 3.675847\\\\\n",
       "\\end{tabular}\n"
      ],
      "text/markdown": [
       "\n",
       "| <!--/--> | 1 % | 99 % | \n",
       "|---|\n",
       "| alpha | 1.971212 | 3.675847 | \n",
       "\n",
       "\n"
      ],
      "text/plain": [
       "      1 %      99 %    \n",
       "alpha 1.971212 3.675847"
      ]
     },
     "metadata": {},
     "output_type": "display_data"
    }
   ],
   "source": [
    "confint(fit.tau, level=0.98)"
   ]
  },
  {
   "cell_type": "code",
   "execution_count": 87,
   "metadata": {},
   "outputs": [
    {
     "data": {
      "text/plain": [
       "Call: fitCopula(copula, data = data, method = \"itau\")\n",
       "Fit based on \"inversion of Kendall's tau\" and 64 2-dimensional observations.\n",
       "Gumbel copula, dim. d = 2 \n",
       "      Estimate Std. Error\n",
       "alpha    2.824      0.366"
      ]
     },
     "metadata": {},
     "output_type": "display_data"
    }
   ],
   "source": [
    "summary(fit.tau)"
   ]
  },
  {
   "cell_type": "code",
   "execution_count": 93,
   "metadata": {},
   "outputs": [
    {
     "data": {
      "text/html": [
       "<strong>alpha:</strong> 2.82352941176471"
      ],
      "text/latex": [
       "\\textbf{alpha:} 2.82352941176471"
      ],
      "text/markdown": [
       "**alpha:** 2.82352941176471"
      ],
      "text/plain": [
       "   alpha \n",
       "2.823529 "
      ]
     },
     "metadata": {},
     "output_type": "display_data"
    }
   ],
   "source": [
    "coef(fit.tau)"
   ]
  },
  {
   "cell_type": "code",
   "execution_count": 94,
   "metadata": {},
   "outputs": [
    {
     "data": {
      "text/html": [
       "<table>\n",
       "<thead><tr><th></th><th scope=col>Estimate</th><th scope=col>Std. Error</th></tr></thead>\n",
       "<tbody>\n",
       "\t<tr><th scope=row>alpha</th><td>2.823529 </td><td>0.3663756</td></tr>\n",
       "</tbody>\n",
       "</table>\n"
      ],
      "text/latex": [
       "\\begin{tabular}{r|ll}\n",
       "  & Estimate & Std. Error\\\\\n",
       "\\hline\n",
       "\talpha & 2.823529  & 0.3663756\\\\\n",
       "\\end{tabular}\n"
      ],
      "text/markdown": [
       "\n",
       "| <!--/--> | Estimate | Std. Error | \n",
       "|---|\n",
       "| alpha | 2.823529  | 0.3663756 | \n",
       "\n",
       "\n"
      ],
      "text/plain": [
       "      Estimate Std. Error\n",
       "alpha 2.823529 0.3663756 "
      ]
     },
     "metadata": {},
     "output_type": "display_data"
    }
   ],
   "source": [
    "coef(fit.tau, SE=TRUE)"
   ]
  },
  {
   "cell_type": "code",
   "execution_count": 99,
   "metadata": {},
   "outputs": [],
   "source": [
    "stopifnot(is.matrix(cm <- coef(fit.tau, SE=TRUE)), cm[,2]>0)"
   ]
  },
  {
   "cell_type": "code",
   "execution_count": 105,
   "metadata": {},
   "outputs": [
    {
     "data": {
      "text/plain": [
       "Call: fitCopula(copula, data = data, method = \"irho\")\n",
       "Fit based on \"inversion of Spearman's rho\" and 64 2-dimensional observations.\n",
       "Gumbel copula, dim. d = 2 \n",
       "      Estimate Std. Error\n",
       "alpha    2.841      0.367"
      ]
     },
     "metadata": {},
     "output_type": "display_data"
    }
   ],
   "source": [
    "fit.rho <- fitCopula(gumbelCopula(), u, method='irho')\n",
    "summary(fit.rho)"
   ]
  },
  {
   "cell_type": "code",
   "execution_count": 104,
   "metadata": {},
   "outputs": [
    {
     "data": {
      "text/plain": [
       "Call: fitCopula(copula, data = data, method = \"mpl\")\n",
       "Fit based on \"maximum pseudo-likelihood\" and 64 2-dimensional observations.\n",
       "Gumbel copula, dim. d = 2 \n",
       "      Estimate Std. Error\n",
       "alpha    2.784      0.504\n",
       "The maximized loglikelihood is 39.93 \n",
       "Optimization converged\n",
       "Number of loglikelihood evaluations:\n",
       "function gradient \n",
       "       5        5 "
      ]
     },
     "metadata": {},
     "output_type": "display_data"
    }
   ],
   "source": [
    "fit.mpl <- fitCopula(gumbelCopula(), u, method='mpl')\n",
    "summary(fit.mpl)"
   ]
  },
  {
   "cell_type": "code",
   "execution_count": 107,
   "metadata": {},
   "outputs": [
    {
     "data": {
      "text/plain": [
       "Call: fitCopula(copula, data = data, method = \"ml\")\n",
       "Fit based on \"maximum likelihood\" and 64 2-dimensional observations.\n",
       "Gumbel copula, dim. d = 2 \n",
       "      Estimate Std. Error\n",
       "alpha    3.078      0.322\n",
       "The maximized loglikelihood is 39.94 \n",
       "Optimization converged\n",
       "Number of loglikelihood evaluations:\n",
       "function gradient \n",
       "       6        6 "
      ]
     },
     "metadata": {},
     "output_type": "display_data"
    }
   ],
   "source": [
    "fit.ml <- fitCopula(gumbelCopula(), x, method='ml')\n",
    "summary(fit.ml)"
   ]
  },
  {
   "cell_type": "code",
   "execution_count": 112,
   "metadata": {},
   "outputs": [
    {
     "data": {
      "text/plain": [
       "'log Lik.' 39.93612 (df=1)"
      ]
     },
     "metadata": {},
     "output_type": "display_data"
    }
   ],
   "source": [
    "(ll. <- logLik(fit.ml))"
   ]
  },
  {
   "cell_type": "code",
   "execution_count": 117,
   "metadata": {},
   "outputs": [
    {
     "data": {
      "text/html": [
       "39.936119640683"
      ],
      "text/latex": [
       "39.936119640683"
      ],
      "text/markdown": [
       "39.936119640683"
      ],
      "text/plain": [
       "[1] 39.93612"
      ]
     },
     "metadata": {},
     "output_type": "display_data"
    }
   ],
   "source": [
    "loglikCopula(coef(fit.ml), u=x, copula=gumbel.cop)"
   ]
  },
  {
   "cell_type": "code",
   "execution_count": 125,
   "metadata": {},
   "outputs": [],
   "source": [
    "normal.cop <- normalCopula(c(0.6,0.46,0.6), dim=3, dispstr='un')\n",
    "x <- rCopula(n, normal.cop)"
   ]
  },
  {
   "cell_type": "code",
   "execution_count": 137,
   "metadata": {},
   "outputs": [
    {
     "data": {
      "text/html": [
       "1"
      ],
      "text/latex": [
       "1"
      ],
      "text/markdown": [
       "1"
      ],
      "text/plain": [
       "[1] 1"
      ]
     },
     "metadata": {},
     "output_type": "display_data"
    }
   ],
   "source": [
    "par('pch')"
   ]
  },
  {
   "cell_type": "code",
   "execution_count": 301,
   "metadata": {},
   "outputs": [
    {
     "data": {
      "image/png": "[encoded data removed]",
      "text/plain": [
       "Plot with title \"타이틀입니다\""
      ]
     },
     "metadata": {},
     "output_type": "display_data",
     "source": "R display func"
    }
   ],
   "source": [
    "scatterplot3d(x=x[,1], y=x[,2], z=x[,3], color='blue', pch=2,\n",
    "             main='타이틀입니다', sub='이건 뭔데', xlim=c(0,0.9), ylim=c(0,0.9), zlim=c(0,0.9),\n",
    "             xlab='X축', ylab='Y축', zlab='높이', scale.y=0.5, angle=60, axis=TRUE, tick.marks=TRUE,\n",
    "             label.tick.marks=TRUE, x.ticklabs=c(0,0.2,0.4,0.6,0.8,1), y.margin.add=2, grid=TRUE, box=TRUE,\n",
    "             lab=c(10,10,1), lab.z=6, type='h', mar=c(5,0,5,0), bg='red')"
   ]
  }
 ],
 "metadata": {
  "kernelspec": {
   "display_name": "R",
   "language": "R",
   "name": "ir"
  },
  "language_info": {
   "codemirror_mode": "r",
   "file_extension": ".r",
   "mimetype": "text/x-r-source",
   "name": "R",
   "pygments_lexer": "r",
   "version": "3.4.3"
  }
 },
 "nbformat": 4,
 "nbformat_minor": 2
}
