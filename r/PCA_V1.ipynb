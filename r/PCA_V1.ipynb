{
 "cells": [
  {
   "cell_type": "code",
   "execution_count": 9,
   "metadata": {},
   "outputs": [
    {
     "data": {
      "text/html": [
       "<table>\n",
       "<thead><tr><th></th><th scope=col>면발</th><th scope=col>그릇</th><th scope=col>국물</th></tr></thead>\n",
       "<tbody>\n",
       "\t<tr><th scope=row>쇠고기라면</th><td>2</td><td>4</td><td>5</td></tr>\n",
       "\t<tr><th scope=row>해물라면</th><td>1</td><td>5</td><td>1</td></tr>\n",
       "\t<tr><th scope=row>얼큰라면</th><td>5</td><td>3</td><td>4</td></tr>\n",
       "\t<tr><th scope=row>떡라면</th><td>2</td><td>2</td><td>3</td></tr>\n",
       "\t<tr><th scope=row>짬뽕라면</th><td>3</td><td>5</td><td>5</td></tr>\n",
       "\t<tr><th scope=row>만두라면</th><td>4</td><td>3</td><td>2</td></tr>\n",
       "\t<tr><th scope=row>치즈라면</th><td>4</td><td>4</td><td>3</td></tr>\n",
       "\t<tr><th scope=row>된장라면</th><td>1</td><td>2</td><td>1</td></tr>\n",
       "\t<tr><th scope=row>볶음라면</th><td>3</td><td>3</td><td>2</td></tr>\n",
       "\t<tr><th scope=row>김치라면</th><td>5</td><td>5</td><td>3</td></tr>\n",
       "</tbody>\n",
       "</table>\n"
      ],
      "text/latex": [
       "\\begin{tabular}{r|lll}\n",
       "  & 면발 & 그릇 & 국물\\\\\n",
       "\\hline\n",
       "\t쇠고기라면 & 2 & 4 & 5\\\\\n",
       "\t해물라면 & 1 & 5 & 1\\\\\n",
       "\t얼큰라면 & 5 & 3 & 4\\\\\n",
       "\t떡라면 & 2 & 2 & 3\\\\\n",
       "\t짬뽕라면 & 3 & 5 & 5\\\\\n",
       "\t만두라면 & 4 & 3 & 2\\\\\n",
       "\t치즈라면 & 4 & 4 & 3\\\\\n",
       "\t된장라면 & 1 & 2 & 1\\\\\n",
       "\t볶음라면 & 3 & 3 & 2\\\\\n",
       "\t김치라면 & 5 & 5 & 3\\\\\n",
       "\\end{tabular}\n"
      ],
      "text/markdown": [
       "\n",
       "| <!--/--> | 면발 | 그릇 | 국물 | \n",
       "|---|---|---|---|---|---|---|---|---|---|\n",
       "| 쇠고기라면 | 2 | 4 | 5 | \n",
       "| 해물라면 | 1 | 5 | 1 | \n",
       "| 얼큰라면 | 5 | 3 | 4 | \n",
       "| 떡라면 | 2 | 2 | 3 | \n",
       "| 짬뽕라면 | 3 | 5 | 5 | \n",
       "| 만두라면 | 4 | 3 | 2 | \n",
       "| 치즈라면 | 4 | 4 | 3 | \n",
       "| 된장라면 | 1 | 2 | 1 | \n",
       "| 볶음라면 | 3 | 3 | 2 | \n",
       "| 김치라면 | 5 | 5 | 3 | \n",
       "\n",
       "\n"
      ],
      "text/plain": [
       "           면발 그릇 국물\n",
       "쇠고기라면 2    4    5   \n",
       "해물라면   1    5    1   \n",
       "얼큰라면   5    3    4   \n",
       "떡라면     2    2    3   \n",
       "짬뽕라면   3    5    5   \n",
       "만두라면   4    3    2   \n",
       "치즈라면   4    4    3   \n",
       "된장라면   1    2    1   \n",
       "볶음라면   3    3    2   \n",
       "김치라면   5    5    3   "
      ]
     },
     "metadata": {},
     "output_type": "display_data"
    }
   ],
   "source": [
    "라면 <- c('쇠고기라면','해물라면','얼큰라면','떡라면','짬뽕라면','만두라면','치즈라면','된장라면','볶음라면','김치라면')\n",
    "면발 <- c(2,1,5,2,3,4,4,1,3,5)\n",
    "그릇 <- c(4,5,3,2,5,3,4,2,3,5)\n",
    "국물 <- c(5,1,4,3,5,2,3,1,2,3)\n",
    "data <- data.frame(cbind(면발,그릇,국물), row.names=라면)\n",
    "data"
   ]
  },
  {
   "cell_type": "code",
   "execution_count": 36,
   "metadata": {},
   "outputs": [
    {
     "data": {
      "text/html": [
       "<table>\n",
       "<thead><tr><th></th><th scope=col>면발</th><th scope=col>그릇</th><th scope=col>국물</th></tr></thead>\n",
       "<tbody>\n",
       "\t<tr><th scope=row>쇠고기라면</th><td>2</td><td>4</td><td>5</td></tr>\n",
       "\t<tr><th scope=row>해물라면</th><td>1</td><td>5</td><td>1</td></tr>\n",
       "\t<tr><th scope=row>얼큰라면</th><td>5</td><td>3</td><td>4</td></tr>\n",
       "\t<tr><th scope=row>떡라면</th><td>2</td><td>2</td><td>3</td></tr>\n",
       "\t<tr><th scope=row>짬뽕라면</th><td>3</td><td>5</td><td>5</td></tr>\n",
       "\t<tr><th scope=row>만두라면</th><td>4</td><td>3</td><td>2</td></tr>\n",
       "\t<tr><th scope=row>치즈라면</th><td>4</td><td>4</td><td>3</td></tr>\n",
       "\t<tr><th scope=row>된장라면</th><td>1</td><td>2</td><td>1</td></tr>\n",
       "\t<tr><th scope=row>볶음라면</th><td>3</td><td>3</td><td>2</td></tr>\n",
       "\t<tr><th scope=row>김치라면</th><td>5</td><td>5</td><td>3</td></tr>\n",
       "</tbody>\n",
       "</table>\n"
      ],
      "text/latex": [
       "\\begin{tabular}{r|lll}\n",
       "  & 면발 & 그릇 & 국물\\\\\n",
       "\\hline\n",
       "\t쇠고기라면 & 2 & 4 & 5\\\\\n",
       "\t해물라면 & 1 & 5 & 1\\\\\n",
       "\t얼큰라면 & 5 & 3 & 4\\\\\n",
       "\t떡라면 & 2 & 2 & 3\\\\\n",
       "\t짬뽕라면 & 3 & 5 & 5\\\\\n",
       "\t만두라면 & 4 & 3 & 2\\\\\n",
       "\t치즈라면 & 4 & 4 & 3\\\\\n",
       "\t된장라면 & 1 & 2 & 1\\\\\n",
       "\t볶음라면 & 3 & 3 & 2\\\\\n",
       "\t김치라면 & 5 & 5 & 3\\\\\n",
       "\\end{tabular}\n"
      ],
      "text/markdown": [
       "\n",
       "| <!--/--> | 면발 | 그릇 | 국물 | \n",
       "|---|---|---|---|---|---|---|---|---|---|\n",
       "| 쇠고기라면 | 2 | 4 | 5 | \n",
       "| 해물라면 | 1 | 5 | 1 | \n",
       "| 얼큰라면 | 5 | 3 | 4 | \n",
       "| 떡라면 | 2 | 2 | 3 | \n",
       "| 짬뽕라면 | 3 | 5 | 5 | \n",
       "| 만두라면 | 4 | 3 | 2 | \n",
       "| 치즈라면 | 4 | 4 | 3 | \n",
       "| 된장라면 | 1 | 2 | 1 | \n",
       "| 볶음라면 | 3 | 3 | 2 | \n",
       "| 김치라면 | 5 | 5 | 3 | \n",
       "\n",
       "\n"
      ],
      "text/plain": [
       "           면발 그릇 국물\n",
       "쇠고기라면 2    4    5   \n",
       "해물라면   1    5    1   \n",
       "얼큰라면   5    3    4   \n",
       "떡라면     2    2    3   \n",
       "짬뽕라면   3    5    5   \n",
       "만두라면   4    3    2   \n",
       "치즈라면   4    4    3   \n",
       "된장라면   1    2    1   \n",
       "볶음라면   3    3    2   \n",
       "김치라면   5    5    3   "
      ]
     },
     "metadata": {},
     "output_type": "display_data"
    }
   ],
   "source": []
  },
  {
   "cell_type": "code",
   "execution_count": 58,
   "metadata": {},
   "outputs": [
    {
     "data": {
      "text/html": [
       "<ol class=list-inline>\n",
       "\t<li>1.25413470549896</li>\n",
       "\t<li>0.902224095369561</li>\n",
       "\t<li>0.783031175750757</li>\n",
       "</ol>\n"
      ],
      "text/latex": [
       "\\begin{enumerate*}\n",
       "\\item 1.25413470549896\n",
       "\\item 0.902224095369561\n",
       "\\item 0.783031175750757\n",
       "\\end{enumerate*}\n"
      ],
      "text/markdown": [
       "1. 1.25413470549896\n",
       "2. 0.902224095369561\n",
       "3. 0.783031175750757\n",
       "\n",
       "\n"
      ],
      "text/plain": [
       "[1] 1.2541347 0.9022241 0.7830312"
      ]
     },
     "metadata": {},
     "output_type": "display_data"
    }
   ],
   "source": [
    "v <- eigen(cor(data))$vectors\n",
    "lam <- sqrt(eigen(cor(data))$values)\n",
    "lam"
   ]
  },
  {
   "cell_type": "code",
   "execution_count": 44,
   "metadata": {},
   "outputs": [
    {
     "name": "stdout",
     "output_type": "stream",
     "text": [
      "Standard deviations (1, .., p=3):\n",
      "[1] 1.2541347 0.9022241 0.7830312\n",
      "\n",
      "Rotation (n x k) = (3 x 3):\n",
      "           PC1        PC2        PC3\n",
      "면발 0.5715110 -0.6044710  0.5549685\n",
      "그릇 0.5221161  0.7896069  0.3223595\n",
      "국물 0.6330639 -0.1055260 -0.7668731\n"
     ]
    },
    {
     "data": {
      "text/plain": [
       "Importance of components:\n",
       "                          PC1    PC2    PC3\n",
       "Standard deviation     1.2541 0.9022 0.7830\n",
       "Proportion of Variance 0.5243 0.2713 0.2044\n",
       "Cumulative Proportion  0.5243 0.7956 1.0000"
      ]
     },
     "metadata": {},
     "output_type": "display_data"
    }
   ],
   "source": [
    "p1 <- prcomp(data, scale=TRUE)\n",
    "print(p1)\n",
    "summary(p1)"
   ]
  },
  {
   "cell_type": "code",
   "execution_count": 45,
   "metadata": {},
   "outputs": [
    {
     "data": {
      "text/html": [
       "<table>\n",
       "<thead><tr><th></th><th scope=col>PC1</th><th scope=col>PC2</th><th scope=col>PC3</th></tr></thead>\n",
       "<tbody>\n",
       "\t<tr><th scope=row>쇠고기라면</th><td> 0.7119408  </td><td> 0.5216497  </td><td>-1.373736133</td></tr>\n",
       "\t<tr><th scope=row>해물라면</th><td>-0.9740499  </td><td> 1.8911205  </td><td> 0.645382316</td></tr>\n",
       "\t<tr><th scope=row>얼큰라면</th><td> 0.9804158  </td><td>-1.2947047  </td><td>-0.002322692</td></tr>\n",
       "\t<tr><th scope=row>떡라면</th><td>-1.0513965  </td><td>-0.6781104  </td><td>-0.864614382</td></tr>\n",
       "\t<tr><th scope=row>짬뽕라면</th><td> 1.5401350  </td><td> 0.7888582  </td><td>-0.726820118</td></tr>\n",
       "\t<tr><th scope=row>만두라면</th><td>-0.2766766  </td><td>-0.7435735  </td><td> 0.683778524</td></tr>\n",
       "\t<tr><th scope=row>치즈라면</th><td> 0.6049920  </td><td>-0.1436935  </td><td> 0.429217649</td></tr>\n",
       "\t<tr><th scope=row>된장라면</th><td>-2.3084890  </td><td>-0.1269792  </td><td>-0.178513165</td></tr>\n",
       "\t<tr><th scope=row>볶음라면</th><td>-0.6600579  </td><td>-0.3380821  </td><td> 0.311494336</td></tr>\n",
       "\t<tr><th scope=row>김치라면</th><td> 1.4331863  </td><td> 0.1235150  </td><td> 1.076133664</td></tr>\n",
       "</tbody>\n",
       "</table>\n"
      ],
      "text/latex": [
       "\\begin{tabular}{r|lll}\n",
       "  & PC1 & PC2 & PC3\\\\\n",
       "\\hline\n",
       "\t쇠고기라면 &  0.7119408   &  0.5216497   & -1.373736133\\\\\n",
       "\t해물라면 & -0.9740499   &  1.8911205   &  0.645382316\\\\\n",
       "\t얼큰라면 &  0.9804158   & -1.2947047   & -0.002322692\\\\\n",
       "\t떡라면 & -1.0513965   & -0.6781104   & -0.864614382\\\\\n",
       "\t짬뽕라면 &  1.5401350   &  0.7888582   & -0.726820118\\\\\n",
       "\t만두라면 & -0.2766766   & -0.7435735   &  0.683778524\\\\\n",
       "\t치즈라면 &  0.6049920   & -0.1436935   &  0.429217649\\\\\n",
       "\t된장라면 & -2.3084890   & -0.1269792   & -0.178513165\\\\\n",
       "\t볶음라면 & -0.6600579   & -0.3380821   &  0.311494336\\\\\n",
       "\t김치라면 &  1.4331863   &  0.1235150   &  1.076133664\\\\\n",
       "\\end{tabular}\n"
      ],
      "text/markdown": [
       "\n",
       "| <!--/--> | PC1 | PC2 | PC3 | \n",
       "|---|---|---|---|---|---|---|---|---|---|\n",
       "| 쇠고기라면 |  0.7119408   |  0.5216497   | -1.373736133 | \n",
       "| 해물라면 | -0.9740499   |  1.8911205   |  0.645382316 | \n",
       "| 얼큰라면 |  0.9804158   | -1.2947047   | -0.002322692 | \n",
       "| 떡라면 | -1.0513965   | -0.6781104   | -0.864614382 | \n",
       "| 짬뽕라면 |  1.5401350   |  0.7888582   | -0.726820118 | \n",
       "| 만두라면 | -0.2766766   | -0.7435735   |  0.683778524 | \n",
       "| 치즈라면 |  0.6049920   | -0.1436935   |  0.429217649 | \n",
       "| 된장라면 | -2.3084890   | -0.1269792   | -0.178513165 | \n",
       "| 볶음라면 | -0.6600579   | -0.3380821   |  0.311494336 | \n",
       "| 김치라면 |  1.4331863   |  0.1235150   |  1.076133664 | \n",
       "\n",
       "\n"
      ],
      "text/plain": [
       "           PC1        PC2        PC3         \n",
       "쇠고기라면  0.7119408  0.5216497 -1.373736133\n",
       "해물라면   -0.9740499  1.8911205  0.645382316\n",
       "얼큰라면    0.9804158 -1.2947047 -0.002322692\n",
       "떡라면     -1.0513965 -0.6781104 -0.864614382\n",
       "짬뽕라면    1.5401350  0.7888582 -0.726820118\n",
       "만두라면   -0.2766766 -0.7435735  0.683778524\n",
       "치즈라면    0.6049920 -0.1436935  0.429217649\n",
       "된장라면   -2.3084890 -0.1269792 -0.178513165\n",
       "볶음라면   -0.6600579 -0.3380821  0.311494336\n",
       "김치라면    1.4331863  0.1235150  1.076133664"
      ]
     },
     "metadata": {},
     "output_type": "display_data"
    }
   ],
   "source": [
    "predict(p1)"
   ]
  },
  {
   "cell_type": "code",
   "execution_count": 52,
   "metadata": {},
   "outputs": [
    {
     "data": {
      "text/html": [
       "<table>\n",
       "<tbody>\n",
       "\t<tr><th scope=row>쇠고기라면</th><td> 0.7119408</td></tr>\n",
       "\t<tr><th scope=row>해물라면</th><td>-0.9740499</td></tr>\n",
       "\t<tr><th scope=row>얼큰라면</th><td> 0.9804158</td></tr>\n",
       "\t<tr><th scope=row>떡라면</th><td>-1.0513965</td></tr>\n",
       "\t<tr><th scope=row>짬뽕라면</th><td> 1.5401350</td></tr>\n",
       "\t<tr><th scope=row>만두라면</th><td>-0.2766766</td></tr>\n",
       "\t<tr><th scope=row>치즈라면</th><td> 0.6049920</td></tr>\n",
       "\t<tr><th scope=row>된장라면</th><td>-2.3084890</td></tr>\n",
       "\t<tr><th scope=row>볶음라면</th><td>-0.6600579</td></tr>\n",
       "\t<tr><th scope=row>김치라면</th><td> 1.4331863</td></tr>\n",
       "</tbody>\n",
       "</table>\n"
      ],
      "text/latex": [
       "\\begin{tabular}{r|l}\n",
       "\t쇠고기라면 &  0.7119408\\\\\n",
       "\t해물라면 & -0.9740499\\\\\n",
       "\t얼큰라면 &  0.9804158\\\\\n",
       "\t떡라면 & -1.0513965\\\\\n",
       "\t짬뽕라면 &  1.5401350\\\\\n",
       "\t만두라면 & -0.2766766\\\\\n",
       "\t치즈라면 &  0.6049920\\\\\n",
       "\t된장라면 & -2.3084890\\\\\n",
       "\t볶음라면 & -0.6600579\\\\\n",
       "\t김치라면 &  1.4331863\\\\\n",
       "\\end{tabular}\n"
      ],
      "text/markdown": [
       "\n",
       "| 쇠고기라면 |  0.7119408 | \n",
       "| 해물라면 | -0.9740499 | \n",
       "| 얼큰라면 |  0.9804158 | \n",
       "| 떡라면 | -1.0513965 | \n",
       "| 짬뽕라면 |  1.5401350 | \n",
       "| 만두라면 | -0.2766766 | \n",
       "| 치즈라면 |  0.6049920 | \n",
       "| 된장라면 | -2.3084890 | \n",
       "| 볶음라면 | -0.6600579 | \n",
       "| 김치라면 |  1.4331863 | \n",
       "\n",
       "\n"
      ],
      "text/plain": [
       "           [,1]      \n",
       "쇠고기라면  0.7119408\n",
       "해물라면   -0.9740499\n",
       "얼큰라면    0.9804158\n",
       "떡라면     -1.0513965\n",
       "짬뽕라면    1.5401350\n",
       "만두라면   -0.2766766\n",
       "치즈라면    0.6049920\n",
       "된장라면   -2.3084890\n",
       "볶음라면   -0.6600579\n",
       "김치라면    1.4331863"
      ]
     },
     "metadata": {},
     "output_type": "display_data"
    }
   ],
   "source": [
    "scale(as.matrix(data)) %*% v[,1]"
   ]
  },
  {
   "cell_type": "code",
   "execution_count": 60,
   "metadata": {},
   "outputs": [
    {
     "data": {
      "text/html": [
       "<table>\n",
       "<thead><tr><th></th><th scope=col>PC1</th><th scope=col>PC2</th><th scope=col>PC3</th></tr></thead>\n",
       "<tbody>\n",
       "\t<tr><th scope=row>쇠고기라면</th><td> 0.7119408  </td><td> 0.5216497  </td><td>-1.373736133</td></tr>\n",
       "\t<tr><th scope=row>해물라면</th><td>-0.9740499  </td><td> 1.8911205  </td><td> 0.645382316</td></tr>\n",
       "\t<tr><th scope=row>얼큰라면</th><td> 0.9804158  </td><td>-1.2947047  </td><td>-0.002322692</td></tr>\n",
       "\t<tr><th scope=row>떡라면</th><td>-1.0513965  </td><td>-0.6781104  </td><td>-0.864614382</td></tr>\n",
       "\t<tr><th scope=row>짬뽕라면</th><td> 1.5401350  </td><td> 0.7888582  </td><td>-0.726820118</td></tr>\n",
       "\t<tr><th scope=row>만두라면</th><td>-0.2766766  </td><td>-0.7435735  </td><td> 0.683778524</td></tr>\n",
       "\t<tr><th scope=row>치즈라면</th><td> 0.6049920  </td><td>-0.1436935  </td><td> 0.429217649</td></tr>\n",
       "\t<tr><th scope=row>된장라면</th><td>-2.3084890  </td><td>-0.1269792  </td><td>-0.178513165</td></tr>\n",
       "\t<tr><th scope=row>볶음라면</th><td>-0.6600579  </td><td>-0.3380821  </td><td> 0.311494336</td></tr>\n",
       "\t<tr><th scope=row>김치라면</th><td> 1.4331863  </td><td> 0.1235150  </td><td> 1.076133664</td></tr>\n",
       "</tbody>\n",
       "</table>\n"
      ],
      "text/latex": [
       "\\begin{tabular}{r|lll}\n",
       "  & PC1 & PC2 & PC3\\\\\n",
       "\\hline\n",
       "\t쇠고기라면 &  0.7119408   &  0.5216497   & -1.373736133\\\\\n",
       "\t해물라면 & -0.9740499   &  1.8911205   &  0.645382316\\\\\n",
       "\t얼큰라면 &  0.9804158   & -1.2947047   & -0.002322692\\\\\n",
       "\t떡라면 & -1.0513965   & -0.6781104   & -0.864614382\\\\\n",
       "\t짬뽕라면 &  1.5401350   &  0.7888582   & -0.726820118\\\\\n",
       "\t만두라면 & -0.2766766   & -0.7435735   &  0.683778524\\\\\n",
       "\t치즈라면 &  0.6049920   & -0.1436935   &  0.429217649\\\\\n",
       "\t된장라면 & -2.3084890   & -0.1269792   & -0.178513165\\\\\n",
       "\t볶음라면 & -0.6600579   & -0.3380821   &  0.311494336\\\\\n",
       "\t김치라면 &  1.4331863   &  0.1235150   &  1.076133664\\\\\n",
       "\\end{tabular}\n"
      ],
      "text/markdown": [
       "\n",
       "| <!--/--> | PC1 | PC2 | PC3 | \n",
       "|---|---|---|---|---|---|---|---|---|---|\n",
       "| 쇠고기라면 |  0.7119408   |  0.5216497   | -1.373736133 | \n",
       "| 해물라면 | -0.9740499   |  1.8911205   |  0.645382316 | \n",
       "| 얼큰라면 |  0.9804158   | -1.2947047   | -0.002322692 | \n",
       "| 떡라면 | -1.0513965   | -0.6781104   | -0.864614382 | \n",
       "| 짬뽕라면 |  1.5401350   |  0.7888582   | -0.726820118 | \n",
       "| 만두라면 | -0.2766766   | -0.7435735   |  0.683778524 | \n",
       "| 치즈라면 |  0.6049920   | -0.1436935   |  0.429217649 | \n",
       "| 된장라면 | -2.3084890   | -0.1269792   | -0.178513165 | \n",
       "| 볶음라면 | -0.6600579   | -0.3380821   |  0.311494336 | \n",
       "| 김치라면 |  1.4331863   |  0.1235150   |  1.076133664 | \n",
       "\n",
       "\n"
      ],
      "text/plain": [
       "           PC1        PC2        PC3         \n",
       "쇠고기라면  0.7119408  0.5216497 -1.373736133\n",
       "해물라면   -0.9740499  1.8911205  0.645382316\n",
       "얼큰라면    0.9804158 -1.2947047 -0.002322692\n",
       "떡라면     -1.0513965 -0.6781104 -0.864614382\n",
       "짬뽕라면    1.5401350  0.7888582 -0.726820118\n",
       "만두라면   -0.2766766 -0.7435735  0.683778524\n",
       "치즈라면    0.6049920 -0.1436935  0.429217649\n",
       "된장라면   -2.3084890 -0.1269792 -0.178513165\n",
       "볶음라면   -0.6600579 -0.3380821  0.311494336\n",
       "김치라면    1.4331863  0.1235150  1.076133664"
      ]
     },
     "metadata": {},
     "output_type": "display_data"
    },
    {
     "data": {
      "text/html": [
       "<table>\n",
       "<tbody>\n",
       "\t<tr><td>0.5715110 </td><td> 0.6044710</td><td> 0.5549685</td></tr>\n",
       "\t<tr><td>0.5221161 </td><td>-0.7896069</td><td> 0.3223595</td></tr>\n",
       "\t<tr><td>0.6330639 </td><td> 0.1055260</td><td>-0.7668731</td></tr>\n",
       "</tbody>\n",
       "</table>\n"
      ],
      "text/latex": [
       "\\begin{tabular}{lll}\n",
       "\t 0.5715110  &  0.6044710 &  0.5549685\\\\\n",
       "\t 0.5221161  & -0.7896069 &  0.3223595\\\\\n",
       "\t 0.6330639  &  0.1055260 & -0.7668731\\\\\n",
       "\\end{tabular}\n"
      ],
      "text/markdown": [
       "\n",
       "| 0.5715110  |  0.6044710 |  0.5549685 | \n",
       "| 0.5221161  | -0.7896069 |  0.3223595 | \n",
       "| 0.6330639  |  0.1055260 | -0.7668731 | \n",
       "\n",
       "\n"
      ],
      "text/plain": [
       "     [,1]      [,2]       [,3]      \n",
       "[1,] 0.5715110  0.6044710  0.5549685\n",
       "[2,] 0.5221161 -0.7896069  0.3223595\n",
       "[3,] 0.6330639  0.1055260 -0.7668731"
      ]
     },
     "metadata": {},
     "output_type": "display_data"
    }
   ],
   "source": [
    "predict(p1)\n",
    "v"
   ]
  },
  {
   "cell_type": "code",
   "execution_count": 21,
   "metadata": {},
   "outputs": [
    {
     "data": {
      "image/png": "[encoded data removed]",
      "text/plain": [
       "plot without title"
      ]
     },
     "metadata": {},
     "output_type": "display_data",
     "source": "R display func"
    }
   ],
   "source": [
    "biplot(p1)"
   ]
  }
 ],
 "metadata": {
  "kernelspec": {
   "display_name": "R",
   "language": "R",
   "name": "ir"
  },
  "language_info": {
   "codemirror_mode": "r",
   "file_extension": ".r",
   "mimetype": "text/x-r-source",
   "name": "R",
   "pygments_lexer": "r",
   "version": "3.4.3"
  }
 },
 "nbformat": 4,
 "nbformat_minor": 2
}
