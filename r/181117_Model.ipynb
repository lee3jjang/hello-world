{
 "cells": [
  {
   "cell_type": "code",
   "execution_count": 3,
   "metadata": {},
   "outputs": [
    {
     "name": "stderr",
     "output_type": "stream",
     "text": [
      "Loading required package: dplyr\n",
      "\n",
      "Attaching package: 'dplyr'\n",
      "\n",
      "The following objects are masked from 'package:stats':\n",
      "\n",
      "    filter, lag\n",
      "\n",
      "The following objects are masked from 'package:base':\n",
      "\n",
      "    intersect, setdiff, setequal, union\n",
      "\n"
     ]
    }
   ],
   "source": [
    "require(ggplot2)\n",
    "require(repr)\n",
    "require(dplyr)"
   ]
  },
  {
   "cell_type": "code",
   "execution_count": 4,
   "metadata": {},
   "outputs": [],
   "source": [
    "options(repr.plot.width=6 ,repr.plot.height=4)"
   ]
  },
  {
   "cell_type": "code",
   "execution_count": 41,
   "metadata": {},
   "outputs": [],
   "source": [
    "# 클래스 정의\n",
    "setClass(\"Index\",\n",
    "    slots=c(\n",
    "        indexID=\"character\",\n",
    "        startDate=\"Date\",\n",
    "        tabulate=\"logical\",\n",
    "        annualizedRate=\"numeric\",\n",
    "        yearlyIndex=\"vector\",\n",
    "        monthlyIndex=\"vector\",\n",
    "        seasonality=\"vector\"\n",
    "    ),\n",
    "    prototype=list(\n",
    "        indexID=\"XXXXXX\",\n",
    "        startDate=as.Date(\"2012-01-01\"),\n",
    "        tabulate=FALSE,\n",
    "        annulaizedRate=0.02,\n",
    "        yearlyIndex=vector(),\n",
    "        monthlyIndex=vector(),\n",
    "        seasonality=rep(1,12)\n",
    "    )\n",
    ")"
   ]
  },
  {
   "cell_type": "code",
   "execution_count": 43,
   "metadata": {},
   "outputs": [
    {
     "data": {
      "text/html": [
       "'setID&lt;-'"
      ],
      "text/latex": [
       "'setID<-'"
      ],
      "text/markdown": [
       "'setID&lt;-'"
      ],
      "text/plain": [
       "[1] \"setID<-\""
      ]
     },
     "metadata": {},
     "output_type": "display_data"
    }
   ],
   "source": [
    "# ID 설정하기\n",
    "setGeneric(\"setID<-\", function(this, value, ...) standardGeneric(\"setID<-\"))\n",
    "setReplaceMethod(\"setID\", signature(\"Index\", \"character\"), function(this, value){\n",
    "  this@indexID <- as.character(value)  \n",
    "  return(this)\n",
    "})       "
   ]
  },
  {
   "cell_type": "code",
   "execution_count": 44,
   "metadata": {},
   "outputs": [
    {
     "data": {
      "text/html": [
       "'setStartDate&lt;-'"
      ],
      "text/latex": [
       "'setStartDate<-'"
      ],
      "text/markdown": [
       "'setStartDate&lt;-'"
      ],
      "text/plain": [
       "[1] \"setStartDate<-\""
      ]
     },
     "metadata": {},
     "output_type": "display_data"
    }
   ],
   "source": [
    "# 시작일 설정하기\n",
    "setGeneric(\"setStartDate<-\", function(this, value) standardGeneric(\"setStartDate<-\"))\n",
    "setReplaceMethod(\"setStartDate\", signature(\"Index\", \"Date\"), function(this, value){\n",
    "    this@startDate <- as.Date(value)\n",
    "    return(this)\n",
    "})"
   ]
  },
  {
   "cell_type": "code",
   "execution_count": 45,
   "metadata": {},
   "outputs": [
    {
     "data": {
      "text/html": [
       "'setTabulate&lt;-'"
      ],
      "text/latex": [
       "'setTabulate<-'"
      ],
      "text/markdown": [
       "'setTabulate&lt;-'"
      ],
      "text/plain": [
       "[1] \"setTabulate<-\""
      ]
     },
     "metadata": {},
     "output_type": "display_data"
    }
   ],
   "source": [
    "# 테이블 입력 여부 설정하기\n",
    "setGeneric(\"setTabulate<-\", function(this, value, ...) standardGeneric(\"setTabulate<-\"))\n",
    "setReplaceMethod(\"setTabulate\", signature(\"Index\", \"logical\"), function(this, value){\n",
    "    this@tabulate <- value\n",
    "    return(this)\n",
    "})"
   ]
  },
  {
   "cell_type": "code",
   "execution_count": 46,
   "metadata": {},
   "outputs": [
    {
     "data": {
      "text/html": [
       "'setAnnualizedRate&lt;-'"
      ],
      "text/latex": [
       "'setAnnualizedRate<-'"
      ],
      "text/markdown": [
       "'setAnnualizedRate&lt;-'"
      ],
      "text/plain": [
       "[1] \"setAnnualizedRate<-\""
      ]
     },
     "metadata": {},
     "output_type": "display_data"
    }
   ],
   "source": [
    "# 연단위 일정한 인덱스 설정하기\n",
    "setGeneric(\"setAnnualizedRate<-\", function(this, value, ...) standardGeneric(\"setAnnualizedRate<-\"))\n",
    "setReplaceMethod(\"setAnnualizedRate\", signature(\"Index\", \"numeric\"), function(this, value){\n",
    "    this@annualizedRate <- value\n",
    "    return(this)\n",
    "})"
   ]
  },
  {
   "cell_type": "code",
   "execution_count": 47,
   "metadata": {},
   "outputs": [
    {
     "data": {
      "text/html": [
       "'setYearlyIndex&lt;-'"
      ],
      "text/latex": [
       "'setYearlyIndex<-'"
      ],
      "text/markdown": [
       "'setYearlyIndex&lt;-'"
      ],
      "text/plain": [
       "[1] \"setYearlyIndex<-\""
      ]
     },
     "metadata": {},
     "output_type": "display_data"
    }
   ],
   "source": [
    "# 연단위 인덱스 설정하기\n",
    "setGeneric(\"setYearlyIndex<-\", function(this, value, ...) standardGeneric(\"setYearlyIndex<-\"))\n",
    "setReplaceMethod(\"setYearlyIndex\", signature(\"Index\", \"vector\"), function(this, value){\n",
    "    this@yearlyIndex <- value\n",
    "    this@tabulate <- TRUE\n",
    "    return(this)\n",
    "})"
   ]
  },
  {
   "cell_type": "code",
   "execution_count": 50,
   "metadata": {},
   "outputs": [
    {
     "data": {
      "text/html": [
       "'setMonthlyIndex&lt;-'"
      ],
      "text/latex": [
       "'setMonthlyIndex<-'"
      ],
      "text/markdown": [
       "'setMonthlyIndex&lt;-'"
      ],
      "text/plain": [
       "[1] \"setMonthlyIndex<-\""
      ]
     },
     "metadata": {},
     "output_type": "display_data"
    }
   ],
   "source": [
    "# 월단위 인덱스 설정하기\n",
    "setGeneric(\"setMonthlyIndex<-\", function(this, value, ...) standardGeneric(\"setMonthlyIndex<-\"))\n",
    "setReplaceMethod(\"setMonthlyIndex\", signature(\"Index\", \"vector\"), function(this, value){\n",
    "    this@monthlyIndex <- value\n",
    "    this@tabulate <- TRUE\n",
    "    return(this)\n",
    "})"
   ]
  },
  {
   "cell_type": "code",
   "execution_count": 179,
   "metadata": {},
   "outputs": [
    {
     "data": {
      "text/html": [
       "'setSeasonality&lt;-'"
      ],
      "text/latex": [
       "'setSeasonality<-'"
      ],
      "text/markdown": [
       "'setSeasonality&lt;-'"
      ],
      "text/plain": [
       "[1] \"setSeasonality<-\""
      ]
     },
     "metadata": {},
     "output_type": "display_data"
    }
   ],
   "source": [
    "# 계절성 지수 설정하기\n",
    "setGeneric(\"setSeasonality<-\", function(this, value, ...) standardGeneric(\"setSeasonality<-\"))\n",
    "setReplaceMethod(\"setSeasonality\", signature(\"Index\", \"vector\"), function(this, value){\n",
    "    this@seasonality <- value\n",
    "    return(this)\n",
    "})        "
   ]
  },
  {
   "cell_type": "code",
   "execution_count": 180,
   "metadata": {},
   "outputs": [
    {
     "data": {
      "text/html": [
       "'setIndex'"
      ],
      "text/latex": [
       "'setIndex'"
      ],
      "text/markdown": [
       "'setIndex'"
      ],
      "text/plain": [
       "[1] \"setIndex\""
      ]
     },
     "metadata": {},
     "output_type": "display_data"
    }
   ],
   "source": [
    "# 인덱스 설정하기\n",
    "setGeneric(\"setIndex\", function(object, ...) standardGeneric(\"setIndex\"))\n",
    "setMethod(\"setIndex\", signature(\"Index\"), function(object){\n",
    "    tryCatch({\n",
    "        yearlylen <- length(object@yearlyIndex)\n",
    "    \n",
    "        #1. Index를 annualized Index로 만드는 경우\n",
    "        if(object@tabulate==FALSE){\n",
    "            object@monthlyIndex <- cumprod(c(1, rep((1+object@annualizedRate)^(1/12), 359)))\n",
    "\n",
    "            # Seasonality Index 반영\n",
    "            for(i in 1:length(object@monthlyIndex)){\n",
    "                mth <- (i-1)%%12 + 1\n",
    "                object@monthlyIndex[i] <- object@monthlyIndex[i]*object@seasonality[mth]\n",
    "            }\n",
    "\n",
    "        #2. Monthly Index가 없고 Yearly Index는 존재하는 경우\n",
    "        }else if(length(object@monthlyIndex)==0 && yearlylen>0){\n",
    "\n",
    "            # yearly Index가 30개 이하면 30개 맞춰줌(최소 30년)\n",
    "            if(yearlylen < 30){\n",
    "            warning(paste0(\"Index \", object@indexID, \": yearly index input is less than 30 years and is extrapolated using annulaized rate.\"))\n",
    "            object@yearlyIndex <- round(c(object@yearlyIndex, cumprod(c(object@yearlyIndex[yearlylen]*(1+object@annualizedRate), rep(1+object@annualizedRate, 30-yearlylen-1)))),2)\n",
    "            }\n",
    "\n",
    "            # Yearly Index 중에 음수인 애가 있을 때 ERROR\n",
    "            if(any(object@yearlyIndex < 0)) stop(\"yearlyIndex cannot be negative.\")\n",
    "\n",
    "            # Yearly Index를 가지고 Monthly Index 생성\n",
    "            # 30년 이하면 이상하게 나오는 듯?\n",
    "            object@monthlyIndex <- rep(1,360)\n",
    "            object@monthlyIndex[1] <- object@yearlyIndex[1]\n",
    "            for(i in 13:length(object@monthlyIndex)){\n",
    "                yr <- ceiling(i/12)\n",
    "                rte <- (object@yearlyIndex[yr]/object@yearlyIndex[yr-1])^(1/12)\n",
    "                object@monthlyIndex[i] <- object@monthlyIndex[i-1]*rte\n",
    "            }\n",
    "\n",
    "            # Seasonality Index 반영\n",
    "            for(i in 1:length(object@monthlyIndex)){\n",
    "                mth <- (i-1)%%12 + 1\n",
    "                object@monthlyIndex[i] <- object@monthlyIndex[i]*object@seasonality[mth]\n",
    "            }\n",
    "\n",
    "        #3. Yearly Index도 존재하지 않는 경우\n",
    "        }else if(length(object@monthlyIndex)==0){\n",
    "            warning(paste0(\"Index \", object@indexID, \": No index value provided. Index value will be set to 1 with seasonal adjustment.\"))\n",
    "\n",
    "            object@monthlyIndex <- rep(1,360)\n",
    "            # Seasonality Index 반영\n",
    "            for(i in 1:length(object@monthlyIndex)){\n",
    "                mth <- (i-1)%%12 + 1\n",
    "                object@monthlyIndex[i] <- object@monthlyIndex[i]*object@seasonality[mth]\n",
    "            }\n",
    "        }\n",
    "\n",
    "        # Monthly Index 중에 음수인 애가 있을 때 ERROR\n",
    "        if(any(object@yearlyIndex < 0)) stop(\"monthlyIndex cannot be negative.\")\n",
    "\n",
    "        gc()\n",
    "        return(object)\n",
    "    }, error=function(err){\n",
    "        print(paste0(\">>>Critical Error for \", \"Index \", object@indexID, \": \", err))\n",
    "        gc()\n",
    "        return(-1)\n",
    "    })\n",
    "})"
   ]
  },
  {
   "cell_type": "code",
   "execution_count": 264,
   "metadata": {},
   "outputs": [
    {
     "data": {
      "text/html": [
       "'shiftIndex'"
      ],
      "text/latex": [
       "'shiftIndex'"
      ],
      "text/markdown": [
       "'shiftIndex'"
      ],
      "text/plain": [
       "[1] \"shiftIndex\""
      ]
     },
     "metadata": {},
     "output_type": "display_data"
    }
   ],
   "source": [
    "# 인덱스 이동\n",
    "setGeneric(\"shiftIndex\", function(object, ...) standardGeneric(\"shiftIndex\"))\n",
    "setMethod(\"shiftIndex\", signature(\"Index\"), function(object, newStartDate, newEndDate){\n",
    "    tryCatch({\n",
    "        newyear <- as.numeric(substr(as.character(newStartDate), 1, 4))\n",
    "        newmonth <- as.numeric(substr(as.character(newStartDate), 6, 7))\n",
    "        endyear <- as.numeric(substr(as.character(newEndDate), 1, 4))\n",
    "        endmonth <- as.numeric(substr(as.character(newEndDate), 6, 7))\n",
    "        startyear <- as.numeric(substr(as.character(object@startDate), 1, 4))\n",
    "        startmonth <- as.numeric(substr(as.character(object@startDate), 6, 7))\n",
    "        sindex <- (newyear-startyear)*12+(newmonth-startmonth)+1\n",
    "        nlen <- (endyear-newyear)*12+(endmonth-newmonth)+1\n",
    "\n",
    "        newMI <- c(rep(0,max(0,1-sindex)), object@monthlyIndex[max(1,sindex):min(length(object@monthlyIndex),length(object@monthlyIndex)+sindex-1)])\n",
    "        #newMI <- c(rep(0,max(0,1-sindex)),object@monthlyIndex[max(1,sindex):min(length(object@monthlyIndex),length(object@monthlyIndex)+sindex-1)])\n",
    "        if(nlen>length(newMI)){\n",
    "            newMI <- c(newMI, rep(0,nlen-length(newMI)))\n",
    "        }else{\n",
    "            newMI <- newMI[1:nlen]\n",
    "        }\n",
    "        \n",
    "        gc()\n",
    "        return(newMI)\n",
    "    }, error=function(err){\n",
    "        print(paste0(\">>>Critical Error for shifting index values\", \"Index \", object@indexID, \": \", err))\n",
    "        gc()\n",
    "        return(-1)\n",
    "    })\n",
    "})"
   ]
  },
  {
   "cell_type": "code",
   "execution_count": 272,
   "metadata": {},
   "outputs": [
    {
     "data": {
      "text/html": [
       "'toString'"
      ],
      "text/latex": [
       "'toString'"
      ],
      "text/markdown": [
       "'toString'"
      ],
      "text/plain": [
       "[1] \"toString\""
      ]
     },
     "metadata": {},
     "output_type": "display_data"
    }
   ],
   "source": [
    "# 인덱스의 문자화(?)\n",
    "setGeneric(\"toString\", function(object, ...) standardGeneric(\"toString\"))\n",
    "setMethod(\"toString\", signature(\"Index\"), function(object) return(paste0(\"Index \", object@indexID, \" start date=\", object@startDate)))"
   ]
  },
  {
   "cell_type": "code",
   "execution_count": 275,
   "metadata": {},
   "outputs": [
    {
     "data": {
      "text/plain": [
       "An object of class \"Index\"\n",
       "Slot \"indexID\":\n",
       "[1] \"RX-78\"\n",
       "\n",
       "Slot \"startDate\":\n",
       "[1] \"2017-11-30\"\n",
       "\n",
       "Slot \"tabulate\":\n",
       "[1] FALSE\n",
       "\n",
       "Slot \"annualizedRate\":\n",
       "[1] 0.045\n",
       "\n",
       "Slot \"yearlyIndex\":\n",
       "logical(0)\n",
       "\n",
       "Slot \"monthlyIndex\":\n",
       "  [1] 1.000000 1.003675 1.007363 1.011065 1.014780 1.018510 1.022252 1.026009\n",
       "  [9] 1.029779 1.033564 1.037362 1.041174 1.045000 1.048840 1.052694 1.056563\n",
       " [17] 1.060446 1.064343 1.068254 1.072179 1.076119 1.080074 1.084043 1.088027\n",
       " [25] 1.092025 1.096038 1.100066 1.104108 1.108166 1.112238 1.116325 1.120427\n",
       " [33] 1.124545 1.128677 1.132825 1.136988 1.141166 1.145360 1.149569 1.153793\n",
       " [41] 1.158033 1.162289 1.166560 1.170847 1.175149 1.179468 1.183802 1.188152\n",
       " [49] 1.192519 1.196901 1.201299 1.205714 1.210145 1.214592 1.219055 1.223535\n",
       " [57] 1.228031 1.232544 1.237073 1.241619 1.246182 1.250761 1.255358 1.259971\n",
       " [65] 1.264601 1.269248 1.273912 1.278594 1.283292 1.288008 1.292742 1.297492\n",
       " [73] 1.302260 1.307046 1.311849 1.316670 1.321508 1.326364 1.331239 1.336131\n",
       " [81] 1.341041 1.345969 1.350915 1.355879 1.360862 1.365863 1.370882 1.375920\n",
       " [89] 1.380976 1.386051 1.391144 1.396256 1.401387 1.406537 1.411706 1.416894\n",
       " [97] 1.422101 1.427327 1.432572 1.437836 1.443120 1.448423 1.453746 1.459088\n",
       "[105] 1.464450 1.469831 1.475233 1.480654 1.486095 1.491556 1.497037 1.502539\n",
       "[113] 1.508060 1.513602 1.519164 1.524747 1.530350 1.535974 1.541618 1.547283\n",
       "[121] 1.552969 1.558676 1.564404 1.570153 1.575923 1.581714 1.587527 1.593361\n",
       "[129] 1.599216 1.605093 1.610991 1.616911 1.622853 1.628817 1.634802 1.640810\n",
       "[137] 1.646840 1.652891 1.658965 1.665062 1.671181 1.677322 1.683486 1.689672\n",
       "[145] 1.695881 1.702113 1.708368 1.714646 1.720947 1.727271 1.733619 1.739990\n",
       "[153] 1.746384 1.752801 1.759243 1.765707 1.772196 1.778709 1.785245 1.791805\n",
       "[161] 1.798390 1.804999 1.811632 1.818289 1.824971 1.831677 1.838408 1.845164\n",
       "[169] 1.851945 1.858750 1.865581 1.872437 1.879318 1.886224 1.893155 1.900112\n",
       "[177] 1.907095 1.914103 1.921137 1.928197 1.935282 1.942394 1.949532 1.956696\n",
       "[185] 1.963887 1.971104 1.978347 1.985617 1.992914 2.000238 2.007588 2.014966\n",
       "[193] 2.022370 2.029802 2.037261 2.044748 2.052262 2.059803 2.067373 2.074970\n",
       "[201] 2.082595 2.090248 2.097929 2.105639 2.113377 2.121143 2.128938 2.136761\n",
       "[209] 2.144613 2.152495 2.160405 2.168344 2.176312 2.184309 2.192336 2.200393\n",
       "[217] 2.208479 2.216595 2.224740 2.232916 2.241121 2.249357 2.257623 2.265919\n",
       "[225] 2.274246 2.282603 2.290991 2.299410 2.307860 2.316341 2.324853 2.333397\n",
       "[233] 2.341972 2.350578 2.359216 2.367885 2.376587 2.385320 2.394086 2.402884\n",
       "[241] 2.411714 2.420577 2.429472 2.438400 2.447360 2.456354 2.465380 2.474440\n",
       "[249] 2.483533 2.492660 2.501820 2.511014 2.520241 2.529503 2.538798 2.548128\n",
       "[257] 2.557491 2.566890 2.576323 2.585790 2.595292 2.604830 2.614402 2.624009\n",
       "[265] 2.633652 2.643330 2.653044 2.662793 2.672579 2.682400 2.692257 2.702151\n",
       "[273] 2.712081 2.722047 2.732050 2.742090 2.752166 2.762280 2.772431 2.782619\n",
       "[281] 2.792845 2.803108 2.813409 2.823747 2.834124 2.844539 2.854992 2.865484\n",
       "[289] 2.876014 2.886583 2.897190 2.907837 2.918523 2.929248 2.940012 2.950816\n",
       "[297] 2.961660 2.972543 2.983467 2.994430 3.005434 3.016479 3.027564 3.038690\n",
       "[305] 3.049856 3.061064 3.072313 3.083603 3.094934 3.106308 3.117723 3.129180\n",
       "[313] 3.140679 3.152220 3.163804 3.175431 3.187100 3.198812 3.210567 3.222365\n",
       "[321] 3.234206 3.246092 3.258020 3.269993 3.282010 3.294070 3.306175 3.318325\n",
       "[329] 3.330519 3.342758 3.355042 3.367371 3.379746 3.392166 3.404631 3.417143\n",
       "[337] 3.429700 3.442303 3.454953 3.467650 3.480393 3.493182 3.506019 3.518903\n",
       "[345] 3.531834 3.544813 3.557840 3.570914 3.584036 3.597207 3.610426 3.623694\n",
       "[353] 3.637010 3.650376 3.663790 3.677254 3.690767 3.704330 3.717942 3.731605\n",
       "\n",
       "Slot \"seasonality\":\n",
       " [1] 1 1 1 1 1 1 1 1 1 1 1 1\n"
      ]
     },
     "metadata": {},
     "output_type": "display_data"
    }
   ],
   "source": [
    "# 인스턴스 생성\n",
    "idx <- new(\"Index\")\n",
    "\n",
    "setID(idx) <- 'RX-78'\n",
    "setStartDate(idx) <- as.Date('2017-11-30')\n",
    "setAnnualizedRate(idx) <- 0.045\n",
    "\n",
    "idx <- setIndex(idx)\n",
    "idx"
   ]
  }
 ],
 "metadata": {
  "kernelspec": {
   "display_name": "R",
   "language": "R",
   "name": "ir"
  },
  "language_info": {
   "codemirror_mode": "r",
   "file_extension": ".r",
   "mimetype": "text/x-r-source",
   "name": "R",
   "pygments_lexer": "r",
   "version": "3.5.1"
  }
 },
 "nbformat": 4,
 "nbformat_minor": 2
}
