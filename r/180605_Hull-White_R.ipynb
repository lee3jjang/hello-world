{
 "cells": [
  {
   "cell_type": "code",
   "execution_count": 1,
   "metadata": {},
   "outputs": [
    {
     "name": "stderr",
     "output_type": "stream",
     "text": [
      "Loading required package: ggplot2\n",
      "Loading required package: repr\n"
     ]
    }
   ],
   "source": [
    "# 패키지 불러오기\n",
    "require(ggplot2)\n",
    "require(repr)\n",
    "options(repr.plot.width=5, repr.plot.height=3)"
   ]
  },
  {
   "cell_type": "code",
   "execution_count": 2,
   "metadata": {},
   "outputs": [],
   "source": [
    "# 삭제\n",
    "rm(list = ls())"
   ]
  },
  {
   "cell_type": "code",
   "execution_count": 3,
   "metadata": {},
   "outputs": [
    {
     "data": {
      "text/html": [
       "'Wilson'"
      ],
      "text/latex": [
       "'Wilson'"
      ],
      "text/markdown": [
       "'Wilson'"
      ],
      "text/plain": [
       "[1] \"Wilson\""
      ]
     },
     "metadata": {},
     "output_type": "display_data"
    },
    {
     "data": {
      "text/html": [
       "'Wilson'"
      ],
      "text/latex": [
       "'Wilson'"
      ],
      "text/markdown": [
       "'Wilson'"
      ],
      "text/plain": [
       "[1] \"Wilson\""
      ]
     },
     "metadata": {},
     "output_type": "display_data"
    },
    {
     "data": {
      "text/html": [
       "'TermStr'"
      ],
      "text/latex": [
       "'TermStr'"
      ],
      "text/markdown": [
       "'TermStr'"
      ],
      "text/plain": [
       "[1] \"TermStr\""
      ]
     },
     "metadata": {},
     "output_type": "display_data"
    },
    {
     "data": {
      "text/html": [
       "'TermStr'"
      ],
      "text/latex": [
       "'TermStr'"
      ],
      "text/markdown": [
       "'TermStr'"
      ],
      "text/plain": [
       "[1] \"TermStr\""
      ]
     },
     "metadata": {},
     "output_type": "display_data"
    },
    {
     "data": {
      "text/html": [
       "'Forward'"
      ],
      "text/latex": [
       "'Forward'"
      ],
      "text/markdown": [
       "'Forward'"
      ],
      "text/plain": [
       "[1] \"Forward\""
      ]
     },
     "metadata": {},
     "output_type": "display_data"
    },
    {
     "data": {
      "text/html": [
       "'Forward'"
      ],
      "text/latex": [
       "'Forward'"
      ],
      "text/markdown": [
       "'Forward'"
      ],
      "text/plain": [
       "[1] \"Forward\""
      ]
     },
     "metadata": {},
     "output_type": "display_data"
    },
    {
     "data": {
      "text/html": [
       "'Bond'"
      ],
      "text/latex": [
       "'Bond'"
      ],
      "text/markdown": [
       "'Bond'"
      ],
      "text/plain": [
       "[1] \"Bond\""
      ]
     },
     "metadata": {},
     "output_type": "display_data"
    },
    {
     "data": {
      "text/html": [
       "'Bond'"
      ],
      "text/latex": [
       "'Bond'"
      ],
      "text/markdown": [
       "'Bond'"
      ],
      "text/plain": [
       "[1] \"Bond\""
      ]
     },
     "metadata": {},
     "output_type": "display_data"
    },
    {
     "data": {
      "text/html": [
       "'Calibration'"
      ],
      "text/latex": [
       "'Calibration'"
      ],
      "text/markdown": [
       "'Calibration'"
      ],
      "text/plain": [
       "[1] \"Calibration\""
      ]
     },
     "metadata": {},
     "output_type": "display_data"
    },
    {
     "data": {
      "text/html": [
       "'Calibration'"
      ],
      "text/latex": [
       "'Calibration'"
      ],
      "text/markdown": [
       "'Calibration'"
      ],
      "text/plain": [
       "[1] \"Calibration\""
      ]
     },
     "metadata": {},
     "output_type": "display_data"
    },
    {
     "data": {
      "text/html": [
       "'initialize'"
      ],
      "text/latex": [
       "'initialize'"
      ],
      "text/markdown": [
       "'initialize'"
      ],
      "text/plain": [
       "[1] \"initialize\""
      ]
     },
     "metadata": {},
     "output_type": "display_data"
    }
   ],
   "source": [
    "## Term Structure Class 정의\n",
    "\n",
    "# Smith-Wilson Class\n",
    "setClass('Smith.Wilson',\n",
    "        representation(alpha=\"numeric\", UFR=\"numeric\", terms=\"numeric\", int=\"numeric\", zeta=\"numeric\"))\n",
    "\n",
    "# Wilson function\n",
    "setGeneric(\"Wilson\", function(object, ...) standardGeneric(\"Wilson\"))\n",
    "setMethod(\"Wilson\", \"Smith.Wilson\", Vectorize(function(object,t,u,order=0){\n",
    "    if (order==0) {\n",
    "        y <- exp(-object@UFR*(t+u))*(object@alpha*pmin(t,u) - 0.5*exp(-object@alpha*pmax(t,u))*(exp(object@alpha*pmin(t,u)) - exp(-object@alpha*pmin(t,u))))\n",
    "    }else if(order==1){\n",
    "        if (t < u) y <- exp(-object@UFR*t-(object@alpha+object@UFR)*u)*(object@UFR*sinh(object@alpha*t)-object@alpha*cosh(object@alpha*t)-object@alpha*(object@UFR*t-1)*exp(object@alpha*u))\n",
    "        else y <- exp(-object@UFR*u-(object@alpha+object@UFR)*t)*((object@alpha+object@UFR)*sinh(object@alpha*u)-object@alpha*object@UFR*u*exp(object@alpha*t))\n",
    "    }else if(order==2){\n",
    "        if (t < u) y <- exp(-object@UFR*t-(object@alpha+object@UFR)*u)*(-(object@alpha^2+object@UFR^2)*sinh(object@alpha*t)+2*object@alpha*object@UFR*cosh(object@alpha*t)+object@alpha*object@UFR*(object@UFR*t-2)*exp(object@alpha*u)) \n",
    "        else y <- exp(-object@UFR*u-(object@alpha+object@UFR)*t)*(object@alpha*object@UFR^2*u*exp(object@alpha*t)-(object@alpha+object@UFR)^2*sinh(object@alpha*u))\n",
    "    }else print('유효한 order가 아닙니다.')\n",
    "    return(y)\n",
    "}, vectorize.args=c('t','u')))\n",
    "         \n",
    "# Term Structure\n",
    "setGeneric(\"TermStr\", function(object, ...) standardGeneric(\"TermStr\"))\n",
    "setMethod(\"TermStr\", \"Smith.Wilson\", function(object, t){\n",
    "    y <- (1/Bond(object,t))^(1/t) - 1\n",
    "    return(y)\n",
    "})\n",
    "\n",
    "# Forward Rate\n",
    "setGeneric(\"Forward\", function(object, ...) standardGeneric(\"Forward\"))\n",
    "setMethod(\"Forward\", \"Smith.Wilson\", Vectorize(function(object, t, order=0){\n",
    "    if (order==0) y <- -Bond(object,t,1)/Bond(object,t,0)\n",
    "    else if (order==1) y <- 1/Bond(object,t,0)*(-Bond(object,t,1)^2/Bond(object,t,0) + Bond(object,t,2))\n",
    "    else print('유효한 order가 아닙니다.')\n",
    "    return(y)\n",
    "}, vectorize.args='t'))\n",
    "        \n",
    "# Bond Price\n",
    "setGeneric(\"Bond\", function(object, ...) standardGeneric(\"Bond\"))\n",
    "setMethod(\"Bond\", \"Smith.Wilson\", Vectorize(function(object, t, order=0){\n",
    "    y <- (-object@UFR)^order*exp(-object@UFR*t) + object@zeta %*% Wilson(object, t, object@terms, order)\n",
    "    return(y)\n",
    "}, vectorize.args=\"t\"))\n",
    "    \n",
    "# Calibration\n",
    "setGeneric(\"Calibration\", function(object, ...) standardGeneric(\"Calibration\"))\n",
    "setMethod(\"Calibration\", \"Smith.Wilson\", function(object, alpha,tol=0.0001, M=60){\n",
    "    obj <- function(alpha){\n",
    "        object <- initialize(object,alpha=alpha,UFR=object@UFR,terms=object@terms,int=object@int)\n",
    "        error <- sqrt((tol-abs(Forward(object,M)-object@UFR))^2)\n",
    "        return(error)\n",
    "    }\n",
    "\n",
    "    alpha <- optimize(obj, interval=c(0,1))$minimum\n",
    "    return(alpha)\n",
    "})\n",
    "\n",
    "# Initialize\n",
    "setMethod(\"initialize\", \"Smith.Wilson\", function(.Object, alpha, UFR, terms, int){\n",
    "    .Object@alpha <- alpha\n",
    "    .Object@UFR <- UFR\n",
    "    .Object@terms <- terms\n",
    "    .Object@int <- int\n",
    "    \n",
    "    W <- outer(terms, terms, FUN=function(x,y) Wilson(.Object, x, y))\n",
    "    m  <- 1/(1+int)^terms\n",
    "    mu <- exp(-UFR*terms)\n",
    "    .Object@zeta <- as.numeric((m-mu)%*%solve(W))\n",
    "    \n",
    "    return(.Object)\n",
    "})"
   ]
  },
  {
   "cell_type": "code",
   "execution_count": 4,
   "metadata": {},
   "outputs": [],
   "source": [
    "# 입력 데이터\n",
    "int.rate <- c(0.0334,0.0326,0.0327,0.0328,0.033,0.0335,0.0342,0.0345,0.0347,0.0352)\n",
    "int.mat <- c(1,2,3,4,5,7,10,12,15,20)\n",
    "vol <- matrix (c(0.1815,0.172,0.17,0.1605,0.158,0.155,\n",
    "                 0.177,0.1715,0.17,0.158,0.1545,0.15,\n",
    "                 0.174,0.168,0.1655,0.1555,0.1495,0.1475,\n",
    "                 0.165,0.1575,0.157,0.1495,0.1455,0.144,\n",
    "                 0.165,0.1575,0.157,0.1535,0.1455,0.144,\n",
    "                 0.1665,0.159,0.1575,0.15,0.1455,0.14),\n",
    "                 ncol=6, byrow=TRUE)\n",
    "colnames(vol) <- rownames(vol) <- tenor <- c(1,2,3,5,7,10)"
   ]
  },
  {
   "cell_type": "code",
   "execution_count": 5,
   "metadata": {},
   "outputs": [
    {
     "data": {},
     "metadata": {},
     "output_type": "display_data"
    },
    {
     "data": {
      "image/png": "[encoded data removed]",
      "text/plain": [
       "plot without title"
      ]
     },
     "metadata": {},
     "output_type": "display_data"
    }
   ],
   "source": [
    "# Smith-Wilson 객체 생성\n",
    "sw <- new(\"Smith.Wilson\", alpha=0.1, UFR=0.045, terms=int.mat, int=int.rate)\n",
    "\n",
    "# 보정된 금리 생성\n",
    "t <- seq(0.01,100,by=0.05)\n",
    "int.rate.sw <- TermStr(sw, t)\n",
    "    \n",
    "# 그래프 출력\n",
    "ggplot() +\n",
    "    geom_line(aes(x=t, y=int.rate.sw)) +\n",
    "    geom_point(aes(x=int.mat, y=int.rate)) +\n",
    "    labs(x='만기', y='금리', title='Smith-Wilson Method 로 보정된 Interest Rates')"
   ]
  },
  {
   "cell_type": "code",
   "execution_count": 6,
   "metadata": {},
   "outputs": [
    {
     "data": {
      "text/html": [
       "'Vol'"
      ],
      "text/latex": [
       "'Vol'"
      ],
      "text/markdown": [
       "'Vol'"
      ],
      "text/plain": [
       "[1] \"Vol\""
      ]
     },
     "metadata": {},
     "output_type": "display_data"
    },
    {
     "data": {
      "text/html": [
       "'A'"
      ],
      "text/latex": [
       "'A'"
      ],
      "text/markdown": [
       "'A'"
      ],
      "text/plain": [
       "[1] \"A\""
      ]
     },
     "metadata": {},
     "output_type": "display_data"
    },
    {
     "data": {
      "text/html": [
       "'B'"
      ],
      "text/latex": [
       "'B'"
      ],
      "text/markdown": [
       "'B'"
      ],
      "text/plain": [
       "[1] \"B\""
      ]
     },
     "metadata": {},
     "output_type": "display_data"
    },
    {
     "data": {
      "text/html": [
       "'fswap'"
      ],
      "text/latex": [
       "'fswap'"
      ],
      "text/markdown": [
       "'fswap'"
      ],
      "text/plain": [
       "[1] \"fswap\""
      ]
     },
     "metadata": {},
     "output_type": "display_data"
    },
    {
     "data": {
      "text/html": [
       "'fswap.cf'"
      ],
      "text/latex": [
       "'fswap.cf'"
      ],
      "text/markdown": [
       "'fswap.cf'"
      ],
      "text/plain": [
       "[1] \"fswap.cf\""
      ]
     },
     "metadata": {},
     "output_type": "display_data"
    },
    {
     "data": {
      "text/html": [
       "'Jamshidian'"
      ],
      "text/latex": [
       "'Jamshidian'"
      ],
      "text/markdown": [
       "'Jamshidian'"
      ],
      "text/plain": [
       "[1] \"Jamshidian\""
      ]
     },
     "metadata": {},
     "output_type": "display_data"
    },
    {
     "data": {
      "text/html": [
       "'ReceiverSwaption'"
      ],
      "text/latex": [
       "'ReceiverSwaption'"
      ],
      "text/markdown": [
       "'ReceiverSwaption'"
      ],
      "text/plain": [
       "[1] \"ReceiverSwaption\""
      ]
     },
     "metadata": {},
     "output_type": "display_data"
    },
    {
     "data": {
      "text/html": [
       "'Objective'"
      ],
      "text/latex": [
       "'Objective'"
      ],
      "text/markdown": [
       "'Objective'"
      ],
      "text/plain": [
       "[1] \"Objective\""
      ]
     },
     "metadata": {},
     "output_type": "display_data"
    }
   ],
   "source": [
    "setGeneric(\"Vol\", function(object, ...) standardGeneric(\"Vol\"))\n",
    "setGeneric(\"A\", function(object, ...) standardGeneric(\"A\"))\n",
    "setGeneric(\"B\", function(object, ...) standardGeneric(\"B\"))\n",
    "setGeneric(\"fswap\", function(object, ...) standardGeneric(\"fswap\"))\n",
    "setGeneric(\"fswap.cf\", function(object, ...) standardGeneric(\"fswap.cf\"))\n",
    "setGeneric(\"Jamshidian\", function(object, ...) standardGeneric(\"Jamshidian\"))\n",
    "setGeneric(\"ReceiverSwaption\", function(object, ...) standardGeneric(\"ReceiverSwaption\"))\n",
    "setGeneric(\"Objective\", function(object, ...) standardGeneric(\"Objective\"))"
   ]
  },
  {
   "cell_type": "code",
   "execution_count": 7,
   "metadata": {},
   "outputs": [
    {
     "data": {
      "text/html": [
       "'Bond'"
      ],
      "text/latex": [
       "'Bond'"
      ],
      "text/markdown": [
       "'Bond'"
      ],
      "text/plain": [
       "[1] \"Bond\""
      ]
     },
     "metadata": {},
     "output_type": "display_data"
    },
    {
     "data": {
      "text/html": [
       "'Vol'"
      ],
      "text/latex": [
       "'Vol'"
      ],
      "text/markdown": [
       "'Vol'"
      ],
      "text/plain": [
       "[1] \"Vol\""
      ]
     },
     "metadata": {},
     "output_type": "display_data"
    },
    {
     "data": {
      "text/html": [
       "'A'"
      ],
      "text/latex": [
       "'A'"
      ],
      "text/markdown": [
       "'A'"
      ],
      "text/plain": [
       "[1] \"A\""
      ]
     },
     "metadata": {},
     "output_type": "display_data"
    },
    {
     "data": {
      "text/html": [
       "'B'"
      ],
      "text/latex": [
       "'B'"
      ],
      "text/markdown": [
       "'B'"
      ],
      "text/plain": [
       "[1] \"B\""
      ]
     },
     "metadata": {},
     "output_type": "display_data"
    },
    {
     "data": {
      "text/html": [
       "'fswap'"
      ],
      "text/latex": [
       "'fswap'"
      ],
      "text/markdown": [
       "'fswap'"
      ],
      "text/plain": [
       "[1] \"fswap\""
      ]
     },
     "metadata": {},
     "output_type": "display_data"
    },
    {
     "data": {
      "text/html": [
       "'fswap.cf'"
      ],
      "text/latex": [
       "'fswap.cf'"
      ],
      "text/markdown": [
       "'fswap.cf'"
      ],
      "text/plain": [
       "[1] \"fswap.cf\""
      ]
     },
     "metadata": {},
     "output_type": "display_data"
    },
    {
     "data": {
      "text/html": [
       "'Jamshidian'"
      ],
      "text/latex": [
       "'Jamshidian'"
      ],
      "text/markdown": [
       "'Jamshidian'"
      ],
      "text/plain": [
       "[1] \"Jamshidian\""
      ]
     },
     "metadata": {},
     "output_type": "display_data"
    },
    {
     "data": {
      "text/html": [
       "'ReceiverSwaption'"
      ],
      "text/latex": [
       "'ReceiverSwaption'"
      ],
      "text/markdown": [
       "'ReceiverSwaption'"
      ],
      "text/plain": [
       "[1] \"ReceiverSwaption\""
      ]
     },
     "metadata": {},
     "output_type": "display_data"
    },
    {
     "data": {
      "text/html": [
       "'Objective'"
      ],
      "text/latex": [
       "'Objective'"
      ],
      "text/markdown": [
       "'Objective'"
      ],
      "text/plain": [
       "[1] \"Objective\""
      ]
     },
     "metadata": {},
     "output_type": "display_data"
    },
    {
     "data": {
      "text/html": [
       "'initialize'"
      ],
      "text/latex": [
       "'initialize'"
      ],
      "text/markdown": [
       "'initialize'"
      ],
      "text/plain": [
       "[1] \"initialize\""
      ]
     },
     "metadata": {},
     "output_type": "display_data"
    }
   ],
   "source": [
    "# Hull-White Class 정의\n",
    "setClass('Hull.White',\n",
    "        representation(alpha=\"numeric\", sigma=\"numeric\", termStr='Smith.Wilson', fswap.vol='matrix', fswap.tenor='numeric', fswap.rate='matrix', rs.black='matrix', N='numeric', tau='numeric'))\n",
    "\n",
    "# Bond Price\n",
    "setMethod(\"Bond\", \"Hull.White\", function(object,t,T,r,order=0){\n",
    "    if (order==0) y <- A(object,t,T)*exp(-B(object,t,T)*r)\n",
    "    else if(order==1) y <- -B(object,t,T)*Bond(object,t,T,r)\n",
    "    return(y)\n",
    "})\n",
    "\n",
    "# Volatility\n",
    "setMethod(\"Vol\", \"Hull.White\", function(object,T,S){\n",
    "    y <- object@sigma/object@alpha*(1-exp(-object@alpha*(S-T)))*sqrt((1-exp(-2*object@alpha*T))/(2*object@alpha))\n",
    "    return(y)\n",
    "})\n",
    "\n",
    "# A(t,T)\n",
    "setMethod(\"A\", \"Hull.White\", function(object,t,T){\n",
    "    y <- Bond(object@termStr,T)/Bond(object@termStr,t)*exp(B(object,t,T)*Forward(object@termStr, t) - object@sigma^2/(4*object@alpha)*B(object,t,T)^2*(1-exp(-2*object@alpha*t)))\n",
    "    return(y)\n",
    "})\n",
    " \n",
    "# B(t,T)\n",
    "setMethod(\"B\", \"Hull.White\", function(object,t,T){\n",
    "    y <- (1-exp(-object@alpha*(T-t)))/object@alpha\n",
    "    return(y)\n",
    "})\n",
    "\n",
    "# Forward Swap Rate\n",
    "setMethod(\"fswap\", \"Hull.White\", Vectorize(function(object,T,S, tau=0.25){\n",
    "    (Bond(object@termStr, T)-Bond(object@termStr, S))/(tau*sum(Bond(object@termStr, seq(T+tau,S,tau))))\n",
    "}, vectorize.args = c('T','S')))\n",
    "\n",
    "# Forward Swap Rate Cash flow\n",
    "setMethod(\"fswap.cf\", \"Hull.White\", function(object,T,S,tau=object@tau){\n",
    "    c <- rep(fswap(object,T,S)*object@tau,(S-T)/tau)\n",
    "    c[(S-T)/tau] <- 1+c[(S-T)/tau]\n",
    "    return(c)\n",
    "})\n",
    "\n",
    "# Jamshidian's Trick\n",
    "setMethod(\"Jamshidian\", \"Hull.White\", Vectorize(function(object,T,S,tau=object@tau){\n",
    "    #r = optimize(function(r) abs(sum(fswap.cf(object,T,S)*Bond(object, T, seq(T+tau, S, by=tau), r=r))-1), interval=c(0,1))$minimum\n",
    "    T.i <- seq(T+tau,S,by=tau)\n",
    "    f <- function(r) (sum(fswap.cf(object,T,S)*Bond(object,T,T.i,r=r))-1)^2\n",
    "    grad <- function(r) 2*(sum(fswap.cf(object,T,S)*Bond(object,T,T.i,r=r))-1)*sum(fswap.cf(object,T,S)*Bond(object,T,T.i,r=r,order=1))\n",
    "    r <- optim(0.03, f, grad, method='Brent', lower=0.01, upper=0.05)$par\n",
    "    return(r)\n",
    "}, vectorize.args=c(\"T\",\"S\")))\n",
    "\n",
    "# Hull-White Swaption\n",
    "setMethod(\"ReceiverSwaption\", \"Hull.White\", Vectorize(function(object,T,S,tau=object@tau){\n",
    "    r <- Jamshidian(object,T,S)\n",
    "    T.i <- seq(T+tau, S, by=tau)\n",
    "    X <- Bond(object, T, T.i, r)\n",
    "    di.pos <- 1/Vol(object, T=T,S=T.i)*log(Bond(object, t=0,T=T.i,r=r)/Bond(object,t=0,T=T,r=r)/X) + Vol(object,T=T,S=T.i)/2\n",
    "    di.neg <- di.pos - Vol(object,T=T,S=T.i)\n",
    "    y <- object@N*sum(fswap.cf(object,T=T,S=S,tau=tau)*(Bond(object,t=0,T=T.i,r=r)*pnorm(di.pos) - X*Bond(object,t=0,T=T,r=r)*pnorm(di.neg)))\n",
    "    return(y)\n",
    "}, vectorize.args=c(\"T\",\"S\")))     \n",
    "    \n",
    "# Objective Function\n",
    "setMethod(\"Objective\", \"Hull.White\", Vectorize(function(object,alpha,sigma){\n",
    "    object@alpha <- alpha\n",
    "    object@sigma <- sigma\n",
    "    #obj <- sqrt(sum((ReceiverSwaption(object,rev(tenor),tenor+rev(tenor))-diag(object@rs.black[length(object@fswap.tenor):1,]))^2))\n",
    "    #obj <- sum(((ReceiverSwaption(object,rev(tenor),tenor+rev(tenor))-diag(object@rs.black[length(object@fswap.tenor):1,]))/diag(object@rs.black[length(object@fswap.tenor):1,]))^2)\n",
    "    #obj <- sum(((ReceiverSwaption(object,tenor,tenor+tenor)-diag(object@rs.black))/diag(object@rs.black))^2)\n",
    "    obj <- sum(((outer(tenor,tenor, FUN=function(x,y) ReceiverSwaption(object,x,x+y)) - object@rs.black)/object@rs.black)^2)\n",
    "    return(obj)\n",
    "},vectorize.args=c(\"alpha\",\"sigma\")))    \n",
    "\n",
    "# 객체 초기화\n",
    "setMethod(\"initialize\", \"Hull.White\", function(.Object, alpha, sigma, termStr, fswap.vol, fswap.tenor, tau=0.25, N=100){\n",
    "    .Object@alpha <- alpha\n",
    "    .Object@sigma <- sigma\n",
    "    .Object@termStr <- termStr\n",
    "    colnames(fswap.vol) <- rownames(fswap.vol) <- fswap.tenor\n",
    "    .Object@fswap.vol <- fswap.vol\n",
    "    .Object@fswap.tenor <- fswap.tenor\n",
    "    # 0 < tau or tau > 1 이면 Raise Error\n",
    "    .Object@tau <- tau\n",
    "    .Object@N <- N\n",
    "    \n",
    "    fswap.rate <- outer(fswap.tenor, fswap.tenor, function(T,S) fswap(.Object,T,T+S,tau))\n",
    "    rownames(fswap.rate) <- fswap.tenor\n",
    "    colnames(fswap.rate) <- fswap.tenor\n",
    "    .Object@fswap.rate <- fswap.rate   \n",
    "        \n",
    "    # Black Swaption\n",
    "    price.alpha <- outer(fswap.tenor, fswap.tenor, FUN=function(x,y) Bond(termStr, x))\n",
    "    price.beta <- outer(fswap.tenor, fswap.tenor, FUN=function(x,y) Bond(termStr, x+y))\n",
    "    d1 <- 0.5*fswap.vol*sqrt(fswap.tenor)\n",
    "    .Object@rs.black <- N*(price.alpha - price.beta)*(2*pnorm(d1, mean=0, sd=1)-1)\n",
    "    \n",
    "    return(.Object)\n",
    "})"
   ]
  },
  {
   "cell_type": "code",
   "execution_count": 8,
   "metadata": {},
   "outputs": [],
   "source": [
    "vol <- matrix(c(0.1815,0.172,0.17,0.1605,0.158,0.155,\n",
    "                0.177,0.1715,0.17,0.158,0.1545,0.15,\n",
    "                0.174,0.168,0.1655,0.1555,0.1495,0.1475,\n",
    "                0.165,0.1575,0.157,0.1495,0.1455,0.144,\n",
    "                0.165,0.1575,0.157,0.1535,0.1455,0.144,\n",
    "                0.1665,0.159,0.1575,0.15,0.1455,0.1404),\n",
    "                ncol=6, byrow=TRUE)\n",
    "tenor <- c(1,2,3,5,7,10)"
   ]
  },
  {
   "cell_type": "code",
   "execution_count": 31,
   "metadata": {},
   "outputs": [
    {
     "data": {
      "text/plain": [
       "An object of class \"Hull.White\"\n",
       "Slot \"alpha\":\n",
       "[1] 0.05\n",
       "\n",
       "Slot \"sigma\":\n",
       "[1] 0.006\n",
       "\n",
       "Slot \"termStr\":\n",
       "An object of class \"Smith.Wilson\"\n",
       "Slot \"alpha\":\n",
       "[1] 0.1\n",
       "\n",
       "Slot \"UFR\":\n",
       "[1] 0.045\n",
       "\n",
       "Slot \"terms\":\n",
       " [1]  1  2  3  4  5  7 10 12 15 20\n",
       "\n",
       "Slot \"int\":\n",
       " [1] 0.0334 0.0326 0.0327 0.0328 0.0330 0.0335 0.0342 0.0345 0.0347 0.0352\n",
       "\n",
       "Slot \"zeta\":\n",
       " [1] -9.18030256  9.51096544 -5.48318480  2.51366839 -0.49645201  0.21756278\n",
       " [7]  0.09699988 -0.82931680  0.20325161  0.62624490\n",
       "\n",
       "\n",
       "Slot \"fswap.vol\":\n",
       "        1      2      3      5      7     10\n",
       "1  0.1815 0.1720 0.1700 0.1605 0.1580 0.1550\n",
       "2  0.1770 0.1715 0.1700 0.1580 0.1545 0.1500\n",
       "3  0.1740 0.1680 0.1655 0.1555 0.1495 0.1475\n",
       "5  0.1650 0.1575 0.1570 0.1495 0.1455 0.1440\n",
       "7  0.1650 0.1575 0.1570 0.1535 0.1455 0.1440\n",
       "10 0.1665 0.1590 0.1575 0.1500 0.1455 0.1404\n",
       "\n",
       "Slot \"fswap.tenor\":\n",
       "[1]  1  2  3  5  7 10\n",
       "\n",
       "Slot \"fswap.rate\":\n",
       "            1          2          3          5          7         10\n",
       "1  0.03142883 0.03195556 0.03219457 0.03276692 0.03330565 0.03389771\n",
       "2  0.03249936 0.03259627 0.03284839 0.03340048 0.03388243 0.03432394\n",
       "3  0.03269638 0.03303165 0.03335371 0.03391129 0.03432829 0.03461099\n",
       "5  0.03403103 0.03430100 0.03454928 0.03491215 0.03507272 0.03506375\n",
       "7  0.03507233 0.03524167 0.03535653 0.03542124 0.03532382 0.03531594\n",
       "10 0.03561544 0.03552731 0.03539832 0.03524450 0.03529524 0.03566541\n",
       "\n",
       "Slot \"rs.black\":\n",
       "           1         2         3         5        7       10\n",
       "1  0.2156563 0.4091251 0.6014401 0.9328912 1.265122 1.718222\n",
       "2  0.2975359 0.5691316 0.8391249 1.2795903 1.719520 2.299471\n",
       "3  0.3484518 0.6689291 0.9818908 1.5128174 1.993963 2.695880\n",
       "5  0.4146054 0.7847689 1.1619824 1.8017969 2.384505 3.206093\n",
       "7  0.4708181 0.8882011 1.3094864 2.0657912 2.644329 3.555914\n",
       "10 0.5167948 0.9684608 1.4094021 2.1546571 2.834439 3.755933\n",
       "\n",
       "Slot \"N\":\n",
       "[1] 100\n",
       "\n",
       "Slot \"tau\":\n",
       "[1] 0.25\n"
      ]
     },
     "metadata": {},
     "output_type": "display_data"
    }
   ],
   "source": [
    "(hw <- new(\"Hull.White\", alpha=0.05, sigma=0.006, termStr=sw, fswap.vol=vol, fswap.tenor=tenor))"
   ]
  },
  {
   "cell_type": "code",
   "execution_count": null,
   "metadata": {},
   "outputs": [],
   "source": [
    "# Global\n",
    "# alpha = 3.75e-1, sigma = 1.82e-2\n",
    "(p <- constrOptim(c(0.0112067427660259,0.00501016828438452), function(p) Objective(hw,p[1],p[2]), grad=NULL, ui = matrix(c(1,-1,0,0,0,0,1,-1),nrow=4), ci = c(0.0e-1,-3.0e-2,0.0e-2,-1.0e-2))$par)"
   ]
  },
  {
   "cell_type": "code",
   "execution_count": null,
   "metadata": {},
   "outputs": [],
   "source": [
    "# Local\n",
    "hw@alpha <- 0.0279\n",
    "(sigma <- optimize(function(sigma) Objective(hw,hw@alpha,sigma), interval=c(0,0.1))$minimum)"
   ]
  },
  {
   "cell_type": "code",
   "execution_count": 44,
   "metadata": {},
   "outputs": [
    {
     "data": {
      "text/html": [
       "<table>\n",
       "<tbody>\n",
       "\t<tr><td>0.2658720</td><td>0.5222361</td><td>0.7693146</td><td>1.235808 </td><td>1.666426 </td><td>2.249811 </td></tr>\n",
       "\t<tr><td>0.3427374</td><td>0.6739700</td><td>0.9937476</td><td>1.599286 </td><td>2.160748 </td><td>2.926880 </td></tr>\n",
       "\t<tr><td>0.3392434</td><td>0.6673688</td><td>0.9843968</td><td>1.585607 </td><td>2.144545 </td><td>2.911013 </td></tr>\n",
       "\t<tr><td>0.3540762</td><td>0.6969878</td><td>1.0288025</td><td>1.659941 </td><td>2.250141 </td><td>3.065921 </td></tr>\n",
       "\t<tr><td>0.3489206</td><td>0.6872014</td><td>1.0150322</td><td>1.640645 </td><td>2.228899 </td><td>3.043749 </td></tr>\n",
       "\t<tr><td>0.3518486</td><td>0.6938761</td><td>1.0264621</td><td>1.664260 </td><td>2.265903 </td><td>3.099537 </td></tr>\n",
       "</tbody>\n",
       "</table>\n"
      ],
      "text/latex": [
       "\\begin{tabular}{llllll}\n",
       "\t 0.2658720 & 0.5222361 & 0.7693146 & 1.235808  & 1.666426  & 2.249811 \\\\\n",
       "\t 0.3427374 & 0.6739700 & 0.9937476 & 1.599286  & 2.160748  & 2.926880 \\\\\n",
       "\t 0.3392434 & 0.6673688 & 0.9843968 & 1.585607  & 2.144545  & 2.911013 \\\\\n",
       "\t 0.3540762 & 0.6969878 & 1.0288025 & 1.659941  & 2.250141  & 3.065921 \\\\\n",
       "\t 0.3489206 & 0.6872014 & 1.0150322 & 1.640645  & 2.228899  & 3.043749 \\\\\n",
       "\t 0.3518486 & 0.6938761 & 1.0264621 & 1.664260  & 2.265903  & 3.099537 \\\\\n",
       "\\end{tabular}\n"
      ],
      "text/markdown": [
       "\n",
       "| 0.2658720 | 0.5222361 | 0.7693146 | 1.235808  | 1.666426  | 2.249811  | \n",
       "| 0.3427374 | 0.6739700 | 0.9937476 | 1.599286  | 2.160748  | 2.926880  | \n",
       "| 0.3392434 | 0.6673688 | 0.9843968 | 1.585607  | 2.144545  | 2.911013  | \n",
       "| 0.3540762 | 0.6969878 | 1.0288025 | 1.659941  | 2.250141  | 3.065921  | \n",
       "| 0.3489206 | 0.6872014 | 1.0150322 | 1.640645  | 2.228899  | 3.043749  | \n",
       "| 0.3518486 | 0.6938761 | 1.0264621 | 1.664260  | 2.265903  | 3.099537  | \n",
       "\n",
       "\n"
      ],
      "text/plain": [
       "     [,1]      [,2]      [,3]      [,4]     [,5]     [,6]    \n",
       "[1,] 0.2658720 0.5222361 0.7693146 1.235808 1.666426 2.249811\n",
       "[2,] 0.3427374 0.6739700 0.9937476 1.599286 2.160748 2.926880\n",
       "[3,] 0.3392434 0.6673688 0.9843968 1.585607 2.144545 2.911013\n",
       "[4,] 0.3540762 0.6969878 1.0288025 1.659941 2.250141 3.065921\n",
       "[5,] 0.3489206 0.6872014 1.0150322 1.640645 2.228899 3.043749\n",
       "[6,] 0.3518486 0.6938761 1.0264621 1.664260 2.265903 3.099537"
      ]
     },
     "metadata": {},
     "output_type": "display_data"
    }
   ],
   "source": [
    "hw@alpha <- 0.01097536\n",
    "hw@sigma <- 0.00501672\n",
    "outer(tenor,tenor,function (x,y) ReceiverSwaption(hw, x,x+y))"
   ]
  }
 ],
 "metadata": {
  "kernelspec": {
   "display_name": "R",
   "language": "R",
   "name": "ir"
  },
  "language_info": {
   "codemirror_mode": "r",
   "file_extension": ".r",
   "mimetype": "text/x-r-source",
   "name": "R",
   "pygments_lexer": "r",
   "version": "3.4.3"
  }
 },
 "nbformat": 4,
 "nbformat_minor": 2
}
