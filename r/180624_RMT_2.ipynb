{
 "cells": [
  {
   "cell_type": "code",
   "execution_count": 1,
   "metadata": {},
   "outputs": [
    {
     "name": "stderr",
     "output_type": "stream",
     "text": [
      "\n",
      "Attaching package: 'EnvStats'\n",
      "\n",
      "The following objects are masked from 'package:stats':\n",
      "\n",
      "    predict, predict.lm\n",
      "\n",
      "The following object is masked from 'package:base':\n",
      "\n",
      "    print.default\n",
      "\n"
     ]
    }
   ],
   "source": [
    "library(EnvStats)\n",
    "library(ggplot2)\n",
    "library(repr)\n",
    "library(abind)\n",
    "options(repr.plot.width=5, repr.plot.height=4)\n",
    "rm(list=ls())"
   ]
  },
  {
   "cell_type": "code",
   "execution_count": 72,
   "metadata": {},
   "outputs": [],
   "source": [
    "N <- 10\n",
    "T <- 1000\n",
    "location <- 100\n",
    "shape <- 12"
   ]
  },
  {
   "cell_type": "code",
   "execution_count": 74,
   "metadata": {},
   "outputs": [],
   "source": [
    "# Pareto Orthogonal Ensemble\n",
    "H <- array(rpareto(N^2*T, location=location, shape=shape), dim=c(N,N,T))\n",
    "xOE <- apply(H, 3, FUN=function(x) eigen((x+t(x))/2)$values)"
   ]
  },
  {
   "cell_type": "code",
   "execution_count": 69,
   "metadata": {},
   "outputs": [],
   "source": [
    "# Pareto Unitary Ensemble\n",
    "H <- array(rpareto(N^2*T, location=location, shape=shape)+rpareto(N^2*T, location=location, shape=shape)*1i, dim=c(N,N,T))\n",
    "xUE <- as.numeric(apply(H, 3, FUN=function(x) eigen((x+Conj(t(x)))/2)$values))"
   ]
  },
  {
   "cell_type": "code",
   "execution_count": 70,
   "metadata": {},
   "outputs": [],
   "source": [
    "# Pareto Symplectic Ensemble\n",
    "A <- array(rpareto(N^2*T, location=location, shape=shape)+rpareto(N^2*T, location=location, shape=shape)*1i, dim=c(N,N,T))\n",
    "B <- array(rpareto(N^2*T, location=location, shape=shape)+rpareto(N^2*T, location=location, shape=shape)*1i, dim=c(N,N,T))\n",
    "H <- abind(x=abind(x=A,y=B,along=2), y=abind(x=-Conj(B),y=Conj(A),along=2), along=1)\n",
    "dimnames(H) <- NULL\n",
    "xSE <- as.numeric(apply(H, 3, FUN=function(x) eigen((x+Conj(t(x)))/2)$values))"
   ]
  },
  {
   "cell_type": "code",
   "execution_count": 71,
   "metadata": {},
   "outputs": [
    {
     "data": {},
     "metadata": {},
     "output_type": "display_data"
    },
    {
     "data": {
      "image/png": "[encoded data removed]",
      "text/plain": [
       "plot without title"
      ]
     },
     "metadata": {},
     "output_type": "display_data",
     "source": "R display func"
    }
   ],
   "source": [
    "# Eigenvalues\n",
    "ggplot() +\n",
    "    geom_density(aes(x=xOE), fill='blue', alpha=0.2, size=0.7) +\n",
    "    geom_density(aes(x=xUE), fill='red', alpha=0.2, size=0.7) +\n",
    "    geom_density(aes(x=xSE), fill='green', alpha=0.2, size=0.7) +\n",
    "    labs(title='Eigenvalues')"
   ]
  }
 ],
 "metadata": {
  "kernelspec": {
   "display_name": "R",
   "language": "R",
   "name": "ir"
  },
  "language_info": {
   "codemirror_mode": "r",
   "file_extension": ".r",
   "mimetype": "text/x-r-source",
   "name": "R",
   "pygments_lexer": "r",
   "version": "3.4.3"
  }
 },
 "nbformat": 4,
 "nbformat_minor": 2
}
