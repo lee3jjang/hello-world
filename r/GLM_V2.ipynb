{
 "cells": [
  {
   "cell_type": "code",
   "execution_count": null,
   "metadata": {},
   "outputs": [],
   "source": [
    "#https://stats.idre.ucla.edu/other/dae/"
   ]
  },
  {
   "cell_type": "code",
   "execution_count": 296,
   "metadata": {},
   "outputs": [],
   "source": [
    "require(foreign)\n",
    "require(MASS)\n",
    "require(repr)\n",
    "options(repr.plot.width=8, repr.plot.height=6)"
   ]
  },
  {
   "cell_type": "code",
   "execution_count": 297,
   "metadata": {},
   "outputs": [
    {
     "data": {
      "text/plain": [
       "      sid          state               crime            murder      \n",
       " Min.   : 1.0   Length:51          Min.   :  82.0   Min.   : 1.600  \n",
       " 1st Qu.:13.5   Class :character   1st Qu.: 326.5   1st Qu.: 3.900  \n",
       " Median :26.0   Mode  :character   Median : 515.0   Median : 6.800  \n",
       " Mean   :26.0                      Mean   : 612.8   Mean   : 8.727  \n",
       " 3rd Qu.:38.5                      3rd Qu.: 773.0   3rd Qu.:10.350  \n",
       " Max.   :51.0                      Max.   :2922.0   Max.   :78.500  \n",
       "    pctmetro         pctwhite         pcths          poverty     \n",
       " Min.   : 24.00   Min.   :31.80   Min.   :64.30   Min.   : 8.00  \n",
       " 1st Qu.: 49.55   1st Qu.:79.35   1st Qu.:73.50   1st Qu.:10.70  \n",
       " Median : 69.80   Median :87.60   Median :76.70   Median :13.10  \n",
       " Mean   : 67.39   Mean   :84.12   Mean   :76.22   Mean   :14.26  \n",
       " 3rd Qu.: 83.95   3rd Qu.:92.60   3rd Qu.:80.10   3rd Qu.:17.40  \n",
       " Max.   :100.00   Max.   :98.50   Max.   :86.60   Max.   :26.40  \n",
       "     single     \n",
       " Min.   : 8.40  \n",
       " 1st Qu.:10.05  \n",
       " Median :10.90  \n",
       " Mean   :11.33  \n",
       " 3rd Qu.:12.05  \n",
       " Max.   :22.10  "
      ]
     },
     "metadata": {},
     "output_type": "display_data"
    }
   ],
   "source": [
    "cdata <- read.dta(\"https://stats.idre.ucla.edu/stat/data/crime.dta\")\n",
    "summary(cdata)"
   ]
  },
  {
   "cell_type": "code",
   "execution_count": 298,
   "metadata": {},
   "outputs": [
    {
     "data": {
      "text/plain": [
       "\n",
       "Call:\n",
       "lm(formula = crime ~ poverty + single, data = cdata)\n",
       "\n",
       "Residuals:\n",
       "    Min      1Q  Median      3Q     Max \n",
       "-811.14 -114.27  -22.44  121.86  689.82 \n",
       "\n",
       "Coefficients:\n",
       "             Estimate Std. Error t value Pr(>|t|)    \n",
       "(Intercept) -1368.189    187.205  -7.308 2.48e-09 ***\n",
       "poverty         6.787      8.989   0.755    0.454    \n",
       "single        166.373     19.423   8.566 3.12e-11 ***\n",
       "---\n",
       "Signif. codes:  0 '***' 0.001 '**' 0.01 '*' 0.05 '.' 0.1 ' ' 1\n",
       "\n",
       "Residual standard error: 243.6 on 48 degrees of freedom\n",
       "Multiple R-squared:  0.7072,\tAdjusted R-squared:  0.695 \n",
       "F-statistic: 57.96 on 2 and 48 DF,  p-value: 1.578e-13\n"
      ]
     },
     "metadata": {},
     "output_type": "display_data"
    }
   ],
   "source": [
    "ols <- lm(crime ~ poverty + single, data=cdata)\n",
    "summary(ols)"
   ]
  },
  {
   "cell_type": "code",
   "execution_count": 299,
   "metadata": {},
   "outputs": [
    {
     "data": {
      "text/html": [
       "26.3999996185303"
      ],
      "text/latex": [
       "26.3999996185303"
      ],
      "text/markdown": [
       "26.3999996185303"
      ],
      "text/plain": [
       "[1] 26.4"
      ]
     },
     "metadata": {},
     "output_type": "display_data"
    },
    {
     "data": {
      "text/html": [
       "22.1000003814697"
      ],
      "text/latex": [
       "22.1000003814697"
      ],
      "text/markdown": [
       "22.1000003814697"
      ],
      "text/plain": [
       "[1] 22.1"
      ]
     },
     "metadata": {},
     "output_type": "display_data"
    }
   ],
   "source": [
    "cdata[51,'poverty']\n",
    "cdata[51,'single']"
   ]
  },
  {
   "cell_type": "code",
   "execution_count": 300,
   "metadata": {},
   "outputs": [
    {
     "data": {
      "text/html": [
       "<strong>(Intercept):</strong> 2487.83368445411"
      ],
      "text/latex": [
       "\\textbf{(Intercept):} 2487.83368445411"
      ],
      "text/markdown": [
       "**(Intercept):** 2487.83368445411"
      ],
      "text/plain": [
       "(Intercept) \n",
       "   2487.834 "
      ]
     },
     "metadata": {},
     "output_type": "display_data"
    },
    {
     "data": {
      "text/html": [
       "<strong>(Intercept):</strong> 434.166315545893"
      ],
      "text/latex": [
       "\\textbf{(Intercept):} 434.166315545893"
      ],
      "text/markdown": [
       "**(Intercept):** 434.166315545893"
      ],
      "text/plain": [
       "(Intercept) \n",
       "   434.1663 "
      ]
     },
     "metadata": {},
     "output_type": "display_data"
    }
   ],
   "source": [
    "x <- 51\n",
    "prd <- ols$coefficients[1] + ols$coefficients[2]*cdata[x,'poverty'] + ols$coefficients[3]*cdata[x,'single']\n",
    "act <- cdata[x,'crime']\n",
    "prd\n",
    "act-prd"
   ]
  },
  {
   "cell_type": "code",
   "execution_count": 301,
   "metadata": {},
   "outputs": [
    {
     "data": {
      "image/png": "[encoded data removed]",
      "text/plain": [
       "Plot with title \"\""
      ]
     },
     "metadata": {},
     "output_type": "display_data",
     "source": "R display func"
    }
   ],
   "source": [
    "opar <- par(mfrow = c(2,2), oma = c(0, 0, 1.1, 0))\n",
    "plot(ols, las=1)"
   ]
  },
  {
   "cell_type": "code",
   "execution_count": 302,
   "metadata": {},
   "outputs": [
    {
     "data": {
      "text/html": [
       "<table>\n",
       "<thead><tr><th></th><th scope=col>sid</th><th scope=col>state</th></tr></thead>\n",
       "<tbody>\n",
       "\t<tr><th scope=row>9</th><td> 9</td><td>fl</td></tr>\n",
       "\t<tr><th scope=row>25</th><td>25</td><td>ms</td></tr>\n",
       "\t<tr><th scope=row>51</th><td>51</td><td>dc</td></tr>\n",
       "</tbody>\n",
       "</table>\n"
      ],
      "text/latex": [
       "\\begin{tabular}{r|ll}\n",
       "  & sid & state\\\\\n",
       "\\hline\n",
       "\t9 &  9 & fl\\\\\n",
       "\t25 & 25 & ms\\\\\n",
       "\t51 & 51 & dc\\\\\n",
       "\\end{tabular}\n"
      ],
      "text/markdown": [
       "\n",
       "| <!--/--> | sid | state | \n",
       "|---|---|---|\n",
       "| 9 |  9 | fl | \n",
       "| 25 | 25 | ms | \n",
       "| 51 | 51 | dc | \n",
       "\n",
       "\n"
      ],
      "text/plain": [
       "   sid state\n",
       "9   9  fl   \n",
       "25 25  ms   \n",
       "51 51  dc   "
      ]
     },
     "metadata": {},
     "output_type": "display_data"
    }
   ],
   "source": [
    "cdata[c(9,25,51), 1:2]"
   ]
  },
  {
   "cell_type": "code",
   "execution_count": 303,
   "metadata": {},
   "outputs": [
    {
     "data": {
      "text/html": [
       "<table>\n",
       "<thead><tr><th></th><th scope=col>sid</th><th scope=col>state</th><th scope=col>crime</th><th scope=col>murder</th><th scope=col>pctmetro</th><th scope=col>pctwhite</th><th scope=col>pcths</th><th scope=col>poverty</th><th scope=col>single</th><th scope=col>d1</th><th scope=col>r</th></tr></thead>\n",
       "<tbody>\n",
       "\t<tr><th scope=row>1</th><td> 1       </td><td>ak       </td><td> 761     </td><td> 9.0     </td><td> 41.8    </td><td>75.2     </td><td>86.6     </td><td> 9.1     </td><td>14.3     </td><td>0.1254750</td><td>-1.397418</td></tr>\n",
       "\t<tr><th scope=row>9</th><td> 9       </td><td>fl       </td><td>1206     </td><td> 8.9     </td><td> 93.0    </td><td>83.5     </td><td>74.4     </td><td>17.8     </td><td>10.6     </td><td>0.1425891</td><td> 2.902663</td></tr>\n",
       "\t<tr><th scope=row>25</th><td>25       </td><td>ms       </td><td> 434     </td><td>13.5     </td><td> 30.7    </td><td>63.3     </td><td>64.3     </td><td>24.7     </td><td>14.7     </td><td>0.6138721</td><td>-3.562990</td></tr>\n",
       "\t<tr><th scope=row>51</th><td>51       </td><td>dc       </td><td>2922     </td><td>78.5     </td><td>100.0    </td><td>31.8     </td><td>73.1     </td><td>26.4     </td><td>22.1     </td><td>2.6362519</td><td> 2.616447</td></tr>\n",
       "</tbody>\n",
       "</table>\n"
      ],
      "text/latex": [
       "\\begin{tabular}{r|lllllllllll}\n",
       "  & sid & state & crime & murder & pctmetro & pctwhite & pcths & poverty & single & d1 & r\\\\\n",
       "\\hline\n",
       "\t1 &  1        & ak        &  761      &  9.0      &  41.8     & 75.2      & 86.6      &  9.1      & 14.3      & 0.1254750 & -1.397418\\\\\n",
       "\t9 &  9        & fl        & 1206      &  8.9      &  93.0     & 83.5      & 74.4      & 17.8      & 10.6      & 0.1425891 &  2.902663\\\\\n",
       "\t25 & 25        & ms        &  434      & 13.5      &  30.7     & 63.3      & 64.3      & 24.7      & 14.7      & 0.6138721 & -3.562990\\\\\n",
       "\t51 & 51        & dc        & 2922      & 78.5      & 100.0     & 31.8      & 73.1      & 26.4      & 22.1      & 2.6362519 &  2.616447\\\\\n",
       "\\end{tabular}\n"
      ],
      "text/markdown": [
       "\n",
       "| <!--/--> | sid | state | crime | murder | pctmetro | pctwhite | pcths | poverty | single | d1 | r | \n",
       "|---|---|---|---|\n",
       "| 1 |  1        | ak        |  761      |  9.0      |  41.8     | 75.2      | 86.6      |  9.1      | 14.3      | 0.1254750 | -1.397418 | \n",
       "| 9 |  9        | fl        | 1206      |  8.9      |  93.0     | 83.5      | 74.4      | 17.8      | 10.6      | 0.1425891 |  2.902663 | \n",
       "| 25 | 25        | ms        |  434      | 13.5      |  30.7     | 63.3      | 64.3      | 24.7      | 14.7      | 0.6138721 | -3.562990 | \n",
       "| 51 | 51        | dc        | 2922      | 78.5      | 100.0     | 31.8      | 73.1      | 26.4      | 22.1      | 2.6362519 |  2.616447 | \n",
       "\n",
       "\n"
      ],
      "text/plain": [
       "   sid state crime murder pctmetro pctwhite pcths poverty single d1       \n",
       "1   1  ak     761   9.0    41.8    75.2     86.6   9.1    14.3   0.1254750\n",
       "9   9  fl    1206   8.9    93.0    83.5     74.4  17.8    10.6   0.1425891\n",
       "25 25  ms     434  13.5    30.7    63.3     64.3  24.7    14.7   0.6138721\n",
       "51 51  dc    2922  78.5   100.0    31.8     73.1  26.4    22.1   2.6362519\n",
       "   r        \n",
       "1  -1.397418\n",
       "9   2.902663\n",
       "25 -3.562990\n",
       "51  2.616447"
      ]
     },
     "metadata": {},
     "output_type": "display_data"
    }
   ],
   "source": [
    "d1 <- cooks.distance(ols)\n",
    "r <- stdres(ols)\n",
    "a <- cbind(cdata, d1, r)\n",
    "a[d1 > 4/51,]"
   ]
  },
  {
   "cell_type": "code",
   "execution_count": 318,
   "metadata": {},
   "outputs": [],
   "source": [
    "rabs <- abs(r)\n",
    "a <- cbind(cdata, d1, r, rabs)"
   ]
  },
  {
   "cell_type": "code",
   "execution_count": null,
   "metadata": {},
   "outputs": [],
   "source": [
    "asorted <- a[order(-rabs), ]\n",
    "asorted[1:10,]"
   ]
  },
  {
   "cell_type": "code",
   "execution_count": 334,
   "metadata": {},
   "outputs": [
    {
     "data": {
      "text/plain": [
       "\n",
       "Call: rlm(formula = crime ~ poverty + single, data = cdata, psi = psi.huber)\n",
       "Residuals:\n",
       "    Min      1Q  Median      3Q     Max \n",
       "-846.09 -125.80  -16.49  119.15  679.94 \n",
       "\n",
       "Coefficients:\n",
       "            Value      Std. Error t value   \n",
       "(Intercept) -1423.0373   167.5899    -8.4912\n",
       "poverty         8.8677     8.0467     1.1020\n",
       "single        168.9858    17.3878     9.7186\n",
       "\n",
       "Residual standard error: 181.8 on 48 degrees of freedom"
      ]
     },
     "metadata": {},
     "output_type": "display_data"
    }
   ],
   "source": [
    "rr.huber <- rlm(crime ~ poverty + single, data=cdata, psi = psi.huber)\n",
    "summary(rr.huber)"
   ]
  },
  {
   "cell_type": "code",
   "execution_count": 335,
   "metadata": {},
   "outputs": [
    {
     "data": {
      "text/html": [
       "<table>\n",
       "<thead><tr><th></th><th scope=col>state</th><th scope=col>resid</th><th scope=col>weight</th></tr></thead>\n",
       "<tbody>\n",
       "\t<tr><th scope=row>25</th><td>ms        </td><td>-846.08536</td><td>0.2889618 </td></tr>\n",
       "\t<tr><th scope=row>9</th><td>fl        </td><td> 679.94327</td><td>0.3595480 </td></tr>\n",
       "\t<tr><th scope=row>46</th><td>vt        </td><td>-410.48310</td><td>0.5955740 </td></tr>\n",
       "\t<tr><th scope=row>51</th><td>dc        </td><td> 376.34468</td><td>0.6494131 </td></tr>\n",
       "\t<tr><th scope=row>26</th><td>mt        </td><td>-356.13760</td><td>0.6864625 </td></tr>\n",
       "\t<tr><th scope=row>21</th><td>me        </td><td>-337.09622</td><td>0.7252263 </td></tr>\n",
       "\t<tr><th scope=row>31</th><td>nj        </td><td> 331.11603</td><td>0.7383578 </td></tr>\n",
       "\t<tr><th scope=row>14</th><td>il        </td><td> 319.10036</td><td>0.7661169 </td></tr>\n",
       "\t<tr><th scope=row>1</th><td>ak        </td><td>-313.15532</td><td>0.7807432 </td></tr>\n",
       "\t<tr><th scope=row>20</th><td>md        </td><td> 307.19142</td><td>0.7958154 </td></tr>\n",
       "\t<tr><th scope=row>19</th><td>ma        </td><td> 291.20817</td><td>0.8395172 </td></tr>\n",
       "\t<tr><th scope=row>18</th><td>la        </td><td>-266.95752</td><td>0.9159411 </td></tr>\n",
       "\t<tr><th scope=row>2</th><td>al        </td><td> 105.40319</td><td>1.0000000 </td></tr>\n",
       "\t<tr><th scope=row>3</th><td>ar        </td><td>  30.53589</td><td>1.0000000 </td></tr>\n",
       "\t<tr><th scope=row>4</th><td>az        </td><td> -43.25299</td><td>1.0000000 </td></tr>\n",
       "</tbody>\n",
       "</table>\n"
      ],
      "text/latex": [
       "\\begin{tabular}{r|lll}\n",
       "  & state & resid & weight\\\\\n",
       "\\hline\n",
       "\t25 & ms         & -846.08536 & 0.2889618 \\\\\n",
       "\t9 & fl         &  679.94327 & 0.3595480 \\\\\n",
       "\t46 & vt         & -410.48310 & 0.5955740 \\\\\n",
       "\t51 & dc         &  376.34468 & 0.6494131 \\\\\n",
       "\t26 & mt         & -356.13760 & 0.6864625 \\\\\n",
       "\t21 & me         & -337.09622 & 0.7252263 \\\\\n",
       "\t31 & nj         &  331.11603 & 0.7383578 \\\\\n",
       "\t14 & il         &  319.10036 & 0.7661169 \\\\\n",
       "\t1 & ak         & -313.15532 & 0.7807432 \\\\\n",
       "\t20 & md         &  307.19142 & 0.7958154 \\\\\n",
       "\t19 & ma         &  291.20817 & 0.8395172 \\\\\n",
       "\t18 & la         & -266.95752 & 0.9159411 \\\\\n",
       "\t2 & al         &  105.40319 & 1.0000000 \\\\\n",
       "\t3 & ar         &   30.53589 & 1.0000000 \\\\\n",
       "\t4 & az         &  -43.25299 & 1.0000000 \\\\\n",
       "\\end{tabular}\n"
      ],
      "text/markdown": [
       "\n",
       "| <!--/--> | state | resid | weight | \n",
       "|---|---|---|---|---|---|---|---|---|---|---|---|---|---|---|\n",
       "| 25 | ms         | -846.08536 | 0.2889618  | \n",
       "| 9 | fl         |  679.94327 | 0.3595480  | \n",
       "| 46 | vt         | -410.48310 | 0.5955740  | \n",
       "| 51 | dc         |  376.34468 | 0.6494131  | \n",
       "| 26 | mt         | -356.13760 | 0.6864625  | \n",
       "| 21 | me         | -337.09622 | 0.7252263  | \n",
       "| 31 | nj         |  331.11603 | 0.7383578  | \n",
       "| 14 | il         |  319.10036 | 0.7661169  | \n",
       "| 1 | ak         | -313.15532 | 0.7807432  | \n",
       "| 20 | md         |  307.19142 | 0.7958154  | \n",
       "| 19 | ma         |  291.20817 | 0.8395172  | \n",
       "| 18 | la         | -266.95752 | 0.9159411  | \n",
       "| 2 | al         |  105.40319 | 1.0000000  | \n",
       "| 3 | ar         |   30.53589 | 1.0000000  | \n",
       "| 4 | az         |  -43.25299 | 1.0000000  | \n",
       "\n",
       "\n"
      ],
      "text/plain": [
       "   state resid      weight   \n",
       "25 ms    -846.08536 0.2889618\n",
       "9  fl     679.94327 0.3595480\n",
       "46 vt    -410.48310 0.5955740\n",
       "51 dc     376.34468 0.6494131\n",
       "26 mt    -356.13760 0.6864625\n",
       "21 me    -337.09622 0.7252263\n",
       "31 nj     331.11603 0.7383578\n",
       "14 il     319.10036 0.7661169\n",
       "1  ak    -313.15532 0.7807432\n",
       "20 md     307.19142 0.7958154\n",
       "19 ma     291.20817 0.8395172\n",
       "18 la    -266.95752 0.9159411\n",
       "2  al     105.40319 1.0000000\n",
       "3  ar      30.53589 1.0000000\n",
       "4  az     -43.25299 1.0000000"
      ]
     },
     "metadata": {},
     "output_type": "display_data"
    }
   ],
   "source": [
    "hweights <- data.frame(state = cdata$state, resid = rr.huber$resid, weight = rr.huber$w)\n",
    "hweights2 <- hweights[order(rr.huber$w), ]\n",
    "hweights2[1:15,]"
   ]
  },
  {
   "cell_type": "code",
   "execution_count": 338,
   "metadata": {},
   "outputs": [
    {
     "data": {
      "text/plain": [
       "\n",
       "Call: rlm(formula = crime ~ poverty + single, data = cdata, psi = psi.bisquare)\n",
       "Residuals:\n",
       "    Min      1Q  Median      3Q     Max \n",
       "-905.59 -140.97  -14.98  114.65  668.38 \n",
       "\n",
       "Coefficients:\n",
       "            Value      Std. Error t value   \n",
       "(Intercept) -1535.3338   164.5062    -9.3330\n",
       "poverty        11.6903     7.8987     1.4800\n",
       "single        175.9303    17.0678    10.3077\n",
       "\n",
       "Residual standard error: 202.3 on 48 degrees of freedom"
      ]
     },
     "metadata": {},
     "output_type": "display_data"
    }
   ],
   "source": [
    "rr.bisquare <- rlm(crime ~ poverty + single, data=cdata, psi = psi.bisquare)\n",
    "summary(rr.bisquare)"
   ]
  },
  {
   "cell_type": "code",
   "execution_count": 341,
   "metadata": {},
   "outputs": [
    {
     "data": {
      "image/png": "[encoded data removed]",
      "text/plain": [
       "Plot with title \"\""
      ]
     },
     "metadata": {},
     "output_type": "display_data",
     "source": "R display func"
    }
   ],
   "source": [
    "opar <- par(mfrow = c(2,2), oma = c(0, 0, 1.1, 0))\n",
    "plot(rr.bisquare)"
   ]
  },
  {
   "cell_type": "code",
   "execution_count": 340,
   "metadata": {},
   "outputs": [
    {
     "data": {
      "text/html": [
       "<table>\n",
       "<thead><tr><th></th><th scope=col>state</th><th scope=col>resid</th><th scope=col>weight</th></tr></thead>\n",
       "<tbody>\n",
       "\t<tr><th scope=row>25</th><td>ms         </td><td>-905.5931  </td><td>0.007652565</td></tr>\n",
       "\t<tr><th scope=row>9</th><td>fl         </td><td> 668.3844  </td><td>0.252870542</td></tr>\n",
       "\t<tr><th scope=row>46</th><td>vt         </td><td>-402.8031  </td><td>0.671495418</td></tr>\n",
       "\t<tr><th scope=row>26</th><td>mt         </td><td>-360.8997  </td><td>0.731136908</td></tr>\n",
       "\t<tr><th scope=row>31</th><td>nj         </td><td> 345.9780  </td><td>0.751347695</td></tr>\n",
       "\t<tr><th scope=row>18</th><td>la         </td><td>-332.6527  </td><td>0.768938330</td></tr>\n",
       "\t<tr><th scope=row>21</th><td>me         </td><td>-328.6143  </td><td>0.774103322</td></tr>\n",
       "\t<tr><th scope=row>1</th><td>ak         </td><td>-325.8519  </td><td>0.777662383</td></tr>\n",
       "\t<tr><th scope=row>14</th><td>il         </td><td> 313.1466  </td><td>0.793658594</td></tr>\n",
       "\t<tr><th scope=row>20</th><td>md         </td><td> 308.7737  </td><td>0.799065530</td></tr>\n",
       "\t<tr><th scope=row>19</th><td>ma         </td><td> 297.6068  </td><td>0.812596833</td></tr>\n",
       "\t<tr><th scope=row>51</th><td>dc         </td><td> 260.6489  </td><td>0.854441716</td></tr>\n",
       "\t<tr><th scope=row>50</th><td>wy         </td><td>-234.1952  </td><td>0.881660897</td></tr>\n",
       "\t<tr><th scope=row>5</th><td>ca         </td><td> 201.4407  </td><td>0.911713981</td></tr>\n",
       "\t<tr><th scope=row>10</th><td>ga         </td><td>-186.5799  </td><td>0.924033113</td></tr>\n",
       "</tbody>\n",
       "</table>\n"
      ],
      "text/latex": [
       "\\begin{tabular}{r|lll}\n",
       "  & state & resid & weight\\\\\n",
       "\\hline\n",
       "\t25 & ms          & -905.5931   & 0.007652565\\\\\n",
       "\t9 & fl          &  668.3844   & 0.252870542\\\\\n",
       "\t46 & vt          & -402.8031   & 0.671495418\\\\\n",
       "\t26 & mt          & -360.8997   & 0.731136908\\\\\n",
       "\t31 & nj          &  345.9780   & 0.751347695\\\\\n",
       "\t18 & la          & -332.6527   & 0.768938330\\\\\n",
       "\t21 & me          & -328.6143   & 0.774103322\\\\\n",
       "\t1 & ak          & -325.8519   & 0.777662383\\\\\n",
       "\t14 & il          &  313.1466   & 0.793658594\\\\\n",
       "\t20 & md          &  308.7737   & 0.799065530\\\\\n",
       "\t19 & ma          &  297.6068   & 0.812596833\\\\\n",
       "\t51 & dc          &  260.6489   & 0.854441716\\\\\n",
       "\t50 & wy          & -234.1952   & 0.881660897\\\\\n",
       "\t5 & ca          &  201.4407   & 0.911713981\\\\\n",
       "\t10 & ga          & -186.5799   & 0.924033113\\\\\n",
       "\\end{tabular}\n"
      ],
      "text/markdown": [
       "\n",
       "| <!--/--> | state | resid | weight | \n",
       "|---|---|---|---|---|---|---|---|---|---|---|---|---|---|---|\n",
       "| 25 | ms          | -905.5931   | 0.007652565 | \n",
       "| 9 | fl          |  668.3844   | 0.252870542 | \n",
       "| 46 | vt          | -402.8031   | 0.671495418 | \n",
       "| 26 | mt          | -360.8997   | 0.731136908 | \n",
       "| 31 | nj          |  345.9780   | 0.751347695 | \n",
       "| 18 | la          | -332.6527   | 0.768938330 | \n",
       "| 21 | me          | -328.6143   | 0.774103322 | \n",
       "| 1 | ak          | -325.8519   | 0.777662383 | \n",
       "| 14 | il          |  313.1466   | 0.793658594 | \n",
       "| 20 | md          |  308.7737   | 0.799065530 | \n",
       "| 19 | ma          |  297.6068   | 0.812596833 | \n",
       "| 51 | dc          |  260.6489   | 0.854441716 | \n",
       "| 50 | wy          | -234.1952   | 0.881660897 | \n",
       "| 5 | ca          |  201.4407   | 0.911713981 | \n",
       "| 10 | ga          | -186.5799   | 0.924033113 | \n",
       "\n",
       "\n"
      ],
      "text/plain": [
       "   state resid     weight     \n",
       "25 ms    -905.5931 0.007652565\n",
       "9  fl     668.3844 0.252870542\n",
       "46 vt    -402.8031 0.671495418\n",
       "26 mt    -360.8997 0.731136908\n",
       "31 nj     345.9780 0.751347695\n",
       "18 la    -332.6527 0.768938330\n",
       "21 me    -328.6143 0.774103322\n",
       "1  ak    -325.8519 0.777662383\n",
       "14 il     313.1466 0.793658594\n",
       "20 md     308.7737 0.799065530\n",
       "19 ma     297.6068 0.812596833\n",
       "51 dc     260.6489 0.854441716\n",
       "50 wy    -234.1952 0.881660897\n",
       "5  ca     201.4407 0.911713981\n",
       "10 ga    -186.5799 0.924033113"
      ]
     },
     "metadata": {},
     "output_type": "display_data"
    }
   ],
   "source": [
    "biweights <- data.frame(state = cdata$state, resid = rr.bisquare$resid, weight = rr.bisquare$w)\n",
    "biweights2 <- biweights[order(rr.bisquare$w), ]\n",
    "biweights2[1:15,]"
   ]
  },
  {
   "cell_type": "code",
   "execution_count": 342,
   "metadata": {},
   "outputs": [
    {
     "data": {
      "image/png": "[encoded data removed]",
      "text/plain": [
       "Plot with title \"\""
      ]
     },
     "metadata": {},
     "output_type": "display_data",
     "source": "R display func"
    }
   ],
   "source": [
    "opar <- par(mfrow = c(2,2), oma = c(0, 0, 1.1, 0))\n",
    "plot(rr.huber)"
   ]
  },
  {
   "cell_type": "code",
   "execution_count": 142,
   "metadata": {},
   "outputs": [],
   "source": [
    "rain <- c(12,14,13,16,18,20,19,22,22,20,23,24,26,27,28,29,30,31,26,27,28,29,30,31,20,50)\n",
    "wheat <- c(310,320,323,330,334,348,352,360,370,344,370,380,385,393,395,400,403,406,383,388,392,398,400,403,270,260)\n",
    "data <- cbind(rain, wheat)"
   ]
  },
  {
   "cell_type": "code",
   "execution_count": 160,
   "metadata": {},
   "outputs": [
    {
     "name": "stdout",
     "output_type": "stream",
     "text": [
      "[1] 24.42308\n",
      "[1] 59.85385\n"
     ]
    }
   ],
   "source": [
    "n <- length(rain)\n",
    "x_est <- sum(rain)/n\n",
    "sigma_est <- sum((rain-x_est)^2)/(n-1)\n",
    "print(x_est)\n",
    "print(sigma_est)"
   ]
  },
  {
   "cell_type": "code",
   "execution_count": 166,
   "metadata": {},
   "outputs": [
    {
     "data": {
      "text/plain": [
       "\n",
       "Call:\n",
       "lm(formula = wheat ~ rain)\n",
       "\n",
       "Residuals:\n",
       "    Min      1Q  Median      3Q     Max \n",
       "-131.57  -18.89   14.44   28.49   36.25 \n",
       "\n",
       "Coefficients:\n",
       "            Estimate Std. Error t value Pr(>|t|)    \n",
       "(Intercept)  334.137     26.938  12.404 6.28e-12 ***\n",
       "rain           1.149      1.053   1.091    0.286    \n",
       "---\n",
       "Signif. codes:  0 '***' 0.001 '**' 0.01 '*' 0.05 '.' 0.1 ' ' 1\n",
       "\n",
       "Residual standard error: 40.74 on 24 degrees of freedom\n",
       "Multiple R-squared:  0.04722,\tAdjusted R-squared:  0.007518 \n",
       "F-statistic: 1.189 on 1 and 24 DF,  p-value: 0.2863\n"
      ]
     },
     "metadata": {},
     "output_type": "display_data"
    }
   ],
   "source": [
    "model <- lm(formula = wheat ~ rain)\n",
    "summary(model)"
   ]
  },
  {
   "cell_type": "code",
   "execution_count": 177,
   "metadata": {},
   "outputs": [
    {
     "name": "stdout",
     "output_type": "stream",
     "text": [
      "        0%        25%        50%        75%       100% \n",
      "-131.57306  -18.88834   14.44241   28.48599   36.25264 \n"
     ]
    }
   ],
   "source": [
    "print(quantile(model$resid, c(0, 0.25, 0.5, 0.75, 1)))"
   ]
  },
  {
   "cell_type": "code",
   "execution_count": 180,
   "metadata": {},
   "outputs": [
    {
     "name": "stdout",
     "output_type": "stream",
     "text": [
      "           1            2            3            4            5            6 \n",
      " -37.9216553  -30.2190978  -26.0703766  -22.5165403  -20.8139828   -9.1114253 \n",
      "           7            8            9           10           11           12 \n",
      "  -3.9627040    0.5911322   10.5911322  -13.1114253    9.4424110   18.2936898 \n",
      "          13           14           15           16           17           18 \n",
      "  20.9962473   27.8475260   28.6988048   32.5500835   34.4013623   36.2526410 \n",
      "          19           20           21           22           23           24 \n",
      "  18.9962473   22.8475260   25.6988048   30.5500835   31.4013623   33.2526410 \n",
      "          25           26 \n",
      " -87.1114253 -131.5730626 \n"
     ]
    }
   ],
   "source": [
    "print(model$residuals)"
   ]
  },
  {
   "cell_type": "code",
   "execution_count": 195,
   "metadata": {},
   "outputs": [
    {
     "name": "stdout",
     "output_type": "stream",
     "text": [
      " [1] 0.14160134 0.11106542 0.12566508 0.08587585 0.06603264 0.05153579\n",
      " [7] 0.05811592 0.04238530 0.04238530 0.05153579 0.03981493 0.03858116\n",
      "[13] 0.04012338 0.04289937 0.04701195 0.05246112 0.05924688 0.06736923\n",
      "[19] 0.04012338 0.04289937 0.04701195 0.05246112 0.05924688 0.06736923\n",
      "[25] 0.05153579 0.47564580\n"
     ]
    }
   ],
   "source": [
    "lev <- (rain - mean(rain))^2/sum((rain - mean(rain))^2) + 1/n\n",
    "print(lev)"
   ]
  },
  {
   "cell_type": "code",
   "execution_count": 251,
   "metadata": {},
   "outputs": [
    {
     "name": "stdout",
     "output_type": "stream",
     "text": [
      "          1           2           3           4           5           6 \n",
      "-1.00454535 -0.78663519 -0.68428208 -0.57799735 -0.52858656 -0.22961625 \n",
      "          7           8           9          10          11          12 \n",
      "-0.10021199  0.01482573  0.26562795 -0.33041991  0.23650058  0.45790119 \n",
      "         13          14          15          16          17          18 \n",
      " 0.52596973  0.69860967  0.72151748  0.82069231  0.87049160  0.92132225 \n",
      "         19          20          21          22          23          24 \n",
      " 0.47586842  0.57317489  0.64609440  0.77026588  0.79457964  0.84508044 \n",
      "         25          26 \n",
      "-2.19528759 -4.45945089 \n"
     ]
    }
   ],
   "source": [
    "rse <- sqrt(sum((model$fit - wheat)^2)/(n-2))\n",
    "print(model$res/rse/sqrt(1-lev))"
   ]
  },
  {
   "cell_type": "code",
   "execution_count": 241,
   "metadata": {},
   "outputs": [
    {
     "name": "stdout",
     "output_type": "stream",
     "text": [
      "       1        2        3        4        5        6        7        8 \n",
      "347.9217 350.2191 349.0704 352.5165 354.8140 357.1114 355.9627 359.4089 \n",
      "       9       10       11       12       13       14       15       16 \n",
      "359.4089 357.1114 360.5576 361.7063 364.0038 365.1525 366.3012 367.4499 \n",
      "      17       18       19       20       21       22       23       24 \n",
      "368.5986 369.7474 364.0038 365.1525 366.3012 367.4499 368.5986 369.7474 \n",
      "      25       26 \n",
      "357.1114 391.5731 \n",
      "       1        2        3        4        5        6        7        8 \n",
      "347.9217 350.2191 349.0704 352.5165 354.8140 357.1114 355.9627 359.4089 \n",
      "       9       10       11       12       13       14       15       16 \n",
      "359.4089 357.1114 360.5576 361.7063 364.0038 365.1525 366.3012 367.4499 \n",
      "      17       18       19       20       21       22       23       24 \n",
      "368.5986 369.7474 364.0038 365.1525 366.3012 367.4499 368.5986 369.7474 \n",
      "      25       26 \n",
      "357.1114 391.5731 \n"
     ]
    }
   ],
   "source": [
    "print(predict(model, data.frame(rain)))"
   ]
  },
  {
   "cell_type": "code",
   "execution_count": 248,
   "metadata": {},
   "outputs": [
    {
     "data": {
      "text/html": [
       "40.7448970157435"
      ],
      "text/latex": [
       "40.7448970157435"
      ],
      "text/markdown": [
       "40.7448970157435"
      ],
      "text/plain": [
       "[1] 40.7449"
      ]
     },
     "metadata": {},
     "output_type": "display_data"
    }
   ],
   "source": [
    "sqrt(sum(model$resid^2)/(n-2))"
   ]
  },
  {
   "cell_type": "code",
   "execution_count": 215,
   "metadata": {},
   "outputs": [
    {
     "data": {
      "text/html": [
       "40.7448970157435"
      ],
      "text/latex": [
       "40.7448970157435"
      ],
      "text/markdown": [
       "40.7448970157435"
      ],
      "text/plain": [
       "[1] 40.7449"
      ]
     },
     "metadata": {},
     "output_type": "display_data"
    }
   ],
   "source": [
    "sqrt(sum((model$fit - wheat)^2)/(n-2))"
   ]
  },
  {
   "cell_type": "code",
   "execution_count": 257,
   "metadata": {},
   "outputs": [
    {
     "data": {
      "image/png": "[encoded data removed]",
      "text/plain": [
       "Plot with title \"\""
      ]
     },
     "metadata": {},
     "output_type": "display_data",
     "source": "R display func"
    }
   ],
   "source": [
    "opar <- par(mfrow = c(2,2), oma = c(0, 0, 1.1, 0))\n",
    "plot(model)"
   ]
  },
  {
   "cell_type": "code",
   "execution_count": 260,
   "metadata": {},
   "outputs": [
    {
     "name": "stdout",
     "output_type": "stream",
     "text": [
      "           1            2            3            4            5            6 \n",
      "8.323144e-02 3.865679e-02 3.364939e-02 1.569233e-02 9.877095e-03 1.432397e-03 \n",
      "           7            8            9           10           11           12 \n",
      "3.098183e-04 4.864369e-06 1.561500e-03 2.966132e-03 1.159646e-03 4.207036e-03 \n",
      "          13           14           15           16           17           18 \n",
      "5.781940e-03 1.093786e-02 1.284058e-02 1.864538e-02 2.386102e-02 3.065808e-02 \n",
      "          19           20           21           22           23           24 \n",
      "4.732884e-03 7.362709e-03 1.029634e-02 1.642449e-02 1.988084e-02 2.579396e-02 \n",
      "          25           26 \n",
      "1.309305e-01 9.019692e+00 \n"
     ]
    }
   ],
   "source": [
    "print(cooks.distance(model))"
   ]
  },
  {
   "cell_type": "code",
   "execution_count": 277,
   "metadata": {},
   "outputs": [
    {
     "name": "stdout",
     "output_type": "stream",
     "text": [
      "       1        2        3        4        5        6        7        8 \n",
      "354.1772 355.7411 354.9592 357.3050 358.8689 360.4328 359.6509 361.9967 \n",
      "       9       10       11       12       13       14       15       16 \n",
      "361.9967 360.4328 362.7787 363.5606 365.1245 365.9065 366.6884 367.4704 \n",
      "      17       18       19       20       21       22       23       24 \n",
      "368.2523 369.0343 365.1245 365.9065 366.6884 367.4704 368.2523 369.0343 \n",
      "      25       26 \n",
      "360.4328 383.8913 \n",
      "       1        2        3        4        5        6        7        8 \n",
      "347.9217 350.2191 349.0704 352.5165 354.8140 357.1114 355.9627 359.4089 \n",
      "       9       10       11       12       13       14       15       16 \n",
      "359.4089 357.1114 360.5576 361.7063 364.0038 365.1525 366.3012 367.4499 \n",
      "      17       18       19       20       21       22       23       24 \n",
      "368.5986 369.7474 364.0038 365.1525 366.3012 367.4499 368.5986 369.7474 \n",
      "      25       26 \n",
      "357.1114 391.5731 \n"
     ]
    }
   ],
   "source": [
    "model2 <- lm(formula=wheat ~ rain, data=data.frame(data[-1,]))\n",
    "print(predict(model2, data.frame(rain)))\n",
    "print(predict(model, data.frame(rain)))"
   ]
  },
  {
   "cell_type": "code",
   "execution_count": 295,
   "metadata": {},
   "outputs": [
    {
     "name": "stdout",
     "output_type": "stream",
     "text": [
      "           1            2            3            4            5            6 \n",
      "8.323144e-02 3.865679e-02 3.364939e-02 1.569233e-02 9.877095e-03 1.432397e-03 \n",
      "           7            8            9           10           11           12 \n",
      "3.098183e-04 4.864369e-06 1.561500e-03 2.966132e-03 1.159646e-03 4.207036e-03 \n",
      "          13           14           15           16           17           18 \n",
      "5.781940e-03 1.093786e-02 1.284058e-02 1.864538e-02 2.386102e-02 3.065808e-02 \n",
      "          19           20           21           22           23           24 \n",
      "4.732884e-03 7.362709e-03 1.029634e-02 1.642449e-02 1.988084e-02 2.579396e-02 \n",
      "          25           26 \n",
      "1.309305e-01 9.019692e+00 \n"
     ]
    }
   ],
   "source": [
    "print(model$resid^2*lev/(1-lev)^2/s1^2/2)"
   ]
  },
  {
   "cell_type": "code",
   "execution_count": 287,
   "metadata": {},
   "outputs": [
    {
     "data": {
      "text/html": [
       "0.0832314413526048"
      ],
      "text/latex": [
       "0.0832314413526048"
      ],
      "text/markdown": [
       "0.0832314413526048"
      ],
      "text/plain": [
       "[1] 0.08323144"
      ]
     },
     "metadata": {},
     "output_type": "display_data"
    }
   ],
   "source": [
    "w2 <- predict(model2, data.frame(rain))\n",
    "w1 <- predict(model, data.frame(rain))\n",
    "s1 <- sqrt(sum(model$resid^2)/(n-2))\n",
    "sum((w1-w2)^2)/s1^2/2"
   ]
  }
 ],
 "metadata": {
  "kernelspec": {
   "display_name": "R",
   "language": "R",
   "name": "ir"
  },
  "language_info": {
   "codemirror_mode": "r",
   "file_extension": ".r",
   "mimetype": "text/x-r-source",
   "name": "R",
   "pygments_lexer": "r",
   "version": "3.4.3"
  }
 },
 "nbformat": 4,
 "nbformat_minor": 2
}
