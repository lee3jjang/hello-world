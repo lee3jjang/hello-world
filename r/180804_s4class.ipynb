{
 "cells": [
  {
   "cell_type": "code",
   "execution_count": 1,
   "metadata": {},
   "outputs": [],
   "source": [
    "setClass(\"circle\", representation(x=\"numeric\", y=\"numeric\", r=\"numeric\"))"
   ]
  },
  {
   "cell_type": "code",
   "execution_count": 6,
   "metadata": {},
   "outputs": [
    {
     "name": "stdout",
     "output_type": "stream",
     "text": [
      "Formal class 'circle' [package \".GlobalEnv\"] with 3 slots\n",
      "  ..@ x: num 5\n",
      "  ..@ y: num 10\n",
      "  ..@ r: num 4\n"
     ]
    }
   ],
   "source": [
    "a <- new(\"circle\", x=5, y=10, r=4)\n",
    "str(a)"
   ]
  },
  {
   "cell_type": "code",
   "execution_count": 9,
   "metadata": {},
   "outputs": [
    {
     "data": {
      "text/html": [
       "5"
      ],
      "text/latex": [
       "5"
      ],
      "text/markdown": [
       "5"
      ],
      "text/plain": [
       "[1] 5"
      ]
     },
     "metadata": {},
     "output_type": "display_data"
    }
   ],
   "source": [
    "a@x"
   ]
  },
  {
   "cell_type": "code",
   "execution_count": 10,
   "metadata": {},
   "outputs": [
    {
     "data": {
      "text/html": [
       "TRUE"
      ],
      "text/latex": [
       "TRUE"
      ],
      "text/markdown": [
       "TRUE"
      ],
      "text/plain": [
       "[1] TRUE"
      ]
     },
     "metadata": {},
     "output_type": "display_data"
    }
   ],
   "source": [
    "is(a, \"circle\")"
   ]
  },
  {
   "cell_type": "code",
   "execution_count": 11,
   "metadata": {},
   "outputs": [
    {
     "data": {
      "text/html": [
       "TRUE"
      ],
      "text/latex": [
       "TRUE"
      ],
      "text/markdown": [
       "TRUE"
      ],
      "text/plain": [
       "[1] TRUE"
      ]
     },
     "metadata": {},
     "output_type": "display_data"
    }
   ],
   "source": [
    "is(4, \"numeric\")"
   ]
  },
  {
   "cell_type": "code",
   "execution_count": 13,
   "metadata": {},
   "outputs": [
    {
     "data": {
      "text/html": [
       "'area'"
      ],
      "text/latex": [
       "'area'"
      ],
      "text/markdown": [
       "'area'"
      ],
      "text/plain": [
       "[1] \"area\""
      ]
     },
     "metadata": {},
     "output_type": "display_data"
    },
    {
     "data": {
      "text/html": [
       "'area'"
      ],
      "text/latex": [
       "'area'"
      ],
      "text/markdown": [
       "'area'"
      ],
      "text/plain": [
       "[1] \"area\""
      ]
     },
     "metadata": {},
     "output_type": "display_data"
    }
   ],
   "source": [
    "setGeneric(\"area\", function(object) standardGeneric(\"area\"))\n",
    "setMethod(\"area\", \"circle\", function(object) pi*object@r^2)           "
   ]
  },
  {
   "cell_type": "code",
   "execution_count": 16,
   "metadata": {},
   "outputs": [
    {
     "data": {
      "text/html": [
       "'area'"
      ],
      "text/latex": [
       "'area'"
      ],
      "text/markdown": [
       "'area'"
      ],
      "text/plain": [
       "[1] \"area\""
      ]
     },
     "metadata": {},
     "output_type": "display_data"
    }
   ],
   "source": [
    "setClass(\"rectangle\", representation(left=\"numeric\", right=\"numeric\", top=\"numeric\", bottom=\"numeric\"))\n",
    "b <- new(\"rectangle\", left=10, right=20, top=30, bottom=15)\n",
    "setMethod(\"area\", \"rectangle\", function(object) (object@right-object@left)*(object@top-object@bottom))"
   ]
  },
  {
   "cell_type": "code",
   "execution_count": 17,
   "metadata": {},
   "outputs": [
    {
     "name": "stdout",
     "output_type": "stream",
     "text": [
      "Function: area (package .GlobalEnv)\n",
      "object=\"circle\"\n",
      "object=\"rectangle\"\n",
      "\n"
     ]
    }
   ],
   "source": [
    "showMethods(\"area\")"
   ]
  },
  {
   "cell_type": "code",
   "execution_count": 19,
   "metadata": {},
   "outputs": [
    {
     "data": {
      "text/html": [
       "150"
      ],
      "text/latex": [
       "150"
      ],
      "text/markdown": [
       "150"
      ],
      "text/plain": [
       "[1] 150"
      ]
     },
     "metadata": {},
     "output_type": "display_data"
    }
   ],
   "source": [
    "area(b)"
   ]
  }
 ],
 "metadata": {
  "kernelspec": {
   "display_name": "R",
   "language": "R",
   "name": "ir"
  },
  "language_info": {
   "codemirror_mode": "r",
   "file_extension": ".r",
   "mimetype": "text/x-r-source",
   "name": "R",
   "pygments_lexer": "r",
   "version": "3.4.3"
  }
 },
 "nbformat": 4,
 "nbformat_minor": 2
}
