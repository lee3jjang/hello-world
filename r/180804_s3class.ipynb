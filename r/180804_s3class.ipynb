{
 "cells": [
  {
   "cell_type": "code",
   "execution_count": 8,
   "metadata": {},
   "outputs": [],
   "source": [
    "rm(list=ls())"
   ]
  },
  {
   "cell_type": "code",
   "execution_count": 9,
   "metadata": {},
   "outputs": [],
   "source": [
    "a <- c(left=10, bottom=7, right=15, top=9)\n",
    "class(a) <- \"rectangle\""
   ]
  },
  {
   "cell_type": "code",
   "execution_count": 10,
   "metadata": {},
   "outputs": [],
   "source": [
    "b <- list(center=c(10,5), radius=5)\n",
    "class(b) <- \"circle\""
   ]
  },
  {
   "cell_type": "code",
   "execution_count": 16,
   "metadata": {},
   "outputs": [
    {
     "name": "stdout",
     "output_type": "stream",
     "text": [
      "Class 'rectangle'  Named num [1:4] 10 7 15 9\n",
      "  ..- attr(*, \"names\")= chr [1:4] \"left\" \"bottom\" \"right\" \"top\"\n"
     ]
    }
   ],
   "source": [
    "str(a)"
   ]
  },
  {
   "cell_type": "code",
   "execution_count": 31,
   "metadata": {},
   "outputs": [
    {
     "name": "stdout",
     "output_type": "stream",
     "text": [
      "List of 2\n",
      " $ center: num [1:2] 10 5\n",
      " $ radius: num 5\n",
      " - attr(*, \"class\")= chr \"circle\"\n"
     ]
    }
   ],
   "source": [
    "str(b)"
   ]
  },
  {
   "cell_type": "code",
   "execution_count": 33,
   "metadata": {},
   "outputs": [],
   "source": [
    "area <- function(x, ...){\n",
    "    UseMethod(\"area\", x)\n",
    "}"
   ]
  },
  {
   "cell_type": "code",
   "execution_count": 42,
   "metadata": {},
   "outputs": [],
   "source": [
    "area.rectangle <- function(x, ...){\n",
    "    as.numeric((x['right']-x['left'])*(x['top']-x['bottom']))\n",
    "}\n",
    "\n",
    "area.circle <- function(x, ...){\n",
    "    pi*x$radius^2\n",
    "}"
   ]
  },
  {
   "cell_type": "code",
   "execution_count": 49,
   "metadata": {},
   "outputs": [
    {
     "data": {
      "text/html": [
       "10"
      ],
      "text/latex": [
       "10"
      ],
      "text/markdown": [
       "10"
      ],
      "text/plain": [
       "[1] 10"
      ]
     },
     "metadata": {},
     "output_type": "display_data"
    }
   ],
   "source": [
    "area(a)"
   ]
  },
  {
   "cell_type": "code",
   "execution_count": 50,
   "metadata": {},
   "outputs": [
    {
     "data": {
      "text/html": [
       "78.5398163397448"
      ],
      "text/latex": [
       "78.5398163397448"
      ],
      "text/markdown": [
       "78.5398163397448"
      ],
      "text/plain": [
       "[1] 78.53982"
      ]
     },
     "metadata": {},
     "output_type": "display_data"
    }
   ],
   "source": [
    "area(b)"
   ]
  },
  {
   "cell_type": "code",
   "execution_count": 45,
   "metadata": {},
   "outputs": [
    {
     "data": {
      "text/plain": [
       "[1] area.circle    area.rectangle\n",
       "see '?methods' for accessing help and source code"
      ]
     },
     "metadata": {},
     "output_type": "display_data"
    }
   ],
   "source": [
    "methods(\"area\")"
   ]
  },
  {
   "cell_type": "code",
   "execution_count": 46,
   "metadata": {},
   "outputs": [
    {
     "data": {
      "text/plain": [
       " [1] plot.acf*           plot.data.frame*    plot.decomposed.ts*\n",
       " [4] plot.default        plot.dendrogram*    plot.density*      \n",
       " [7] plot.ecdf           plot.factor*        plot.formula*      \n",
       "[10] plot.function       plot.hclust*        plot.histogram*    \n",
       "[13] plot.HoltWinters*   plot.isoreg*        plot.lm*           \n",
       "[16] plot.medpolish*     plot.mlm*           plot.ppr*          \n",
       "[19] plot.prcomp*        plot.princomp*      plot.profile.nls*  \n",
       "[22] plot.R6*            plot.raster*        plot.spec*         \n",
       "[25] plot.stepfun        plot.stl*           plot.table*        \n",
       "[28] plot.ts             plot.tskernel*      plot.TukeyHSD*     \n",
       "see '?methods' for accessing help and source code"
      ]
     },
     "metadata": {},
     "output_type": "display_data"
    }
   ],
   "source": [
    "methods(plot)"
   ]
  },
  {
   "cell_type": "code",
   "execution_count": 48,
   "metadata": {},
   "outputs": [
    {
     "data": {
      "text/html": [
       "78.5398163397448"
      ],
      "text/latex": [
       "78.5398163397448"
      ],
      "text/markdown": [
       "78.5398163397448"
      ],
      "text/plain": [
       "[1] 78.53982"
      ]
     },
     "metadata": {},
     "output_type": "display_data"
    }
   ],
   "source": [
    "area(b)"
   ]
  },
  {
   "cell_type": "code",
   "execution_count": 53,
   "metadata": {},
   "outputs": [
    {
     "data": {
      "text/html": [
       "<pre class=language-r><code>function (x, ...) \n",
       "{\n",
       "<span style=white-space:pre-wrap>    as.numeric((x[\"right\"] - x[\"left\"]) * (x[\"top\"] - x[\"bottom\"]))</span>\n",
       "}</code></pre>"
      ],
      "text/latex": [
       "\\begin{minted}{r}\n",
       "function (x, ...) \n",
       "\\{\n",
       "    as.numeric((x{[}\"right\"{]} - x{[}\"left\"{]}) * (x{[}\"top\"{]} - x{[}\"bottom\"{]}))\n",
       "\\}\n",
       "\\end{minted}"
      ],
      "text/markdown": [
       "```r\n",
       "function (x, ...) \n",
       "{\n",
       "    as.numeric((x[\"right\"] - x[\"left\"]) * (x[\"top\"] - x[\"bottom\"]))\n",
       "}\n",
       "```"
      ],
      "text/plain": [
       "function(x, ...){\n",
       "    as.numeric((x['right']-x['left'])*(x['top']-x['bottom']))\n",
       "}\n",
       "<bytecode: 0x0000000010914c40>"
      ]
     },
     "metadata": {},
     "output_type": "display_data"
    }
   ],
   "source": [
    "getS3method(\"area\", \"rectangle\")"
   ]
  },
  {
   "cell_type": "code",
   "execution_count": 54,
   "metadata": {},
   "outputs": [
    {
     "data": {
      "text/html": [
       "<pre class=language-r><code>function (x, ...) \n",
       "{\n",
       "<span style=white-space:pre-wrap>    pi * x$radius^2</span>\n",
       "}</code></pre>"
      ],
      "text/latex": [
       "\\begin{minted}{r}\n",
       "function (x, ...) \n",
       "\\{\n",
       "    pi * x\\$radius\\textasciicircum{}2\n",
       "\\}\n",
       "\\end{minted}"
      ],
      "text/markdown": [
       "```r\n",
       "function (x, ...) \n",
       "{\n",
       "    pi * x$radius^2\n",
       "}\n",
       "```"
      ],
      "text/plain": [
       "function(x, ...){\n",
       "    pi*x$radius^2\n",
       "}\n",
       "<bytecode: 0x0000000006b0cbd8>"
      ]
     },
     "metadata": {},
     "output_type": "display_data"
    }
   ],
   "source": [
    "getS3method(\"area\", \"circle\")"
   ]
  },
  {
   "cell_type": "code",
   "execution_count": 56,
   "metadata": {},
   "outputs": [],
   "source": [
    "new_circle <- function(x, y, r){\n",
    "    circle <- list(center=c(x,y), radius=r)\n",
    "    class(circle) <- \"circle\"\n",
    "    circle\n",
    "}"
   ]
  },
  {
   "cell_type": "code",
   "execution_count": 58,
   "metadata": {},
   "outputs": [],
   "source": [
    "c <- new_circle(4,10,5)"
   ]
  }
 ],
 "metadata": {
  "kernelspec": {
   "display_name": "R",
   "language": "R",
   "name": "ir"
  },
  "language_info": {
   "codemirror_mode": "r",
   "file_extension": ".r",
   "mimetype": "text/x-r-source",
   "name": "R",
   "pygments_lexer": "r",
   "version": "3.4.3"
  }
 },
 "nbformat": 4,
 "nbformat_minor": 2
}
