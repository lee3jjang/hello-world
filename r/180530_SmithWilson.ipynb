{
 "cells": [
  {
   "cell_type": "code",
   "execution_count": 2,
   "metadata": {},
   "outputs": [
    {
     "name": "stderr",
     "output_type": "stream",
     "text": [
      "Loading required package: ggplot2\n",
      "Loading required package: repr\n"
     ]
    }
   ],
   "source": [
    "# 패키지 불러오기\n",
    "require(ggplot2)\n",
    "require(repr)\n",
    "options(repr.plot.width=10, repr.plot.height=3)"
   ]
  },
  {
   "cell_type": "code",
   "execution_count": 3,
   "metadata": {},
   "outputs": [],
   "source": [
    "# 삭제\n",
    "rm(list = ls())"
   ]
  },
  {
   "cell_type": "code",
   "execution_count": 4,
   "metadata": {},
   "outputs": [
    {
     "data": {},
     "metadata": {},
     "output_type": "display_data"
    },
    {
     "data": {
      "image/png": "[encoded data removed]",
      "text/plain": [
       "plot without title"
      ]
     },
     "metadata": {},
     "output_type": "display_data"
    }
   ],
   "source": [
    "# 대조변수법\n",
    "Antithetic.rand <- function(scens, vars=1){\n",
    "    isodd = scens%%2\n",
    "    num = scens%/%2 + isodd\n",
    "    z <- matrix(rnorm(num*vars, mean=0, sd=1), num, vars)\n",
    "    value <- rbind(z,-z)\n",
    "    if(isodd == TRUE) value <- value[-1,]\n",
    "    return(scale(value))\n",
    "}\n",
    "    \n",
    "u <- Antithetic.rand(100000)\n",
    "ggplot() +\n",
    "    geom_histogram(aes(x=u), bins=100) +\n",
    "    labs(title='대조변수법으로 추출한 난수')"
   ]
  },
  {
   "cell_type": "code",
   "execution_count": 106,
   "metadata": {},
   "outputs": [
    {
     "data": {
      "text/html": [
       "'Wilson'"
      ],
      "text/latex": [
       "'Wilson'"
      ],
      "text/markdown": [
       "'Wilson'"
      ],
      "text/plain": [
       "[1] \"Wilson\""
      ]
     },
     "metadata": {},
     "output_type": "display_data"
    },
    {
     "data": {
      "text/html": [
       "'Wilson'"
      ],
      "text/latex": [
       "'Wilson'"
      ],
      "text/markdown": [
       "'Wilson'"
      ],
      "text/plain": [
       "[1] \"Wilson\""
      ]
     },
     "metadata": {},
     "output_type": "display_data"
    },
    {
     "data": {
      "text/html": [
       "'TermStr'"
      ],
      "text/latex": [
       "'TermStr'"
      ],
      "text/markdown": [
       "'TermStr'"
      ],
      "text/plain": [
       "[1] \"TermStr\""
      ]
     },
     "metadata": {},
     "output_type": "display_data"
    },
    {
     "data": {
      "text/html": [
       "'TermStr'"
      ],
      "text/latex": [
       "'TermStr'"
      ],
      "text/markdown": [
       "'TermStr'"
      ],
      "text/plain": [
       "[1] \"TermStr\""
      ]
     },
     "metadata": {},
     "output_type": "display_data"
    },
    {
     "data": {
      "text/html": [
       "'Forward'"
      ],
      "text/latex": [
       "'Forward'"
      ],
      "text/markdown": [
       "'Forward'"
      ],
      "text/plain": [
       "[1] \"Forward\""
      ]
     },
     "metadata": {},
     "output_type": "display_data"
    },
    {
     "data": {
      "text/html": [
       "'Forward'"
      ],
      "text/latex": [
       "'Forward'"
      ],
      "text/markdown": [
       "'Forward'"
      ],
      "text/plain": [
       "[1] \"Forward\""
      ]
     },
     "metadata": {},
     "output_type": "display_data"
    },
    {
     "data": {
      "text/html": [
       "'Bond'"
      ],
      "text/latex": [
       "'Bond'"
      ],
      "text/markdown": [
       "'Bond'"
      ],
      "text/plain": [
       "[1] \"Bond\""
      ]
     },
     "metadata": {},
     "output_type": "display_data"
    },
    {
     "data": {
      "text/html": [
       "'Bond'"
      ],
      "text/latex": [
       "'Bond'"
      ],
      "text/markdown": [
       "'Bond'"
      ],
      "text/plain": [
       "[1] \"Bond\""
      ]
     },
     "metadata": {},
     "output_type": "display_data"
    },
    {
     "data": {
      "text/html": [
       "'initialize'"
      ],
      "text/latex": [
       "'initialize'"
      ],
      "text/markdown": [
       "'initialize'"
      ],
      "text/plain": [
       "[1] \"initialize\""
      ]
     },
     "metadata": {},
     "output_type": "display_data"
    }
   ],
   "source": [
    "## Term Structure Class 정의\n",
    "\n",
    "# Smith-Wilson Class\n",
    "setClass('Smith.Wilson',\n",
    "        representation(alpha=\"numeric\", UFR=\"numeric\", terms=\"numeric\", int=\"numeric\", zeta=\"numeric\"))\n",
    "\n",
    "# Wilson function\n",
    "setGeneric(\"Wilson\", function(object, ...) standardGeneric(\"Wilson\"))\n",
    "setMethod(\"Wilson\", \"Smith.Wilson\", Vectorize(function(object,t,u,order=0){\n",
    "    if (order==0) {\n",
    "        y <- exp(-object@UFR*(t+u))*(object@alpha*pmin(t,u) - 0.5*exp(-object@alpha*pmax(t,u))*(exp(object@alpha*pmin(t,u)) - exp(-object@alpha*pmin(t,u))))\n",
    "    }else if(order==1){\n",
    "        if (t < u) y <- exp(-object@UFR*t-(object@alpha+object@UFR)*u)*(object@UFR*sinh(object@alpha*t)-object@alpha*cosh(object@alpha*t)-object@alpha*(object@UFR*t-1)*exp(object@alpha*u))\n",
    "        else y <- exp(-object@UFR*u-(object@alpha+object@UFR)*t)*((object@alpha+object@UFR)*sinh(object@alpha*u)-object@alpha*object@UFR*u*exp(object@alpha*t))\n",
    "    }else if(order==2){\n",
    "        if (t < u) y <- exp(-object@UFR*t-(object@alpha+object@UFR)*u)*(-(object@alpha^2+object@UFR^2)*sinh(object@alpha*t)+2*object@alpha*object@UFR*cosh(object@alpha*t)+object@alpha*object@UFR*(object@UFR*t-2)*exp(object@alpha*u)) \n",
    "        else y <- exp(-object@UFR*u-(object@alpha+object@UFR)*t)*(object@alpha*object@UFR^2*u*exp(object@alpha*t)-(object@alpha+object@UFR)^2*sinh(object@alpha*u))\n",
    "    }else print('유효한 order가 아닙니다.')\n",
    "    return(y)\n",
    "}, vectorize.args=c('t','u')))\n",
    "         \n",
    "# Term Structure\n",
    "setGeneric(\"TermStr\", function(object, ...) standardGeneric(\"TermStr\"))\n",
    "setMethod(\"TermStr\", \"Smith.Wilson\", function(object, t){\n",
    "    y <- (1/Bond(object,t))^(1/t) - 1\n",
    "    return(y)\n",
    "})\n",
    "\n",
    "# Forward Rate\n",
    "setGeneric(\"Forward\", function(object, ...) standardGeneric(\"Forward\"))\n",
    "setMethod(\"Forward\", \"Smith.Wilson\", Vectorize(function(object, t, order=0){\n",
    "    if (order==0) y <- -Bond(object,t,1)/Bond(object,t,0)\n",
    "    else if (order==1) y <- 1/Bond(object,t,0)*(-Bond(object,t,1)^2/Bond(object,t,0) + Bond(object,t,2))\n",
    "    else print('유효한 order가 아닙니다.')\n",
    "    return(y)\n",
    "}, vectorize.args='t'))\n",
    "        \n",
    "# Bond Price\n",
    "setGeneric(\"Bond\", function(object, ...) standardGeneric(\"Bond\"))\n",
    "setMethod(\"Bond\", \"Smith.Wilson\", Vectorize(function(object, t, order=0){\n",
    "    y <- (-object@UFR)^order*exp(-object@UFR*t) + object@zeta %*% Wilson(object, t, object@terms, order)\n",
    "    return(y)\n",
    "}, vectorize.args=\"t\"))\n",
    "\n",
    "# Initialize\n",
    "setMethod(\"initialize\", \"Smith.Wilson\", function(.Object, alpha, UFR, terms, int){\n",
    "    .Object@alpha <- alpha\n",
    "    .Object@UFR <- UFR\n",
    "    .Object@terms <- terms\n",
    "    .Object@int <- int\n",
    "    \n",
    "    W <- outer(terms, terms, FUN=function(x,y) Wilson(.Object, x, y))\n",
    "    m  <- 1/(1+int)^terms\n",
    "    mu <- exp(-UFR*terms)\n",
    "    .Object@zeta <- as.numeric((m-mu)%*%solve(W))\n",
    "    \n",
    "    return(.Object)\n",
    "})"
   ]
  },
  {
   "cell_type": "code",
   "execution_count": 60,
   "metadata": {},
   "outputs": [],
   "source": [
    "# 입력 데이터\n",
    "int.rate <- c(0.0334,0.0326,0.0327,0.0328,0.033,0.0335,0.0342,0.0345,0.0347,0.0352)\n",
    "int.mat <- c(1,2,3,4,5,7,10,12,15,20)\n",
    "vol <- matrix (c(0.1815,0.172,0.17,0.1605,0.158,0.155,\n",
    "                 0.177,0.1715,0.17,0.158,0.1545,0.15,\n",
    "                 0.174,0.168,0.1655,0.1555,0.1495,0.1475,\n",
    "                 0.165,0.1575,0.157,0.1495,0.1455,0.144,\n",
    "                 0.165,0.1575,0.157,0.1535,0.1455,0.144,\n",
    "                 0.1665,0.159,0.1575,0.15,0.1455,0.14),\n",
    "                 ncol=6, byrow=TRUE)\n",
    "colnames(vol) <- rownames(vol) <- tenor <- c(1,2,3,5,7,10)\n",
    "N <- 100"
   ]
  },
  {
   "cell_type": "code",
   "execution_count": 61,
   "metadata": {},
   "outputs": [
    {
     "data": {},
     "metadata": {},
     "output_type": "display_data"
    },
    {
     "data": {
      "image/png": "[encoded data removed]",
      "text/plain": [
       "plot without title"
      ]
     },
     "metadata": {},
     "output_type": "display_data"
    }
   ],
   "source": [
    "# Smith-Wilson 객체 생성\n",
    "sw <- new(\"Smith.Wilson\", alpha=0.1, UFR=0.042, terms=int.mat, int=int.rate)\n",
    "\n",
    "# 보정된 금리 생성\n",
    "t <- seq(0.01,100,by=0.05)\n",
    "int.rate.sw <- TermStr(sw, t)\n",
    "    \n",
    "# 그래프 출력\n",
    "ggplot() +\n",
    "    geom_line(aes(x=t, y=int.rate.sw)) +\n",
    "    geom_point(aes(x=int.mat, y=int.rate)) +\n",
    "    labs(x='만기', y='금리', title='Smith-Wilson Method 로 보정된 금리기간구조')"
   ]
  },
  {
   "cell_type": "code",
   "execution_count": 116,
   "metadata": {},
   "outputs": [
    {
     "data": {},
     "metadata": {},
     "output_type": "display_data"
    },
    {
     "data": {
      "image/png": "[encoded data removed]",
      "text/plain": [
       "plot without title"
      ]
     },
     "metadata": {},
     "output_type": "display_data"
    }
   ],
   "source": [
    "# 보정된 금리 생성\n",
    "t <- seq(0.01,100,by=0.01)\n",
    "bond <- Wilson(sw, t,1,order=1)\n",
    "    \n",
    "# 그래프 출력\n",
    "ggplot() +\n",
    "    geom_line(aes(x=t, y=bond))"
   ]
  },
  {
   "cell_type": "code",
   "execution_count": 131,
   "metadata": {},
   "outputs": [
    {
     "data": {},
     "metadata": {},
     "output_type": "display_data"
    },
    {
     "name": "stdout",
     "output_type": "stream",
     "text": [
      "[1] \"Forward Rate at 100 Year is... 4.2%\"\n"
     ]
    },
    {
     "data": {
      "image/png": "[encoded data removed]",
      "text/plain": [
       "plot without title"
      ]
     },
     "metadata": {},
     "output_type": "display_data"
    }
   ],
   "source": [
    "# 보정된 금리 생성\n",
    "t <- seq(0.5,100,by=0.05)\n",
    "price <- Forward(sw, t, 1)\n",
    "    \n",
    "# 그래프 출력\n",
    "ggplot() +\n",
    "    geom_line(aes(x=t, y=price)) +\n",
    "    labs(x='만기', y='선도금리', title='Smith-Wilson Method 로 보정된 금리기간구조(선도금리)')\n",
    "print(paste0('Forward Rate at 100 Year is... ', round(Forward(sw, 100)*100,3),'%'))"
   ]
  },
  {
   "cell_type": "code",
   "execution_count": 64,
   "metadata": {},
   "outputs": [
    {
     "data": {
      "text/html": [
       "<table>\n",
       "<thead><tr><th></th><th scope=col>1</th><th scope=col>2</th><th scope=col>3</th><th scope=col>5</th><th scope=col>7</th><th scope=col>10</th></tr></thead>\n",
       "<tbody>\n",
       "\t<tr><th scope=row>1</th><td>0.2156563</td><td>0.4091251</td><td>0.6014401</td><td>0.9328942</td><td>1.265111 </td><td>1.718248 </td></tr>\n",
       "\t<tr><th scope=row>2</th><td>0.2975359</td><td>0.5691316</td><td>0.8391249</td><td>1.2795903</td><td>1.719499 </td><td>2.299471 </td></tr>\n",
       "\t<tr><th scope=row>3</th><td>0.3484518</td><td>0.6689291</td><td>0.9818963</td><td>1.5127983</td><td>1.993963 </td><td>2.695706 </td></tr>\n",
       "\t<tr><th scope=row>5</th><td>0.4146125</td><td>0.7847689</td><td>1.1619576</td><td>1.8017969</td><td>2.384505 </td><td>3.206093 </td></tr>\n",
       "\t<tr><th scope=row>7</th><td>0.4707874</td><td>0.8881613</td><td>1.3094864</td><td>2.0657912</td><td>2.643937 </td><td>3.558126 </td></tr>\n",
       "\t<tr><th scope=row>10</th><td>0.5168802</td><td>0.9684608</td><td>1.4090658</td><td>2.1546571</td><td>2.837103 </td><td>3.745406 </td></tr>\n",
       "</tbody>\n",
       "</table>\n"
      ],
      "text/latex": [
       "\\begin{tabular}{r|llllll}\n",
       "  & 1 & 2 & 3 & 5 & 7 & 10\\\\\n",
       "\\hline\n",
       "\t1 & 0.2156563 & 0.4091251 & 0.6014401 & 0.9328942 & 1.265111  & 1.718248 \\\\\n",
       "\t2 & 0.2975359 & 0.5691316 & 0.8391249 & 1.2795903 & 1.719499  & 2.299471 \\\\\n",
       "\t3 & 0.3484518 & 0.6689291 & 0.9818963 & 1.5127983 & 1.993963  & 2.695706 \\\\\n",
       "\t5 & 0.4146125 & 0.7847689 & 1.1619576 & 1.8017969 & 2.384505  & 3.206093 \\\\\n",
       "\t7 & 0.4707874 & 0.8881613 & 1.3094864 & 2.0657912 & 2.643937  & 3.558126 \\\\\n",
       "\t10 & 0.5168802 & 0.9684608 & 1.4090658 & 2.1546571 & 2.837103  & 3.745406 \\\\\n",
       "\\end{tabular}\n"
      ],
      "text/markdown": [
       "\n",
       "| <!--/--> | 1 | 2 | 3 | 5 | 7 | 10 | \n",
       "|---|---|---|---|---|---|\n",
       "| 1 | 0.2156563 | 0.4091251 | 0.6014401 | 0.9328942 | 1.265111  | 1.718248  | \n",
       "| 2 | 0.2975359 | 0.5691316 | 0.8391249 | 1.2795903 | 1.719499  | 2.299471  | \n",
       "| 3 | 0.3484518 | 0.6689291 | 0.9818963 | 1.5127983 | 1.993963  | 2.695706  | \n",
       "| 5 | 0.4146125 | 0.7847689 | 1.1619576 | 1.8017969 | 2.384505  | 3.206093  | \n",
       "| 7 | 0.4707874 | 0.8881613 | 1.3094864 | 2.0657912 | 2.643937  | 3.558126  | \n",
       "| 10 | 0.5168802 | 0.9684608 | 1.4090658 | 2.1546571 | 2.837103  | 3.745406  | \n",
       "\n",
       "\n"
      ],
      "text/plain": [
       "   1         2         3         5         7        10      \n",
       "1  0.2156563 0.4091251 0.6014401 0.9328942 1.265111 1.718248\n",
       "2  0.2975359 0.5691316 0.8391249 1.2795903 1.719499 2.299471\n",
       "3  0.3484518 0.6689291 0.9818963 1.5127983 1.993963 2.695706\n",
       "5  0.4146125 0.7847689 1.1619576 1.8017969 2.384505 3.206093\n",
       "7  0.4707874 0.8881613 1.3094864 2.0657912 2.643937 3.558126\n",
       "10 0.5168802 0.9684608 1.4090658 2.1546571 2.837103 3.745406"
      ]
     },
     "metadata": {},
     "output_type": "display_data"
    }
   ],
   "source": [
    "# Black Swaption\n",
    "price.alpha <- outer(tenor, tenor, FUN=function(x,y) Bond(sw, x))\n",
    "price.beta <- outer(tenor, tenor, FUN=function(x,y) Bond(sw, x+y))\n",
    "d1 <- 0.5*vol*sqrt(tenor)\n",
    "rs.blk <- N*(price.alpha - price.beta)*(2*pnorm(d1, mean=0, sd=1)-1)\n",
    "rs.blk"
   ]
  },
  {
   "cell_type": "code",
   "execution_count": 138,
   "metadata": {},
   "outputs": [
    {
     "data": {
      "text/html": [
       "'Bond'"
      ],
      "text/latex": [
       "'Bond'"
      ],
      "text/markdown": [
       "'Bond'"
      ],
      "text/plain": [
       "[1] \"Bond\""
      ]
     },
     "metadata": {},
     "output_type": "display_data"
    },
    {
     "data": {
      "text/html": [
       "'Vol'"
      ],
      "text/latex": [
       "'Vol'"
      ],
      "text/markdown": [
       "'Vol'"
      ],
      "text/plain": [
       "[1] \"Vol\""
      ]
     },
     "metadata": {},
     "output_type": "display_data"
    },
    {
     "data": {
      "text/html": [
       "'Vol'"
      ],
      "text/latex": [
       "'Vol'"
      ],
      "text/markdown": [
       "'Vol'"
      ],
      "text/plain": [
       "[1] \"Vol\""
      ]
     },
     "metadata": {},
     "output_type": "display_data"
    },
    {
     "data": {
      "text/html": [
       "'A'"
      ],
      "text/latex": [
       "'A'"
      ],
      "text/markdown": [
       "'A'"
      ],
      "text/plain": [
       "[1] \"A\""
      ]
     },
     "metadata": {},
     "output_type": "display_data"
    },
    {
     "data": {
      "text/html": [
       "'A'"
      ],
      "text/latex": [
       "'A'"
      ],
      "text/markdown": [
       "'A'"
      ],
      "text/plain": [
       "[1] \"A\""
      ]
     },
     "metadata": {},
     "output_type": "display_data"
    },
    {
     "data": {
      "text/html": [
       "'B'"
      ],
      "text/latex": [
       "'B'"
      ],
      "text/markdown": [
       "'B'"
      ],
      "text/plain": [
       "[1] \"B\""
      ]
     },
     "metadata": {},
     "output_type": "display_data"
    },
    {
     "data": {
      "text/html": [
       "'B'"
      ],
      "text/latex": [
       "'B'"
      ],
      "text/markdown": [
       "'B'"
      ],
      "text/plain": [
       "[1] \"B\""
      ]
     },
     "metadata": {},
     "output_type": "display_data"
    },
    {
     "data": {
      "text/html": [
       "'initialize'"
      ],
      "text/latex": [
       "'initialize'"
      ],
      "text/markdown": [
       "'initialize'"
      ],
      "text/plain": [
       "[1] \"initialize\""
      ]
     },
     "metadata": {},
     "output_type": "display_data"
    }
   ],
   "source": [
    "# Hull-White Class 정의\n",
    "setClass('Hull.White',\n",
    "        representation(alpha=\"numeric\", sigma=\"numeric\", termStr='Smith.Wilson'))\n",
    "\n",
    "# Bond Price\n",
    "setMethod(\"Bond\", \"Hull.White\", function(object,r,t=0,T,S){\n",
    "    y <- A(object,r,t,T,S)*exp(-B(object,t,T)*r)\n",
    "    return(y)\n",
    "})\n",
    "    \n",
    "# Volatility\n",
    "setGeneric(\"Vol\", function(object, ...) standardGeneric(\"Vol\"))\n",
    "setMethod(\"Vol\", \"Hull.White\", function(object,t,T,S){\n",
    "    y <- (exp(-object@alpha*T) - exp(-object@alpha*S))^2/(2*object@alpha^3)*object@sigma^2*(exp(2*object@alpha*T)-1)\n",
    "    return(y)\n",
    "})\n",
    "    \n",
    "# A(t,T)\n",
    "setGeneric(\"A\", function(object, ...) standardGeneric(\"A\"))\n",
    "setMethod(\"A\", \"Hull.White\", function(object,r,t,T,S){\n",
    "    y <- Bond(object@termStr,T)/Bond(object@termStr,t)*exp(-B(object,t,T)*(r-Forward(object@termStr, t))- 0.5*Vol(object,t,T,S))\n",
    "    return(y)\n",
    "})\n",
    "    \n",
    "# B(t,T)\n",
    "setGeneric(\"B\", function(object, ...) standardGeneric(\"B\"))\n",
    "setMethod(\"B\", \"Hull.White\", function(object,t,T,S){\n",
    "    y <- (1-exp(-object@alpha*(T-t)))/object@alpha\n",
    "    return(y)\n",
    "})\n",
    "\n",
    "# 객체 초기화\n",
    "setMethod(\"initialize\", \"Hull.White\", function(.Object, alpha, sigma, termStr){\n",
    "    .Object@alpha <- alpha\n",
    "    .Object@sigma <- sigma\n",
    "    .Object@termStr <- termStr\n",
    "    \n",
    "    return(.Object)\n",
    "})"
   ]
  },
  {
   "cell_type": "code",
   "execution_count": 120,
   "metadata": {},
   "outputs": [],
   "source": [
    "hw <- new(\"Hull.White\", alpha=0.05, sigma=0.006, termStr=sw)"
   ]
  },
  {
   "cell_type": "code",
   "execution_count": 139,
   "metadata": {},
   "outputs": [
    {
     "data": {},
     "metadata": {},
     "output_type": "display_data"
    },
    {
     "data": {
      "image/png": "[encoded data removed]",
      "text/plain": [
       "plot without title"
      ]
     },
     "metadata": {},
     "output_type": "display_data"
    }
   ],
   "source": [
    "price <- Bond(hw,r=0.034,T=t,S=2)\n",
    "\n",
    "# 그래프 출력\n",
    "ggplot() +\n",
    "    geom_line(aes(x=t, y=price))"
   ]
  },
  {
   "cell_type": "code",
   "execution_count": null,
   "metadata": {},
   "outputs": [],
   "source": [
    "# Forward Swap Rate\n",
    "tau <- 0.25\n",
    "fswap <- Vectorize(function(x,y) (Bond(sw, x)- Bond(sw, x+y))/(tau*sum(Bond(sw, seq(x+tau,x+y,tau)))), vectorize.args = c('x','y'))\n",
    "fswap.rate <- outer(tenor, tenor, fswap)"
   ]
  },
  {
   "cell_type": "code",
   "execution_count": null,
   "metadata": {},
   "outputs": [],
   "source": [
    "rs.hw <- Vectorize(function(T,S) {\n",
    "i <- seq(T+tau,T+S,tau)\n",
    "\n",
    "tau <- 0.25\n",
    "N <- 100\n",
    "\n",
    "error <- function(r){\n",
    "c <- rep(fswap(T,S)*tau,S/tau)\n",
    "c[S/tau] <- 1+c[S/tau]\n",
    "return(abs(sum(c*Bond(hw, r=r, t=T, T=i, S=S))-1))\n",
    "}\n",
    "r <- optimize(error, interval=c(0,1))$minimum\n",
    "X <- Bond(hw, r=r, t=T, T=i, S=S)\n",
    "di.pos <- 1/Vol(hw, t=0,T=T,S=i)*log(Bond(hw, r=r,t=0,T=i,S=S)/Bond(hw, r=r,t=0,T=T,S=S)/X) + Vol(hw,t=0,T=T,S=i)/2\n",
    "di.neg <- di.pos - Vol(hw,t=0,T=T,S=i)\n",
    "\n",
    "y <- N*sum(c*(Bond(hw,r=r,t=0,T=i,S=S)*dnorm(di.pos) - X*Bond(hw,r=r,t=0,T=T,S=S)*dnorm(di.neg)))\n",
    "\n",
    "return(y) \n",
    "}, vectorize.args = c('T','S'))\n",
    "\n",
    "mse <- sum(((rs.blk - outer(tenor, tenor, rs.hw))/rs.blk)^2)"
   ]
  }
 ],
 "metadata": {
  "kernelspec": {
   "display_name": "R",
   "language": "R",
   "name": "ir"
  },
  "language_info": {
   "codemirror_mode": "r",
   "file_extension": ".r",
   "mimetype": "text/x-r-source",
   "name": "R",
   "pygments_lexer": "r",
   "version": "3.4.3"
  }
 },
 "nbformat": 4,
 "nbformat_minor": 2
}
