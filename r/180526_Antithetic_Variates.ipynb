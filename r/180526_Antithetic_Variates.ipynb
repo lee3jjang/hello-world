{
 "cells": [
  {
   "cell_type": "code",
   "execution_count": 221,
   "metadata": {},
   "outputs": [],
   "source": [
    "library(ggplot2)\n",
    "library(repr)\n",
    "options(repr.plot.width=10, repr.plot.height=3)"
   ]
  },
  {
   "cell_type": "code",
   "execution_count": 222,
   "metadata": {},
   "outputs": [],
   "source": [
    "# 대조변수법\n",
    "Antithetic.rand <- function(scens, vars=1){\n",
    "    isodd = scens%%2\n",
    "    num = scens%/%2 + isodd\n",
    "    z <- matrix(rnorm(num*vars, mean=0, sd=1), num, vars)\n",
    "    value <- rbind(z,-z)\n",
    "    if(isodd == TRUE) value <- value[-1,]\n",
    "    return(scale(value))\n",
    "}"
   ]
  },
  {
   "cell_type": "code",
   "execution_count": 228,
   "metadata": {},
   "outputs": [
    {
     "data": {},
     "metadata": {},
     "output_type": "display_data"
    },
    {
     "data": {
      "image/png": "[encoded data removed]",
      "text/plain": [
       "plot without title"
      ]
     },
     "metadata": {},
     "output_type": "display_data",
     "source": "R display func"
    }
   ],
   "source": [
    "# 샘플링\n",
    "u <- Antithetic.rand(100000)\n",
    "ggplot() +\n",
    "    geom_histogram(aes(x=u), bins=100)"
   ]
  }
 ],
 "metadata": {
  "kernelspec": {
   "display_name": "R",
   "language": "R",
   "name": "ir"
  },
  "language_info": {
   "codemirror_mode": "r",
   "file_extension": ".r",
   "mimetype": "text/x-r-source",
   "name": "R",
   "pygments_lexer": "r",
   "version": "3.4.3"
  }
 },
 "nbformat": 4,
 "nbformat_minor": 2
}
