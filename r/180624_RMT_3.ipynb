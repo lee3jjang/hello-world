{
 "cells": [
  {
   "cell_type": "code",
   "execution_count": 1,
   "metadata": {},
   "outputs": [],
   "source": [
    "library(ggplot2)\n",
    "library(repr)\n",
    "options(repr.plot.width=5, repr.plot.height=4)\n",
    "rm(list=ls())"
   ]
  },
  {
   "cell_type": "code",
   "execution_count": 2,
   "metadata": {},
   "outputs": [
    {
     "data": {},
     "metadata": {},
     "output_type": "display_data"
    },
    {
     "data": {
      "image/png": "[encoded data removed]",
      "text/plain": [
       "plot without title"
      ]
     },
     "metadata": {},
     "output_type": "display_data",
     "source": "R display func"
    }
   ],
   "source": [
    "# Normal random symmetric matrix\n",
    "n <- 5000\n",
    "H <- array(rnorm(n^2), c(n,n))\n",
    "Hs <- (H+t(H))/sqrt(2*n)\n",
    "lamb <- eigen(Hs, symmetric=TRUE)$values\n",
    "\n",
    "ggplot() +\n",
    "    geom_histogram(aes(x=lamb, y=..density..), bins=100) +\n",
    "    labs(x='Eigenvalues')"
   ]
  },
  {
   "cell_type": "code",
   "execution_count": 3,
   "metadata": {},
   "outputs": [
    {
     "data": {},
     "metadata": {},
     "output_type": "display_data"
    },
    {
     "data": {
      "image/png": "[encoded data removed]",
      "text/plain": [
       "plot without title"
      ]
     },
     "metadata": {},
     "output_type": "display_data",
     "source": "R display func"
    }
   ],
   "source": [
    "# Uniform random symmetric matrix\n",
    "n <- 5000\n",
    "H <- array(runif(n^2), c(n,n))\n",
    "Hs <- sqrt(12)*(H+t(H)-1)/sqrt(2*n)\n",
    "lamb <- eigen(Hs, symmetric=TRUE)$values\n",
    "\n",
    "ggplot() +\n",
    "    geom_histogram(aes(x=lamb, y=..density..), bins=100) +\n",
    "    labs(x='Eigenvalues')"
   ]
  },
  {
   "cell_type": "code",
   "execution_count": 56,
   "metadata": {},
   "outputs": [
    {
     "data": {},
     "metadata": {},
     "output_type": "display_data"
    },
    {
     "data": {
      "image/png": "[encoded data removed]",
      "text/plain": [
       "plot without title"
      ]
     },
     "metadata": {},
     "output_type": "display_data",
     "source": "R display func"
    }
   ],
   "source": [
    "# IID random normal returns\n",
    "T <- 5000\n",
    "M <- 1000\n",
    "H <- array(rnorm(M*T), c(M,T))\n",
    "E <- H %*% t(H) / T\n",
    "lamb <- eigen(E, symmetric=TRUE)$values\n",
    "\n",
    "# Theoretical Distribution\n",
    "f <- function(lamb){\n",
    "    Q <- T/M\n",
    "    sigma <- 1\n",
    "    lamb.upper <- sigma*(1+1/sqrt(Q))^2\n",
    "    lamb.lower <- sigma*(1-1/sqrt(Q))^2\n",
    "    y <- Q/(2*pi*sigma^2)*sqrt((lamb.upper-lamb)*(lamb-lamb.lower))/lamb\n",
    "    return(y)\n",
    "}\n",
    "Q <- T/M\n",
    "sigma <- 1\n",
    "lamb.upper <- sigma*(1+1/sqrt(Q))^2\n",
    "lamb.lower <- sigma*(1-1/sqrt(Q))^2\n",
    "x <- seq(lamb.lower,lamb.upper, by=0.01)\n",
    "y <- f(x)\n",
    "\n",
    "# Graph\n",
    "ggplot() +\n",
    "    geom_histogram(aes(x=lamb, y=..density..), bins=50 ,color='blue', fill='green', alpha=0.4) +\n",
    "    geom_line(aes(x=x,y=y), color='red', size=0.8) + \n",
    "    labs(title='Marcenko-Pastur density', x='Eigenvalues')"
   ]
  },
  {
   "cell_type": "code",
   "execution_count": 72,
   "metadata": {},
   "outputs": [
    {
     "data": {
      "text/html": [
       "0.0915051629700819"
      ],
      "text/latex": [
       "0.0915051629700819"
      ],
      "text/markdown": [
       "0.0915051629700819"
      ],
      "text/plain": [
       "[1] 0.09150516"
      ]
     },
     "metadata": {},
     "output_type": "display_data"
    }
   ],
   "source": [
    "# sampling error\n",
    "M <- 431\n",
    "T <- 2155\n",
    "Q <- T/M\n",
    "x <- 2/(M*(M-1))\n",
    "(rho.max <- -qnorm(x)/sqrt(T))"
   ]
  },
  {
   "cell_type": "code",
   "execution_count": 93,
   "metadata": {},
   "outputs": [
    {
     "data": {},
     "metadata": {},
     "output_type": "display_data"
    },
    {
     "name": "stdout",
     "output_type": "stream",
     "text": [
      "[1] \"Minimum eigenvalue : 0.12\"\n",
      "[1] \"Maximum eigenvalue : 1.84\"\n"
     ]
    },
    {
     "data": {
      "image/png": "[encoded data removed]",
      "text/plain": [
       "plot without title"
      ]
     },
     "metadata": {},
     "output_type": "display_data",
     "source": "R display func"
    }
   ],
   "source": [
    "# A hand-waving practical approach\n",
    "f <- function(lamb, sigma, Q){\n",
    "    lamb.upper <- sigma*(1+1/sqrt(Q))^2\n",
    "    lamb.lower <- sigma*(1-1/sqrt(Q))^2\n",
    "    y <- Q/(2*pi*sigma^2)*sqrt((lamb.upper-lamb)*(lamb-lamb.lower))/lamb\n",
    "    return(y)\n",
    "}\n",
    "Q <- 2.90\n",
    "sigma <- 0.73\n",
    "lamb.upper <- sigma*(1+1/sqrt(Q))^2\n",
    "lamb.lower <- sigma*(1-1/sqrt(Q))^2\n",
    "x <- seq(lamb.lower,lamb.upper, by=0.01)\n",
    "y <- f(x, sigma, Q)\n",
    "\n",
    "# Graph\n",
    "ggplot() +\n",
    "    geom_line(aes(x=x,y=y), color='red', size=0.8) + \n",
    "    labs(title='Marcenko-Pastur density', x='Eigenvalues', y='Density')\n",
    "print(paste0(\"Minimum eigenvalue : \", round(lamb.lower,2)))\n",
    "print(paste0(\"Maximum eigenvalue : \", round(lamb.upper,2)))"
   ]
  }
 ],
 "metadata": {
  "kernelspec": {
   "display_name": "R",
   "language": "R",
   "name": "ir"
  },
  "language_info": {
   "codemirror_mode": "r",
   "file_extension": ".r",
   "mimetype": "text/x-r-source",
   "name": "R",
   "pygments_lexer": "r",
   "version": "3.4.3"
  }
 },
 "nbformat": 4,
 "nbformat_minor": 2
}
