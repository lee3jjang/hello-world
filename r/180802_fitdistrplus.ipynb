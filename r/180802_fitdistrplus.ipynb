{
 "cells": [
  {
   "cell_type": "code",
   "execution_count": 138,
   "metadata": {},
   "outputs": [],
   "source": [
    "require(fitdistrplus)\n",
    "require(repr)\n",
    "require(actuar)\n",
    "require(rgenoud)\n",
    "require(mc2d)\n",
    "require(gamlss.dist)\n",
    "options(repr.plot.width=4, repr.plot.height=3)\n",
    "rm(list=ls())"
   ]
  },
  {
   "cell_type": "code",
   "execution_count": 139,
   "metadata": {},
   "outputs": [
    {
     "data": {
      "image/png": "[encoded data removed]",
      "text/plain": [
       "Plot with title \"Histogram of serving\""
      ]
     },
     "metadata": {},
     "output_type": "display_data",
     "source": "R display func"
    }
   ],
   "source": [
    "data(groundbeef)\n",
    "serving <- groundbeef$serving\n",
    "hist(serving, breaks=50)"
   ]
  },
  {
   "cell_type": "code",
   "execution_count": 140,
   "metadata": {},
   "outputs": [
    {
     "data": {
      "text/plain": [
       "Fitting of the distribution ' gamma ' by maximum likelihood \n",
       "Parameters : \n",
       "        estimate  Std. Error\n",
       "shape 4.00825257 0.341336046\n",
       "rate  0.05441911 0.004935468\n",
       "Loglikelihood:  -1253.625   AIC:  2511.25   BIC:  2518.325 \n",
       "Correlation matrix:\n",
       "          shape      rate\n",
       "shape 1.0000000 0.9384381\n",
       "rate  0.9384381 1.0000000\n"
      ]
     },
     "metadata": {},
     "output_type": "display_data"
    }
   ],
   "source": [
    "fitg <- fitdist(serving, \"gamma\")\n",
    "summary(fitg)"
   ]
  },
  {
   "cell_type": "code",
   "execution_count": 141,
   "metadata": {},
   "outputs": [
    {
     "data": {
      "image/png": "[encoded data removed]",
      "text/plain": [
       "Plot with title \"Empirical and theoretical CDFs\""
      ]
     },
     "metadata": {},
     "output_type": "display_data",
     "source": "R display func"
    }
   ],
   "source": [
    "cdfcomp(fitg)"
   ]
  },
  {
   "cell_type": "code",
   "execution_count": 142,
   "metadata": {},
   "outputs": [
    {
     "data": {
      "image/png": "[encoded data removed]",
      "text/plain": [
       "Plot with title \"Histogram and theoretical densities\""
      ]
     },
     "metadata": {},
     "output_type": "display_data",
     "source": "R display func"
    }
   ],
   "source": [
    "denscomp(fitg, addlegend=FALSE)"
   ]
  },
  {
   "cell_type": "code",
   "execution_count": 143,
   "metadata": {},
   "outputs": [
    {
     "data": {
      "image/png": "[encoded data removed]",
      "text/plain": [
       "Plot with title \"P-P plot\""
      ]
     },
     "metadata": {},
     "output_type": "display_data",
     "source": "R display func"
    }
   ],
   "source": [
    "ppcomp(fitg)"
   ]
  },
  {
   "cell_type": "code",
   "execution_count": 144,
   "metadata": {},
   "outputs": [
    {
     "data": {
      "image/png": "[encoded data removed]",
      "text/plain": [
       "Plot with title \"Q-Q plot\""
      ]
     },
     "metadata": {},
     "output_type": "display_data",
     "source": "R display func"
    }
   ],
   "source": [
    "qqcomp(fitg)"
   ]
  },
  {
   "cell_type": "code",
   "execution_count": 145,
   "metadata": {},
   "outputs": [
    {
     "name": "stdout",
     "output_type": "stream",
     "text": [
      "          shape      rate\n",
      "shape 1.0000000 0.9384381\n",
      "rate  0.9384381 1.0000000\n",
      "            shape         rate\n",
      "shape 0.116510296 1.580943e-03\n",
      "rate  0.001580943 2.435884e-05\n",
      "     shape       rate \n",
      "4.00825257 0.05441911 \n",
      "      shape        rate \n",
      "0.341336046 0.004935468 \n",
      "[1] -1253.625\n",
      "[1] 2511.25\n",
      "[1] 2518.325\n",
      "[1] 2518.325\n",
      "[1] 2511.25\n",
      "[1] 254\n",
      "[1] 30 10 20\n",
      "[1] \"gamma\"\n"
     ]
    }
   ],
   "source": [
    "print(fitg$cor)\n",
    "print(fitg$vcov)\n",
    "print(fitg$estimate)\n",
    "print(fitg$sd)\n",
    "print(fitg$loglik)\n",
    "print(-2*fitg$loglik+2*2)\n",
    "print(-2*fitg$loglik+2*log(254))\n",
    "print(fitg$bic)\n",
    "print(fitg$aic)\n",
    "print(fitg$n)\n",
    "print(head(fitg$data, 3))\n",
    "print(fitg$distname)"
   ]
  },
  {
   "cell_type": "code",
   "execution_count": 146,
   "metadata": {},
   "outputs": [
    {
     "data": {
      "text/plain": [
       "Fitting of the distribution ' gamma ' by matching moments \n",
       "Parameters : \n",
       "        estimate\n",
       "shape 4.22848617\n",
       "rate  0.05741663\n",
       "Loglikelihood:  -1253.825   AIC:  2511.65   BIC:  2518.724 "
      ]
     },
     "metadata": {},
     "output_type": "display_data"
    }
   ],
   "source": [
    "fitgmme <- fitdist(serving, \"gamma\", method=\"mme\")\n",
    "summary(fitgmme)"
   ]
  },
  {
   "cell_type": "code",
   "execution_count": 147,
   "metadata": {},
   "outputs": [
    {
     "data": {
      "text/plain": [
       "Fitting of the distribution ' weibull ' by maximum likelihood \n",
       "Parameters : \n",
       "       estimate Std. Error\n",
       "shape  2.185885  0.1045755\n",
       "scale 83.347679  2.5268626\n",
       "Loglikelihood:  -1255.225   AIC:  2514.449   BIC:  2521.524 \n",
       "Correlation matrix:\n",
       "         shape    scale\n",
       "shape 1.000000 0.321821\n",
       "scale 0.321821 1.000000\n"
      ]
     },
     "metadata": {},
     "output_type": "display_data"
    }
   ],
   "source": [
    "fitW <- fitdist(serving, \"weibull\")\n",
    "summary(fitW)"
   ]
  },
  {
   "cell_type": "code",
   "execution_count": 148,
   "metadata": {},
   "outputs": [
    {
     "data": {
      "text/plain": [
       "Fitting of the distribution ' lnorm ' by maximum likelihood \n",
       "Parameters : \n",
       "         estimate Std. Error\n",
       "meanlog 4.1693701 0.03366988\n",
       "sdlog   0.5366095 0.02380783\n",
       "Loglikelihood:  -1261.319   AIC:  2526.639   BIC:  2533.713 \n",
       "Correlation matrix:\n",
       "        meanlog sdlog\n",
       "meanlog       1     0\n",
       "sdlog         0     1\n"
      ]
     },
     "metadata": {},
     "output_type": "display_data"
    }
   ],
   "source": [
    "fitg <- fitdist(serving, \"gamma\")\n",
    "fitln <- fitdist(serving, \"lnorm\")\n",
    "summary(fitln)"
   ]
  },
  {
   "cell_type": "code",
   "execution_count": 149,
   "metadata": {},
   "outputs": [
    {
     "data": {
      "image/png": "[encoded data removed]",
      "text/plain": [
       "Plot with title \"Empirical and theoretical CDFs\""
      ]
     },
     "metadata": {},
     "output_type": "display_data",
     "source": "R display func"
    }
   ],
   "source": [
    "cdfcomp(list(fitW, fitg, fitln), legendtext=c(\"Weibull\", \"gamma\", \"lognormal\"))"
   ]
  },
  {
   "cell_type": "code",
   "execution_count": 150,
   "metadata": {},
   "outputs": [
    {
     "data": {
      "image/png": "[encoded data removed]",
      "text/plain": [
       "Plot with title \"Histogram and theoretical densities\""
      ]
     },
     "metadata": {},
     "output_type": "display_data",
     "source": "R display func"
    }
   ],
   "source": [
    "denscomp(list(fitW, fitg, fitln), legendtext=c(\"Weibull\", \"gamma\", \"lognormal\"))"
   ]
  },
  {
   "cell_type": "code",
   "execution_count": 151,
   "metadata": {},
   "outputs": [
    {
     "data": {
      "image/png": "[encoded data removed]",
      "text/plain": [
       "Plot with title \"Q-Q plot\""
      ]
     },
     "metadata": {},
     "output_type": "display_data",
     "source": "R display func"
    }
   ],
   "source": [
    "qqcomp(list(fitW, fitg, fitln), legendtext=c(\"Weibull\", \"gamma\", \"lognormal\"))"
   ]
  },
  {
   "cell_type": "code",
   "execution_count": 152,
   "metadata": {},
   "outputs": [
    {
     "data": {
      "image/png": "[encoded data removed]",
      "text/plain": [
       "Plot with title \"P-P plot\""
      ]
     },
     "metadata": {},
     "output_type": "display_data",
     "source": "R display func"
    }
   ],
   "source": [
    "ppcomp(list(fitW, fitg, fitln), legendtext=c(\"Weibull\", \"gamma\", \"lognormal\"))"
   ]
  },
  {
   "cell_type": "code",
   "execution_count": 153,
   "metadata": {},
   "outputs": [
    {
     "data": {
      "text/plain": [
       "Goodness-of-fit statistics\n",
       "                               Weibull     gamma lognormal\n",
       "Kolmogorov-Smirnov statistic 0.1396646 0.1281246 0.1493090\n",
       "Cramer-von Mises statistic   0.6840994 0.6934112 0.8277358\n",
       "Anderson-Darling statistic   3.5736460 3.5660192 4.5436542\n",
       "\n",
       "Goodness-of-fit criteria\n",
       "                                Weibull    gamma lognormal\n",
       "Akaike's Information Criterion 2514.449 2511.250  2526.639\n",
       "Bayesian Information Criterion 2521.524 2518.325  2533.713"
      ]
     },
     "metadata": {},
     "output_type": "display_data"
    }
   ],
   "source": [
    "gofstat(list(fitW, fitg, fitln), fitnames=c(\"Weibull\", \"gamma\", \"lognormal\"))"
   ]
  },
  {
   "cell_type": "code",
   "execution_count": 154,
   "metadata": {},
   "outputs": [
    {
     "data": {
      "text/plain": [
       "Fitting of the distribution ' gumbel ' by maximum likelihood \n",
       "Parameters : \n",
       "  estimate Std. Error\n",
       "a 56.95893   1.924004\n",
       "b 29.07871   1.431579\n",
       "Loglikelihood:  -1255.717   AIC:  2515.434   BIC:  2522.509 \n",
       "Correlation matrix:\n",
       "          a         b\n",
       "a 1.0000000 0.3172128\n",
       "b 0.3172128 1.0000000\n"
      ]
     },
     "metadata": {},
     "output_type": "display_data"
    }
   ],
   "source": [
    "dgumbel <- function(x, a, b) 1/b*exp((a-x)/b)*exp(-exp((a-x)/b))\n",
    "pgumbel <- function(q, a, b) exp(-exp((a-q)/b))\n",
    "qgumbel <- function(p, a, b) a-b*log(-log(p))\n",
    "fitgumbel <- fitdist(serving, \"gumbel\", start=list(a=10, b=10))\n",
    "summary(fitgumbel)"
   ]
  },
  {
   "cell_type": "code",
   "execution_count": 155,
   "metadata": {},
   "outputs": [
    {
     "data": {
      "image/png": "[encoded data removed]",
      "text/plain": [
       "Plot with title \"Histogram of number\""
      ]
     },
     "metadata": {},
     "output_type": "display_data",
     "source": "R display func"
    }
   ],
   "source": [
    "data(toxocara)\n",
    "number <- toxocara$number\n",
    "hist(number, 30)"
   ]
  },
  {
   "cell_type": "code",
   "execution_count": 156,
   "metadata": {},
   "outputs": [
    {
     "data": {
      "text/plain": [
       "Fitting of the distribution ' pois ' by maximum likelihood \n",
       "Parameters : \n",
       "       estimate Std. Error\n",
       "lambda 8.679245  0.4046719\n",
       "Loglikelihood:  -507.5334   AIC:  1017.067   BIC:  1019.037 "
      ]
     },
     "metadata": {},
     "output_type": "display_data"
    }
   ],
   "source": [
    "fitp <- fitdist(number, \"pois\")\n",
    "summary(fitp)"
   ]
  },
  {
   "cell_type": "code",
   "execution_count": 157,
   "metadata": {},
   "outputs": [
    {
     "data": {
      "text/html": [
       "-507.533429785413"
      ],
      "text/latex": [
       "-507.533429785413"
      ],
      "text/markdown": [
       "-507.533429785413"
      ],
      "text/plain": [
       "[1] -507.5334"
      ]
     },
     "metadata": {},
     "output_type": "display_data"
    }
   ],
   "source": [
    "lamb <- fitp$estimate\n",
    "sum(log(dpois(x=number,lambda=lamb)))"
   ]
  },
  {
   "cell_type": "code",
   "execution_count": 158,
   "metadata": {},
   "outputs": [],
   "source": [
    "fitnb <- fitdist(number, \"nbinom\")"
   ]
  },
  {
   "cell_type": "code",
   "execution_count": 159,
   "metadata": {},
   "outputs": [
    {
     "data": {
      "text/plain": [
       "Fitting of the distribution ' nbinom ' by maximum likelihood \n",
       "Parameters : \n",
       "      estimate Std. Error\n",
       "size 0.3971457 0.08289027\n",
       "mu   8.6802520 1.93501003\n",
       "Loglikelihood:  -159.3441   AIC:  322.6882   BIC:  326.6288 \n",
       "Correlation matrix:\n",
       "              size            mu\n",
       "size  1.0000000000 -0.0001038553\n",
       "mu   -0.0001038553  1.0000000000\n"
      ]
     },
     "metadata": {},
     "output_type": "display_data"
    }
   ],
   "source": [
    "summary(fitnb)"
   ]
  },
  {
   "cell_type": "code",
   "execution_count": 160,
   "metadata": {},
   "outputs": [
    {
     "data": {
      "image/png": "[encoded data removed]",
      "text/plain": [
       "Plot with title \"Empirical and theoretical CDFs\""
      ]
     },
     "metadata": {},
     "output_type": "display_data",
     "source": "R display func"
    }
   ],
   "source": [
    "cdfcomp(list(fitp, fitnb), legendtext=c('poisson','negative binomial'))"
   ]
  },
  {
   "cell_type": "code",
   "execution_count": 161,
   "metadata": {},
   "outputs": [
    {
     "data": {
      "text/plain": [
       "Chi-squared statistic:  31256.96 7.48606 \n",
       "Degree of freedom of the Chi-squared distribution:  5 4 \n",
       "Chi-squared p-value:  0 0.1123255 \n",
       "   the p-value may be wrong with some theoretical counts < 5  \n",
       "Chi-squared table:\n",
       "      obscounts theo 1-mle-pois theo 2-mle-nbinom\n",
       "<= 0         14     0.009014207         15.295027\n",
       "<= 1          8     0.078236512          5.808596\n",
       "<= 3          6     1.321767215          6.845015\n",
       "<= 4          6     2.131297776          2.407815\n",
       "<= 9          6    29.827829221          7.835196\n",
       "<= 21         6    19.626223732          8.271110\n",
       "> 21          7     0.005631339          6.537242\n",
       "\n",
       "Goodness-of-fit criteria\n",
       "                               1-mle-pois 2-mle-nbinom\n",
       "Akaike's Information Criterion   1017.067     322.6882\n",
       "Bayesian Information Criterion   1019.037     326.6288"
      ]
     },
     "metadata": {},
     "output_type": "display_data"
    }
   ],
   "source": [
    "gofstat(list(fitp, fitnb))"
   ]
  },
  {
   "cell_type": "code",
   "execution_count": 162,
   "metadata": {},
   "outputs": [
    {
     "data": {
      "text/plain": [
       "Fitting of the distribution ' gamma ' by maximum likelihood \n",
       "Parameters:\n",
       "        estimate  Std. Error\n",
       "shape 3.96406620 0.337429736\n",
       "rate  0.05390102 0.004889851"
      ]
     },
     "metadata": {},
     "output_type": "display_data"
    },
    {
     "data": {
      "text/plain": [
       "Fitting of the distribution ' gamma ' by maximum likelihood \n",
       "Parameters:\n",
       "        estimate  Std. Error\n",
       "shape 4.22848161 0.360818429\n",
       "rate  0.05742147 0.005201142"
      ]
     },
     "metadata": {},
     "output_type": "display_data"
    },
    {
     "data": {
      "text/plain": [
       "Fitting of the distribution ' gamma ' by maximum likelihood \n",
       "Parameters:\n",
       "        estimate  Std. Error\n",
       "shape 4.00825257 0.341336046\n",
       "rate  0.05441911 0.004935468"
      ]
     },
     "metadata": {},
     "output_type": "display_data"
    }
   ],
   "source": [
    "fitdist(serving, \"gamma\", optim.method=\"SANN\")\n",
    "fitdist(serving, \"gamma\", optim.method=\"BFGS\")\n",
    "fitdist(serving, \"gamma\", optim.method=\"Nelder-Mead\")"
   ]
  },
  {
   "cell_type": "code",
   "execution_count": 163,
   "metadata": {},
   "outputs": [
    {
     "data": {
      "text/plain": [
       "Fitting of the distribution ' exp ' by maximum likelihood \n",
       "Parameters : \n",
       "     estimate Std. Error\n",
       "rate 5.120312  0.5120312\n",
       "Loglikelihood:  63.32596   AIC:  -124.6519   BIC:  -122.0467 "
      ]
     },
     "metadata": {},
     "output_type": "display_data"
    }
   ],
   "source": [
    "set.seed(1234)\n",
    "mysample <- rexp(100, 5)\n",
    "mystart <- list(rate=8)\n",
    "res1 <- fitdist(mysample, dexp, start=mystart, optim.method=\"Nelder-Mead\")\n",
    "summary(res1)"
   ]
  },
  {
   "cell_type": "code",
   "execution_count": 164,
   "metadata": {},
   "outputs": [],
   "source": [
    "myoptimize <- function(fn, par, ...){\n",
    "    res <- optimize(f=fn, ..., maximum=FALSE)\n",
    "    \n",
    "    standardres <- c(res, convergence=0, value=res$objective, par=res$minimum, hessian=NA)\n",
    "    return(standardres)\n",
    "}\n",
    "\n",
    "res2 <- fitdist(mysample, \"exp\", start=mystart, custom.optim=myoptimize, interval=c(0, 100))"
   ]
  },
  {
   "cell_type": "code",
   "execution_count": 165,
   "metadata": {},
   "outputs": [
    {
     "data": {
      "text/plain": [
       "Fitting of the distribution ' exp ' by maximum likelihood \n",
       "Parameters : \n",
       "     estimate Std. Error\n",
       "rate 5.120531         NA\n",
       "Loglikelihood:  63.32596   AIC:  -124.6519   BIC:  -122.0467 "
      ]
     },
     "metadata": {},
     "output_type": "display_data"
    }
   ],
   "source": [
    "summary(res2)"
   ]
  },
  {
   "cell_type": "code",
   "execution_count": 166,
   "metadata": {},
   "outputs": [
    {
     "data": {
      "text/html": [
       "<dl>\n",
       "\t<dt>$custom.optim</dt>\n",
       "\t\t<dd><pre class=language-r><code>function (fn, par, ...) \n",
       "{\n",
       "<span style=white-space:pre-wrap>    res &lt;- optimize(f = fn, ..., maximum = FALSE)</span>\n",
       "<span style=white-space:pre-wrap>    standardres &lt;- c(res, convergence = 0, value = res$objective, </span>\n",
       "<span style=white-space:pre-wrap>        par = res$minimum, hessian = NA)</span>\n",
       "<span style=white-space:pre-wrap>    return(standardres)</span>\n",
       "}</code></pre></dd>\n",
       "\t<dt>$interval</dt>\n",
       "\t\t<dd><ol class=list-inline>\n",
       "\t<li>0</li>\n",
       "\t<li>100</li>\n",
       "</ol>\n",
       "</dd>\n",
       "</dl>\n"
      ],
      "text/latex": [
       "\\begin{description}\n",
       "\\item[\\$custom.optim] \\begin{minted}{r}\n",
       "function (fn, par, ...) \n",
       "\\{\n",
       "    res <- optimize(f = fn, ..., maximum = FALSE)\n",
       "    standardres <- c(res, convergence = 0, value = res\\$objective, \n",
       "        par = res\\$minimum, hessian = NA)\n",
       "    return(standardres)\n",
       "\\}\n",
       "\\end{minted}\n",
       "\\item[\\$interval] \\begin{enumerate*}\n",
       "\\item 0\n",
       "\\item 100\n",
       "\\end{enumerate*}\n",
       "\n",
       "\\end{description}\n"
      ],
      "text/markdown": [
       "$custom.optim\n",
       ":   ```r\n",
       "function (fn, par, ...) \n",
       "{\n",
       "    res <- optimize(f = fn, ..., maximum = FALSE)\n",
       "    standardres <- c(res, convergence = 0, value = res$objective, \n",
       "        par = res$minimum, hessian = NA)\n",
       "    return(standardres)\n",
       "}\n",
       "```\n",
       "$interval\n",
       ":   1. 0\n",
       "2. 100\n",
       "\n",
       "\n",
       "\n",
       "\n",
       "\n"
      ],
      "text/plain": [
       "$custom.optim\n",
       "function (fn, par, ...) \n",
       "{\n",
       "    res <- optimize(f = fn, ..., maximum = FALSE)\n",
       "    standardres <- c(res, convergence = 0, value = res$objective, \n",
       "        par = res$minimum, hessian = NA)\n",
       "    return(standardres)\n",
       "}\n",
       "\n",
       "$interval\n",
       "[1]   0 100\n"
      ]
     },
     "metadata": {},
     "output_type": "display_data"
    }
   ],
   "source": [
    "res2$dots"
   ]
  },
  {
   "cell_type": "code",
   "execution_count": 167,
   "metadata": {},
   "outputs": [
    {
     "data": {
      "text/plain": [
       "Fitting of the distribution ' gamma ' by maximum likelihood \n",
       "Parameters : \n",
       "        estimate  Std. Error\n",
       "shape 4.00825257 0.341336046\n",
       "rate  0.05441911 0.004935468\n",
       "Loglikelihood:  -1253.625   AIC:  2511.25   BIC:  2518.325 \n",
       "Correlation matrix:\n",
       "          shape      rate\n",
       "shape 1.0000000 0.9384381\n",
       "rate  0.9384381 1.0000000\n"
      ]
     },
     "metadata": {},
     "output_type": "display_data"
    }
   ],
   "source": [
    "fit1 <- fitdist(serving, \"gamma\")\n",
    "summary(fit1)"
   ]
  },
  {
   "cell_type": "code",
   "execution_count": 168,
   "metadata": {},
   "outputs": [
    {
     "name": "stdout",
     "output_type": "stream",
     "text": [
      "\n",
      "\n",
      "Thu Aug 02 21:47:33 2018\n",
      "Domains:\n",
      " 0.000000e+00   <=  X1   <=    1.000000e+01 \n",
      " 0.000000e+00   <=  X2   <=    1.000000e+01 \n",
      "\n",
      "Data Type: Floating Point\n",
      "Operators (code number, name, population) \n",
      "\t(1) Cloning........................... \t122\n",
      "\t(2) Uniform Mutation.................. \t125\n",
      "\t(3) Boundary Mutation................. \t125\n",
      "\t(4) Non-Uniform Mutation.............. \t125\n",
      "\t(5) Polytope Crossover................ \t125\n",
      "\t(6) Simple Crossover.................. \t126\n",
      "\t(7) Whole Non-Uniform Mutation........ \t125\n",
      "\t(8) Heuristic Crossover............... \t126\n",
      "\t(9) Local-Minimum Crossover........... \t0\n",
      "\n",
      "HARD Maximum Number of Generations: 100\n",
      "Maximum Nonchanging Generations: 10\n",
      "Population size       : 1000\n",
      "Convergence Tolerance: 1.000000e-03\n",
      "\n",
      "Using the BFGS Derivative Based Optimizer on the Best Individual Each Generation.\n",
      "Checking Gradients before Stopping.\n",
      "Not Using Out of Bounds Individuals But Allowing Trespassing.\n",
      "\n",
      "Minimization Problem.\n",
      "\n",
      "\n",
      "Generation#\t    Solution Value\n",
      "\n",
      "      0 \t1.253825e+03\n",
      "      1 \t1.253625e+03\n",
      "\n",
      "Doubling 'wait.generations' limit to 20 (from 10) because at least one gradient is too large.\n",
      "G[2]: 2.577763e-03\t Solution Tolerance: 1.000000e-03\n",
      "\n",
      "\n",
      "Doubling 'wait.generations' limit to 40 (from 20) because at least one gradient is too large.\n",
      "G[2]: 2.562909e-03\t Solution Tolerance: 1.000000e-03\n",
      "\n",
      "\n",
      "Doubling 'wait.generations' limit to 80 (from 40) because at least one gradient is too large.\n",
      "G[2]: 2.562909e-03\t Solution Tolerance: 1.000000e-03\n",
      "\n",
      "\n",
      "'wait.generations' limit reached.\n",
      "No significant improvement in 80 generations.\n",
      "\n",
      "Solution Fitness Value: 1.253625e+03\n",
      "\n",
      "Parameters at the Solution (parameter, gradient):\n",
      "\n",
      " X[ 1] :\t4.008339e+00\tG[ 1] :\t3.687958e-06\n",
      " X[ 2] :\t5.442736e-02\tG[ 2] :\t-1.959996e-04\n",
      "\n",
      "Solution Found Generation 1\n",
      "Number of Generations Run 82\n",
      "\n",
      "Thu Aug 02 21:47:50 2018\n",
      "Total run time : 0 hours 0 minutes and 17 seconds\n"
     ]
    }
   ],
   "source": [
    "mygenoud <- function(fn, par, ...){\n",
    "    require(rgenoud)\n",
    "    res <- genoud(fn, starting.values=par, ...)\n",
    "    standardres <- c(res, convergence=0)\n",
    "    return(standardres)\n",
    "}\n",
    "\n",
    "fit2 <- fitdist(serving, \"gamma\", custom.optim=mygenoud, nvars=2, Domains=cbind(c(0,0), c(10,10)), boundary.enforcement=1, print.level=1, hessian=TRUE)"
   ]
  },
  {
   "cell_type": "code",
   "execution_count": 169,
   "metadata": {},
   "outputs": [
    {
     "data": {
      "text/plain": [
       "Fitting of the distribution ' gamma ' by maximum likelihood \n",
       "Parameters : \n",
       "        estimate  Std. Error\n",
       "shape 4.00833916 0.341343849\n",
       "rate  0.05442736 0.004936215\n",
       "Loglikelihood:  -1253.625   AIC:  2511.25   BIC:  2518.325 \n",
       "Correlation matrix:\n",
       "          [,1]      [,2]\n",
       "[1,] 1.0000000 0.9384395\n",
       "[2,] 0.9384395 1.0000000\n"
      ]
     },
     "metadata": {},
     "output_type": "display_data"
    }
   ],
   "source": [
    "summary(fit2)"
   ]
  },
  {
   "cell_type": "code",
   "execution_count": 170,
   "metadata": {},
   "outputs": [
    {
     "data": {
      "text/plain": [
       "Fitting of the distribution ' gamma ' by maximum likelihood \n",
       "Parameters : \n",
       "       estimate  Std. Error\n",
       "rate 0.05431772 0.001703521\n",
       "Fixed parameters:\n",
       "      value\n",
       "shape     4\n",
       "Loglikelihood:  -1253.625   AIC:  2509.251   BIC:  2512.788 "
      ]
     },
     "metadata": {},
     "output_type": "display_data"
    }
   ],
   "source": [
    "f1c <- fitdist(serving, \"gamma\", start=list(rate=0.1), fix.arg=list(shape=4))\n",
    "summary(f1c)"
   ]
  },
  {
   "cell_type": "code",
   "execution_count": 171,
   "metadata": {},
   "outputs": [
    {
     "data": {
      "text/html": [
       "<strong>$shape</strong> = 4"
      ],
      "text/latex": [
       "\\textbf{\\$shape} = 4"
      ],
      "text/markdown": [
       "**$shape** = 4"
      ],
      "text/plain": [
       "$shape\n",
       "[1] 4\n"
      ]
     },
     "metadata": {},
     "output_type": "display_data"
    }
   ],
   "source": [
    "f1c$fix.arg"
   ]
  },
  {
   "cell_type": "code",
   "execution_count": 172,
   "metadata": {},
   "outputs": [
    {
     "data": {
      "text/plain": [
       "Fitting of the distribution ' weibull ' by maximum likelihood \n",
       "Parameters : \n",
       "       estimate Std. Error\n",
       "shape  2.185885  0.1045755\n",
       "scale 83.347679  2.5268626\n",
       "Loglikelihood:  -1255.225   AIC:  2514.449   BIC:  2521.524 \n",
       "Correlation matrix:\n",
       "         shape    scale\n",
       "shape 1.000000 0.321821\n",
       "scale 0.321821 1.000000\n"
      ]
     },
     "metadata": {},
     "output_type": "display_data"
    }
   ],
   "source": [
    "fWmle <- fitdist(serving, \"weibull\")\n",
    "summary(fWmle)"
   ]
  },
  {
   "cell_type": "code",
   "execution_count": 173,
   "metadata": {},
   "outputs": [
    {
     "data": {
      "text/plain": [
       "Goodness-of-fit statistics\n",
       "                             1-mle-weibull\n",
       "Kolmogorov-Smirnov statistic     0.1396646\n",
       "Cramer-von Mises statistic       0.6840994\n",
       "Anderson-Darling statistic       3.5736460\n",
       "\n",
       "Goodness-of-fit criteria\n",
       "                               1-mle-weibull\n",
       "Akaike's Information Criterion      2514.449\n",
       "Bayesian Information Criterion      2521.524"
      ]
     },
     "metadata": {},
     "output_type": "display_data"
    }
   ],
   "source": [
    "gofstat(fWmle)"
   ]
  },
  {
   "cell_type": "code",
   "execution_count": 174,
   "metadata": {},
   "outputs": [
    {
     "data": {
      "text/plain": [
       "Fitting of the distribution ' weibull ' by matching quantiles \n",
       "Parameters : \n",
       "       estimate\n",
       "shape  2.268699\n",
       "scale 86.590853\n",
       "Loglikelihood:  -1256.129   AIC:  2516.258   BIC:  2523.332 "
      ]
     },
     "metadata": {},
     "output_type": "display_data"
    }
   ],
   "source": [
    "fWqme <- fitdist(serving, \"weibull\", method=\"qme\", probs=c(0.25, 0.75))\n",
    "summary(fWqme)"
   ]
  },
  {
   "cell_type": "code",
   "execution_count": 175,
   "metadata": {},
   "outputs": [
    {
     "name": "stdout",
     "output_type": "stream",
     "text": [
      "25% 75% \n",
      " 50 100 \n",
      "[1] 50.0001\n",
      "[1] 99.99983\n"
     ]
    }
   ],
   "source": [
    "print(quantile(serving, probs=c(0.25, 0.75)))\n",
    "print(qweibull(0.25, shape=2.26869876243628, scale=86.5908533238999))\n",
    "print(qweibull(0.75, shape=2.26869876243628, scale=86.5908533238999))"
   ]
  },
  {
   "cell_type": "code",
   "execution_count": 176,
   "metadata": {},
   "outputs": [
    {
     "data": {
      "text/plain": [
       "Fitting of the distribution ' pareto ' by matching moments \n",
       "Parameters : \n",
       "      estimate\n",
       "shape 4.514973\n",
       "scale 1.444969\n",
       "Loglikelihood:  -78.30379   AIC:  160.6076   BIC:  170.4231 "
      ]
     },
     "metadata": {},
     "output_type": "display_data"
    }
   ],
   "source": [
    "require(actuar)\n",
    "x4 <- rpareto(1000, 6, 2)\n",
    "memp2 <- function(x, order) mean(x^order)\n",
    "fP <- fitdist(x4, \"pareto\", method=\"mme\", order=c(1, 2), memp=\"memp2\", start=list(shape=10, scale=10), lower=1, upper=Inf)\n",
    "summary(fP)"
   ]
  },
  {
   "cell_type": "code",
   "execution_count": 177,
   "metadata": {},
   "outputs": [
    {
     "data": {
      "text/html": [
       "<dl class=dl-horizontal>\n",
       "\t<dt>shape</dt>\n",
       "\t\t<dd>4.51497343980489</dd>\n",
       "\t<dt>scale</dt>\n",
       "\t\t<dd>1.44496863701015</dd>\n",
       "</dl>\n"
      ],
      "text/latex": [
       "\\begin{description*}\n",
       "\\item[shape] 4.51497343980489\n",
       "\\item[scale] 1.44496863701015\n",
       "\\end{description*}\n"
      ],
      "text/markdown": [
       "shape\n",
       ":   4.51497343980489scale\n",
       ":   1.44496863701015\n",
       "\n"
      ],
      "text/plain": [
       "   shape    scale \n",
       "4.514973 1.444969 "
      ]
     },
     "metadata": {},
     "output_type": "display_data"
    }
   ],
   "source": [
    "fP$estimate"
   ]
  },
  {
   "cell_type": "code",
   "execution_count": 178,
   "metadata": {},
   "outputs": [
    {
     "data": {
      "text/html": [
       "0.17636871549856"
      ],
      "text/latex": [
       "0.17636871549856"
      ],
      "text/markdown": [
       "0.17636871549856"
      ],
      "text/plain": [
       "[1] 0.1763687"
      ]
     },
     "metadata": {},
     "output_type": "display_data"
    },
    {
     "data": {
      "text/html": [
       "0.17636871549856"
      ],
      "text/latex": [
       "0.17636871549856"
      ],
      "text/markdown": [
       "0.17636871549856"
      ],
      "text/plain": [
       "[1] 0.1763687"
      ]
     },
     "metadata": {},
     "output_type": "display_data"
    }
   ],
   "source": [
    "dpareto(1,shape=6.92092883131389, scale=2.33803360268846)\n",
    "6.92092883131389*2.33803360268846^6.92092883131389/(1+2.33803360268846)^(6.92092883131389+1)"
   ]
  },
  {
   "cell_type": "code",
   "execution_count": 179,
   "metadata": {},
   "outputs": [
    {
     "data": {
      "text/html": [
       "0.411088544050722"
      ],
      "text/latex": [
       "0.411088544050722"
      ],
      "text/markdown": [
       "0.411088544050722"
      ],
      "text/plain": [
       "[1] 0.4110885"
      ]
     },
     "metadata": {},
     "output_type": "display_data"
    },
    {
     "data": {
      "text/html": [
       "0.472379601941773"
      ],
      "text/latex": [
       "0.472379601941773"
      ],
      "text/markdown": [
       "0.472379601941773"
      ],
      "text/plain": [
       "[1] 0.4723796"
      ]
     },
     "metadata": {},
     "output_type": "display_data"
    },
    {
     "data": {
      "text/html": [
       "0.394876153606737"
      ],
      "text/latex": [
       "0.394876153606737"
      ],
      "text/markdown": [
       "0.394876153606737"
      ],
      "text/plain": [
       "[1] 0.3948762"
      ]
     },
     "metadata": {},
     "output_type": "display_data"
    },
    {
     "data": {
      "text/html": [
       "0.375227420546302"
      ],
      "text/latex": [
       "0.375227420546302"
      ],
      "text/markdown": [
       "0.375227420546302"
      ],
      "text/plain": [
       "[1] 0.3752274"
      ]
     },
     "metadata": {},
     "output_type": "display_data"
    }
   ],
   "source": [
    "mean(x4)\n",
    "mean(x4^2)\n",
    "2.33803360268846/(6.92092883131389-1)\n",
    "2.33803360268846^2*2/((6.92092883131389-1)*(6.92092883131389-2))"
   ]
  },
  {
   "cell_type": "code",
   "execution_count": 180,
   "metadata": {},
   "outputs": [
    {
     "data": {
      "text/plain": [
       "Fitting of the distribution ' weibull ' by maximum goodness-of-fit \n",
       "Parameters:\n",
       "       estimate\n",
       "shape  2.093204\n",
       "scale 82.660014"
      ]
     },
     "metadata": {},
     "output_type": "display_data"
    },
    {
     "data": {
      "text/plain": [
       "Fitting of the distribution ' weibull ' by maximum goodness-of-fit \n",
       "Parameters:\n",
       "       estimate\n",
       "shape  2.065634\n",
       "scale 81.450487"
      ]
     },
     "metadata": {},
     "output_type": "display_data"
    },
    {
     "data": {
      "text/plain": [
       "Fitting of the distribution ' weibull ' by maximum goodness-of-fit \n",
       "Parameters:\n",
       "       estimate\n",
       "shape  2.125473\n",
       "scale 82.890260"
      ]
     },
     "metadata": {},
     "output_type": "display_data"
    },
    {
     "data": {
      "text/plain": [
       "Fitting of the distribution ' weibull ' by maximum goodness-of-fit \n",
       "Parameters:\n",
       "       estimate\n",
       "shape  2.072087\n",
       "scale 82.761868"
      ]
     },
     "metadata": {},
     "output_type": "display_data"
    },
    {
     "data": {
      "text/plain": [
       "Fitting of the distribution ' weibull ' by maximum goodness-of-fit \n",
       "Parameters:\n",
       "       estimate\n",
       "shape  2.197498\n",
       "scale 82.016005"
      ]
     },
     "metadata": {},
     "output_type": "display_data"
    },
    {
     "data": {
      "text/plain": [
       "Fitting of the distribution ' weibull ' by maximum goodness-of-fit \n",
       "Parameters:\n",
       "      estimate\n",
       "shape  1.90328\n",
       "scale 81.33464"
      ]
     },
     "metadata": {},
     "output_type": "display_data"
    },
    {
     "data": {
      "text/plain": [
       "Fitting of the distribution ' weibull ' by maximum goodness-of-fit \n",
       "Parameters:\n",
       "       estimate\n",
       "shape  2.483836\n",
       "scale 78.252113"
      ]
     },
     "metadata": {},
     "output_type": "display_data"
    },
    {
     "data": {
      "text/plain": [
       "Fitting of the distribution ' weibull ' by maximum goodness-of-fit \n",
       "Parameters:\n",
       "       estimate\n",
       "shape  2.081168\n",
       "scale 85.281194"
      ]
     },
     "metadata": {},
     "output_type": "display_data"
    }
   ],
   "source": [
    "(f1 <- fitdist(serving, \"weibull\", method=\"mge\", gof=\"CvM\"))\n",
    "(f2 <- fitdist(serving, \"weibull\", method=\"mge\", gof=\"KS\"))\n",
    "(f3 <- fitdist(serving, \"weibull\", method=\"mge\", gof=\"AD\"))\n",
    "(f4 <- fitdist(serving, \"weibull\", method=\"mge\", gof=\"ADR\"))\n",
    "(f5 <- fitdist(serving, \"weibull\", method=\"mge\", gof=\"ADL\"))\n",
    "(f6 <- fitdist(serving, \"weibull\", method=\"mge\", gof=\"AD2R\"))\n",
    "(f7 <- fitdist(serving, \"weibull\", method=\"mge\", gof=\"AD2L\"))\n",
    "(f8 <- fitdist(serving, \"weibull\", method=\"mge\", gof=\"AD2\"))"
   ]
  },
  {
   "cell_type": "code",
   "execution_count": 181,
   "metadata": {},
   "outputs": [
    {
     "data": {
      "image/png": "[encoded data removed]",
      "text/plain": [
       "Plot with title \"Empirical and theoretical CDFs\""
      ]
     },
     "metadata": {},
     "output_type": "display_data",
     "source": "R display func"
    },
    {
     "data": {
      "image/png": "[encoded data removed]",
      "text/plain": [
       "Plot with title \"Empirical and theoretical CDFs\""
      ]
     },
     "metadata": {},
     "output_type": "display_data",
     "source": "R display func"
    }
   ],
   "source": [
    "cdfcomp(list(f1,f2,f3,f4,f5,f6,f7,f8))\n",
    "cdfcomp(list(f1,f2,f3,f4,f5,f6,f7,f8), xlogscale=TRUE, xlim=c(8,250), verticals=TRUE)"
   ]
  },
  {
   "cell_type": "code",
   "execution_count": 182,
   "metadata": {},
   "outputs": [
    {
     "data": {
      "text/plain": [
       "Fitting of the distribution ' unif ' by maximum likelihood \n",
       "Parameters : \n",
       "    estimate Std. Error\n",
       "min 5.047479         NA\n",
       "max 9.960752         NA\n",
       "Loglikelihood:  NA   AIC:  NA   BIC:  NA \n",
       "Correlation matrix:\n",
       "[1] NA\n"
      ]
     },
     "metadata": {},
     "output_type": "display_data"
    },
    {
     "data": {
      "text/plain": [
       "Goodness-of-fit statistics\n",
       "                             1-mle-unif\n",
       "Kolmogorov-Smirnov statistic  0.1340723\n",
       "Cramer-von Mises statistic    0.1566892\n",
       "Anderson-Darling statistic          Inf\n",
       "\n",
       "Goodness-of-fit criteria\n",
       "                               1-mle-unif\n",
       "Akaike's Information Criterion         NA\n",
       "Bayesian Information Criterion         NA"
      ]
     },
     "metadata": {},
     "output_type": "display_data"
    }
   ],
   "source": [
    "set.seed(1234)\n",
    "u <- runif(50, min=5, max=10)\n",
    "fumle <- fitdist(u, \"unif\", method=\"mle\")\n",
    "summary(fumle)\n",
    "gofstat(fumle)"
   ]
  },
  {
   "cell_type": "code",
   "execution_count": 183,
   "metadata": {},
   "outputs": [
    {
     "data": {
      "text/plain": [
       "Fitting of the distribution ' unif ' by maximum goodness-of-fit \n",
       "Parameters : \n",
       "    estimate\n",
       "min        0\n",
       "max        1\n",
       "Loglikelihood:  -Inf   AIC:  Inf   BIC:  Inf "
      ]
     },
     "metadata": {},
     "output_type": "display_data"
    },
    {
     "data": {
      "text/plain": [
       "Goodness-of-fit statistics\n",
       "                             1-mge-unif\n",
       "Kolmogorov-Smirnov statistic    1.00000\n",
       "Cramer-von Mises statistic     16.66667\n",
       "Anderson-Darling statistic          Inf\n",
       "\n",
       "Goodness-of-fit criteria\n",
       "                               1-mge-unif\n",
       "Akaike's Information Criterion        Inf\n",
       "Bayesian Information Criterion        Inf"
      ]
     },
     "metadata": {},
     "output_type": "display_data"
    }
   ],
   "source": [
    "fuCvM <- fitdist(u, \"unif\", method=\"mge\", gof=\"CvM\")\n",
    "summary(fuCvM)\n",
    "gofstat(fuCvM)"
   ]
  },
  {
   "cell_type": "code",
   "execution_count": 184,
   "metadata": {},
   "outputs": [
    {
     "data": {
      "text/plain": [
       "Fitting of the distribution ' unif ' by maximum goodness-of-fit \n",
       "Parameters : \n",
       "    estimate\n",
       "min        0\n",
       "max        1\n",
       "Loglikelihood:  -Inf   AIC:  Inf   BIC:  Inf "
      ]
     },
     "metadata": {},
     "output_type": "display_data"
    },
    {
     "data": {
      "text/plain": [
       "Goodness-of-fit statistics\n",
       "                             1-mge-unif\n",
       "Kolmogorov-Smirnov statistic    1.00000\n",
       "Cramer-von Mises statistic     16.66667\n",
       "Anderson-Darling statistic          Inf\n",
       "\n",
       "Goodness-of-fit criteria\n",
       "                               1-mge-unif\n",
       "Akaike's Information Criterion        Inf\n",
       "Bayesian Information Criterion        Inf"
      ]
     },
     "metadata": {},
     "output_type": "display_data"
    }
   ],
   "source": [
    "fuKS <- fitdist(u, \"unif\", method=\"mge\", gof=\"KS\")\n",
    "summary(fuKS)\n",
    "gofstat(fuKS)"
   ]
  },
  {
   "cell_type": "code",
   "execution_count": 185,
   "metadata": {},
   "outputs": [
    {
     "name": "stdout",
     "output_type": "stream",
     "text": [
      "<simpleError in optim(par = vstart, fn = fnobj, fix.arg = fix.arg, obs = data,     gr = gradient, ddistnam = ddistname, hessian = TRUE, method = meth,     lower = lower, upper = upper, ...): non-finite finite-difference value [2]>\n",
      "0 Error in fitdist(x2 * 10^i, \"cauchy\", method = \"mle\") : \n",
      "  the function mle failed to estimate the parameters, \n",
      "                with the error code 100\n",
      "\n",
      " \n",
      "<simpleError in optim(par = vstart, fn = fnobj, fix.arg = fix.arg, obs = data,     gr = gradient, ddistnam = ddistname, hessian = TRUE, method = meth,     lower = lower, upper = upper, ...): non-finite finite-difference value [2]>\n",
      "1 Error in fitdist(x2 * 10^i, \"cauchy\", method = \"mle\") : \n",
      "  the function mle failed to estimate the parameters, \n",
      "                with the error code 100\n",
      "\n",
      " \n",
      "2 0.001870693 0.01100646 \n",
      "3 0.01871473 0.1100713 \n",
      "4 0.1870693 1.100646 \n",
      "5 1.876032 11.0131 \n",
      "6 18.76032 110.131 \n"
     ]
    }
   ],
   "source": [
    "set.seed(1234)\n",
    "x2 <- rnorm(100, 1e-4, 2e-4)\n",
    "for(i in 0:6)\n",
    "    cat(i, try(fitdist(x2*10^i, \"cauchy\", \"method\"=\"mle\")$estimate, silent=TRUE), \"\\n\")"
   ]
  },
  {
   "cell_type": "code",
   "execution_count": 186,
   "metadata": {},
   "outputs": [
    {
     "data": {
      "text/plain": [
       "Fitting of the distribution ' norm ' by maximum likelihood \n",
       "Parameters : \n",
       "      estimate Std. Error\n",
       "mean 3.2648617  0.2311200\n",
       "sd   0.9244801  0.1634257\n",
       "Loglikelihood:  -21.44664   AIC:  46.89327   BIC:  48.43845 \n",
       "Correlation matrix:\n",
       "     mean sd\n",
       "mean    1  0\n",
       "sd      0  1\n"
      ]
     },
     "metadata": {},
     "output_type": "display_data"
    },
    {
     "data": {
      "text/plain": [
       "Estimated quantiles for each specified probability (non-censored data)\n",
       "           p=0.05\n",
       "estimate 1.744227"
      ]
     },
     "metadata": {},
     "output_type": "display_data"
    },
    {
     "data": {
      "text/plain": [
       "Estimated quantiles for each specified probability (non-censored data)\n",
       "           p=0.05    p=0.1  p=0.2\n",
       "estimate 1.744227 2.080093 2.4868"
      ]
     },
     "metadata": {},
     "output_type": "display_data"
    }
   ],
   "source": [
    "data(endosulfan)\n",
    "ATV <- subset(endosulfan, group == \"NonArthroInvert\")$ATV\n",
    "log10ATV <- log10(ATV)\n",
    "fln <- fitdist(log10ATV, \"norm\")\n",
    "summary(fln)\n",
    "quantile(fln, probs=0.05)\n",
    "quantile(fln, probs=c(0.05,0.1,0.2))"
   ]
  },
  {
   "cell_type": "code",
   "execution_count": 194,
   "metadata": {},
   "outputs": [
    {
     "data": {
      "image/png": "[encoded data removed]",
      "text/plain": [
       "Plot with title \"Empirical and theoretical CDFs\""
      ]
     },
     "metadata": {},
     "output_type": "display_data",
     "source": "R display func"
    }
   ],
   "source": [
    "set.seed(1234)\n",
    "require(mc2d)\n",
    "t <- rtriang(100, min=5, mode=6, max=10)\n",
    "fCvM <- fitdist(t, \"triang\", method=\"mge\", start=list(min=4, mode=6, max=9), gof=\"CvM\")\n",
    "fKS <- fitdist(t, \"triang\", method=\"mge\", start=list(min=4, mode=6, max=9), gof=\"KS\")\n",
    "cdfcomp(list(fCvM,fKS))"
   ]
  },
  {
   "cell_type": "code",
   "execution_count": 202,
   "metadata": {},
   "outputs": [
    {
     "data": {
      "image/png": "[encoded data removed]",
      "text/plain": [
       "Plot with title \"Empirical CDFs\""
      ]
     },
     "metadata": {},
     "output_type": "display_data",
     "source": "R display func"
    }
   ],
   "source": [
    "require(gamlss.dist)\n",
    "set.seed(1234)\n",
    "x <- rZIP(n=30, mu=5, sigma=0.2)\n",
    "plotdist(x, discrete=TRUE)"
   ]
  },
  {
   "cell_type": "code",
   "execution_count": 203,
   "metadata": {},
   "outputs": [
    {
     "data": {
      "text/plain": [
       "Fitting of the distribution ' ZIP ' by maximum likelihood \n",
       "Parameters : \n",
       "       estimate Std. Error\n",
       "mu    4.3166139  0.4341218\n",
       "sigma 0.1891806  0.0741692\n",
       "Loglikelihood:  -67.13886   AIC:  138.2777   BIC:  141.0801 \n",
       "Correlation matrix:\n",
       "              mu      sigma\n",
       "mu    1.00000000 0.06418863\n",
       "sigma 0.06418863 1.00000000\n"
      ]
     },
     "metadata": {},
     "output_type": "display_data"
    }
   ],
   "source": [
    "fitzip <- fitdist(x, \"ZIP\", start=list(mu=4, sigma=0.15), discrete=TRUE, optim.method=\"L-BFGS-B\", lower=c(0,0), upper=c(Inf, 1))\n",
    "summary(fitzip)"
   ]
  },
  {
   "cell_type": "code",
   "execution_count": 205,
   "metadata": {},
   "outputs": [
    {
     "data": {
      "text/plain": [
       "Chi-squared statistic:  3.579721 35.91516 \n",
       "Degree of freedom of the Chi-squared distribution:  3 4 \n",
       "Chi-squared p-value:  0.3105689 3.012342e-07 \n",
       "   the p-value may be wrong with some theoretical counts < 5  \n",
       "Chi-squared table:\n",
       "     obscounts theo 1-mle-ZIP theo 2-mle-pois\n",
       "<= 0         6       6.000030       0.9059215\n",
       "<= 2         7       4.425490       8.7194944\n",
       "<= 4         5       9.047502      12.1379326\n",
       "<= 5         5       4.054138       3.9650580\n",
       "<= 7         5       4.715296       3.4694258\n",
       "> 7          2       1.757544       0.8021677\n",
       "\n",
       "Goodness-of-fit criteria\n",
       "                               1-mle-ZIP 2-mle-pois\n",
       "Akaike's Information Criterion  138.2777   153.7397\n",
       "Bayesian Information Criterion  141.0801   155.1409"
      ]
     },
     "metadata": {},
     "output_type": "display_data"
    },
    {
     "data": {
      "image/png": "[encoded data removed]",
      "text/plain": [
       "Plot with title \"Empirical and theoretical CDFs\""
      ]
     },
     "metadata": {},
     "output_type": "display_data",
     "source": "R display func"
    }
   ],
   "source": [
    "fitp <- fitdist(x, \"pois\")\n",
    "cdfcomp(list(fitzip, fitp))\n",
    "gofstat(list(fitzip, fitp))"
   ]
  },
  {
   "cell_type": "code",
   "execution_count": 236,
   "metadata": {},
   "outputs": [
    {
     "data": {
      "text/plain": [
       "Fitting of the distribution ' llogis ' by maximum likelihood \n",
       "Parameters : \n",
       "      estimate Std. Error\n",
       "shape 1.221755  0.1413398\n",
       "scale 2.701676  0.5117272\n",
       "Loglikelihood:  -157.3022   AIC:  318.6045   BIC:  322.5824 \n",
       "Correlation matrix:\n",
       "            shape       scale\n",
       "shape  1.00000000 -0.02096857\n",
       "scale -0.02096857  1.00000000\n"
      ]
     },
     "metadata": {},
     "output_type": "display_data"
    }
   ],
   "source": [
    "x <- c(2.3,0.1,2.7,2.2,0.4,2.6,0.2,1,7.3,3.2,0.8,1.2,33.7,14,21.4,7.7,1,1.9,0.7,12.6,3.2,7.3,4.9,4000,2.5,6.7,3,63,6,1.6,10.1,1.2,1.5,1.2,30,3.2,3.5,1.2,0.2,1.9,0.7,17,\n",
    "2.8,4.8,1.3,3.7,0.2,1.8,2.6,5.9,2.6,6.3,1.4,0.8)\n",
    "ft_llogis <- fitdist(x, \"llogis\")\n",
    "summary(ft_llogis)"
   ]
  },
  {
   "cell_type": "code",
   "execution_count": 230,
   "metadata": {},
   "outputs": [
    {
     "data": {
      "image/png": "[encoded data removed]",
      "text/plain": [
       "plot without title"
      ]
     },
     "metadata": {},
     "output_type": "display_data",
     "source": "R display func"
    }
   ],
   "source": [
    "plot(seq(0,1, by=0.01),dllogis(seq(0,1, by=0.01), shape=1.221755, scale=2.701676), \"l\")"
   ]
  },
  {
   "cell_type": "code",
   "execution_count": 235,
   "metadata": {},
   "outputs": [
    {
     "data": {
      "text/plain": [
       "Fitting of the distribution ' invweibull ' by maximum likelihood \n",
       "Parameters : \n",
       "      estimate Std. Error\n",
       "shape 3.549184 0.63538332\n",
       "scale 0.449719 0.02980818\n",
       "Loglikelihood:  6.142828   AIC:  -8.285657   BIC:  -6.294192 \n",
       "Correlation matrix:\n",
       "           shape      scale\n",
       "shape  1.0000000 -0.3108299\n",
       "scale -0.3108299  1.0000000\n"
      ]
     },
     "metadata": {},
     "output_type": "display_data"
    }
   ],
   "source": [
    "x <- c(0.3837053, 0.8576858, 0.3552237, 0.6226119, 0.4783756, 0.3139799, 0.4051403,\n",
    "0.4537631, 0.4711057, 0.5647414, 0.6479617, 0.7134207, 0.5259464, 0.5949068,\n",
    "0.3509200, 0.3783077, 0.5226465, 1.0241043, 0.4384580, 1.3341520)\n",
    "ft_iw <- fitdist(x, \"invweibull\")\n",
    "summary(ft_iw)"
   ]
  },
  {
   "cell_type": "code",
   "execution_count": 234,
   "metadata": {},
   "outputs": [
    {
     "data": {
      "image/png": "[encoded data removed]",
      "text/plain": [
       "plot without title"
      ]
     },
     "metadata": {},
     "output_type": "display_data",
     "source": "R display func"
    }
   ],
   "source": [
    "plot(seq(0,1, by=0.01),dinvweibull(seq(0,1, by=0.01), shape=1.221755, scale=2.701676), \"l\")"
   ]
  }
 ],
 "metadata": {
  "kernelspec": {
   "display_name": "R",
   "language": "R",
   "name": "ir"
  },
  "language_info": {
   "codemirror_mode": "r",
   "file_extension": ".r",
   "mimetype": "text/x-r-source",
   "name": "R",
   "pygments_lexer": "r",
   "version": "3.4.3"
  }
 },
 "nbformat": 4,
 "nbformat_minor": 2
}
