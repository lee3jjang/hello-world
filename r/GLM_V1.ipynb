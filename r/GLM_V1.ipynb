{
 "cells": [
  {
   "cell_type": "code",
   "execution_count": 2,
   "metadata": {},
   "outputs": [],
   "source": [
    "cuse <- read.table(\"http://data.princeton.edu/wws509/datasets/cuse.dat\", header=TRUE)"
   ]
  },
  {
   "cell_type": "code",
   "execution_count": 7,
   "metadata": {},
   "outputs": [
    {
     "data": {
      "text/html": [
       "<table>\n",
       "<thead><tr><th scope=col>age</th><th scope=col>education</th><th scope=col>wantsMore</th><th scope=col>notUsing</th><th scope=col>using</th></tr></thead>\n",
       "<tbody>\n",
       "\t<tr><td><span style=white-space:pre-wrap>&lt;25  </span></td><td>low                                             </td><td>yes                                             </td><td> 53                                             </td><td> 6                                              </td></tr>\n",
       "\t<tr><td><span style=white-space:pre-wrap>&lt;25  </span></td><td>low                                             </td><td>no                                              </td><td> 10                                             </td><td> 4                                              </td></tr>\n",
       "\t<tr><td><span style=white-space:pre-wrap>&lt;25  </span></td><td>high                                            </td><td>yes                                             </td><td>212                                             </td><td>52                                              </td></tr>\n",
       "\t<tr><td><span style=white-space:pre-wrap>&lt;25  </span></td><td>high                                            </td><td>no                                              </td><td> 50                                             </td><td>10                                              </td></tr>\n",
       "\t<tr><td>25-29</td><td>low  </td><td>yes  </td><td> 60  </td><td>14   </td></tr>\n",
       "\t<tr><td>25-29</td><td>low  </td><td>no   </td><td> 19  </td><td>10   </td></tr>\n",
       "\t<tr><td>25-29</td><td>high </td><td>yes  </td><td>155  </td><td>54   </td></tr>\n",
       "\t<tr><td>25-29</td><td>high </td><td>no   </td><td> 65  </td><td>27   </td></tr>\n",
       "\t<tr><td>30-39</td><td>low  </td><td>yes  </td><td>112  </td><td>33   </td></tr>\n",
       "\t<tr><td>30-39</td><td>low  </td><td>no   </td><td> 77  </td><td>80   </td></tr>\n",
       "\t<tr><td>30-39</td><td>high </td><td>yes  </td><td>118  </td><td>46   </td></tr>\n",
       "\t<tr><td>30-39</td><td>high </td><td>no   </td><td> 68  </td><td>78   </td></tr>\n",
       "\t<tr><td>40-49</td><td>low  </td><td>yes  </td><td> 35  </td><td> 6   </td></tr>\n",
       "\t<tr><td>40-49</td><td>low  </td><td>no   </td><td> 46  </td><td>48   </td></tr>\n",
       "\t<tr><td>40-49</td><td>high </td><td>yes  </td><td>  8  </td><td> 8   </td></tr>\n",
       "\t<tr><td>40-49</td><td>high </td><td>no   </td><td> 12  </td><td>31   </td></tr>\n",
       "</tbody>\n",
       "</table>\n"
      ],
      "text/latex": [
       "\\begin{tabular}{r|lllll}\n",
       " age & education & wantsMore & notUsing & using\\\\\n",
       "\\hline\n",
       "\t <25   & low   & yes   &  53   &  6   \\\\\n",
       "\t <25   & low   & no    &  10   &  4   \\\\\n",
       "\t <25   & high  & yes   & 212   & 52   \\\\\n",
       "\t <25   & high  & no    &  50   & 10   \\\\\n",
       "\t 25-29 & low   & yes   &  60   & 14   \\\\\n",
       "\t 25-29 & low   & no    &  19   & 10   \\\\\n",
       "\t 25-29 & high  & yes   & 155   & 54   \\\\\n",
       "\t 25-29 & high  & no    &  65   & 27   \\\\\n",
       "\t 30-39 & low   & yes   & 112   & 33   \\\\\n",
       "\t 30-39 & low   & no    &  77   & 80   \\\\\n",
       "\t 30-39 & high  & yes   & 118   & 46   \\\\\n",
       "\t 30-39 & high  & no    &  68   & 78   \\\\\n",
       "\t 40-49 & low   & yes   &  35   &  6   \\\\\n",
       "\t 40-49 & low   & no    &  46   & 48   \\\\\n",
       "\t 40-49 & high  & yes   &   8   &  8   \\\\\n",
       "\t 40-49 & high  & no    &  12   & 31   \\\\\n",
       "\\end{tabular}\n"
      ],
      "text/markdown": [
       "\n",
       "age | education | wantsMore | notUsing | using | \n",
       "|---|---|---|---|---|---|---|---|---|---|---|---|---|---|---|---|\n",
       "| <25   | low   | yes   |  53   |  6    | \n",
       "| <25   | low   | no    |  10   |  4    | \n",
       "| <25   | high  | yes   | 212   | 52    | \n",
       "| <25   | high  | no    |  50   | 10    | \n",
       "| 25-29 | low   | yes   |  60   | 14    | \n",
       "| 25-29 | low   | no    |  19   | 10    | \n",
       "| 25-29 | high  | yes   | 155   | 54    | \n",
       "| 25-29 | high  | no    |  65   | 27    | \n",
       "| 30-39 | low   | yes   | 112   | 33    | \n",
       "| 30-39 | low   | no    |  77   | 80    | \n",
       "| 30-39 | high  | yes   | 118   | 46    | \n",
       "| 30-39 | high  | no    |  68   | 78    | \n",
       "| 40-49 | low   | yes   |  35   |  6    | \n",
       "| 40-49 | low   | no    |  46   | 48    | \n",
       "| 40-49 | high  | yes   |   8   |  8    | \n",
       "| 40-49 | high  | no    |  12   | 31    | \n",
       "\n",
       "\n"
      ],
      "text/plain": [
       "   age   education wantsMore notUsing using\n",
       "1  <25   low       yes        53       6   \n",
       "2  <25   low       no         10       4   \n",
       "3  <25   high      yes       212      52   \n",
       "4  <25   high      no         50      10   \n",
       "5  25-29 low       yes        60      14   \n",
       "6  25-29 low       no         19      10   \n",
       "7  25-29 high      yes       155      54   \n",
       "8  25-29 high      no         65      27   \n",
       "9  30-39 low       yes       112      33   \n",
       "10 30-39 low       no         77      80   \n",
       "11 30-39 high      yes       118      46   \n",
       "12 30-39 high      no         68      78   \n",
       "13 40-49 low       yes        35       6   \n",
       "14 40-49 low       no         46      48   \n",
       "15 40-49 high      yes         8       8   \n",
       "16 40-49 high      no         12      31   "
      ]
     },
     "metadata": {},
     "output_type": "display_data"
    }
   ],
   "source": [
    "cuse"
   ]
  },
  {
   "cell_type": "code",
   "execution_count": 21,
   "metadata": {},
   "outputs": [
    {
     "data": {
      "text/plain": [
       "\n",
       "Call:  glm(formula = cbind(using, notUsing) ~ age + education + wantsMore, \n",
       "    family = binomial, data = cuse)\n",
       "\n",
       "Coefficients:\n",
       " (Intercept)      age25-29      age30-39      age40-49  educationlow  \n",
       "     -0.8082        0.3894        0.9086        1.1892       -0.3250  \n",
       "wantsMoreyes  \n",
       "     -0.8330  \n",
       "\n",
       "Degrees of Freedom: 15 Total (i.e. Null);  10 Residual\n",
       "Null Deviance:\t    165.8 \n",
       "Residual Deviance: 29.92 \tAIC: 113.4"
      ]
     },
     "metadata": {},
     "output_type": "display_data"
    }
   ],
   "source": [
    "lrfit <- glm(formula=cbind(using, notUsing) ~ age+education+wantsMore, family=binomial, data=cuse)\n",
    "lrfit"
   ]
  },
  {
   "cell_type": "code",
   "execution_count": 17,
   "metadata": {},
   "outputs": [],
   "source": [
    "noMore <- cuse$wantsMore == \"no\"\n",
    "hiEduc <- cuse$education == \"high\""
   ]
  },
  {
   "cell_type": "code",
   "execution_count": 20,
   "metadata": {},
   "outputs": [
    {
     "data": {
      "text/plain": [
       "\n",
       "Call:  glm(formula = cbind(using, notUsing) ~ age + hiEduc + noMore, \n",
       "    family = binomial, data = cuse)\n",
       "\n",
       "Coefficients:\n",
       "(Intercept)     age25-29     age30-39     age40-49   hiEducTRUE   noMoreTRUE  \n",
       "    -1.9662       0.3894       0.9086       1.1892       0.3250       0.8330  \n",
       "\n",
       "Degrees of Freedom: 15 Total (i.e. Null);  10 Residual\n",
       "Null Deviance:\t    165.8 \n",
       "Residual Deviance: 29.92 \tAIC: 113.4"
      ]
     },
     "metadata": {},
     "output_type": "display_data"
    }
   ],
   "source": [
    "glm(cbind(using, notUsing) ~ age + hiEduc + noMore, family=binomial, data=cuse)"
   ]
  },
  {
   "cell_type": "code",
   "execution_count": 25,
   "metadata": {},
   "outputs": [
    {
     "data": {
      "text/html": [
       "0.000882833876659661"
      ],
      "text/latex": [
       "0.000882833876659661"
      ],
      "text/markdown": [
       "0.000882833876659661"
      ],
      "text/plain": [
       "[1] 0.0008828339"
      ]
     },
     "metadata": {},
     "output_type": "display_data"
    }
   ],
   "source": [
    "1-pchisq(29.92,10)"
   ]
  },
  {
   "cell_type": "code",
   "execution_count": 26,
   "metadata": {},
   "outputs": [
    {
     "data": {
      "text/plain": [
       "\n",
       "Call:  glm(formula = cbind(using, notUsing) ~ age * noMore + hiEduc, \n",
       "    family = binomial, data = cuse)\n",
       "\n",
       "Coefficients:\n",
       "        (Intercept)             age25-29             age30-39  \n",
       "           -1.80317              0.39460              0.54666  \n",
       "           age40-49           noMoreTRUE           hiEducTRUE  \n",
       "            0.57952              0.06622              0.34065  \n",
       "age25-29:noMoreTRUE  age30-39:noMoreTRUE  age40-49:noMoreTRUE  \n",
       "            0.25918              1.11266              1.36167  \n",
       "\n",
       "Degrees of Freedom: 15 Total (i.e. Null);  7 Residual\n",
       "Null Deviance:\t    165.8 \n",
       "Residual Deviance: 12.63 \tAIC: 102.1"
      ]
     },
     "metadata": {},
     "output_type": "display_data"
    }
   ],
   "source": [
    "lrfit <- glm(formula=cbind(using, notUsing) ~ age*noMore+hiEduc, family=binomial, data=cuse)\n",
    "lrfit"
   ]
  },
  {
   "cell_type": "code",
   "execution_count": 27,
   "metadata": {},
   "outputs": [
    {
     "data": {
      "text/plain": [
       "\n",
       "Call:\n",
       "glm(formula = cbind(using, notUsing) ~ age * noMore + hiEduc, \n",
       "    family = binomial, data = cuse)\n",
       "\n",
       "Deviance Residuals: \n",
       "     Min        1Q    Median        3Q       Max  \n",
       "-1.30027  -0.66163  -0.03286   0.81945   1.73851  \n",
       "\n",
       "Coefficients:\n",
       "                    Estimate Std. Error z value Pr(>|z|)    \n",
       "(Intercept)         -1.80317    0.18018 -10.008  < 2e-16 ***\n",
       "age25-29             0.39460    0.20145   1.959  0.05013 .  \n",
       "age30-39             0.54666    0.19842   2.755  0.00587 ** \n",
       "age40-49             0.57952    0.34742   1.668  0.09530 .  \n",
       "noMoreTRUE           0.06622    0.33071   0.200  0.84130    \n",
       "hiEducTRUE           0.34065    0.12577   2.709  0.00676 ** \n",
       "age25-29:noMoreTRUE  0.25918    0.40975   0.633  0.52704    \n",
       "age30-39:noMoreTRUE  1.11266    0.37404   2.975  0.00293 ** \n",
       "age40-49:noMoreTRUE  1.36167    0.48433   2.811  0.00493 ** \n",
       "---\n",
       "Signif. codes:  0 '***' 0.001 '**' 0.01 '*' 0.05 '.' 0.1 ' ' 1\n",
       "\n",
       "(Dispersion parameter for binomial family taken to be 1)\n",
       "\n",
       "    Null deviance: 165.77  on 15  degrees of freedom\n",
       "Residual deviance:  12.63  on  7  degrees of freedom\n",
       "AIC: 102.14\n",
       "\n",
       "Number of Fisher Scoring iterations: 4\n"
      ]
     },
     "metadata": {},
     "output_type": "display_data"
    }
   ],
   "source": [
    "summary(lrfit)"
   ]
  },
  {
   "cell_type": "code",
   "execution_count": 28,
   "metadata": {},
   "outputs": [
    {
     "data": {
      "image/png": "[encoded data removed]",
      "text/plain": [
       "Plot with title \"\""
      ]
     },
     "metadata": {},
     "output_type": "display_data",
     "source": "R display func"
    },
    {
     "data": {
      "image/png": "[encoded data removed]",
      "text/plain": [
       "Plot with title \"\""
      ]
     },
     "metadata": {},
     "output_type": "display_data",
     "source": "R display func"
    },
    {
     "data": {
      "image/png": "[encoded data removed]",
      "text/plain": [
       "Plot with title \"\""
      ]
     },
     "metadata": {},
     "output_type": "display_data",
     "source": "R display func"
    },
    {
     "data": {
      "image/png": "[encoded data removed]",
      "text/plain": [
       "Plot with title \"\""
      ]
     },
     "metadata": {},
     "output_type": "display_data",
     "source": "R display func"
    }
   ],
   "source": [
    "plot(lrfit)"
   ]
  }
 ],
 "metadata": {
  "kernelspec": {
   "display_name": "R",
   "language": "R",
   "name": "ir"
  },
  "language_info": {
   "codemirror_mode": "r",
   "file_extension": ".r",
   "mimetype": "text/x-r-source",
   "name": "R",
   "pygments_lexer": "r",
   "version": "3.4.3"
  }
 },
 "nbformat": 4,
 "nbformat_minor": 2
}
