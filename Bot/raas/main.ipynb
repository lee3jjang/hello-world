{
 "cells": [
  {
   "cell_type": "code",
   "execution_count": 2,
   "metadata": {},
   "outputs": [],
   "source": [
    "from raas import compress, make_router\n",
    "\n",
    "if __name__ == '__main__':\n",
    "    \n",
    "    #1. 가상 PC 작업\n",
    "    source = 'Rockstar Games'\n",
    "    ignore = ['data_0', 'data_1', 'data_2', 'data_3', 'f_000001', 'f_000002', 'f_000003', 'f_000005', 'f_000006', 'f_000008', 'f_000009', 'f_00000a', 'f_00000b', 'f_00000c', 'f_00000d', 'f_00000e', 'f_00000f', 'f_000010', 'index', 'Cookies', 'Cookies-journal', '000003.log', 'CURRENT', 'LOCK', 'LOG', 'MANIFEST-000001', 'LOG.old', 'Visited Links']\n",
    "    compress(source, target='zipfile', name='result', max_size=1.1e6, ignore=ignore)\n",
    "    router = make_router(source, ignore=ignore)"
   ]
  },
  {
   "cell_type": "code",
   "execution_count": 3,
   "metadata": {},
   "outputs": [],
   "source": [
    "import pickle\n",
    "from raas import make_tree\n",
    "\n",
    "if __name__ == '__main__':\n",
    "    \n",
    "    #2. 로컬 PC 작업\n",
    "    with open('router.txt', 'rb') as f:\n",
    "        router = pickle.load(f)\n",
    "    make_tree('zipfile', 'tree', router)"
   ]
  }
 ],
 "metadata": {
  "kernelspec": {
   "display_name": "Python 3",
   "language": "python",
   "name": "python3"
  },
  "language_info": {
   "codemirror_mode": {
    "name": "ipython",
    "version": 3
   },
   "file_extension": ".py",
   "mimetype": "text/x-python",
   "name": "python",
   "nbconvert_exporter": "python",
   "pygments_lexer": "ipython3",
   "version": "3.7.3"
  }
 },
 "nbformat": 4,
 "nbformat_minor": 4
}
