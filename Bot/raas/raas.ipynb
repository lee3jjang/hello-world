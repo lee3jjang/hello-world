{
 "cells": [
  {
   "cell_type": "code",
   "execution_count": 1,
   "metadata": {},
   "outputs": [],
   "source": [
    "import os\n",
    "import re\n",
    "import pickle\n",
    "import shutil\n",
    "import zipfile\n",
    "import collections\n",
    "import numpy as np\n",
    "from os import path\n",
    "from datetime import datetime\n",
    "from subprocess import check_output"
   ]
  },
  {
   "cell_type": "code",
   "execution_count": 2,
   "metadata": {},
   "outputs": [],
   "source": [
    "def compress(source, target, name='result', max_size=np.inf, ignore=None):\n",
    "    '''\n",
    "        Input:\n",
    "            source: 압축 대상 파일들이 모여있는 폴더 경로\n",
    "            target: zip 파일을 저장할 경로\n",
    "            max_size: 파일 1개당 최대 용량(byte 단위, 용량 초과 시 분할 압축)\n",
    "            name: zip 파일 이름\n",
    "            ignore: 무시할 파일명 리스트\n",
    "            \n",
    "        Output:\n",
    "            zip 파일 (Return None)\n",
    "        \n",
    "        Description:\n",
    "            - source에 있는 파일 전체를 압축한 후 target_path에 {name}.zip 파일로 저장함\n",
    "            - 상대경로, 절대경로 둘 다 가능\n",
    "            - 끝에 \\ 붙여도 안 붙여도 상관없음\n",
    "            - 경로가 존재하지 않으면 작동 안 함\n",
    "            - source에 파일이 아닌 폴더가 있으면, 그 폴더 내부에 있는 파일을 모두 탐색하여 복사함\n",
    "            - name 뒤에 .zip이 있어도 없어도 상관없음\n",
    "            - 파일당 사이즈가 max_size보다 크면 error\n",
    "            - 기존 zip 파일 위에 자동으로 덮어씀\n",
    "            - target 폴더에 다른 zip 파일이 있지 않도록 하는 것을 추천\n",
    "            \n",
    "        Example:\n",
    "            compress('C:/Users/Administrator/dev/source', 'C:/Users/Administrator/dev/result', 'test', 20000, ['test.txt', 'test2.txt'])\n",
    "    '''\n",
    "    if not name.endswith('.zip'):\n",
    "        name = name + '.zip'\n",
    "    source_path_abs_list = files_in_folder(path.abspath(source))\n",
    "    if ignore != None:\n",
    "        source_path_abs_list = [p for p in source_path_abs_list if path.basename(p) not in ignore]\n",
    "    duplicates = [item for item, count in collections.Counter([path.basename(p) for p in source_path_abs_list]).items() if count > 1]\n",
    "    if duplicates != []:\n",
    "        raise Exception('중복되는 파일이 있습니다: {}'.format(duplicates))\n",
    "    target_path_abs = path.abspath(target)\n",
    "    result_zip = zipfile.ZipFile(target_path_abs + '\\\\' + name, 'w')\n",
    "    file_size = 0\n",
    "    i = 0\n",
    "    for fp in source_path_abs_list:\n",
    "        if(file_size + path.getsize(fp) > max_size):\n",
    "            if path.getsize(fp) > max_size:\n",
    "                raise Exception('파일당 사이즈가 max_size보다 큽니다: {} bytes'.format(path.getsize(fp)))\n",
    "            result_zip.close()\n",
    "            result_zip = zipfile.ZipFile(target_path_abs + '\\\\' + name[:-4] + '_{:03d}'.format(i+1) + '.zip', 'w')\n",
    "            file_size = 0\n",
    "            i += 1\n",
    "        result_zip.write(fp, path.basename(fp), compress_type=zipfile.ZIP_DEFLATED)\n",
    "        file_size += path.getsize(fp)\n",
    "    result_zip.close()\n",
    "\n",
    "def files_in_folder(p, full_path=True):\n",
    "    '''\n",
    "        Description:\n",
    "            특정 폴더 안에 있는 모든 파일들의 절대경로 추출\n",
    "        \n",
    "        Input:\n",
    "            source: 탐색하고자 하는 폴더의 경로\n",
    "            full_path: 전체 경로 / 파일명만\n",
    "        \n",
    "        Output:\n",
    "            폴더경로 list\n",
    "        \n",
    "        Example:\n",
    "            files_in_folder('C:\\\\Users\\\\Administrator\\\\dev\\\\result')\n",
    "    '''\n",
    "    files = os.listdir(p)\n",
    "    result = []\n",
    "    for f in files:\n",
    "        if not path.isdir(path.join(p, f)):\n",
    "            if full_path:\n",
    "                result.append(path.abspath(path.join(p, f)))\n",
    "            else:\n",
    "                result.append(f)\n",
    "        else:\n",
    "            result += files_in_folder(path.join(p, f), full_path)\n",
    "    return result\n",
    "\n",
    "def check_file_number(source):\n",
    "    '''\n",
    "        Description:\n",
    "            files_in_folder가 파일을 잘 가져왔는지 체크\n",
    "            \n",
    "        Input:\n",
    "            source: 체크할 폴더 경로\n",
    "    '''\n",
    "    n = len(files_in_folder(source))\n",
    "    tree = check_output('tree /f {}'.format(source), shell=True).decode('ansi')\n",
    "    m = sum([re.search('│?[^└├].+\\.\\w+', z) != None for z in tree.split('\\r\\n')])\n",
    "    print('파일 수: {}개 (Path: {}, Checked: {})'.format(n, path.abspath(source), n==m))\n",
    "    if n != m:\n",
    "        raise Exception('파일 개수 검사를 통과하지 못했습니다.')\n",
    "\n",
    "def check_duplicates(source, ignore=None):\n",
    "    '''\n",
    "        Description:\n",
    "            source 경로에서 이름이 같은 파일명 있는지 체크\n",
    "            \n",
    "        Input:\n",
    "            source: 검사하고자 하는 폴더 경로\n",
    "            ignore: 무시하고자 하는 파일\n",
    "        \n",
    "        Example:\n",
    "            check_duplicates('.', ['Thumbs.db'])\n",
    "    '''\n",
    "    files_list = files_in_folder(source, False)\n",
    "    if ignore != None:\n",
    "        files_list = [p for p in files_list if path.basename(p) not in ignore]\n",
    "    duplicates = [item for item, count in collections.Counter(files_list).items() if count > 1]\n",
    "    if duplicates != []:\n",
    "        raise Exception('[Path: {}] 이름이 중복되는 파일이 있습니다: {}'.format(path.abspath(source), find_path(source, duplicates)))\n",
    "    else:\n",
    "        print('[Path: {}] 중복되는 파일이 없습니다.'.format(path.abspath(source)))\n",
    "\n",
    "def find_path(source, files):\n",
    "    '''\n",
    "        Description:\n",
    "            source 경로에 있는 files의 경로를 찾음\n",
    "            \n",
    "        Input:\n",
    "            source: 찾고자 하는 폴더\n",
    "            files: 파일들 목록\n",
    "            \n",
    "        Return:\n",
    "            파일들의 절대경로 list\n",
    "        \n",
    "        Example:\n",
    "            find_path('.', ['raas.ipynb'])\n",
    "    '''\n",
    "    result = [p for p in files_in_folder(source) if path.basename(p) in files]\n",
    "    if result == []:\n",
    "        print('[Path: {}] {} 파일이 없습니다.'.format(path.abspath(source), files))\n",
    "    else:\n",
    "        return result\n",
    "    \n",
    "    \n",
    "def make_router(source, ignore=None, save=True):\n",
    "    '''\n",
    "        Description:\n",
    "            - 폴더 내 각 파일들의 상대위치를 추출함\n",
    "            - 라우터를 저장하게 되면 router.txt로 저장됨 (pickle)\n",
    "        \n",
    "        Input:\n",
    "            source: 탐색하고자 하는 폴더의 경로\n",
    "            ignore: 무시하고자 하는 파일명 리스트\n",
    "            save: 만들어진 라우터 저장 여부\n",
    "        \n",
    "        Output:\n",
    "            (파일명, 파일경로) dictionary\n",
    "        \n",
    "        Example:\n",
    "            make_router('.', ['test.txt', 'test2.txt'])\n",
    "    '''\n",
    "    source_path_abs_list = files_in_folder(path.abspath(source))\n",
    "    if ignore != None:\n",
    "        source_path_abs_list = [p for p in source_path_abs_list if path.basename(p) not in ignore]\n",
    "    duplicates = [item for item, count in collections.Counter([path.basename(p) for p in source_path_abs_list]).items() if count > 1]\n",
    "    if duplicates != []:\n",
    "        raise Exception('중복되는 파일이 있습니다: {}'.format(duplicates))\n",
    "    router = {}\n",
    "    for p in source_path_abs_list:\n",
    "        router[path.basename(p)] = path.relpath(p, source)\n",
    "    if save:\n",
    "        now = datetime.now().strftime('%Y%m%d%H%M%S')\n",
    "        with open('router_{}.txt'.format(now), 'wb') as f:\n",
    "            pickle.dump(router, f)\n",
    "    return router\n",
    "    \n",
    "def make_router_encrypt(source, save=True):\n",
    "    '''\n",
    "        Description:\n",
    "            source 경로에 있는 files들의 이름을 변경한 후 router 생성\n",
    "        Output:\n",
    "            (변경된 파일명, 파일경로) dictionary\n",
    "    '''\n",
    "    \n",
    "    if any([re.match('file_\\d{4}', path.basename(p)) != None for p in files_in_folder(source)]):\n",
    "        raise Exception('이미 한 번 실행되었습니다.')\n",
    "    router = {}\n",
    "    files = files_in_folder(source, True)\n",
    "    for i, f in enumerate(files):\n",
    "        renamed = 'file_{:04d}'.format(i) + path.splitext(f)[1]\n",
    "        router[renamed] = path.relpath(f, source)\n",
    "        os.rename(f, path.join(path.dirname(f), renamed))\n",
    "    if save:\n",
    "        now = datetime.now().strftime('%Y%m%d%H%M%S')\n",
    "        with open('router_encrypt_{}.txt'.format(now), 'wb') as f:\n",
    "            pickle.dump(router, f)\n",
    "    return router\n",
    "\n",
    "def mkdir2(target):\n",
    "    '''\n",
    "        Description:\n",
    "            - 폴더 생성(이전 폴더 경로가 없으면 그 이전 폴더도 생성)\n",
    "            - 파일 경로 넣어도 폴더 경로만 만듬\n",
    "        \n",
    "        Input:\n",
    "            target: 폴더 경로\n",
    "            \n",
    "        Example:\n",
    "            mkdir2('C:\\\\Users\\\\Administrator\\\\dev\\\\2\\3\\4') \n",
    "    '''\n",
    "    try:\n",
    "        os.mkdir(path.dirname(path.abspath(target)))\n",
    "    except FileNotFoundError:\n",
    "        mkdir2(path.join(path.abspath(target), '..'))\n",
    "        os.mkdir(path.dirname(path.abspath(target)))\n",
    "    except FileExistsError:\n",
    "        pass\n",
    "    \n",
    "# def decrypt(source, router):\n",
    "#     for file in files_in_folder(source, True):\n",
    "#         os.rename(file, path.join(os.dirname(file), os.basename(router[os.basename(file)])))\n",
    "\n",
    "def make_tree(source, target, router):\n",
    "    '''\n",
    "        Description:\n",
    "            router를 따라 폴더 구조를 생성하고 파일을 그 안에 복사\n",
    "        \n",
    "        Input:\n",
    "            source: 파일들이 들어있는 폴더 경로\n",
    "            target: 트리를 만들 폴더 경로\n",
    "            router: router (dictionary)\n",
    "            \n",
    "        Example:\n",
    "            make_tree('Rockstar Games', 'tree', router)\n",
    "    '''\n",
    "    for p in router.values():\n",
    "        mkdir2(path.join(target, p))\n",
    "    for file in files_in_folder(source):\n",
    "        try:\n",
    "            filename = path.basename(file)\n",
    "            shutil.copy(file, path.join(target, router[filename]))\n",
    "        except KeyError:\n",
    "            raise Exception('\\'{}\\' 의 경로명이 없습니다'.format(file))\n",
    "            \n",
    "def copy_to(source, target, ignore=None):\n",
    "    '''\n",
    "        Description:\n",
    "            - source에 있는 모든 파일들을 target 폴더로 복사\n",
    "            - 꼭 target 폴더 만들고 실행할 것\n",
    "        \n",
    "        Example:\n",
    "            copy_to('CCleaner', 'zipfiles')\n",
    "    '''\n",
    "    source_path_abs_list = files_in_folder(path.abspath(source))\n",
    "    if ignore != None:\n",
    "        source_path_abs_list = [p for p in source_path_abs_list if path.basename(p) not in ignore]\n",
    "    duplicates = [item for item, count in collections.Counter([path.basename(p) for p in source_path_abs_list]).items() if count > 1]\n",
    "    if duplicates != []:\n",
    "        raise Exception('중복되는 파일이 있습니다: {}'.format(duplicates))\n",
    "    target_path_abs = path.abspath(target)\n",
    "    if not path.exists(target_path_abs):\n",
    "        raise Exception('경로 [{}] 가 존재하지 않습니다.'.format(target_path_abs))\n",
    "    for fp in source_path_abs_list:\n",
    "        shutil.copy(fp, target)\n",
    "        \n",
    "def decrypt(source, router):\n",
    "    '''\n",
    "        Description:\n",
    "            source 경로에 있던 암호화 해제\n",
    "            \n",
    "        Example:\n",
    "            router = make_router_encrypt('CCleaner')\n",
    "            decrypt('CCleaner', router)\n",
    "    '''\n",
    "    for key, value in router.items():\n",
    "        os.rename(path.join(path.join(source, path.dirname(value)), key), path.join(path.join(source, path.dirname(value)), path.basename(value)))"
   ]
  },
  {
   "cell_type": "code",
   "execution_count": 38,
   "metadata": {},
   "outputs": [],
   "source": [
    "# 1. check_file_number\n",
    "# 2. copy_to (warehouse)\n",
    "# 3. make_router\n",
    "# 4. make_router_encrypt\n",
    "# 5. 보안을 다 해제해\n",
    "# 6. compress (zipfiles)\n",
    "# 7. 밖으로 빼(.zip, router, router_encrypt)\n",
    "# 8. 압축 해제해\n",
    "# 9. decrypt\n",
    "# 10. make_tree"
   ]
  },
  {
   "cell_type": "markdown",
   "metadata": {},
   "source": [
    "### 1. Example 1"
   ]
  },
  {
   "cell_type": "code",
   "execution_count": 5,
   "metadata": {},
   "outputs": [],
   "source": [
    "source = 'C:\\\\CCleaner'"
   ]
  },
  {
   "cell_type": "code",
   "execution_count": 27,
   "metadata": {},
   "outputs": [
    {
     "name": "stdout",
     "output_type": "stream",
     "text": [
      "파일 수: 5개 (Path: C:\\Movegames, Checked: True)\n"
     ]
    }
   ],
   "source": [
    "check_file_number(source)"
   ]
  },
  {
   "cell_type": "code",
   "execution_count": 29,
   "metadata": {},
   "outputs": [],
   "source": [
    "copy_to(source, 'warehouse')"
   ]
  },
  {
   "cell_type": "code",
   "execution_count": 13,
   "metadata": {},
   "outputs": [
    {
     "name": "stdout",
     "output_type": "stream",
     "text": [
      "파일 수: 15개 (Path: C:\\Users\\Administrator\\dev\\temp, Checked: True)\n"
     ]
    },
    {
     "data": {
      "text/plain": [
       "{'file_0000.dll': '비즈\\\\branding.dll',\n",
       " 'file_0001.dat': '비즈\\\\CCleaner.dat',\n",
       " 'file_0002.exe': '비즈\\\\CCleaner.exe',\n",
       " 'file_0003.exe': '비즈\\\\CCleaner64.exe',\n",
       " 'file_0004.dll': '비즈\\\\Lang\\\\lang-1042.dll',\n",
       " 'file_0005.dll': '테크\\\\branding.dll',\n",
       " 'file_0006.dat': '테크\\\\CCleaner.dat',\n",
       " 'file_0007.exe': '테크\\\\CCleaner.exe',\n",
       " 'file_0008.exe': '테크\\\\CCleaner64.exe',\n",
       " 'file_0009.dll': '테크\\\\Lang\\\\lang-1042.dll',\n",
       " 'file_0010.dll': '프로\\\\branding.dll',\n",
       " 'file_0011.dat': '프로\\\\CCleaner.dat',\n",
       " 'file_0012.exe': '프로\\\\CCleaner.exe',\n",
       " 'file_0013.exe': '프로\\\\CCleaner64.exe',\n",
       " 'file_0014.dll': '프로\\\\Lang\\\\lang-1042.dll'}"
      ]
     },
     "execution_count": 13,
     "metadata": {},
     "output_type": "execute_result"
    }
   ],
   "source": [
    "source = 'encrypted'\n",
    "check_file_number(source)\n",
    "make_router_encrypt(source)"
   ]
  },
  {
   "cell_type": "code",
   "execution_count": 3,
   "metadata": {},
   "outputs": [],
   "source": [
    "with open('router_encrypt_20190923013717.txt', 'rb') as f:\n",
    "    router = pickle.load(f)"
   ]
  },
  {
   "cell_type": "code",
   "execution_count": 16,
   "metadata": {},
   "outputs": [],
   "source": [
    "copy_to('encrypted', 'warehouse')"
   ]
  },
  {
   "cell_type": "code",
   "execution_count": 21,
   "metadata": {},
   "outputs": [],
   "source": [
    "compress('warehouse', 'zipfiles', max_size=5e7)"
   ]
  },
  {
   "cell_type": "code",
   "execution_count": 4,
   "metadata": {},
   "outputs": [
    {
     "data": {
      "text/plain": [
       "{'file_0000.dll': '비즈\\\\branding.dll',\n",
       " 'file_0001.dat': '비즈\\\\CCleaner.dat',\n",
       " 'file_0002.exe': '비즈\\\\CCleaner.exe',\n",
       " 'file_0003.exe': '비즈\\\\CCleaner64.exe',\n",
       " 'file_0004.dll': '비즈\\\\Lang\\\\lang-1042.dll',\n",
       " 'file_0005.dll': '테크\\\\branding.dll',\n",
       " 'file_0006.dat': '테크\\\\CCleaner.dat',\n",
       " 'file_0007.exe': '테크\\\\CCleaner.exe',\n",
       " 'file_0008.exe': '테크\\\\CCleaner64.exe',\n",
       " 'file_0009.dll': '테크\\\\Lang\\\\lang-1042.dll',\n",
       " 'file_0010.dll': '프로\\\\branding.dll',\n",
       " 'file_0011.dat': '프로\\\\CCleaner.dat',\n",
       " 'file_0012.exe': '프로\\\\CCleaner.exe',\n",
       " 'file_0013.exe': '프로\\\\CCleaner64.exe',\n",
       " 'file_0014.dll': '프로\\\\Lang\\\\lang-1042.dll'}"
      ]
     },
     "execution_count": 4,
     "metadata": {},
     "output_type": "execute_result"
    }
   ],
   "source": [
    "router"
   ]
  },
  {
   "cell_type": "code",
   "execution_count": 6,
   "metadata": {},
   "outputs": [],
   "source": [
    "make_tree('zipfiles', 'result', router)"
   ]
  },
  {
   "cell_type": "markdown",
   "metadata": {},
   "source": [
    "### 2. Example 2"
   ]
  },
  {
   "cell_type": "code",
   "execution_count": 7,
   "metadata": {},
   "outputs": [],
   "source": [
    "source = 'C:\\\\Movegames'"
   ]
  },
  {
   "cell_type": "code",
   "execution_count": 8,
   "metadata": {},
   "outputs": [
    {
     "name": "stdout",
     "output_type": "stream",
     "text": [
      "파일 수: 5개 (Path: C:\\Movegames, Checked: True)\n"
     ]
    }
   ],
   "source": [
    "check_file_number(source)"
   ]
  },
  {
   "cell_type": "code",
   "execution_count": 14,
   "metadata": {},
   "outputs": [],
   "source": [
    "copy_to(source, 'warehouse')"
   ]
  },
  {
   "cell_type": "code",
   "execution_count": 33,
   "metadata": {},
   "outputs": [
    {
     "data": {
      "text/plain": [
       "{'D-Player.exe': 'Launcher\\\\D-Player.exe',\n",
       " 'DownEngineSDK.dll': 'Launcher\\\\DownEngineSDK.dll',\n",
       " 'Uninstaller.exe': 'Launcher\\\\Uninstaller.exe',\n",
       " 'UpdateManager.exe': 'Launcher\\\\UpdateManager.exe',\n",
       " 'vcredist_x86.exe': 'Launcher\\\\vcredist_x86.exe'}"
      ]
     },
     "execution_count": 33,
     "metadata": {},
     "output_type": "execute_result"
    }
   ],
   "source": [
    "router = make_router(source)"
   ]
  },
  {
   "cell_type": "code",
   "execution_count": 36,
   "metadata": {},
   "outputs": [],
   "source": [
    "with open('router_20190923014846.txt', 'rb') as f:\n",
    "    router = pickle.load(f)"
   ]
  },
  {
   "cell_type": "code",
   "execution_count": 38,
   "metadata": {},
   "outputs": [
    {
     "data": {
      "text/plain": [
       "{'file_0000.exe': 'D-Player.exe',\n",
       " 'file_0001.dll': 'DownEngineSDK.dll',\n",
       " 'file_0002.exe': 'Uninstaller.exe',\n",
       " 'file_0003.exe': 'UpdateManager.exe',\n",
       " 'file_0004.exe': 'vcredist_x86.exe'}"
      ]
     },
     "execution_count": 38,
     "metadata": {},
     "output_type": "execute_result"
    }
   ],
   "source": [
    "make_router_encrypt('warehouse')"
   ]
  },
  {
   "cell_type": "code",
   "execution_count": 39,
   "metadata": {},
   "outputs": [],
   "source": [
    "# 보안 해제"
   ]
  },
  {
   "cell_type": "code",
   "execution_count": 43,
   "metadata": {},
   "outputs": [],
   "source": [
    "compress('warehouse', 'zipfiles', max_size=4e6)"
   ]
  },
  {
   "cell_type": "code",
   "execution_count": null,
   "metadata": {},
   "outputs": [],
   "source": [
    "# 밖으로 뺌 (with router, router_encrypt)"
   ]
  },
  {
   "cell_type": "code",
   "execution_count": 3,
   "metadata": {},
   "outputs": [],
   "source": [
    "with open('router_20190923014846.txt', 'rb') as f:\n",
    "    router = pickle.load(f)\n",
    "with open('router_encrypt_20190923015002.txt', 'rb') as f:\n",
    "    router_encrypt = pickle.load(f)"
   ]
  },
  {
   "cell_type": "code",
   "execution_count": 4,
   "metadata": {},
   "outputs": [
    {
     "data": {
      "text/plain": [
       "{'file_0000.exe': 'D-Player.exe',\n",
       " 'file_0001.dll': 'DownEngineSDK.dll',\n",
       " 'file_0002.exe': 'Uninstaller.exe',\n",
       " 'file_0003.exe': 'UpdateManager.exe',\n",
       " 'file_0004.exe': 'vcredist_x86.exe'}"
      ]
     },
     "execution_count": 4,
     "metadata": {},
     "output_type": "execute_result"
    }
   ],
   "source": [
    "router_encrypt"
   ]
  },
  {
   "cell_type": "code",
   "execution_count": null,
   "metadata": {},
   "outputs": [],
   "source": [
    "decrypt('zipfiles', router_encrypt)"
   ]
  },
  {
   "cell_type": "code",
   "execution_count": 9,
   "metadata": {},
   "outputs": [],
   "source": [
    "make_tree('zipfiles', 'result', router)"
   ]
  }
 ],
 "metadata": {
  "kernelspec": {
   "display_name": "Python 3",
   "language": "python",
   "name": "python3"
  },
  "language_info": {
   "codemirror_mode": {
    "name": "ipython",
    "version": 3
   },
   "file_extension": ".py",
   "mimetype": "text/x-python",
   "name": "python",
   "nbconvert_exporter": "python",
   "pygments_lexer": "ipython3",
   "version": "3.7.3"
  }
 },
 "nbformat": 4,
 "nbformat_minor": 4
}
