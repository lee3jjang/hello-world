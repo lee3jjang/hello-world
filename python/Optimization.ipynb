{
 "cells": [
  {
   "cell_type": "code",
   "execution_count": 172,
   "metadata": {},
   "outputs": [],
   "source": [
    "from random import random\n",
    "import matplotlib.pyplot as plt\n",
    "from math import sqrt\n",
    "plt.style.use(\"ggplot\")"
   ]
  },
  {
   "cell_type": "code",
   "execution_count": 184,
   "metadata": {},
   "outputs": [],
   "source": [
    "rosen2 = lambda x: (1-x[0])**2+100*(x[1]-x[0]**2)**2"
   ]
  },
  {
   "cell_type": "code",
   "execution_count": 185,
   "metadata": {},
   "outputs": [],
   "source": [
    "def rank(x):\n",
    "    n = len(x)\n",
    "    y = sorted(x)\n",
    "    res = []\n",
    "    for i in range(n):\n",
    "        for j in range(n):\n",
    "            if x[j] == y[i]:\n",
    "                break\n",
    "        res.append(j)\n",
    "    return res"
   ]
  },
  {
   "cell_type": "code",
   "execution_count": 162,
   "metadata": {},
   "outputs": [],
   "source": [
    "# 벡터 덧셈, 스칼라곱, 뺄셈\n",
    "add = lambda x,y: [x[i]+y[i] for i in range(len(x))]\n",
    "scalar = lambda c,x: [c*x[i] for i in range(len(x))]\n",
    "subtract = lambda x,y: add(x, scalar(-1,y))"
   ]
  },
  {
   "cell_type": "code",
   "execution_count": 163,
   "metadata": {},
   "outputs": [],
   "source": [
    "pts = [[random(), random()] for _ in range(3)]\n",
    "rk = rank(list(map(lambda x: rosen(x), pts)))\n",
    "pts = [pts[r] for r in rk]"
   ]
  },
  {
   "cell_type": "code",
   "execution_count": 164,
   "metadata": {},
   "outputs": [],
   "source": [
    "x_0 = scalar(0.5, add(pts[0], pts[1]))\n",
    "x_r = add(x_0, scalar(alpha, subtract(x_0, pts[2])))\n",
    "x_e = add(x_0, scalar(gamma, subtract(x_r, x_0)))\n",
    "x_c = add(x_0, scalar(rho, subtract(pts[2], x_0)))\n",
    "x_s1 = add(pts[0], scalar(sigma, subtract(pts[1], pts[0])))\n",
    "x_s2 = add(pts[0], scalar(sigma, subtract(pts[2], pts[0])))"
   ]
  },
  {
   "cell_type": "code",
   "execution_count": 165,
   "metadata": {},
   "outputs": [
    {
     "data": {
      "image/png": "[encoded data removed]",
      "text/plain": [
       "<Figure size 864x576 with 1 Axes>"
      ]
     },
     "metadata": {},
     "output_type": "display_data"
    }
   ],
   "source": [
    "plt.figure(figsize=(12,8))\n",
    "plt.scatter(pts[0][0], pts[0][1], s=300, label=\"pt1\")\n",
    "plt.scatter(pts[1][0], pts[1][1], s=200, label=\"pt2\")\n",
    "plt.scatter(pts[2][0], pts[2][1], s=100, label=\"pt3\")\n",
    "plt.scatter(x_0[0], x_0[1], label=\"Centroid\")\n",
    "plt.scatter(x_r[0], x_r[1], label=\"Reflection\")\n",
    "plt.scatter(x_e[0], x_e[1], label=\"Expansion\")\n",
    "plt.scatter(x_c[0], x_c[1], label=\"Contraction\")\n",
    "plt.scatter(x_s1[0], x_s1[1], label=\"Shrink pt2\")\n",
    "plt.scatter(x_s2[0], x_s2[1], label=\"Shrink pt3\")\n",
    "plt.legend()\n",
    "plt.show()"
   ]
  },
  {
   "cell_type": "code",
   "execution_count": 182,
   "metadata": {},
   "outputs": [],
   "source": [
    "def nelder_mead(f, p):\n",
    "    \n",
    "    # setup\n",
    "    alpha = 1\n",
    "    gamma = 2\n",
    "    rho = 1/2\n",
    "    sigma = 1/2\n",
    "    n = 1000\n",
    "    eps = 1e-9\n",
    "    \n",
    "    # Loop\n",
    "    for _ in range(n):\n",
    "        \n",
    "        # Order\n",
    "        rk = rank(list(map(lambda x: f(x), p)))\n",
    "        p = [p[r] for r in rk]\n",
    "        x_0 = scalar(0.5, add(p[0], p[1]))\n",
    "        x_r = add(x_0, scalar(alpha, subtract(x_0, p[2])))\n",
    "\n",
    "        y_r = f(x_r)\n",
    "        y_1 = f(p[1])\n",
    "        y_0 = f(p[0])\n",
    "        \n",
    "        # Reflection\n",
    "        if y_0 <= y_r and y_r < y_1:\n",
    "            p[2] = x_r\n",
    "            #print(\"Reflection\")\n",
    "            \n",
    "        # Expansion\n",
    "        elif y_r < y_0:\n",
    "            x_e = add(x_0, scalar(gamma, subtract(x_r, x_0)))\n",
    "            if f(x_e) < y_r:\n",
    "                p[2] = x_e\n",
    "                #print(\"Expansion 1\")\n",
    "            else:\n",
    "                p[2] = x_r\n",
    "                #print(\"Expansion 2\") \n",
    "                \n",
    "        # Contraction\n",
    "        elif y_r >= y_1:  \n",
    "            x_c = add(x_0, scalar(rho, subtract(p[2], x_0)))\n",
    "            if f(x_c) < f(p[2]):\n",
    "                p[2] = x_c\n",
    "                #print(\"Contraction\")\n",
    "            # Shrink\n",
    "            else:\n",
    "                p[1] = add(p[0], scalar(sigma, subtract(p[1], p[0])))\n",
    "                p[2] = add(p[0], scalar(sigma, subtract(p[2], p[0])))\n",
    "                #print(\"Shrink\")\n",
    "                \n",
    "        # Exit\n",
    "        y = [f(p[i]) for i in range(3)]\n",
    "        mu = sum(y)/len(y)\n",
    "        std = sqrt(sum([(y[i] - mu)**2 for i in range(3)])/len(y))\n",
    "        if std < eps:\n",
    "            break\n",
    " \n",
    "    return scalar(1/3, add(add(p[0], p[1]), p[2]))"
   ]
  },
  {
   "cell_type": "code",
   "execution_count": 183,
   "metadata": {},
   "outputs": [
    {
     "data": {
      "text/plain": [
       "[1.000010728382164, 1.0000216731211538]"
      ]
     },
     "execution_count": 183,
     "metadata": {},
     "output_type": "execute_result"
    }
   ],
   "source": [
    "pts = [[1,10], [10,3], [30,1]]\n",
    "nelder_mead(rosen2, pts)"
   ]
  }
 ],
 "metadata": {
  "kernelspec": {
   "display_name": "Python 3",
   "language": "python",
   "name": "python3"
  },
  "language_info": {
   "codemirror_mode": {
    "name": "ipython",
    "version": 3
   },
   "file_extension": ".py",
   "mimetype": "text/x-python",
   "name": "python",
   "nbconvert_exporter": "python",
   "pygments_lexer": "ipython3",
   "version": "3.6.5"
  }
 },
 "nbformat": 4,
 "nbformat_minor": 2
}
