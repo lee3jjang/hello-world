{
 "cells": [
  {
   "cell_type": "code",
   "execution_count": 1,
   "metadata": {},
   "outputs": [],
   "source": [
    "import itertools\n",
    "from random import random\n",
    "from math import pi, sin, cos, sqrt, log, exp\n",
    "import matplotlib.pyplot as plt\n",
    "import Inertia as ita\n",
    "plt.style.use(\"ggplot\")"
   ]
  },
  {
   "cell_type": "code",
   "execution_count": 3,
   "metadata": {},
   "outputs": [],
   "source": [
    "A = [[25,15,-5],\n",
    "     [15,18,0],\n",
    "     [-5,0,11]]\n",
    "\n",
    "B = [[3,2,5],\n",
    "     [2,-4,78],\n",
    "     [-5,0,-1]]\n",
    "\n",
    "C = [[25,7,-5,4],\n",
    "     [15,18,0,-2],\n",
    "     [-5,0,11,4],\n",
    "     [7,20,-2,5]]\n",
    "\n",
    "D = [[1,3],\n",
    "     [-2,5]]"
   ]
  },
  {
   "cell_type": "code",
   "execution_count": 10,
   "metadata": {},
   "outputs": [],
   "source": [
    "def f(x):\n",
    "    a = 2\n",
    "    b = 4\n",
    "    c = -2\n",
    "    return a*(x-b)**2+c"
   ]
  },
  {
   "cell_type": "code",
   "execution_count": 15,
   "metadata": {},
   "outputs": [
    {
     "data": {
      "image/png": "[encoded data removed]",
      "text/plain": [
       "<Figure size 432x288 with 1 Axes>"
      ]
     },
     "metadata": {},
     "output_type": "display_data"
    }
   ],
   "source": [
    "D = ita.arange(-10,10,100)\n",
    "y = [f(x) for x in D]\n",
    "\n",
    "plt.plot(D,y)\n",
    "plt.show()"
   ]
  },
  {
   "cell_type": "code",
   "execution_count": 59,
   "metadata": {},
   "outputs": [],
   "source": [
    "def LineSearch(f, a, b, method=\"bisection\"):\n",
    "\n",
    "    # Bisection\n",
    "    if method==\"bisection\":\n",
    "        # setup\n",
    "        eps = 1e-5\n",
    "        L = 1e-5\n",
    "        n = 10000\n",
    "\n",
    "        for _ in range(n):\n",
    "            x = (a+b)/2-eps\n",
    "            y = (a+b)/2+eps\n",
    "\n",
    "            if f(x) < f(y):\n",
    "                b = y\n",
    "            else:\n",
    "                a = x\n",
    "\n",
    "            if(abs(b-a) < L):\n",
    "                break\n",
    "\n",
    "        return (a+b)/2\n",
    "    \n",
    "    # Golden section\n",
    "    elif method==\"golden-section\":\n",
    "\n",
    "        # setup\n",
    "        C = (sqrt(5)-1)/2\n",
    "        L = 1e-5\n",
    "        n = 10000\n",
    "\n",
    "        x = b-C*(b-a)\n",
    "        y = a+C*(b-a)\n",
    "\n",
    "        for _ in range(n):\n",
    "            if f(x) < f(y):\n",
    "                b = y\n",
    "                y = x\n",
    "                x = b-C*(b-a)\n",
    "            else:\n",
    "                a = x\n",
    "                x = y\n",
    "                y = a+C*(b-a)\n",
    "            if(abs(b-a) < L):\n",
    "                break\n",
    "\n",
    "        return (a+b)/2\n",
    "    \n",
    "    else:\n",
    "        return None"
   ]
  }
 ],
 "metadata": {
  "kernelspec": {
   "display_name": "Python 3",
   "language": "python",
   "name": "python3"
  },
  "language_info": {
   "codemirror_mode": {
    "name": "ipython",
    "version": 3
   },
   "file_extension": ".py",
   "mimetype": "text/x-python",
   "name": "python",
   "nbconvert_exporter": "python",
   "pygments_lexer": "ipython3",
   "version": "3.6.5"
  }
 },
 "nbformat": 4,
 "nbformat_minor": 2
}
