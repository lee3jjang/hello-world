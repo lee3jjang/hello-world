{
 "cells": [
  {
   "cell_type": "code",
   "execution_count": 1,
   "metadata": {},
   "outputs": [],
   "source": [
    "from selenium import webdriver\n",
    "from selenium.webdriver.support.ui import Select\n",
    "import pandas as pd\n",
    "import numpy as np\n",
    "import sqlite3\n",
    "pd.options.display.float_format = '{:,.1f}'.format"
   ]
  },
  {
   "cell_type": "code",
   "execution_count": 2,
   "metadata": {},
   "outputs": [],
   "source": [
    "# 드라이버 설정\n",
    "options = webdriver.ChromeOptions()\n",
    "options.add_argument('headless')\n",
    "options.add_argument('disable-gpu')\n",
    "driver = webdriver.Chrome('C:/Users/noilkwon/dev/기타/chromedriver.exe', chrome_options=options)"
   ]
  },
  {
   "cell_type": "code",
   "execution_count": 3,
   "metadata": {},
   "outputs": [],
   "source": [
    "# DB 생성\n",
    "conn = sqlite3.connect('auction.db')\n",
    "cur = conn.cursor()"
   ]
  },
  {
   "cell_type": "code",
   "execution_count": 4,
   "metadata": {},
   "outputs": [
    {
     "data": {
      "text/plain": [
       "<sqlite3.Cursor at 0x8b90490>"
      ]
     },
     "execution_count": 4,
     "metadata": {},
     "output_type": "execute_result"
    }
   ],
   "source": [
    "# 테이블 생성\n",
    "#cur.execute('create table 경매(사건번호, 소재지, 가격, 매각기일, 진행상태, 조회수)')\n",
    "#cur.execute('drop table 경매')\n",
    "cur.execute('delete from 경매')"
   ]
  },
  {
   "cell_type": "code",
   "execution_count": 5,
   "metadata": {},
   "outputs": [],
   "source": [
    "# 홈페이지 접속\n",
    "url = r'http://www.courtauction.co.kr/maemul/search_total.asp'\n",
    "driver.get(url)"
   ]
  },
  {
   "cell_type": "code",
   "execution_count": 6,
   "metadata": {},
   "outputs": [],
   "source": [
    "# 매각기일\n",
    "selector = ['table#Table1','tbody','tr:nth-of-type(2)','td','#Table4','tbody','tr','td:nth-of-type(2)','input#sdate']\n",
    "selector = ' > '.join(selector)\n",
    "driver.find_element_by_css_selector(selector).clear()\n",
    "driver.find_element_by_css_selector(selector).send_keys('2000-01-01')"
   ]
  },
  {
   "cell_type": "code",
   "execution_count": 7,
   "metadata": {},
   "outputs": [],
   "source": [
    "# 소재지\n",
    "select = Select(driver.find_element_by_id('sido'))\n",
    "select.select_by_visible_text('서울')"
   ]
  },
  {
   "cell_type": "code",
   "execution_count": 8,
   "metadata": {},
   "outputs": [],
   "source": [
    "# 용도 복수선택\n",
    "driver.find_element_by_id('Checkbox8').click()"
   ]
  },
  {
   "cell_type": "code",
   "execution_count": 9,
   "metadata": {},
   "outputs": [],
   "source": [
    "# 정렬방식\n",
    "select = Select(driver.find_element_by_id('sort'))\n",
    "select.select_by_value('1')"
   ]
  },
  {
   "cell_type": "code",
   "execution_count": 10,
   "metadata": {},
   "outputs": [],
   "source": [
    "# 버튼 클릭\n",
    "driver.find_element_by_id('search').click()"
   ]
  },
  {
   "cell_type": "code",
   "execution_count": null,
   "metadata": {},
   "outputs": [],
   "source": [
    "# 함수 정의\n",
    "def getText(row,col):\n",
    "    selector = ['#Table22','tbody','tr:nth-of-type('+str(row)+')','td:nth-of-type('+str(col)+')']\n",
    "    selector = ' > '.join(selector)\n",
    "    text = driver.find_element_by_css_selector(selector).text\n",
    "    return text\n",
    "\n",
    "def getPage():\n",
    "    data = []\n",
    "    for r in np.arange(6,45,2):\n",
    "        values = []\n",
    "        # 사건번호, 소재지, 가격, 매각기일, 진행상태, 조회수\n",
    "        for c in [2,4,5,6,7,8]:   \n",
    "            values.append(getText(r,c))\n",
    "        data.append(values)\n",
    "    return data"
   ]
  },
  {
   "cell_type": "code",
   "execution_count": null,
   "metadata": {},
   "outputs": [
    {
     "name": "stdout",
     "output_type": "stream",
     "text": [
      "1번째 페이지 적재\n"
     ]
    }
   ],
   "source": [
    "# 작업 시작\n",
    "page = 730\n",
    "\n",
    "for i in range(page):\n",
    "    j = i//10\n",
    "    driver.execute_script(\"GoPage(\"+str(j)+\",\"+str(i+1)+\",'board')\")\n",
    "    cur.executemany(\"insert into 경매 values (?,?,?,?,?,?)\", getPage())\n",
    "    if i%10 == 0:\n",
    "        conn.commit()\n",
    "        print(\"{}번째 페이지 적재\".format(i+1))"
   ]
  },
  {
   "cell_type": "code",
   "execution_count": null,
   "metadata": {},
   "outputs": [],
   "source": [
    "# 적재 데이터 출력\n",
    "cur.execute(\"select * from 경매\")\n",
    "rows = cur.fetchall()\n",
    "df = pd.DataFrame(rows, columns=['번호', '소재지', '가격', '매각기일', '진행상태', '조회수'])"
   ]
  },
  {
   "cell_type": "code",
   "execution_count": null,
   "metadata": {},
   "outputs": [],
   "source": [
    "# 중복 데이터 제거\n",
    "u, indices = np.unique(df['번호'], return_index=True)\n",
    "indices.sort()\n",
    "df = df.iloc[indices,:]"
   ]
  },
  {
   "cell_type": "code",
   "execution_count": null,
   "metadata": {},
   "outputs": [],
   "source": [
    "# 번호 분리\n",
    "df['법원'] = df['번호'].str.split('\\n').str.get(0)\n",
    "df['사건번호'] = df['번호'].str.split('\\n').str.get(1)\n",
    "df['용도'] = df['번호'].str.split('\\n').str.get(2)"
   ]
  },
  {
   "cell_type": "code",
   "execution_count": null,
   "metadata": {},
   "outputs": [],
   "source": [
    "# 가격 분리 \n",
    "df['감정가'] = df['가격'].str.split('\\n').str.get(0)\n",
    "df['최저입찰가'] = df['가격'].str.split('\\n').str.get(1)\n",
    "df['최저입찰가율'] = df['가격'].str.split('\\n').str.get(2)\n",
    "\n",
    "# 형(Type) 변환\n",
    "df['최저입찰가'] = df['최저입찰가'].str.replace(',','').astype(float)\n",
    "df['감정가'] = df['감정가'].str.replace(',','').astype(float)\n",
    "df['최저입찰가율'] = df['최저입찰가율'].str.replace('%','').astype(float)"
   ]
  },
  {
   "cell_type": "code",
   "execution_count": null,
   "metadata": {},
   "outputs": [],
   "source": [
    "# 매각기일 추출\n",
    "df['매각일'] = df['매각기일'].str.split('\\n').str.get(0)"
   ]
  },
  {
   "cell_type": "code",
   "execution_count": null,
   "metadata": {},
   "outputs": [],
   "source": [
    "# 소재지 추출\n",
    "df['주소'] = df['소재지'].str.split('\\n').str.get(0)\n",
    "df['면적'] = df['소재지'].str.split('\\n').str.get(1)"
   ]
  },
  {
   "cell_type": "code",
   "execution_count": null,
   "metadata": {},
   "outputs": [],
   "source": [
    "# 기타정보 추출\n",
    "# 건물이랑 토지 바뀌어서 들어가는 거 처리해야 함\n",
    "# 문자에서 숫자만 추출해야 함\n",
    "df['건물'] = df['면적'].str.split(' ').str.get(0)\n",
    "df['토지'] = df['면적'].str.split(' ').str.get(1)\n",
    "df['키1'] = df['면적'].str.split(' ').str.get(2)\n",
    "df['키2'] = df['면적'].str.split(' ').str.get(3)\n",
    "df['임시1'] = df['면적'].str.split(' ').str.get(4)\n",
    "df['임시2'] = df['면적'].str.split(' ').str.get(5)\n",
    "df.loc[df['임시1'].notnull(),['키1','키2']] = df.loc[df['임시1'].notnull(),['임시1','임시2']]\n",
    "df.loc[df['키1']=='','키1'] = np.nan\n",
    "df.loc[df['키2']=='','키2'] = np.nan"
   ]
  },
  {
   "cell_type": "code",
   "execution_count": null,
   "metadata": {},
   "outputs": [],
   "source": [
    "# 진행상태 추출\n",
    "df['진행'] = df['진행상태'].str.split('\\n').str.get(0)\n",
    "df['유찰횟수'] = df['진행상태'].str.split('\\n').str.get(1).str.extract('유찰(\\d)회', expand=True)\n",
    "df.loc[(df['유찰횟수'].isna()) & (df['진행']=='진행'),'유찰횟수'] = 0"
   ]
  },
  {
   "cell_type": "code",
   "execution_count": null,
   "metadata": {},
   "outputs": [],
   "source": [
    "df = df[['법원','사건번호','용도','감정가','최저입찰가','매각일','주소','건물','토지','키1','키2','진행','유찰횟수']]\n",
    "df.head()"
   ]
  }
 ],
 "metadata": {
  "kernelspec": {
   "display_name": "Python 3",
   "language": "python",
   "name": "python3"
  },
  "language_info": {
   "codemirror_mode": {
    "name": "ipython",
    "version": 3
   },
   "file_extension": ".py",
   "mimetype": "text/x-python",
   "name": "python",
   "nbconvert_exporter": "python",
   "pygments_lexer": "ipython3",
   "version": "3.6.4"
  }
 },
 "nbformat": 4,
 "nbformat_minor": 2
}
