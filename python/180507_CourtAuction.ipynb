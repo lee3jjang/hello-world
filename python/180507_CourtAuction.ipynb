{
 "cells": [
  {
   "cell_type": "code",
   "execution_count": 1,
   "metadata": {},
   "outputs": [],
   "source": [
    "from selenium import webdriver\n",
    "from selenium.webdriver.support.ui import Select\n",
    "import pandas as pd\n",
    "import numpy as np\n",
    "import sqlite3\n",
    "pd.options.display.float_format = '{:,.1f}'.format"
   ]
  },
  {
   "cell_type": "code",
   "execution_count": 2,
   "metadata": {},
   "outputs": [],
   "source": [
    "# 드라이버 설정\n",
    "options = webdriver.ChromeOptions()\n",
    "options.add_argument('headless')\n",
    "options.add_argument('disable-gpu')\n",
    "driver = webdriver.Chrome('C:/Users/noilkwon/dev/기타/chromedriver.exe', chrome_options=options)"
   ]
  },
  {
   "cell_type": "code",
   "execution_count": 3,
   "metadata": {},
   "outputs": [],
   "source": [
    "# DB 생성\n",
    "conn = sqlite3.connect('auction.db')\n",
    "cur = conn.cursor()"
   ]
  },
  {
   "cell_type": "code",
   "execution_count": 4,
   "metadata": {},
   "outputs": [
    {
     "data": {
      "text/plain": [
       "<sqlite3.Cursor at 0x8b90490>"
      ]
     },
     "execution_count": 4,
     "metadata": {},
     "output_type": "execute_result"
    }
   ],
   "source": [
    "# 테이블 생성\n",
    "#cur.execute('create table 경매(사건번호, 소재지, 가격, 매각기일, 진행상태, 조회수)')\n",
    "#cur.execute('drop table 경매')\n",
    "cur.execute('delete from 경매')"
   ]
  },
  {
   "cell_type": "code",
   "execution_count": 5,
   "metadata": {},
   "outputs": [],
   "source": [
    "# 홈페이지 접속\n",
    "url = r'http://www.courtauction.co.kr/maemul/search_total.asp'\n",
    "driver.get(url)"
   ]
  },
  {
   "cell_type": "code",
   "execution_count": 6,
   "metadata": {},
   "outputs": [],
   "source": [
    "# 매각기일\n",
    "selector = ['table#Table1','tbody','tr:nth-of-type(2)','td','#Table4','tbody','tr','td:nth-of-type(2)','input#sdate']\n",
    "selector = ' > '.join(selector)\n",
    "driver.find_element_by_css_selector(selector).clear()\n",
    "driver.find_element_by_css_selector(selector).send_keys('2000-01-01')"
   ]
  },
  {
   "cell_type": "code",
   "execution_count": 7,
   "metadata": {},
   "outputs": [],
   "source": [
    "# 소재지\n",
    "select = Select(driver.find_element_by_id('sido'))\n",
    "select.select_by_visible_text('서울')"
   ]
  },
  {
   "cell_type": "code",
   "execution_count": 8,
   "metadata": {},
   "outputs": [],
   "source": [
    "# 용도 복수선택\n",
    "driver.find_element_by_id('Checkbox8').click()"
   ]
  },
  {
   "cell_type": "code",
   "execution_count": 9,
   "metadata": {},
   "outputs": [],
   "source": [
    "# 정렬방식\n",
    "select = Select(driver.find_element_by_id('sort'))\n",
    "select.select_by_value('1')"
   ]
  },
  {
   "cell_type": "code",
   "execution_count": 10,
   "metadata": {},
   "outputs": [],
   "source": [
    "# 버튼 클릭\n",
    "driver.find_element_by_id('search').click()"
   ]
  },
  {
   "cell_type": "code",
   "execution_count": 11,
   "metadata": {},
   "outputs": [],
   "source": [
    "# 함수 정의\n",
    "def getText(row,col):\n",
    "    selector = ['#Table22','tbody','tr:nth-of-type('+str(row)+')','td:nth-of-type('+str(col)+')']\n",
    "    selector = ' > '.join(selector)\n",
    "    text = driver.find_element_by_css_selector(selector).text\n",
    "    return text\n",
    "\n",
    "def getPage():\n",
    "    data = []\n",
    "    for r in np.arange(6,45,2):\n",
    "        values = []\n",
    "        # 사건번호, 소재지, 가격, 매각기일, 진행상태, 조회수\n",
    "        for c in [2,4,5,6,7,8]:   \n",
    "            values.append(getText(r,c))\n",
    "        data.append(values)\n",
    "    return data"
   ]
  },
  {
   "cell_type": "code",
   "execution_count": 12,
   "metadata": {},
   "outputs": [
    {
     "name": "stdout",
     "output_type": "stream",
     "text": [
      "1번째 페이지 적재\n",
      "11번째 페이지 적재\n",
      "21번째 페이지 적재\n",
      "31번째 페이지 적재\n",
      "41번째 페이지 적재\n",
      "51번째 페이지 적재\n",
      "61번째 페이지 적재\n",
      "71번째 페이지 적재\n",
      "81번째 페이지 적재\n",
      "91번째 페이지 적재\n",
      "101번째 페이지 적재\n",
      "111번째 페이지 적재\n",
      "121번째 페이지 적재\n",
      "131번째 페이지 적재\n",
      "141번째 페이지 적재\n",
      "151번째 페이지 적재\n",
      "161번째 페이지 적재\n",
      "171번째 페이지 적재\n",
      "181번째 페이지 적재\n",
      "191번째 페이지 적재\n",
      "201번째 페이지 적재\n",
      "211번째 페이지 적재\n",
      "221번째 페이지 적재\n",
      "231번째 페이지 적재\n",
      "241번째 페이지 적재\n",
      "251번째 페이지 적재\n",
      "261번째 페이지 적재\n",
      "271번째 페이지 적재\n",
      "281번째 페이지 적재\n",
      "291번째 페이지 적재\n",
      "301번째 페이지 적재\n",
      "311번째 페이지 적재\n",
      "321번째 페이지 적재\n",
      "331번째 페이지 적재\n",
      "341번째 페이지 적재\n",
      "351번째 페이지 적재\n",
      "361번째 페이지 적재\n",
      "371번째 페이지 적재\n",
      "381번째 페이지 적재\n",
      "391번째 페이지 적재\n",
      "401번째 페이지 적재\n",
      "411번째 페이지 적재\n",
      "421번째 페이지 적재\n",
      "431번째 페이지 적재\n",
      "441번째 페이지 적재\n",
      "451번째 페이지 적재\n",
      "461번째 페이지 적재\n",
      "471번째 페이지 적재\n",
      "481번째 페이지 적재\n",
      "491번째 페이지 적재\n",
      "501번째 페이지 적재\n",
      "511번째 페이지 적재\n",
      "521번째 페이지 적재\n",
      "531번째 페이지 적재\n",
      "541번째 페이지 적재\n",
      "551번째 페이지 적재\n",
      "561번째 페이지 적재\n",
      "571번째 페이지 적재\n",
      "581번째 페이지 적재\n",
      "591번째 페이지 적재\n",
      "601번째 페이지 적재\n",
      "611번째 페이지 적재\n",
      "621번째 페이지 적재\n",
      "631번째 페이지 적재\n",
      "641번째 페이지 적재\n",
      "651번째 페이지 적재\n",
      "661번째 페이지 적재\n",
      "671번째 페이지 적재\n",
      "681번째 페이지 적재\n",
      "691번째 페이지 적재\n",
      "701번째 페이지 적재\n",
      "711번째 페이지 적재\n",
      "721번째 페이지 적재\n"
     ]
    }
   ],
   "source": [
    "# 작업 시작\n",
    "page = 730\n",
    "\n",
    "for i in range(page):\n",
    "    j = i//10\n",
    "    driver.execute_script(\"GoPage(\"+str(j)+\",\"+str(i+1)+\",'board')\")\n",
    "    cur.executemany(\"insert into 경매 values (?,?,?,?,?,?)\", getPage())\n",
    "    if i%10 == 0:\n",
    "        conn.commit()\n",
    "        print(\"{}번째 페이지 적재\".format(i+1))\n",
    "        \n",
    "conn.commit()"
   ]
  },
  {
   "cell_type": "code",
   "execution_count": 68,
   "metadata": {},
   "outputs": [],
   "source": [
    "# 적재 데이터 출력\n",
    "cur.execute(\"select * from 경매\")\n",
    "rows = cur.fetchall()\n",
    "df = pd.DataFrame(rows, columns=['번호', '소재지', '가격', '매각기일', '진행상태', '조회수'])"
   ]
  },
  {
   "cell_type": "code",
   "execution_count": 69,
   "metadata": {},
   "outputs": [],
   "source": [
    "# 중복 데이터 제거\n",
    "u, indices = np.unique(df['번호'], return_index=True)\n",
    "indices.sort()\n",
    "df = df.iloc[indices,:]"
   ]
  },
  {
   "cell_type": "code",
   "execution_count": 70,
   "metadata": {},
   "outputs": [],
   "source": [
    "# 번호 분리\n",
    "df['법원'] = df['번호'].str.split('\\n').str.get(0)\n",
    "df['사건번호'] = df['번호'].str.split('\\n').str.get(1)\n",
    "df['용도'] = df['번호'].str.split('\\n').str.get(2)"
   ]
  },
  {
   "cell_type": "code",
   "execution_count": 71,
   "metadata": {},
   "outputs": [],
   "source": [
    "# 가격 분리 \n",
    "df['감정가'] = df['가격'].str.split('\\n').str.get(0)\n",
    "df['최저입찰가'] = df['가격'].str.split('\\n').str.get(1)\n",
    "df['최저입찰가율'] = df['가격'].str.split('\\n').str.get(2)\n",
    "\n",
    "# 형(Type) 변환\n",
    "df['최저입찰가'] = df['최저입찰가'].str.replace(',','').astype(float)\n",
    "df['감정가'] = df['감정가'].str.replace(',','').astype(float)\n",
    "df['최저입찰가율'] = df['최저입찰가율'].str.replace('%','').astype(float)"
   ]
  },
  {
   "cell_type": "code",
   "execution_count": 72,
   "metadata": {},
   "outputs": [],
   "source": [
    "# 매각기일 추출\n",
    "df['매각일'] = df['매각기일'].str.split('\\n').str.get(0)"
   ]
  },
  {
   "cell_type": "code",
   "execution_count": 73,
   "metadata": {},
   "outputs": [],
   "source": [
    "# 소재지 추출\n",
    "df['주소'] = df['소재지'].str.split('\\n').str.get(0)\n",
    "df['면적'] = df['소재지'].str.split('\\n').str.get(1)\n",
    "df['시'] = df['주소'].str.split(' ').str.get(0)\n",
    "df['구'] = df['주소'].str.split(' ').str.get(1)\n",
    "df['동'] = df['주소'].str.split(' ').str.get(2)"
   ]
  },
  {
   "cell_type": "code",
   "execution_count": 74,
   "metadata": {},
   "outputs": [],
   "source": [
    "# 기타정보 추출\n",
    "# 건물이랑 토지 바뀌어서 들어가는 거 처리해야 함\n",
    "# 문자에서 숫자만 추출해야 함\n",
    "df['건물'] = df['면적'].str.split(' ').str.get(0)\n",
    "df['토지'] = df['면적'].str.split(' ').str.get(1)\n",
    "df['키1'] = df['면적'].str.split(' ').str.get(2)\n",
    "df['키2'] = df['면적'].str.split(' ').str.get(3)\n",
    "df['임시1'] = df['면적'].str.split(' ').str.get(4)\n",
    "df['임시2'] = df['면적'].str.split(' ').str.get(5)\n",
    "df.loc[df['임시1'].notnull(),['키1','키2']] = df.loc[df['임시1'].notnull(),['임시1','임시2']]\n",
    "df.loc[df['키1']=='','키1'] = np.nan\n",
    "df.loc[df['키2']=='','키2'] = np.nan\n",
    "\n",
    "# 오류 수정\n",
    "df.loc[df['사건번호']=='2012-2689[1]','토지'] = df.loc[df['사건번호']=='2012-2689[1]','건물']\n",
    "df.loc[df['사건번호']=='2011-20696[2]','토지'] = df.loc[df['사건번호']=='2012-2689[1]','건물']\n",
    "df.loc[df['사건번호']=='2012-2689[1]','토지'] = np.nan\n",
    "df.loc[df['사건번호']=='2012-2689[1]','토지'] = np.nan\n",
    "df['건물'] = df['건물'].str.extract('건물(\\d+.?\\d?)평', expand=False).astype('float')\n",
    "df['토지'] = df['토지'].str.extract('토지(\\d+.?\\d?)평', expand=False).astype('float')"
   ]
  },
  {
   "cell_type": "code",
   "execution_count": 75,
   "metadata": {},
   "outputs": [],
   "source": [
    "# 진행상태 추출\n",
    "df['진행'] = df['진행상태'].str.split('\\n').str.get(0)\n",
    "df['유찰횟수'] = df['진행상태'].str.split('\\n').str.get(1).str.extract('유찰(\\d)회', expand=True)\n",
    "df.loc[(df['유찰횟수'].isna()) & (df['진행']=='진행'),'유찰횟수'] = 0"
   ]
  },
  {
   "cell_type": "code",
   "execution_count": 77,
   "metadata": {},
   "outputs": [
    {
     "data": {
      "text/html": [
       "<div>\n",
       "<style scoped>\n",
       "    .dataframe tbody tr th:only-of-type {\n",
       "        vertical-align: middle;\n",
       "    }\n",
       "\n",
       "    .dataframe tbody tr th {\n",
       "        vertical-align: top;\n",
       "    }\n",
       "\n",
       "    .dataframe thead th {\n",
       "        text-align: right;\n",
       "    }\n",
       "</style>\n",
       "<table border=\"1\" class=\"dataframe\">\n",
       "  <thead>\n",
       "    <tr style=\"text-align: right;\">\n",
       "      <th></th>\n",
       "      <th>법원</th>\n",
       "      <th>사건번호</th>\n",
       "      <th>용도</th>\n",
       "      <th>감정가</th>\n",
       "      <th>최저입찰가</th>\n",
       "      <th>매각일</th>\n",
       "      <th>주소</th>\n",
       "      <th>건물</th>\n",
       "      <th>토지</th>\n",
       "      <th>키1</th>\n",
       "      <th>키2</th>\n",
       "      <th>진행</th>\n",
       "      <th>유찰횟수</th>\n",
       "    </tr>\n",
       "  </thead>\n",
       "  <tbody>\n",
       "    <tr>\n",
       "      <th>0</th>\n",
       "      <td>서울중앙지법6계</td>\n",
       "      <td>2016-9088[1]</td>\n",
       "      <td>근린상가</td>\n",
       "      <td>80,000,000.0</td>\n",
       "      <td>13,422,000.0</td>\n",
       "      <td>2018-06-27</td>\n",
       "      <td>서울 중구 을지로6가 18-21 ,-220,-221 굿모닝시티쇼핑몰 2층 F2014...</td>\n",
       "      <td>1.1</td>\n",
       "      <td>0.3</td>\n",
       "      <td>NaN</td>\n",
       "      <td>NaN</td>\n",
       "      <td>진행</td>\n",
       "      <td>8</td>\n",
       "    </tr>\n",
       "    <tr>\n",
       "      <th>1</th>\n",
       "      <td>서울중앙지법6계</td>\n",
       "      <td>2016-12916[1]</td>\n",
       "      <td>근린상가</td>\n",
       "      <td>43,000,000.0</td>\n",
       "      <td>7,214,000.0</td>\n",
       "      <td>2018-06-27</td>\n",
       "      <td>서울 중구 을지로6가 18-21 ,-220,-221 굿모닝시티쇼핑몰 7층 F7189...</td>\n",
       "      <td>1.1</td>\n",
       "      <td>0.3</td>\n",
       "      <td>NaN</td>\n",
       "      <td>NaN</td>\n",
       "      <td>진행</td>\n",
       "      <td>8</td>\n",
       "    </tr>\n",
       "    <tr>\n",
       "      <th>2</th>\n",
       "      <td>서울중앙지법6계</td>\n",
       "      <td>2017-10412[1]</td>\n",
       "      <td>근린상가</td>\n",
       "      <td>300,000,000.0</td>\n",
       "      <td>192,000,000.0</td>\n",
       "      <td>2018-06-27</td>\n",
       "      <td>서울 서초구 양재동 275-2 윈드스톤호피스텔 지하1층 148호 [논현로 79]</td>\n",
       "      <td>29.4</td>\n",
       "      <td>6.4</td>\n",
       "      <td>NaN</td>\n",
       "      <td>NaN</td>\n",
       "      <td>진행</td>\n",
       "      <td>2</td>\n",
       "    </tr>\n",
       "    <tr>\n",
       "      <th>3</th>\n",
       "      <td>서울중앙지법6계</td>\n",
       "      <td>2017-105389[1]</td>\n",
       "      <td>근린상가</td>\n",
       "      <td>171,163,400.0</td>\n",
       "      <td>136,931,000.0</td>\n",
       "      <td>2018-06-27</td>\n",
       "      <td>서울 중구 산림동 90-4 외1 [청계천로 168]</td>\n",
       "      <td>1.1</td>\n",
       "      <td>1.8</td>\n",
       "      <td>NaN</td>\n",
       "      <td>NaN</td>\n",
       "      <td>진행</td>\n",
       "      <td>1</td>\n",
       "    </tr>\n",
       "    <tr>\n",
       "      <th>4</th>\n",
       "      <td>서울남부지법10계</td>\n",
       "      <td>2017-1124[1]</td>\n",
       "      <td>근린상가</td>\n",
       "      <td>146,000,000.0</td>\n",
       "      <td>38,274,000.0</td>\n",
       "      <td>2018-06-19</td>\n",
       "      <td>서울 구로구 구로동 3-25 신도림테크노마트 3층 289호 외1 [새말로 97]</td>\n",
       "      <td>6.2</td>\n",
       "      <td>1.4</td>\n",
       "      <td>NaN</td>\n",
       "      <td>NaN</td>\n",
       "      <td>진행</td>\n",
       "      <td>6</td>\n",
       "    </tr>\n",
       "  </tbody>\n",
       "</table>\n",
       "</div>"
      ],
      "text/plain": [
       "          법원            사건번호    용도           감정가         최저입찰가         매각일  \\\n",
       "0   서울중앙지법6계    2016-9088[1]  근린상가  80,000,000.0  13,422,000.0  2018-06-27   \n",
       "1   서울중앙지법6계   2016-12916[1]  근린상가  43,000,000.0   7,214,000.0  2018-06-27   \n",
       "2   서울중앙지법6계   2017-10412[1]  근린상가 300,000,000.0 192,000,000.0  2018-06-27   \n",
       "3   서울중앙지법6계  2017-105389[1]  근린상가 171,163,400.0 136,931,000.0  2018-06-27   \n",
       "4  서울남부지법10계    2017-1124[1]  근린상가 146,000,000.0  38,274,000.0  2018-06-19   \n",
       "\n",
       "                                                  주소   건물  토지   키1   키2  진행  \\\n",
       "0  서울 중구 을지로6가 18-21 ,-220,-221 굿모닝시티쇼핑몰 2층 F2014...  1.1 0.3  NaN  NaN  진행   \n",
       "1  서울 중구 을지로6가 18-21 ,-220,-221 굿모닝시티쇼핑몰 7층 F7189...  1.1 0.3  NaN  NaN  진행   \n",
       "2       서울 서초구 양재동 275-2 윈드스톤호피스텔 지하1층 148호 [논현로 79] 29.4 6.4  NaN  NaN  진행   \n",
       "3                       서울 중구 산림동 90-4 외1 [청계천로 168]  1.1 1.8  NaN  NaN  진행   \n",
       "4       서울 구로구 구로동 3-25 신도림테크노마트 3층 289호 외1 [새말로 97]  6.2 1.4  NaN  NaN  진행   \n",
       "\n",
       "  유찰횟수  \n",
       "0    8  \n",
       "1    8  \n",
       "2    2  \n",
       "3    1  \n",
       "4    6  "
      ]
     },
     "execution_count": 77,
     "metadata": {},
     "output_type": "execute_result"
    }
   ],
   "source": [
    "df = df[['법원','사건번호','용도','감정가','최저입찰가','매각일','주소','시','구','동','건물','토지','키1','키2','진행','유찰횟수']]\n",
    "df.head()"
   ]
  },
  {
   "cell_type": "code",
   "execution_count": 79,
   "metadata": {},
   "outputs": [],
   "source": [
    "writer = pd.ExcelWriter('auction.xlsx', engine='xlsxwriter')\n",
    "df.to_excel(writer, sheet_name='Sheet1', index=False)\n",
    "writer.save()"
   ]
  }
 ],
 "metadata": {
  "kernelspec": {
   "display_name": "Python 3",
   "language": "python",
   "name": "python3"
  },
  "language_info": {
   "codemirror_mode": {
    "name": "ipython",
    "version": 3
   },
   "file_extension": ".py",
   "mimetype": "text/x-python",
   "name": "python",
   "nbconvert_exporter": "python",
   "pygments_lexer": "ipython3",
   "version": "3.6.4"
  }
 },
 "nbformat": 4,
 "nbformat_minor": 2
}
