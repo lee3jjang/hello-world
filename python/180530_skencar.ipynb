{
 "cells": [
  {
   "cell_type": "code",
   "execution_count": 47,
   "metadata": {},
   "outputs": [],
   "source": [
    "from selenium import webdriver\n",
    "from selenium.webdriver.support.ui import Select\n",
    "import pandas as pd\n",
    "import numpy as np\n",
    "import sqlite3\n",
    "import time\n",
    "pd.options.display.float_format = '{:,.1f}'.format"
   ]
  },
  {
   "cell_type": "code",
   "execution_count": 48,
   "metadata": {},
   "outputs": [],
   "source": [
    "# 드라이버 객체 생성\n",
    "options = webdriver.ChromeOptions()\n",
    "#options.add_argument('headless')\n",
    "#options.add_argument('diable-gpu')\n",
    "driver = webdriver.Chrome('chromedriver.exe', chrome_options=options)"
   ]
  },
  {
   "cell_type": "code",
   "execution_count": 83,
   "metadata": {},
   "outputs": [],
   "source": [
    "# 링크 주소 가져오기# 링크 주소 \n",
    "def getData(n): \n",
    "    row = []\n",
    "    if n < 50:\n",
    "        selector = ['tr[data-index=\"'+str(n)+'\"]','td.inf','a.newLink._link']\n",
    "        selector = ' > '.join(selector)\n",
    "        x = driver.find_element_by_css_selector(selector).get_attribute('href')\n",
    "        row.append(x)\n",
    "        \n",
    "        selector = ['tr[data-index=\"'+str(n)+'\"]','td.inf','a.newLink._link','span.cls','strong']\n",
    "        selector = ' > '.join(selector)\n",
    "        x = driver.find_element_by_css_selector(selector).text\n",
    "        row.append(x)\n",
    "        \n",
    "        selector = ['tr[data-index=\"'+str(n)+'\"]','td.inf','a.newLink._link','span.cls','em']\n",
    "        selector = ' > '.join(selector)\n",
    "        x = driver.find_element_by_css_selector(selector).text\n",
    "        row.append(x)\n",
    "        \n",
    "        selector = ['tr[data-index=\"'+str(n)+'\"]','td.inf','a.newLink._link','span.dtl','strong']\n",
    "        selector = ' > '.join(selector)\n",
    "        x = driver.find_element_by_css_selector(selector).text\n",
    "        row.append(x)\n",
    "        \n",
    "        selector = ['tr[data-index=\"'+str(n)+'\"]','td.inf','a.newLink._link','span.dtl','em']\n",
    "        selector = ' > '.join(selector)\n",
    "        x = driver.find_element_by_css_selector(selector).text\n",
    "        row.append(x)\n",
    "        \n",
    "        selector = ['tr[data-index=\"'+str(n)+'\"]','td.inf','span.detail','span.trs']\n",
    "        selector = ' > '.join(selector)\n",
    "        x = driver.find_element_by_css_selector(selector).text\n",
    "        row.append(x)\n",
    "        \n",
    "        selector = ['tr[data-index=\"'+str(n)+'\"]','td.inf','span.detail','span.fue']\n",
    "        selector = ' > '.join(selector)\n",
    "        x = driver.find_element_by_css_selector(selector).text\n",
    "        row.append(x)\n",
    "        \n",
    "        selector = ['tr[data-index=\"'+str(n)+'\"]','td.yer']\n",
    "        selector = ' > '.join(selector)\n",
    "        x = driver.find_element_by_css_selector(selector).text\n",
    "        row.append(x)\n",
    "        \n",
    "        selector = ['tr[data-index=\"'+str(n)+'\"]','td.km']\n",
    "        selector = ' > '.join(selector)\n",
    "        x = driver.find_element_by_css_selector(selector).text\n",
    "        row.append(x)\n",
    "        \n",
    "        selector = ['tr[data-index=\"'+str(n)+'\"]','td.prc']\n",
    "        selector = ' > '.join(selector)\n",
    "        x = driver.find_element_by_css_selector(selector).text\n",
    "        row.append(x)\n",
    "        \n",
    "        selector = ['tr[data-index=\"'+str(n)+'\"]','td.dat_loc','span:nth-of-type(1)']\n",
    "        selector = ' > '.join(selector)\n",
    "        x = driver.find_element_by_css_selector(selector).text\n",
    "        row.append(x)\n",
    "        \n",
    "        selector = ['tr[data-index=\"'+str(n)+'\"]','td.dat_loc','span:nth-of-type(2)']\n",
    "        selector = ' > '.join(selector)\n",
    "        x = driver.find_element_by_css_selector(selector).text\n",
    "        row.append(x)\n",
    "        \n",
    "        \n",
    "        return row\n",
    "    else:\n",
    "        return None\n",
    "    \n",
    "# 페이지 클릭하기\n",
    "# 아무 페이지나 실행되진 않고 순차적으로 실행해야 함\n",
    "def clickPage(page):\n",
    "    selector = ['a[data-page=\"'+str(page)+'\"]']\n",
    "    selector = ' > '.join(selector)\n",
    "    driver.find_element_by_css_selector(selector).click()"
   ]
  },
  {
   "cell_type": "code",
   "execution_count": 66,
   "metadata": {},
   "outputs": [],
   "source": [
    "# 데이터 적재할 DB 생성\n",
    "conn = sqlite3.connect('skencar.db')\n",
    "cur = conn.cursor()"
   ]
  },
  {
   "cell_type": "code",
   "execution_count": 94,
   "metadata": {},
   "outputs": [
    {
     "data": {
      "text/plain": [
       "<sqlite3.Cursor at 0x88867a0>"
      ]
     },
     "execution_count": 94,
     "metadata": {},
     "output_type": "execute_result"
    }
   ],
   "source": [
    "# 데이터 적재할 테이블 생성\n",
    "cur.execute('drop table cars')\n",
    "cur.execute('create table cars(href,cls1,cls2,dtl1,dtl2,trs,fue,yer,km,prc,dat_loc1,dat_loc2)')\n",
    "cur.execute('delete from cars')"
   ]
  },
  {
   "cell_type": "code",
   "execution_count": 93,
   "metadata": {},
   "outputs": [],
   "source": [
    "# 홈페이지 메인 화면으로 접속\n",
    "url = 'http://www.encar.com/index.do'\n",
    "driver.get(url)\n",
    "\n",
    "# 크롤링 메인 화면으로 접속\n",
    "driver.find_element_by_id('manufact').click()\n",
    "selector = ['#manufactListText','ul:nth-of-type(2)','li','a']\n",
    "selector = ' > '.join(selector)\n",
    "driver.find_element_by_css_selector(selector).click()\n",
    "driver.execute_script(\"goSearch('car')\")\n",
    "time.sleep(2)\n",
    "Select(driver.find_element_by_id('pagerow')).select_by_value('50')"
   ]
  },
  {
   "cell_type": "code",
   "execution_count": null,
   "metadata": {},
   "outputs": [
    {
     "name": "stdout",
     "output_type": "stream",
     "text": [
      "---   1 Page... done ---\n"
     ]
    }
   ],
   "source": [
    "# 링크 긁어오기\n",
    "pages = 111\n",
    "for page in range(1,pages):\n",
    "    if page != 1: clickPage(page)\n",
    "    time.sleep(0.5)\n",
    "    for i in range(50):\n",
    "        cur.execute('insert into cars values (?,?,?,?,?,?,?,?,?,?,?,?)', getData(i))\n",
    "    if page%10 == 1:\n",
    "        print('--- {:3} Page... done ---'.format(page))\n",
    "        conn.commit()"
   ]
  },
  {
   "cell_type": "code",
   "execution_count": null,
   "metadata": {},
   "outputs": [],
   "source": [
    "# 적재한 데이터 출력\n",
    "cur.execute('select * from cars')\n",
    "rows = cur.fetchall()\n",
    "df = pd.DataFrame(rows)"
   ]
  }
 ],
 "metadata": {
  "kernelspec": {
   "display_name": "Python 3",
   "language": "python",
   "name": "python3"
  },
  "language_info": {
   "codemirror_mode": {
    "name": "ipython",
    "version": 3
   },
   "file_extension": ".py",
   "mimetype": "text/x-python",
   "name": "python",
   "nbconvert_exporter": "python",
   "pygments_lexer": "ipython3",
   "version": "3.6.4"
  }
 },
 "nbformat": 4,
 "nbformat_minor": 2
}
