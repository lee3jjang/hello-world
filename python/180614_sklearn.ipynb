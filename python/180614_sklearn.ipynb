{
 "cells": [
  {
   "cell_type": "code",
   "execution_count": 1,
   "metadata": {},
   "outputs": [],
   "source": [
    "import numpy as np"
   ]
  },
  {
   "cell_type": "code",
   "execution_count": 2,
   "metadata": {},
   "outputs": [],
   "source": [
    "X = np.arange(10).reshape(5,-1)\n",
    "y = np.arange(5)"
   ]
  },
  {
   "cell_type": "code",
   "execution_count": 3,
   "metadata": {},
   "outputs": [],
   "source": [
    "from sklearn.model_selection import train_test_split\n",
    "X_train, X_test, y_train, y_test = train_test_split(X, y, test_size=0.33, random_state=180614)"
   ]
  },
  {
   "cell_type": "code",
   "execution_count": 4,
   "metadata": {},
   "outputs": [],
   "source": [
    "N = 5\n",
    "X = np.arange(8*N).reshape(-1, 2) * 10\n",
    "y = np.hstack([np.ones(N), np.ones(N)*2, np.ones(N)*3, np.ones(N)*4])"
   ]
  },
  {
   "cell_type": "code",
   "execution_count": 5,
   "metadata": {},
   "outputs": [
    {
     "name": "stdout",
     "output_type": "stream",
     "text": [
      "train : [ 1  2  3  8  9 10 11 12 14 16 17 18 19]\n",
      "test : [ 0  4  5  6  7 13 15]\n",
      "--------------------------------------------------\n",
      "train : [ 0  4  5  6  7  9 10 11 13 14 15 18 19]\n",
      "test : [ 1  2  3  8 12 16 17]\n",
      "--------------------------------------------------\n",
      "train : [ 0  1  2  3  4  5  6  7  8 12 13 15 16 17]\n",
      "test : [ 9 10 11 14 18 19]\n",
      "--------------------------------------------------\n"
     ]
    }
   ],
   "source": [
    "from sklearn.model_selection import KFold\n",
    "\n",
    "cv = KFold(n_splits=3, shuffle=True, random_state=180614)\n",
    "for train_index, test_index in cv.split(X):\n",
    "    print('train : {}'.format(train_index))\n",
    "    print('test : {}'.format(test_index))\n",
    "    print('-'*50)"
   ]
  },
  {
   "cell_type": "code",
   "execution_count": 6,
   "metadata": {},
   "outputs": [
    {
     "name": "stdout",
     "output_type": "stream",
     "text": [
      "train : [ 1  2  3  4  5  6  7  8  9 10 11 12 13 14 15 16 17 18 19]\n",
      "test : [0]\n",
      "--------------------------------------------------\n",
      "train : [ 0  2  3  4  5  6  7  8  9 10 11 12 13 14 15 16 17 18 19]\n",
      "test : [1]\n",
      "--------------------------------------------------\n",
      "train : [ 0  1  3  4  5  6  7  8  9 10 11 12 13 14 15 16 17 18 19]\n",
      "test : [2]\n",
      "--------------------------------------------------\n",
      "train : [ 0  1  2  4  5  6  7  8  9 10 11 12 13 14 15 16 17 18 19]\n",
      "test : [3]\n",
      "--------------------------------------------------\n",
      "train : [ 0  1  2  3  5  6  7  8  9 10 11 12 13 14 15 16 17 18 19]\n",
      "test : [4]\n",
      "--------------------------------------------------\n",
      "train : [ 0  1  2  3  4  6  7  8  9 10 11 12 13 14 15 16 17 18 19]\n",
      "test : [5]\n",
      "--------------------------------------------------\n",
      "train : [ 0  1  2  3  4  5  7  8  9 10 11 12 13 14 15 16 17 18 19]\n",
      "test : [6]\n",
      "--------------------------------------------------\n",
      "train : [ 0  1  2  3  4  5  6  8  9 10 11 12 13 14 15 16 17 18 19]\n",
      "test : [7]\n",
      "--------------------------------------------------\n",
      "train : [ 0  1  2  3  4  5  6  7  9 10 11 12 13 14 15 16 17 18 19]\n",
      "test : [8]\n",
      "--------------------------------------------------\n",
      "train : [ 0  1  2  3  4  5  6  7  8 10 11 12 13 14 15 16 17 18 19]\n",
      "test : [9]\n",
      "--------------------------------------------------\n",
      "train : [ 0  1  2  3  4  5  6  7  8  9 11 12 13 14 15 16 17 18 19]\n",
      "test : [10]\n",
      "--------------------------------------------------\n",
      "train : [ 0  1  2  3  4  5  6  7  8  9 10 12 13 14 15 16 17 18 19]\n",
      "test : [11]\n",
      "--------------------------------------------------\n",
      "train : [ 0  1  2  3  4  5  6  7  8  9 10 11 13 14 15 16 17 18 19]\n",
      "test : [12]\n",
      "--------------------------------------------------\n",
      "train : [ 0  1  2  3  4  5  6  7  8  9 10 11 12 14 15 16 17 18 19]\n",
      "test : [13]\n",
      "--------------------------------------------------\n",
      "train : [ 0  1  2  3  4  5  6  7  8  9 10 11 12 13 15 16 17 18 19]\n",
      "test : [14]\n",
      "--------------------------------------------------\n",
      "train : [ 0  1  2  3  4  5  6  7  8  9 10 11 12 13 14 16 17 18 19]\n",
      "test : [15]\n",
      "--------------------------------------------------\n",
      "train : [ 0  1  2  3  4  5  6  7  8  9 10 11 12 13 14 15 17 18 19]\n",
      "test : [16]\n",
      "--------------------------------------------------\n",
      "train : [ 0  1  2  3  4  5  6  7  8  9 10 11 12 13 14 15 16 18 19]\n",
      "test : [17]\n",
      "--------------------------------------------------\n",
      "train : [ 0  1  2  3  4  5  6  7  8  9 10 11 12 13 14 15 16 17 19]\n",
      "test : [18]\n",
      "--------------------------------------------------\n",
      "train : [ 0  1  2  3  4  5  6  7  8  9 10 11 12 13 14 15 16 17 18]\n",
      "test : [19]\n",
      "--------------------------------------------------\n"
     ]
    }
   ],
   "source": [
    "from sklearn.model_selection import LeaveOneOut\n",
    "\n",
    "cv = LeaveOneOut()\n",
    "\n",
    "for train_idx, test_idx in cv.split(X):\n",
    "    print('train : {}'.format(train_idx))\n",
    "    print('test : {}'.format(test_idx))\n",
    "    print('-'*50)"
   ]
  },
  {
   "cell_type": "code",
   "execution_count": 7,
   "metadata": {},
   "outputs": [
    {
     "name": "stdout",
     "output_type": "stream",
     "text": [
      "[ 7  0 15  4]\n",
      "[18  8  9  3]\n",
      "[1 6 0 9]\n",
      "[16 17  1  7]\n",
      "[12  8 10 16]\n"
     ]
    }
   ],
   "source": [
    "from sklearn.model_selection import ShuffleSplit\n",
    "\n",
    "cv = ShuffleSplit(n_splits=5, test_size= 0.2, random_state=180614)\n",
    "for train_idx, test_idx in cv.split(X):\n",
    "    print(test_idx)"
   ]
  },
  {
   "cell_type": "code",
   "execution_count": 19,
   "metadata": {},
   "outputs": [
    {
     "data": {
      "image/png": "[encoded data removed]",
      "text/plain": [
       "<matplotlib.figure.Figure at 0x8f89c10>"
      ]
     },
     "metadata": {},
     "output_type": "display_data"
    }
   ],
   "source": [
    "from sklearn.datasets import make_regression\n",
    "import matplotlib.pyplot as plt\n",
    "\n",
    "X, y, coef = make_regression(n_samples=1000, n_features=1, noise=20, coef=True, random_state=0)\n",
    "\n",
    "x_pred = np.linspace(-3,3,100)\n",
    "y_pred = coef*x_pred\n",
    "\n",
    "plt.scatter(X,y, s=2)\n",
    "plt.plot(x_pred, y_pred)\n",
    "plt.show()"
   ]
  },
  {
   "cell_type": "code",
   "execution_count": 30,
   "metadata": {},
   "outputs": [],
   "source": [
    "from sklearn.linear_model import LinearRegression\n",
    "from sklearn.metrics import r2_score\n",
    "\n",
    "model = LinearRegression()\n",
    "cv = KFold(10)\n",
    "\n",
    "scores = np.zeros(10)\n",
    "for i, (train_idx, test_idx) in enumerate(cv.split(X)):\n",
    "    X_train = X[train_idx]\n",
    "    y_train = y[train_idx]\n",
    "    X_test = X[test_idx]\n",
    "    y_test = y[test_idx]\n",
    "    model.fit(X_train, y_train)\n",
    "    y_pred = model.predict(X_test)\n",
    "    scores[i] = r2_score(y_test, y_pred)"
   ]
  },
  {
   "cell_type": "code",
   "execution_count": 34,
   "metadata": {},
   "outputs": [
    {
     "data": {
      "image/png": "[encoded data removed]",
      "text/plain": [
       "<matplotlib.figure.Figure at 0x90afef0>"
      ]
     },
     "metadata": {},
     "output_type": "display_data"
    }
   ],
   "source": [
    "plt.plot(scores, '-o')\n",
    "plt.show()"
   ]
  },
  {
   "cell_type": "code",
   "execution_count": 39,
   "metadata": {},
   "outputs": [
    {
     "data": {
      "text/plain": [
       "array([0.95636425, 0.94908323, 0.93880683, 0.92906829, 0.93119768,\n",
       "       0.95362566, 0.93217768, 0.94308775, 0.94579305, 0.94749884])"
      ]
     },
     "execution_count": 39,
     "metadata": {},
     "output_type": "execute_result"
    }
   ],
   "source": [
    "from sklearn.model_selection import cross_val_score\n",
    "\n",
    "cross_val_score(model, X, y, scoring='r2', cv=cv)"
   ]
  }
 ],
 "metadata": {
  "kernelspec": {
   "display_name": "Python 3",
   "language": "python",
   "name": "python3"
  },
  "language_info": {
   "codemirror_mode": {
    "name": "ipython",
    "version": 3
   },
   "file_extension": ".py",
   "mimetype": "text/x-python",
   "name": "python",
   "nbconvert_exporter": "python",
   "pygments_lexer": "ipython3",
   "version": "3.6.4"
  }
 },
 "nbformat": 4,
 "nbformat_minor": 2
}
