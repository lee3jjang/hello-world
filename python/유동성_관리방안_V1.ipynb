{
 "cells": [
  {
   "cell_type": "code",
   "execution_count": 1,
   "metadata": {},
   "outputs": [],
   "source": [
    "import pandas as pd\n",
    "from datetime import datetime\n",
    "from dateutil.relativedelta import relativedelta"
   ]
  },
  {
   "cell_type": "code",
   "execution_count": 2,
   "metadata": {},
   "outputs": [],
   "source": [
    "pd.options.display.float_format = '{:,.0f}'.format"
   ]
  },
  {
   "cell_type": "code",
   "execution_count": 3,
   "metadata": {},
   "outputs": [],
   "source": [
    "def 사업실적표_불러오기(기준년월, 파일경로='./data/'):\n",
    "    파일경로_수정 = 파일경로\n",
    "    if(파일경로[-1] not in ['\\\\', '/']):\n",
    "        파일경로_수정 = 파일경로_수정+'/'\n",
    "    사업실적표 = pd.read_excel('{}업무보고서_{}.xlsx'.format(파일경로_수정, 기준년월), sheet_name='AI059')\n",
    "    return 사업실적표"
   ]
  },
  {
   "cell_type": "code",
   "execution_count": 4,
   "metadata": {},
   "outputs": [],
   "source": [
    "def 사업실적표_가공하기(사업실적표):\n",
    "    #1. 데이터 가공\n",
    "    사업실적표_인덱스 = 사업실적표.iloc[13:, 0].str.replace('\\r\\n', '').reset_index(drop=True)\n",
    "    사업실적표_인덱스.name = None\n",
    "\n",
    "    사업실적표_컬럼 = 사업실적표.iloc[9,3:].reset_index(drop=True)\n",
    "    사업실적표_컬럼.name = None\n",
    "\n",
    "    사업실적표_가공 = 사업실적표.iloc[13:, 3:].astype(float).fillna(0)\n",
    "    사업실적표_가공.index = 사업실적표_인덱스\n",
    "    사업실적표_가공.columns = 사업실적표_컬럼\n",
    "    \n",
    "    return 사업실적표_가공"
   ]
  },
  {
   "cell_type": "code",
   "execution_count": 5,
   "metadata": {},
   "outputs": [],
   "source": [
    "def 지급보험금보험환급금_식별하기(사업실적표_가공):\n",
    "    #행, 열 키 식별\n",
    "    일반 = ['A11', 'A12', 'A14', 'A151', 'A156', 'A152', 'A153', 'A157', 'A154', 'A155', 'A18', 'A16', 'A17', 'A4']\n",
    "    자동차 = ['A13']\n",
    "    장기 = ['A21', 'A22', 'A23', 'A29', 'B']\n",
    "    지급보험금 = ['F1', 'F2']\n",
    "    보험환급금 = ['F4', 'F5', 'F12']\n",
    "    \n",
    "    #값 계산\n",
    "    지급보험금_보험환급금_일반 = 사업실적표_가공.loc[일반, 지급보험금+보험환급금].sum()\n",
    "    지급보험금_일반 = 지급보험금_보험환급금_일반['F1'] - 지급보험금_보험환급금_일반['F2']\n",
    "    보험환급금_일반 = 지급보험금_보험환급금_일반[보험환급금].sum()\n",
    "    지급보험금_보험환급금_장기 = 사업실적표_가공.loc[장기, 지급보험금+보험환급금].sum()\n",
    "    지급보험금_장기 = 지급보험금_보험환급금_장기['F1'] - 지급보험금_보험환급금_장기['F2']\n",
    "    보험환급금_장기 = 지급보험금_보험환급금_장기[보험환급금].sum()\n",
    "    지급보험금_보험환급금_자동차 = 사업실적표_가공.loc[자동차, 지급보험금+보험환급금].sum()\n",
    "    지급보험금_자동차 = 지급보험금_보험환급금_자동차['F1'] - 지급보험금_보험환급금_자동차['F2']\n",
    "    보험환급금_자동차 = 지급보험금_보험환급금_자동차[보험환급금].sum()\n",
    "    보험환급금_전체 = 보험환급금_일반 + 보험환급금_장기 + 보험환급금_자동차\n",
    "    지급보험금_전체 = 지급보험금_일반 + 지급보험금_장기 + 지급보험금_자동차\n",
    "    \n",
    "    # 집계\n",
    "    지급보험금_보험환급금_집계 = pd.Series([보험환급금_일반, 보험환급금_장기, 보험환급금_자동차, 보험환급금_전체, 지급보험금_일반, 지급보험금_장기, 지급보험금_자동차, 지급보험금_전체], index=['보험환급금_일반', '보험환급금_장기', '보험환급금_자동차', '보험환급금_전체', '지급보험금_일반', '지급보험금_장기', '지급보험금_자동차', '지급보험금_전체']).to_frame().T\n",
    "    return 지급보험금_보험환급금_집계"
   ]
  },
  {
   "cell_type": "code",
   "execution_count": 6,
   "metadata": {},
   "outputs": [],
   "source": [
    "def 기준년월_생성하기(시작년월, 종료년월, 주기):\n",
    "    시작 = datetime(int(시작년월[:4]), int(시작년월[-2:]), 1)\n",
    "    종료 = datetime(int(종료년월[:4]), int(종료년월[-2:]), 1)\n",
    "    기준년월 = 시작\n",
    "    기준년월_전체 = []\n",
    "    while(기준년월 <= 종료):\n",
    "        기준년월_전체.append(기준년월.strftime('%Y%m'))\n",
    "        기준년월 = 기준년월 + relativedelta(months=주기)\n",
    "    \n",
    "    return 기준년월_전체"
   ]
  },
  {
   "cell_type": "code",
   "execution_count": 7,
   "metadata": {},
   "outputs": [],
   "source": [
    "def 지급보험금보험환급금_생성하기(시작년월, 종료년월, 주기=1):\n",
    "    기준년월_전체 = 기준년월_생성하기(시작년월, 종료년월, 주기)\n",
    "\n",
    "    지급보험금_보험환급금_누적 = []\n",
    "    for 기준년월 in 기준년월_전체:\n",
    "        사업실적표 = 사업실적표_불러오기(기준년월)\n",
    "        사업실적표_가공 = 사업실적표_가공하기(사업실적표)\n",
    "        지급보험금_보험환급금 = 지급보험금보험환급금_식별하기(사업실적표_가공)\n",
    "        지급보험금_보험환급금_수정 = 지급보험금_보험환급금.copy()\n",
    "        지급보험금_보험환급금_수정.index = [기준년월]\n",
    "        지급보험금_보험환급금_누적.append(지급보험금_보험환급금_수정)\n",
    "    지급보험금_보험환급금_누적 = pd.concat(지급보험금_보험환급금_누적)\n",
    "\n",
    "    지급보험금_보험환급금_당월 = 지급보험금_보험환급금_누적.loc[기준년월_전체[1:]]\n",
    "\n",
    "    for i in range(1, len(기준년월_전체)):\n",
    "        기준년월_당월 = 기준년월_전체[i]\n",
    "        기준년월_전월 = 기준년월_전체[i-1]\n",
    "        if int(기준년월_당월[-2:]) == 주기:\n",
    "            continue\n",
    "        지급보험금_보험환급금_당월.loc[기준년월_당월] = 지급보험금_보험환급금_누적.loc[기준년월_당월] - 지급보험금_보험환급금_누적.loc[기준년월_전월]\n",
    "        \n",
    "    return 지급보험금_보험환급금_누적, 지급보험금_보험환급금_당월"
   ]
  },
  {
   "cell_type": "code",
   "execution_count": null,
   "metadata": {},
   "outputs": [],
   "source": [
    "if __name__ == '__main__':\n",
    "    # 기준설정\n",
    "    시작년월 = '201812'\n",
    "    종료년월 = '201903'\n",
    "    주기 = 1\n",
    "    \n",
    "    # 작업\n",
    "    지급보험금_보험환급금_누적, 지급보험금_보험환급금_당월 = 지급보험금보험환급금_생성하기(시작년월, 종료년월, 주기)\n",
    "    \n",
    "    # 결과 출력\n",
    "    writer = pd.ExcelWriter('./result/지급보험금_보험환급금_{}_{}_{}_{}.xlsx'.format(시작년월, 종료년월, 주기, datetime.now().strftime('%Y%m%d%H%M%S')), 'xlsxwriter')\n",
    "    지급보험금_보험환급금_누적.to_excel(writer, '누적')\n",
    "    지급보험금_보험환급금_당월.to_excel(writer, '당월')\n",
    "    writer.save()\n",
    "    writer.close()"
   ]
  },
  {
   "cell_type": "code",
   "execution_count": null,
   "metadata": {},
   "outputs": [],
   "source": [
    "지급보험금_보험환급금_누적"
   ]
  },
  {
   "cell_type": "code",
   "execution_count": null,
   "metadata": {},
   "outputs": [],
   "source": [
    "지급보험금_보험환급금_당월"
   ]
  }
 ],
 "metadata": {
  "kernelspec": {
   "display_name": "Python 3",
   "language": "python",
   "name": "python3"
  },
  "language_info": {
   "codemirror_mode": {
    "name": "ipython",
    "version": 3
   },
   "file_extension": ".py",
   "mimetype": "text/x-python",
   "name": "python",
   "nbconvert_exporter": "python",
   "pygments_lexer": "ipython3",
   "version": "3.7.3"
  }
 },
 "nbformat": 4,
 "nbformat_minor": 2
}
