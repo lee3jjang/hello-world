{
 "cells": [
  {
   "cell_type": "code",
   "execution_count": 222,
   "metadata": {},
   "outputs": [],
   "source": [
    "import numpy as np\n",
    "from scipy import linalg\n",
    "import matplotlib.pyplot as plt"
   ]
  },
  {
   "cell_type": "code",
   "execution_count": 252,
   "metadata": {},
   "outputs": [],
   "source": [
    "def lowess(x,y, f=2/3, iter=3):\n",
    "    m = len(x)\n",
    "    r = int(np.ceil(f*n))\n",
    "    # 각 x점에 대해 25번째로 가까운 점과의 거리를 출력\n",
    "    h = [np.sort(np.abs(x-x[i]))[r] for i in range(n)]\n",
    "    # A(i,j) : 점i와 점j의 거리 점j와 25번째 이상으로 먼 점들은 모두 1처리가 되고 아닌 것들은 25번째 점과의 거리로 나눠짐\n",
    "    w = np.clip(np.abs((x[:,None] - x[None,:])/h),0,1)\n",
    "    # 가까운 거에 가중치가 더 많이 생기게 되고, 1인 값들은 모두 가중치가 0이 됨\n",
    "    w = (1-w**3)**3\n",
    "    yest = np.zeros(n)\n",
    "    delta = np.ones(n)\n",
    "    \n",
    "    X = np.vstack((np.ones_like(x),x)).T\n",
    "    for iteration in range(iter):\n",
    "        for i in range(n):\n",
    "            weights = delta*w[:,i]\n",
    "            beta = np.matmul(np.matmul(np.matmul(linalg.inv(np.matmul(X.T,np.matmul(np.diag(weights),X))),X.T),np.diag(weights)),y)\n",
    "            yest[i] = beta[0] + beta[1]*x[i]\n",
    "\n",
    "        residuals = y - yest\n",
    "        s = np.median(np.abs(residuals))\n",
    "        delta = np.clip(residuals / (2*s),-1,1)\n",
    "        delta = (1 - delta**2)**2\n",
    "        \n",
    "    return yest"
   ]
  },
  {
   "cell_type": "code",
   "execution_count": 264,
   "metadata": {},
   "outputs": [
    {
     "data": {
      "image/png": "[encoded data removed]",
      "text/plain": [
       "<matplotlib.figure.Figure at 0x904eba8>"
      ]
     },
     "metadata": {},
     "output_type": "display_data"
    }
   ],
   "source": [
    "np.random.seed(0)\n",
    "\n",
    "n = 100\n",
    "x = np.linspace(0, 2*np.pi, n)\n",
    "y = np.sin(x) + 0.3*np.random.randn(n)\n",
    "f = 0.1\n",
    "yest = lowess(x,y,f=f,iter=5)\n",
    "plt.scatter(x,y)\n",
    "plt.scatter(x,yest)\n",
    "plt.show()"
   ]
  }
 ],
 "metadata": {
  "kernelspec": {
   "display_name": "Python 3",
   "language": "python",
   "name": "python3"
  },
  "language_info": {
   "codemirror_mode": {
    "name": "ipython",
    "version": 3
   },
   "file_extension": ".py",
   "mimetype": "text/x-python",
   "name": "python",
   "nbconvert_exporter": "python",
   "pygments_lexer": "ipython3",
   "version": "3.6.4"
  }
 },
 "nbformat": 4,
 "nbformat_minor": 2
}
