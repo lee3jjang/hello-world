{
 "cells": [
  {
   "cell_type": "code",
   "execution_count": 2,
   "metadata": {},
   "outputs": [],
   "source": [
    "from selenium import webdriver\n",
    "import pandas as pd\n",
    "import numpy as np\n",
    "driver = webdriver.Chrome(r'C:\\Users\\sangjin\\chromedriver.exe')"
   ]
  },
  {
   "cell_type": "code",
   "execution_count": 5,
   "metadata": {},
   "outputs": [],
   "source": [
    "url = r'http://www.courtauction.co.kr/maemul/search_total.asp'\n",
    "driver.get(url)"
   ]
  },
  {
   "cell_type": "code",
   "execution_count": null,
   "metadata": {},
   "outputs": [
    {
     "name": "stdout",
     "output_type": "stream",
     "text": [
      "1번째 값 적재\n",
      "2번째 값 적재\n",
      "3번째 값 적재\n",
      "4번째 값 적재\n",
      "5번째 값 적재\n",
      "6번째 값 적재\n",
      "7번째 값 적재\n",
      "8번째 값 적재\n",
      "9번째 값 적재\n",
      "10번째 값 적재\n",
      "11번째 값 적재\n",
      "12번째 값 적재\n",
      "13번째 값 적재\n",
      "14번째 값 적재\n",
      "15번째 값 적재\n",
      "16번째 값 적재\n",
      "17번째 값 적재\n",
      "18번째 값 적재\n",
      "19번째 값 적재\n",
      "20번째 값 적재\n",
      "21번째 값 적재\n",
      "22번째 값 적재\n",
      "23번째 값 적재\n",
      "24번째 값 적재\n",
      "25번째 값 적재\n",
      "26번째 값 적재\n",
      "27번째 값 적재\n",
      "28번째 값 적재\n"
     ]
    }
   ],
   "source": [
    "path = 'Table22'\n",
    "result = []\n",
    "\n",
    "for i in range(731):\n",
    "    j = i//10\n",
    "    driver.execute_script(\"GoPage(\"+str(j)+\",\"+str(i+1)+\",'board')\")\n",
    "    raw_text = driver.find_element_by_id(path).text\n",
    "    result.append(raw_text)\n",
    "    print(\"{}번째 값 적재\".format(i+1))"
   ]
  }
 ],
 "metadata": {
  "kernelspec": {
   "display_name": "Python 3",
   "language": "python",
   "name": "python3"
  },
  "language_info": {
   "codemirror_mode": {
    "name": "ipython",
    "version": 3
   },
   "file_extension": ".py",
   "mimetype": "text/x-python",
   "name": "python",
   "nbconvert_exporter": "python",
   "pygments_lexer": "ipython3",
   "version": "3.6.4"
  }
 },
 "nbformat": 4,
 "nbformat_minor": 2
}
