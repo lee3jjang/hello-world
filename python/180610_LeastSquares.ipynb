{
 "cells": [
  {
   "cell_type": "code",
   "execution_count": 229,
   "metadata": {},
   "outputs": [],
   "source": [
    "import numpy as np\n",
    "import pandas as pd\n",
    "import matplotlib.pyplot as plt\n",
    "from scipy.optimize import least_squares"
   ]
  },
  {
   "cell_type": "code",
   "execution_count": 2,
   "metadata": {},
   "outputs": [],
   "source": [
    "data = np.loadtxt('2ndorder autocorrelation without compressor.txt')"
   ]
  },
  {
   "cell_type": "code",
   "execution_count": 341,
   "metadata": {},
   "outputs": [],
   "source": [
    "# Objective Function\n",
    "def model(p, u):\n",
    "    a,b,c,d,e = p\n",
    "    y = a*(1 + np.exp(-4*np.log(2)*((u-b)/c)**2) + 4*np.exp(-3*np.log(2)*((u-b)/c)**2)*np.cos(d*u+e) + 2*np.exp(-4*np.log(2)*((u-b)/c)**2)*np.cos(d*u+e)**2)\n",
    "    return y\n",
    "\n",
    "def jac(p, u, y):\n",
    "    a,b,c,d,e = p\n",
    "    J = np.empty((u.size, p.size))\n",
    "    J[:,0] = model(p,u)/a\n",
    "    J[:,1] = (model(p,u)-a)*(1-2*(u-b)/c**2)\n",
    "    J[:,2] = (model(p,u)-a)*(2*b*(u-b)/c**3)\n",
    "    J[:,3] = a*(1+np.exp(-4*np.log(2)*((u-b)/c)**2) - 4*u*np.exp(-3*np.log(2)*((u-b)/c)**2)*np.sin(d*u+e) - 4*np.exp(-4*np.log(2)*((u-b)/c)**2)*np.cos(d*u+e)**2*u*np.sin(d*u+e))\n",
    "    J[:,4] = a*(1+np.exp(-4*np.log(2)*((u-b)/c)**2) - 4*np.exp(-3*np.log(2)*((u-b)/c)**2)*np.sin(d*u+e) - 4*np.exp(-4*np.log(2)*((u-b)/c)**2)*np.cos(d*u+e)**2*np.sin(d*u+e))\n",
    "    return J\n",
    "\n",
    "def fun(p, u, y):\n",
    "    error = model(p, u) - y\n",
    "    return error"
   ]
  },
  {
   "cell_type": "code",
   "execution_count": 346,
   "metadata": {},
   "outputs": [],
   "source": [
    "u = data[:, 0]\n",
    "y = data[:, 1]\n",
    "p = np.array([90.45052457,  10.84336012,  0.73586187, 60.27965802,  9.05522058])\n",
    "\n",
    "res = least_squares(fun, x0=p, jac=jac, bounds=(0,100), args=(u, y), xtol=1e-8)"
   ]
  },
  {
   "cell_type": "code",
   "execution_count": 347,
   "metadata": {},
   "outputs": [
    {
     "data": {
      "image/png": "[encoded data removed]",
      "text/plain": [
       "<matplotlib.figure.Figure at 0xa168730>"
      ]
     },
     "metadata": {},
     "output_type": "display_data"
    }
   ],
   "source": [
    "# Graph\n",
    "#p = [9.09876055e+01, 7.3968452e+00, 30.64897435e+00, 6.30397980e+03, 9.00730881e+00]\n",
    "x = np.linspace(0.1,0.25,10000)\n",
    "z = model(p=res.x, u=x)\n",
    "plt.figure(figsize=(12,5))\n",
    "plt.scatter(data[:,0], data[:,1], s=1, label='data')\n",
    "plt.scatter(x, z, s=1, label='fitted')\n",
    "plt.show()"
   ]
  },
  {
   "cell_type": "code",
   "execution_count": null,
   "metadata": {},
   "outputs": [],
   "source": []
  }
 ],
 "metadata": {
  "kernelspec": {
   "display_name": "Python 3",
   "language": "python",
   "name": "python3"
  },
  "language_info": {
   "codemirror_mode": {
    "name": "ipython",
    "version": 3
   },
   "file_extension": ".py",
   "mimetype": "text/x-python",
   "name": "python",
   "nbconvert_exporter": "python",
   "pygments_lexer": "ipython3",
   "version": "3.6.4"
  }
 },
 "nbformat": 4,
 "nbformat_minor": 2
}
