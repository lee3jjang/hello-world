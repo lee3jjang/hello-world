{
 "cells": [
  {
   "cell_type": "code",
   "execution_count": 1,
   "metadata": {},
   "outputs": [],
   "source": [
    "import pandas as pd\n",
    "import numpy as np\n",
    "import matplotlib.pyplot as plt\n",
    "import matplotlib\n",
    "import warnings\n",
    "import seaborn as sns\n",
    "import glob\n",
    "\n",
    "warnings.filterwarnings('ignore')\n",
    "font_name = matplotlib.font_manager.FontProperties(fname=\"c:/Windows/Fonts/malgun.ttf\").get_name()\n",
    "krfont = {'family':font_name, 'size':10}\n",
    "matplotlib.rc('font', **krfont)\n",
    "matplotlib.rcParams['axes.unicode_minus'] = False"
   ]
  },
  {
   "cell_type": "code",
   "execution_count": 2,
   "metadata": {},
   "outputs": [],
   "source": [
    "# 데이터 불러오기\n",
    "data = []\n",
    "files = glob.glob('./data/Price_*.csv')\n",
    "for f in files:\n",
    "    tmp = pd.read_csv(f, encoding='CP949')\n",
    "    tmp.drop(['조사구분코드','표준품목코드','조사가격품목코드','표준품종코드','조사가격품종코드','조사등급코드','표준단위코드','조사지역코드','표준시장코드','조사가격시장코드','표준단위명'], axis=1, inplace=True)\n",
    "    data.append(tmp)\n",
    "price = pd.concat(data)"
   ]
  },
  {
   "cell_type": "code",
   "execution_count": 3,
   "metadata": {},
   "outputs": [],
   "source": [
    "# 쇠고기 데이터 추출\n",
    "beef = price.query('표준품목명 == \"쇠고기\"').drop(['조사구분명','표준품목명','조사가격품목명','조사단위명'], axis=1)\n",
    "beef['조사일자'] = beef['조사일자'].astype('datetime64[ns]')"
   ]
  },
  {
   "cell_type": "code",
   "execution_count": 4,
   "metadata": {},
   "outputs": [],
   "source": [
    "# 데이터 정제\n",
    "beef['원산지'] = beef['조사가격품종명'].str.extract('(미국산|호주산)(갈비|갈비살|불고기|등심)')[0]\n",
    "beef['부위'] = beef['조사가격품종명'].str.extract('(미국산|호주산)(갈비|갈비살|불고기|등심)')[1]\n",
    "beef['조사등급명2'] = beef['조사등급명'].apply(lambda x:{'하(3등급)':0,'상(1등급)':1}.get(x,99))\n",
    "beef['시장명'] = beef['조사가격시장명'].str.extract('(시장|유통)')\n",
    "beef['시점'] = beef['조사일자'].apply(lambda x:np.timedelta64(x - np.datetime64('2016-01-04'), 'D').astype(int))\n",
    "df = beef.drop(['조사일자','표준품종명','조사가격품종명','조사등급명','전일조사가격','조사지역명','표준시장명','조사가격시장명'], axis=1).reset_index(drop=True)"
   ]
  },
  {
   "cell_type": "code",
   "execution_count": 128,
   "metadata": {},
   "outputs": [],
   "source": [
    "# 라벨 인코딩\n",
    "from sklearn.preprocessing import LabelEncoder\n",
    "\n",
    "\n",
    "le1 = LabelEncoder().fit(df['원산지'])\n",
    "labels1 = le1.transform(df['원산지'])\n",
    "le2 = LabelEncoder().fit(df['부위'])\n",
    "labels2 = le2.transform(df['부위'])\n",
    "le3 = LabelEncoder().fit(df['시장명'])\n",
    "labels3 = le3.transform(df['시장명'])\n",
    "\n",
    "df['원산지2'] = labels1\n",
    "df['부위2'] = labels2\n",
    "df['시장명2'] = labels3\n",
    "data = df.drop(['원산지','부위','시장명'], axis=1)\n",
    "X = np.array(data.iloc[:,1:])\n",
    "y = np.array(data.iloc[:,0]).reshape(len(data),1)"
   ]
  },
  {
   "cell_type": "code",
   "execution_count": 84,
   "metadata": {},
   "outputs": [],
   "source": [
    "# 스케일링\n",
    "from sklearn.preprocessing import StandardScaler\n",
    "\n",
    "scaler = StandardScaler()\n",
    "scaler.fit(y)\n",
    "y_scaled = scaler.transform(y)"
   ]
  },
  {
   "cell_type": "code",
   "execution_count": 85,
   "metadata": {},
   "outputs": [],
   "source": [
    "# 훈련, 테스트 데이터 분리\n",
    "from sklearn.model_selection import train_test_split\n",
    "\n",
    "X_train, X_test, y_train, y_test = train_test_split(X, y_scaled, test_size=0.2, random_state=180610)"
   ]
  },
  {
   "cell_type": "code",
   "execution_count": 86,
   "metadata": {},
   "outputs": [
    {
     "name": "stdout",
     "output_type": "stream",
     "text": [
      "_________________________________________________________________\n",
      "Layer (type)                 Output Shape              Param #   \n",
      "=================================================================\n",
      "dense_4 (Dense)              (None, 64)                384       \n",
      "_________________________________________________________________\n",
      "dense_5 (Dense)              (None, 64)                4160      \n",
      "_________________________________________________________________\n",
      "dense_6 (Dense)              (None, 1)                 65        \n",
      "=================================================================\n",
      "Total params: 4,609\n",
      "Trainable params: 4,609\n",
      "Non-trainable params: 0\n",
      "_________________________________________________________________\n"
     ]
    }
   ],
   "source": [
    "from keras.models import Sequential\n",
    "from keras.layers import Dense\n",
    "\n",
    "model = Sequential()\n",
    "model.add(Dense(64, input_dim=5, activation='relu'))\n",
    "model.add(Dense(64, activation='relu'))\n",
    "model.add(Dense(1))\n",
    "model.compile(optimizer='rmsprop', loss='mse')\n",
    "model.summary()"
   ]
  },
  {
   "cell_type": "code",
   "execution_count": 87,
   "metadata": {},
   "outputs": [
    {
     "name": "stdout",
     "output_type": "stream",
     "text": [
      "Epoch 1/50\n",
      "44624/44624 [==============================] - 1s 21us/step - loss: 10.3545\n",
      "Epoch 2/50\n",
      "44624/44624 [==============================] - 1s 19us/step - loss: 1.8086\n",
      "Epoch 3/50\n",
      "44624/44624 [==============================] - 1s 18us/step - loss: 0.8210\n",
      "Epoch 4/50\n",
      "44624/44624 [==============================] - 1s 19us/step - loss: 0.6293\n",
      "Epoch 5/50\n",
      "44624/44624 [==============================] - 1s 20us/step - loss: 0.4710\n",
      "Epoch 6/50\n",
      "44624/44624 [==============================] - 1s 19us/step - loss: 0.3605\n",
      "Epoch 7/50\n",
      "44624/44624 [==============================] - 1s 19us/step - loss: 0.2997\n",
      "Epoch 8/50\n",
      "44624/44624 [==============================] - 1s 19us/step - loss: 0.2735\n",
      "Epoch 9/50\n",
      "44624/44624 [==============================] - 1s 19us/step - loss: 0.2572\n",
      "Epoch 10/50\n",
      "44624/44624 [==============================] - 1s 19us/step - loss: 0.2517\n",
      "Epoch 11/50\n",
      "44624/44624 [==============================] - 1s 19us/step - loss: 0.2330\n",
      "Epoch 12/50\n",
      "44624/44624 [==============================] - 1s 18us/step - loss: 0.2376\n",
      "Epoch 13/50\n",
      "44624/44624 [==============================] - 1s 19us/step - loss: 0.2273\n",
      "Epoch 14/50\n",
      "44624/44624 [==============================] - 1s 19us/step - loss: 0.2162\n",
      "Epoch 15/50\n",
      "44624/44624 [==============================] - 1s 19us/step - loss: 0.2166\n",
      "Epoch 16/50\n",
      "44624/44624 [==============================] - 1s 19us/step - loss: 0.2115\n",
      "Epoch 17/50\n",
      "44624/44624 [==============================] - 1s 19us/step - loss: 0.2039\n",
      "Epoch 18/50\n",
      "44624/44624 [==============================] - 1s 20us/step - loss: 0.2048\n",
      "Epoch 19/50\n",
      "44624/44624 [==============================] - 1s 22us/step - loss: 0.2058\n",
      "Epoch 20/50\n",
      "44624/44624 [==============================] - 1s 19us/step - loss: 0.1997\n",
      "Epoch 21/50\n",
      "44624/44624 [==============================] - 1s 20us/step - loss: 0.2008\n",
      "Epoch 22/50\n",
      "44624/44624 [==============================] - 1s 20us/step - loss: 0.1958\n",
      "Epoch 23/50\n",
      "44624/44624 [==============================] - 1s 20us/step - loss: 0.1965\n",
      "Epoch 24/50\n",
      "44624/44624 [==============================] - 1s 21us/step - loss: 0.1927\n",
      "Epoch 25/50\n",
      "44624/44624 [==============================] - 1s 20us/step - loss: 0.1924\n",
      "Epoch 26/50\n",
      "44624/44624 [==============================] - 1s 20us/step - loss: 0.1928\n",
      "Epoch 27/50\n",
      "44624/44624 [==============================] - 1s 21us/step - loss: 0.1969\n",
      "Epoch 28/50\n",
      "44624/44624 [==============================] - 1s 20us/step - loss: 0.1921\n",
      "Epoch 29/50\n",
      "44624/44624 [==============================] - 1s 22us/step - loss: 0.1929\n",
      "Epoch 30/50\n",
      "44624/44624 [==============================] - 1s 20us/step - loss: 0.1898\n",
      "Epoch 31/50\n",
      "44624/44624 [==============================] - 1s 19us/step - loss: 0.1931\n",
      "Epoch 32/50\n",
      "44624/44624 [==============================] - 1s 19us/step - loss: 0.1945\n",
      "Epoch 33/50\n",
      "44624/44624 [==============================] - 1s 20us/step - loss: 0.1905\n",
      "Epoch 34/50\n",
      "44624/44624 [==============================] - 1s 22us/step - loss: 0.1947\n",
      "Epoch 35/50\n",
      "44624/44624 [==============================] - 1s 20us/step - loss: 0.1893\n",
      "Epoch 36/50\n",
      "44624/44624 [==============================] - 1s 21us/step - loss: 0.1925\n",
      "Epoch 37/50\n",
      "44624/44624 [==============================] - 1s 20us/step - loss: 0.1878\n",
      "Epoch 38/50\n",
      "44624/44624 [==============================] - 1s 19us/step - loss: 0.1887\n",
      "Epoch 39/50\n",
      "44624/44624 [==============================] - 1s 19us/step - loss: 0.1957\n",
      "Epoch 40/50\n",
      "44624/44624 [==============================] - 1s 19us/step - loss: 0.1873\n",
      "Epoch 41/50\n",
      "44624/44624 [==============================] - 1s 19us/step - loss: 0.1941\n",
      "Epoch 42/50\n",
      "44624/44624 [==============================] - 1s 19us/step - loss: 0.1925\n",
      "Epoch 43/50\n",
      "44624/44624 [==============================] - 1s 21us/step - loss: 0.1878\n",
      "Epoch 44/50\n",
      "44624/44624 [==============================] - 1s 21us/step - loss: 0.1913\n",
      "Epoch 45/50\n",
      "44624/44624 [==============================] - 1s 21us/step - loss: 0.1839\n",
      "Epoch 46/50\n",
      "44624/44624 [==============================] - 1s 20us/step - loss: 0.1890\n",
      "Epoch 47/50\n",
      "44624/44624 [==============================] - 1s 20us/step - loss: 0.1872\n",
      "Epoch 48/50\n",
      "44624/44624 [==============================] - 1s 20us/step - loss: 0.1887\n",
      "Epoch 49/50\n",
      "44624/44624 [==============================] - 1s 21us/step - loss: 0.1866\n",
      "Epoch 50/50\n",
      "44624/44624 [==============================] - 1s 21us/step - loss: 0.1910\n"
     ]
    }
   ],
   "source": [
    "hist = model.fit(X_train, y_train, epochs=50, batch_size=24)"
   ]
  },
  {
   "cell_type": "code",
   "execution_count": 88,
   "metadata": {},
   "outputs": [
    {
     "data": {
      "image/png": "[encoded data removed]",
      "text/plain": [
       "<Figure size 432x288 with 1 Axes>"
      ]
     },
     "metadata": {},
     "output_type": "display_data"
    }
   ],
   "source": [
    "# 손실함수\n",
    "plt.plot(hist.history['loss'])\n",
    "plt.xlabel('epoch')\n",
    "plt.ylabel('loss')\n",
    "plt.legend(['train'], loc='best')\n",
    "plt.show()"
   ]
  },
  {
   "cell_type": "code",
   "execution_count": 101,
   "metadata": {},
   "outputs": [
    {
     "name": "stdout",
     "output_type": "stream",
     "text": [
      "11156/11156 [==============================] - 0s 6us/step\n",
      "Loss : 0.17\n"
     ]
    }
   ],
   "source": [
    "# 테스트\n",
    "loss = model.evaluate(X_test, y_test, batch_size=32)\n",
    "print('Loss : {:.2f}'.format(loss))"
   ]
  },
  {
   "cell_type": "code",
   "execution_count": 186,
   "metadata": {},
   "outputs": [],
   "source": [
    "# 예측\n",
    "t = 1000\n",
    "X_pred = np.array([[0,t,0,0,0],\n",
    "                   [0,t,0,0,1],\n",
    "                   [0,t,0,1,0],\n",
    "                   [0,t,0,1,1],\n",
    "                   [0,t,0,2,0],\n",
    "                   [0,t,0,2,1],\n",
    "                   [0,t,1,0,0],\n",
    "                   [0,t,1,0,1],\n",
    "                   [0,t,1,1,0],\n",
    "                   [0,t,1,1,1],\n",
    "                   [0,t,1,2,0],\n",
    "                   [0,t,1,2,1],\n",
    "                   [1,t,0,0,0],\n",
    "                   [1,t,0,0,1],\n",
    "                   [1,t,0,1,0],\n",
    "                   [1,t,0,1,1],\n",
    "                   [1,t,0,2,0],\n",
    "                   [1,t,0,2,1],\n",
    "                   [1,t,1,0,0],\n",
    "                   [1,t,1,0,1],\n",
    "                   [1,t,1,1,0],\n",
    "                   [1,t,1,1,1],\n",
    "                   [1,t,1,2,0],\n",
    "                   [1,t,1,2,1]])\n",
    "y_pred = scaler.inverse_transform(model.predict(X_pred))"
   ]
  },
  {
   "cell_type": "code",
   "execution_count": 202,
   "metadata": {},
   "outputs": [
    {
     "name": "stderr",
     "output_type": "stream",
     "text": [
      "C:\\ProgramData\\Anaconda3\\lib\\site-packages\\sklearn\\preprocessing\\label.py:151: DeprecationWarning: The truth value of an empty array is ambiguous. Returning False, but in future this will result in an error. Use `array.size > 0` to check that an array is not empty.\n",
      "  if diff:\n",
      "C:\\ProgramData\\Anaconda3\\lib\\site-packages\\sklearn\\preprocessing\\label.py:151: DeprecationWarning: The truth value of an empty array is ambiguous. Returning False, but in future this will result in an error. Use `array.size > 0` to check that an array is not empty.\n",
      "  if diff:\n",
      "C:\\ProgramData\\Anaconda3\\lib\\site-packages\\sklearn\\preprocessing\\label.py:151: DeprecationWarning: The truth value of an empty array is ambiguous. Returning False, but in future this will result in an error. Use `array.size > 0` to check that an array is not empty.\n",
      "  if diff:\n"
     ]
    },
    {
     "data": {
      "text/html": [
       "<div>\n",
       "<style scoped>\n",
       "    .dataframe tbody tr th:only-of-type {\n",
       "        vertical-align: middle;\n",
       "    }\n",
       "\n",
       "    .dataframe tbody tr th {\n",
       "        vertical-align: top;\n",
       "    }\n",
       "\n",
       "    .dataframe thead th {\n",
       "        text-align: right;\n",
       "    }\n",
       "</style>\n",
       "<table border=\"1\" class=\"dataframe\">\n",
       "  <thead>\n",
       "    <tr style=\"text-align: right;\">\n",
       "      <th></th>\n",
       "      <th>시점</th>\n",
       "      <th>조사등급명</th>\n",
       "      <th>원산지</th>\n",
       "      <th>부위</th>\n",
       "      <th>시장명</th>\n",
       "      <th>예측가격</th>\n",
       "    </tr>\n",
       "  </thead>\n",
       "  <tbody>\n",
       "    <tr>\n",
       "      <th>21</th>\n",
       "      <td>2018-09-30</td>\n",
       "      <td>1</td>\n",
       "      <td>호주산</td>\n",
       "      <td>등심</td>\n",
       "      <td>유통</td>\n",
       "      <td>3783</td>\n",
       "    </tr>\n",
       "    <tr>\n",
       "      <th>15</th>\n",
       "      <td>2018-09-30</td>\n",
       "      <td>1</td>\n",
       "      <td>미국산</td>\n",
       "      <td>등심</td>\n",
       "      <td>유통</td>\n",
       "      <td>3275</td>\n",
       "    </tr>\n",
       "    <tr>\n",
       "      <th>6</th>\n",
       "      <td>2018-09-30</td>\n",
       "      <td>0</td>\n",
       "      <td>호주산</td>\n",
       "      <td>갈비</td>\n",
       "      <td>시장</td>\n",
       "      <td>2412</td>\n",
       "    </tr>\n",
       "    <tr>\n",
       "      <th>7</th>\n",
       "      <td>2018-09-30</td>\n",
       "      <td>0</td>\n",
       "      <td>호주산</td>\n",
       "      <td>갈비</td>\n",
       "      <td>유통</td>\n",
       "      <td>2335</td>\n",
       "    </tr>\n",
       "    <tr>\n",
       "      <th>18</th>\n",
       "      <td>2018-09-30</td>\n",
       "      <td>1</td>\n",
       "      <td>호주산</td>\n",
       "      <td>갈비</td>\n",
       "      <td>시장</td>\n",
       "      <td>2326</td>\n",
       "    </tr>\n",
       "  </tbody>\n",
       "</table>\n",
       "</div>"
      ],
      "text/plain": [
       "           시점  조사등급명  원산지  부위 시장명  예측가격\n",
       "21 2018-09-30      1  호주산  등심  유통  3783\n",
       "15 2018-09-30      1  미국산  등심  유통  3275\n",
       "6  2018-09-30      0  호주산  갈비  시장  2412\n",
       "7  2018-09-30      0  호주산  갈비  유통  2335\n",
       "18 2018-09-30      1  호주산  갈비  시장  2326"
      ]
     },
     "execution_count": 202,
     "metadata": {},
     "output_type": "execute_result"
    }
   ],
   "source": [
    "# 결과 출력\n",
    "result = pd.DataFrame()\n",
    "result['시점'] = np.datetime64('2016-01-04')+X_pred[:,1]\n",
    "result['조사등급명'] = X_pred[:,0]\n",
    "result['원산지'] = le1.inverse_transform(X_pred[:,2])\n",
    "result['부위'] = le2.inverse_transform(X_pred[:,3])\n",
    "result['시장명'] = le3.inverse_transform(X_pred[:,4])\n",
    "result['예측가격'] = np.round(y_pred).astype(int)\n",
    "result.sort_values(by='예측가격', ascending=False, inplace=True)\n",
    "result.head()"
   ]
  },
  {
   "cell_type": "code",
   "execution_count": 203,
   "metadata": {},
   "outputs": [
    {
     "data": {
      "image/png": "[encoded data removed]",
      "text/plain": [
       "<Figure size 432x288 with 1 Axes>"
      ]
     },
     "metadata": {},
     "output_type": "display_data"
    }
   ],
   "source": [
    "plt.bar(result['원산지'] + result['부위'] + result['시장명'] + result['조사등급명'].astype(str), result['예측가격'])\n",
    "plt.xticks(rotation=90)\n",
    "plt.show()"
   ]
  }
 ],
 "metadata": {
  "kernelspec": {
   "display_name": "Python 3",
   "language": "python",
   "name": "python3"
  },
  "language_info": {
   "codemirror_mode": {
    "name": "ipython",
    "version": 3
   },
   "file_extension": ".py",
   "mimetype": "text/x-python",
   "name": "python",
   "nbconvert_exporter": "python",
   "pygments_lexer": "ipython3",
   "version": "3.6.5"
  }
 },
 "nbformat": 4,
 "nbformat_minor": 2
}
