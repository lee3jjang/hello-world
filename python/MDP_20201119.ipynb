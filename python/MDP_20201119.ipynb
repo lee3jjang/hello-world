{
 "cells": [
  {
   "cell_type": "code",
   "execution_count": 1,
   "metadata": {},
   "outputs": [],
   "source": [
    "import numpy as np\n",
    "import matplotlib.pyplot as plt"
   ]
  },
  {
   "cell_type": "code",
   "execution_count": 129,
   "metadata": {},
   "outputs": [],
   "source": [
    "state_space = ['S0', 'S1', 'S2']\n",
    "action_space = ['a0', 'a1']\n",
    "\n",
    "probability = {\n",
    "    ('S0', 'a0'): {'S0': 0.50, 'S1': 0.00, 'S2': 0.50},\n",
    "    ('S0', 'a1'): {'S0': 0.00, 'S1': 0.00, 'S2': 1.00},\n",
    "    ('S1', 'a0'): {'S0': 0.70, 'S1': 0.10, 'S2': 0.20},\n",
    "    ('S1', 'a1'): {'S0': 0.00, 'S1': 0.95, 'S2': 0.05},\n",
    "    ('S2', 'a0'): {'S0': 0.40, 'S1': 0.00, 'S2': 0.60},\n",
    "    ('S2', 'a1'): {'S0': 0.30, 'S1': 0.30, 'S2': 0.40},\n",
    "}\n",
    "\n",
    "immediate_reward = {\n",
    "    ('S0', 'a0'): {'S0': 0, 'S1': 0, 'S2': 0},\n",
    "    ('S0', 'a1'): {'S0': 0, 'S1': 0, 'S2': 0},\n",
    "    ('S1', 'a0'): {'S0': 5, 'S1': 0, 'S2': 0},\n",
    "    ('S1', 'a1'): {'S0': 0, 'S1': 0, 'S2': 0},\n",
    "    ('S2', 'a0'): {'S0': 0, 'S1': 0, 'S2': 0},\n",
    "    ('S2', 'a1'): {'S0': -1, 'S1': 0, 'S2': 0},\n",
    "}\n",
    "\n",
    "policy = {\n",
    "    'S0': {'a0': 0.5, 'a1': 0.5},\n",
    "    'S1': {'a0': 0.5, 'a1': 0.5},\n",
    "    'S2': {'a0': 0.5, 'a1': 0.5},\n",
    "}\n",
    "\n",
    "discount_factor = 0.9"
   ]
  },
  {
   "cell_type": "code",
   "execution_count": 130,
   "metadata": {},
   "outputs": [],
   "source": [
    "next_state = init_state = 'S0'\n",
    "\n",
    "trajectory = []\n",
    "for _ in range(50):\n",
    "    current_state = next_state\n",
    "    action_selected = np.random.choice(a=list(policy[current_state].keys()), p=list(policy[current_state].values()))\n",
    "    next_state = np.random.choice(a=list(probability[(current_state, action_selected)].keys()), p=list(probability[(current_state, action_selected)].values()))\n",
    "    reward = immediate_reward[(current_state, action_selected)][next_state]\n",
    "    trajectory.append([current_state, action_selected, next_state, reward])"
   ]
  }
 ],
 "metadata": {
  "kernelspec": {
   "display_name": "Python 3",
   "language": "python",
   "name": "python3"
  },
  "language_info": {
   "codemirror_mode": {
    "name": "ipython",
    "version": 3
   },
   "file_extension": ".py",
   "mimetype": "text/x-python",
   "name": "python",
   "nbconvert_exporter": "python",
   "pygments_lexer": "ipython3",
   "version": "3.7.6"
  }
 },
 "nbformat": 4,
 "nbformat_minor": 4
}
