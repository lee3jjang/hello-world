{
 "cells": [
  {
   "cell_type": "code",
   "execution_count": 218,
   "metadata": {},
   "outputs": [],
   "source": [
    "import numpy as np\n",
    "import matplotlib.pyplot as plt\n",
    "import seaborn as sns\n",
    "from numpy import linalg\n",
    "np.random.seed(20180606)"
   ]
  },
  {
   "cell_type": "code",
   "execution_count": 409,
   "metadata": {},
   "outputs": [],
   "source": [
    "class KalmanFilter:\n",
    "    def __init__(self, A, B, Q, H, R):\n",
    "        self.A = A\n",
    "        self.B = B\n",
    "        self.Q = Q\n",
    "        self.H = H\n",
    "        self.R = R\n",
    "    \n",
    "    def Predict(self, inputs):\n",
    "        x, P = inputs\n",
    "        x_pred = np.dot(self.A,x)\n",
    "        P_pred = np.dot(np.dot(self.A,P),self.A.T) + self.Q\n",
    "        z_pred = np.dot(self.H, x_pred)\n",
    "        F = np.dot(np.dot(self.H, P_pred),self.H.T)+self.R\n",
    "        K = np.dot(np.dot(P_pred, self.H.T), linalg.inv(F))\n",
    "        return x_pred, P_pred, z_pred, K\n",
    "    \n",
    "    def Update(self, update, z_meas):\n",
    "        x_pred, P_pred, z_pred, K = update\n",
    "        x_update = x_pred + np.dot(K, z_meas-z_pred)\n",
    "        P_update = P_pred - np.dot(np.dot(K, self.H), P_pred)\n",
    "        return x_update, P_update\n",
    "    \n",
    "    def __Next(self, x0):\n",
    "        m = self.Q.shape[0]\n",
    "        l = self.R.shape[0]\n",
    "        x = np.dot(self.A,x0)+self.B + np.random.multivariate_normal(mean=np.zeros(m), cov=self.Q).reshape(m,1)\n",
    "        z = np.dot(H,x) + np.random.multivariate_normal(mean=np.zeros(l), cov=self.R).reshape(l,1)\n",
    "        return x, z\n",
    "    \n",
    "    def Generate(self, x, n=1):\n",
    "        for i in range(n):\n",
    "            if i == 0:\n",
    "                xstack, zstack = self.__Next(x)\n",
    "                x = xstack\n",
    "                continue\n",
    "            x, z = self.__Next(x)\n",
    "            xstack = np.concatenate((xstack, x), axis=1)\n",
    "            zstack = np.concatenate((zstack, z), axis=1)\n",
    "        return xstack, zstack"
   ]
  },
  {
   "cell_type": "code",
   "execution_count": 410,
   "metadata": {},
   "outputs": [],
   "source": [
    "# System\n",
    "dt = 0.1\n",
    "\n",
    "A = np.array([[1, dt],\n",
    "              [0, 1]])\n",
    "B = np.array([[dt**2/2],\n",
    "              [dt]])\n",
    "Q = np.identity(2)\n",
    "H = np.array([[1,0]])\n",
    "R = np.array([[1]])"
   ]
  },
  {
   "cell_type": "code",
   "execution_count": 411,
   "metadata": {},
   "outputs": [],
   "source": [
    "# Initial State\n",
    "x0 = np.array([[1],\n",
    "               [0]])\n",
    "P0 = np.identity(2)\n",
    "z1 = 0.646210918304607\n",
    "z2 = -0.302700806\n",
    "\n",
    "kf = KalmanFilter(A,B,Q,H,R)"
   ]
  },
  {
   "cell_type": "code",
   "execution_count": 412,
   "metadata": {},
   "outputs": [],
   "source": [
    "kf = KalmanFilter(A,B,Q,H,R)\n",
    "x, P = kf.Update(kf.Predict([x0,P0]), z1)"
   ]
  }
 ],
 "metadata": {
  "kernelspec": {
   "display_name": "Python 3",
   "language": "python",
   "name": "python3"
  },
  "language_info": {
   "codemirror_mode": {
    "name": "ipython",
    "version": 3
   },
   "file_extension": ".py",
   "mimetype": "text/x-python",
   "name": "python",
   "nbconvert_exporter": "python",
   "pygments_lexer": "ipython3",
   "version": "3.6.5"
  }
 },
 "nbformat": 4,
 "nbformat_minor": 2
}
