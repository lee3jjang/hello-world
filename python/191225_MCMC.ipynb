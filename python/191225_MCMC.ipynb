{
 "cells": [
  {
   "cell_type": "code",
   "execution_count": 4,
   "metadata": {},
   "outputs": [],
   "source": [
    "import numpy as np\n",
    "import seaborn as sns\n",
    "import matplotlib.pyplot as plt"
   ]
  },
  {
   "cell_type": "code",
   "execution_count": 2,
   "metadata": {},
   "outputs": [],
   "source": [
    "def expon_pdf(x):\n",
    "    return np.where(x>=0, 0.2*np.exp(-x/5), 0)"
   ]
  },
  {
   "cell_type": "code",
   "execution_count": 168,
   "metadata": {},
   "outputs": [],
   "source": [
    "def sampling(func, n=1, sigma=50):\n",
    "    sample = np.zeros(n)\n",
    "    sample[0] = np.random.random()\n",
    "    for i in range(n-1):\n",
    "        x_prev = sample[i].copy()\n",
    "        xp = np.random.normal(0, sigma)\n",
    "        alpha = func(xp)/func(x_prev) if func(x_prev)!=0. else 1\n",
    "        u = np.random.random()\n",
    "        sample[i+1] = xp if u<=alpha else x_prev\n",
    "    return sample"
   ]
  },
  {
   "cell_type": "code",
   "execution_count": 169,
   "metadata": {},
   "outputs": [
    {
     "data": {
      "image/png": "[encoded data removed]",
      "text/plain": [
       "<Figure size 432x288 with 1 Axes>"
      ]
     },
     "metadata": {
      "needs_background": "light"
     },
     "output_type": "display_data"
    }
   ],
   "source": [
    "x = np.linspace(0, 50, 100)\n",
    "y = expon_pdf(x)\n",
    "\n",
    "sns.distplot(sampling(expon_pdf, 21000, sigma=50)[1000:], kde=False, norm_hist=True, bins=100)\n",
    "sns.lineplot(x, y)\n",
    "plt.show()"
   ]
  },
  {
   "cell_type": "code",
   "execution_count": 201,
   "metadata": {},
   "outputs": [],
   "source": [
    "n = 100\n",
    "# s = np.random.choice(sampling(expon_pdf, 21000, sigma=50)[1000:], n)\n",
    "s = (-5*np.log(1-np.random.random(n)))\n",
    "def posterior(theta):\n",
    "    if theta>2 and theta<9:\n",
    "        return 1/theta**n*np.exp(-np.sum(s)/theta)\n",
    "    else:\n",
    "        return 0"
   ]
  },
  {
   "cell_type": "code",
   "execution_count": 209,
   "metadata": {},
   "outputs": [
    {
     "data": {
      "image/png": "[encoded data removed]",
      "text/plain": [
       "<Figure size 432x288 with 1 Axes>"
      ]
     },
     "metadata": {
      "needs_background": "light"
     },
     "output_type": "display_data"
    }
   ],
   "source": [
    "s2 = sampling(posterior, 31000, sigma=5)[1000:]\n",
    "sns.distplot(s2, norm_hist=True, bins=100, kde=False)\n",
    "plt.xlim(0,10)\n",
    "plt.show()"
   ]
  }
 ],
 "metadata": {
  "kernelspec": {
   "display_name": "Python 3",
   "language": "python",
   "name": "python3"
  },
  "language_info": {
   "codemirror_mode": {
    "name": "ipython",
    "version": 3
   },
   "file_extension": ".py",
   "mimetype": "text/x-python",
   "name": "python",
   "nbconvert_exporter": "python",
   "pygments_lexer": "ipython3",
   "version": "3.7.1"
  }
 },
 "nbformat": 4,
 "nbformat_minor": 2
}
