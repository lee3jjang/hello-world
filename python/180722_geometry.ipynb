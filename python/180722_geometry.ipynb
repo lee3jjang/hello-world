{
 "cells": [
  {
   "cell_type": "code",
   "execution_count": 24,
   "metadata": {},
   "outputs": [],
   "source": [
    "import json\n",
    "import numpy as np\n",
    "import pandas as pd\n",
    "import matplotlib.pyplot as plt\n",
    "import requests"
   ]
  },
  {
   "cell_type": "code",
   "execution_count": 56,
   "metadata": {},
   "outputs": [
    {
     "data": {
      "text/plain": [
       "'0760ffd8-3889-401e-829f-37a236890165'"
      ]
     },
     "execution_count": 56,
     "metadata": {},
     "output_type": "execute_result"
    }
   ],
   "source": [
    "# 인증단계를 처리하는 API\n",
    "url = 'https://sgisapi.kostat.go.kr/OpenAPI3/auth/authentication.json'\n",
    "params = {'consumer_key':'196df7f66e8e4b78a99f','consumer_secret':'28fbc09c175748d8a935'}\n",
    "res = requests.get(url, params=params).text\n",
    "accesstoken = json.loads(res)['result']['accessToken']\n",
    "accesstoken"
   ]
  },
  {
   "cell_type": "code",
   "execution_count": 182,
   "metadata": {},
   "outputs": [
    {
     "data": {
      "text/plain": [
       "{'posY': 37.50576594071522, 'posX': 127.05480746860431}"
      ]
     },
     "execution_count": 182,
     "metadata": {},
     "output_type": "execute_result"
    }
   ],
   "source": [
    "# 좌표변환을 제공\n",
    "url = 'https://sgisapi.kostat.go.kr/OpenAPI3/transformation/transcoord.json'\n",
    "params = {'accessToken':accesstoken, 'src':5179, 'dst':4326, 'posX':960652.321774961, 'posY':1945259.08378017}\n",
    "res = requests.get(url, params=params).text\n",
    "res = json.loads(res)['result']\n",
    "res"
   ]
  },
  {
   "cell_type": "code",
   "execution_count": 181,
   "metadata": {},
   "outputs": [
    {
     "data": {
      "text/plain": [
       "{'ri_nm': 'null',\n",
       " 'road_nm_sub_no': '0',\n",
       " 'sgg_cd': '230',\n",
       " 'adm_cd': '1123063',\n",
       " 'road_nm_main_no': '432',\n",
       " 'leg_cd': '11680106',\n",
       " 'road_nm': '테헤란로',\n",
       " 'bd_sub_nm': 'null',\n",
       " 'addr_type': '6',\n",
       " 'sido_nm': '서울특별시',\n",
       " 'sgg_nm': '강남구',\n",
       " 'sido_cd': '11',\n",
       " 'road_cd': '3122010',\n",
       " 'bd_main_nm': '동부금융센터',\n",
       " 'adm_nm': '대치4동',\n",
       " 'jibun_main_no': '891',\n",
       " 'jibun_sub_no': '10',\n",
       " 'ri_cd': '1168010600',\n",
       " 'y': '1945259.08378017',\n",
       " 'leg_nm': '대치동',\n",
       " 'x': '960652.321774961'}"
      ]
     },
     "execution_count": 181,
     "metadata": {},
     "output_type": "execute_result"
    }
   ],
   "source": [
    "# 지오코딩 : 입력된 주소에 대한 위치를 제공\n",
    "url = 'https://sgisapi.kostat.go.kr/OpenAPI3/addr/geocode.json'\n",
    "params = {'accessToken':accesstoken, 'address':'테헤란로 432'}\n",
    "res = requests.get(url, params=params).text\n",
    "res = json.loads(res)['result']['resultdata'][0]\n",
    "res"
   ]
  },
  {
   "cell_type": "code",
   "execution_count": 177,
   "metadata": {},
   "outputs": [
    {
     "data": {
      "text/plain": [
       "{'sgg_cd': '230',\n",
       " 'emdong_cd': '63',\n",
       " 'sido_nm': '서울특별시',\n",
       " 'sgg_nm': '강남구',\n",
       " 'emdong_nm': '대치4동',\n",
       " 'tot_reg_cd': '1123063010002',\n",
       " 'sido_cd': '11'}"
      ]
     },
     "execution_count": 177,
     "metadata": {},
     "output_type": "execute_result"
    }
   ],
   "source": [
    "# 좌표를 이용한 집계구, 행정동코드 정보 조회\n",
    "url = 'https://sgisapi.kostat.go.kr/OpenAPI3/personal/findcodeinsmallarea.json'\n",
    "params = {'accessToken':accesstoken, 'x_coor':x, 'y_coor':y}\n",
    "res = requests.get(url, params=params).text\n",
    "res = json.loads(res)['result']\n",
    "res"
   ]
  },
  {
   "cell_type": "code",
   "execution_count": 142,
   "metadata": {},
   "outputs": [
    {
     "data": {
      "text/plain": [
       "('200709606523471945262850', '-7', '35')"
      ]
     },
     "execution_count": 142,
     "metadata": {},
     "output_type": "execute_result"
    }
   ],
   "source": [
    "# 임의 영역내 전개도 건물 정보를 제공\n",
    "url = 'https://sgisapi.kostat.go.kr/OpenAPI3/figure/buildingarea.json'\n",
    "params = {'accessToken':accesstoken, 'minx':x, 'miny':y, 'maxx':x, 'maxy':y}\n",
    "res = requests.get(url, params=params).text\n",
    "res = json.loads(res)['result'][0]\n",
    "sufid = res['sufid']\n",
    "highest_flr = res['highest_flr']\n",
    "lowest_flr = res['lowest_flr']\n",
    "sufid, lowest_flr, highest_flr"
   ]
  },
  {
   "cell_type": "code",
   "execution_count": 143,
   "metadata": {},
   "outputs": [
    {
     "data": {
      "text/plain": [
       "{'id': 'API_0805',\n",
       " 'errMsg': '검색결과가 존재하지 않습니다.',\n",
       " 'errCd': -100,\n",
       " 'trId': 'L7GJ_API_0805_1532227621016'}"
      ]
     },
     "execution_count": 143,
     "metadata": {},
     "output_type": "execute_result"
    }
   ],
   "source": [
    "# 층별 시설물 공간 속성 정보를 제공\n",
    "url = 'https://sgisapi.kostat.go.kr/OpenAPI3/figure/flooretcfacility.json'\n",
    "params = {'accessToken':accesstoken, 'sufid':sufid, 'flr_no':11}\n",
    "res = requests.get(url, params=params).text\n",
    "res = json.loads(res)\n",
    "res"
   ]
  },
  {
   "cell_type": "code",
   "execution_count": 141,
   "metadata": {},
   "outputs": [
    {
     "data": {
      "text/plain": [
       "{'theme_cd_list': [{'theme_cd_nm': '기업(기타금융업)', 'theme_cd': '8006'}],\n",
       " 'companylist': [{'center_y': 1945261.940034093,\n",
       "   'center_x': 960627.3591458419,\n",
       "   'decilist_serial': '0000354087',\n",
       "   'theme_cd': '8006',\n",
       "   'corp_nm': '동부화재해상보험(주)'},\n",
       "  {'center_y': 1945271.9602075445,\n",
       "   'center_x': 960660.4779043624,\n",
       "   'decilist_serial': '0002357660',\n",
       "   'theme_cd': '8006',\n",
       "   'corp_nm': '(주)동부화재근로복지기금'}],\n",
       " 'facilitylist': []}"
      ]
     },
     "execution_count": 141,
     "metadata": {},
     "output_type": "execute_result"
    }
   ],
   "source": [
    "# 건물층별 사업체 정보\n",
    "url = 'https://sgisapi.kostat.go.kr/OpenAPI3/figure/floorcompanyinfo.json'\n",
    "params = {'accessToken':accesstoken, 'sufid':sufid, 'flr_no':11}\n",
    "res = requests.get(url, params=params).text\n",
    "res = json.loads(res)['result']\n",
    "res"
   ]
  },
  {
   "cell_type": "code",
   "execution_count": 184,
   "metadata": {},
   "outputs": [
    {
     "data": {
      "text/plain": [
       "[('서울특별시', '953932', '1952053'),\n",
       " ('부산광역시', '1141856', '1690474'),\n",
       " ('대구광역시', '1099471', '1764433'),\n",
       " ('인천광역시', '929709', '1939946'),\n",
       " ('광주광역시', '940934', '1685175'),\n",
       " ('대전광역시', '989651', '1817013'),\n",
       " ('울산광역시', '1164223', '1728579'),\n",
       " ('세종특별자치시', '981426', '1843889'),\n",
       " ('경기도', '956444', '1919648'),\n",
       " ('강원도', '1020213', '1987302'),\n",
       " ('충청북도', '999288', '1848669'),\n",
       " ('충청남도', '926074', '1851555'),\n",
       " ('전라북도', '964651', '1758283'),\n",
       " ('전라남도', '905137', '1647339'),\n",
       " ('경상북도', '1112095', '1817430'),\n",
       " ('경상남도', '1108455', '1694249'),\n",
       " ('제주특별자치도', '906937', '1500136')]"
      ]
     },
     "execution_count": 184,
     "metadata": {},
     "output_type": "execute_result"
    }
   ],
   "source": [
    "# 행정구역 및 도로명 주소에 대해서 단계별로 조회\n",
    "url = 'https://sgisapi.kostat.go.kr/OpenAPI3/addr/stage.json'\n",
    "params = {'accessToken':accesstoken}\n",
    "res = requests.get(url, params=params).text\n",
    "res = json.loads(res)['result']\n",
    "addr = [(r['addr_name'], r['x_coor'], r['y_coor']) for r in res]\n",
    "addr"
   ]
  }
 ],
 "metadata": {
  "kernelspec": {
   "display_name": "Python 3",
   "language": "python",
   "name": "python3"
  },
  "language_info": {
   "codemirror_mode": {
    "name": "ipython",
    "version": 3
   },
   "file_extension": ".py",
   "mimetype": "text/x-python",
   "name": "python",
   "nbconvert_exporter": "python",
   "pygments_lexer": "ipython3",
   "version": "3.6.5"
  }
 },
 "nbformat": 4,
 "nbformat_minor": 2
}
