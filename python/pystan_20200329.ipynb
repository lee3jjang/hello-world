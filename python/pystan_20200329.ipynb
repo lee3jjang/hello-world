{
 "cells": [
  {
   "cell_type": "code",
   "execution_count": 1,
   "metadata": {},
   "outputs": [],
   "source": [
    "import pystan"
   ]
  },
  {
   "cell_type": "code",
   "execution_count": 2,
   "metadata": {},
   "outputs": [
    {
     "name": "stderr",
     "output_type": "stream",
     "text": [
      "INFO:pystan:COMPILING THE C++ CODE FOR MODEL anon_model_5944b02c79788fa0db5b3a93728ca2bf NOW.\n"
     ]
    },
    {
     "data": {
      "text/plain": [
       "0.02679953367503262"
      ]
     },
     "execution_count": 2,
     "metadata": {},
     "output_type": "execute_result"
    }
   ],
   "source": [
    "model_code = 'parameters {real y;} model {y ~ normal(0,1);}'\n",
    "model = pystan.StanModel(model_code=model_code)\n",
    "y = model.sampling().extract()['y']\n",
    "y.mean()"
   ]
  },
  {
   "cell_type": "code",
   "execution_count": 5,
   "metadata": {},
   "outputs": [
    {
     "name": "stderr",
     "output_type": "stream",
     "text": [
      "INFO:pystan:COMPILING THE C++ CODE FOR MODEL anon_model_f18f468abc45753825ea905160e3fe02 NOW.\n",
      "WARNING:pystan:1 of 2000 iterations ended with a divergence (0.05 %).\n",
      "WARNING:pystan:Try running with adapt_delta larger than 0.8 to remove the divergences.\n"
     ]
    }
   ],
   "source": [
    "schools_code = \"\"\"\n",
    "    data {\n",
    "        int<lower=0> J; // number of schools\n",
    "        vector[J] y; // estimated treatment effects\n",
    "        vector<lower=0>[J] sigma; // s.e. of effect estimates\n",
    "    }\n",
    "    parameters {\n",
    "        real mu;\n",
    "        real<lower=0> tau;\n",
    "        vector[J] eta;\n",
    "    }\n",
    "    transformed parameters {\n",
    "        vector[J] theta;\n",
    "        theta = mu + tau*eta;\n",
    "    }\n",
    "    model {\n",
    "        eta ~ normal(0, 1);\n",
    "        y ~ normal(theta, sigma);\n",
    "    }\n",
    "\"\"\"\n",
    "\n",
    "schools_dat = {\n",
    "    'J': 8,\n",
    "    'y': [28, 8, -3, 7, -1, 1, 18, 12],\n",
    "    'sigma': [15, 10, 16, 11, 9, 11, 10, 18]\n",
    "}\n",
    "\n",
    "sm = pystan.StanModel(model_code=schools_code)\n",
    "fit = sm.sampling(data=schools_dat, iter=1000, chains=4)"
   ]
  },
  {
   "cell_type": "code",
   "execution_count": 32,
   "metadata": {},
   "outputs": [
    {
     "name": "stderr",
     "output_type": "stream",
     "text": [
      "WARNING:pystan:4 of 20000 iterations ended with a divergence (0.02 %).\n",
      "WARNING:pystan:Try running with adapt_delta larger than 0.8 to remove the divergences.\n"
     ]
    }
   ],
   "source": [
    "sm = pystan.StanModel(file='8schools.stan')\n",
    "fit = sm.sampling(data=schools_dat, iter=10000, chains=4)"
   ]
  },
  {
   "cell_type": "code",
   "execution_count": 33,
   "metadata": {},
   "outputs": [
    {
     "data": {
      "text/plain": [
       "Inference for Stan model: anon_model_4337cb01f5c9774a0dd265dcc01c105e.\n",
       "4 chains, each with iter=10000; warmup=5000; thin=1; \n",
       "post-warmup draws per chain=5000, total post-warmup draws=20000.\n",
       "\n",
       "            mean se_mean     sd   2.5%    25%     50%    75%  97.5%  n_eff   Rhat\n",
       "mu          7.95    0.05   5.11  -2.05   4.66    7.94  11.16  18.16  11217    1.0\n",
       "tau         6.57    0.06   5.63   0.24   2.45    5.21   9.14  20.83   7623    1.0\n",
       "eta[1]      0.39  6.4e-3   0.94  -1.49  -0.24     0.4   1.03   2.19  21189    1.0\n",
       "eta[2]   -9.5e-3  6.0e-3   0.88  -1.75  -0.58 -7.3e-3   0.56   1.76  21690    1.0\n",
       "eta[3]      -0.2  6.3e-3   0.94  -2.02  -0.83    -0.2   0.42   1.68  22451    1.0\n",
       "eta[4]     -0.03  5.8e-3   0.88  -1.77  -0.61   -0.03   0.54   1.74  22601    1.0\n",
       "eta[5]     -0.36  6.2e-3   0.88  -2.05  -0.94   -0.38   0.21   1.42  20269    1.0\n",
       "eta[6]     -0.21  6.0e-3   0.89  -1.94  -0.81   -0.22   0.37   1.57  21566    1.0\n",
       "eta[7]      0.34  6.1e-3   0.89  -1.47  -0.24    0.36   0.93   2.06  21357    1.0\n",
       "eta[8]      0.06  5.9e-3   0.93  -1.77  -0.56    0.07   0.67    1.9  24686    1.0\n",
       "theta[1]   11.41    0.07   8.42   -2.2   6.03   10.22  15.48  31.82  15038    1.0\n",
       "theta[2]    7.88    0.04   6.22  -4.59   3.99    7.89  11.77  20.52  24615    1.0\n",
       "theta[3]    6.12    0.06   7.76 -11.49   1.99    6.68  10.92  20.16  18918    1.0\n",
       "theta[4]    7.62    0.04   6.53  -5.95   3.64    7.71  11.58  20.94  22706    1.0\n",
       "theta[5]    5.12    0.05   6.36  -8.89   1.29    5.66   9.39  16.46  19110    1.0\n",
       "theta[6]    6.13    0.05   6.71   -8.6   2.32    6.56  10.43  18.39  21116    1.0\n",
       "theta[7]   10.65    0.05   6.74  -1.03   6.11   10.01   14.6  25.83  18569    1.0\n",
       "theta[8]    8.56    0.06   7.96  -6.73   3.94    8.28  12.85  26.06  18910    1.0\n",
       "lp__       -4.89    0.03   2.64 -10.66  -6.49   -4.65  -3.03  -0.38   6171    1.0\n",
       "\n",
       "Samples were drawn using NUTS at Sun Mar 29 12:19:15 2020.\n",
       "For each parameter, n_eff is a crude measure of effective sample size,\n",
       "and Rhat is the potential scale reduction factor on split chains (at \n",
       "convergence, Rhat=1)."
      ]
     },
     "execution_count": 33,
     "metadata": {},
     "output_type": "execute_result"
    }
   ],
   "source": [
    "fit"
   ]
  }
 ],
 "metadata": {
  "kernelspec": {
   "display_name": "Python 3",
   "language": "python",
   "name": "python3"
  },
  "language_info": {
   "codemirror_mode": {
    "name": "ipython",
    "version": 3
   },
   "file_extension": ".py",
   "mimetype": "text/x-python",
   "name": "python",
   "nbconvert_exporter": "python",
   "pygments_lexer": "ipython3",
   "version": "3.7.6"
  }
 },
 "nbformat": 4,
 "nbformat_minor": 4
}
