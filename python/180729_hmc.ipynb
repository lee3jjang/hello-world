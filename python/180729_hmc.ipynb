{
 "cells": [
  {
   "cell_type": "code",
   "execution_count": 1,
   "metadata": {},
   "outputs": [],
   "source": [
    "import numpy as np\n",
    "import matplotlib.pyplot as plt"
   ]
  },
  {
   "cell_type": "code",
   "execution_count": 51,
   "metadata": {},
   "outputs": [],
   "source": [
    "def grad_U(q):\n",
    "    # gradient of -ln(f(x))\n",
    "    y = q\n",
    "    return y\n",
    "\n",
    "def f(q):\n",
    "    # f : proportional to density function\n",
    "    y = np.exp(-0.5*q**2)\n",
    "    return y\n",
    "\n",
    "def U(q):\n",
    "    return -np.log(f(q))"
   ]
  },
  {
   "cell_type": "code",
   "execution_count": 82,
   "metadata": {},
   "outputs": [],
   "source": [
    "def HMC(U, grad_U, epsilon, L, current_q):\n",
    "    q = current_q\n",
    "    p = np.random.normal(0,1)\n",
    "    current_p = p\n",
    "    p = p - epsilon * grad_U(q)/2\n",
    "    for i in range(L):\n",
    "        q = q + epsilon * p\n",
    "        if(i!=L): p = p - epsilon*grad_U(q)\n",
    "    p = p - epsilon * grad_U(q)/2\n",
    "    p = -p\n",
    "    current_U = U(current_q)\n",
    "    current_K = np.sum(current_p**2)/2\n",
    "    proposed_U = U(q)\n",
    "    proposed_K = np.sum(p**2)/2\n",
    "    if(np.random.random() < np.exp(current_U-proposed_U+current_K-proposed_K)):\n",
    "        return q\n",
    "    else:\n",
    "        return current_q"
   ]
  },
  {
   "cell_type": "code",
   "execution_count": 117,
   "metadata": {},
   "outputs": [],
   "source": [
    "epsilon = 0.1\n",
    "current_q = 1\n",
    "L = 10\n",
    "\n",
    "M = 100000\n",
    "res = [current_q]\n",
    "q = current_q\n",
    "for _ in range(M):\n",
    "    q = HMC(U, grad_U, epsilon, L, q)\n",
    "    res.append(q)"
   ]
  },
  {
   "cell_type": "code",
   "execution_count": 122,
   "metadata": {},
   "outputs": [
    {
     "data": {
      "image/png": "[encoded data removed]",
      "text/plain": [
       "<Figure size 432x288 with 1 Axes>"
      ]
     },
     "metadata": {},
     "output_type": "display_data"
    }
   ],
   "source": [
    "plt.hist(res[1000:], bins=100, density=True, alpha=0.4)\n",
    "plt.hist(np.random.normal(0,1,100000), bins=100, density=True, alpha=0.4)\n",
    "plt.show()"
   ]
  }
 ],
 "metadata": {
  "kernelspec": {
   "display_name": "Python 3",
   "language": "python",
   "name": "python3"
  },
  "language_info": {
   "codemirror_mode": {
    "name": "ipython",
    "version": 3
   },
   "file_extension": ".py",
   "mimetype": "text/x-python",
   "name": "python",
   "nbconvert_exporter": "python",
   "pygments_lexer": "ipython3",
   "version": "3.6.5"
  }
 },
 "nbformat": 4,
 "nbformat_minor": 2
}
