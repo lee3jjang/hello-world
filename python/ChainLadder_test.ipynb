{
 "cells": [
  {
   "cell_type": "code",
   "execution_count": 17,
   "metadata": {},
   "outputs": [],
   "source": [
    "import numpy as np\n",
    "import pandas as pd\n",
    "from ChainLadder import ChainLadder"
   ]
  },
  {
   "cell_type": "code",
   "execution_count": 18,
   "metadata": {},
   "outputs": [],
   "source": [
    "triangle = pd.DataFrame(data=np.array([[ 4.,  4.,  4.],\n",
    "                                                   [ 4.,  2.,  3.],\n",
    "                                                   [ 2.,  1., np.nan],\n",
    "                                                   [ 1., np.nan, np.nan]]),\n",
    "                            index=pd.Index([2015, 2016, 2017, 2018], name='Accident', dtype=str),\n",
    "                            columns=pd.Index(np.arange(3)+1, name='Development', dtype=str))\n",
    "cl = ChainLadder(triangle, type='incr')"
   ]
  }
 ],
 "metadata": {
  "kernelspec": {
   "display_name": "Python 3",
   "language": "python",
   "name": "python3"
  },
  "language_info": {
   "codemirror_mode": {
    "name": "ipython",
    "version": 3
   },
   "file_extension": ".py",
   "mimetype": "text/x-python",
   "name": "python",
   "nbconvert_exporter": "python",
   "pygments_lexer": "ipython3",
   "version": "3.7.3"
  }
 },
 "nbformat": 4,
 "nbformat_minor": 2
}
