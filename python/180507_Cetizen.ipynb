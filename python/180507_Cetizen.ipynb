{
 "cells": [
  {
   "cell_type": "code",
   "execution_count": 1,
   "metadata": {},
   "outputs": [],
   "source": [
    "import requests\n",
    "from bs4 import BeautifulSoup\n",
    "import pandas as pd\n",
    "import numpy as np\n",
    "import sqlite3\n",
    "pd.options.display.float_format = '{:,.1f}'.format"
   ]
  },
  {
   "cell_type": "code",
   "execution_count": 2,
   "metadata": {},
   "outputs": [],
   "source": [
    "# DB 생성\n",
    "conn = sqlite3.connect('mobile.db')\n",
    "cur = conn.cursor()"
   ]
  },
  {
   "cell_type": "code",
   "execution_count": 7,
   "metadata": {},
   "outputs": [
    {
     "data": {
      "text/plain": [
       "<sqlite3.Cursor at 0x7c63180>"
      ]
     },
     "execution_count": 7,
     "metadata": {},
     "output_type": "execute_result"
    }
   ],
   "source": [
    "# 테이블 생성\n",
    "#cur.execute('create table 스마트폰(모델명, 제목, 가격, 배송비, 판매자, 날짜)')\n",
    "#cur.execute('drop table 스마트폰')\n",
    "cur.execute('delete from 스마트폰')"
   ]
  },
  {
   "cell_type": "code",
   "execution_count": null,
   "metadata": {},
   "outputs": [],
   "source": [
    "for j in range(1,421):\n",
    "    # 접속\n",
    "    query = {'p':j,'auc_sale':1,'escrow_motion':3,\n",
    "             'w%5B1%5D':1,'w%5B2%5D':2,'w%5B3%5D':3,'w%5B4%5D':4,'sc':1,'q':'market','cat%5B0%5D':3}\n",
    "    req = requests.get('http://market.cetizen.co.kr/market.php',params=query)\n",
    "    html = req.text\n",
    "    soup = BeautifulSoup(html, 'html.parser')\n",
    "    \n",
    "    # 페이지 수집\n",
    "    selector = ['form[name=AucListForm]','div','ul:nth-of-type(2)']\n",
    "    selector = ' > '.join(selector)\n",
    "    pos = soup.select(selector)[0]\n",
    "\n",
    "    data = []\n",
    "    for _ in range(20):\n",
    "        row = []\n",
    "        pos = pos.select('li')[0]\n",
    "        row.append(pos.text.replace('\\n',''))\n",
    "        for _ in range(5):\n",
    "            pos = pos.find_next_sibling()\n",
    "            row.append(pos.text.replace('\\n',''))\n",
    "        pos = pos.find_next_sibling()\n",
    "        data.append(row)\n",
    "        pos = pos.findParent().find_next_sibling()\n",
    "\n",
    "    cur.executemany(\"insert into 스마트폰 values (?,?,?,?,?,?)\", data)\n",
    "    if j % 40 == 0:\n",
    "        conn.commit()\n",
    "        print(data[-1])    \n",
    "        \n",
    "conn.commit()"
   ]
  },
  {
   "cell_type": "code",
   "execution_count": null,
   "metadata": {},
   "outputs": [],
   "source": [
    "cur.execute(\"select * from 스마트폰\")\n",
    "rows = cur.fetchall()\n",
    "df = pd.DataFrame(rows, columns=['모델명', '제목', '가격', '배송비', '판매자', '날짜'])\n",
    "df.head()"
   ]
  }
 ],
 "metadata": {
  "kernelspec": {
   "display_name": "Python 3",
   "language": "python",
   "name": "python3"
  },
  "language_info": {
   "codemirror_mode": {
    "name": "ipython",
    "version": 3
   },
   "file_extension": ".py",
   "mimetype": "text/x-python",
   "name": "python",
   "nbconvert_exporter": "python",
   "pygments_lexer": "ipython3",
   "version": "3.6.4"
  }
 },
 "nbformat": 4,
 "nbformat_minor": 2
}
