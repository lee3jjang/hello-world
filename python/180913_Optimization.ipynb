{
 "cells": [
  {
   "cell_type": "code",
   "execution_count": 1,
   "metadata": {},
   "outputs": [],
   "source": [
    "import numpy as np\n",
    "import matplotlib.pyplot as plt\n",
    "from mpl_toolkits.mplot3d import Axes3D\n",
    "from ipywidgets import interact\n",
    "import ipywidgets as widgets"
   ]
  },
  {
   "cell_type": "code",
   "execution_count": 264,
   "metadata": {},
   "outputs": [],
   "source": [
    "# Rosenbrock function\n",
    "def rosen(x):\n",
    "    return 100*(x[1]-x[0]**2)**2+(1-x[0])**2\n",
    "\n",
    "def rosen_der(x):\n",
    "    der = np.zeros(2)\n",
    "    der[0] = -400*x[0]*(x[1]-x[0]**2)-2*(1-x[0])\n",
    "    der[1] = 200*(x[1]-x[0]**2)\n",
    "    return der\n",
    "\n",
    "def rosen_hess(x):\n",
    "    hess = np.array([[1200*x[0]**2-400*x[1]+2, -400*x[0]],\n",
    "                     [-400*x[0], 200]])\n",
    "    return hess"
   ]
  },
  {
   "cell_type": "code",
   "execution_count": 286,
   "metadata": {},
   "outputs": [],
   "source": [
    "# Gradient Descent\n",
    "class GradientDescent:\n",
    "    def __init__(self, grad, eps=1e-4, tol=1e-6, n=1e6):\n",
    "        self.eps = eps\n",
    "        self.tol = tol\n",
    "        self.grad = grad\n",
    "        self.n = int(n)\n",
    "        \n",
    "    def __Next(self, x):\n",
    "        xp = x - self.eps*self.grad(x)\n",
    "        return xp\n",
    "    \n",
    "    def __Norm(self, x):\n",
    "        return np.sqrt(np.sum(self.grad(x)**2))\n",
    "    \n",
    "    def Optim(self, p):\n",
    "        result = []\n",
    "        result.append(p)\n",
    "        for _ in range(self.n):\n",
    "            p = self.__Next(p)\n",
    "            result.append(p)\n",
    "            if self.__Norm(p) < self.tol:\n",
    "                break\n",
    "        result = np.asarray(result)\n",
    "        return result"
   ]
  },
  {
   "cell_type": "code",
   "execution_count": 279,
   "metadata": {},
   "outputs": [],
   "source": [
    "# Newton's Method\n",
    "class Newton:\n",
    "    def __init__(self, grad, hess, eps=1e-4, tol=1e-6, n=1e6):\n",
    "        self.eps = eps\n",
    "        self.tol = tol\n",
    "        self.grad = grad\n",
    "        self.hess = hess\n",
    "        self.n = int(n)\n",
    "        \n",
    "    def __Next(self, x):\n",
    "        xp = x - self.eps*np.matmul(np.linalg.inv(self.hess(x)),self.grad(x))\n",
    "        return xp\n",
    "    \n",
    "    def __Norm(self, x):\n",
    "        return np.sqrt(np.sum(self.grad(x)**2))\n",
    "    \n",
    "    def Optim(self, p):\n",
    "        result = []\n",
    "        result.append(p)\n",
    "        for _ in range(self.n):\n",
    "            p = self.__Next(p)\n",
    "            result.append(p)\n",
    "            if self.__Norm(p) < self.tol:\n",
    "                break\n",
    "        result = np.asarray(result)\n",
    "        return result"
   ]
  },
  {
   "cell_type": "code",
   "execution_count": null,
   "metadata": {},
   "outputs": [],
   "source": [
    "# Quasi-Newton Method\n",
    "class QuasiNewton:\n",
    "    def __init__(self, grad, eps=1e-4, tol=1e-6, n=1e5, method=\"SR1\"):\n",
    "        self.eps = eps\n",
    "        self.tol = tol\n",
    "        self.grad = grad\n",
    "        self.n = int(n)\n",
    "        self.H = np.identity(2)\n",
    "        self.method = method\n",
    "        \n",
    "    def __Next(self, x):\n",
    "        xp = x - self.eps*np.matmul(self.H, self.grad(x))\n",
    "        s = xp - x\n",
    "        y = self.grad(xp) - self.grad(x)\n",
    "        if self.method==\"SR1\":\n",
    "            self.H = self.H + np.outer(s - np.matmul(self.H,y), s - np.matmul(self.H,y))/np.dot(s - np.matmul(self.H,y), y)\n",
    "        elif self.method==\"DFP\":\n",
    "            self.H = self.H - np.matmul(np.outer(np.matmul(self.H, y), y), self.H)/np.dot(y, np.matmul(self.H, y)) + np.outer(s,s)/np.dot(y,s)\n",
    "        elif self.method==\"BFGS\":\n",
    "            self.H = np.matmul(np.matmul(np.identity(2)-np.outer(s,y)/np.dot(y,s), self.H), np.identity(2)-np.outer(y,s)/np.dot(y,s)) + np.outer(s,s)/np.dot(y,s)\n",
    "        return xp\n",
    "    \n",
    "    def __Norm(self, p):\n",
    "        return np.sqrt(np.sum(self.grad(p)**2))\n",
    "    \n",
    "    def Optim(self, p):\n",
    "        result = []\n",
    "        result.append(p)\n",
    "        for _ in range(self.n):\n",
    "            p = self.__Next(p)\n",
    "            result.append(p)\n",
    "            if self.__Norm(p) < self.tol:\n",
    "                break\n",
    "        result = np.asarray(result)\n",
    "        return result"
   ]
  },
  {
   "cell_type": "code",
   "execution_count": 292,
   "metadata": {},
   "outputs": [
    {
     "data": {
      "text/plain": [
       "array([[4.        , 3.        ],\n",
       "       [1.9194    , 3.26      ],\n",
       "       [1.91993629, 3.26439442],\n",
       "       ...,\n",
       "       [1.0036646 , 1.00732171],\n",
       "       [1.00366423, 1.00732098],\n",
       "       [1.00366387, 1.00732025]])"
      ]
     },
     "execution_count": 292,
     "metadata": {},
     "output_type": "execute_result"
    }
   ],
   "source": [
    "# 최적화\n",
    "optimizer = QuasiNewton(rosen_der, method=\"BFGS\")\n",
    "p = np.array([4,3])\n",
    "result = optimizer.Optim(p)\n",
    "result"
   ]
  },
  {
   "cell_type": "code",
   "execution_count": 302,
   "metadata": {},
   "outputs": [
    {
     "data": {
      "application/vnd.jupyter.widget-view+json": {
       "model_id": "c472f3f8e7c64cbeb4d0f771311fd7d3",
       "version_major": 2,
       "version_minor": 0
      },
      "text/plain": [
       "interactive(children=(IntSlider(value=43, continuous_update=False, description='a', max=180, min=-180), IntSli…"
      ]
     },
     "metadata": {},
     "output_type": "display_data"
    }
   ],
   "source": [
    "# 그림 그리기\n",
    "w1 = widgets.IntSlider(min=-180, max=180, step=1, value=43, continuous_update=False)\n",
    "w2 = widgets.IntSlider(min=-180, max=180, step=1, value=120, continuous_update=False)\n",
    "w3 = widgets.IntSlider(min=1, max=100, step=1, value=10, continuous_update=False)\n",
    "w4 = widgets.IntSlider(min=1, max=100, step=1, value=10, continuous_update=False)\n",
    "@interact(a=w1, b=w2, size_x=w3, size_y=w4)\n",
    "def graph(a, b, size_x, size_y):\n",
    "    # 함수 \n",
    "    n = 100\n",
    "    x = np.linspace(-size_x, size_x, n)\n",
    "    y = np.linspace(-size_y, size_y, n)\n",
    "    X, Y = np.meshgrid(x, y)\n",
    "    Z = rosen([X, Y])\n",
    "    \n",
    "    # 최적화 경로\n",
    "    p_x = result[:,0]\n",
    "    p_y = result[:,1]\n",
    "    p_z = rosen([p_x, p_y])\n",
    "\n",
    "    fig = plt.figure(figsize=(10, 8))\n",
    "    ax = fig.add_subplot(1,1,1, projection='3d')\n",
    "    ax.plot3D(p_x, p_y, p_z, c='red')\n",
    "    ax.plot_surface(X,Y,Z, rstride=10, cstride=10, cmap='viridis')\n",
    "    ax.set_xlabel('X')\n",
    "    ax.set_ylabel('Y')\n",
    "    ax.set_zlabel('Z')\n",
    "    ax.set_title('Rosenbrock Function')\n",
    "    ax.view_init(a, b)\n",
    "    plt.show()"
   ]
  }
 ],
 "metadata": {
  "kernelspec": {
   "display_name": "Python 3",
   "language": "python",
   "name": "python3"
  },
  "language_info": {
   "codemirror_mode": {
    "name": "ipython",
    "version": 3
   },
   "file_extension": ".py",
   "mimetype": "text/x-python",
   "name": "python",
   "nbconvert_exporter": "python",
   "pygments_lexer": "ipython3",
   "version": "3.6.5"
  }
 },
 "nbformat": 4,
 "nbformat_minor": 2
}
