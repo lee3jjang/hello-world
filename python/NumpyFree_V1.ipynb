{
 "cells": [
  {
   "cell_type": "code",
   "execution_count": 27,
   "metadata": {},
   "outputs": [],
   "source": [
    "from random import random\n",
    "from math import pi, sin, cos, sqrt, log, exp\n",
    "import itertools\n",
    "import matplotlib.pyplot as plt\n",
    "from timeit import timeit\n",
    "plt.style.use(\"ggplot\")"
   ]
  },
  {
   "cell_type": "code",
   "execution_count": 28,
   "metadata": {},
   "outputs": [],
   "source": [
    "def arange(x, y, n=None):\n",
    "    if n==None:\n",
    "        return list(range(x,y))\n",
    "    return [x+(y-x)/n*i for i in range(n)]"
   ]
  },
  {
   "cell_type": "code",
   "execution_count": 29,
   "metadata": {},
   "outputs": [],
   "source": [
    "def normal(n=1, method=\"box-muller\"):\n",
    "    \n",
    "    # Box-Muller transform\n",
    "    if method == \"box-muller\":\n",
    "        remainder = n%2\n",
    "        quotient = n//2\n",
    "        m = quotient + remainder\n",
    "        z = []\n",
    "        for _ in range(m):\n",
    "            u1 = random()\n",
    "            u2 = random()\n",
    "            theta = 2*pi*u2\n",
    "            R = sqrt(-2*log(u1))\n",
    "            z0 = R*cos(theta)\n",
    "            z1 = R*sin(theta)\n",
    "            z.append([z0, z1])\n",
    "            w = list(itertools.chain([x[0] for x in z], [x[1] for x in z]))\n",
    "            if remainder == 1:\n",
    "                w = w[:-1]\n",
    "            if n==1:\n",
    "                w = w[0]\n",
    "                \n",
    "    # Marsaglia polar method\n",
    "    elif method == \"polar\":\n",
    "        remainder = n%2\n",
    "        quotient = n//2\n",
    "        m = quotient + remainder\n",
    "        z = []\n",
    "        for _ in range(m):\n",
    "            while(True):\n",
    "                u = 2*random()-1\n",
    "                v = 2*random()-1\n",
    "                s = u**2 + v**2\n",
    "                if s < 1 and s > 0:\n",
    "                    z0 = u*sqrt(-2*log(s)/s)\n",
    "                    z1 = v*sqrt(-2*log(s)/s)\n",
    "                    break\n",
    "            z.append([z0, z1])\n",
    "            w = list(itertools.chain([x[0] for x in z], [x[1] for x in z]))\n",
    "            if remainder == 1:\n",
    "                w = w[:-1]\n",
    "            if n==1:\n",
    "                w = w[0]\n",
    "                \n",
    "    return w"
   ]
  },
  {
   "cell_type": "code",
   "execution_count": 30,
   "metadata": {},
   "outputs": [
    {
     "data": {
      "image/png": "[encoded data removed]",
      "text/plain": [
       "<Figure size 432x288 with 1 Axes>"
      ]
     },
     "metadata": {},
     "output_type": "display_data"
    }
   ],
   "source": [
    "w = normal(10000, \"polar\")\n",
    "D = arange(-3,3,100)\n",
    "y = [1/sqrt(2*pi)*exp(-0.5*x**2) for x in D]\n",
    "\n",
    "plt.plot(D,y)\n",
    "plt.hist(w, bins=100, density=True)\n",
    "plt.show()"
   ]
  },
  {
   "cell_type": "code",
   "execution_count": 31,
   "metadata": {},
   "outputs": [
    {
     "name": "stdout",
     "output_type": "stream",
     "text": [
      "mean :  0.003\n",
      "std  :  1.001\n"
     ]
    }
   ],
   "source": [
    "mean = sum(w)/len(w)\n",
    "std = sqrt(sum([(x - mean)**2 for x in w])/len(w))\n",
    "print(\"mean : {:>6.3f}\".format(mean))\n",
    "print(\"std  : {:>6.3f}\".format(std))"
   ]
  },
  {
   "cell_type": "code",
   "execution_count": 32,
   "metadata": {},
   "outputs": [
    {
     "data": {
      "text/plain": [
       "2.465320086937595"
      ]
     },
     "execution_count": 32,
     "metadata": {},
     "output_type": "execute_result"
    }
   ],
   "source": [
    "timeit('normal(1 ,\"box-muller\")', setup=\"from __main__ import normal\")"
   ]
  },
  {
   "cell_type": "code",
   "execution_count": 33,
   "metadata": {},
   "outputs": [
    {
     "data": {
      "text/plain": [
       "3.5866840670914826"
      ]
     },
     "execution_count": 33,
     "metadata": {},
     "output_type": "execute_result"
    }
   ],
   "source": [
    "timeit('normal(1, \"polar\")', setup=\"from __main__ import normal\")"
   ]
  }
 ],
 "metadata": {
  "kernelspec": {
   "display_name": "Python 3",
   "language": "python",
   "name": "python3"
  },
  "language_info": {
   "codemirror_mode": {
    "name": "ipython",
    "version": 3
   },
   "file_extension": ".py",
   "mimetype": "text/x-python",
   "name": "python",
   "nbconvert_exporter": "python",
   "pygments_lexer": "ipython3",
   "version": "3.6.5"
  }
 },
 "nbformat": 4,
 "nbformat_minor": 2
}
