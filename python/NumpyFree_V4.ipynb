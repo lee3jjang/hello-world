{
 "cells": [
  {
   "cell_type": "code",
   "execution_count": 1,
   "metadata": {},
   "outputs": [],
   "source": [
    "from random import random\n",
    "from math import pi, sin, cos, sqrt, log, exp\n",
    "import itertools"
   ]
  },
  {
   "cell_type": "code",
   "execution_count": 259,
   "metadata": {},
   "outputs": [],
   "source": [
    "num_rows = lambda A:len(A)\n",
    "num_cols = lambda A:len(A[0])\n",
    "\n",
    "def print_mat(A):\n",
    "    n = num_rows(A)\n",
    "    \n",
    "    for i in range(n):\n",
    "        print(A[i])\n",
    "    print()\n",
    "\n",
    "def zeros(n, m):\n",
    "    A = []  \n",
    "    \n",
    "    for i in range(n):\n",
    "        row = []\n",
    "        for j in range(m):\n",
    "            row.append(0)\n",
    "        A.append(row)       \n",
    "    return A\n",
    "\n",
    "def identity(n):\n",
    "    A = zeros(n,n)\n",
    "    \n",
    "    for i in range(n):\n",
    "        A[i][i] = 1\n",
    "    return A\n",
    "\n",
    "def add(A, B):\n",
    "    n = num_rows(A)\n",
    "    m = num_cols(A)\n",
    "    C = zeros(n,m)\n",
    "    \n",
    "    for i in range(n):\n",
    "        for j in range(m):\n",
    "            C[i][j] = A[i][j] + B[i][j]    \n",
    "    return C\n",
    "\n",
    "def scalar(c, A):\n",
    "    n = num_rows(A)\n",
    "    m = num_cols(A)\n",
    "    B = zeros(n,m)\n",
    "    \n",
    "    for i in range(n):\n",
    "        for j in range(m):\n",
    "            B[i][j] = c*A[i][j]     \n",
    "    return B\n",
    "\n",
    "def minus(A):\n",
    "    return scalar(-1,A)\n",
    "\n",
    "def subtract(A, B):\n",
    "    return add(A, minus(B))\n",
    "\n",
    "def matmul(A, B):\n",
    "    n = num_rows(A)\n",
    "    m = num_cols(A)\n",
    "    l = num_cols(B)\n",
    "    C = zeros(n,l)\n",
    "    \n",
    "    for i in range(n):\n",
    "        for j in range(l):\n",
    "            for k in range(m):\n",
    "                C[i][j] += A[i][k]*B[k][j]\n",
    "    return C\n",
    "\n",
    "def submatrix(A, r, s):\n",
    "    n = num_rows(A)\n",
    "    m = num_cols(A)\n",
    "    B = zeros(n-1,m-1)\n",
    "    \n",
    "    for i in range(r):\n",
    "        for j in range(s):\n",
    "            B[i][j] = A[i][j]\n",
    "            \n",
    "    for i in range(r):\n",
    "        for j in range(s, m-1):\n",
    "            B[i][j] = A[i][j+1]\n",
    "            \n",
    "    for i in range(r, n-1):\n",
    "        for j in range(s):\n",
    "            B[i][j] = A[i+1][j]\n",
    "    \n",
    "    for i in range(r, n-1):\n",
    "        for j in range(s, m-1):\n",
    "            B[i][j] = A[i+1][j+1]   \n",
    "    return B\n",
    "\n",
    "def det(A):\n",
    "    n = num_rows(A)\n",
    "    res = 0\n",
    "    \n",
    "    if n == 1:\n",
    "        res = A[0][0]\n",
    "    elif n == 2:\n",
    "        res = A[0][0]*A[1][1] - A[0][1]*A[1][0]\n",
    "    else:\n",
    "        for i in range(n):\n",
    "            res += det(submatrix(A,0,i))*A[0][i]*(-1)**i\n",
    "    return res\n",
    "\n",
    "def t(A):\n",
    "    n = num_rows(A)\n",
    "    m = num_cols(A)\n",
    "    \n",
    "    B = zeros(m,n)\n",
    "    for i in range(m):\n",
    "        for j in range(n):\n",
    "            B[i][j] = A[j][i]\n",
    "    return B\n",
    "\n",
    "def symmetric(A):\n",
    "    B = scalar(0.5,add(A, t(A)))\n",
    "    return B\n",
    "\n",
    "def skew_symmetric(A):\n",
    "    B = scalar(0.5,add(A, minus(t(A))))\n",
    "    return B"
   ]
  },
  {
   "cell_type": "code",
   "execution_count": 260,
   "metadata": {},
   "outputs": [],
   "source": [
    "def zeros_vec(n):\n",
    "    v = []\n",
    "    for i in range(n):\n",
    "        v.append(0)\n",
    "    return v    \n",
    "\n",
    "def dot(u, v):\n",
    "    n = len(v)\n",
    "    res = 0\n",
    "    for i in range(n):\n",
    "        res += u[i]*v[i]\n",
    "    return res\n",
    "\n",
    "def add_vec(u, v):\n",
    "    n = len(u)\n",
    "    w = zeros_vec(n)\n",
    "    for i in range(n):\n",
    "        w[i] = u[i] + v[i]\n",
    "    return w\n",
    "\n",
    "def outer(u, v):\n",
    "    n = len(u)\n",
    "    m = len(v)\n",
    "    A = zeros(n,m)\n",
    "    for i in range(n):\n",
    "        for j in range(m):\n",
    "            A[i][j] = u[i]*v[j]\n",
    "    return A\n",
    "\n",
    "def chol(A):\n",
    "    n = num_rows(A)\n",
    "    R = zeros(n, n)\n",
    "    R[0][0] = sqrt(A[0][0])\n",
    "\n",
    "    if n==1:\n",
    "        return [[R[0][0]]]\n",
    "    else:\n",
    "        for i in range(1,n):\n",
    "            R[0][i] = A[0][i]/R[0][0]\n",
    "\n",
    "        subR = chol(subtract(submatrix(A,0,0),outer(R[0][1:],R[0][1:])))\n",
    "        for i in range(n-1):\n",
    "            for j in range(n-1):\n",
    "                R[i+1][j+1] = subR[i][j]\n",
    "        return R"
   ]
  },
  {
   "cell_type": "code",
   "execution_count": 261,
   "metadata": {},
   "outputs": [],
   "source": [
    "A = [[25,15,-5],\n",
    "     [15,18,0],\n",
    "     [-5,0,11]]\n",
    "\n",
    "B = [[3,2,5],\n",
    "     [2,-4,78],\n",
    "     [-5,0,-1]]\n",
    "\n",
    "C = [[25,7,-5,4],\n",
    "     [15,18,0,-2],\n",
    "     [-5,0,11,4],\n",
    "     [7,20,-2,5]]"
   ]
  },
  {
   "cell_type": "code",
   "execution_count": 262,
   "metadata": {},
   "outputs": [
    {
     "name": "stdout",
     "output_type": "stream",
     "text": [
      "[25, 7, -5, 4]\n",
      "[15, 18, 0, -2]\n",
      "[-5, 0, 11, 4]\n",
      "[7, 20, -2, 5]\n",
      "\n"
     ]
    }
   ],
   "source": [
    "print_mat(D)"
   ]
  },
  {
   "cell_type": "code",
   "execution_count": 263,
   "metadata": {},
   "outputs": [
    {
     "data": {
      "text/plain": [
       "[[25.0, 7.0, -5.0, 4.0],\n",
       " [15.0, 18.0, 0.0, -2.0],\n",
       " [-5.0, 0.0, 11.0, 4.0],\n",
       " [7.0, 20.0, -2.0, 5.0]]"
      ]
     },
     "execution_count": 263,
     "metadata": {},
     "output_type": "execute_result"
    }
   ],
   "source": [
    "add(skew_symmetric(D), symmetric(D))"
   ]
  },
  {
   "cell_type": "code",
   "execution_count": 243,
   "metadata": {},
   "outputs": [
    {
     "name": "stdout",
     "output_type": "stream",
     "text": [
      "[25.0, 11.0, -5.0, 5.5]\n",
      "[11.0, 18.0, 0.0, 9.0]\n",
      "[-5.0, 0.0, 11.0, 1.0]\n",
      "[5.5, 9.0, 1.0, 5.0]\n",
      "\n",
      "[5.0, 2.2, -1.0, 1.1]\n",
      "[0, 3.627671429443411, 0.6064496310619685, 1.8138357147217055]\n",
      "[0, 0, 3.1035816156474447, 0.3222083785257208]\n",
      "[0, 0, 0, 0.6294297107762119]\n",
      "\n",
      "[25.0, 11.0, -5.0, 5.5]\n",
      "[11.0, 18.0, 0.0, 9.0]\n",
      "[-5.0, 0.0, 11.000000000000002, 1.0]\n",
      "[5.5, 9.0, 1.0, 5.0]\n",
      "\n"
     ]
    }
   ],
   "source": [
    "E = symmetric(D)\n",
    "print_mat(E)\n",
    "R = chol(E)\n",
    "print_mat(R)\n",
    "print_mat(matmul(t(R),R))"
   ]
  },
  {
   "cell_type": "code",
   "execution_count": 210,
   "metadata": {},
   "outputs": [
    {
     "data": {
      "text/plain": [
       "9.0"
      ]
     },
     "execution_count": 210,
     "metadata": {},
     "output_type": "execute_result"
    }
   ],
   "source": [
    "subtract(submatrix(A,0,0),outer(R[0][1:],R[0][1:]))[0][0]"
   ]
  },
  {
   "cell_type": "code",
   "execution_count": 123,
   "metadata": {},
   "outputs": [
    {
     "name": "stdout",
     "output_type": "stream",
     "text": [
      "[25, 7, -5]\n",
      "[15, 18, 0]\n",
      "[-5, 0, 11]\n",
      "\n",
      "[3, 2, 5]\n",
      "[2, -4, 78]\n",
      "[-5, 0, -1]\n",
      "\n",
      "[100, 28, -20]\n",
      "[60, 72, 0]\n",
      "[-20, 0, 44]\n",
      "\n",
      "[-25, -7, 5]\n",
      "[-15, -18, 0]\n",
      "[5, 0, -11]\n",
      "\n",
      "[28, 9, 0]\n",
      "[17, 14, 78]\n",
      "[-10, 0, 10]\n",
      "\n",
      "[22, 5, -10]\n",
      "[13, 22, -78]\n",
      "[0, 0, 12]\n",
      "\n"
     ]
    }
   ],
   "source": [
    "print_mat(A)\n",
    "print_mat(B)\n",
    "print_mat(scalar(4,A))\n",
    "print_mat(minus(A))\n",
    "print_mat(add(A,B))\n",
    "print_mat(subtract(A,B))"
   ]
  }
 ],
 "metadata": {
  "kernelspec": {
   "display_name": "Python 3",
   "language": "python",
   "name": "python3"
  },
  "language_info": {
   "codemirror_mode": {
    "name": "ipython",
    "version": 3
   },
   "file_extension": ".py",
   "mimetype": "text/x-python",
   "name": "python",
   "nbconvert_exporter": "python",
   "pygments_lexer": "ipython3",
   "version": "3.6.5"
  }
 },
 "nbformat": 4,
 "nbformat_minor": 2
}
