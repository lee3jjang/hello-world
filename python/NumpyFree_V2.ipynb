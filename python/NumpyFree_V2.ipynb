{
 "cells": [
  {
   "cell_type": "code",
   "execution_count": 396,
   "metadata": {},
   "outputs": [],
   "source": [
    "from random import random, randint\n",
    "from Inertia import normal, arange\n",
    "from math import pi, sin, cos, sqrt, log, exp, gamma\n",
    "import itertools\n",
    "import matplotlib.pyplot as plt\n",
    "from timeit import timeit\n",
    "plt.style.use(\"ggplot\")"
   ]
  },
  {
   "cell_type": "code",
   "execution_count": 2,
   "metadata": {},
   "outputs": [],
   "source": [
    "# Rosenbrock Function\n",
    "# only valid when input is a 2-dim vector, v=(x,y)\n",
    "def rosen(x, y, order=None):\n",
    "    \n",
    "    a = 1\n",
    "    b = 100\n",
    "    \n",
    "    # function value\n",
    "    if order == None:\n",
    "        f = (a-x**2)+b*(y-x**2)**2\n",
    "        return f\n",
    "    \n",
    "    # Jacobian\n",
    "    elif order == \"jaco\":\n",
    "        Jx = -2*(a-x) + 2*b*(y-x**2)*(-2*x)\n",
    "        Jy = 2*b*(y-x**2)\n",
    "        J = [Jx, Jy]\n",
    "        return J\n",
    "    \n",
    "    # Hessian\n",
    "    elif order == \"hess\":\n",
    "        Hxx = 2 - 4*b*(y-x**2) - 4*b*x*(-2*x)\n",
    "        Hxy = Hyx = -4*b*x\n",
    "        Hyy = 2*b\n",
    "        H = [[Hxx, Hxy], [Hyx, Hyy]]\n",
    "        return H\n",
    "    \n",
    "    else:\n",
    "        return None  "
   ]
  },
  {
   "cell_type": "code",
   "execution_count": 3,
   "metadata": {},
   "outputs": [],
   "source": [
    "# Optimization(Gradient Descent)\n",
    "# only valid when input is a 2-dim vector, v=(x,y)\n",
    "def optim(f, x0, method=\"grad\"):\n",
    "    \n",
    "    if method==\"grad\":\n",
    "        \n",
    "        # Initial value\n",
    "        x = x0[0]\n",
    "        y = x0[1]\n",
    "\n",
    "        # Setup\n",
    "        h = 0.0001\n",
    "        n = 100000\n",
    "        eps = 1e-5\n",
    "\n",
    "        # Loop\n",
    "        for i in range(n):\n",
    "            # Update\n",
    "            J = rosen(x, y, \"jaco\")\n",
    "            x = x-h*J[0]\n",
    "            y = y-h*J[1]\n",
    "\n",
    "            # Tolerance\n",
    "            tol = sqrt(J[0]**2 + J[1]**2)\n",
    "            if(tol < eps):\n",
    "                break\n",
    "        return [x, y]\n",
    "    \n",
    "    else:\n",
    "        return None"
   ]
  },
  {
   "cell_type": "code",
   "execution_count": 227,
   "metadata": {},
   "outputs": [],
   "source": [
    "# Multivariate normal distribution\n",
    "# only valid when input is a 2-dim vector, v=(x,y)\n",
    "def gaussian(p, **kwargs):\n",
    "    mu = kwargs['mu']\n",
    "    cov = kwargs['cov']\n",
    "    \n",
    "    det = cov[0][0]*cov[1][1] - cov[1][0]*cov[0][1]\n",
    "    cov_inv = [[cov[1][1]/det, -cov[0][1]/det], [-cov[1][0]/det, cov[0][0]/det]]\n",
    "    v = [p[0]-mu[0], p[1]-mu[1]]\n",
    "    dist = v[0]*(v[0]*cov_inv[0][0]+v[1]*cov_inv[1][0]) + v[1]*(v[0]*cov_inv[0][1]+v[1]*cov_inv[1][1])\n",
    "    z = exp(-dist/2)/(2*pi*sqrt(det))\n",
    "    return z"
   ]
  },
  {
   "cell_type": "code",
   "execution_count": 416,
   "metadata": {},
   "outputs": [],
   "source": [
    "# Metropolis-Hastings\n",
    "def metropolis(density, x0, n=1000, burn_in=100, thin=5, **kwargs):\n",
    "    # Multivarate normal distribution\n",
    "    if density.__name__ == \"gaussian\":\n",
    "        # Setting\n",
    "        mu = kwargs['mu']\n",
    "        cov = kwargs['cov']\n",
    "\n",
    "        # Initial value\n",
    "        x = x0[0]\n",
    "        y = x0[1]\n",
    "        \n",
    "        # Loop\n",
    "        trace = []\n",
    "        for _ in range(n):\n",
    "            xp = normal(1, mu=x, sigma=3)\n",
    "            yp = normal(1, mu=y, sigma=3)    \n",
    "            alpha = min(1,density([xp, yp], mu=mu, cov=cov)/density([x, y], mu=mu, cov=cov))\n",
    "            u = random()\n",
    "            if (u < alpha):\n",
    "                x = xp\n",
    "                y = yp\n",
    "            trace.append([x,y])\n",
    "            \n",
    "        return trace[burn_in::thin]\n",
    "    \n",
    "    # For test\n",
    "    elif density.__name__ == \"test\":\n",
    "        # Setting\n",
    "        m = kwargs['m']\n",
    "\n",
    "        # Initial value\n",
    "        x = x0\n",
    "        \n",
    "        # Loop\n",
    "        trace = []\n",
    "        for _ in range(n):\n",
    "            xp = normal(1, mu=x, sigma=1)  \n",
    "            alpha = min(1, density(xp, n=m)/density(x, n=m))\n",
    "            u = random()\n",
    "            if (u < alpha):\n",
    "                x = xp\n",
    "            trace.append(x)\n",
    "            \n",
    "        return trace[burn_in::thin]\n",
    "    \n",
    "    else:\n",
    "        return None"
   ]
  },
  {
   "cell_type": "code",
   "execution_count": 417,
   "metadata": {},
   "outputs": [
    {
     "data": {
      "image/png": "[encoded data removed]",
      "text/plain": [
       "<Figure size 432x288 with 1 Axes>"
      ]
     },
     "metadata": {},
     "output_type": "display_data"
    }
   ],
   "source": [
    "x0 = [4,3]\n",
    "param = {'mu':[1,2], 'cov':[[5,-3],[-3,4]]}\n",
    "p = metropolis(density=gaussian,\n",
    "               x0=x0,\n",
    "               n=100000,\n",
    "               burn_in=100,\n",
    "               thin=5,\n",
    "               mu=param['mu'],\n",
    "               cov=param['cov'])\n",
    "\n",
    "plt.scatter([x for x, y in p], [y for x, y in p], s=10)\n",
    "plt.show()"
   ]
  },
  {
   "cell_type": "code",
   "execution_count": 436,
   "metadata": {},
   "outputs": [],
   "source": [
    "def test(rate, n=1):\n",
    "    k = 3\n",
    "    theta = 10\n",
    "    return rate**(k-1)*exp(-rate/theta)*exp(-rate)*rate**n"
   ]
  },
  {
   "cell_type": "code",
   "execution_count": 454,
   "metadata": {},
   "outputs": [],
   "source": [
    "m = 13\n",
    "p = metropolis(density=test,\n",
    "               x0 = 3,\n",
    "               n=100000,\n",
    "               burn_in=100,\n",
    "               thin=5,\n",
    "               m=m)"
   ]
  },
  {
   "cell_type": "code",
   "execution_count": 455,
   "metadata": {},
   "outputs": [
    {
     "data": {
      "image/png": "[encoded data removed]",
      "text/plain": [
       "<Figure size 432x288 with 1 Axes>"
      ]
     },
     "metadata": {},
     "output_type": "display_data"
    }
   ],
   "source": [
    "D = arange(0,100,1000)\n",
    "k_p = k+m\n",
    "theta_p = theta/(1+theta)\n",
    "y = [x**(k_p-1)*exp(-x/theta_p)/(gamma(k_p)*theta_p**k_p) for x in D]\n",
    "plt.hist(p, bins=100, density=True)\n",
    "plt.plot(D, y)\n",
    "plt.show()"
   ]
  }
 ],
 "metadata": {
  "kernelspec": {
   "display_name": "Python 3",
   "language": "python",
   "name": "python3"
  },
  "language_info": {
   "codemirror_mode": {
    "name": "ipython",
    "version": 3
   },
   "file_extension": ".py",
   "mimetype": "text/x-python",
   "name": "python",
   "nbconvert_exporter": "python",
   "pygments_lexer": "ipython3",
   "version": "3.6.5"
  }
 },
 "nbformat": 4,
 "nbformat_minor": 2
}
