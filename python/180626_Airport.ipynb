{
 "cells": [
  {
   "cell_type": "code",
   "execution_count": 41,
   "metadata": {},
   "outputs": [],
   "source": [
    "from selenium import webdriver\n",
    "from selenium.webdriver.support.ui import Select\n",
    "import datetime\n",
    "import pandas as pd\n",
    "from time import sleep\n",
    "import sqlite3\n",
    "import numpy as np"
   ]
  },
  {
   "cell_type": "code",
   "execution_count": 2,
   "metadata": {},
   "outputs": [],
   "source": [
    "# 일자 생성 함수\n",
    "def getDates():\n",
    "    res = []\n",
    "    start = datetime.date(2016,1,1)\n",
    "    end = datetime.date(2017,12,31)\n",
    "    delta = datetime.timedelta(days=1)\n",
    "    \n",
    "    date = start-delta\n",
    "    for _ in range((end-start).days + 1):\n",
    "        date = date+delta\n",
    "        res.append(str(date))\n",
    "    return res"
   ]
  },
  {
   "cell_type": "code",
   "execution_count": 11,
   "metadata": {},
   "outputs": [],
   "source": [
    "# 프레임 접근 함수\n",
    "def getFrame(date, port):\n",
    "    driver.get('http://www.airportal.go.kr/life/airinfo/RbHanFrm.jsp')\n",
    "    driver.find_element_by_id('current_date').clear()\n",
    "    driver.find_element_by_id('current_date').send_keys(date)\n",
    "    select = Select(driver.find_element_by_id('select_airport'))\n",
    "    select.select_by_visible_text(port)\n",
    "    driver.switch_to.frame(driver.find_element_by_name('sframe'))\n",
    "    sleep(2)\n",
    "    return None"
   ]
  },
  {
   "cell_type": "code",
   "execution_count": 77,
   "metadata": {},
   "outputs": [],
   "source": [
    "# 데이터 수집 함수\n",
    "def getData(date, port):\n",
    "    column = [0,2,4,6,8,10,12,14]\n",
    "    colnames = ['항공사','편명','출발지','계획','예상','도착','구분','현황']\n",
    "    getFrame(date, port)\n",
    "    html = driver.find_element_by_tag_name('table').get_attribute('innerHTML')\n",
    "    df = pd.read_html(html)[0]\n",
    "    df = df.loc[~df[0].isna(), column]\n",
    "    df.columns = colnames\n",
    "    df['기준년월'] = date\n",
    "    df['공항명'] = port\n",
    "    return np.array(df)"
   ]
  },
  {
   "cell_type": "code",
   "execution_count": 30,
   "metadata": {},
   "outputs": [],
   "source": [
    "# DB 생성\n",
    "conn = sqlite3.connect('Airport.db')\n",
    "cur = conn.cursor()"
   ]
  },
  {
   "cell_type": "code",
   "execution_count": 35,
   "metadata": {},
   "outputs": [
    {
     "data": {
      "text/plain": [
       "<sqlite3.Cursor at 0xa8632e0>"
      ]
     },
     "execution_count": 35,
     "metadata": {},
     "output_type": "execute_result"
    }
   ],
   "source": [
    "# 테이블 생성\n",
    "try:\n",
    "    cur.execute('create table 항공정보(항공사,편명,출발지,계획,예상,도착,구분,현황,기준년월,공항명)')\n",
    "except:\n",
    "    pass\n",
    "#cur.execute('delete from 항공정보')"
   ]
  },
  {
   "cell_type": "code",
   "execution_count": 13,
   "metadata": {},
   "outputs": [],
   "source": [
    "# 드라이버 객체 생성 및 설정\n",
    "options = webdriver.ChromeOptions()\n",
    "# options.add_argument('headless')\n",
    "# options.add_argument('disable-gpu')\n",
    "driver = webdriver.Chrome('C:/Users/sangjin/chromedriver.exe', chrome_options=options)"
   ]
  },
  {
   "cell_type": "code",
   "execution_count": 14,
   "metadata": {},
   "outputs": [],
   "source": [
    "# 포트 및 일자 생성\n",
    "ports = ['인천','김포','청주','양양','군산','원수','김해','제주','대구','광주','여수','울산','포항','사천','무안']\n",
    "dates = getDates()"
   ]
  },
  {
   "cell_type": "code",
   "execution_count": 78,
   "metadata": {},
   "outputs": [],
   "source": [
    "# raw data 수집\n",
    "sql = 'insert into 항공정보 values (?,?,?,?,?,?,?,?,?,?)'\n",
    "\n",
    "res = []\n",
    "for date in dates[:3]:\n",
    "    for port in ports[:2]:\n",
    "        cur.executemany(sql, getData(date, port))"
   ]
  },
  {
   "cell_type": "code",
   "execution_count": 82,
   "metadata": {},
   "outputs": [],
   "source": [
    "# 데이터 출력\n",
    "cur.execute('select * from 항공정보')\n",
    "rows = cur.fetchall()\n",
    "df = pd.DataFrame(rows)\n",
    "colnames = ['항공사','편명','출발지','계획','예상','도착','구분','현황','기준년월','공항명']\n",
    "df.columns = colnames\n",
    "# writer = pd.ExcelWriter('180626_Airport.xlsx', engine='xlsxwriter')\n",
    "# df.to_excel(writer,'Sheet1', index=False)\n",
    "# writer.save()\n",
    "# writer.close()"
   ]
  }
 ],
 "metadata": {
  "kernelspec": {
   "display_name": "Python 3",
   "language": "python",
   "name": "python3"
  },
  "language_info": {
   "codemirror_mode": {
    "name": "ipython",
    "version": 3
   },
   "file_extension": ".py",
   "mimetype": "text/x-python",
   "name": "python",
   "nbconvert_exporter": "python",
   "pygments_lexer": "ipython3",
   "version": "3.6.4"
  }
 },
 "nbformat": 4,
 "nbformat_minor": 2
}
