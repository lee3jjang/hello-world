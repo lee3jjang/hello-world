{
 "cells": [
  {
   "cell_type": "code",
   "execution_count": 1,
   "metadata": {},
   "outputs": [],
   "source": [
    "import numpy as np"
   ]
  },
  {
   "cell_type": "code",
   "execution_count": 78,
   "metadata": {},
   "outputs": [],
   "source": [
    "class Perceptron():\n",
    "    def __init__(self, thresholds=0.0, eta=0.01, n_iter=10):\n",
    "        self.thresholds = thresholds\n",
    "        self.eta = eta\n",
    "        self.n_iter = n_iter\n",
    "    \n",
    "    def fit(self, X, y):\n",
    "        self.w_ = np.zeros(1+X.shape[1])\n",
    "        self.errors_ = []\n",
    "        \n",
    "        for _ in range(self.n_iter):\n",
    "            errors = 0\n",
    "            for xi, target in zip(X,y):\n",
    "                update = self.eta * (target-self.predict(xi))\n",
    "                self.w_[1:] += update * xi\n",
    "                self.w_[0] += update\n",
    "                errors += int(update!=0.0)\n",
    "            self.errors_.append(errors)\n",
    "            print(self.w_)\n",
    "        \n",
    "        return self\n",
    "    \n",
    "    def net_input(self, X):\n",
    "        return np.dot(X, self.w_[1:]) + self.w_[0]\n",
    "    \n",
    "    def predict(self, X):\n",
    "        return np.where(self.net_input(X) > self.thresholds, 1, -1)"
   ]
  },
  {
   "cell_type": "code",
   "execution_count": 79,
   "metadata": {},
   "outputs": [
    {
     "name": "stdout",
     "output_type": "stream",
     "text": [
      "[0.02 0.02 0.02]\n",
      "[0.   0.04 0.02]\n",
      "[-0.02  0.04  0.02]\n",
      "[-0.02  0.04  0.04]\n",
      "[-0.04  0.04  0.02]\n",
      "[-0.04  0.04  0.02]\n",
      "[-0.04  0.04  0.02]\n",
      "[-0.04  0.04  0.02]\n",
      "[-0.04  0.04  0.02]\n",
      "[-0.04  0.04  0.02]\n",
      "[1, 3, 3, 2, 1, 0, 0, 0, 0, 0]\n"
     ]
    }
   ],
   "source": [
    "X = np.array([[0,0],[0,1],[1,0],[1,1]])\n",
    "y = np.array([-1,-1,-1,1])\n",
    "\n",
    "ppn = Perceptron(0,0.01,10)\n",
    "ppn.fit(X,y)\n",
    "print(ppn.errors_)"
   ]
  },
  {
   "cell_type": "code",
   "execution_count": 80,
   "metadata": {},
   "outputs": [
    {
     "name": "stdout",
     "output_type": "stream",
     "text": [
      "[-0.04  0.04  0.02]\n",
      "++++++++++++++++++++\n",
      "[[0 0]\n",
      " [0 1]\n",
      " [1 0]\n",
      " [1 1]]\n",
      "++++++++++++++++++++\n",
      "[0.   0.02 0.04 0.06]\n",
      "++++++++++++++++++++\n",
      "[-0.04 -0.02  0.    0.02]\n",
      "++++++++++++++++++++\n",
      "[-0.04 -0.02  0.    0.02]\n",
      "++++++++++++++++++++\n"
     ]
    }
   ],
   "source": [
    "print(ppn.w_)\n",
    "print('+'*20)\n",
    "print(X)\n",
    "print('+'*20)\n",
    "print(np.dot(X, ppn.w_[1:]))\n",
    "print('+'*20)\n",
    "print(np.dot(X, ppn.w_[1:]) + ppn.w_[0])\n",
    "print('+'*20)\n",
    "print(ppn.net_input(X))\n",
    "print('+'*20)"
   ]
  },
  {
   "cell_type": "code",
   "execution_count": 81,
   "metadata": {},
   "outputs": [
    {
     "name": "stdout",
     "output_type": "stream",
     "text": [
      "[False False False  True]\n",
      "++++++++++++++++++++\n",
      "[-1 -1 -1  1]\n",
      "++++++++++++++++++++\n"
     ]
    }
   ],
   "source": [
    "print(ppn.net_input(X) > 0)\n",
    "print('+'*20)\n",
    "print(np.where(ppn.net_input(X) > 0,1,-1))\n",
    "print('+'*20)"
   ]
  },
  {
   "cell_type": "code",
   "execution_count": 82,
   "metadata": {},
   "outputs": [
    {
     "name": "stdout",
     "output_type": "stream",
     "text": [
      "[0 0] -1\n",
      "++++++++++++++++++++\n",
      "0.0\n",
      "++++++++++++++++++++\n",
      "-0.04 [0.04 0.02]\n",
      "++++++++++++++++++++\n",
      "0\n",
      "++++++++++++++++++++\n"
     ]
    }
   ],
   "source": [
    "errors = 0\n",
    "xi, target = X[0], y[0]\n",
    "print(xi, target)\n",
    "print('+'*20)\n",
    "update = ppn.eta * (target-ppn.predict(xi))\n",
    "print(update)\n",
    "print('+'*20)\n",
    "ppn.w_[1:] += update*xi\n",
    "ppn.w_[0] + update\n",
    "print(ppn.w_[0], ppn.w_[1:])\n",
    "print('+'*20)\n",
    "errors += int(update!=0.0)\n",
    "print(errors)\n",
    "print('+'*20)"
   ]
  }
 ],
 "metadata": {
  "kernelspec": {
   "display_name": "Python 3",
   "language": "python",
   "name": "python3"
  },
  "language_info": {
   "codemirror_mode": {
    "name": "ipython",
    "version": 3
   },
   "file_extension": ".py",
   "mimetype": "text/x-python",
   "name": "python",
   "nbconvert_exporter": "python",
   "pygments_lexer": "ipython3",
   "version": "3.6.4"
  }
 },
 "nbformat": 4,
 "nbformat_minor": 2
}
