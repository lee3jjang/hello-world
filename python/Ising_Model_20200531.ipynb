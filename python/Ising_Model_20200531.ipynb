{
 "cells": [
  {
   "cell_type": "code",
   "execution_count": 1,
   "metadata": {},
   "outputs": [],
   "source": [
    "import numpy as np\n",
    "import matplotlib.pyplot as plt\n",
    "from ipywidgets import interact"
   ]
  },
  {
   "cell_type": "code",
   "execution_count": 28,
   "metadata": {},
   "outputs": [],
   "source": [
    "n, m = 100, 100\n",
    "num = 100000\n",
    "beta = 1\n",
    "sigma = []\n",
    "np.random.seed(20200329)\n",
    "sigma_old = (2*np.random.randint(2, size=n*m)-1).reshape(n, m)\n",
    "sigma_old = np.pad(sigma_old, 1, 'constant', constant_values=(0))\n",
    "sigma.append(sigma_old)\n",
    "for _ in range(num):\n",
    "    i, j = np.random.randint(1, n+1), np.random.randint(1, m+1)\n",
    "    sigma_new = sigma_old.copy()\n",
    "    sigma_new[i, j] *= -1\n",
    "    dH = (sigma_old[i-1,j]+sigma_old[i+1,j]+sigma_old[i,j+1]+sigma_old[i,j-1])*sigma_old[i, j]*(2*5)-2*0.1*sigma_old[i, j]\n",
    "    A = np.exp(-beta*(dH)) if dH>0 else 1\n",
    "    u = np.random.random()\n",
    "    if u < A:\n",
    "        sigma_old = sigma_new\n",
    "    sigma.append(sigma_old)"
   ]
  },
  {
   "cell_type": "code",
   "execution_count": 29,
   "metadata": {},
   "outputs": [
    {
     "data": {
      "application/vnd.jupyter.widget-view+json": {
       "model_id": "209ae21ad1db47ffa8cb592a9d7fd479",
       "version_major": 2,
       "version_minor": 0
      },
      "text/plain": [
       "interactive(children=(IntSlider(value=50000, description='i', max=100000, step=100), Output()), _dom_classes=(…"
      ]
     },
     "metadata": {},
     "output_type": "display_data"
    }
   ],
   "source": [
    "@interact\n",
    "def show_sigma(i=(0, num, 100)):\n",
    "    plt.figure(figsize=(6,6))\n",
    "    plt.imshow(sigma[i], cmap='Greys')\n",
    "    plt.xticks([])\n",
    "    plt.yticks([])\n",
    "#     plt.savefig('result_{}'.format(i))\n",
    "    return None"
   ]
  }
 ],
 "metadata": {
  "kernelspec": {
   "display_name": "Python 3",
   "language": "python",
   "name": "python3"
  }
 },
 "nbformat": 4,
 "nbformat_minor": 4
}
