{
 "cells": [
  {
   "cell_type": "code",
   "execution_count": 8,
   "metadata": {},
   "outputs": [
    {
     "name": "stdout",
     "output_type": "stream",
     "text": [
      "Tensor(\"Const_19:0\", shape=(), dtype=string)\n",
      "Tensor(\"Add_6:0\", shape=(), dtype=int32)\n",
      "b'Hello Tensorflow!'\n",
      "[10, 32, 42]\n"
     ]
    }
   ],
   "source": [
    "import tensorflow as tf\n",
    "\n",
    "hello = tf.constant(\"Hello Tensorflow!\")\n",
    "print(hello)\n",
    "\n",
    "a = tf.constant(10)\n",
    "b = tf.constant(32)\n",
    "c = tf.add(a, b)\n",
    "print(c)\n",
    "\n",
    "sess = tf.Session()\n",
    "print(sess.run(hello))\n",
    "print(sess.run([a,b,c]))\n",
    "sess.close()"
   ]
  },
  {
   "cell_type": "code",
   "execution_count": 42,
   "metadata": {},
   "outputs": [
    {
     "name": "stdout",
     "output_type": "stream",
     "text": [
      "[[ 0.18818586 -1.0884999 ]\n",
      " [-0.87885916 -0.6459682 ]\n",
      " [-0.1805283   0.78247833]]\n",
      "[0.01920335 1.1103916 ]\n",
      "[[-2.091914    1.0773902 ]\n",
      " [-4.7055187  -1.7785788 ]\n",
      " [ 0.09658863 -5.5901194 ]\n",
      " [-1.9037281  -0.01110959]]\n"
     ]
    }
   ],
   "source": [
    "import tensorflow as tf\n",
    "\n",
    "X = tf.placeholder(tf.float32, [None,3])\n",
    "x_data = [[1,2,3],\n",
    "          [4,5,6],\n",
    "          [7,1,2],\n",
    "          [2,2,3]]\n",
    "\n",
    "W = tf.Variable(tf.random_normal([3, 2]))\n",
    "b = tf.Variable(tf.random_normal([2]))\n",
    "expr = tf.matmul(X, W) + b\n",
    "\n",
    "sess = tf.Session()\n",
    "sess.run(tf.global_variables_initializer())\n",
    "\n",
    "print(sess.run(W))\n",
    "print(sess.run(b))\n",
    "print(sess.run(expr, feed_dict={X : x_data}))\n",
    "sess.close()"
   ]
  },
  {
   "cell_type": "code",
   "execution_count": 93,
   "metadata": {},
   "outputs": [
    {
     "name": "stdout",
     "output_type": "stream",
     "text": [
      "990 0.0 [1.] [5.951486e-08]\n",
      "991 0.0 [1.] [5.951486e-08]\n",
      "992 0.0 [1.] [5.951486e-08]\n",
      "993 0.0 [1.] [5.951486e-08]\n",
      "994 0.0 [1.] [5.951486e-08]\n",
      "995 0.0 [1.] [5.951486e-08]\n",
      "996 0.0 [1.] [5.951486e-08]\n",
      "997 0.0 [1.] [5.951486e-08]\n",
      "998 0.0 [1.] [5.951486e-08]\n",
      "999 0.0 [1.] [5.951486e-08]\n",
      "[5.]\n",
      "[2.5]\n"
     ]
    }
   ],
   "source": [
    "import tensorflow as tf\n",
    "\n",
    "x_data = [1,2,3]\n",
    "y_data = [1,2,3]\n",
    "\n",
    "W = tf.Variable(tf.random_uniform([1], -1,1))\n",
    "b = tf.Variable(tf.random_uniform([1], -1,1))\n",
    "\n",
    "X = tf.placeholder(tf.float32, name=\"X\")\n",
    "Y = tf.placeholder(tf.float32, name=\"Y\")\n",
    "\n",
    "hypothesis = W*X + b\n",
    "cost = tf.reduce_mean(tf.square(hypothesis-Y))\n",
    "optimizer = tf.train.GradientDescentOptimizer(learning_rate=0.1)\n",
    "train_op = optimizer.minimize(cost)\n",
    "\n",
    "with tf.Session() as sess:\n",
    "    sess.run(tf.global_variables_initializer())\n",
    "    for step in range(1000):\n",
    "        _, cost_val = sess.run([train_op, cost], feed_dict={X: x_data, Y: y_data})\n",
    "        if step >= 990:\n",
    "            print(step, cost_val, sess.run(W), sess.run(b))\n",
    "    print(sess.run(hypothesis, feed_dict={X: 5}))\n",
    "    print(sess.run(hypothesis, feed_dict={X: 2.5}))"
   ]
  }
 ],
 "metadata": {
  "kernelspec": {
   "display_name": "Python 3",
   "language": "python",
   "name": "python3"
  },
  "language_info": {
   "codemirror_mode": {
    "name": "ipython",
    "version": 3
   },
   "file_extension": ".py",
   "mimetype": "text/x-python",
   "name": "python",
   "nbconvert_exporter": "python",
   "pygments_lexer": "ipython3",
   "version": "3.6.4"
  }
 },
 "nbformat": 4,
 "nbformat_minor": 2
}
