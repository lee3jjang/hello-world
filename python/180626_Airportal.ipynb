{
 "cells": [
  {
   "cell_type": "code",
   "execution_count": 1,
   "metadata": {},
   "outputs": [],
   "source": [
    "from selenium import webdriver\n",
    "import datetime\n",
    "from selenium.webdriver.support.ui import Select\n",
    "import re"
   ]
  },
  {
   "cell_type": "code",
   "execution_count": 2,
   "metadata": {},
   "outputs": [],
   "source": [
    "# 일자 생성 함수\n",
    "def getDates():\n",
    "    res = []\n",
    "    start = datetime.date(2016,1,1)\n",
    "    end = datetime.date(2017,12,31)\n",
    "    delta = datetime.timedelta(days=1)\n",
    "    \n",
    "    date = start-delta\n",
    "    for _ in range((end-start).days + 1):\n",
    "        date = date+delta\n",
    "        res.append(str(date))\n",
    "    return res"
   ]
  },
  {
   "cell_type": "code",
   "execution_count": 3,
   "metadata": {},
   "outputs": [],
   "source": [
    "# 프레임 접근 함수\n",
    "def getFrame(date, port):\n",
    "    driver.get('http://www.airportal.go.kr/life/airinfo/RbHanFrm.jsp')\n",
    "    driver.find_element_by_id('current_date').clear()\n",
    "    driver.find_element_by_id('current_date').send_keys(date)\n",
    "    select = Select(driver.find_element_by_id('select_airport'))\n",
    "    select.select_by_visible_text(port)\n",
    "    driver.switch_to.frame(driver.find_element_by_name('sframe'))\n",
    "    return None"
   ]
  },
  {
   "cell_type": "code",
   "execution_count": 4,
   "metadata": {},
   "outputs": [],
   "source": [
    "# 데이터 수집 함수\n",
    "def getData(date, port):\n",
    "    getFrame(date, port)\n",
    "    txt = driver.find_element_by_tag_name('table').text\n",
    "    return txt"
   ]
  },
  {
   "cell_type": "code",
   "execution_count": 5,
   "metadata": {},
   "outputs": [],
   "source": [
    "# 드라이버 객체 생성 및 설정\n",
    "options = webdriver.ChromeOptions()\n",
    "# options.add_argument('headless')\n",
    "# options.add_argument('disable-gpu')\n",
    "driver = webdriver.Chrome('chromedriver.exe', chrome_options=options)"
   ]
  },
  {
   "cell_type": "code",
   "execution_count": 6,
   "metadata": {},
   "outputs": [],
   "source": [
    "# 포트 및 일자 생성\n",
    "ports = ['인천','김포','청주','양양','군산','원수','김해','제주','대구','광주','여수','울산','포항','사천','무안']\n",
    "dates = getDates()"
   ]
  },
  {
   "cell_type": "code",
   "execution_count": 10,
   "metadata": {},
   "outputs": [],
   "source": [
    "# raw data 수집\n",
    "res = []\n",
    "for date in dates[:3]:\n",
    "    for port in ports[:2]:\n",
    "        txt = getData(date, port)\n",
    "        res.append([date, port, txt])"
   ]
  }
 ],
 "metadata": {
  "kernelspec": {
   "display_name": "Python 3",
   "language": "python",
   "name": "python3"
  },
  "language_info": {
   "codemirror_mode": {
    "name": "ipython",
    "version": 3
   },
   "file_extension": ".py",
   "mimetype": "text/x-python",
   "name": "python",
   "nbconvert_exporter": "python",
   "pygments_lexer": "ipython3",
   "version": "3.6.5"
  }
 },
 "nbformat": 4,
 "nbformat_minor": 2
}
