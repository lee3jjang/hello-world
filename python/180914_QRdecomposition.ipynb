{
 "cells": [
  {
   "cell_type": "code",
   "execution_count": 1,
   "metadata": {},
   "outputs": [],
   "source": [
    "import numpy as np"
   ]
  },
  {
   "cell_type": "code",
   "execution_count": 72,
   "metadata": {},
   "outputs": [],
   "source": [
    "def QR(A):\n",
    "    \n",
    "    # Variables\n",
    "    n = len(A)\n",
    "    a = []\n",
    "    u = []\n",
    "    e = []\n",
    "    r = []\n",
    "\n",
    "    # Q\n",
    "    for i in range(n):\n",
    "        a.append(A[:,i])\n",
    "        tmp = np.zeros(n)\n",
    "        for j in range(i):\n",
    "            tmp += np.dot(a[i], e[j])*e[j] \n",
    "        u.append(a[i]-tmp)\n",
    "        e.append(u[i]/np.sqrt(np.sum(u[i]**2)))\n",
    "\n",
    "    Q = np.array(e).T\n",
    "\n",
    "    # R\n",
    "    for i in range(n):\n",
    "        tmp = np.zeros(n)\n",
    "        for j in range(i,n):\n",
    "            tmp[j] = np.dot(a[j],e[i])\n",
    "        r.append(tmp)\n",
    "\n",
    "    R = np.array(r)\n",
    "    \n",
    "    return Q, R"
   ]
  },
  {
   "cell_type": "code",
   "execution_count": 75,
   "metadata": {},
   "outputs": [
    {
     "name": "stdout",
     "output_type": "stream",
     "text": [
      "------------------------- Q -------------------------\n",
      "[[ 0.33333333  0.11561466 -0.58681925  0.72881089]\n",
      " [-0.66666667  0.46245865 -0.5461933  -0.20823168]\n",
      " [ 0.66666667  0.40465132 -0.25278368 -0.57263713]\n",
      " [ 0.          0.78039897  0.5416793   0.31234752]]\n",
      "------------------------- R -------------------------\n",
      "[[ 3.          2.          2.         -4.        ]\n",
      " [ 0.         11.53256259  2.68804091 11.2724296 ]\n",
      " [ 0.          0.          1.66566386  0.41980146]\n",
      " [ 0.          0.          0.          3.12347524]]\n",
      "------------------------- A -------------------------\n",
      "[[ 1.00000000e+00  2.00000000e+00 -9.95839721e-16  2.00000000e+00]\n",
      " [-2.00000000e+00  4.00000000e+00 -1.00000000e+00  7.00000000e+00]\n",
      " [ 2.00000000e+00  6.00000000e+00  2.00000000e+00 -5.81511308e-16]\n",
      " [ 0.00000000e+00  9.00000000e+00  3.00000000e+00  1.00000000e+01]]\n"
     ]
    }
   ],
   "source": [
    "# Unit Test\n",
    "A = np.array([[1,2,0,2],\n",
    "              [-2,4,-1,7],\n",
    "              [2,6,2,0],\n",
    "              [0,9,3,10]])\n",
    "\n",
    "Q, R = QR(A)\n",
    "print('-'*25,'Q','-'*25)\n",
    "print(Q)\n",
    "print('-'*25,'R','-'*25)\n",
    "print(R)\n",
    "print('-'*25,'A','-'*25)\n",
    "print(np.matmul(Q,R))"
   ]
  }
 ],
 "metadata": {
  "kernelspec": {
   "display_name": "Python 3",
   "language": "python",
   "name": "python3"
  },
  "language_info": {
   "codemirror_mode": {
    "name": "ipython",
    "version": 3
   },
   "file_extension": ".py",
   "mimetype": "text/x-python",
   "name": "python",
   "nbconvert_exporter": "python",
   "pygments_lexer": "ipython3",
   "version": "3.6.4"
  }
 },
 "nbformat": 4,
 "nbformat_minor": 2
}
