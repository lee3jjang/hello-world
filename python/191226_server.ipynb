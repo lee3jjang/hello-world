{
 "cells": [
  {
   "cell_type": "code",
   "execution_count": null,
   "metadata": {},
   "outputs": [
    {
     "name": "stdout",
     "output_type": "stream",
     "text": [
      " * Serving Flask app \"__main__\" (lazy loading)\n",
      " * Environment: production\n",
      "   WARNING: This is a development server. Do not use it in a production deployment.\n",
      "   Use a production WSGI server instead.\n",
      " * Debug mode: off\n"
     ]
    },
    {
     "name": "stderr",
     "output_type": "stream",
     "text": [
      " * Running on http://127.0.0.1:5000/ (Press CTRL+C to quit)\n",
      "127.0.0.1 - - [26/Dec/2019 14:23:02] \"GET /down HTTP/1.1\" 200 -\n"
     ]
    }
   ],
   "source": [
    "from flask import Flask, render_template, request, send_file\n",
    "from werkzeug.utils import secure_filename\n",
    "\n",
    "app = Flask(__name__)\n",
    "\n",
    "@app.route('/')\n",
    "def login():\n",
    "    return render_template('login.html')\n",
    "\n",
    "@app.route('/main', methods=['post'])\n",
    "def main():\n",
    "    id_ = request.form['id']\n",
    "    pw = request.form['pw']\n",
    "    return render_template('main.html', id_=id_, pw=pw)\n",
    "\n",
    "@app.route('/result', methods=['post'])\n",
    "def result():\n",
    "    f = request.files['file']\n",
    "    f.save(f'uploads/{secure_filename(f.filename)}')\n",
    "    return '파일업로드 성공!'\n",
    "\n",
    "@app.route('/down')\n",
    "def download():\n",
    "    return render_template('download.html', x=2)\n",
    "\n",
    "@app.route('/file')\n",
    "def file():\n",
    "    print(file_name)\n",
    "    file_name = './uploads/cc.csv'\n",
    "    return send_file(file_name)\n",
    "\n",
    "if __name__ == '__main__':\n",
    "    app.run()"
   ]
  }
 ],
 "metadata": {
  "kernelspec": {
   "display_name": "Python 3",
   "language": "python",
   "name": "python3"
  },
  "language_info": {
   "codemirror_mode": {
    "name": "ipython",
    "version": 3
   },
   "file_extension": ".py",
   "mimetype": "text/x-python",
   "name": "python",
   "nbconvert_exporter": "python",
   "pygments_lexer": "ipython3",
   "version": "3.7.3"
  }
 },
 "nbformat": 4,
 "nbformat_minor": 4
}
