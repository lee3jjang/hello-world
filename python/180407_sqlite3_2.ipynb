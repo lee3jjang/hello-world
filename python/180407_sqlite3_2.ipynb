{
 "cells": [
  {
   "cell_type": "code",
   "execution_count": 1,
   "metadata": {},
   "outputs": [],
   "source": [
    "import sqlite3\n",
    "import pandas as pd\n",
    "import numpy as np\n",
    "import urllib\n",
    "import json"
   ]
  },
  {
   "cell_type": "code",
   "execution_count": 2,
   "metadata": {},
   "outputs": [],
   "source": [
    "# 시 코드 & SGG → 각 도시별 시군구 데이터 \n",
    "# SGG, EMD\n",
    "def getAddInfo(code, types):\n",
    "    res = urllib.request.urlopen(\"http://www.k-apt.go.kr/cmmn/bjd/getBjdList.do?bjd_code={}&bjd_gbn={}\".format(code,types))\n",
    "    data = json.loads(res.read().decode('utf-8'))\n",
    "    df = pd.DataFrame(data['resultList'])\n",
    "    df['CODE2'] = str(code)\n",
    "    return df\n",
    "\n",
    "# 아파트코드마다 아파트 데이터 얻기\n",
    "def getAptInfo(kapt_code):\n",
    "    res = urllib.request.urlopen(\"http://www.k-apt.go.kr/kaptinfo/getKaptInfo_detail.do?kapt_code={}\".format(kapt_code))\n",
    "    data = json.loads(res.read().decode('utf-8'))\n",
    "    return data"
   ]
  },
  {
   "cell_type": "code",
   "execution_count": 3,
   "metadata": {},
   "outputs": [],
   "source": [
    "def getAptInfo2(kapt_code):\n",
    "    res = urllib.request.urlopen(\"http://www.k-apt.go.kr/kaptinfo/getKaptInfo_detail.do?kapt_code={}\".format(kapt_code))\n",
    "    data = json.loads(res.read().decode('utf-8'))\n",
    "    동수 = int(data['resultMap_kapt']['KAPT_DONG_CNT'])\n",
    "    관리방식 = data['resultMap_kapt']['CODE_MGR']\n",
    "    복도유형 = data['resultMap_kapt']['CODE_HALL']\n",
    "    난방방식 = data['resultMap_kapt']['CODE_HEAT']\n",
    "    주거전용면적 = data['resultMap_kapt']['KAPT_MAREA']\n",
    "    if data['resultMap_kapt_addrList'] == None:\n",
    "        법정동주소 = None\n",
    "    else:\n",
    "        법정동주소 = data['resultMap_kapt_addrList'][0]['ADDR']\n",
    "    명칭 = data['resultMap_kapt']['KAPT_NAME']\n",
    "    return [kapt_code, 동수, 관리방식, 복도유형, 난방방식, 주거전용면적, 법정동주소, 명칭]"
   ]
  },
  {
   "cell_type": "code",
   "execution_count": 4,
   "metadata": {},
   "outputs": [],
   "source": [
    "conn = sqlite3.connect(\"k-apt.db\")\n",
    "cur = conn.cursor()"
   ]
  },
  {
   "cell_type": "code",
   "execution_count": null,
   "metadata": {},
   "outputs": [],
   "source": [
    "# 테이블 삭제\n",
    "#cur.execute(\"drop table 도시\")\n",
    "#cur.execute(\"drop table 시군구\")\n",
    "#cur.execute(\"drop table 동\")\n",
    "#cur.execute(\"drop table 아파트\")\n",
    "#cur.execute(\"drop table 아파트상세\")\n",
    "#cur.execute(\"drop table 빈코드\")"
   ]
  },
  {
   "cell_type": "code",
   "execution_count": null,
   "metadata": {},
   "outputs": [],
   "source": [
    "# 테이블 생성\n",
    "cur.execute(\"create table 도시(도시코드, 도시명)\")\n",
    "cur.execute(\"create table 시군구(시군구코드, 시군구명, 도시코드, 도시시군구코드)\")\n",
    "cur.execute(\"create table 동(동코드, 동명, 도시시군구코드, 도시시군구동코드)\")\n",
    "cur.execute(\"create table 아파트(아파트코드, 도시시군구동코드)\")\n",
    "cur.execute(\"create table 아파트상세(아파트코드, 동수, 관리방식, 복도유형, 난방방식, 주거전용면적, 법정동주소, 명칭)\")"
   ]
  },
  {
   "cell_type": "code",
   "execution_count": null,
   "metadata": {},
   "outputs": [],
   "source": [
    "cur.execute(\"create table 빈코드(도시시군구동코드 text)\")"
   ]
  },
  {
   "cell_type": "code",
   "execution_count": null,
   "metadata": {},
   "outputs": [],
   "source": [
    "# 도시코드 테이블 적재\n",
    "data = {'도시코드':[11,26,27,28,29,30,31,36,41,42,43,44,45,46,47,48,50],\n",
    "        '도시명':['서울특별시','부산광역시','대구광역시','인천광역시','광주광역시','대전광역시','울산광역시','세종특별자치시','경기도','강원도','충청북도','충청남도','전라북도','전라남도','경상북도','경상남도','제주특별자치도']}\n",
    "cur.executemany(\"insert into 도시 values (?,?)\", list(zip(data['도시코드'],data['도시명'])))\n",
    "conn.commit()"
   ]
  },
  {
   "cell_type": "code",
   "execution_count": null,
   "metadata": {},
   "outputs": [],
   "source": [
    "# 시군구코드 테이블 적재\n",
    "cur.execute(\"select 도시코드 from 도시\")\n",
    "rows = cur.fetchall()\n",
    "codes = list(map(lambda x:x[0],rows))\n",
    "for cd in codes:\n",
    "    data = getAddInfo(cd,'SGG')\n",
    "    data['CODE12'] = data['CODE2'].astype(str) + data['CODE'].astype(str)\n",
    "    cur.executemany(\"insert into 시군구 values (?,?,?,?)\", list(zip(data['CODE'],data['CODE_VALUE'],data['CODE2'],data['CODE12'])))\n",
    "conn.commit()"
   ]
  },
  {
   "cell_type": "code",
   "execution_count": null,
   "metadata": {},
   "outputs": [],
   "source": [
    "# 동코드 테이블 적재\n",
    "cur.execute(\"select 도시시군구코드 from 시군구\")\n",
    "rows = cur.fetchall()\n",
    "codes = list(map(lambda x:x[0],rows))\n",
    "for cd in codes:\n",
    "    data = getAddInfo(cd,'EMD')\n",
    "    data['CODE12'] = data['CODE2'].astype(str) + data['CODE'].astype(str)\n",
    "    cur.executemany(\"insert into 동 values (?,?,?,?)\",list(zip(data['CODE'],data['CODE_VALUE'],data['CODE2'],data['CODE12'])))\n",
    "conn.commit()"
   ]
  },
  {
   "cell_type": "code",
   "execution_count": null,
   "metadata": {},
   "outputs": [],
   "source": [
    "# 아파트코드 테이블 적재\n",
    "cur.execute(\"select 도시시군구동코드 from 동 where 도시시군구동코드 not in (select distinct 도시시군구동코드 from 아파트 union select 도시시군구동코드 from 빈코드)\")\n",
    "rows = cur.fetchall()\n",
    "codes = list(map(lambda x:x[0],rows))\n",
    "i = 0\n",
    "for cd in codes:\n",
    "    res = urllib.request.urlopen(\"http://www.k-apt.go.kr/kaptinfo/getKaptList.do?bjd_code={}\".format(cd))\n",
    "    data = json.loads(res.read().decode('utf-8'))\n",
    "    \n",
    "    if len(data['resultList']) == 0:\n",
    "        cur.execute(\"insert into 빈코드 values ({})\".format(str(cd)))\n",
    "    else:\n",
    "        cur.executemany(\"insert into 아파트 values (?,?)\",list(map(lambda x:(x['KAPT_CODE'],cd),data['resultList'])))\n",
    "    i += 1\n",
    "    if i % 50 == 0:\n",
    "        print(list(map(lambda x:(x['KAPT_CODE'],cd),data['resultList'])))\n",
    "        conn.commit()"
   ]
  },
  {
   "cell_type": "code",
   "execution_count": 10,
   "metadata": {},
   "outputs": [],
   "source": [
    "cur.execute(\"select 아파트코드 from 아파트 where 아파트코드 not in (select 아파트코드 from 아파트상세)\")\n",
    "rows = cur.fetchall()\n",
    "codes = list(map(lambda x:x[0],rows))\n",
    "i = 0\n",
    "for cd in codes:\n",
    "    i += 1\n",
    "    x = getAptInfo2(cd)\n",
    "    cur.execute(\"insert into 아파트상세 values (?,?,?,?,?,?,?,?)\",x)\n",
    "    if i % 20 == 0:\n",
    "        print(x)\n",
    "        conn.commit()"
   ]
  },
  {
   "cell_type": "code",
   "execution_count": 14,
   "metadata": {},
   "outputs": [
    {
     "data": {
      "text/html": [
       "<div>\n",
       "<style>\n",
       "    .dataframe thead tr:only-child th {\n",
       "        text-align: right;\n",
       "    }\n",
       "\n",
       "    .dataframe thead th {\n",
       "        text-align: left;\n",
       "    }\n",
       "\n",
       "    .dataframe tbody tr th {\n",
       "        vertical-align: top;\n",
       "    }\n",
       "</style>\n",
       "<table border=\"1\" class=\"dataframe\">\n",
       "  <thead>\n",
       "    <tr style=\"text-align: right;\">\n",
       "      <th></th>\n",
       "      <th>0</th>\n",
       "      <th>1</th>\n",
       "      <th>2</th>\n",
       "      <th>3</th>\n",
       "      <th>4</th>\n",
       "      <th>5</th>\n",
       "      <th>6</th>\n",
       "      <th>7</th>\n",
       "    </tr>\n",
       "  </thead>\n",
       "  <tbody>\n",
       "    <tr>\n",
       "      <th>0</th>\n",
       "      <td>A13593901</td>\n",
       "      <td>4</td>\n",
       "      <td>자치관리</td>\n",
       "      <td>계단식</td>\n",
       "      <td>지역난방</td>\n",
       "      <td>32275.480</td>\n",
       "      <td>서울특별시 강남구 개포동 12-2 엘지개포자이</td>\n",
       "      <td>LG개포자이아파트</td>\n",
       "    </tr>\n",
       "    <tr>\n",
       "      <th>1</th>\n",
       "      <td>A13593908</td>\n",
       "      <td>8</td>\n",
       "      <td>위탁관리</td>\n",
       "      <td>복도식</td>\n",
       "      <td>지역난방</td>\n",
       "      <td>46586.330</td>\n",
       "      <td>서울특별시 강남구 개포동 12 대치아파트</td>\n",
       "      <td>SH공사대치1단지</td>\n",
       "    </tr>\n",
       "    <tr>\n",
       "      <th>2</th>\n",
       "      <td>A13524006</td>\n",
       "      <td>13</td>\n",
       "      <td>자치관리</td>\n",
       "      <td>계단식</td>\n",
       "      <td>지역난방</td>\n",
       "      <td>75527.000</td>\n",
       "      <td>서울특별시 강남구 개포동 654 개포2차현대아파트</td>\n",
       "      <td>개포2차 현대아파트</td>\n",
       "    </tr>\n",
       "    <tr>\n",
       "      <th>3</th>\n",
       "      <td>A13580602</td>\n",
       "      <td>9</td>\n",
       "      <td>위탁관리</td>\n",
       "      <td>계단식</td>\n",
       "      <td>지역난방</td>\n",
       "      <td>92546.465</td>\n",
       "      <td>서울특별시 강남구 개포동 649 경남아파트</td>\n",
       "      <td>개포경남아파트</td>\n",
       "    </tr>\n",
       "    <tr>\n",
       "      <th>4</th>\n",
       "      <td>A13524009</td>\n",
       "      <td>11</td>\n",
       "      <td>위탁관리</td>\n",
       "      <td>복도식</td>\n",
       "      <td>지역난방</td>\n",
       "      <td>71852.900</td>\n",
       "      <td>서울특별시 강남구 개포동 12 대치,대청 아파트</td>\n",
       "      <td>개포대치2단지</td>\n",
       "    </tr>\n",
       "  </tbody>\n",
       "</table>\n",
       "</div>"
      ],
      "text/plain": [
       "           0   1     2    3     4          5                            6  \\\n",
       "0  A13593901   4  자치관리  계단식  지역난방  32275.480    서울특별시 강남구 개포동 12-2 엘지개포자이   \n",
       "1  A13593908   8  위탁관리  복도식  지역난방  46586.330       서울특별시 강남구 개포동 12 대치아파트   \n",
       "2  A13524006  13  자치관리  계단식  지역난방  75527.000  서울특별시 강남구 개포동 654 개포2차현대아파트   \n",
       "3  A13580602   9  위탁관리  계단식  지역난방  92546.465      서울특별시 강남구 개포동 649 경남아파트   \n",
       "4  A13524009  11  위탁관리  복도식  지역난방  71852.900   서울특별시 강남구 개포동 12 대치,대청 아파트   \n",
       "\n",
       "            7  \n",
       "0   LG개포자이아파트  \n",
       "1   SH공사대치1단지  \n",
       "2  개포2차 현대아파트  \n",
       "3     개포경남아파트  \n",
       "4     개포대치2단지  "
      ]
     },
     "execution_count": 14,
     "metadata": {},
     "output_type": "execute_result"
    }
   ],
   "source": [
    "cur.execute(\"select * from 아파트상세\")\n",
    "rows = cur.fetchall()\n",
    "df = pd.DataFrame(rows)\n",
    "df.head()"
   ]
  },
  {
   "cell_type": "code",
   "execution_count": 22,
   "metadata": {},
   "outputs": [
    {
     "data": {
      "text/html": [
       "<div>\n",
       "<style>\n",
       "    .dataframe thead tr:only-child th {\n",
       "        text-align: right;\n",
       "    }\n",
       "\n",
       "    .dataframe thead th {\n",
       "        text-align: left;\n",
       "    }\n",
       "\n",
       "    .dataframe tbody tr th {\n",
       "        vertical-align: top;\n",
       "    }\n",
       "</style>\n",
       "<table border=\"1\" class=\"dataframe\">\n",
       "  <thead>\n",
       "    <tr style=\"text-align: right;\">\n",
       "      <th></th>\n",
       "      <th>0</th>\n",
       "      <th>1</th>\n",
       "    </tr>\n",
       "  </thead>\n",
       "  <tbody>\n",
       "    <tr>\n",
       "      <th>0</th>\n",
       "      <td>11</td>\n",
       "      <td>서울특별시</td>\n",
       "    </tr>\n",
       "    <tr>\n",
       "      <th>1</th>\n",
       "      <td>26</td>\n",
       "      <td>부산광역시</td>\n",
       "    </tr>\n",
       "    <tr>\n",
       "      <th>2</th>\n",
       "      <td>27</td>\n",
       "      <td>대구광역시</td>\n",
       "    </tr>\n",
       "    <tr>\n",
       "      <th>3</th>\n",
       "      <td>28</td>\n",
       "      <td>인천광역시</td>\n",
       "    </tr>\n",
       "    <tr>\n",
       "      <th>4</th>\n",
       "      <td>29</td>\n",
       "      <td>광주광역시</td>\n",
       "    </tr>\n",
       "  </tbody>\n",
       "</table>\n",
       "</div>"
      ],
      "text/plain": [
       "    0      1\n",
       "0  11  서울특별시\n",
       "1  26  부산광역시\n",
       "2  27  대구광역시\n",
       "3  28  인천광역시\n",
       "4  29  광주광역시"
      ]
     },
     "execution_count": 22,
     "metadata": {},
     "output_type": "execute_result"
    }
   ],
   "source": [
    "cur.execute(\"select * from 도시\")\n",
    "rows = cur.fetchall()\n",
    "df = pd.DataFrame(rows)\n",
    "df.head()"
   ]
  },
  {
   "cell_type": "code",
   "execution_count": 23,
   "metadata": {},
   "outputs": [],
   "source": [
    "writer = pd.ExcelWriter('result2.xlsx',engine='xlsxwriter')\n",
    "df.to_excel(writer,'Sheet1')\n",
    "writer.save()"
   ]
  },
  {
   "cell_type": "code",
   "execution_count": null,
   "metadata": {},
   "outputs": [],
   "source": []
  }
 ],
 "metadata": {
  "kernelspec": {
   "display_name": "Python 3",
   "language": "python",
   "name": "python3"
  },
  "language_info": {
   "codemirror_mode": {
    "name": "ipython",
    "version": 3
   },
   "file_extension": ".py",
   "mimetype": "text/x-python",
   "name": "python",
   "nbconvert_exporter": "python",
   "pygments_lexer": "ipython3",
   "version": "3.6.1"
  }
 },
 "nbformat": 4,
 "nbformat_minor": 2
}
