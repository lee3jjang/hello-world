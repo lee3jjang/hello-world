{
 "cells": [
  {
   "cell_type": "code",
   "execution_count": 255,
   "metadata": {},
   "outputs": [],
   "source": [
    "import pandas as pd\n",
    "import seaborn as sns\n",
    "import numpy as np\n",
    "import matplotlib.pyplot as plt\n",
    "import os\n",
    "from ipywidgets import interact\n",
    "from datetime import datetime"
   ]
  },
  {
   "cell_type": "code",
   "execution_count": 253,
   "metadata": {},
   "outputs": [],
   "source": [
    "# 환경설정\n",
    "sns.set_style(\"whitegrid\")\n",
    "plt.rcParams['font.family'] = 'Malgun Gothic'\n",
    "plt.rcParams['axes.unicode_minus'] = False\n",
    "if not any([s == 'result' for s in os.listdir('.')]): os.mkdir('result')"
   ]
  },
  {
   "cell_type": "code",
   "execution_count": 249,
   "metadata": {},
   "outputs": [],
   "source": [
    "# 데이터 불러오기\n",
    "train = pd.read_csv('data/train.csv').set_index('index')\n",
    "test_x = pd.read_csv('data/test_x.csv').set_index('index')\n",
    "submission = pd.read_csv('data/sample_submission.csv').set_index('index')"
   ]
  },
  {
   "cell_type": "markdown",
   "metadata": {},
   "source": [
    "* Qb : The biggest difference between most criminals and other people is that the criminals are stupid enough to get caught.\n",
    " - 대부분의 범죄자들과 다른 사람들의 가장 큰 차이점은 범죄자들은 잡힐 만큼 어리석다는 것이다.\n",
    "* Qc : Anyone who completely trusts anyone else is asking for trouble.\n",
    " - 다른 사람을 너무 믿는 사람은 문제를 스스로 자초하는 것이다.\n",
    "* Qe : P.T. Barnum was wrong when he said that there's a sucker born every minute.\n",
    " - P.T. Barnum(미국 정치인)은 매 순간 어리버리가 태어난다고 했는데 그것은 틀렸다.\n",
    "* Qf : There is no excuse for lying to someone else.\n",
    " - 거짓말 하는 것은 변명의 여지가 없다.\n",
    "* Qh : Most people forget more easily the death of their parents than the loss of their property.\n",
    " - 대부분 사람들은 재산상 손해를 입는 것보다 부모의 죽음을 더 쉽게 잊는다.\n",
    "* Qj : It is safest to assume that all people have a vicious streak and it will come out when they are given a chance.\n",
    " - 모든 사람들은 악랄한 기질을 가지고 있으며, 기회가 되면 그 기질이 나타난다 보는게 맞다.\n",
    "* Qk : All in all, it is better to be humble and honest than to be important and dishonest.\n",
    " - 대체로, 거만하거나 부정직한 것보다는 겸손하고 정직한 것이 낫다.\n",
    "* Qm : It is hard to get ahead without cutting corners here and there.\n",
    " - 돈을 아끼지 않고서는 출세하기 어렵다.\n",
    "* Qo : The best way to handle people is to tell them what they want to hear.\n",
    " - 사람들 다루는 가장 좋은 방법은 그들이 듣고 싶은 말을 하는 것이다.\n",
    "* Qq : Most people are basically good and kind.\n",
    " - 대부분의 사람들은 기본적으로 착하고 친절하다.\n",
    "* Qr : One should take action only when sure it is morally right.\n",
    " - 도덕적으로 옳다고 확실이 들 때만 행동을 취해야 한다.\n",
    "* Qs : It is wise to flatter important people.\n",
    " - 중요한 사람들에게 아첨하는 것이 현명하다."
   ]
  },
  {
   "cell_type": "code",
   "execution_count": 4,
   "metadata": {},
   "outputs": [
    {
     "name": "stdout",
     "output_type": "stream",
     "text": [
      "Columns: Index(['QaA', 'QaE', 'QbA', 'QbE', 'QcA', 'QcE', 'QdA', 'QdE', 'QeA', 'QeE',\n",
      "       'QfA', 'QfE', 'QgA', 'QgE', 'QhA', 'QhE', 'QiA', 'QiE', 'QjA', 'QjE',\n",
      "       'QkA', 'QkE', 'QlA', 'QlE', 'QmA', 'QmE', 'QnA', 'QnE', 'QoA', 'QoE',\n",
      "       'QpA', 'QpE', 'QqA', 'QqE', 'QrA', 'QrE', 'QsA', 'QsE', 'QtA', 'QtE',\n",
      "       'age_group', 'education', 'engnat', 'familysize', 'gender', 'hand',\n",
      "       'married', 'race', 'religion', 'tp01', 'tp02', 'tp03', 'tp04', 'tp05',\n",
      "       'tp06', 'tp07', 'tp08', 'tp09', 'tp10', 'urban', 'voted', 'wf_01',\n",
      "       'wf_02', 'wf_03', 'wr_01', 'wr_02', 'wr_03', 'wr_04', 'wr_05', 'wr_06',\n",
      "       'wr_07', 'wr_08', 'wr_09', 'wr_10', 'wr_11', 'wr_12', 'wr_13'],\n",
      "      dtype='object')\n"
     ]
    }
   ],
   "source": [
    "print(f'Columns: {train.columns}')"
   ]
  },
  {
   "cell_type": "code",
   "execution_count": 5,
   "metadata": {},
   "outputs": [],
   "source": [
    "# 전처리\n",
    "# 일부 컬럼 영한 번역\n",
    "train_prep = train.copy()\n",
    "train_prep = train_prep.rename(columns={'age_group': '연령군',\n",
    "    'education': '교육수준', 'familysize': '가족수', 'gender': '성별',\n",
    "    'hand': '손잡이구분', 'married': '결혼여부', 'race': '인종', \n",
    "    'engnat': '영어모국어여부', 'religion': '종교', 'urban': '유년기거주지',\n",
    "    'voted': '투표여부'})"
   ]
  },
  {
   "cell_type": "code",
   "execution_count": 6,
   "metadata": {},
   "outputs": [
    {
     "data": {
      "application/vnd.jupyter.widget-view+json": {
       "model_id": "c743e975631444d6b81eb331aa05bdf6",
       "version_major": 2,
       "version_minor": 0
      },
      "text/plain": [
       "interactive(children=(Dropdown(description='column_name', options=('연령군', '교육수준', '영어모국어여부', '가족수', '성별', '손잡이…"
      ]
     },
     "metadata": {},
     "output_type": "display_data"
    }
   ],
   "source": [
    "@interact(column_name=['연령군', '교육수준', '영어모국어여부', '가족수', '성별', '손잡이구분', '결혼여부', '인종', '종교', '유년기거주지', '투표여부'])\n",
    "def cnt_by_column(column_name):\n",
    "    df = train_prep.groupby(column_name).size()\n",
    "    df = df.reset_index(name='건수')\n",
    "    fig, ax = plt.subplots(figsize=(12, 5))\n",
    "    sns.barplot(x=column_name, y='건수', data=df, ax=ax)\n",
    "    plt.show()\n",
    "    return df.set_index(column_name).T"
   ]
  },
  {
   "cell_type": "code",
   "execution_count": 7,
   "metadata": {},
   "outputs": [
    {
     "data": {
      "application/vnd.jupyter.widget-view+json": {
       "model_id": "055888c5cc634442b5aab0f57de1faa4",
       "version_major": 2,
       "version_minor": 0
      },
      "text/plain": [
       "interactive(children=(Dropdown(description='column_name', options=('연령군', '교육수준', '영어모국어여부', '가족수', '성별', '손잡이…"
      ]
     },
     "metadata": {},
     "output_type": "display_data"
    }
   ],
   "source": [
    "@interact(column_name=['연령군', '교육수준', '영어모국어여부', '가족수', '성별', '손잡이구분', '결혼여부', '인종', '종교', '유년기거주지'])\n",
    "def cnt_by_voted_column(column_name):\n",
    "    df = train_prep.groupby(['투표여부', column_name]).size()\n",
    "    df = df.reset_index(name='건수')\n",
    "    fig, ax = plt.subplots(figsize=(12, 5))\n",
    "    sns.barplot(x=column_name, y='건수', hue='투표여부', data=df, ax=ax)\n",
    "    plt.show()"
   ]
  },
  {
   "cell_type": "code",
   "execution_count": 15,
   "metadata": {},
   "outputs": [],
   "source": [
    "train_not_teens = train_prep.query('연령군 != \"10s\"')"
   ]
  },
  {
   "cell_type": "code",
   "execution_count": 101,
   "metadata": {},
   "outputs": [
    {
     "data": {
      "application/vnd.jupyter.widget-view+json": {
       "model_id": "e245581a143c436d951c84d2618e0e48",
       "version_major": 2,
       "version_minor": 0
      },
      "text/plain": [
       "interactive(children=(Dropdown(description='column_name', options=('연령군', '교육수준', '영어모국어여부', '가족수', '성별', '손잡이…"
      ]
     },
     "metadata": {},
     "output_type": "display_data"
    }
   ],
   "source": [
    "@interact(column_name=['연령군', '교육수준', '영어모국어여부', '가족수', '성별', '손잡이구분', '결혼여부', '인종', '종교', '유년기거주지'])\n",
    "def cnt_by_voted_column(column_name):\n",
    "    df = train_not_teens_not_white.groupby(['투표여부', column_name]).size()\n",
    "    df = df.reset_index(name='건수')\n",
    "    fig, ax = plt.subplots(figsize=(12, 5))\n",
    "    sns.barplot(x=column_name, y='건수', hue='투표여부', data=df, ax=ax)\n",
    "    plt.show()"
   ]
  },
  {
   "cell_type": "code",
   "execution_count": 28,
   "metadata": {},
   "outputs": [],
   "source": [
    "# 10대 투표 잘 안 함\n",
    "# 인종 == \"White\" 투표 많이 함\n",
    "train_not_teens_not_white = train_prep.query('연령군 != \"10s\"').query('인종 != \"White\"')\n",
    "train_not_teens_white = train_prep.query('연령군 != \"10s\"').query('인종 == \"White\"')"
   ]
  },
  {
   "cell_type": "code",
   "execution_count": 65,
   "metadata": {},
   "outputs": [
    {
     "data": {
      "application/vnd.jupyter.widget-view+json": {
       "model_id": "f497c9c0cf874740b62bcdc1d289497e",
       "version_major": 2,
       "version_minor": 0
      },
      "text/plain": [
       "interactive(children=(Dropdown(description='column_name', options=('연령군', '교육수준', '영어모국어여부', '가족수', '성별', '손잡이…"
      ]
     },
     "metadata": {},
     "output_type": "display_data"
    }
   ],
   "source": [
    "@interact(column_name=['연령군', '교육수준', '영어모국어여부', '가족수', '성별', '손잡이구분', '결혼여부', '인종', '종교', '유년기거주지'])\n",
    "def cnt_by_voted_column(column_name):\n",
    "    df = train_not_teens_white.groupby(['투표여부', column_name]).size()\n",
    "    df = df.reset_index(name='건수')\n",
    "    fig, ax = plt.subplots(figsize=(12, 5))\n",
    "    sns.barplot(x=column_name, y='건수', hue='투표여부', data=df, ax=ax)\n",
    "    plt.show()"
   ]
  },
  {
   "cell_type": "code",
   "execution_count": 155,
   "metadata": {},
   "outputs": [],
   "source": [
    "# 전처리 2차\n",
    "train_prep_2nd = train_prep.copy()\n",
    "train_prep_2nd['연령군'] = train_prep_2nd.연령군.str.extract('(\\d{2})').astype(int)\n",
    "# train_prep_2nd['미성년자여부'] = (train_prep_2nd.연령군 == 10).astype(int) # Boolean\n",
    "train_prep_2nd['결혼여부'] = train_prep_2nd.결혼여부.replace(0, 1).replace(3, 2).replace(2, 0).astype(int) # Boolean\n",
    "train_prep_2nd['교육수준'] = train_prep_2nd.교육수준.replace(0, 3)\n",
    "train_prep_2nd['유년기거주지'] = train_prep_2nd.교육수준.replace(0, 2)\n",
    "train_prep_2nd['영어모국어여부'] = train_prep_2nd.영어모국어여부.replace(0, 1).replace(2, 0).astype(int) # Boolean\n",
    "train_prep_2nd['손잡이구분'] = train_prep_2nd.손잡이구분.replace(0, 1).replace(3, 2).replace(2, 0).astype(int) # Boolean\n",
    "train_prep_2nd['백인여부'] = (train_prep_2nd.인종 == 'White').astype(int) # Boolean\n",
    "train_prep_2nd['아시안여부'] = (train_prep_2nd.인종 == 'Asian').astype(int) # Boolean\n",
    "train_prep_2nd['가족수'] = np.fmin(train_prep_2nd.가족수, 10)\n",
    "train_prep_2nd['기독교여부'] = (train_prep_2nd.종교.str.contains('Christian')).astype(int) # Boolean\n",
    "train_prep_2nd['성별'] = (train_prep_2nd.성별 == 'Male').astype(int) # Boolean\n",
    "train_prep_2nd['투표여부'] = train_prep_2nd.투표여부.replace(2, 0).astype(int) # Boolean"
   ]
  },
  {
   "cell_type": "code",
   "execution_count": 114,
   "metadata": {},
   "outputs": [
    {
     "data": {
      "application/vnd.jupyter.widget-view+json": {
       "model_id": "d62b154310614d0da5a30b7b1734bf41",
       "version_major": 2,
       "version_minor": 0
      },
      "text/plain": [
       "interactive(children=(Dropdown(description='column_name', options=('연령군', '교육수준', '영어모국어여부', '가족수', '성별', '손잡이…"
      ]
     },
     "metadata": {},
     "output_type": "display_data"
    }
   ],
   "source": [
    "@interact(column_name=['연령군', '교육수준', '영어모국어여부', '가족수', '성별', '손잡이구분', '결혼여부', '백인여부', '아시안여부', '기독교여부', '유년기거주지'])\n",
    "def cnt_by_voted_column(column_name):\n",
    "    df = train_prep_2nd.groupby(['투표여부', column_name]).size()\n",
    "    df = df.reset_index(name='건수')\n",
    "    fig, ax = plt.subplots(figsize=(12, 5))\n",
    "    sns.barplot(x=column_name, y='건수', hue='투표여부', data=df, ax=ax)\n",
    "    plt.show()"
   ]
  },
  {
   "cell_type": "code",
   "execution_count": 185,
   "metadata": {},
   "outputs": [
    {
     "data": {
      "text/plain": [
       "Index(['QaA', 'QaE', 'QbA', 'QbE', 'QcA', 'QcE', 'QdA', 'QdE', 'QeA', 'QeE',\n",
       "       'QfA', 'QfE', 'QgA', 'QgE', 'QhA', 'QhE', 'QiA', 'QiE', 'QjA', 'QjE',\n",
       "       'QkA', 'QkE', 'QlA', 'QlE', 'QmA', 'QmE', 'QnA', 'QnE', 'QoA', 'QoE',\n",
       "       'QpA', 'QpE', 'QqA', 'QqE', 'QrA', 'QrE', 'QsA', 'QsE', 'QtA', 'QtE',\n",
       "       '연령군', '교육수준', '영어모국어여부', '가족수', '성별', '손잡이구분', '결혼여부', '인종', '종교',\n",
       "       'tp01', 'tp02', 'tp03', 'tp04', 'tp05', 'tp06', 'tp07', 'tp08', 'tp09',\n",
       "       'tp10', '유년기거주지', '투표여부', 'wf_01', 'wf_02', 'wf_03', 'wr_01', 'wr_02',\n",
       "       'wr_03', 'wr_04', 'wr_05', 'wr_06', 'wr_07', 'wr_08', 'wr_09', 'wr_10',\n",
       "       'wr_11', 'wr_12', 'wr_13', '백인여부', '아시안여부', '기독교여부'],\n",
       "      dtype='object')"
      ]
     },
     "execution_count": 185,
     "metadata": {},
     "output_type": "execute_result"
    }
   ],
   "source": [
    "train_prep_2nd.columns"
   ]
  },
  {
   "cell_type": "code",
   "execution_count": 243,
   "metadata": {},
   "outputs": [],
   "source": [
    "columns_selected = ['연령군', '교육수준', '영어모국어여부', '가족수', '성별', '손잡이구분', '결혼여부', '백인여부', '아시안여부', '기독교여부', '유년기거주지']\n",
    "X = train_prep_2nd[columns_selected]\n",
    "y = train_prep_2nd['투표여부']"
   ]
  },
  {
   "cell_type": "code",
   "execution_count": 213,
   "metadata": {},
   "outputs": [],
   "source": [
    "from sklearn.model_selection import train_test_split\n",
    "idx_train, idx_test = train_test_split(train_prep_2nd.index, train_size=.8, random_state=20201025)\n",
    "X_train, y_train, X_test, y_test = X.loc[idx_train], y.loc[idx_train], X.loc[idx_test], y.loc[idx_test]"
   ]
  },
  {
   "cell_type": "code",
   "execution_count": 241,
   "metadata": {},
   "outputs": [
    {
     "data": {
      "text/plain": [
       "0.6905676951795322"
      ]
     },
     "execution_count": 241,
     "metadata": {},
     "output_type": "execute_result"
    }
   ],
   "source": [
    "from sklearn.ensemble import GradientBoostingClassifier, AdaBoostClassifier\n",
    "from xgboost import XGBClassifier\n",
    "from lightgbm import LGBMClassifier\n",
    "model = LGBMClassifier(n_estimators=400, random_state=20201025)\n",
    "model.fit(X_train, y_train)\n",
    "model.score(X_test, y_test)"
   ]
  },
  {
   "cell_type": "code",
   "execution_count": 257,
   "metadata": {},
   "outputs": [],
   "source": [
    "# 예측 데이터 전처리 1, 2차\n",
    "test_prep = test_x.copy()\n",
    "test_prep = test_prep.rename(columns={'age_group': '연령군',\n",
    "    'education': '교육수준', 'familysize': '가족수', 'gender': '성별',\n",
    "    'hand': '손잡이구분', 'married': '결혼여부', 'race': '인종', \n",
    "    'engnat': '영어모국어여부', 'religion': '종교', 'urban': '유년기거주지'})\n",
    "\n",
    "test_prep_2nd = test_prep.copy()\n",
    "test_prep_2nd['연령군'] = test_prep_2nd.연령군.str.extract('(\\d{2})').astype(int)\n",
    "test_prep_2nd['결혼여부'] = test_prep_2nd.결혼여부.replace(0, 1).replace(3, 2).replace(2, 0).astype(int) # Boolean\n",
    "test_prep_2nd['교육수준'] = test_prep_2nd.교육수준.replace(0, 3)\n",
    "test_prep_2nd['유년기거주지'] = test_prep_2nd.교육수준.replace(0, 2)\n",
    "test_prep_2nd['영어모국어여부'] = test_prep_2nd.영어모국어여부.replace(0, 1).replace(2, 0).astype(int) # Boolean\n",
    "test_prep_2nd['손잡이구분'] = test_prep_2nd.손잡이구분.replace(0, 1).replace(3, 2).replace(2, 0).astype(int) # Boolean\n",
    "test_prep_2nd['백인여부'] = (test_prep_2nd.인종 == 'White').astype(int) # Boolean\n",
    "test_prep_2nd['아시안여부'] = (test_prep_2nd.인종 == 'Asian').astype(int) # Boolean\n",
    "test_prep_2nd['가족수'] = np.fmin(test_prep_2nd.가족수, 10)\n",
    "test_prep_2nd['기독교여부'] = (test_prep_2nd.종교.str.contains('Christian')).astype(int) # Boolean\n",
    "test_prep_2nd['성별'] = (test_prep_2nd.성별 == 'Male').astype(int) # Boolean"
   ]
  },
  {
   "cell_type": "code",
   "execution_count": 260,
   "metadata": {},
   "outputs": [],
   "source": [
    "# 출력하기\n",
    "now = datetime.now().strftime('%Y%m%d%H%M%S')\n",
    "submission['voted'] = 1-model.predict(test_prep_2nd[columns_selected])\n",
    "submission.to_csv(f'result/submission_{now}.csv')"
   ]
  }
 ],
 "metadata": {
  "kernelspec": {
   "display_name": "Python 3",
   "language": "python",
   "name": "python3"
  },
  "language_info": {
   "codemirror_mode": {
    "name": "ipython",
    "version": 3
   },
   "file_extension": ".py",
   "mimetype": "text/x-python",
   "name": "python",
   "nbconvert_exporter": "python",
   "pygments_lexer": "ipython3",
   "version": "3.8.3"
  }
 },
 "nbformat": 4,
 "nbformat_minor": 4
}
