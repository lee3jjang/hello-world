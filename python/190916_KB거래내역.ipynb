{
 "cells": [
  {
   "cell_type": "code",
   "execution_count": 69,
   "metadata": {},
   "outputs": [],
   "source": [
    "import os\n",
    "import pandas as pd\n",
    "from glob import glob\n",
    "from datetime import datetime"
   ]
  },
  {
   "cell_type": "code",
   "execution_count": 55,
   "metadata": {},
   "outputs": [],
   "source": [
    "pd.options.display.float_format = '{:,.0f}'.format\n",
    "if not any([s == 'result' for s in os.listdir('.')]):\n",
    "    os.mkdir('result')"
   ]
  },
  {
   "cell_type": "code",
   "execution_count": 63,
   "metadata": {},
   "outputs": [],
   "source": [
    "account = '358802-04-438922'\n",
    "files = glob('./입수파일/*{}*.xlsx'.format(account))\n",
    "result = []\n",
    "for file in files:\n",
    "    df = pd.read_excel(file)\n",
    "    column_name = list(df.iloc[3])\n",
    "    df = df.iloc[4:-1]\n",
    "    df.columns = column_name\n",
    "    result.append(df)\n",
    "df = pd.concat(result)\n",
    "df['거래일시'] = df['거래일시'].apply(lambda x: datetime.strptime(x, '%Y.%m.%d %H:%M:%S'))\n",
    "df[['출금액', '입금액', '잔액']] = df[['출금액', '입금액', '잔액']].astype(float)\n",
    "df = df.sort_values(by='거래일시').reset_index(drop=True)"
   ]
  },
  {
   "cell_type": "code",
   "execution_count": 80,
   "metadata": {},
   "outputs": [],
   "source": [
    "now = datetime.now().strftime('%Y%m%d%H%M%S')\n",
    "with pd.ExcelWriter('./result/KB_거래내역가공({}_{}).xlsx'.format(account, now)) as writer:\n",
    "    df.to_excel(writer, index=False)"
   ]
  }
 ],
 "metadata": {
  "kernelspec": {
   "display_name": "Python 3",
   "language": "python",
   "name": "python3"
  },
  "language_info": {
   "codemirror_mode": {
    "name": "ipython",
    "version": 3
   },
   "file_extension": ".py",
   "mimetype": "text/x-python",
   "name": "python",
   "nbconvert_exporter": "python",
   "pygments_lexer": "ipython3",
   "version": "3.7.0"
  }
 },
 "nbformat": 4,
 "nbformat_minor": 4
}
