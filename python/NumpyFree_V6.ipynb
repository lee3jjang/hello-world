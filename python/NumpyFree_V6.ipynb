{
 "cells": [
  {
   "cell_type": "code",
   "execution_count": 7,
   "metadata": {},
   "outputs": [],
   "source": [
    "import itertools\n",
    "from math import log2\n",
    "import Inertia as ita"
   ]
  },
  {
   "cell_type": "code",
   "execution_count": 8,
   "metadata": {},
   "outputs": [],
   "source": [
    "data = [[\"긴급\",\"있다\",\"있다\",\"파티\"],\n",
    "        [\"긴급\",\"없다\",\"있다\",\"공부\"],\n",
    "        [\"근접함\",\"있다\",\"있다\",\"파티\"],\n",
    "        [\"없다\",\"있다\",\"없다\",\"파티\"],\n",
    "        [\"없다\",\"없다\",\"있다\",\"술집\"],\n",
    "        [\"없다\",\"있다\",\"없다\",\"파티\"],\n",
    "        [\"근접함\",\"없다\",\"없다\",\"공부\"],\n",
    "        [\"근접함\",\"없다\",\"있다\",\"TV\"],\n",
    "        [\"근접함\",\"있다\",\"있다\",\"파티\"],\n",
    "        [\"긴급\",\"없다\",\"없다\",\"공부\"]]"
   ]
  },
  {
   "cell_type": "code",
   "execution_count": 9,
   "metadata": {},
   "outputs": [],
   "source": [
    "def count(field, txt):\n",
    "    n = 0\n",
    "    for v in field:\n",
    "        if v == txt:\n",
    "            n += 1\n",
    "    return n\n",
    "\n",
    "def unique(field):\n",
    "    res = []\n",
    "    for v in field:\n",
    "        if v not in res:\n",
    "            res.append(v)\n",
    "    return res\n",
    "\n",
    "def find(field, txt):\n",
    "    res = []\n",
    "    for i in range(len(field)):\n",
    "        if field[i] == txt:\n",
    "            res.append(i)\n",
    "    return res\n",
    "\n",
    "def find_all(field):\n",
    "    indices = {}\n",
    "    for v in unique(field):\n",
    "        indices[v] = find(field, v)\n",
    "    return indices\n",
    "\n",
    "def subdata(data, index):\n",
    "    subdata = [data[i] for i in index]\n",
    "    return subdata\n",
    "\n",
    "def dense(field):\n",
    "    den = {}\n",
    "    for key in unique(field):\n",
    "        den[key] = count(field, key)/len(field)   \n",
    "    return den\n",
    "\n",
    "get_field = lambda data, col: [x[col] for x in data]\n",
    "\n",
    "def Entropy(data, col):\n",
    "    field = get_field(data, col)\n",
    "    Pr = {}\n",
    "    for txt in unique(field):\n",
    "        Pr[txt] = count(field, txt)/len(field)\n",
    "    return sum([-v*log2(v) for v in Pr.values()])\n",
    "\n",
    "# Reduced Entropy Partitioned by par\n",
    "def ReducedEntropy(data, col, par):\n",
    "    field = get_field(data, par)\n",
    "    Pr = dense(field)\n",
    "    E = 0\n",
    "    for key, value in find_all(field).items():\n",
    "        E += Entropy(subdata(data, value), 3)*Pr[key]\n",
    "    return E\n",
    "\n",
    "# Information Gain\n",
    "def InfoGain(data, col, par):\n",
    "    return Entropy(data, col) - ReducedEntropy(data, col, par)"
   ]
  },
  {
   "cell_type": "code",
   "execution_count": 10,
   "metadata": {},
   "outputs": [],
   "source": [
    "Party = get_field(data, 1)\n",
    "subdata1 = subdata(data, find_all(Party)[\"있다\"])\n",
    "subdata2 = subdata(data, find_all(Party)[\"없다\"])"
   ]
  },
  {
   "cell_type": "code",
   "execution_count": 11,
   "metadata": {},
   "outputs": [],
   "source": [
    "G = InfoGain(subdata2, 3, 0)\n",
    "Lazy = get_field(subdata2, 3)\n",
    "subdata21 = subdata(subdata2, find_all(Lazy)[\"공부\"])\n",
    "subdata22 = subdata(subdata2, find_all(Lazy)[\"술집\"])\n",
    "subdata23 = subdata(subdata2, find_all(Lazy)[\"TV\"])"
   ]
  },
  {
   "cell_type": "code",
   "execution_count": 12,
   "metadata": {},
   "outputs": [
    {
     "name": "stdout",
     "output_type": "stream",
     "text": [
      "['긴급', '있다', '있다', '파티']\n",
      "['근접함', '있다', '있다', '파티']\n",
      "['없다', '있다', '없다', '파티']\n",
      "['없다', '있다', '없다', '파티']\n",
      "['근접함', '있다', '있다', '파티']\n",
      "\n"
     ]
    }
   ],
   "source": [
    "ita.print_mat(subdata1)"
   ]
  },
  {
   "cell_type": "code",
   "execution_count": 13,
   "metadata": {},
   "outputs": [
    {
     "name": "stdout",
     "output_type": "stream",
     "text": [
      "['긴급', '없다', '있다', '공부']\n",
      "['없다', '없다', '있다', '술집']\n",
      "['근접함', '없다', '없다', '공부']\n",
      "['근접함', '없다', '있다', 'TV']\n",
      "['긴급', '없다', '없다', '공부']\n",
      "\n"
     ]
    }
   ],
   "source": [
    "ita.print_mat(subdata2)"
   ]
  },
  {
   "cell_type": "code",
   "execution_count": 14,
   "metadata": {},
   "outputs": [
    {
     "name": "stdout",
     "output_type": "stream",
     "text": [
      "['긴급', '없다', '있다', '공부']\n",
      "['근접함', '없다', '없다', '공부']\n",
      "['긴급', '없다', '없다', '공부']\n",
      "\n"
     ]
    }
   ],
   "source": [
    "ita.print_mat(subdata21)"
   ]
  },
  {
   "cell_type": "code",
   "execution_count": 15,
   "metadata": {},
   "outputs": [
    {
     "name": "stdout",
     "output_type": "stream",
     "text": [
      "['없다', '없다', '있다', '술집']\n",
      "\n"
     ]
    }
   ],
   "source": [
    "ita.print_mat(subdata22)"
   ]
  },
  {
   "cell_type": "code",
   "execution_count": 16,
   "metadata": {},
   "outputs": [
    {
     "name": "stdout",
     "output_type": "stream",
     "text": [
      "['근접함', '없다', '있다', 'TV']\n",
      "\n"
     ]
    }
   ],
   "source": [
    "ita.print_mat(subdata23)"
   ]
  }
 ],
 "metadata": {
  "kernelspec": {
   "display_name": "Python 3",
   "language": "python",
   "name": "python3"
  },
  "language_info": {
   "codemirror_mode": {
    "name": "ipython",
    "version": 3
   },
   "file_extension": ".py",
   "mimetype": "text/x-python",
   "name": "python",
   "nbconvert_exporter": "python",
   "pygments_lexer": "ipython3",
   "version": "3.6.5"
  }
 },
 "nbformat": 4,
 "nbformat_minor": 2
}
