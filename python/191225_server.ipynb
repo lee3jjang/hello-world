{
 "cells": [
  {
   "cell_type": "code",
   "execution_count": null,
   "metadata": {},
   "outputs": [],
   "source": [
    "from flask import Flask, render_template, request\n",
    "\n",
    "app = Flask(__name__)\n",
    "\n",
    "@app.route('/userid/<userId>')\n",
    "def showUserId(userId):\n",
    "    return 'User Id : {}'.format(userId)\n",
    "\n",
    "@app.route('/state/<button>')\n",
    "def state(button):\n",
    "    return render_template('state.html', btn_state=button)\n",
    "\n",
    "@app.route('/view', methods=['post'])\n",
    "def view():\n",
    "    userName = request.form['userName']\n",
    "    userPw = request.form['userPw']\n",
    "    return render_template('viewdata.html', name=userName, pw=userPw)\n",
    "\n",
    "@app.route('/')\n",
    "def formpage():\n",
    "    return render_template('FormPage.html')\n",
    "\n",
    "if __name__ == '__main__':\n",
    "    app.run()"
   ]
  }
 ],
 "metadata": {
  "kernelspec": {
   "display_name": "Python 3",
   "language": "python",
   "name": "python3"
  },
  "language_info": {
   "codemirror_mode": {
    "name": "ipython",
    "version": 3
   },
   "file_extension": ".py",
   "mimetype": "text/x-python",
   "name": "python",
   "nbconvert_exporter": "python",
   "pygments_lexer": "ipython3",
   "version": "3.7.4"
  }
 },
 "nbformat": 4,
 "nbformat_minor": 4
}
