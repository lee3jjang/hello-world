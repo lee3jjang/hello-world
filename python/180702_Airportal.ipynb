{
 "cells": [
  {
   "cell_type": "code",
   "execution_count": 13,
   "metadata": {},
   "outputs": [],
   "source": [
    "import csv\n",
    "import pandas as pd\n",
    "import sqlite3\n",
    "import numpy as np\n",
    "from bs4 import BeautifulSoup\n",
    "import requests as req\n",
    "import datetime\n",
    "import re"
   ]
  },
  {
   "cell_type": "code",
   "execution_count": 2,
   "metadata": {},
   "outputs": [],
   "source": [
    "# 일자 생성 함수\n",
    "class AirportalCrawler:\n",
    "    def __init__(self, url, start, end):\n",
    "        self.url = url\n",
    "        self.start = start\n",
    "        self.end = end\n",
    "        \n",
    "    def genDates(self, start, end):\n",
    "        res = []\n",
    "        delta = datetime.timedelta(days=1)\n",
    "        date = start-delta\n",
    "        for _ in range((end-start).days + 1):\n",
    "            date = date+delta\n",
    "            res.append(str(date))\n",
    "        res = [dt.replace('-','') for dt in res]\n",
    "        return res\n",
    "    \n",
    "    def parse(self, date):\n",
    "        html = req.get(self.url, params={'current_date':str(date)}).text\n",
    "        return html"
   ]
  },
  {
   "cell_type": "code",
   "execution_count": 179,
   "metadata": {},
   "outputs": [],
   "source": [
    "url = 'http://www.airportal.go.kr/servlet/aips.life.airinfo.RbHanCTL'\n",
    "start = datetime.date(2016,1,1)\n",
    "end = datetime.date(2017,12,31)\n",
    "ac = AirportalCrawler(url, start, end);"
   ]
  },
  {
   "cell_type": "code",
   "execution_count": 193,
   "metadata": {},
   "outputs": [],
   "source": [
    "n = len('<!-------- 게시판리스트시작 /------->')\n",
    "lb = html.find('<!-------- 게시판리스트시작 /------->')\n",
    "ub = html.find('<!-------- 게시판리스트끝 /------->')\n",
    "html = html[(lb+n):ub]"
   ]
  },
  {
   "cell_type": "code",
   "execution_count": 196,
   "metadata": {},
   "outputs": [],
   "source": [
    "f = open('test.html' , 'w')\n",
    "f.write(html)\n",
    "f.close()"
   ]
  },
  {
   "cell_type": "code",
   "execution_count": 183,
   "metadata": {},
   "outputs": [],
   "source": [
    "html = ac.parse(20171231)\n",
    "soup = BeautifulSoup(html, \"lxml\")"
   ]
  },
  {
   "cell_type": "code",
   "execution_count": 175,
   "metadata": {},
   "outputs": [],
   "source": [
    "html = ac.parse(20171231)\n",
    "lb = html.find('<table width=\"100%\"')\n",
    "ub = html.find('</table>')+8\n",
    "html = html[lb:ub]\n",
    "ws = ['\\t','\\r','\\n','&nbsp;']\n",
    "for w in ws:\n",
    "    html = html.replace(w, '')\n",
    "p = re.compile('\\s+')\n",
    "html = p.sub(' ', html)\n",
    "#soup = BeautifulSoup(html, \"lxml\")"
   ]
  },
  {
   "cell_type": "code",
   "execution_count": 156,
   "metadata": {},
   "outputs": [],
   "source": [
    "trs = soup.findAll('td', {'bgcolor':'E5E6E6'})\n",
    "for tr in trs:\n",
    "    tr.decompose()\n",
    "tds = soup.findAll('td', {'with':'4'})\n",
    "for td in tds:\n",
    "    td.decompose()"
   ]
  },
  {
   "cell_type": "code",
   "execution_count": 168,
   "metadata": {},
   "outputs": [],
   "source": [
    "txt = str(soup.find('table'))"
   ]
  }
 ],
 "metadata": {
  "kernelspec": {
   "display_name": "Python 3",
   "language": "python",
   "name": "python3"
  },
  "language_info": {
   "codemirror_mode": {
    "name": "ipython",
    "version": 3
   },
   "file_extension": ".py",
   "mimetype": "text/x-python",
   "name": "python",
   "nbconvert_exporter": "python",
   "pygments_lexer": "ipython3",
   "version": "3.6.5"
  }
 },
 "nbformat": 4,
 "nbformat_minor": 2
}
