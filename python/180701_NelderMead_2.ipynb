{
 "cells": [
  {
   "cell_type": "code",
   "execution_count": 1,
   "metadata": {},
   "outputs": [],
   "source": [
    "import matplotlib.pyplot as plt\n",
    "import numpy as np"
   ]
  },
  {
   "cell_type": "code",
   "execution_count": 128,
   "metadata": {},
   "outputs": [],
   "source": [
    "def f(x):\n",
    "    return x[0]**2 - 4*x[0] + x[1]**2 - x[1] - x[0]*x[1]\n",
    "def g(x):\n",
    "    return x[0]**2 - 4*x[1] + x[1]**2 - x[1] - x[0]*x[1]"
   ]
  },
  {
   "cell_type": "code",
   "execution_count": 126,
   "metadata": {},
   "outputs": [],
   "source": [
    "def NelderMead(f, V):\n",
    "    B, G, W = V[np.array([f(x) for x in V]).argsort()]\n",
    "    M = (B+G)/2\n",
    "    R = 2*M-W\n",
    "    if f(R)<f(G):\n",
    "        if f(B)<f(R):\n",
    "            return np.asarray([B, G, R])\n",
    "        else:\n",
    "            E = 2*R-M\n",
    "            if f(E)<f(B):\n",
    "                return np.asarray([B, G, E])\n",
    "            else:\n",
    "                return np.asarray([B, G, R])\n",
    "    else:\n",
    "        if f(R)<f(W):\n",
    "            return np.asarray([B, G, R])\n",
    "        else:\n",
    "            C = [(W+M)/2, (M+R)/2]\n",
    "            C = C[np.argmin(np.array([f(C[0]), f(C[1])]))]\n",
    "            if f(C)<f(W):\n",
    "                return np.asarray([B, G, C])\n",
    "            else:\n",
    "                S = (W+B)/2\n",
    "                return np.asarray([B, M, S])"
   ]
  },
  {
   "cell_type": "code",
   "execution_count": 129,
   "metadata": {},
   "outputs": [
    {
     "name": "stdout",
     "output_type": "stream",
     "text": [
      "[[0.  0.8]\n",
      " [0.  0. ]\n",
      " [1.2 0. ]]\n",
      "f(x) : [-3.3600000000000003, 0.0, 1.44]\n",
      "[[ 0.   0.8]\n",
      " [ 0.   0. ]\n",
      " [-1.2  0.8]]\n",
      "f(x) : [-3.3600000000000003, 0.0, -0.9600000000000002]\n",
      "[[ 0.   0.8]\n",
      " [-1.2  0.8]\n",
      " [-1.2  1.6]]\n",
      "f(x) : [-3.3600000000000003, -0.9600000000000002, -2.08]\n",
      "[[ 0.   0.8]\n",
      " [-1.2  1.6]\n",
      " [ 0.6  2. ]]\n",
      "f(x) : [-3.3600000000000003, -2.08, -6.840000000000001]\n",
      "[[0.6 2. ]\n",
      " [0.  0.8]\n",
      " [1.8 1.2]]\n",
      "f(x) : [-6.840000000000001, -3.3600000000000003, -3.480000000000003]\n",
      "[[0.6 2. ]\n",
      " [1.8 1.2]\n",
      " [2.4 2.4]]\n",
      "f(x) : [-6.840000000000001, -3.480000000000003, -6.240000000000003]\n",
      "[[0.6 2. ]\n",
      " [2.4 2.4]\n",
      " [1.2 3.2]]\n",
      "f(x) : [-6.840000000000001, -6.240000000000003, -8.16]\n",
      "[[1.2  3.2 ]\n",
      " [0.6  2.  ]\n",
      " [1.65 2.5 ]]\n",
      "f(x) : [-8.16, -6.840000000000001, -7.652500000000001]\n",
      "[[1.2  3.2 ]\n",
      " [1.65 2.5 ]\n",
      " [2.25 3.7 ]]\n",
      "f(x) : [-8.16, -7.652500000000001, -8.0725]\n",
      "[[1.2    3.2   ]\n",
      " [2.25   3.7   ]\n",
      " [1.6875 2.975 ]]\n",
      "f(x) : [-8.16, -8.0725, -8.197031250000002]\n",
      "[[1.6875   2.975   ]\n",
      " [1.2      3.2     ]\n",
      " [1.846875 3.39375 ]]\n",
      "f(x) : [-8.197031250000002, -8.16, -8.308095703125]\n"
     ]
    }
   ],
   "source": [
    "# 초기화\n",
    "V = np.array([[0.0, 0.8],\n",
    "              [0.0, 0.0],\n",
    "              [1.2, 0.0]])\n",
    "\n",
    "print(V)\n",
    "print(\"f(x) :\", [g(x) for x in V])\n",
    "for i in range(10):\n",
    "    V = NelderMead(g, V)\n",
    "    print(V)\n",
    "    print(\"f(x) :\", [g(x) for x in V])"
   ]
  }
 ],
 "metadata": {
  "kernelspec": {
   "display_name": "Python 3",
   "language": "python",
   "name": "python3"
  },
  "language_info": {
   "codemirror_mode": {
    "name": "ipython",
    "version": 3
   },
   "file_extension": ".py",
   "mimetype": "text/x-python",
   "name": "python",
   "nbconvert_exporter": "python",
   "pygments_lexer": "ipython3",
   "version": "3.6.4"
  }
 },
 "nbformat": 4,
 "nbformat_minor": 2
}
