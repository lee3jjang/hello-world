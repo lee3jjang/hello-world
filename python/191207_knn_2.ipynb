{
 "cells": [
  {
   "cell_type": "code",
   "execution_count": 296,
   "metadata": {},
   "outputs": [],
   "source": [
    "from math import sqrt"
   ]
  },
  {
   "cell_type": "code",
   "execution_count": 297,
   "metadata": {},
   "outputs": [
    {
     "name": "stdout",
     "output_type": "stream",
     "text": [
      "0.0\n",
      "1.3290173915275787\n",
      "1.9494646655653247\n",
      "1.5591439385540549\n",
      "0.5356280721938492\n",
      "4.850940186986411\n",
      "2.592833759950511\n",
      "4.214227042632867\n",
      "6.522409988228337\n",
      "4.985585382449795\n"
     ]
    }
   ],
   "source": [
    "def euclidean_distance(row1, row2):\n",
    "    distance = 0.0\n",
    "    for i in range(len(row1)-1):\n",
    "        distance += (row1[i] - row2[i])**2\n",
    "    return sqrt(distance)\n",
    "\n",
    "dataset = [[2.7810836,2.550537003,0],\n",
    "           [1.465489372,2.362125076,0],\n",
    "           [3.396561688,4.400293529,0],\n",
    "           [1.38807019,1.850220317,0],\n",
    "           [3.06407232,3.005305973,0],\n",
    "           [7.627531214,2.759262235,1],\n",
    "           [5.332441248,2.088626775,1],\n",
    "           [6.922596716,1.77106367,1],\n",
    "           [8.675418651,-0.242068655,1],\n",
    "           [7.673756466,3.508563011,1]]\n",
    "\n",
    "row0 = dataset[0]\n",
    "for row in dataset:\n",
    "    distance = euclidean_distance(row0, row)\n",
    "    print(distance)"
   ]
  },
  {
   "cell_type": "code",
   "execution_count": 298,
   "metadata": {},
   "outputs": [
    {
     "name": "stdout",
     "output_type": "stream",
     "text": [
      "[2.7810836, 2.550537003, 0]\n",
      "[3.06407232, 3.005305973, 0]\n",
      "[1.465489372, 2.362125076, 0]\n"
     ]
    }
   ],
   "source": [
    "def get_neighbors(train, test_row, num_neighbors):\n",
    "    distances = list()\n",
    "    for train_row in train:\n",
    "        dist = euclidean_distance(test_row, train_row)\n",
    "        distances.append((train_row, dist))\n",
    "    distances.sort(key=lambda tup: tup[1])\n",
    "    neighbors = list()\n",
    "    for i in range(num_neighbors):\n",
    "        neighbors.append(distances[i][0])\n",
    "    return neighbors\n",
    "\n",
    "neighbors = get_neighbors(dataset, dataset[0], 3)\n",
    "for neighbor in neighbors:\n",
    "    print(neighbor)"
   ]
  },
  {
   "cell_type": "code",
   "execution_count": 299,
   "metadata": {},
   "outputs": [
    {
     "name": "stdout",
     "output_type": "stream",
     "text": [
      "Expexted 0, Got 0.\n"
     ]
    }
   ],
   "source": [
    "def predict_classification(train, test_row, num_neighbrs):\n",
    "    neighbors = get_neighbors(train, test_row, num_neighbrs)\n",
    "    output_values = [row[-1] for row in neighbors]\n",
    "    prediction = max(set(output_values), key=output_values.count)\n",
    "    return prediction\n",
    "\n",
    "prediction = predict_classification(dataset, dataset[0], 3)\n",
    "print('Expexted {}, Got {}.'.format(dataset[0][-1], prediction))"
   ]
  },
  {
   "cell_type": "code",
   "execution_count": 300,
   "metadata": {},
   "outputs": [
    {
     "name": "stdout",
     "output_type": "stream",
     "text": [
      "Data=[5.7, 2.9, 4.2, 1.3], Predicted: 1\n"
     ]
    }
   ],
   "source": [
    "num_neighbors = 5\n",
    "row = [5.7, 2.9, 4.2, 1.3]\n",
    "label = predict_classification(dataset, row, num_neighbors)\n",
    "print('Data={}, Predicted: {}'.format(row, label))"
   ]
  },
  {
   "cell_type": "code",
   "execution_count": 301,
   "metadata": {},
   "outputs": [
    {
     "name": "stdout",
     "output_type": "stream",
     "text": [
      "['5.1', '3.5', '1.4', '0.2', 'Iris-setosa']\n",
      "['4.9', '3.0', '1.4', '0.2', 'Iris-setosa']\n",
      "['4.7', '3.2', '1.3', '0.2', 'Iris-setosa']\n"
     ]
    }
   ],
   "source": [
    "from csv import reader\n",
    "\n",
    "def load_csv(filename):\n",
    "    filename = 'iris.txt'\n",
    "    file = open(filename, 'r')\n",
    "    lines = reader(file)\n",
    "    dataset = list(lines)\n",
    "    return dataset\n",
    "\n",
    "dataset = load_csv('iris.txt')\n",
    "for row in dataset[:3]:\n",
    "    print(row)"
   ]
  },
  {
   "cell_type": "code",
   "execution_count": 302,
   "metadata": {},
   "outputs": [],
   "source": [
    "def str_column_to_float(dataset, column):\n",
    "    for row in dataset:\n",
    "        row[column] = float(row[column].strip())\n",
    "        \n",
    "for i in range(len(dataset[0])-1):\n",
    "    str_column_to_float(dataset, i)"
   ]
  },
  {
   "cell_type": "code",
   "execution_count": 303,
   "metadata": {},
   "outputs": [
    {
     "name": "stdout",
     "output_type": "stream",
     "text": [
      "{'Iris-versicolor': 0, 'Iris-setosa': 1, 'Iris-virginica': 2}\n"
     ]
    }
   ],
   "source": [
    "def str_column_to_int(dataset, column):\n",
    "    class_values = [row[column] for row in dataset]\n",
    "    unique = set(class_values)\n",
    "    lookup = dict()\n",
    "    for i, value in enumerate(unique):\n",
    "        lookup[value] = i\n",
    "    for row in dataset:\n",
    "        row[column] = lookup[row[column]]\n",
    "    return lookup\n",
    "\n",
    "str_column_to_int(dataset, 4)\n",
    "print(lookup)"
   ]
  },
  {
   "cell_type": "code",
   "execution_count": 304,
   "metadata": {},
   "outputs": [
    {
     "name": "stdout",
     "output_type": "stream",
     "text": [
      "[[4.9, 3.1, 1.5, 0.1, 1], [6.3, 2.5, 5.0, 1.9, 2], [5.4, 3.9, 1.3, 0.4, 1]]\n",
      "[[4.9, 3.0, 1.4, 0.2, 1], [4.6, 3.1, 1.5, 0.2, 1], [5.4, 3.7, 1.5, 0.2, 1]]\n"
     ]
    }
   ],
   "source": [
    "from random import seed\n",
    "from random import randrange\n",
    "\n",
    "def train_test_split(dataset, split=0.6):\n",
    "    train = list()\n",
    "    train_size = len(dataset)*split\n",
    "    dataset_copy = list(dataset)\n",
    "    while len(train) < train_size:\n",
    "        index = randrange(len(dataset_copy))\n",
    "        train.append(dataset_copy.pop(index))\n",
    "    return train, dataset_copy\n",
    "\n",
    "seed(1)\n",
    "train, test = train_test_split(dataset)\n",
    "print(train[:3])\n",
    "print(test[:3])"
   ]
  },
  {
   "cell_type": "code",
   "execution_count": 305,
   "metadata": {},
   "outputs": [
    {
     "name": "stdout",
     "output_type": "stream",
     "text": [
      "[[4.9, 3.1, 1.5, 0.1, 1], [6.3, 2.5, 5.0, 1.9, 2], [5.4, 3.9, 1.3, 0.4, 1]]\n",
      "[[6.7, 2.5, 5.8, 1.8, 2], [4.4, 3.0, 1.3, 0.2, 1], [5.9, 3.2, 4.8, 1.8, 0]]\n",
      "[[7.6, 3.0, 6.6, 2.1, 2], [6.1, 3.0, 4.6, 1.4, 0], [6.5, 3.2, 5.1, 2.0, 2]]\n",
      "[[4.6, 3.1, 1.5, 0.2, 1], [6.3, 2.5, 4.9, 1.5, 0], [4.8, 3.4, 1.6, 0.2, 1]]\n",
      "[[7.7, 3.0, 6.1, 2.3, 2], [6.3, 2.8, 5.1, 1.5, 2], [5.6, 3.0, 4.1, 1.3, 0]]\n"
     ]
    }
   ],
   "source": [
    "def cross_validation_split(dataset, folds=3):\n",
    "    dataset_split = list()\n",
    "    dataset_copy = list(dataset)\n",
    "    fold_size = int(len(dataset)/folds)\n",
    "    for i in range(folds):\n",
    "        fold = list()\n",
    "        while (len(fold) < fold_size):\n",
    "            index = randrange(len(dataset_copy))\n",
    "            fold.append(dataset_copy.pop(index))\n",
    "        dataset_split.append(fold)\n",
    "    return dataset_split\n",
    "\n",
    "seed(1)\n",
    "folds = cross_validation_split(dataset, 5)\n",
    "for i in range(len(folds)):\n",
    "    print(folds[i][:3])"
   ]
  },
  {
   "cell_type": "code",
   "execution_count": 306,
   "metadata": {},
   "outputs": [
    {
     "data": {
      "text/plain": [
       "[[4.3, 7.9], [2.0, 4.4], [1.0, 6.9], [0.1, 2.5], [0, 2]]"
      ]
     },
     "execution_count": 306,
     "metadata": {},
     "output_type": "execute_result"
    }
   ],
   "source": [
    "def dataset_minmax(dataset):\n",
    "    minmax = list()\n",
    "    for i in range(len(dataset[0])):\n",
    "        col_values = [row[i] for row in dataset]\n",
    "        value_min = min(col_values)\n",
    "        value_max = max(col_values)\n",
    "        minmax.append([value_min, value_max])\n",
    "    return minmax\n",
    "\n",
    "minmax = dataset_minmax(dataset)\n",
    "minmax"
   ]
  },
  {
   "cell_type": "code",
   "execution_count": 307,
   "metadata": {},
   "outputs": [],
   "source": [
    "def normalize_dataset(dataset, minmax):\n",
    "    for row in dataset:\n",
    "        for i in range(len(row)):\n",
    "            row[i] = (row[i]-minmax[i][0])/(minmax[i][1]-minmax[i][0])\n",
    "\n",
    "# normalize_dataset(dataset, minmax)\n",
    "# print(dataset[:3])"
   ]
  },
  {
   "cell_type": "code",
   "execution_count": 308,
   "metadata": {},
   "outputs": [],
   "source": [
    "num_neighbors = 5\n",
    "def k_nearest_neighbors(train, test, num_neighbors):\n",
    "    predictions = list()\n",
    "    for row in test:\n",
    "        output = predict_classification(train, row, num_neighbors)\n",
    "        predictions.append(output)\n",
    "    return(predictions)"
   ]
  },
  {
   "cell_type": "code",
   "execution_count": 315,
   "metadata": {},
   "outputs": [],
   "source": [
    "def accuracy_metric(actual, predicted):\n",
    "    correct = 0\n",
    "    for i in range(len(actual)):\n",
    "        if actual[i] == predicted[i]:\n",
    "            correct += 1\n",
    "    return correct / float(len(actual))*100.0"
   ]
  },
  {
   "cell_type": "code",
   "execution_count": 316,
   "metadata": {},
   "outputs": [],
   "source": [
    "def evaluate_algorithm(dataset, algorithm, n_folds, *args):\n",
    "    folds = cross_validation_split(dataset, n_folds)\n",
    "    scores = list()\n",
    "    for fold in folds:\n",
    "        train_set = list(folds)\n",
    "        train_set.remove(fold)\n",
    "        train_set = sum(train_set, [])\n",
    "        test_set = list()\n",
    "        for row in fold:\n",
    "            row_copy = list(row)\n",
    "            test_set.append(row_copy)\n",
    "            row_copy[-1] = None\n",
    "        predicted = k_nearest_neighbors(train_set, test_set, 5)\n",
    "        actual = [row[-1] for row in fold]\n",
    "        accuracy = accuracy_metric(actual, predicted)\n",
    "        scores.append(accuracy)\n",
    "    return scores"
   ]
  },
  {
   "cell_type": "code",
   "execution_count": 324,
   "metadata": {},
   "outputs": [
    {
     "name": "stdout",
     "output_type": "stream",
     "text": [
      "Scores: [96.66666666666667, 100.0, 96.66666666666667, 96.66666666666667, 100.0]\n",
      "Mean Accuracy: 98.000%\n"
     ]
    }
   ],
   "source": [
    "n_folds = 5\n",
    "num_neighbors = 5\n",
    "scores = evaluate_algorithm(dataset, k_nearest_neighbors, n_folds, num_neighbors)\n",
    "print('Scores: {}'.format(scores))\n",
    "print('Mean Accuracy: {:,.3f}%'.format(sum(scores)/float(len(scores))))"
   ]
  }
 ],
 "metadata": {
  "kernelspec": {
   "display_name": "Python 3",
   "language": "python",
   "name": "python3"
  },
  "language_info": {
   "codemirror_mode": {
    "name": "ipython",
    "version": 3
   },
   "file_extension": ".py",
   "mimetype": "text/x-python",
   "name": "python",
   "nbconvert_exporter": "python",
   "pygments_lexer": "ipython3",
   "version": "3.7.4"
  }
 },
 "nbformat": 4,
 "nbformat_minor": 4
}
