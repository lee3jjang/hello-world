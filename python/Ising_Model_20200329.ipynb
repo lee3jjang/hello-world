{
 "cells": [
  {
   "cell_type": "code",
   "execution_count": 1,
   "metadata": {},
   "outputs": [],
   "source": [
    "import numpy as np\n",
    "import matplotlib.pyplot as plt"
   ]
  },
  {
   "cell_type": "code",
   "execution_count": 2,
   "metadata": {},
   "outputs": [],
   "source": [
    "n, m = 10, 10"
   ]
  },
  {
   "cell_type": "code",
   "execution_count": 3,
   "metadata": {},
   "outputs": [],
   "source": [
    "def J(i, j):\n",
    "    alpha = 2\n",
    "    distance = np.sqrt(sum((position(1)-position(2))**2))\n",
    "    return 1.25*distance**(-alpha)\n",
    "\n",
    "def h(i):\n",
    "    return 0.5\n",
    "\n",
    "def position(i):\n",
    "    return np.array([i//m, i%m])\n",
    "\n",
    "def Hamiltonian(sigma):\n",
    "    n, m = sigma.shape\n",
    "    sigma_serialized = sigma.reshape(-1)\n",
    "    term1 = 0\n",
    "    term2 = 0\n",
    "    for i in range(n*m):\n",
    "        term2 += -h(i)*sigma_serialized[i]\n",
    "        for j in range(i+1, n*m):\n",
    "            term1 += -J(i, j)*sigma_serialized[i]*sigma_serialized[j]\n",
    "    return term1+term2"
   ]
  },
  {
   "cell_type": "code",
   "execution_count": 14,
   "metadata": {},
   "outputs": [],
   "source": [
    "beta = 10\n",
    "sigma = []\n",
    "np.random.seed(20200329)\n",
    "sigma_old = (2*np.random.randint(2, size=n*m)-1).reshape(n, m)\n",
    "H_old = Hamiltonian(sigma_old)\n",
    "sigma.append(sigma_old)\n",
    "\n",
    "for _ in range(1000):\n",
    "    sigma_new = (2*np.random.randint(2, size=n*m)-1).reshape(n, m)\n",
    "    H_new = Hamiltonian(sigma_new)\n",
    "    A = np.exp(-beta*(H_new - H_old)) if H_new>H_old else 1\n",
    "    u = np.random.random()\n",
    "    if u < A:\n",
    "        sigma_old = sigma_new\n",
    "        H_old = H_new\n",
    "    sigma.append(sigma_old)"
   ]
  },
  {
   "cell_type": "code",
   "execution_count": 15,
   "metadata": {},
   "outputs": [],
   "source": [
    "# !jupyter labextension install @jupyter-widgets/jupyterlab-manager\n",
    "from ipywidgets import interact"
   ]
  },
  {
   "cell_type": "code",
   "execution_count": 16,
   "metadata": {},
   "outputs": [
    {
     "data": {
      "application/vnd.jupyter.widget-view+json": {
       "model_id": "0a93e6c147884db1b37ab5324d1b5eac",
       "version_major": 2,
       "version_minor": 0
      },
      "text/plain": [
       "interactive(children=(IntSlider(value=500, description='i', max=1000), Output()), _dom_classes=('widget-intera…"
      ]
     },
     "metadata": {},
     "output_type": "display_data"
    }
   ],
   "source": [
    "@interact\n",
    "def show_sigma(i=(0, len(sigma)-1, 1)):\n",
    "    plt.imshow(sigma[i], cmap='Greys')\n",
    "    return None"
   ]
  }
 ],
 "metadata": {
  "kernelspec": {
   "display_name": "Python 3",
   "language": "python",
   "name": "python3"
  },
  "language_info": {
   "codemirror_mode": {
    "name": "ipython",
    "version": 3
   },
   "file_extension": ".py",
   "mimetype": "text/x-python",
   "name": "python",
   "nbconvert_exporter": "python",
   "pygments_lexer": "ipython3",
   "version": "3.7.6"
  }
 },
 "nbformat": 4,
 "nbformat_minor": 4
}
