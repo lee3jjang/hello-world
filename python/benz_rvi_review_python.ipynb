{
 "cells": [
  {
   "cell_type": "code",
   "execution_count": 52,
   "metadata": {},
   "outputs": [],
   "source": [
    "from dfply import *\n",
    "import pandas as pd\n",
    "import numpy as np"
   ]
  },
  {
   "cell_type": "code",
   "execution_count": 2,
   "metadata": {},
   "outputs": [],
   "source": [
    "benz = pd.read_csv('benz.csv')"
   ]
  },
  {
   "cell_type": "code",
   "execution_count": null,
   "metadata": {},
   "outputs": [],
   "source": [
    "# Q1. 총 데이터 개수는?\n",
    "len(benz)\n",
    "# Q2. KM 컬럼의 데이터 타입은 정수? 실수?\n",
    "benz.PY.dtype\n",
    "# Q3. PRICE 데이터 타입 변환하기\n",
    "benz.PRICE.astype(float)\n",
    "# Q4. MODEL 컬럼에 있는 서로 다른 모델명의 개수는?\n",
    "len(benz.MODEL.unique())\n",
    "# Q5. 디젤과 가솔린 차량의 개수는?\n",
    "benz >> group_by(X.FUEL) >> summarise(N=X.shape[0])\n",
    "# Q6. 가격이 가장 높은 차량 3개는?\n",
    "benz >> arrange(-X.PRICE) >> head(3)\n",
    "# Q7. 연식이 가장 오래된 차량은?\n",
    "benz >> arrange(X.PY) >> head(3)\n",
    "# Q8. 평균 가격이 가장 큰 모델은?\n",
    "benz >> group_by(X.MODEL) >> summarise(MEAN_PRICE=mean(X.PRICE)) >> arrange(-X.MEAN_PRICE) >> head(1)\n",
    "# Q9. 데이터 개수가 100개 이상인 모델 중에 평균 가격이 가장 큰 모델은?\n",
    "benz >> group_by(X.MODEL) >> summarise(MEAN_PRICE=mean(X.PRICE), N=X.shape[0]) >> mask(X.N > 100) >> arrange(-X.MEAN_PRICE) >> head(1)\n",
    "# Q10. 데이터 개수가 50개 이하인 모델을 데이터에서 제외했을 때 남아 있는 데이터 개수는?\n",
    "benz >> group_by(X.MODEL) >> summarise(N=X.shape[0]) >> right_join(benz, by='MODEL') >> mask(X.N > 50) >> drop(X.MODEL)\n",
    "# Q11. CERT 가 Normal인 것과 아닌 것으로 구분하기\n",
    "benz >> mutate(NORMAL=if_else(X.CERT == 'Normal', 'Normal', 'Not-Normal'))"
   ]
  }
 ],
 "metadata": {
  "kernelspec": {
   "display_name": "Python 3",
   "language": "python",
   "name": "python3"
  },
  "language_info": {
   "codemirror_mode": {
    "name": "ipython",
    "version": 3
   },
   "file_extension": ".py",
   "mimetype": "text/x-python",
   "name": "python",
   "nbconvert_exporter": "python",
   "pygments_lexer": "ipython3",
   "version": "3.7.3"
  }
 },
 "nbformat": 4,
 "nbformat_minor": 2
}
