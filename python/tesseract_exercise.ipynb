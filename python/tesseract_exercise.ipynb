{
 "metadata": {
  "language_info": {
   "codemirror_mode": {
    "name": "ipython",
    "version": 3
   },
   "file_extension": ".py",
   "mimetype": "text/x-python",
   "name": "python",
   "nbconvert_exporter": "python",
   "pygments_lexer": "ipython3",
   "version": "3.8.5"
  },
  "orig_nbformat": 4,
  "kernelspec": {
   "name": "python3",
   "display_name": "Python 3.8.5 64-bit ('base': conda)"
  },
  "interpreter": {
   "hash": "b3ba2566441a7c06988d0923437866b63cedc61552a5af99d1f4fb67d367b25f"
  }
 },
 "nbformat": 4,
 "nbformat_minor": 2,
 "cells": [
  {
   "cell_type": "code",
   "execution_count": 1,
   "metadata": {},
   "outputs": [],
   "source": [
    "import time\n",
    "import numpy as np\n",
    "import pytesseract\n",
    "import pyautogui as gui\n",
    "import matplotlib.pyplot as plt\n",
    "from IPython.display import clear_output\n",
    "\n",
    "pytesseract.pytesseract.tesseract_cmd = r'C:\\Program Files\\Tesseract-OCR\\tesseract'\n",
    "\n",
    "# Coordinates\n",
    "SOURCE = {'x': 196, 'y': 693, 'width': 46, 'height': 22}\n",
    "TARGET = {'x': 259, 'y': 693, 'width': 46, 'height': 22}\n",
    "CURRENT_PAGE = {'x': 652, 'y': 693, 'width': 22, 'height': 22}\n",
    "LAST_PAGE = {'x': 687, 'y': 693, 'width': 25, 'height': 22}\n",
    "NEXT = {'x': 740, 'y': 400, 'width': 1, 'height': 1}\n",
    "BUTTON = (765, 705)"
   ]
  },
  {
   "cell_type": "code",
   "execution_count": 4,
   "metadata": {},
   "outputs": [
    {
     "output_type": "stream",
     "name": "stdout",
     "text": [
      "Time lapsed: 04:47 (Target: 05:50) Page: 07/12\n"
     ]
    }
   ],
   "source": [
    "while True:\n",
    "    time.sleep(5)\n",
    "    img_target = gui.screenshot(region=(TARGET['x'], TARGET['y'], TARGET['width'], TARGET['height']))\n",
    "    time_target = pytesseract.image_to_string(img_target)[:-2]\n",
    "\n",
    "    img_last_page = gui.screenshot(region=(LAST_PAGE['x'], LAST_PAGE['y'], LAST_PAGE['width'], LAST_PAGE['height']))\n",
    "    last_page = int(pytesseract.image_to_string(img_last_page, config='--psm 13 --oem 3 -c tessedit_char_whitelist=0123456789')[:-2])\n",
    "\n",
    "    img_curret_page = gui.screenshot(region=(CURRENT_PAGE['x'], CURRENT_PAGE['y'], CURRENT_PAGE['width'], CURRENT_PAGE['height']))\n",
    "    current_page = int(pytesseract.image_to_string(img_curret_page, config='--psm 13 --oem 3 -c tessedit_char_whitelist=0123456789')[:-2])\n",
    "    while True:\n",
    "        time.sleep(1)\n",
    "        img_source = gui.screenshot(region=(SOURCE['x'], SOURCE['y'], SOURCE['width'], SOURCE['height']))\n",
    "        time_source = pytesseract.image_to_string(img_source)[:-2]\n",
    "        clear_output(wait=True)\n",
    "        print(f\"Time lapsed: {time_source} (Target: {time_target}) Page: {current_page:02}/{last_page:02}\")\n",
    "        if (len(time_target) == 5) and (time_source == time_target):\n",
    "            x, y = gui.position()\n",
    "            gui.click(*BUTTON)\n",
    "            gui.moveTo(x, y)\n",
    "            next_btn = gui.screenshot(region=(NEXT['x'], NEXT['y'], NEXT['width'], NEXT['height']))\n",
    "            if np.array_equal(np.asarray(next_btn)[0, 0], np.array([192, 121, 2])):\n",
    "                gui.click(NEXT['x'], NEXT['y'])\n",
    "            break"
   ]
  },
  {
   "cell_type": "code",
   "execution_count": 10,
   "metadata": {},
   "outputs": [
    {
     "output_type": "display_data",
     "data": {
      "text/plain": "<Figure size 432x288 with 1 Axes>",
      "image/svg+xml": "<?xml version=\"1.0\" encoding=\"utf-8\" standalone=\"no\"?>\r\n<!DOCTYPE svg PUBLIC \"-//W3C//DTD SVG 1.1//EN\"\r\n  \"http://www.w3.org/Graphics/SVG/1.1/DTD/svg11.dtd\">\r\n<!-- Created with matplotlib (https://matplotlib.org/) -->\r\n<svg height=\"174.521739pt\" version=\"1.1\" viewBox=\"0 0 349.2 174.521739\" width=\"349.2pt\" xmlns=\"http://www.w3.org/2000/svg\" xmlns:xlink=\"http://www.w3.org/1999/xlink\">\r\n <metadata>\r\n  <rdf:RDF xmlns:cc=\"http://creativecommons.org/ns#\" xmlns:dc=\"http://purl.org/dc/elements/1.1/\" xmlns:rdf=\"http://www.w3.org/1999/02/22-rdf-syntax-ns#\">\r\n   <cc:Work>\r\n    <dc:type rdf:resource=\"http://purl.org/dc/dcmitype/StillImage\"/>\r\n    <dc:date>2021-07-06T18:18:27.584888</dc:date>\r\n    <dc:format>image/svg+xml</dc:format>\r\n    <dc:creator>\r\n     <cc:Agent>\r\n      <dc:title>Matplotlib v3.3.2, https://matplotlib.org/</dc:title>\r\n     </cc:Agent>\r\n    </dc:creator>\r\n   </cc:Work>\r\n  </rdf:RDF>\r\n </metadata>\r\n <defs>\r\n  <style type=\"text/css\">*{stroke-linecap:butt;stroke-linejoin:round;}</style>\r\n </defs>\r\n <g id=\"figure_1\">\r\n  <g id=\"patch_1\">\r\n   <path d=\"M 0 174.521739 \r\nL 349.2 174.521739 \r\nL 349.2 0 \r\nL 0 0 \r\nz\r\n\" style=\"fill:none;\"/>\r\n  </g>\r\n  <g id=\"axes_1\">\r\n   <g clip-path=\"url(#pe18b824624)\">\r\n    <image height=\"161\" id=\"image85e752a19c\" transform=\"scale(1 -1)translate(0 -161)\" width=\"335\" x=\"7.2\" xlink:href=\"data:image/png;base64,\r\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\" y=\"-6.321739\"/>\r\n   </g>\r\n  </g>\r\n </g>\r\n <defs>\r\n  <clipPath id=\"pe18b824624\">\r\n   <rect height=\"160.121739\" width=\"334.8\" x=\"7.2\" y=\"7.2\"/>\r\n  </clipPath>\r\n </defs>\r\n</svg>\r\n",
      "image/png": "[encoded data removed]"
     },
     "metadata": {
      "needs_background": "light"
     }
    },
    {
     "output_type": "execute_result",
     "data": {
      "text/plain": [
       "'05:48'"
      ]
     },
     "metadata": {},
     "execution_count": 10
    }
   ],
   "source": [
    "# Test\n",
    "SOURCE = {'x': 196, 'y': 693, 'width': 46, 'height': 22}\n",
    "img = gui.screenshot(region=(SOURCE['x'], SOURCE['y'], SOURCE['width'], SOURCE['height']))\n",
    "plt.imshow(img)\n",
    "plt.axis('off')\n",
    "plt.show()\n",
    "pytesseract.image_to_string(img)[:-2]"
   ]
  }
 ]
}