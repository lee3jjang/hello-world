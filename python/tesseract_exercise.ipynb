{
 "metadata": {
  "language_info": {
   "codemirror_mode": {
    "name": "ipython",
    "version": 3
   },
   "file_extension": ".py",
   "mimetype": "text/x-python",
   "name": "python",
   "nbconvert_exporter": "python",
   "pygments_lexer": "ipython3",
   "version": "3.8.5"
  },
  "orig_nbformat": 4,
  "kernelspec": {
   "name": "python3",
   "display_name": "Python 3.8.5 64-bit ('base': conda)"
  },
  "interpreter": {
   "hash": "b3ba2566441a7c06988d0923437866b63cedc61552a5af99d1f4fb67d367b25f"
  }
 },
 "nbformat": 4,
 "nbformat_minor": 2,
 "cells": [
  {
   "cell_type": "code",
   "execution_count": 1,
   "metadata": {},
   "outputs": [],
   "source": [
    "import time\n",
    "import numpy as np\n",
    "import pytesseract\n",
    "import pyautogui as gui\n",
    "import matplotlib.pyplot as plt\n",
    "from IPython.display import clear_output\n",
    "\n",
    "pytesseract.pytesseract.tesseract_cmd = r'C:\\Program Files\\Tesseract-OCR\\tesseract'\n",
    "\n",
    "# Coordinates\n",
    "SOURCE = {'x': 196, 'y': 693, 'width': 46, 'height': 22}\n",
    "TARGET = {'x': 259, 'y': 693, 'width': 46, 'height': 22}\n",
    "CURRENT_PAGE = {'x': 652, 'y': 693, 'width': 22, 'height': 22}\n",
    "LAST_PAGE = {'x': 687, 'y': 693, 'width': 25, 'height': 22}\n",
    "NEXT = {'x': 740, 'y': 400, 'width': 1, 'height': 1}\n",
    "BUTTON = (765, 705)"
   ]
  },
  {
   "cell_type": "code",
   "execution_count": 6,
   "metadata": {},
   "outputs": [
    {
     "output_type": "stream",
     "name": "stdout",
     "text": [
      "Time lapsed: 00:10 (Target: 03:48) Page: 05/12\n"
     ]
    }
   ],
   "source": [
    "while True:\n",
    "    time.sleep(5)\n",
    "    img_target = gui.screenshot(region=(TARGET['x'], TARGET['y'], TARGET['width'], TARGET['height']))\n",
    "    time_target = pytesseract.image_to_string(img_target)[:5]\n",
    "\n",
    "    img_last_page = gui.screenshot(region=(LAST_PAGE['x'], LAST_PAGE['y'], LAST_PAGE['width'], LAST_PAGE['height']))\n",
    "    last_page = int(pytesseract.image_to_string(img_last_page, config='--psm 13 --oem 3 -c tessedit_char_whitelist=0123456789')[:-2])\n",
    "\n",
    "    img_curret_page = gui.screenshot(region=(CURRENT_PAGE['x'], CURRENT_PAGE['y'], CURRENT_PAGE['width'], CURRENT_PAGE['height']))\n",
    "    current_page = int(pytesseract.image_to_string(img_curret_page, config='--psm 13 --oem 3 -c tessedit_char_whitelist=0123456789')[:-2])\n",
    "    while True:\n",
    "        time.sleep(1)\n",
    "        img_source = gui.screenshot(region=(SOURCE['x'], SOURCE['y'], SOURCE['width'], SOURCE['height']))\n",
    "        time_source = pytesseract.image_to_string(img_source)[:5]\n",
    "        clear_output(wait=True)\n",
    "        print(f\"Time lapsed: {time_source} (Target: {time_target}) Page: {current_page:02}/{last_page:02}\")\n",
    "        if (len(time_target) == 5) and (time_source == time_target):\n",
    "            x, y = gui.position()\n",
    "            gui.click(*BUTTON)\n",
    "            gui.moveTo(x, y)\n",
    "            next_btn = gui.screenshot(region=(NEXT['x'], NEXT['y'], NEXT['width'], NEXT['height']))\n",
    "            if np.array_equal(np.asarray(next_btn)[0, 0], np.array([192, 121, 2])):\n",
    "                gui.click(NEXT['x'], NEXT['y'])\n",
    "            break"
   ]
  },
  {
   "cell_type": "code",
   "execution_count": 2,
   "metadata": {},
   "outputs": [
    {
     "output_type": "display_data",
     "data": {
      "text/plain": "<Figure size 432x288 with 1 Axes>",
      "image/svg+xml": "<?xml version=\"1.0\" encoding=\"utf-8\" standalone=\"no\"?>\r\n<!DOCTYPE svg PUBLIC \"-//W3C//DTD SVG 1.1//EN\"\r\n  \"http://www.w3.org/Graphics/SVG/1.1/DTD/svg11.dtd\">\r\n<!-- Created with matplotlib (https://matplotlib.org/) -->\r\n<svg height=\"231.84pt\" version=\"1.1\" viewBox=\"0 0 242.194286 231.84\" width=\"242.194286pt\" xmlns=\"http://www.w3.org/2000/svg\" xmlns:xlink=\"http://www.w3.org/1999/xlink\">\r\n <metadata>\r\n  <rdf:RDF xmlns:cc=\"http://creativecommons.org/ns#\" xmlns:dc=\"http://purl.org/dc/elements/1.1/\" xmlns:rdf=\"http://www.w3.org/1999/02/22-rdf-syntax-ns#\">\r\n   <cc:Work>\r\n    <dc:type rdf:resource=\"http://purl.org/dc/dcmitype/StillImage\"/>\r\n    <dc:date>2021-07-06T17:57:15.669020</dc:date>\r\n    <dc:format>image/svg+xml</dc:format>\r\n    <dc:creator>\r\n     <cc:Agent>\r\n      <dc:title>Matplotlib v3.3.2, https://matplotlib.org/</dc:title>\r\n     </cc:Agent>\r\n    </dc:creator>\r\n   </cc:Work>\r\n  </rdf:RDF>\r\n </metadata>\r\n <defs>\r\n  <style type=\"text/css\">*{stroke-linecap:butt;stroke-linejoin:round;}</style>\r\n </defs>\r\n <g id=\"figure_1\">\r\n  <g id=\"patch_1\">\r\n   <path d=\"M 0 231.84 \r\nL 242.194286 231.84 \r\nL 242.194286 0 \r\nL 0 0 \r\nz\r\n\" style=\"fill:none;\"/>\r\n  </g>\r\n  <g id=\"axes_1\">\r\n   <g clip-path=\"url(#p5bd576a8ff)\">\r\n    <image height=\"218\" id=\"imagec62096c136\" transform=\"scale(1 -1)translate(0 -218)\" width=\"228\" x=\"7.2\" xlink:href=\"data:image/png;base64,\r\niVBORw0KGgoAAAANSUhEUgAAAOQAAADaCAYAAAC2J+5QAAAE4klEQVR4nO3dvUpeaRiF4W1UiJ2VWCgInoOFkFabILGNICh4AIJnYGFna5nKExARjK2QQgvBRAtRMQRBMIWgKMafKacZhieOmW+ZXFe92HsX3r7Ni7Y1TfPYABFetfoDgL8JEoIIEoIIEoIIEoIIEoIIEoIIEoIIEoIIEoIIEoIIEoIIEoIIEoIIEoIIEoIIEoIIEoIIEoIIEoIIEoIIEoIIEoIIEoIIEoIIEoIIEoIIEoIIEoIIEoIIEoIIEoIIEoIIEoIIEoIIEoIIEoIIEoIIEoIIEoIIEoJ0tPoD+Hdzc3Ol3czMTGk3ODhYfnd7e3tpt7+/X9otLi6W3728vFzaXV9fl5/5EjghIYggIYggIYggIYggIYggIYggIYggIYggIUhb0zSPrf6IP838/Hx5Ozs7W9p9/fq1tFtdXS2/u6enp7R7+/ZtadfV1VV+98TERGm3trZWfubt7W152ypOSAgiSAgiSAgiSAgiSAgiSAgiSAgiSAgiSAjipk4LHBwclLevXtV+Zw4PD5d2Z2dn5XdXjY2NlXYfPnwoP3Nvb6+0Gx8fLz/z/Py8vG0VJyQEESQEESQEESQEESQEESQEESQEESQEESQEESQE8e/onlFfX19p9+nTp/Izd3d3S7urq6vyM5/byspKaXd0dFR+Zm9vb2lX/Zd5L4UTEoIIEoIIEoIIEoIIEoIIEoIIEoIIEoIIEoK4qfOMvn37VtpNTk7+4i/JdHNzU94ODAyUdh0dv9ePsBMSgggSgggSgggSgggSgggSgggSgggSgggSgvxe1xyI1t3dXd6enJyUdnd3d0/8mkxOSAgiSAgiSAgiSAgiSAgiSAgiSAgiSAgiSAgiSAji6ly4sbGx0m5jY6O0u76+/i+f84+mp6dLu/7+/vIzDw8PS7uHh4fyM18CJyQEESQEESQEESQEESQEESQEESQEESQEESQEcVOnBVZWVsrb0dHR0u7z58+l3enpafndr1+/Lu3evHlT2v3MrZr5+fnS7uLiovzMl8AJCUEECUEECUEECUEECUEECUEECUEECUEECUEECUFcnWuB8/Pz8rZ63ayrq6u0q17Fa5qm6ezsLO2Oj49Lu4WFhfK719fXS7vb29vyM18CJyQEESQEESQEESQEESQEESQEESQEESQEESQEcVOnBS4vL8vb6k2dqamp0m57e7v87vv7+/KW5+GEhCCChCCChCCChCCChCCChCCChCCChCCChCBu6rTAzs5Oefvjx4/SbmRkpLT78uVL+d0/c6OI5+GEhCCChCCChCCChCCChCCChCCChCCChCCChCCChCCuzv0m3r17V9oNDQ2Vn1n9A1u/wubmZmm3tLRUfuZLuArohIQggoQggoQggoQggoQggoQggoQggoQggoQgbU3TPLb6I/40fX195e3W1lZp19vb+9TPifTx48fS7v379+Vnfv/+/amf879xQkIQQUIQQUIQQUIQQUIQQUIQQUIQQUIQQUIQN3UgiBMSgggSgggSgggSgggSgggSgggSgggSgggSgggSgggSgggSgggSgggSgggSgggSgggSgggSgggSgggSgggSgggSgggSgggSgggSgggSgggSgggSgggSgggSgggSgggSgggSgggSgggSgggSgggSgggSgggSgggSgggSgvwFS66kUen8nkQAAAAASUVORK5CYII=\" y=\"-6.64\"/>\r\n   </g>\r\n  </g>\r\n </g>\r\n <defs>\r\n  <clipPath id=\"p5bd576a8ff\">\r\n   <rect height=\"217.44\" width=\"227.794286\" x=\"7.2\" y=\"7.2\"/>\r\n  </clipPath>\r\n </defs>\r\n</svg>\r\n",
      "image/png": "[encoded data removed]"
     },
     "metadata": {
      "needs_background": "light"
     }
    }
   ],
   "source": [
    "# Test\n",
    "COORD = {'x': 652, 'y': 694, 'width': 22, 'height': 21}\n",
    "img = gui.screenshot(region=(COORD['x'], COORD['y'], COORD['width'], COORD['height']))\n",
    "plt.imshow(img)\n",
    "plt.axis('off')\n",
    "plt.show()"
   ]
  }
 ]
}