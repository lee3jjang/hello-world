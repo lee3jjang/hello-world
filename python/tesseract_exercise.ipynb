{
 "metadata": {
  "language_info": {
   "codemirror_mode": {
    "name": "ipython",
    "version": 3
   },
   "file_extension": ".py",
   "mimetype": "text/x-python",
   "name": "python",
   "nbconvert_exporter": "python",
   "pygments_lexer": "ipython3",
   "version": "3.8.5"
  },
  "orig_nbformat": 4,
  "kernelspec": {
   "name": "python3",
   "display_name": "Python 3.8.5 64-bit ('base': conda)"
  },
  "interpreter": {
   "hash": "b3ba2566441a7c06988d0923437866b63cedc61552a5af99d1f4fb67d367b25f"
  }
 },
 "nbformat": 4,
 "nbformat_minor": 2,
 "cells": [
  {
   "cell_type": "code",
   "execution_count": 1,
   "metadata": {},
   "outputs": [],
   "source": [
    "import time\n",
    "import numpy as np\n",
    "import pytesseract\n",
    "import pyautogui as gui\n",
    "import matplotlib.pyplot as plt\n",
    "from IPython.display import clear_output\n",
    "\n",
    "pytesseract.pytesseract.tesseract_cmd = r'C:\\Program Files\\Tesseract-OCR\\tesseract'\n",
    "\n",
    "# Coordinates\n",
    "SOURCE = {'x': 196, 'y': 693, 'width': 46, 'height': 22}\n",
    "TARGET = {'x': 259, 'y': 693, 'width': 46, 'height': 22}\n",
    "CURRENT_PAGE = {'x': 652, 'y': 693, 'width': 25, 'height': 22}\n",
    "LAST_PAGE = {'x': 687, 'y': 693, 'width': 25, 'height': 22}\n",
    "NEXT = {'x': 740, 'y': 400, 'width': 1, 'height': 1}\n",
    "BUTTON = (765, 705)"
   ]
  },
  {
   "cell_type": "code",
   "execution_count": 2,
   "metadata": {},
   "outputs": [
    {
     "output_type": "stream",
     "name": "stdout",
     "text": [
      "Time lapsed: 00:15 (Target: 00:15) Page: 04/12\n"
     ]
    }
   ],
   "source": [
    "while True:\n",
    "    time.sleep(5)\n",
    "    img_target = gui.screenshot(region=(TARGET['x'], TARGET['y'], TARGET['width'], TARGET['height']))\n",
    "    time_target = pytesseract.image_to_string(img_target)[:5]\n",
    "\n",
    "    img_last_page = gui.screenshot(region=(LAST_PAGE['x'], LAST_PAGE['y'], LAST_PAGE['width'], LAST_PAGE['height']))\n",
    "    last_page = int(pytesseract.image_to_string(img_last_page, config='--psm 13 --oem 3 -c tessedit_char_whitelist=0123456789')[:-2])\n",
    "\n",
    "    img_curret_page = gui.screenshot(region=(CURRENT_PAGE['x'], CURRENT_PAGE['y'], CURRENT_PAGE['width'], CURRENT_PAGE['height']))\n",
    "    current_page = int(pytesseract.image_to_string(img_curret_page, config='--psm 13 --oem 3 -c tessedit_char_whitelist=0123456789')[:-2])\n",
    "    while True:\n",
    "        time.sleep(1)\n",
    "        img_source = gui.screenshot(region=(SOURCE['x'], SOURCE['y'], SOURCE['width'], SOURCE['height']))\n",
    "        time_source = pytesseract.image_to_string(img_source)[:5]\n",
    "        clear_output(wait=True)\n",
    "        print(f\"Time lapsed: {time_source} (Target: {time_target}) Page: {current_page:02}/{last_page:02}\")\n",
    "        if (len(time_target) == 5) and (time_source == time_target):\n",
    "            x, y = gui.position()\n",
    "            gui.click(*BUTTON)\n",
    "            gui.moveTo(x, y)\n",
    "            next_btn = gui.screenshot(region=(NEXT['x'], NEXT['y'], NEXT['width'], NEXT['height']))\n",
    "            if np.array_equal(np.asarray(next_btn)[0, 0], np.array([192, 121, 2])):\n",
    "                gui.click(NEXT['x'], NEXT['y'])\n",
    "            break"
   ]
  },
  {
   "cell_type": "code",
   "execution_count": 16,
   "metadata": {},
   "outputs": [
    {
     "output_type": "display_data",
     "data": {
      "text/plain": "<Figure size 432x288 with 1 Axes>",
      "image/svg+xml": "<?xml version=\"1.0\" encoding=\"utf-8\" standalone=\"no\"?>\r\n<!DOCTYPE svg PUBLIC \"-//W3C//DTD SVG 1.1//EN\"\r\n  \"http://www.w3.org/Graphics/SVG/1.1/DTD/svg11.dtd\">\r\n<!-- Created with matplotlib (https://matplotlib.org/) -->\r\n<svg height=\"231.84pt\" version=\"1.1\" viewBox=\"0 0 283.611429 231.84\" width=\"283.611429pt\" xmlns=\"http://www.w3.org/2000/svg\" xmlns:xlink=\"http://www.w3.org/1999/xlink\">\r\n <metadata>\r\n  <rdf:RDF xmlns:cc=\"http://creativecommons.org/ns#\" xmlns:dc=\"http://purl.org/dc/elements/1.1/\" xmlns:rdf=\"http://www.w3.org/1999/02/22-rdf-syntax-ns#\">\r\n   <cc:Work>\r\n    <dc:type rdf:resource=\"http://purl.org/dc/dcmitype/StillImage\"/>\r\n    <dc:date>2021-07-06T17:50:57.033313</dc:date>\r\n    <dc:format>image/svg+xml</dc:format>\r\n    <dc:creator>\r\n     <cc:Agent>\r\n      <dc:title>Matplotlib v3.3.2, https://matplotlib.org/</dc:title>\r\n     </cc:Agent>\r\n    </dc:creator>\r\n   </cc:Work>\r\n  </rdf:RDF>\r\n </metadata>\r\n <defs>\r\n  <style type=\"text/css\">*{stroke-linecap:butt;stroke-linejoin:round;}</style>\r\n </defs>\r\n <g id=\"figure_1\">\r\n  <g id=\"patch_1\">\r\n   <path d=\"M 0 231.84 \r\nL 283.611429 231.84 \r\nL 283.611429 0 \r\nL 0 0 \r\nz\r\n\" style=\"fill:none;\"/>\r\n  </g>\r\n  <g id=\"axes_1\">\r\n   <g clip-path=\"url(#pd5f7365891)\">\r\n    <image height=\"218\" id=\"imagefdfff77b2a\" transform=\"scale(1 -1)translate(0 -218)\" width=\"270\" x=\"7.2\" xlink:href=\"data:image/png;base64,\r\niVBORw0KGgoAAAANSUhEUgAAAQ4AAADaCAYAAABXaawoAAAFUElEQVR4nO3csW+NbQDG4bfH92dIbJaGirBadJHYTonEYjBIDAYkwmAxklgsVpEw+AswsEgkdMTQpKkFg4hoTgRl+hb5hvumnK/tdc13nvekbX59hydnZhiG7wNAYTTtDwBsPMIB1IQDqAkHUBMOoCYcQE04gJpwADXhAGrCAdSEA6gJB1ATDqAmHEBNOICacAA14QBqwgHUhAOoCQdQEw6gJhxATTiAmnAANeEAasIB1IQDqAkHUBMOoCYcQE04gJpwADXhAGrCAdSEA6gJB1ATDqAmHEBNOICacAA14QBq/0z7A2wmp06dinbXr1+Pz3z48GG0W1hYiM+cTCbxdr0tLi5Gu927d8dnjkZb8//f0tJStJubm4vPXF1djXZb8ycO/BbhAGrCAdSEA6gJB1ATDqAmHEBNOICacAA1N0f5q9KbsLOzs/GZz549i3Z3796Ndl++fImfPU3v3r2Ldp8/f173Z3vjAGrCAdSEA6gJB1ATDqAmHEBNOICacAA14QBqbo7yV507dy7abd++PT5zPB5Hu+fPn0e7M2fOxM/+E7cyNwJvHEBNOICacAA14QBqwgHUhAOoCQdQEw6gJhxATTiAmivn/C8dO3Ys3qZfgHzy5Mlo9+HDh/jZly9fjnab7Wq6Nw6gJhxATTiAmnAANeEAasIB1IQDqAkHUBMOoObmKBvewYMHo116w/T06dPxs1+8eBHtbt++He2+fv0aP3uavHEANeEAasIB1IQDqAkHUBMOoCYcQE04gJpwADU3R9kyTpw4Ee0ePHgQn3njxo1f/DT/Lb1hOgzTvWXqjQOoCQdQEw6gJhxATTiAmnAANeEAasIB1IQDqAkHUHPlnC3j9evX0W5+fj4+M72efuXKlWj39OnT+NmvXr2Kdmtra/GZKW8cQE04gJpwADXhAGrCAdSEA6gJB1ATDqAmHEDNzVH4SXrDdBiG4eLFi9Hu1q1b0e7q1avxsxcWFqLdZDKJz0x54wBqwgHUhAOoCQdQEw6gJhxATTiAmnAANeEAasIB1Fw5h99w7969aHf27Nlod+DAgfjZ27Zti7frzRsHUBMOoCYcQE04gJpwADXhAGrCAdSEA6gJB1DbdDdHx+NxtFtcXIzPXF5e/sVPw8/evn0b7T5+/BifuWfPnmi3uroan7neVlZWot3+/fvjM2dmZn714/w2bxxATTiAmnAANeEAasIB1IQDqAkHUBMOoCYcQG3T3Rw9cuRItLtz5058ZnrL9M2bN9Fumt8VOW1LS0vRbteuXfGZO3bsiHYvX76Mdmtra/GzU3Nzc9Fuo/xteOMAasIB1IQDqAkHUBMOoCYcQE04gJpwADXhAGrCAdQ23ZXz8+fPR7tPnz7FZx4+fDja7du3L9pN80tmp+3atWvR7ubNm/GZjx8/jnb379+Pdum1+GEYhkOHDkW7nTt3RrtHjx7Fz/727Vu8XW/eOICacAA14QBqwgHUhAOoCQdQEw6gJhxATTiA2sxoNPqeDP/EF7huNpcuXYp2x48fj89MbzEePXo0PnMymcTbaRmPx/H2woUL0W7v3r3RbjTK/5++f/8+2j158iTapV+2PQzT/T164wBqwgHUhAOoCQdQEw6gJhxATTiAmnAANeEAajPDMEQ3RwH+5Y0DqAkHUBMOoCYcQE04gJpwADXhAGrCAdSEA6gJB1ATDqAmHEBNOICacAA14QBqwgHUhAOoCQdQEw6gJhxATTiAmnAANeEAasIB1IQDqAkHUBMOoCYcQE04gJpwADXhAGrCAdSEA6gJB1ATDqAmHEBNOICacAA14QBqwgHUhAOo/QAd5sKWqfRAFAAAAABJRU5ErkJggg==\" y=\"-6.64\"/>\r\n   </g>\r\n  </g>\r\n </g>\r\n <defs>\r\n  <clipPath id=\"pd5f7365891\">\r\n   <rect height=\"217.44\" width=\"269.211429\" x=\"7.2\" y=\"7.2\"/>\r\n  </clipPath>\r\n </defs>\r\n</svg>\r\n",
      "image/png": "[encoded data removed]"
     },
     "metadata": {
      "needs_background": "light"
     }
    },
    {
     "output_type": "execute_result",
     "data": {
      "text/plain": [
       "'12\\n\\x0c'"
      ]
     },
     "metadata": {},
     "execution_count": 16
    }
   ],
   "source": [
    "# Test\n",
    "# COORD = {'x': 687, 'y': 694, 'width': 26, 'height': 21}\n",
    "# img = gui.screenshot(region=(COORD['x'], COORD['y'], COORD['width'], COORD['height']))\n",
    "# plt.imshow(img)\n",
    "# plt.axis('off')\n",
    "# plt.show()"
   ]
  }
 ]
}