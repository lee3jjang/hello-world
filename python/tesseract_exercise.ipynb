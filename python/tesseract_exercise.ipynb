{
 "metadata": {
  "language_info": {
   "codemirror_mode": {
    "name": "ipython",
    "version": 3
   },
   "file_extension": ".py",
   "mimetype": "text/x-python",
   "name": "python",
   "nbconvert_exporter": "python",
   "pygments_lexer": "ipython3",
   "version": "3.8.5"
  },
  "orig_nbformat": 4,
  "kernelspec": {
   "name": "python3",
   "display_name": "Python 3.8.5 64-bit ('base': conda)"
  },
  "interpreter": {
   "hash": "b3ba2566441a7c06988d0923437866b63cedc61552a5af99d1f4fb67d367b25f"
  }
 },
 "nbformat": 4,
 "nbformat_minor": 2,
 "cells": [
  {
   "cell_type": "code",
   "execution_count": 1,
   "metadata": {},
   "outputs": [],
   "source": [
    "import time\n",
    "import numpy as np\n",
    "import pytesseract\n",
    "import pyautogui as gui\n",
    "import matplotlib.pyplot as plt\n",
    "from IPython.display import clear_output\n",
    "\n",
    "pytesseract.pytesseract.tesseract_cmd = r'C:\\Program Files\\Tesseract-OCR\\tesseract'"
   ]
  },
  {
   "cell_type": "code",
   "execution_count": 2,
   "metadata": {},
   "outputs": [
    {
     "output_type": "stream",
     "name": "stdout",
     "text": [
      "00:15 01:21\n",
      "00:17 01:21\n",
      "00:18 01:21\n",
      "00:19 01:21\n",
      "00:21 01:21\n",
      "00:22 01:21\n",
      "00:24 01:21\n",
      "00:25 01:21\n",
      "00:26 01:21\n",
      "00:28 01:21\n",
      "00:29 01:21\n",
      "00:31 01:21\n",
      "00:33 01:21\n",
      "00:34 01:21\n",
      "00:36 01:21\n",
      "00:37 01:21\n",
      "00:38 01:21\n",
      "00:40 01:21\n",
      "00:41 01:21\n",
      "00:43 01:21\n",
      "00:44 01:21\n",
      "00:46 01:21\n",
      "00:47 01:21\n",
      "00:48 01:21\n",
      "00:50 01:21\n",
      "00:51 01:21\n",
      "00:53 01:21\n",
      "00:54 01:21\n",
      "00:55 01:21\n",
      "00:57 01:21\n",
      "00:58 01:21\n",
      "01:00 01:21\n",
      "01:01 01:21\n",
      "01:03 01:21\n",
      "01:04 01:21\n",
      "01:05 01:21\n",
      "01:07 01:21\n",
      "01:08 01:21\n",
      "01:10 01:21\n",
      "01:11 01:21\n",
      "01:13 01:21\n",
      "01:15 01:21\n",
      "01:16 01:21\n",
      "01:18 01:21\n",
      "01:20 01:21\n",
      "01:21 01:21\n",
      "00:02 00:32\n",
      "00:03 00:32\n",
      "00:05 00:32\n",
      "00:06 00:32\n",
      "00:08 00:32\n",
      "00:09 00:32\n",
      "00:10 00:32\n",
      "00:12 00:32\n"
     ]
    }
   ],
   "source": [
    "# Coordinates\n",
    "SOURCE = {'x': 247, 'y': 685, 'width': 48, 'height': 23}\n",
    "TARGET = {'x': 310, 'y': 685, 'width': 48, 'height': 23}\n",
    "NEXT = {'x': 740, 'y': 400, 'width': 1, 'height': 1}\n",
    "BUTTON = (775, 700)\n",
    "\n",
    "while True:\n",
    "    time.sleep(3)\n",
    "    # Target\n",
    "    img_target = gui.screenshot(region=(TARGET['x'], TARGET['y'], TARGET['width'], TARGET['height']))\n",
    "    time_target = pytesseract.image_to_string(img_target)[:5]\n",
    "    while True:\n",
    "        img_source = gui.screenshot(region=(SOURCE['x'], SOURCE['y'], SOURCE['width'], SOURCE['height']))\n",
    "        time_source = pytesseract.image_to_string(img_source)[:5]\n",
    "\n",
    "        time.sleep(1)\n",
    "        clear_output(wait=True)\n",
    "        print(time_source, time_target)\n",
    "        if (len(time_target) == 5) and (time_source == time_target):\n",
    "            time.sleep(0.5)\n",
    "            x, y = gui.position()\n",
    "            gui.click(*BUTTON)\n",
    "            gui.moveTo(x, y)\n",
    "            next_btn = gui.screenshot(region=(NEXT['x'], NEXT['y'], NEXT['width'], NEXT['height']))\n",
    "            if np.array_equal(np.asarray(next_btn)[0, 0], np.array([192, 121, 2])):\n",
    "                gui.click(NEXT['x'], NEXT['y'])\n",
    "            break"
   ]
  }
 ]
}