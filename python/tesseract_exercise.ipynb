{
 "metadata": {
  "language_info": {
   "codemirror_mode": {
    "name": "ipython",
    "version": 3
   },
   "file_extension": ".py",
   "mimetype": "text/x-python",
   "name": "python",
   "nbconvert_exporter": "python",
   "pygments_lexer": "ipython3",
   "version": "3.8.5"
  },
  "orig_nbformat": 4,
  "kernelspec": {
   "name": "python3",
   "display_name": "Python 3.8.5 64-bit ('base': conda)"
  },
  "interpreter": {
   "hash": "b3ba2566441a7c06988d0923437866b63cedc61552a5af99d1f4fb67d367b25f"
  }
 },
 "nbformat": 4,
 "nbformat_minor": 2,
 "cells": [
  {
   "cell_type": "code",
   "execution_count": 1,
   "metadata": {},
   "outputs": [],
   "source": [
    "import time\n",
    "import numpy as np\n",
    "import pytesseract\n",
    "import pyautogui as gui\n",
    "import matplotlib.pyplot as plt\n",
    "\n",
    "pytesseract.pytesseract.tesseract_cmd = r'C:\\Program Files\\Tesseract-OCR\\tesseract'"
   ]
  },
  {
   "cell_type": "code",
   "execution_count": 2,
   "metadata": {},
   "outputs": [
    {
     "output_type": "stream",
     "name": "stdout",
     "text": [
      "01:45\n",
      "01:45\n",
      "00:03\n",
      "00:02\n",
      "00:01\n",
      "00:05\n",
      "00:08\n",
      "00:12\n",
      "00:15\n",
      "00:19\n",
      "00:22\n",
      "00:26\n",
      "00:29\n"
     ]
    }
   ],
   "source": [
    "# Coordinates\n",
    "SOURCE = {'x': 247, 'y': 685, 'width': 48, 'height': 23}\n",
    "TARGET = {'x': 310, 'y': 685, 'width': 48, 'height': 23}\n",
    "BUTTON = (775, 700)\n",
    "\n",
    "while True:\n",
    "    # Target\n",
    "    img_target = gui.screenshot(region=(TARGET['x'], TARGET['y'], TARGET['width'], TARGET['height']))\n",
    "    time_target = pytesseract.image_to_string(img_target)[:5]\n",
    "    while True:\n",
    "        img_source = gui.screenshot(region=(SOURCE['x'], SOURCE['y'], SOURCE['width'], SOURCE['height']))\n",
    "        time_source = pytesseract.image_to_string(img_source)[:5]\n",
    "\n",
    "        print(time_source)\n",
    "        time.sleep(3)\n",
    "        if time_source == time_target:\n",
    "            time.sleep(0.5)\n",
    "            gui.click(*BUTTON)\n",
    "            break"
   ]
  }
 ]
}