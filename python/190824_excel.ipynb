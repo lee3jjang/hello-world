{
 "cells": [
  {
   "cell_type": "code",
   "execution_count": 43,
   "metadata": {},
   "outputs": [],
   "source": [
    "import win32com.client\n",
    "from glob import glob"
   ]
  },
  {
   "cell_type": "code",
   "execution_count": 164,
   "metadata": {},
   "outputs": [],
   "source": [
    "class ExcelHandler:\n",
    "    def __init__(self, visible=True):\n",
    "        self.excel = win32com.client.Dispatch('Excel.Application')\n",
    "        self.excel.Visible = visible\n",
    "        \n",
    "    def create_workbook(self):\n",
    "        '''\n",
    "            기능 : 새 워크북 1개 생성\n",
    "            반환 : 없음\n",
    "        '''\n",
    "        self.excel.Workbooks.Add()\n",
    "    \n",
    "    def get_open_workbooks_list(self):\n",
    "        '''\n",
    "            반환 : 현재 열려져있는 워크북 리스트\n",
    "        '''\n",
    "        n = self.excel.Workbooks.count\n",
    "        workbooks_list = list()\n",
    "        for i in range(n):\n",
    "            workbooks_list.append(self.excel.Workbooks[i].name)\n",
    "        return workbooks_list\n",
    "    \n",
    "    def get_worksheets_list(self, workbook_name):\n",
    "        '''\n",
    "            입력 : 워크북 이름\n",
    "            출력 : 워크시트 리스트\n",
    "        '''\n",
    "        \n",
    "        wb = self.excel.Workbooks[workbook_name]\n",
    "        n = wb.Worksheets.count\n",
    "        worksheets_list = list()\n",
    "        for i in range(n):\n",
    "            worksheets_list.append(wb.Worksheets[i].name)\n",
    "        return worksheets_list\n",
    "        \n",
    "    def open_workbook(self, path):\n",
    "        '''\n",
    "            입력 : 파일 경로\n",
    "            기능 : 경로에 있는 파일 열기\n",
    "        '''\n",
    "        self.excel.Workbooks.Open(path)\n",
    "        \n",
    "    def get_excel_files_list(self, path):\n",
    "        '''\n",
    "            입력 : 폴더 경로\n",
    "            출력 : 폴더 내에 있는 엑셀파일 리스트\n",
    "        '''\n",
    "        excel_files_list = list()\n",
    "        for ext in ('xlsx', 'xls', 'xlsm'):\n",
    "            excel_files_list += glob(path + '/*.{}'.format(ext))\n",
    "        return excel_files_list\n",
    "    \n",
    "    def pop_worksheet(self, workbook_name, worksheet_name):\n",
    "        '''\n",
    "            입력 : 워크북 이름, 워크시트 이름\n",
    "            기능 : 워크북에 있는 특정 워크시트 하나를 끄집어내어 개별 파일로 저장\n",
    "        '''\n",
    "        self.excel.Workbooks[workbook_name].Worksheets[worksheet_name].copy\n",
    "        filname = workbook_name.split('.')[0]\n",
    "        self.excel.Workbooks[self.excel.Workbooks.count-1].SaveAs('{}_{}.xlsx'.format(filname, worksheet_name))\n",
    "        self.excel.Workbooks[self.excel.Workbooks.count-1].close\n",
    "        \n",
    "    def pop_worksheet_all(self, workbook_name):\n",
    "        '''\n",
    "            입력 : 워크북 이름\n",
    "            기능 : 워크북에 있는 모든 워크시트를 끄집어내어 개별 파일로 저장\n",
    "        '''\n",
    "        worksheets_list = self.get_worksheets_list(workbook_name)\n",
    "        for worksheets in worksheets_list:\n",
    "            self.pop_worksheet(workbook_name, worksheets)\n",
    "        \n",
    "    def close(self):\n",
    "        self.excel.quit()"
   ]
  },
  {
   "cell_type": "code",
   "execution_count": 174,
   "metadata": {},
   "outputs": [],
   "source": [
    "if __name__ == '__main__':\n",
    "    eh = ExcelHandler()\n",
    "    excel_files_list = eh.get_excel_files_list(r'C:\\Users\\Administrator\\dev')\n",
    "    eh.open_workbook('test3.xls')\n",
    "    #eh.pop_worksheet_all('test3.xls')"
   ]
  },
  {
   "cell_type": "code",
   "execution_count": 7,
   "metadata": {},
   "outputs": [],
   "source": [
    "sh1.Cells(1, 1).Value = '수정된 테스트파일'\n",
    "sh1.Cells(3, 1).Value == None\n",
    "sh1.Range('A1:B2').Value = '범위수정'\n",
    "wb1.SaveAs('test2.xlsx')\n",
    "excel.quit()"
   ]
  }
 ],
 "metadata": {
  "kernelspec": {
   "display_name": "Python 3",
   "language": "python",
   "name": "python3"
  },
  "language_info": {
   "codemirror_mode": {
    "name": "ipython",
    "version": 3
   },
   "file_extension": ".py",
   "mimetype": "text/x-python",
   "name": "python",
   "nbconvert_exporter": "python",
   "pygments_lexer": "ipython3",
   "version": "3.7.3"
  }
 },
 "nbformat": 4,
 "nbformat_minor": 4
}
