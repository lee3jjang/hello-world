{
 "cells": [
  {
   "cell_type": "code",
   "execution_count": 15,
   "metadata": {},
   "outputs": [
    {
     "name": "stdout",
     "output_type": "stream",
     "text": [
      "1\n",
      "Hello Sync and Async!\n",
      "\n",
      "2\n",
      "4\n",
      "3\n",
      "Hello Sync and Async!\n",
      "\n"
     ]
    }
   ],
   "source": [
    "var fs = require('fs');\n",
    "console.log(1);\n",
    "var data = fs.readFileSync('data.txt', {encoding:'utf8'})\n",
    "console.log(data);\n",
    "\n",
    "console.log(2);\n",
    "fs.readFile('data.txt', {encoding:'utf8'}, (err, data) => {\n",
    "    console.log(3);\n",
    "    console.log(data);\n",
    "});\n",
    "console.log(4);"
   ]
  },
  {
   "cell_type": "code",
   "execution_count": 22,
   "metadata": {},
   "outputs": [
    {
     "name": "stdout",
     "output_type": "stream",
     "text": [
      "coding everybody\n"
     ]
    }
   ],
   "source": [
    "function outer(){\n",
    "    var title = 'coding everybody';\n",
    "    function inner(){\n",
    "        console.log(title);\n",
    "    }\n",
    "    inner();\n",
    "}\n",
    "outer();"
   ]
  },
  {
   "cell_type": "code",
   "execution_count": 25,
   "metadata": {},
   "outputs": [
    {
     "name": "stdout",
     "output_type": "stream",
     "text": [
      "coding everybody\n"
     ]
    }
   ],
   "source": [
    "function outer(){\n",
    "    var title = 'coding everybody';\n",
    "    return () => console.log(title);\n",
    "}\n",
    "inner = outer();\n",
    "inner();"
   ]
  },
  {
   "cell_type": "code",
   "execution_count": 59,
   "metadata": {},
   "outputs": [
    {
     "name": "stdout",
     "output_type": "stream",
     "text": [
      "Ghost in the shell\n",
      "문자를 넣어주세요\n",
      "Matrix\n"
     ]
    }
   ],
   "source": [
    "function factory_movie(title){\n",
    "    return{\n",
    "        get_title: () => title,\n",
    "        set_title: (_title) => {\n",
    "            if(typeof _title === 'string'){\n",
    "                title = _title;\n",
    "            } else {\n",
    "                console.log('문자를 넣어주세요');\n",
    "            }\n",
    "        }\n",
    "    }\n",
    "}\n",
    "ghost = factory_movie('Ghost in the shell');\n",
    "console.log(ghost.get_title());\n",
    "ghost.set_title(3);\n",
    "ghost.set_title('Matrix');\n",
    "console.log(ghost.get_title());"
   ]
  },
  {
   "cell_type": "code",
   "execution_count": 79,
   "metadata": {},
   "outputs": [
    {
     "name": "stdout",
     "output_type": "stream",
     "text": [
      "0\n",
      "1\n",
      "2\n",
      "3\n",
      "4\n"
     ]
    }
   ],
   "source": [
    "var arr = [];\n",
    "for(var i=0; i<5;i++){\n",
    "    arr[i] = function(id){        \n",
    "        return () => id;\n",
    "    }(i);\n",
    "}\n",
    "\n",
    "for(var index in arr){\n",
    "    console.log(arr[index]());\n",
    "}"
   ]
  }
 ],
 "metadata": {
  "kernelspec": {
   "display_name": "Javascript (Node.js)",
   "language": "javascript",
   "name": "javascript"
  },
  "language_info": {
   "file_extension": ".js",
   "mimetype": "application/javascript",
   "name": "javascript",
   "version": "8.9.4"
  }
 },
 "nbformat": 4,
 "nbformat_minor": 2
}
