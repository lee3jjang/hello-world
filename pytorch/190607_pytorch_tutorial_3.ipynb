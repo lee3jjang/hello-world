{
 "cells": [
  {
   "cell_type": "code",
   "execution_count": 1,
   "metadata": {},
   "outputs": [],
   "source": [
    "import torch\n",
    "from torch.autograd import Variable\n",
    "import torch.nn as nn\n",
    "import torch.nn.functional as F"
   ]
  },
  {
   "cell_type": "code",
   "execution_count": null,
   "metadata": {},
   "outputs": [],
   "source": [
    "# conv1: 1x32x32 -> 6x28x28 -> 6x14x14\n",
    "# conv2: 6x14x14 -> 16x10x10 -> 16x5x5"
   ]
  },
  {
   "cell_type": "code",
   "execution_count": 88,
   "metadata": {},
   "outputs": [],
   "source": [
    "class Net(nn.Module):\n",
    "    \n",
    "    def __init__(self):\n",
    "        super(Net, self).__init__()\n",
    "        # channel, output, kernel size\n",
    "        self.conv1 = nn.Conv2d(2, 3, 3)\n",
    "        \n",
    "    def forward(self, x):\n",
    "        x = self.conv1(x)\n",
    "        return x"
   ]
  },
  {
   "cell_type": "code",
   "execution_count": 89,
   "metadata": {},
   "outputs": [],
   "source": [
    "net = Net()"
   ]
  },
  {
   "cell_type": "code",
   "execution_count": 90,
   "metadata": {},
   "outputs": [],
   "source": [
    "params = list(net.parameters())"
   ]
  },
  {
   "cell_type": "code",
   "execution_count": 91,
   "metadata": {},
   "outputs": [],
   "source": [
    "W = params[0].data\n",
    "b = params[1].data"
   ]
  },
  {
   "cell_type": "code",
   "execution_count": 94,
   "metadata": {},
   "outputs": [
    {
     "name": "stdout",
     "output_type": "stream",
     "text": [
      "tensor([[[[ 0.0685,  1.0146, -0.5947, -2.6103],\n",
      "          [ 0.6408, -0.2963,  0.0708, -1.1136],\n",
      "          [-0.2098,  0.4360,  0.1099,  0.2932],\n",
      "          [ 1.3618,  0.4192,  1.3655,  1.5763]],\n",
      "\n",
      "         [[-1.8189,  0.0711, -0.1404,  0.2551],\n",
      "          [ 1.0315, -0.0242,  0.6710, -0.6647],\n",
      "          [-1.3335,  0.1867, -0.8789,  0.1255],\n",
      "          [ 0.5127, -1.5153, -0.4695, -0.1922]]]])\n"
     ]
    }
   ],
   "source": [
    "x = torch.randn(1, 2, 4, 4)\n",
    "print(x)"
   ]
  },
  {
   "cell_type": "code",
   "execution_count": 133,
   "metadata": {},
   "outputs": [
    {
     "name": "stdout",
     "output_type": "stream",
     "text": [
      "tensor([[[-0.1287,  0.0793,  0.1840],\n",
      "         [ 0.1554,  0.1311, -0.2082],\n",
      "         [ 0.1343,  0.1298,  0.0986]],\n",
      "\n",
      "        [[-0.0169,  0.1697,  0.0251],\n",
      "         [ 0.1106, -0.1572,  0.0230],\n",
      "         [-0.0995, -0.0036,  0.1832]]])\n"
     ]
    }
   ],
   "source": [
    "print(W[0])"
   ]
  },
  {
   "cell_type": "code",
   "execution_count": 95,
   "metadata": {},
   "outputs": [
    {
     "name": "stdout",
     "output_type": "stream",
     "text": [
      "tensor([[[[ 0.0088, -0.6781],\n",
      "          [-0.2349,  0.4431]],\n",
      "\n",
      "         [[ 0.8282,  0.1840],\n",
      "          [ 0.2981,  0.5483]],\n",
      "\n",
      "         [[ 0.4871,  0.2354],\n",
      "          [-0.5766, -0.4405]]]], grad_fn=<ThnnConv2DBackward>)\n"
     ]
    }
   ],
   "source": [
    "y = net(x)\n",
    "print(y)"
   ]
  },
  {
   "cell_type": "code",
   "execution_count": 138,
   "metadata": {},
   "outputs": [
    {
     "data": {
      "text/plain": [
       "tensor([[ 0.0307,  0.0121, -0.0035],\n",
       "        [ 0.1141,  0.0038,  0.0154],\n",
       "        [ 0.1326, -0.0007, -0.1610]])"
      ]
     },
     "execution_count": 138,
     "metadata": {},
     "output_type": "execute_result"
    }
   ],
   "source": [
    "W[0][1]*x[0][1][:3, :3]"
   ]
  },
  {
   "cell_type": "code",
   "execution_count": 152,
   "metadata": {},
   "outputs": [
    {
     "name": "stdout",
     "output_type": "stream",
     "text": [
      "tensor(0.0088)\n",
      "tensor(-0.6781)\n",
      "tensor(-0.2349)\n",
      "tensor(0.4431)\n"
     ]
    }
   ],
   "source": [
    "print(torch.sum(W[0][0]*x[0][0][:3, :3]) + torch.sum(W[0][1]*x[0][1][:3, :3]) + b[0])\n",
    "print(torch.sum(W[0][0]*x[0][0][:3, 1:]) + torch.sum(W[0][1]*x[0][1][:3, 1:]) + b[0])\n",
    "print(torch.sum(W[0][0]*x[0][0][1:, :3]) + torch.sum(W[0][1]*x[0][1][1:, :3]) + b[0])\n",
    "print(torch.sum(W[0][0]*x[0][0][1:, 1:]) + torch.sum(W[0][1]*x[0][1][1:, 1:]) + b[0])"
   ]
  }
 ],
 "metadata": {
  "kernelspec": {
   "display_name": "Python 3",
   "language": "python",
   "name": "python3"
  },
  "language_info": {
   "codemirror_mode": {
    "name": "ipython",
    "version": 3
   },
   "file_extension": ".py",
   "mimetype": "text/x-python",
   "name": "python",
   "nbconvert_exporter": "python",
   "pygments_lexer": "ipython3",
   "version": "3.7.3"
  }
 },
 "nbformat": 4,
 "nbformat_minor": 2
}
