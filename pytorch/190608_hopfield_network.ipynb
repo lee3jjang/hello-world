{
 "cells": [
  {
   "cell_type": "code",
   "execution_count": 1,
   "metadata": {},
   "outputs": [],
   "source": [
    "import torch\n",
    "from torchvision import datasets, transforms\n",
    "import matplotlib.pyplot as plt\n",
    "import numpy as np"
   ]
  },
  {
   "cell_type": "code",
   "execution_count": 119,
   "metadata": {},
   "outputs": [],
   "source": [
    "train_loader = torch.utils.data.DataLoader(\n",
    "    datasets.MNIST('../data', train=True, download=True,\n",
    "                  transform=transforms.Compose([\n",
    "                      transforms.ToTensor()\n",
    "                  ])),\n",
    "    batch_size=3,\n",
    "    shuffle=True\n",
    ")"
   ]
  },
  {
   "cell_type": "code",
   "execution_count": 120,
   "metadata": {},
   "outputs": [],
   "source": [
    "train_loader_iter = iter(train_loader)\n",
    "image_batch, value_batch = train_loader_iter.next()"
   ]
  },
  {
   "cell_type": "code",
   "execution_count": 121,
   "metadata": {},
   "outputs": [],
   "source": [
    "# 훈련 데이터 설정하기\n",
    "train_data = []\n",
    "for i in range(image_batch.shape[0]-1):\n",
    "    train_data.append(image_batch[i][0].view(-1))\n",
    "train_data = torch.stack(train_data)\n",
    "train_data = torch.where(train_data > 0.5, torch.tensor(1.), torch.tensor(-1.))"
   ]
  },
  {
   "cell_type": "code",
   "execution_count": 122,
   "metadata": {},
   "outputs": [],
   "source": [
    "# W 학습하기\n",
    "num_states = 28*28\n",
    "W = torch.zeros([num_states, num_states])\n",
    "for i in range(num_states):\n",
    "    for j in range(i):\n",
    "        W[i, j] = 2*(train_data[:, i]*train_data[:, j]).mean()\n",
    "W = (W + W.transpose(1, 0))/2        "
   ]
  },
  {
   "cell_type": "code",
   "execution_count": 123,
   "metadata": {},
   "outputs": [],
   "source": [
    "theta = torch.zeros(num_states)"
   ]
  },
  {
   "cell_type": "code",
   "execution_count": 136,
   "metadata": {},
   "outputs": [],
   "source": [
    "image, value = image_batch[2][0], value_batch[0]"
   ]
  },
  {
   "cell_type": "code",
   "execution_count": 137,
   "metadata": {},
   "outputs": [
    {
     "name": "stdout",
     "output_type": "stream",
     "text": [
      "tensor(-256.3676)\n"
     ]
    },
    {
     "data": {
      "image/png": "[encoded data removed]",
      "text/plain": [
       "<Figure size 432x288 with 1 Axes>"
      ]
     },
     "metadata": {
      "needs_background": "light"
     },
     "output_type": "display_data"
    }
   ],
   "source": [
    "#s = torch.where(torch.randn(num_states) > 1, torch.tensor(1.), -torch.tensor(1.))\n",
    "s = image.clone().view(-1)\n",
    "E = -0.5*s@W@s+theta@s; print(E)\n",
    "plt.imshow(s.view(-1, 28))\n",
    "plt.show()"
   ]
  },
  {
   "cell_type": "code",
   "execution_count": 138,
   "metadata": {},
   "outputs": [
    {
     "name": "stdout",
     "output_type": "stream",
     "text": [
      "tensor(-216273.)\n"
     ]
    }
   ],
   "source": [
    "# sample 데이터 테스트\n",
    "num_epoch = 10\n",
    "for _ in range(num_epoch):\n",
    "    indices_shuffled = np.random.choice(num_states, num_states, replace=False)\n",
    "    #indices_shuffled = np.random.choice(num_states, 1, replace=False)\n",
    "    for idx in indices_shuffled:\n",
    "        s[idx] = torch.where(W[idx]@s > theta[idx], torch.tensor(1.), torch.tensor(-1.))\n",
    "E = -0.5*s@W@s+theta@s; print(E)"
   ]
  },
  {
   "cell_type": "code",
   "execution_count": 139,
   "metadata": {},
   "outputs": [
    {
     "data": {
      "image/png": "[encoded data removed]",
      "text/plain": [
       "<Figure size 432x288 with 1 Axes>"
      ]
     },
     "metadata": {
      "needs_background": "light"
     },
     "output_type": "display_data"
    }
   ],
   "source": [
    "# 테스트 결과\n",
    "plt.imshow(s.view(-1, 28))\n",
    "plt.show()"
   ]
  }
 ],
 "metadata": {
  "kernelspec": {
   "display_name": "Python 3",
   "language": "python",
   "name": "python3"
  },
  "language_info": {
   "codemirror_mode": {
    "name": "ipython",
    "version": 3
   },
   "file_extension": ".py",
   "mimetype": "text/x-python",
   "name": "python",
   "nbconvert_exporter": "python",
   "pygments_lexer": "ipython3",
   "version": "3.7.3"
  }
 },
 "nbformat": 4,
 "nbformat_minor": 2
}
