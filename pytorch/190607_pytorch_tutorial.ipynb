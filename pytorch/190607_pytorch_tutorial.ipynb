{
 "cells": [
  {
   "cell_type": "code",
   "execution_count": 48,
   "metadata": {},
   "outputs": [],
   "source": [
    "import torch\n",
    "import torch.nn as nn\n"
   ]
  },
  {
   "cell_type": "code",
   "execution_count": 114,
   "metadata": {},
   "outputs": [],
   "source": [
    "class Model(nn.Module):\n",
    "    \n",
    "    def __init__(self):\n",
    "        super(Model, self).__init__()\n",
    "        self.fc = nn.Linear(5, 3)\n",
    "        \n",
    "    def forward(self, x):\n",
    "        x = self.fc(x)\n",
    "        #x = torch.relu(x)\n",
    "        #x = torch.sigmoid(x)\n",
    "        x = torch.tanh(x)\n",
    "        return x"
   ]
  },
  {
   "cell_type": "code",
   "execution_count": 115,
   "metadata": {},
   "outputs": [],
   "source": [
    "model = Model()\n",
    "x = torch.randn(5)"
   ]
  },
  {
   "cell_type": "code",
   "execution_count": 116,
   "metadata": {},
   "outputs": [
    {
     "name": "stdout",
     "output_type": "stream",
     "text": [
      "tensor([-0.0600, -0.7297,  0.0449, -0.3245,  0.8764])\n"
     ]
    }
   ],
   "source": [
    "print(x)"
   ]
  },
  {
   "cell_type": "code",
   "execution_count": 117,
   "metadata": {},
   "outputs": [
    {
     "name": "stdout",
     "output_type": "stream",
     "text": [
      "tensor([0.4839, 0.3266, 0.6011], grad_fn=<TanhBackward>)\n"
     ]
    }
   ],
   "source": [
    "y = model(x)\n",
    "print(y)"
   ]
  },
  {
   "cell_type": "code",
   "execution_count": 118,
   "metadata": {},
   "outputs": [
    {
     "name": "stdout",
     "output_type": "stream",
     "text": [
      "[Parameter containing:\n",
      "tensor([[-0.0248, -0.4236, -0.1278,  0.1284,  0.3196],\n",
      "        [-0.2035, -0.2223, -0.1443, -0.3174,  0.0635],\n",
      "        [-0.1202,  0.0036, -0.3932, -0.3987,  0.3035]], requires_grad=True), Parameter containing:\n",
      "tensor([-0.0152,  0.0125,  0.3127], requires_grad=True)]\n"
     ]
    }
   ],
   "source": [
    "params = list(model.parameters())\n",
    "print(params)"
   ]
  },
  {
   "cell_type": "code",
   "execution_count": 119,
   "metadata": {},
   "outputs": [
    {
     "name": "stdout",
     "output_type": "stream",
     "text": [
      "tensor([[-0.0248, -0.4236, -0.1278,  0.1284,  0.3196],\n",
      "        [-0.2035, -0.2223, -0.1443, -0.3174,  0.0635],\n",
      "        [-0.1202,  0.0036, -0.3932, -0.3987,  0.3035]])\n",
      "tensor([-0.0152,  0.0125,  0.3127])\n"
     ]
    }
   ],
   "source": [
    "w = params[0].data\n",
    "b = params[1].data\n",
    "print(w)\n",
    "print(b)"
   ]
  },
  {
   "cell_type": "code",
   "execution_count": 126,
   "metadata": {},
   "outputs": [
    {
     "name": "stdout",
     "output_type": "stream",
     "text": [
      "tensor([0.4839, 0.3266, 0.6011], grad_fn=<TanhBackward>)\n",
      "tensor([0.5281, 0.3390, 0.6949])\n",
      "tensor([0.5281, 0.3390, 0.6949])\n",
      "tensor([0.6290, 0.5839, 0.6671])\n",
      "tensor([0.4839, 0.3266, 0.6011])\n",
      "tensor([0.4839, 0.3266, 0.6011])\n"
     ]
    }
   ],
   "source": [
    "yhat = w@x+b\n",
    "print(y)\n",
    "print(yhat)\n",
    "print(F.relu(yhat))\n",
    "print(1/(1+torch.exp(-yhat)))\n",
    "print((torch.exp(2*yhat)-1)/(torch.exp(2*yhat)+1))\n",
    "print(2/(1+torch.exp(-2*yhat))-1)"
   ]
  }
 ],
 "metadata": {
  "kernelspec": {
   "display_name": "Python 3",
   "language": "python",
   "name": "python3"
  },
  "language_info": {
   "codemirror_mode": {
    "name": "ipython",
    "version": 3
   },
   "file_extension": ".py",
   "mimetype": "text/x-python",
   "name": "python",
   "nbconvert_exporter": "python",
   "pygments_lexer": "ipython3",
   "version": "3.7.3"
  }
 },
 "nbformat": 4,
 "nbformat_minor": 2
}
