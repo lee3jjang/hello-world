{
 "cells": [
  {
   "cell_type": "code",
   "execution_count": 1,
   "metadata": {},
   "outputs": [],
   "source": [
    "import numpy as np"
   ]
  },
  {
   "cell_type": "code",
   "execution_count": 2,
   "metadata": {},
   "outputs": [],
   "source": [
    "class RBM:\n",
    "    def __init__(self, a, b, W):\n",
    "        self.a = a.copy()\n",
    "        self.b = b.copy()\n",
    "        self.W = W.copy()\n",
    "        self.m, self.n = W.shape\n",
    "        self.eps = 1e-4\n",
    "        \n",
    "    def set_train_data(self, train_data):\n",
    "        self.train_data = train_data\n",
    "    \n",
    "    def run(self):\n",
    "        for _ in range(1000000):\n",
    "            idx = np.random.choice(self.train_data.shape[0])\n",
    "            v = self.train_data[idx]\n",
    "            dW, da, db = self.contrastive_divergence(v)\n",
    "            self.W += dW\n",
    "            self.a += da\n",
    "            self.b += db\n",
    "    \n",
    "    def E(self, v, h):\n",
    "        return -self.a@v-self.b@h-v@self.W@h\n",
    "    \n",
    "    def logistic(self, x):\n",
    "        return 1/(1+np.exp(-x))\n",
    "    \n",
    "    def P(self, of, x):\n",
    "        if of == \"v\":\n",
    "            return self.logistic(self.a + self.W@x)\n",
    "        elif of == \"h\":\n",
    "            return self.logistic(self.b + self.W.T@x)\n",
    "        else:\n",
    "            pass\n",
    "        \n",
    "    def contrastive_divergence(self, v):\n",
    "        h = (np.random.random(self.n) > self.P(\"h\", v)).astype(float)\n",
    "        v_hat = (np.random.random(self.m) > self.P(\"v\", h)).astype(float)\n",
    "        h_hat = (np.random.random(self.n) > self.P(\"h\", v_hat)).astype(float)\n",
    "        positive_gradient = np.outer(v, h)\n",
    "        negative_gradient = np.outer(v_hat, h_hat)\n",
    "        dW = self.eps*(positive_gradient - negative_gradient)\n",
    "        da = self.eps*(v-v_hat)\n",
    "        db = self.eps*(h-h_hat)\n",
    "        return dW, da, db"
   ]
  },
  {
   "cell_type": "code",
   "execution_count": 3,
   "metadata": {},
   "outputs": [
    {
     "name": "stdout",
     "output_type": "stream",
     "text": [
      "a:  [0.08148159 0.42050556 0.64306478]\n",
      "\n",
      "b:  [0.6327993  0.04476601 0.62810601 0.79006776]\n",
      "\n",
      "W:  [[0.38442171 0.59714095 0.69381665 0.21918121]\n",
      " [0.04177668 0.27251822 0.93705166 0.92497118]\n",
      " [0.57520265 0.13598719 0.18152514 0.04186073]]\n",
      "\n"
     ]
    }
   ],
   "source": [
    "m = 3\n",
    "n = 4\n",
    "a = np.random.random(m)\n",
    "b = np.random.random(n)\n",
    "W = np.random.random([m, n])\n",
    "print(\"a: \", a);print()\n",
    "print(\"b: \", b);print()\n",
    "print(\"W: \", W);print()"
   ]
  },
  {
   "cell_type": "code",
   "execution_count": 4,
   "metadata": {},
   "outputs": [],
   "source": [
    "train_data = (np.random.random([100, m]) > 0.5).astype(float)\n",
    "model = RBM(a, b, W)\n",
    "model.set_train_data(train_data)"
   ]
  },
  {
   "cell_type": "code",
   "execution_count": 5,
   "metadata": {},
   "outputs": [
    {
     "name": "stdout",
     "output_type": "stream",
     "text": [
      "[2098.31648156 2100.19650553 2798.14006489]\n",
      "[-1827.62520066 -1828.25223395 -1827.81989395 -1827.4459322 ]\n",
      "[[ 818.4904217   818.80314094  818.56081664  818.2891812 ]\n",
      " [1006.65777667 1007.0285182  1006.77905164 1006.59897116]\n",
      " [1011.59920264 1011.93098717 1011.67352513 1011.49886071]]\n"
     ]
    }
   ],
   "source": [
    "model.run()\n",
    "print(model.a)\n",
    "print(model.b)\n",
    "print(model.W)"
   ]
  },
  {
   "cell_type": "code",
   "execution_count": 6,
   "metadata": {},
   "outputs": [
    {
     "name": "stdout",
     "output_type": "stream",
     "text": [
      "[4198.66148199 4199.90350596 5595.80406546]\n",
      "[-3656.95220098 -3657.56823427 -3657.12589427 -3656.69493252]\n",
      "[[1638.13842168 1638.46214092 1638.22981662 1638.01518118]\n",
      " [2016.22577664 2016.60151818 2016.32605162 2016.17197114]\n",
      " [2021.36320261 2021.70098715 2021.4795251  2021.33586069]]\n"
     ]
    }
   ],
   "source": [
    "model.run()\n",
    "print(model.a)\n",
    "print(model.b)\n",
    "print(model.W)"
   ]
  }
 ],
 "metadata": {
  "kernelspec": {
   "display_name": "Python 3",
   "language": "python",
   "name": "python3"
  },
  "language_info": {
   "codemirror_mode": {
    "name": "ipython",
    "version": 3
   },
   "file_extension": ".py",
   "mimetype": "text/x-python",
   "name": "python",
   "nbconvert_exporter": "python",
   "pygments_lexer": "ipython3",
   "version": "3.7.3"
  }
 },
 "nbformat": 4,
 "nbformat_minor": 2
}
