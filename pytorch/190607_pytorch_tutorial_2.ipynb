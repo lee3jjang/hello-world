{
 "cells": [
  {
   "cell_type": "code",
   "execution_count": 2,
   "metadata": {},
   "outputs": [],
   "source": [
    "import torch\n",
    "import torch.nn as nn"
   ]
  },
  {
   "cell_type": "code",
   "execution_count": 203,
   "metadata": {},
   "outputs": [],
   "source": [
    "class Net(nn.Module):\n",
    "    \n",
    "    def __init__(self):\n",
    "        super(Net, self).__init__()\n",
    "        \n",
    "        # channels, outputs, kernel size\n",
    "        self.conv1 = nn.Conv2d(1, 6, 3)\n",
    "        \n",
    "    def forward(self, x):\n",
    "        x = nn.functional.max_pool2d(self.conv1(x), 2)\n",
    "        return x"
   ]
  },
  {
   "cell_type": "code",
   "execution_count": 204,
   "metadata": {},
   "outputs": [
    {
     "name": "stdout",
     "output_type": "stream",
     "text": [
      "Net(\n",
      "  (conv1): Conv2d(1, 6, kernel_size=(3, 3), stride=(1, 1))\n",
      ")\n"
     ]
    }
   ],
   "source": [
    "net = Net()\n",
    "print(net)"
   ]
  },
  {
   "cell_type": "code",
   "execution_count": 195,
   "metadata": {},
   "outputs": [
    {
     "name": "stdout",
     "output_type": "stream",
     "text": [
      "tensor([[[[ 2.2723,  0.7360, -1.0862, -0.4872],\n",
      "          [-0.6404,  1.2158, -0.0180,  0.6721],\n",
      "          [ 1.7041,  0.5297, -0.6341,  1.2048],\n",
      "          [ 0.4320,  1.0316, -0.5279,  1.0496]]]])\n"
     ]
    }
   ],
   "source": [
    "# data size, channels, width, height\n",
    "x = torch.randn(1, 1, 4, 4)\n",
    "print(x)"
   ]
  },
  {
   "cell_type": "code",
   "execution_count": 196,
   "metadata": {},
   "outputs": [
    {
     "name": "stdout",
     "output_type": "stream",
     "text": [
      "tensor([[[[0.5817]],\n",
      "\n",
      "         [[0.8719]],\n",
      "\n",
      "         [[0.5079]],\n",
      "\n",
      "         [[0.9054]],\n",
      "\n",
      "         [[1.2656]],\n",
      "\n",
      "         [[0.8614]]]], grad_fn=<MaxPool2DWithIndicesBackward>)\n"
     ]
    }
   ],
   "source": [
    "y = net(x)\n",
    "print(y)"
   ]
  },
  {
   "cell_type": "code",
   "execution_count": 198,
   "metadata": {},
   "outputs": [
    {
     "name": "stdout",
     "output_type": "stream",
     "text": [
      "tensor([[[[-0.0323,  0.1901, -0.1195],\n",
      "          [ 0.2449,  0.0633,  0.2411],\n",
      "          [-0.0289, -0.1152, -0.2723]]],\n",
      "\n",
      "\n",
      "        [[[ 0.1113,  0.3040,  0.2943],\n",
      "          [-0.2375, -0.1952, -0.1652],\n",
      "          [ 0.2797,  0.0815, -0.0654]]],\n",
      "\n",
      "\n",
      "        [[[ 0.0887,  0.0333,  0.0238],\n",
      "          [ 0.3057, -0.3195,  0.0487],\n",
      "          [-0.0994, -0.0628, -0.0315]]],\n",
      "\n",
      "\n",
      "        [[[-0.1506, -0.0827, -0.1844],\n",
      "          [ 0.3236,  0.0587,  0.0735],\n",
      "          [ 0.2438,  0.2397, -0.0852]]],\n",
      "\n",
      "\n",
      "        [[[ 0.3044, -0.3202,  0.1390],\n",
      "          [-0.0546, -0.2390,  0.3233],\n",
      "          [ 0.3001,  0.3214, -0.0320]]],\n",
      "\n",
      "\n",
      "        [[[ 0.1630,  0.1174,  0.1217],\n",
      "          [ 0.2168, -0.0438, -0.1957],\n",
      "          [ 0.0637,  0.3061,  0.3132]]]])\n",
      "tensor([ 0.0173,  0.2360,  0.0640, -0.0272,  0.1779,  0.1770])\n"
     ]
    }
   ],
   "source": [
    "params = list(net.parameters())\n",
    "w = params[0].data\n",
    "b = params[1].data\n",
    "print(w)\n",
    "print(b)"
   ]
  }
 ],
 "metadata": {
  "kernelspec": {
   "display_name": "Python 3",
   "language": "python",
   "name": "python3"
  },
  "language_info": {
   "codemirror_mode": {
    "name": "ipython",
    "version": 3
   },
   "file_extension": ".py",
   "mimetype": "text/x-python",
   "name": "python",
   "nbconvert_exporter": "python",
   "pygments_lexer": "ipython3",
   "version": "3.7.3"
  }
 },
 "nbformat": 4,
 "nbformat_minor": 2
}
