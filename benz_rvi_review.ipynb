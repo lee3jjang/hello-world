{
 "cells": [
  {
   "cell_type": "code",
   "execution_count": 3,
   "metadata": {},
   "outputs": [
    {
     "name": "stderr",
     "output_type": "stream",
     "text": [
      "Loading required package: dplyr\n",
      "\n",
      "Attaching package: 'dplyr'\n",
      "\n",
      "The following objects are masked from 'package:stats':\n",
      "\n",
      "    filter, lag\n",
      "\n",
      "The following objects are masked from 'package:base':\n",
      "\n",
      "    intersect, setdiff, setequal, union\n",
      "\n"
     ]
    }
   ],
   "source": [
    "require(ggplot2)\n",
    "require(dplyr)"
   ]
  },
  {
   "cell_type": "code",
   "execution_count": 8,
   "metadata": {},
   "outputs": [],
   "source": [
    "benz <- read.table('benz.csv', sep=',', header=TRUE)"
   ]
  },
  {
   "cell_type": "code",
   "execution_count": null,
   "metadata": {},
   "outputs": [],
   "source": [
    "# Q1. 총 데이터 개수는?\n",
    "nrow(benz)\n",
    "# Q2. KM 컬럼의 데이터 타입은 정수? 실수?\n",
    "str(benz$KM)\n",
    "# Q3. PRICE 데이터 타입 변환하기(정수면 실수로, 실수면 정수로)\n",
    "as.numeric(benz$PRICE)\n",
    "# Q4. MODEL 컬럼에 있는 서로 다른 모델명의 개수는?\n",
    "nrow(benz %>% distinct(MODEL))\n",
    "# Q5. 디젤과 가솔린 차량의 개수는?\n",
    "benz %>% group_by(FUEL) %>% summarise(N=n())\n",
    "# Q6. 가격이 가장 높은 차량 3개는?\n",
    "head(benz %>% arrange(-PRICE) %>% head(3)\n",
    "# Q7. 연식이 가장 오래된 차량은?\n",
    "benz %>% arrange(PY) %>% head(3)\n",
    "# Q8. 평균 가격이 가장 큰 모델은?\n",
    "benz %>% group_by(MODEL) %>% summarise(MEAN.PRICE=mean(PRICE)) %>% arrange(-MEAN.PRICE) %>% head(1)\n",
    "# Q9. 데이터 개수가 100개 이상인 모델 중에 평균 가격이 가장 큰 모델은?\n",
    "benz %>% group_by(MODEL) %>% summarise(MEAN.PRICE=mean(PRICE), N=n()) %>% filter(N > 100) %>% arrange(-MEAN.PRICE) %>% head(1) \n",
    "# Q10. 데이터 개수가 50개 이하인 모델을 데이터에서 제외했을 때 남아 있는 데이터 개수는?\n",
    "nrow(benz %>% group_by(MODEL) %>% summarise(N=n()) %>% right_join(benz, by='MODEL') %>% filter(N > 50) %>% select(-N))"
   ]
  }
 ],
 "metadata": {
  "kernelspec": {
   "display_name": "R",
   "language": "R",
   "name": "ir"
  },
  "language_info": {
   "codemirror_mode": "r",
   "file_extension": ".r",
   "mimetype": "text/x-r-source",
   "name": "R",
   "pygments_lexer": "r",
   "version": "3.5.1"
  }
 },
 "nbformat": 4,
 "nbformat_minor": 2
}
