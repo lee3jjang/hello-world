{
 "cells": [
  {
   "cell_type": "code",
   "execution_count": 174,
   "metadata": {},
   "outputs": [],
   "source": [
    "library(zoo)\n",
    "library(rugarch)\n",
    "library(ggplot2)\n",
    "library(reshape2)"
   ]
  },
  {
   "cell_type": "code",
   "execution_count": 4,
   "metadata": {},
   "outputs": [],
   "source": [
    "intc <- read.zoo(\"../data/0933OS_Code/Chapter 1/intc.csv\", sep=\",\", header=TRUE, format=\"%Y-%m\", FUN= as.yearmon)"
   ]
  },
  {
   "cell_type": "code",
   "execution_count": 9,
   "metadata": {},
   "outputs": [
    {
     "name": "stderr",
     "output_type": "stream",
     "text": [
      "Don't know how to automatically pick scale for object of type yearmon. Defaulting to continuous.\n"
     ]
    },
    {
     "data": {},
     "metadata": {},
     "output_type": "display_data"
    },
    {
     "data": {
      "image/png": "[encoded data removed]",
      "text/plain": [
       "plot without title"
      ]
     },
     "metadata": {},
     "output_type": "display_data",
     "source": "R display func"
    }
   ],
   "source": [
    "ggplot(data=fortify(intc, melt=TRUE)) +\n",
    "    geom_line(aes(x=Index, y=Value)) +\n",
    "    labs(x='Date', y='Return in percent', title='Monthly returns of Intel Corporation')"
   ]
  },
  {
   "cell_type": "code",
   "execution_count": 22,
   "metadata": {},
   "outputs": [
    {
     "data": {
      "text/plain": [
       "\n",
       "\tBox-Ljung test\n",
       "\n",
       "data:  coredata(intc^2)\n",
       "X-squared = 79.345, df = 12, p-value = 5.502e-12\n"
      ]
     },
     "metadata": {},
     "output_type": "display_data"
    }
   ],
   "source": [
    "# 제곱 수익률에 대한 Ljung-Box 검정(lag=12)\n",
    "Box.test(coredata(intc^2), type='Ljung-Box', lag=12)"
   ]
  },
  {
   "cell_type": "code",
   "execution_count": 56,
   "metadata": {},
   "outputs": [
    {
     "data": {
      "text/plain": [
       "\n",
       "*---------------------------------*\n",
       "*       GARCH Model Spec          *\n",
       "*---------------------------------*\n",
       "\n",
       "Conditional Variance Dynamics \t\n",
       "------------------------------------\n",
       "GARCH Model\t\t: sGARCH(1,1)\n",
       "Variance Targeting\t: FALSE \n",
       "\n",
       "Conditional Mean Dynamics\n",
       "------------------------------------\n",
       "Mean Model\t\t: ARFIMA(0,0,0)\n",
       "Include Mean\t\t: TRUE \n",
       "GARCH-in-Mean\t\t: FALSE \n",
       "\n",
       "Conditional Distribution\n",
       "------------------------------------\n",
       "Distribution\t:  norm \n",
       "Includes Skew\t:  FALSE \n",
       "Includes Shape\t:  FALSE \n",
       "Includes Lambda\t:  FALSE \n"
      ]
     },
     "metadata": {},
     "output_type": "display_data"
    }
   ],
   "source": [
    "(intc_garch11_spec <- ugarchspec(variance.model = list(garchOrder=c(1,1)), mean.model=list(armaOrder=c(0,0))))"
   ]
  },
  {
   "cell_type": "code",
   "execution_count": 58,
   "metadata": {},
   "outputs": [
    {
     "data": {
      "text/plain": [
       "\n",
       "*---------------------------------*\n",
       "*          GARCH Model Fit        *\n",
       "*---------------------------------*\n",
       "\n",
       "Conditional Variance Dynamics \t\n",
       "-----------------------------------\n",
       "GARCH Model\t: sGARCH(1,1)\n",
       "Mean Model\t: ARFIMA(0,0,0)\n",
       "Distribution\t: norm \n",
       "\n",
       "Optimal Parameters\n",
       "------------------------------------\n",
       "        Estimate  Std. Error  t value Pr(>|t|)\n",
       "mu      0.019092    0.005551   3.4394 0.000583\n",
       "omega   0.001053    0.000462   2.2779 0.022730\n",
       "alpha1  0.094367    0.031151   3.0293 0.002451\n",
       "beta1   0.836508    0.047443  17.6319 0.000000\n",
       "\n",
       "Robust Standard Errors:\n",
       "        Estimate  Std. Error  t value Pr(>|t|)\n",
       "mu      0.019092    0.006417   2.9755 0.002925\n",
       "omega   0.001053    0.000500   2.1040 0.035381\n",
       "alpha1  0.094367    0.033946   2.7799 0.005437\n",
       "beta1   0.836508    0.049150  17.0195 0.000000\n",
       "\n",
       "LogLikelihood : 298.5009 \n",
       "\n",
       "Information Criteria\n",
       "------------------------------------\n",
       "                    \n",
       "Akaike       -1.3634\n",
       "Bayes        -1.3258\n",
       "Shibata      -1.3636\n",
       "Hannan-Quinn -1.3486\n",
       "\n",
       "Weighted Ljung-Box Test on Standardized Residuals\n",
       "------------------------------------\n",
       "                        statistic p-value\n",
       "Lag[1]                     0.4237  0.5151\n",
       "Lag[2*(p+q)+(p+q)-1][2]    0.5271  0.6810\n",
       "Lag[4*(p+q)+(p+q)-1][5]    1.9158  0.6385\n",
       "d.o.f=0\n",
       "H0 : No serial correlation\n",
       "\n",
       "Weighted Ljung-Box Test on Standardized Squared Residuals\n",
       "------------------------------------\n",
       "                        statistic p-value\n",
       "Lag[1]                    0.08183  0.7748\n",
       "Lag[2*(p+q)+(p+q)-1][5]   0.17767  0.9941\n",
       "Lag[4*(p+q)+(p+q)-1][9]   0.30684  0.9997\n",
       "d.o.f=2\n",
       "\n",
       "Weighted ARCH LM Tests\n",
       "------------------------------------\n",
       "            Statistic Shape Scale P-Value\n",
       "ARCH Lag[3]  0.003771 0.500 2.000  0.9510\n",
       "ARCH Lag[5]  0.046389 1.440 1.667  0.9956\n",
       "ARCH Lag[7]  0.112209 2.315 1.543  0.9992\n",
       "\n",
       "Nyblom stability test\n",
       "------------------------------------\n",
       "Joint Statistic:  0.9532\n",
       "Individual Statistics:              \n",
       "mu     0.29255\n",
       "omega  0.07319\n",
       "alpha1 0.09665\n",
       "beta1  0.06982\n",
       "\n",
       "Asymptotic Critical Values (10% 5% 1%)\n",
       "Joint Statistic:     \t 1.07 1.24 1.6\n",
       "Individual Statistic:\t 0.35 0.47 0.75\n",
       "\n",
       "Sign Bias Test\n",
       "------------------------------------\n",
       "                   t-value   prob sig\n",
       "Sign Bias          0.81150 0.4175    \n",
       "Negative Sign Bias 1.12403 0.2616    \n",
       "Positive Sign Bias 0.05886 0.9531    \n",
       "Joint Effect       1.34051 0.7195    \n",
       "\n",
       "\n",
       "Adjusted Pearson Goodness-of-Fit Test:\n",
       "------------------------------------\n",
       "  group statistic p-value(g-1)\n",
       "1    20     21.70       0.2992\n",
       "2    30     22.31       0.8073\n",
       "3    40     38.56       0.4900\n",
       "4    50     50.64       0.4087\n",
       "\n",
       "\n",
       "Elapsed time : 0.9510541 \n"
      ]
     },
     "metadata": {},
     "output_type": "display_data"
    }
   ],
   "source": [
    "(intc_garch11_fit <- ugarchfit(spec=intc_garch11_spec, data=intc))"
   ]
  },
  {
   "cell_type": "code",
   "execution_count": 62,
   "metadata": {},
   "outputs": [],
   "source": [
    "intc_garch11_roll <- ugarchroll(intc_garch11_spec, intc,\n",
    "    n.start=120, refit.every=1, refit.window='moving',\n",
    "    solver='hybrid', calculate.VaR=TRUE, VaR.alpha=0.01, keep.coef=TRUE)"
   ]
  },
  {
   "cell_type": "code",
   "execution_count": 63,
   "metadata": {},
   "outputs": [
    {
     "name": "stdout",
     "output_type": "stream",
     "text": [
      "VaR Backtest Report\n",
      "===========================================\n",
      "Model:\t\t\t\tsGARCH-norm\n",
      "Backtest Length:\t312\n",
      "Data:\t\t\t\t\n",
      "\n",
      "==========================================\n",
      "alpha:\t\t\t\t1%\n",
      "Expected Exceed:\t3.1\n",
      "Actual VaR Exceed:\t5\n",
      "Actual %:\t\t\t1.6%\n",
      "\n",
      "Unconditional Coverage (Kupiec)\n",
      "Null-Hypothesis:\tCorrect Exceedances\n",
      "LR.uc Statistic:\t0.968\n",
      "LR.uc Critical:\t\t6.635\n",
      "LR.uc p-value:\t\t0.325\n",
      "Reject Null:\t\tNO\n",
      "\n",
      "Conditional Coverage (Christoffersen)\n",
      "Null-Hypothesis:\tCorrect Exceedances and\n",
      "\t\t\t\t\tIndependence of Failures\n",
      "LR.cc Statistic:\tNaN\n",
      "LR.cc Critical:\t\t9.21\n",
      "LR.cc p-value:\t\tNaN\n",
      "Reject Null:\t\tNA\n"
     ]
    }
   ],
   "source": [
    "report(intc_garch11_roll, type='VaR', VaR.alpha=0.01, conf.level=0.99)"
   ]
  },
  {
   "cell_type": "code",
   "execution_count": 153,
   "metadata": {},
   "outputs": [],
   "source": [
    "intc_VaR <- zoo(intc_garch11_roll@forecast$VaR[,1])\n",
    "index(intc_VaR) <- yearmon(seq(1983,2009-1/12,by=1/12))\n",
    "intc_actual <- zoo(intc_garch11_roll@forecast$VaR[,2])\n",
    "index(intc_actual) <- index(intc_VaR)"
   ]
  },
  {
   "cell_type": "code",
   "execution_count": 191,
   "metadata": {},
   "outputs": [
    {
     "name": "stderr",
     "output_type": "stream",
     "text": [
      "Don't know how to automatically pick scale for object of type yearmon. Defaulting to continuous.\n",
      "Don't know how to automatically pick scale for object of type zoo. Defaulting to continuous.\n"
     ]
    },
    {
     "data": {},
     "metadata": {},
     "output_type": "display_data"
    },
    {
     "data": {
      "image/png": "[encoded data removed]",
      "text/plain": [
       "plot without title"
      ]
     },
     "metadata": {},
     "output_type": "display_data",
     "source": "R display func"
    }
   ],
   "source": [
    "ggplot() +\n",
    "    geom_line(aes(x=index(intc_VaR),y=intc_VaR), color='red') +\n",
    "    geom_line(aes(x=index(intc_actual),y=intc_actual), color='steelblue') +\n",
    "    labs(x='Date', y='Return/VaR in percent', title='99% 1 Month VaR Backtesting')"
   ]
  },
  {
   "cell_type": "code",
   "execution_count": 104,
   "metadata": {},
   "outputs": [
    {
     "data": {
      "text/plain": [
       "\n",
       "*------------------------------------*\n",
       "*       GARCH Model Forecast         *\n",
       "*------------------------------------*\n",
       "Model: sGARCH\n",
       "Horizon: 12\n",
       "Roll Steps: 0\n",
       "Out of Sample: 0\n",
       "\n",
       "0-roll forecast [T0=12 2008]:\n",
       "      Series  Sigma\n",
       "T+1  0.01909 0.1167\n",
       "T+2  0.01909 0.1172\n",
       "T+3  0.01909 0.1177\n",
       "T+4  0.01909 0.1181\n",
       "T+5  0.01909 0.1184\n",
       "T+6  0.01909 0.1188\n",
       "T+7  0.01909 0.1191\n",
       "T+8  0.01909 0.1194\n",
       "T+9  0.01909 0.1197\n",
       "T+10 0.01909 0.1200\n",
       "T+11 0.01909 0.1202\n",
       "T+12 0.01909 0.1204\n",
       "\n"
      ]
     },
     "metadata": {},
     "output_type": "display_data"
    }
   ],
   "source": [
    "(intc_garch11_fcst <- ugarchforecast(intc_garch11_fit, n.ahead=12))"
   ]
  }
 ],
 "metadata": {
  "kernelspec": {
   "display_name": "R",
   "language": "R",
   "name": "ir"
  },
  "language_info": {
   "codemirror_mode": "r",
   "file_extension": ".r",
   "mimetype": "text/x-r-source",
   "name": "R",
   "pygments_lexer": "r",
   "version": "3.4.3"
  }
 },
 "nbformat": 4,
 "nbformat_minor": 2
}
