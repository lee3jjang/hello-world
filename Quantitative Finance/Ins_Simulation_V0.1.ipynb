{
 "cells": [
  {
   "cell_type": "code",
   "execution_count": 25,
   "metadata": {},
   "outputs": [],
   "source": [
    "import pandas as pd\n",
    "import numpy as np\n",
    "import matplotlib.pyplot as plt\n",
    "from scipy.stats import poisson, expon, lognorm, norm, beta\n",
    "from datetime import datetime\n",
    "from dateutil.relativedelta import relativedelta\n",
    "import warnings"
   ]
  },
  {
   "cell_type": "code",
   "execution_count": 2,
   "metadata": {},
   "outputs": [],
   "source": [
    "# 환경설정\n",
    "warnings.filterwarnings(\"ignore\")\n",
    "pd.options.display.float_format = '{:,.0f}'.format"
   ]
  },
  {
   "cell_type": "markdown",
   "metadata": {},
   "source": [
    "#### 1. 사고"
   ]
  },
  {
   "cell_type": "code",
   "execution_count": 10,
   "metadata": {},
   "outputs": [],
   "source": [
    "# 사고건수 생성\n",
    "accidents_per_month = poisson.rvs(mu=100)"
   ]
  },
  {
   "cell_type": "code",
   "execution_count": 11,
   "metadata": {},
   "outputs": [],
   "source": [
    "# 사고일자 생성(2017년 12월)\n",
    "base_year = 2017\n",
    "base_month = 1\n",
    "start_date = datetime(base_year, base_month, 1)\n",
    "end_date = start_date + relativedelta(months=1, days=-1)\n",
    "days = (end_date - start_date).days+1\n",
    "accidents_days = np.random.choice(a=days, size=accidents_per_month)+1"
   ]
  },
  {
   "cell_type": "code",
   "execution_count": 12,
   "metadata": {},
   "outputs": [],
   "source": [
    "# 사고일자 테이블 생성\n",
    "accidents = []\n",
    "unique, counts = np.unique(accidents_days, return_counts=True)\n",
    "for i in range(len(unique)):\n",
    "    for j in range(counts[i]):\n",
    "        accidents.append([\"ACCD{0:04d}{1:02d}{2:02d}{3:04d}\".format(base_year, base_month, unique[i], j+1),\n",
    "                          datetime(base_year, base_month, unique[i])])\n",
    "accidents = pd.DataFrame(accidents, columns=['ACCD_NUM', 'ACCD_DATE'])"
   ]
  },
  {
   "cell_type": "code",
   "execution_count": 13,
   "metadata": {},
   "outputs": [],
   "source": [
    "# 사고지연일자 컬럼 생성\n",
    "accidents['RPT_DATE'] = None\n",
    "accidents['RPT_DATE'] = accidents['RPT_DATE'].astype(np.datetime64)\n",
    "report_delays = expon.rvs(scale=10, size=accidents_per_month).round()\n",
    "for i in range(accidents_per_month):\n",
    "    accidents['RPT_DATE'][i] = accidents['ACCD_DATE'][i] + relativedelta(days=int(report_delays[i]))"
   ]
  },
  {
   "cell_type": "code",
   "execution_count": 14,
   "metadata": {},
   "outputs": [],
   "source": [
    "# 사고종결일자 컬럼 생성\n",
    "accidents['END_DATE'] = None\n",
    "accidents['END_DATE'] = accidents['END_DATE'].astype(np.datetime64)\n",
    "report_delays = expon.rvs(scale=20, size=accidents_per_month).round()\n",
    "for i in range(accidents_per_month):\n",
    "    accidents['END_DATE'][i] = accidents['RPT_DATE'][i] + relativedelta(days=int(report_delays[i]))"
   ]
  },
  {
   "cell_type": "code",
   "execution_count": 15,
   "metadata": {},
   "outputs": [],
   "source": [
    "# 사고심도 컬럼 생성\n",
    "accidents['TOT_LOSS'] = lognorm.rvs(s=1, loc=2, scale=50, size=accidents_per_month)*1e6"
   ]
  },
  {
   "cell_type": "markdown",
   "metadata": {},
   "source": [
    "### 2. 계약"
   ]
  },
  {
   "cell_type": "code",
   "execution_count": 181,
   "metadata": {},
   "outputs": [
    {
     "data": {
      "text/plain": [
       "(1000, 197, 20, 1177)"
      ]
     },
     "execution_count": 181,
     "metadata": {},
     "output_type": "execute_result"
    }
   ],
   "source": [
    "# 계약건수\n",
    "contract_start = 1000\n",
    "new_contract_per_month = int(norm.rvs(loc=200, scale=10).round())\n",
    "lapse_rate = beta.rvs(a=1, b=10)\n",
    "contract_lapse = int((contract_start*lapse_rate).round())\n",
    "contract_end = contract_start - contract_lapse + new_contract_per_month\n",
    "contract_start, new_contract_per_month, contract_lapse, contract_end"
   ]
  }
 ],
 "metadata": {
  "kernelspec": {
   "display_name": "Python 3",
   "language": "python",
   "name": "python3"
  },
  "language_info": {
   "codemirror_mode": {
    "name": "ipython",
    "version": 3
   },
   "file_extension": ".py",
   "mimetype": "text/x-python",
   "name": "python",
   "nbconvert_exporter": "python",
   "pygments_lexer": "ipython3",
   "version": "3.7.1"
  }
 },
 "nbformat": 4,
 "nbformat_minor": 2
}
