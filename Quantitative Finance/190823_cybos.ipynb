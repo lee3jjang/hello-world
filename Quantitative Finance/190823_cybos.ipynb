{
 "cells": [
  {
   "cell_type": "code",
   "execution_count": 1,
   "metadata": {},
   "outputs": [],
   "source": [
    "import win32com.client"
   ]
  },
  {
   "cell_type": "code",
   "execution_count": 2,
   "metadata": {},
   "outputs": [],
   "source": [
    "# 연결여부체크\n",
    "obj_cp_cybos = win32com.client.Dispatch('CpUtil.CpCybos')\n",
    "b_connect = obj_cp_cybos.IsConnect"
   ]
  },
  {
   "cell_type": "markdown",
   "metadata": {},
   "source": [
    "#### 1. 튜토리얼 (1)"
   ]
  },
  {
   "cell_type": "code",
   "execution_count": 14,
   "metadata": {},
   "outputs": [],
   "source": [
    "obj_cp_code_mgr = win32com.client.Dispatch('CpUtil.CpCodeMgr')\n",
    "code_list_ex = obj_cp_code_mgr.GetStockListByMarket(1)\n",
    "code_list_kosdaq = obj_cp_code_mgr.GetStockListByMarket(2)"
   ]
  },
  {
   "cell_type": "code",
   "execution_count": 39,
   "metadata": {},
   "outputs": [
    {
     "name": "stdout",
     "output_type": "stream",
     "text": [
      "A000060 1 메리츠화재 18500\n"
     ]
    }
   ],
   "source": [
    "# 종목코드\n",
    "code = code_list_ex[3]\n",
    "second_code = obj_cp_code_mgr.GetStockSectionKind(code)\n",
    "# 종목명\n",
    "name = obj_cp_code_mgr.CodeToName(code)\n",
    "# 주가?\n",
    "std_price = obj_cp_code_mgr.GetStockStdPrice(code)\n",
    "print(code, second_code, name, std_price)"
   ]
  },
  {
   "cell_type": "markdown",
   "metadata": {},
   "source": [
    "#### 2. 튜토리얼 (2)"
   ]
  },
  {
   "cell_type": "code",
   "execution_count": 43,
   "metadata": {},
   "outputs": [
    {
     "data": {
      "text/plain": [
       "0"
      ]
     },
     "execution_count": 43,
     "metadata": {},
     "output_type": "execute_result"
    }
   ],
   "source": [
    "obj_stock_mst = win32com.client.Dispatch('DsCbo1.StockMst')\n",
    "obj_stock_mst.SetInputValue(0, 'A005930')\n",
    "# 이게 데이터 요청?\n",
    "obj_stock_mst.BlockRequest()"
   ]
  },
  {
   "cell_type": "code",
   "execution_count": 62,
   "metadata": {},
   "outputs": [
    {
     "data": {
      "text/plain": [
       "'0027 조회가 완료되었습니다.(stock.new.mst)'"
      ]
     },
     "execution_count": 62,
     "metadata": {},
     "output_type": "execute_result"
    }
   ],
   "source": [
    "# 통신결과 확인\n",
    "rq_status = obj_stock_mst.GetDibStatus()\n",
    "rq_ret = obj_stock_mst.GetDibMsg1()\n",
    "rq_ret"
   ]
  },
  {
   "cell_type": "code",
   "execution_count": 59,
   "metadata": {},
   "outputs": [
    {
     "name": "stdout",
     "output_type": "stream",
     "text": [
      "A005930 삼성전자 1559 44050 -450 44500 44700 43850 44050 44000 8061177 35561883\n"
     ]
    }
   ],
   "source": [
    "code = obj_stock_mst.GetHeaderValue(0)\n",
    "name = obj_stock_mst.GetHeaderValue(1)\n",
    "time = obj_stock_mst.GetHeaderValue(4)\n",
    "cprice = obj_stock_mst.GetHeaderValue(11)\n",
    "diff = obj_stock_mst.GetHeaderValue(12)\n",
    "open = obj_stock_mst.GetHeaderValue(13)\n",
    "high = obj_stock_mst.GetHeaderValue(14)\n",
    "low = obj_stock_mst.GetHeaderValue(15)\n",
    "offer = obj_stock_mst.GetHeaderValue(16)\n",
    "bid = obj_stock_mst.GetHeaderValue(17)\n",
    "vol = obj_stock_mst.GetHeaderValue(18)\n",
    "vol_value = obj_stock_mst.GetHeaderValue(19)\n",
    "print(code, name, time, cprice, diff, open, high, low, offer, bid, vol, vol_value)"
   ]
  },
  {
   "cell_type": "code",
   "execution_count": 61,
   "metadata": {},
   "outputs": [
    {
     "data": {
      "text/plain": [
       "(50, 44050, -450, 915580)"
      ]
     },
     "execution_count": 61,
     "metadata": {},
     "output_type": "execute_result"
    }
   ],
   "source": [
    "ex_flag = obj_stock_mst.GetHeaderValue(58)\n",
    "ex_price = obj_stock_mst.GetHeaderValue(55)\n",
    "ex_diff = obj_stock_mst.GetHeaderValue(56)\n",
    "ex_vol = obj_stock_mst.GetHeaderValue(57)\n",
    "ex_flag, ex_price, ex_diff, ex_vol"
   ]
  },
  {
   "cell_type": "markdown",
   "metadata": {},
   "source": [
    "#### 3. 튜토리얼 (3)"
   ]
  },
  {
   "cell_type": "code",
   "execution_count": 76,
   "metadata": {},
   "outputs": [
    {
     "name": "stdout",
     "output_type": "stream",
     "text": [
      "20190821 44350 44800 44150 44500 50 6571717\n"
     ]
    }
   ],
   "source": [
    "# 연결 여부 체크\n",
    "obj_cp_cybos = win32com.client.Dispatch('CpUtil.CpCybos')\n",
    "b_connect = obj_cp_cybos.IsConnect\n",
    "\n",
    "# \n",
    "obj_stock_week = win32com.client.Dispatch('DsCbo1.StockWeek')\n",
    "obj_stock_week.SetInputValue(0, 'A005930')\n",
    "obj_stock_week.BlockRequest()\n",
    "count = obj_stock_week.GetHeaderValue(1)\n",
    "\n",
    "i = 1\n",
    "date = obj_stock_week.GetDataValue(0, i)\n",
    "open = obj_stock_week.GetDataValue(1, i)\n",
    "high = obj_stock_week.GetDataValue(2, i)\n",
    "low = obj_stock_week.GetDataValue(3, i)\n",
    "close = obj_stock_week.GetDataValue(4, i)\n",
    "diff = obj_stock_week.GetDataValue(5, i)\n",
    "vol = obj_stock_week.GetDataValue(6, i)\n",
    "\n",
    "print(date, open, high, low, close, diff, vol)"
   ]
  },
  {
   "cell_type": "markdown",
   "metadata": {},
   "source": [
    "#### 4. 튜토리얼 (4)"
   ]
  },
  {
   "cell_type": "code",
   "execution_count": 3,
   "metadata": {},
   "outputs": [],
   "source": [
    "obj_stock_cur = win32com.client.Dispatch('DsCbo1.StockCur')\n",
    "obj_stock_cur.SetInputValue(0, 'A005930')\n",
    "obj_stock_cur.Subscribe()"
   ]
  },
  {
   "cell_type": "code",
   "execution_count": 4,
   "metadata": {},
   "outputs": [
    {
     "data": {
      "text/plain": [
       "0"
      ]
     },
     "execution_count": 4,
     "metadata": {},
     "output_type": "execute_result"
    }
   ],
   "source": [
    "obj_stock_mst = win32com.client.Dispatch('DsCbo1.StockMst')\n",
    "obj_stock_mst.SetInputValue(0, 'A005930')\n",
    "obj_stock_mst.BlockRequest()"
   ]
  },
  {
   "cell_type": "code",
   "execution_count": 5,
   "metadata": {},
   "outputs": [
    {
     "data": {
      "text/plain": [
       "0"
      ]
     },
     "execution_count": 5,
     "metadata": {},
     "output_type": "execute_result"
    }
   ],
   "source": [
    "# 주문 초기화\n",
    "obj_trade = win32com.client.Dispatch('CpTrade.CpTdUtil')\n",
    "obj_trade.TradeInit(0)"
   ]
  },
  {
   "cell_type": "code",
   "execution_count": 9,
   "metadata": {},
   "outputs": [],
   "source": [
    "# 매수\n",
    "acc = obj_trade.AccountNumber[0]\n",
    "acc_flag = obj_trade.GoodsList(acc, 1)\n",
    "obj_stock_order = win32com.client.Dispatch('CpTrade.CpTd0311')\n",
    "obj_stock_order.SetInputValue(0, '2')\n",
    "obj_stock_order.SetInputValue(1, acc)\n",
    "obj_stock_order.SetInputValue(2, acc_flag[0])\n",
    "obj_stock_order.SetInputValue(3, 'A011370')\n",
    "obj_stock_order.SetInputValue(4, 1)\n",
    "obj_stock_order.SetInputValue(5, 1280)\n",
    "obj_stock_order.SetInputValue(7, '0')\n",
    "obj_stock_order.SetInputValue(8, '01')\n",
    "obj_stock_order.BlockRequest()"
   ]
  },
  {
   "cell_type": "code",
   "execution_count": 11,
   "metadata": {},
   "outputs": [
    {
     "data": {
      "text/plain": [
       "0"
      ]
     },
     "execution_count": 11,
     "metadata": {},
     "output_type": "execute_result"
    }
   ],
   "source": [
    "# 매도\n",
    "obj_stock_order.SetInputValue(0, '1')\n",
    "obj_stock_order.SetInputValue(1, acc)\n",
    "obj_stock_order.SetInputValue(2, acc_flag[0])\n",
    "obj_stock_order.SetInputValue(3, 'A130480')\n",
    "obj_stock_order.SetInputValue(4, 1)\n",
    "obj_stock_order.SetInputValue(5, 3000)\n",
    "obj_stock_order.SetInputValue(7, '0')\n",
    "obj_stock_order.SetInputValue(8, '01')\n",
    "obj_stock_order.BlockRequest()"
   ]
  }
 ],
 "metadata": {
  "kernelspec": {
   "display_name": "Python 3",
   "language": "python",
   "name": "python3"
  },
  "language_info": {
   "codemirror_mode": {
    "name": "ipython",
    "version": 3
   },
   "file_extension": ".py",
   "mimetype": "text/x-python",
   "name": "python",
   "nbconvert_exporter": "python",
   "pygments_lexer": "ipython3",
   "version": "3.7.3"
  }
 },
 "nbformat": 4,
 "nbformat_minor": 4
}
