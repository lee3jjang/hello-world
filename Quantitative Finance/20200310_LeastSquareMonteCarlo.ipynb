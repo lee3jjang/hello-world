{
 "cells": [
  {
   "cell_type": "code",
   "execution_count": 1,
   "metadata": {},
   "outputs": [],
   "source": [
    "import numpy as np"
   ]
  },
  {
   "cell_type": "code",
   "execution_count": 4,
   "metadata": {},
   "outputs": [],
   "source": [
    "r = 0.06\n",
    "strikePrice = 1.10\n",
    "stockPricePaths = np.array([\n",
    "    [1.00,1.09,1.08,1.34],\n",
    "    [1.00,1.16,1.26,1.54],\n",
    "    [1.00,1.22,1.07,1.03],\n",
    "    [1.00,0.93,0.97,0.92],\n",
    "    [1.00,1.11,1.56,1.52],\n",
    "    [1.00,0.76,0.77,0.9],\n",
    "    [1.00,0.92,0.84,1.01],\n",
    "    [1.00,0.88,1.22,1.34]])"
   ]
  },
  {
   "cell_type": "code",
   "execution_count": 101,
   "metadata": {},
   "outputs": [
    {
     "data": {
      "text/plain": [
       "array([ True, False,  True,  True, False,  True,  True, False])"
      ]
     },
     "execution_count": 101,
     "metadata": {},
     "output_type": "execute_result"
    }
   ],
   "source": [
    "strikePrice-stockPricePaths[:, t-1]>0"
   ]
  },
  {
   "cell_type": "code",
   "execution_count": 100,
   "metadata": {},
   "outputs": [
    {
     "data": {
      "text/plain": [
       "array([False, False,  True,  True, False,  True,  True, False])"
      ]
     },
     "execution_count": 100,
     "metadata": {},
     "output_type": "execute_result"
    }
   ],
   "source": [
    "stoppingRule"
   ]
  },
  {
   "cell_type": "code",
   "execution_count": 160,
   "metadata": {},
   "outputs": [
    {
     "data": {
      "text/plain": [
       "array([0.03674056, 0.04589834, 0.13      , 0.33      , 0.26      ])"
      ]
     },
     "execution_count": 160,
     "metadata": {},
     "output_type": "execute_result"
    }
   ],
   "source": [
    "T = stockPricePaths.shape[1]-1\n",
    "\n",
    "t = 3\n",
    "# cashflow : t=3 시점에서 옵션의 가치\n",
    "stoppingRule = strikePrice-stockPricePaths[:, t]>0\n",
    "cashflow = np.where(stoppingRule,strikePrice-stockPricePaths[:, t],0)\n",
    "\n",
    "# t=2 시점에서 행사할지 안 할지 고민하는 단계\n",
    "# X : 행사할지 안 할지 고민할 때의 주식가격\n",
    "# Y : 행사 안 하고 t=3 시점까지 가져갔을 때 옵션의 가치를 t=2 시점으로 할인\n",
    "X = stockPricePaths[strikePrice-stockPricePaths[:, t-1]>0, t-1]\n",
    "Y = cashflow[strikePrice-stockPricePaths[:, t-1]>0]*np.exp(-r)\n",
    "M = np.c_[np.ones_like(X), X, X**2]\n",
    "beta = np.linalg.inv(M.T@M)@M.T@Y\n",
    "\n",
    "exercise = strikePrice-X\n",
    "continuation = M@beta\n",
    "\n",
    "np.fmax(exercise, continuation)"
   ]
  },
  {
   "cell_type": "code",
   "execution_count": null,
   "metadata": {},
   "outputs": [],
   "source": [
    "stoppingRule2 = strikePrice-stockPricePaths[:, t-1]>0\n",
    "stoppingRule2[strikePrice-stockPricePaths[:, t-1]>0] = exercise>continuation\n",
    "stoppingRule[stoppingRule2] = False\n",
    "value = np.where(np.c_[stoppingRule2, stoppingRule], strikePrice-stockPricePaths[:, t-1:],0)@np.array([np.exp(-r), np.exp(-2*r)])\n",
    "value"
   ]
  },
  {
   "cell_type": "code",
   "execution_count": 165,
   "metadata": {},
   "outputs": [],
   "source": [
    "t = 2\n",
    "X = stockPricePaths[strikePrice-stockPricePaths[:, t-1]>0, t-1]\n",
    "Y = value[strikePrice-stockPricePaths[:, t-1]>0]\n",
    "\n",
    "M = np.c_[np.ones_like(X), X, X**2]\n",
    "beta = np.linalg.inv(M.T@M)@M.T@Y\n",
    "\n",
    "exercise = strikePrice-X\n",
    "continuation = M@beta"
   ]
  },
  {
   "cell_type": "code",
   "execution_count": 168,
   "metadata": {},
   "outputs": [
    {
     "data": {
      "text/plain": [
       "array([0.01348511, 0.17      , 0.34      , 0.18      , 0.22      ])"
      ]
     },
     "execution_count": 168,
     "metadata": {},
     "output_type": "execute_result"
    }
   ],
   "source": [
    "np.fmax(exercise, continuation)"
   ]
  }
 ],
 "metadata": {
  "kernelspec": {
   "display_name": "Python 3",
   "language": "python",
   "name": "python3"
  },
  "language_info": {
   "codemirror_mode": {
    "name": "ipython",
    "version": 3
   },
   "file_extension": ".py",
   "mimetype": "text/x-python",
   "name": "python",
   "nbconvert_exporter": "python",
   "pygments_lexer": "ipython3",
   "version": "3.7.4"
  }
 },
 "nbformat": 4,
 "nbformat_minor": 4
}
