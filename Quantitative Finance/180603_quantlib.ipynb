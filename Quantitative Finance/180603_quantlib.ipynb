{
 "cells": [
  {
   "cell_type": "code",
   "execution_count": 3,
   "metadata": {},
   "outputs": [],
   "source": [
    "import QuantLib as ql\n",
    "import numpy as np\n",
    "import pandas as pd\n",
    "import warnings\n",
    "import matplotlib.pyplot as plt\n",
    "warnings.filterwarnings('ignore')"
   ]
  },
  {
   "cell_type": "markdown",
   "metadata": {},
   "source": [
    "## Time SubModule"
   ]
  },
  {
   "cell_type": "code",
   "execution_count": 36,
   "metadata": {},
   "outputs": [
    {
     "name": "stdout",
     "output_type": "stream",
     "text": [
      "June 3rd, 2018\n",
      "3\n",
      "6\n",
      "2018\n",
      "True\n"
     ]
    }
   ],
   "source": [
    "date = ql.Date(3, 6, 2018)\n",
    "print(date)\n",
    "print(date.dayOfMonth())\n",
    "print(date.month())\n",
    "print(date.year())\n",
    "print(date.weekday() == ql.Sunday)"
   ]
  },
  {
   "cell_type": "code",
   "execution_count": 21,
   "metadata": {},
   "outputs": [
    {
     "name": "stdout",
     "output_type": "stream",
     "text": [
      "June 4th, 2018\n",
      "July 3rd, 2018\n",
      "June 10th, 2018\n",
      "June 3rd, 2019\n",
      "True\n"
     ]
    }
   ],
   "source": [
    "# Add a day\n",
    "print(date + 1)\n",
    "\n",
    "# Add a month\n",
    "print(date + ql.Period(1, ql.Months))\n",
    "\n",
    "# Add a week\n",
    "print(date + ql.Period(1, ql.Weeks))\n",
    "\n",
    "# Add a year\n",
    "print(date + ql.Period(1, ql.Years))\n",
    "\n",
    "# Logical operations\n",
    "print(ql.Date(3, 6, 2018) > ql.Date(2,6, 2018))"
   ]
  },
  {
   "cell_type": "code",
   "execution_count": 33,
   "metadata": {},
   "outputs": [
    {
     "data": {
      "text/plain": [
       "[Date(2,1,2017),\n",
       " Date(1,2,2017),\n",
       " Date(2,3,2017),\n",
       " Date(3,4,2017),\n",
       " Date(2,5,2017),\n",
       " Date(1,6,2017),\n",
       " Date(3,7,2017),\n",
       " Date(1,8,2017),\n",
       " Date(1,9,2017),\n",
       " Date(2,10,2017),\n",
       " Date(1,11,2017),\n",
       " Date(1,12,2017),\n",
       " Date(2,1,2018)]"
      ]
     },
     "execution_count": 33,
     "metadata": {},
     "output_type": "execute_result"
    }
   ],
   "source": [
    "date1 = ql.Date(1,1,2017)\n",
    "date2 = ql.Date(1,1,2018)\n",
    "tenor = ql.Period(ql.Monthly)\n",
    "calendar = ql.SouthKorea()\n",
    "\n",
    "schedule = ql.Schedule(date1, date2, tenor, calendar, ql.Following,\n",
    "                       ql.Following, ql.DateGeneration.Forward, False)\n",
    "list(schedule)"
   ]
  },
  {
   "cell_type": "markdown",
   "metadata": {},
   "source": [
    "## Interest Rate"
   ]
  },
  {
   "cell_type": "code",
   "execution_count": 74,
   "metadata": {},
   "outputs": [],
   "source": [
    "annualRate = 0.05\n",
    "dayCount = ql.ActualActual()\n",
    "compoundType = ql.Compounded\n",
    "frequency = ql.Annual\n",
    "interestRate = ql.InterestRate(annualRate, dayCount, compoundType, frequency)"
   ]
  },
  {
   "cell_type": "code",
   "execution_count": 80,
   "metadata": {},
   "outputs": [
    {
     "data": {
      "text/plain": [
       "(1.1025, 1.1025)"
      ]
     },
     "execution_count": 80,
     "metadata": {},
     "output_type": "execute_result"
    }
   ],
   "source": [
    "interestRate.compoundFactor(2.0), (1+annualRate)**2"
   ]
  },
  {
   "cell_type": "code",
   "execution_count": 79,
   "metadata": {},
   "outputs": [
    {
     "data": {
      "text/plain": [
       "(0.9070294784580498, 0.9070294784580498)"
      ]
     },
     "execution_count": 79,
     "metadata": {},
     "output_type": "execute_result"
    }
   ],
   "source": [
    "interestRate.discountFactor(2.0), 1/interestRate.compoundFactor(2.0)"
   ]
  },
  {
   "cell_type": "code",
   "execution_count": 94,
   "metadata": {},
   "outputs": [
    {
     "data": {
      "text/plain": [
       "0.04939015319191986"
      ]
     },
     "execution_count": 94,
     "metadata": {},
     "output_type": "execute_result"
    }
   ],
   "source": [
    "newFrequency = ql.Semiannual\n",
    "effectiveRate = interestRate.equivalentRate(compoundType, 2, 1)\n",
    "effectiveRate.rate()"
   ]
  },
  {
   "cell_type": "code",
   "execution_count": 96,
   "metadata": {},
   "outputs": [
    {
     "data": {
      "text/plain": [
       "(0.9523809523809523, 0.9523809523809521)"
      ]
     },
     "execution_count": 96,
     "metadata": {},
     "output_type": "execute_result"
    }
   ],
   "source": [
    "interestRate.discountFactor(1), effectiveRate.discountFactor(1)"
   ]
  }
 ],
 "metadata": {
  "kernelspec": {
   "display_name": "Python 3",
   "language": "python",
   "name": "python3"
  },
  "language_info": {
   "codemirror_mode": {
    "name": "ipython",
    "version": 3
   },
   "file_extension": ".py",
   "mimetype": "text/x-python",
   "name": "python",
   "nbconvert_exporter": "python",
   "pygments_lexer": "ipython3",
   "version": "3.6.4"
  }
 },
 "nbformat": 4,
 "nbformat_minor": 2
}
