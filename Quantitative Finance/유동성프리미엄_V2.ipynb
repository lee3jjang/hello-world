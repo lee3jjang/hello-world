{
 "cells": [
  {
   "cell_type": "code",
   "execution_count": 1,
   "metadata": {},
   "outputs": [],
   "source": [
    "import pandas as pd\n",
    "import numpy as np"
   ]
  },
  {
   "cell_type": "code",
   "execution_count": 2,
   "metadata": {},
   "outputs": [],
   "source": [
    "intRate = pd.read_excel('./data/sample.xlsx', dtype={'BASE_DATE': str})\n",
    "intRate['BASE_DATE'] = pd.to_datetime(intRate['BASE_DATE'])"
   ]
  },
  {
   "cell_type": "code",
   "execution_count": 6,
   "metadata": {},
   "outputs": [],
   "source": [
    "#1. 데이터 가공하기\n",
    "matCd = np.sort(intRate['MAT_CD'].unique())\n",
    "mat = np.array([int(m.replace('M', '')) for m in matCd])/12\n",
    "baseDate = np.sort(intRate['BASE_DATE'].unique())\n",
    "\n",
    "n = baseDate.shape[0]\n",
    "m = matCd.shape[0]\n",
    "\n",
    "ktbRate = np.zeros([n, m])\n",
    "kdbRate = np.zeros([n, m])\n",
    "\n",
    "a100 = intRate.query('IR_CURVE_ID == \"A100\"')\n",
    "e110 = intRate.query('IR_CURVE_ID == \"E110\"')\n",
    "for i in range(len(matCd)):\n",
    "    ktbRate[:, i] = a100.query('MAT_CD == @matCd[@i]').sort_values(by='BASE_DATE')['INT_RATE']\n",
    "    kdbRate[:, i] = e110.query('MAT_CD == @matCd[@i]').sort_values(by='BASE_DATE')['INT_RATE']"
   ]
  },
  {
   "cell_type": "code",
   "execution_count": 71,
   "metadata": {},
   "outputs": [],
   "source": [
    "class CoveredBond:\n",
    "    def __init__(self, baseDate, mat, ktbRate, kdbRate):\n",
    "        self.mat = mat\n",
    "        self.ktbRate = ktbRate\n",
    "        self.kdbRate = kdbRate\n",
    "        self.baseDate = baseDate\n",
    "        \n",
    "        self.n = ktbRate.shape[0]\n",
    "        self.m = ktbRate.shape[1]\n",
    "        \n",
    "        self.__calcBeta()\n",
    "        \n",
    "    def __calcBeta(self):\n",
    "        spread = self.kdbRate/self.ktbRate\n",
    "        spreadAvg = spread.mean(axis=0) - 1\n",
    "        liqPrem = self.ktbRate[-1, :]*spreadAvg\n",
    "        liqPrem[0] = liqPrem[-1] = 0\n",
    "        X = np.array([[1, t, t**2, t**3, t**4] for t in mat])\n",
    "        self.beta = np.linalg.inv(X.T@X)@X.T@liqPrem\n",
    "        \n",
    "    def getLiqPrem(self, t):\n",
    "        if (t <= 0) | (t >= 20):\n",
    "            return 0\n",
    "        else:\n",
    "            x = np.array([1, t, t**2, t**3, t**4])\n",
    "            return self.beta@x"
   ]
  },
  {
   "cell_type": "code",
   "execution_count": 72,
   "metadata": {},
   "outputs": [],
   "source": [
    "cb = CoveredBond(baseDate, mat, ktbRate, kdbRate)"
   ]
  },
  {
   "cell_type": "code",
   "execution_count": 67,
   "metadata": {},
   "outputs": [
    {
     "data": {
      "image/png": "[encoded data removed]",
      "text/plain": [
       "<Figure size 432x288 with 1 Axes>"
      ]
     },
     "metadata": {
      "needs_background": "light"
     },
     "output_type": "display_data"
    }
   ],
   "source": [
    "import matplotlib.pyplot as plt\n",
    "\n",
    "x = range(0, 21)\n",
    "y = [cb.getLiqPrem(t) for t in x]\n",
    "\n",
    "plt.plot(x, y, '-o')\n",
    "plt.show()"
   ]
  },
  {
   "cell_type": "code",
   "execution_count": null,
   "metadata": {},
   "outputs": [],
   "source": []
  }
 ],
 "metadata": {
  "kernelspec": {
   "display_name": "Python 3",
   "language": "python",
   "name": "python3"
  },
  "language_info": {
   "codemirror_mode": {
    "name": "ipython",
    "version": 3
   },
   "file_extension": ".py",
   "mimetype": "text/x-python",
   "name": "python",
   "nbconvert_exporter": "python",
   "pygments_lexer": "ipython3",
   "version": "3.7.0"
  }
 },
 "nbformat": 4,
 "nbformat_minor": 2
}
