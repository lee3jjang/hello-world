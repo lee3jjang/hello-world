{
 "cells": [
  {
   "cell_type": "code",
   "execution_count": 85,
   "metadata": {},
   "outputs": [],
   "source": [
    "import sqlite3\n",
    "import os"
   ]
  },
  {
   "cell_type": "code",
   "execution_count": 35,
   "metadata": {},
   "outputs": [],
   "source": [
    "conn = sqlite3.connect('dart.db')\n",
    "cursor = conn.cursor()"
   ]
  },
  {
   "cell_type": "code",
   "execution_count": 110,
   "metadata": {},
   "outputs": [
    {
     "data": {
      "text/plain": [
       "<sqlite3.Cursor at 0x182441d81f0>"
      ]
     },
     "execution_count": 110,
     "metadata": {},
     "output_type": "execute_result"
    }
   ],
   "source": [
    "cursor.execute('''\n",
    "    CREATE TABLE IF NOT EXISTS 재무정보(\n",
    "        재무제표종류 text,\n",
    "        종목코드 text,\n",
    "        회사명 text,\n",
    "        시장구분 text,\n",
    "        업종 text,\n",
    "        업종명 text,\n",
    "        결산월 text,\n",
    "        결산기준일 text,\n",
    "        보고서종류 text,\n",
    "        통화 text,\n",
    "        항목코드 text,\n",
    "        항목명 text,\n",
    "        값 text\n",
    "    )\n",
    "''')\n",
    "\n",
    "cursor.execute('''\n",
    "    CREATE TABLE IF NOT EXISTS 종목(\n",
    "        종목코드 text,\n",
    "        회사명 text\n",
    "    )\n",
    "''')\n",
    "\n",
    "cursor.execute('''\n",
    "    CREATE TABLE IF NOT EXISTS 업종(\n",
    "        업종 text PRIMARY KEY,\n",
    "        업종명 text\n",
    "    )\n",
    "''')\n",
    "\n",
    "cursor.execute('''\n",
    "    CREATE TABLE IF NOT EXISTS 항목(\n",
    "        항목코드 text,\n",
    "        항목명 text\n",
    "    )\n",
    "''')"
   ]
  },
  {
   "cell_type": "code",
   "execution_count": 111,
   "metadata": {},
   "outputs": [],
   "source": [
    "files = os.listdir('data')\n",
    "for file in files:\n",
    "    with open('data/{}'.format(file), 'r') as f:\n",
    "        data = [line.split('\\t')[:13] for line in f.readlines()[1:]]\n",
    "        cursor.executemany('INSERT INTO 재무정보 VALUES (?,?,?,?,?,?,?,?,?,?,?,?,?)', data)\n",
    "conn.commit()"
   ]
  },
  {
   "cell_type": "code",
   "execution_count": 151,
   "metadata": {},
   "outputs": [],
   "source": [
    "cursor.execute('SELECT DISTINCT 종목코드, 회사명 FROM 재무정보')\n",
    "data = cursor.fetchall()\n",
    "cursor.executemany('INSERT INTO 종목 VALUES (?,?)', data)\n",
    "\n",
    "cursor.execute('SELECT DISTINCT 업종, 업종명 FROM 재무정보')\n",
    "data = cursor.fetchall()\n",
    "cursor.executemany('INSERT INTO 업종 VALUES (?,?)', data)\n",
    "\n",
    "cursor.execute('SELECT DISTINCT 항목코드, 항목명 FROM 재무정보')\n",
    "data = cursor.fetchall()\n",
    "cursor.executemany('INSERT INTO 항목 VALUES (?,?)', data)\n",
    "\n",
    "conn.commit()"
   ]
  },
  {
   "cell_type": "code",
   "execution_count": 179,
   "metadata": {},
   "outputs": [],
   "source": [
    "cursor.execute('SELECT * FROM 재무정보 WHERE 종목코드=\"[012030]\" AND SUBSTR(재무제표종류,1,5)=\"재무상태표\"')\n",
    "data = cursor.fetchall()"
   ]
  }
 ],
 "metadata": {
  "kernelspec": {
   "display_name": "Python 3",
   "language": "python",
   "name": "python3"
  },
  "language_info": {
   "codemirror_mode": {
    "name": "ipython",
    "version": 3
   },
   "file_extension": ".py",
   "mimetype": "text/x-python",
   "name": "python",
   "nbconvert_exporter": "python",
   "pygments_lexer": "ipython3",
   "version": "3.7.4"
  }
 },
 "nbformat": 4,
 "nbformat_minor": 4
}
