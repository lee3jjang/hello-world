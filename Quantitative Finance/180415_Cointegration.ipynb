{
 "cells": [
  {
   "cell_type": "code",
   "execution_count": 77,
   "metadata": {},
   "outputs": [],
   "source": [
    "library('urca')\n",
    "library('zoo')\n",
    "library('ggplot2')"
   ]
  },
  {
   "cell_type": "code",
   "execution_count": 4,
   "metadata": {},
   "outputs": [],
   "source": [
    "prices <- read.zoo(\"../data/0933OS_Code/Chapter 1/JetFuelHedging.csv\", sep=\",\", header=TRUE, format=\"%Y-%m\", FUN= as.yearmon)"
   ]
  },
  {
   "cell_type": "code",
   "execution_count": 19,
   "metadata": {},
   "outputs": [
    {
     "data": {
      "text/html": [
       "<table>\n",
       "<thead><tr><th scope=col>Index</th><th scope=col>JetFuel</th><th scope=col>HeatingOil</th></tr></thead>\n",
       "<tbody>\n",
       "\t<tr><td>9 1996</td><td>0.682 </td><td>0.6794</td></tr>\n",
       "\t<tr><td>10 1996</td><td>0.703  </td><td>0.7307 </td></tr>\n",
       "\t<tr><td>11 1996</td><td>0.696  </td><td>0.7261 </td></tr>\n",
       "\t<tr><td>12 1996</td><td>0.693  </td><td>0.7171 </td></tr>\n",
       "\t<tr><td>1 1997</td><td>0.680 </td><td>0.7142</td></tr>\n",
       "\t<tr><td>2 1997</td><td>0.619 </td><td>0.6081</td></tr>\n",
       "</tbody>\n",
       "</table>\n"
      ],
      "text/latex": [
       "\\begin{tabular}{r|lll}\n",
       " Index & JetFuel & HeatingOil\\\\\n",
       "\\hline\n",
       "\t 9 1996 & 0.682  & 0.6794\\\\\n",
       "\t 10 1996 & 0.703   & 0.7307 \\\\\n",
       "\t 11 1996 & 0.696   & 0.7261 \\\\\n",
       "\t 12 1996 & 0.693   & 0.7171 \\\\\n",
       "\t 1 1997 & 0.680  & 0.7142\\\\\n",
       "\t 2 1997 & 0.619  & 0.6081\\\\\n",
       "\\end{tabular}\n"
      ],
      "text/markdown": [
       "\n",
       "Index | JetFuel | HeatingOil | \n",
       "|---|---|---|---|---|---|\n",
       "| 9 1996 | 0.682  | 0.6794 | \n",
       "| 10 1996 | 0.703   | 0.7307  | \n",
       "| 11 1996 | 0.696   | 0.7261  | \n",
       "| 12 1996 | 0.693   | 0.7171  | \n",
       "| 1 1997 | 0.680  | 0.7142 | \n",
       "| 2 1997 | 0.619  | 0.6081 | \n",
       "\n",
       "\n"
      ],
      "text/plain": [
       "  Index   JetFuel HeatingOil\n",
       "1 9 1996  0.682   0.6794    \n",
       "2 10 1996 0.703   0.7307    \n",
       "3 11 1996 0.696   0.7261    \n",
       "4 12 1996 0.693   0.7171    \n",
       "5 1 1997  0.680   0.7142    \n",
       "6 2 1997  0.619   0.6081    "
      ]
     },
     "metadata": {},
     "output_type": "display_data"
    }
   ],
   "source": [
    "head(fortify(prices))"
   ]
  },
  {
   "cell_type": "code",
   "execution_count": 27,
   "metadata": {},
   "outputs": [
    {
     "name": "stderr",
     "output_type": "stream",
     "text": [
      "Don't know how to automatically pick scale for object of type zoo. Defaulting to continuous.\n",
      "Don't know how to automatically pick scale for object of type zoo. Defaulting to continuous.\n"
     ]
    },
    {
     "data": {},
     "metadata": {},
     "output_type": "display_data"
    },
    {
     "data": {
      "image/png": "[encoded data removed]",
      "text/plain": [
       "plot without title"
      ]
     },
     "metadata": {},
     "output_type": "display_data",
     "source": "R display func"
    }
   ],
   "source": [
    "ggplot() +\n",
    "    geom_point(aes(x=diff(prices$HeatingOil), y=diff(prices$JetFuel))) +\n",
    "    labs(x='HeatingOil', y='JetFuel')"
   ]
  },
  {
   "cell_type": "code",
   "execution_count": 29,
   "metadata": {},
   "outputs": [
    {
     "data": {
      "text/plain": [
       "\n",
       "Call:\n",
       "lm(formula = diff(prices$JetFuel) ~ diff(prices$HeatingOil) + \n",
       "    0)\n",
       "\n",
       "Coefficients:\n",
       "diff(prices$HeatingOil)  \n",
       "                 0.8906  \n"
      ]
     },
     "metadata": {},
     "output_type": "display_data"
    }
   ],
   "source": [
    "(simple_mod <- lm(diff(prices$JetFuel) ~ diff(prices$HeatingOil) + 0))"
   ]
  },
  {
   "cell_type": "code",
   "execution_count": 30,
   "metadata": {},
   "outputs": [
    {
     "data": {
      "text/plain": [
       "\n",
       "Call:\n",
       "lm(formula = diff(prices$JetFuel) ~ diff(prices$HeatingOil) + \n",
       "    0)\n",
       "\n",
       "Residuals:\n",
       "     Min       1Q   Median       3Q      Max \n",
       "-0.52503 -0.02968  0.00131  0.03237  0.39602 \n",
       "\n",
       "Coefficients:\n",
       "                        Estimate Std. Error t value Pr(>|t|)    \n",
       "diff(prices$HeatingOil)  0.89059    0.03983   22.36   <2e-16 ***\n",
       "---\n",
       "Signif. codes:  0 '***' 0.001 '**' 0.01 '*' 0.05 '.' 0.1 ' ' 1\n",
       "\n",
       "Residual standard error: 0.0846 on 189 degrees of freedom\n",
       "Multiple R-squared:  0.7257,\tAdjusted R-squared:  0.7242 \n",
       "F-statistic: 499.9 on 1 and 189 DF,  p-value: < 2.2e-16\n"
      ]
     },
     "metadata": {},
     "output_type": "display_data"
    }
   ],
   "source": [
    "summary(simple_mod)"
   ]
  },
  {
   "cell_type": "code",
   "execution_count": 39,
   "metadata": {},
   "outputs": [
    {
     "name": "stderr",
     "output_type": "stream",
     "text": [
      "Don't know how to automatically pick scale for object of type yearmon. Defaulting to continuous.\n"
     ]
    },
    {
     "data": {},
     "metadata": {},
     "output_type": "display_data"
    },
    {
     "data": {
      "image/png": "[encoded data removed]",
      "text/plain": [
       "plot without title"
      ]
     },
     "metadata": {},
     "output_type": "display_data",
     "source": "R display func"
    }
   ],
   "source": [
    "# 난방유 가격과 제트 연료 가격\n",
    "ggplot(data=fortify(prices, melt=TRUE)) +\n",
    "    geom_line(aes(x=Index, y=Value, color=Series)) +\n",
    "    labs(x='Date', y='USD', title='Jet Fuel and Heating Oil Prices')"
   ]
  },
  {
   "cell_type": "code",
   "execution_count": 38,
   "metadata": {},
   "outputs": [
    {
     "data": {
      "text/plain": [
       "\n",
       "############################################### \n",
       "# Augmented Dickey-Fuller Test Unit Root Test # \n",
       "############################################### \n",
       "\n",
       "Test regression drift \n",
       "\n",
       "\n",
       "Call:\n",
       "lm(formula = z.diff ~ z.lag.1 + 1 + z.diff.lag)\n",
       "\n",
       "Residuals:\n",
       "     Min       1Q   Median       3Q      Max \n",
       "-1.06212 -0.05015  0.00566  0.07922  0.38086 \n",
       "\n",
       "Coefficients:\n",
       "            Estimate Std. Error t value Pr(>|t|)   \n",
       "(Intercept)  0.03050    0.02177   1.401  0.16283   \n",
       "z.lag.1     -0.01441    0.01271  -1.134  0.25845   \n",
       "z.diff.lag   0.19471    0.07250   2.686  0.00789 **\n",
       "---\n",
       "Signif. codes:  0 '***' 0.001 '**' 0.01 '*' 0.05 '.' 0.1 ' ' 1\n",
       "\n",
       "Residual standard error: 0.159 on 186 degrees of freedom\n",
       "Multiple R-squared:  0.04099,\tAdjusted R-squared:  0.03067 \n",
       "F-statistic: 3.975 on 2 and 186 DF,  p-value: 0.0204\n",
       "\n",
       "\n",
       "Value of test-statistic is: -1.1335 0.9865 \n",
       "\n",
       "Critical values for test statistics: \n",
       "      1pct  5pct 10pct\n",
       "tau2 -3.46 -2.88 -2.57\n",
       "phi1  6.52  4.63  3.81\n"
      ]
     },
     "metadata": {},
     "output_type": "display_data"
    }
   ],
   "source": [
    "# Dickey-Fuller 검정을 이용한 단위금(비정상성) 검정 시행\n",
    "# 검정 통계량이 -1.1335로  1% 유의 수준에서 임계치는 -3.46\n",
    "# 따라서, 비정상성을 가정한 귀무가설은 1% 유의 수준에서 기각될 수 없다\n",
    "jf_adf <- ur.df(prices$JetFuel, type='drift')\n",
    "summary(jf_adf)"
   ]
  },
  {
   "cell_type": "code",
   "execution_count": 51,
   "metadata": {},
   "outputs": [
    {
     "data": {
      "text/plain": [
       "\n",
       "############################################### \n",
       "# Augmented Dickey-Fuller Test Unit Root Test # \n",
       "############################################### \n",
       "\n",
       "Test regression drift \n",
       "\n",
       "\n",
       "Call:\n",
       "lm(formula = z.diff ~ z.lag.1 + 1 + z.diff.lag)\n",
       "\n",
       "Residuals:\n",
       "     Min       1Q   Median       3Q      Max \n",
       "-0.78839 -0.06344 -0.00128  0.07418  0.49186 \n",
       "\n",
       "Coefficients:\n",
       "            Estimate Std. Error t value Pr(>|t|)  \n",
       "(Intercept)  0.02815    0.02115   1.331   0.1847  \n",
       "z.lag.1     -0.01314    0.01263  -1.041   0.2992  \n",
       "z.diff.lag   0.14419    0.07296   1.976   0.0496 *\n",
       "---\n",
       "Signif. codes:  0 '***' 0.001 '**' 0.01 '*' 0.05 '.' 0.1 ' ' 1\n",
       "\n",
       "Residual standard error: 0.1534 on 186 degrees of freedom\n",
       "Multiple R-squared:  0.02418,\tAdjusted R-squared:  0.01369 \n",
       "F-statistic: 2.304 on 2 and 186 DF,  p-value: 0.1027\n",
       "\n",
       "\n",
       "Value of test-statistic is: -1.041 0.9002 \n",
       "\n",
       "Critical values for test statistics: \n",
       "      1pct  5pct 10pct\n",
       "tau2 -3.46 -2.88 -2.57\n",
       "phi1  6.52  4.63  3.81\n"
      ]
     },
     "metadata": {},
     "output_type": "display_data"
    }
   ],
   "source": [
    "ho_adf <- ur.df(prices$HeatingOil, type='drift')\n",
    "summary(ho_adf)"
   ]
  },
  {
   "cell_type": "code",
   "execution_count": 52,
   "metadata": {},
   "outputs": [
    {
     "data": {
      "text/plain": [
       "\n",
       "############################################### \n",
       "# Augmented Dickey-Fuller Test Unit Root Test # \n",
       "############################################### \n",
       "\n",
       "Test regression none \n",
       "\n",
       "\n",
       "Call:\n",
       "lm(formula = z.diff ~ z.lag.1 - 1 + z.diff.lag)\n",
       "\n",
       "Residuals:\n",
       "     Min       1Q   Median       3Q      Max \n",
       "-0.19162 -0.03385 -0.00516  0.02879  0.47426 \n",
       "\n",
       "Coefficients:\n",
       "           Estimate Std. Error t value Pr(>|t|)    \n",
       "z.lag.1    -0.74476    0.08357  -8.912 4.46e-16 ***\n",
       "z.diff.lag  0.12304    0.07264   1.694    0.092 .  \n",
       "---\n",
       "Signif. codes:  0 '***' 0.001 '**' 0.01 '*' 0.05 '.' 0.1 ' ' 1\n",
       "\n",
       "Residual standard error: 0.07107 on 187 degrees of freedom\n",
       "Multiple R-squared:  0.3417,\tAdjusted R-squared:  0.3347 \n",
       "F-statistic: 48.53 on 2 and 187 DF,  p-value: < 2.2e-16\n",
       "\n",
       "\n",
       "Value of test-statistic is: -8.912 \n",
       "\n",
       "Critical values for test statistics: \n",
       "      1pct  5pct 10pct\n",
       "tau1 -2.58 -1.95 -1.62\n"
      ]
     },
     "metadata": {},
     "output_type": "display_data"
    }
   ],
   "source": [
    "# 검정 통계량 : -8.912\n",
    "# 따라서 비정상성을 가정한 귀무가설을 기각할 수 있다\n",
    "mod_static <- summary(lm(JetFuel ~ HeatingOil, data=prices))\n",
    "error <- residuals(mod_static)\n",
    "error_cadf <- ur.df(error, type='none')\n",
    "summary(error_cadf)"
   ]
  },
  {
   "cell_type": "code",
   "execution_count": 127,
   "metadata": {},
   "outputs": [
    {
     "data": {
      "text/plain": [
       "\n",
       "Call:\n",
       "lm(formula = djf ~ dho + error_lag + 0)\n",
       "\n",
       "Residuals:\n",
       "     Min       1Q   Median       3Q      Max \n",
       "-0.19158 -0.03246  0.00047  0.02288  0.45117 \n",
       "\n",
       "Coefficients:\n",
       "          Estimate Std. Error t value Pr(>|t|)    \n",
       "dho        0.90020    0.03238  27.798   <2e-16 ***\n",
       "error_lag -0.65540    0.06614  -9.909   <2e-16 ***\n",
       "---\n",
       "Signif. codes:  0 '***' 0.001 '**' 0.01 '*' 0.05 '.' 0.1 ' ' 1\n",
       "\n",
       "Residual standard error: 0.06875 on 188 degrees of freedom\n",
       "Multiple R-squared:  0.8198,\tAdjusted R-squared:  0.8179 \n",
       "F-statistic: 427.6 on 2 and 188 DF,  p-value: < 2.2e-16\n"
      ]
     },
     "metadata": {},
     "output_type": "display_data"
    }
   ],
   "source": [
    "# 공적분 : 둘 이상의 비정상성 시계열을 선형 결합했을 때 그 결과가 정상성 시계열을 따르는 현상\n",
    "# 헤지비율 : 0.99020\n",
    "# 표준오차 : 0.06875\n",
    "# 오차항 : -0.65540\n",
    "djf <- diff(prices$JetFuel)\n",
    "dho <- diff(prices$HeatingOil)\n",
    "error_lag <- error[-length(error)];names(error_lag) <- error[-1]\n",
    "mod_ecm <- lm(djf ~ dho + error_lag + 0)\n",
    "summary(mod_ecm)"
   ]
  },
  {
   "cell_type": "code",
   "execution_count": 138,
   "metadata": {},
   "outputs": [
    {
     "name": "stderr",
     "output_type": "stream",
     "text": [
      "Don't know how to automatically pick scale for object of type zoo. Defaulting to continuous.\n",
      "Don't know how to automatically pick scale for object of type zoo. Defaulting to continuous.\n"
     ]
    },
    {
     "data": {},
     "metadata": {},
     "output_type": "display_data"
    },
    {
     "data": {
      "image/png": "[encoded data removed]",
      "text/plain": [
       "plot without title"
      ]
     },
     "metadata": {},
     "output_type": "display_data",
     "source": "R display func"
    }
   ],
   "source": [
    "ggplot() +\n",
    "    geom_point(aes(x=0.90020*dho - 0.65540*error_lag, y=djf))"
   ]
  }
 ],
 "metadata": {
  "kernelspec": {
   "display_name": "R",
   "language": "R",
   "name": "ir"
  },
  "language_info": {
   "codemirror_mode": "r",
   "file_extension": ".r",
   "mimetype": "text/x-r-source",
   "name": "R",
   "pygments_lexer": "r",
   "version": "3.4.3"
  }
 },
 "nbformat": 4,
 "nbformat_minor": 2
}
