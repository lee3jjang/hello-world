{
 "cells": [
  {
   "cell_type": "code",
   "execution_count": 2,
   "metadata": {},
   "outputs": [],
   "source": [
    "import pandas as pd\n",
    "import matplotlib.pyplot as plt\n",
    "import numpy as np\n",
    "import pymc3 as pm\n",
    "import seaborn as sns\n",
    "import warnings\n",
    "warnings.filterwarnings('ignore')"
   ]
  },
  {
   "cell_type": "code",
   "execution_count": 2,
   "metadata": {},
   "outputs": [],
   "source": [
    "# C : commercial auto/truck liability/medical\n",
    "# F2 : Medical malpractice - Claims made\n",
    "# H1 : Other liability - Occurrence\n",
    "# B : Private passenger auto liability/medical\n",
    "# R1 : Products liability - Occurrence\n",
    "# D : Workers' compensation\n",
    "\n",
    "# NAIC company code\n",
    "# NAIC company name\n",
    "# Accident year\n",
    "# Development year\n",
    "# Incurred losses and allocated expensed reported at year end\n",
    "# Cumulataive paid losses and allocated expenses at year end\n",
    "# Bulk and IBNR reserves on net losses and defense and cost containment expenses reported at year end\n",
    "# Premiums earned at incurral year - direct and assumed\n",
    "# Premiums earned at incurral year - ceded\n",
    "# Premiums earned at incurral year - net\n",
    "# Single : 1)a single entity, 2)a group insurer\n",
    "# Posted reverses in year 1997 taken from the Underwriting and Investment"
   ]
  },
  {
   "cell_type": "code",
   "execution_count": 3,
   "metadata": {},
   "outputs": [],
   "source": [
    "comauto = pd.read_csv('comauto_pos.csv')\n",
    "medmal = pd.read_csv('medmal_pos.csv')\n",
    "othliab = pd.read_csv('othliab_pos.csv')\n",
    "ppauto = pd.read_csv('ppauto_pos.csv')\n",
    "prodliab = pd.read_csv('prodliab_pos.csv')\n",
    "wkcomp = pd.read_csv('wkcomp_pos.csv')"
   ]
  },
  {
   "cell_type": "code",
   "execution_count": 4,
   "metadata": {},
   "outputs": [],
   "source": [
    "columns = ['GRCODE', 'GRNAME', 'AccidentYear', 'DevelopmentYear', 'DevelopmentLag',\n",
    "       'IncurLoss', 'CumPaidLoss', 'BulkLoss', 'EarnedPremDIR',\n",
    "       'EarnedPremCeded', 'EarnedPremNet', 'Single', 'PostedReserve97',\n",
    "       'Class']\n",
    "comauto['Class'] = 'C';othliab['Class'] = 'H1';ppauto['Class'] = 'B';wkcomp['Class'] = 'D'\n",
    "comauto.columns = othliab.columns = ppauto.columns = wkcomp.columns = columns\n",
    "\n",
    "#medmal['Class'] = 'F2';prodliab['Class'] = 'R1'\n",
    "#medmal.columns = prodliab.columns = columns"
   ]
  },
  {
   "cell_type": "code",
   "execution_count": 5,
   "metadata": {},
   "outputs": [],
   "source": [
    "data = pd.concat([comauto,othliab,ppauto,wkcomp])\n",
    "#data = pd.concat([comauto,othliab,ppauto,wkcomp,medmal,prodliab])"
   ]
  },
  {
   "cell_type": "code",
   "execution_count": 6,
   "metadata": {},
   "outputs": [],
   "source": [
    "from pymc3 import Model, Normal, Uniform, Lognormal\n",
    "\n",
    "model = Model()\n",
    "with model:\n",
    "    a = Uniform('a', shape=10)\n",
    "    alpha = Normal('alpha', mu=0, sd=100, shape=10)\n",
    "    beta = Normal('beta', mu=0, sd=100, shape=10)\n",
    "    rho = Uniform('rho', lower=0, upper=1)"
   ]
  }
 ],
 "metadata": {
  "kernelspec": {
   "display_name": "Python 3",
   "language": "python",
   "name": "python3"
  },
  "language_info": {
   "codemirror_mode": {
    "name": "ipython",
    "version": 3
   },
   "file_extension": ".py",
   "mimetype": "text/x-python",
   "name": "python",
   "nbconvert_exporter": "python",
   "pygments_lexer": "ipython3",
   "version": "3.6.4"
  }
 },
 "nbformat": 4,
 "nbformat_minor": 2
}
