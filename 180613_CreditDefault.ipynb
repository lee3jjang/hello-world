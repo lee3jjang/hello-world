{
 "cells": [
  {
   "cell_type": "code",
   "execution_count": 1,
   "metadata": {},
   "outputs": [],
   "source": [
    "import pandas as pd\n",
    "import numpy as np\n",
    "import seaborn as sns\n",
    "import scipy.stats as stats\n",
    "import matplotlib.pyplot as plt\n",
    "import matplotlib\n",
    "import warnings\n",
    "import os\n",
    "import lightgbm as lgbm\n",
    "import gc\n",
    "\n",
    "warnings.filterwarnings('ignore')\n",
    "font_name = matplotlib.font_manager.FontProperties(fname=\"c:/Windows/Fonts/malgun.ttf\").get_name()\n",
    "krfont = {'family':font_name, 'size':10}\n",
    "matplotlib.rc('font', **krfont)\n",
    "matplotlib.rcParams['axes.unicode_minus'] = False"
   ]
  },
  {
   "cell_type": "code",
   "execution_count": 2,
   "metadata": {},
   "outputs": [],
   "source": [
    "from sklearn.preprocessing import LabelEncoder\n",
    "def process_dataframe(input_df):\n",
    "    \n",
    "    output_df = input_df.copy()\n",
    "    print('Label encoding categorical features...')\n",
    "    categorical_feats = input_df.columns[input_df.dtypes == 'object']\n",
    "    encoder_dict = {}\n",
    "    for feat in categorical_feats:\n",
    "        encoder = LabelEncoder()\n",
    "        output_df[feat] = encoder.fit_transform(input_df[feat].fillna('NULL'))\n",
    "        encoder_dict[feat] = encoder\n",
    "    print('Label encoding complete.')\n",
    "\n",
    "    return output_df, categorical_feats.tolist(), encoder_dict"
   ]
  },
  {
   "cell_type": "code",
   "execution_count": 3,
   "metadata": {},
   "outputs": [],
   "source": [
    "input_dir = os.path.join(os.curdir, 'data')"
   ]
  },
  {
   "cell_type": "code",
   "execution_count": 4,
   "metadata": {},
   "outputs": [],
   "source": [
    "sample_size = None\n",
    "\n",
    "train = pd.read_csv(os.path.join(input_dir, 'application_train.csv'), nrows=sample_size)\n",
    "test = pd.read_csv(os.path.join(input_dir, 'application_test.csv'), nrows=sample_size)"
   ]
  },
  {
   "cell_type": "code",
   "execution_count": 29,
   "metadata": {},
   "outputs": [
    {
     "name": "stdout",
     "output_type": "stream",
     "text": [
      "Label encoding categorical features...\n",
      "Label encoding complete.\n"
     ]
    }
   ],
   "source": [
    "train2, categorical_feats, encoder_dict = process_dataframe(train)\n",
    "test2, categorical_feats, encoder_dict = process_dataframe(test)"
   ]
  },
  {
   "cell_type": "code",
   "execution_count": 6,
   "metadata": {},
   "outputs": [],
   "source": [
    "target = train2.pop('TARGET')\n",
    "lgbm_train = lgbm.Dataset(data=train2, label=target, categorical_feature=categorical_feats, free_raw_data=False)"
   ]
  },
  {
   "cell_type": "code",
   "execution_count": 7,
   "metadata": {},
   "outputs": [],
   "source": [
    "lgbm_params = {\n",
    "    'boosting': 'dart',\n",
    "    'application': 'binary',\n",
    "    'learning_rate': 0.1,\n",
    "    'min_data_in_leaf': 30,\n",
    "    'num_leaves': 31,\n",
    "    'max_depth': -1,\n",
    "    'feature_fraction': 0.5,\n",
    "    'scale_pos_weight': 2,\n",
    "    'drop_rate': 0.02\n",
    "}"
   ]
  },
  {
   "cell_type": "code",
   "execution_count": 8,
   "metadata": {},
   "outputs": [
    {
     "name": "stdout",
     "output_type": "stream",
     "text": [
      "[50]\tcv_agg's auc: 0.751748 + 0.00293037\n",
      "[100]\tcv_agg's auc: 0.755708 + 0.00263085\n",
      "[150]\tcv_agg's auc: 0.757131 + 0.00224964\n",
      "[200]\tcv_agg's auc: 0.757698 + 0.00195387\n",
      "[250]\tcv_agg's auc: 0.758104 + 0.00177186\n",
      "[300]\tcv_agg's auc: 0.758424 + 0.00183384\n",
      "[350]\tcv_agg's auc: 0.758669 + 0.00184214\n"
     ]
    }
   ],
   "source": [
    "cv_results = lgbm.cv(train_set=lgbm_train,\n",
    "                     params=lgbm_params, \n",
    "                     nfold=5,\n",
    "                     num_boost_round=600,\n",
    "                     early_stopping_rounds=50,\n",
    "                     verbose_eval=50,\n",
    "                     metrics=['auc'])"
   ]
  },
  {
   "cell_type": "code",
   "execution_count": 27,
   "metadata": {},
   "outputs": [],
   "source": [
    "optimum_boost_rounds = np.argmax(cv_results['auc-mean'])\n",
    "\n",
    "clf = lgbm.train(train_set=lgbm_train,\n",
    "                params=lgbm_params,\n",
    "                num_boost_round=optimum_boost_rounds)"
   ]
  },
  {
   "cell_type": "code",
   "execution_count": 31,
   "metadata": {},
   "outputs": [],
   "source": [
    "y_pred = clf.predict(test2)"
   ]
  },
  {
   "cell_type": "code",
   "execution_count": 43,
   "metadata": {},
   "outputs": [
    {
     "data": {
      "text/plain": [
       "['Business Entity Type 3',\n",
       " 'School',\n",
       " 'Government',\n",
       " 'Religion',\n",
       " 'Other',\n",
       " 'XNA',\n",
       " 'Electricity',\n",
       " 'Medicine',\n",
       " 'Business Entity Type 2',\n",
       " 'Self-employed',\n",
       " 'Transport: type 2',\n",
       " 'Construction',\n",
       " 'Housing',\n",
       " 'Kindergarten',\n",
       " 'Trade: type 7',\n",
       " 'Industry: type 11',\n",
       " 'Military',\n",
       " 'Services',\n",
       " 'Security Ministries',\n",
       " 'Transport: type 4',\n",
       " 'Industry: type 1',\n",
       " 'Emergency',\n",
       " 'Security',\n",
       " 'Trade: type 2',\n",
       " 'University',\n",
       " 'Transport: type 3',\n",
       " 'Police',\n",
       " 'Business Entity Type 1',\n",
       " 'Postal',\n",
       " 'Industry: type 4',\n",
       " 'Agriculture',\n",
       " 'Restaurant',\n",
       " 'Culture',\n",
       " 'Hotel',\n",
       " 'Industry: type 7',\n",
       " 'Trade: type 3',\n",
       " 'Industry: type 3',\n",
       " 'Bank',\n",
       " 'Industry: type 9',\n",
       " 'Insurance',\n",
       " 'Trade: type 6',\n",
       " 'Industry: type 2',\n",
       " 'Transport: type 1',\n",
       " 'Industry: type 12',\n",
       " 'Mobile',\n",
       " 'Trade: type 1',\n",
       " 'Industry: type 5',\n",
       " 'Industry: type 10',\n",
       " 'Legal Services',\n",
       " 'Advertising',\n",
       " 'Trade: type 5',\n",
       " 'Cleaning',\n",
       " 'Industry: type 13',\n",
       " 'Trade: type 4',\n",
       " 'Telecom',\n",
       " 'Industry: type 8',\n",
       " 'Realtor',\n",
       " 'Industry: type 6']"
      ]
     },
     "execution_count": 43,
     "metadata": {},
     "output_type": "execute_result"
    }
   ],
   "source": [
    "train['ORGANIZATION_TYPE'].unique().tolist()"
   ]
  },
  {
   "cell_type": "code",
   "execution_count": 38,
   "metadata": {},
   "outputs": [
    {
     "data": {
      "image/png": "[encoded data removed]",
      "text/plain": [
       "<Figure size 360x504 with 1 Axes>"
      ]
     },
     "metadata": {},
     "output_type": "display_data"
    }
   ],
   "source": [
    "fig, ax = plt.subplots(1, 1, figsize=[5, 7])\n",
    "lgbm.plot_importance(clf, ax=ax, max_num_features=20)\n",
    "plt.tight_layout()"
   ]
  }
 ],
 "metadata": {
  "kernelspec": {
   "display_name": "Python 3",
   "language": "python",
   "name": "python3"
  },
  "language_info": {
   "codemirror_mode": {
    "name": "ipython",
    "version": 3
   },
   "file_extension": ".py",
   "mimetype": "text/x-python",
   "name": "python",
   "nbconvert_exporter": "python",
   "pygments_lexer": "ipython3",
   "version": "3.6.5"
  }
 },
 "nbformat": 4,
 "nbformat_minor": 2
}
