{
 "cells": [
  {
   "cell_type": "code",
   "execution_count": 1,
   "metadata": {},
   "outputs": [],
   "source": [
    "import time\n",
    "import pandas as pd\n",
    "import numpy as np\n",
    "from selenium import webdriver"
   ]
  },
  {
   "cell_type": "code",
   "execution_count": 2,
   "metadata": {},
   "outputs": [],
   "source": [
    "# 드라이버 생성\n",
    "driver = webdriver.Chrome('chromedriver')"
   ]
  },
  {
   "cell_type": "code",
   "execution_count": 3,
   "metadata": {},
   "outputs": [],
   "source": [
    "# 페이지 접근\n",
    "driver.get('https://www.meatbox.co.kr/fo/sise/siseListPage.do')"
   ]
  },
  {
   "cell_type": "code",
   "execution_count": 4,
   "metadata": {},
   "outputs": [],
   "source": [
    "# 데이터 수집 함수\n",
    "def dataCollect(data):\n",
    "    res = []\n",
    "    for dt in data:\n",
    "        res.append(dt.text)\n",
    "    return res"
   ]
  },
  {
   "cell_type": "code",
   "execution_count": 5,
   "metadata": {},
   "outputs": [],
   "source": [
    "# 1개 페이지에서 정보(코드, 상품명, 등급, 보관상태) 수집하기\n",
    "def codeCollect(page):\n",
    "    codes = []\n",
    "    driver.execute_script('MainMgr.getSiseList('+str(page)+')')\n",
    "    time.sleep(1)\n",
    "    \n",
    "    # 코드 수집\n",
    "    products = driver.find_elements_by_css_selector('td.align')\n",
    "    for prd in products:\n",
    "        cd = prd.find_element_by_tag_name('a').get_attribute('href')\n",
    "        cd = cd[-8:-1]\n",
    "        codes.append(cd)\n",
    "        \n",
    "    # 기타 수집\n",
    "    names = driver.find_elements_by_id('prd_name')\n",
    "    keepings = driver.find_elements_by_id('prd_keeping')\n",
    "    grades = driver.find_elements_by_id('prd_grade')\n",
    "    \n",
    "    prd_names = dataCollect(names)\n",
    "    prd_keepings = dataCollect(keepings)\n",
    "    prd_grades = dataCollect(grades)\n",
    "    \n",
    "    return codes, prd_names, prd_grades, prd_keepings"
   ]
  },
  {
   "cell_type": "code",
   "execution_count": 6,
   "metadata": {},
   "outputs": [],
   "source": [
    "# 전체 페이지에서 정보 수집하기\n",
    "def infoCollect():\n",
    "    df = pd.DataFrame(columns=['Code', 'Name', 'Grade', 'Keeping'])\n",
    "    for page in range(25):\n",
    "        res = codeCollect(page+1)\n",
    "        df2 = pd.DataFrame({'Code':res[0], 'Name':res[1], 'Grade':res[2], 'Keeping':res[3]})\n",
    "        df = df.append(df2).reset_index(drop=True)\n",
    "    return df"
   ]
  },
  {
   "cell_type": "code",
   "execution_count": 7,
   "metadata": {},
   "outputs": [],
   "source": [
    "# 코드별 가격 수집하기\n",
    "def priceCollect(code):\n",
    "    driver.get('https://www.meatbox.co.kr/fo/sise/siseListPage.do')\n",
    "    driver.execute_script('MainMgr.goViewPage('+code+')')\n",
    "    time.sleep(5)\n",
    "    driver.execute_script('MainMgr.showChart()')\n",
    "    driver.execute_script('MainMgr.drawChart(\"year\")')\n",
    "    time.sleep(5)\n",
    "    data = driver.find_elements_by_tag_name('circle')\n",
    "    prices = []\n",
    "    for dt in data:\n",
    "        price = dt.get_attribute('aria-label')\n",
    "        price = [code] + price.split()\n",
    "        price[2] = int(price[2].replace(',',''))\n",
    "        prices.append(price)\n",
    "    return prices"
   ]
  },
  {
   "cell_type": "code",
   "execution_count": 8,
   "metadata": {},
   "outputs": [],
   "source": [
    "# 전체 가격 수집하기\n",
    "def priceCollectAll(info):\n",
    "    df = pd.DataFrame(columns=['Code', 'Date', 'Price'])\n",
    "    for code in info['Code']:\n",
    "        price = priceCollect(code)\n",
    "        df2 = pd.DataFrame(price, columns=['Code', 'Date', 'Price'])\n",
    "        df = df.append(df2).reset_index(drop=True)"
   ]
  },
  {
   "cell_type": "code",
   "execution_count": null,
   "metadata": {},
   "outputs": [],
   "source": [
    "# 정보 수집\n",
    "info = infoCollect()\n",
    "prices = priceCollectAll(info)"
   ]
  },
  {
   "cell_type": "code",
   "execution_count": 90,
   "metadata": {},
   "outputs": [],
   "source": [
    "# 결과 저장\n",
    "writer = pd.ExcelWriter('미트박스.xlsx', 'xlsxwriter')\n",
    "info.to_excel(writer, '상품정보', index=False)\n",
    "prices.to_excel(writer, '가격정보', index=False)\n",
    "writer.save()\n",
    "writer.close()"
   ]
  }
 ],
 "metadata": {
  "kernelspec": {
   "display_name": "Python 3",
   "language": "python",
   "name": "python3"
  },
  "language_info": {
   "codemirror_mode": {
    "name": "ipython",
    "version": 3
   },
   "file_extension": ".py",
   "mimetype": "text/x-python",
   "name": "python",
   "nbconvert_exporter": "python",
   "pygments_lexer": "ipython3",
   "version": "3.7.0"
  }
 },
 "nbformat": 4,
 "nbformat_minor": 2
}
