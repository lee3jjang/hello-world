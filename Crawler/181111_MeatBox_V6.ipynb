{
 "cells": [
  {
   "cell_type": "code",
   "execution_count": 1,
   "metadata": {},
   "outputs": [],
   "source": [
    "import time\n",
    "import pandas as pd\n",
    "import numpy as np\n",
    "import sqlite3\n",
    "from selenium import webdriver"
   ]
  },
  {
   "cell_type": "code",
   "execution_count": 2,
   "metadata": {},
   "outputs": [],
   "source": [
    "# 드라이버 생성\n",
    "driver = webdriver.Chrome('chromedriver')"
   ]
  },
  {
   "cell_type": "code",
   "execution_count": 3,
   "metadata": {},
   "outputs": [],
   "source": [
    "# 페이지 접근\n",
    "driver.get('https://www.meatbox.co.kr/fo/sise/siseListPage.do')"
   ]
  },
  {
   "cell_type": "code",
   "execution_count": 4,
   "metadata": {},
   "outputs": [],
   "source": [
    "# 데이터 수집 함수\n",
    "def dataCollect(data):\n",
    "    res = []\n",
    "    for dt in data:\n",
    "        res.append(dt.text)\n",
    "    return res"
   ]
  },
  {
   "cell_type": "code",
   "execution_count": 5,
   "metadata": {},
   "outputs": [],
   "source": [
    "# 1개 페이지에서 정보(코드, 상품명, 등급, 보관상태) 수집하기\n",
    "def codeCollect(page):\n",
    "    codes = []\n",
    "    driver.execute_script('MainMgr.getSiseList('+str(page)+')')\n",
    "    time.sleep(1)\n",
    "    \n",
    "    # 코드 수집\n",
    "    products = driver.find_elements_by_css_selector('td.align')\n",
    "    for prd in products:\n",
    "        cd = prd.find_element_by_tag_name('a').get_attribute('href')\n",
    "        cd = cd[-8:-1]\n",
    "        codes.append(cd)\n",
    "        \n",
    "    # 기타 수집\n",
    "    names = driver.find_elements_by_id('prd_name')\n",
    "    keepings = driver.find_elements_by_id('prd_keeping')\n",
    "    grades = driver.find_elements_by_id('prd_grade')\n",
    "    \n",
    "    prd_names = dataCollect(names)\n",
    "    prd_keepings = dataCollect(keepings)\n",
    "    prd_grades = dataCollect(grades)\n",
    "    \n",
    "    return codes, prd_names, prd_grades, prd_keepings"
   ]
  },
  {
   "cell_type": "code",
   "execution_count": 15,
   "metadata": {},
   "outputs": [],
   "source": [
    "# 전체 페이지에서 정보 수집하기\n",
    "def infoCollect():\n",
    "    df = pd.DataFrame(columns=['Code','Name', 'Grade', 'Keeping'])\n",
    "    for page in range(25):\n",
    "        res = codeCollect(page+1)\n",
    "        df2 = pd.DataFrame({'Code':res[0], 'Name':res[1], 'Grade':res[2], 'Keeping':res[3]})\n",
    "        df = df.append(df2).reset_index(drop=True)\n",
    "    return df"
   ]
  },
  {
   "cell_type": "code",
   "execution_count": 23,
   "metadata": {},
   "outputs": [],
   "source": [
    "# 코드별 가격 수집하기\n",
    "def priceCollect(code):\n",
    "    driver.execute_script('MainMgr.goViewPage('+code+')')\n",
    "    driver.execute_script('MainMgr.showChart()')\n",
    "    driver.execute_script('MainMgr.drawChart(\"year\")')\n",
    "    data = driver.find_element_by_tag_name('svg').find_elements_by_tag_name('circle')\n",
    "    prices = []\n",
    "    for dt in data:\n",
    "        price = dt.get_attribute('aria-label')\n",
    "        price = [code] + price.split()\n",
    "        prices.append(price)\n",
    "    return prices"
   ]
  }
 ],
 "metadata": {
  "kernelspec": {
   "display_name": "Python 3",
   "language": "python",
   "name": "python3"
  },
  "language_info": {
   "codemirror_mode": {
    "name": "ipython",
    "version": 3
   },
   "file_extension": ".py",
   "mimetype": "text/x-python",
   "name": "python",
   "nbconvert_exporter": "python",
   "pygments_lexer": "ipython3",
   "version": "3.7.0"
  }
 },
 "nbformat": 4,
 "nbformat_minor": 2
}
