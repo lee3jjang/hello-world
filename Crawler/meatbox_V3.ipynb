{
 "cells": [
  {
   "cell_type": "code",
   "execution_count": 1,
   "metadata": {},
   "outputs": [],
   "source": [
    "import pandas as pd\n",
    "import numpy as np\n",
    "import sqlite3\n",
    "import urllib\n",
    "import datetime\n",
    "from selenium import webdriver\n",
    "from selenium.common.exceptions import NoSuchElementException"
   ]
  },
  {
   "cell_type": "code",
   "execution_count": 2,
   "metadata": {},
   "outputs": [],
   "source": [
    "# 드라이버 객체 생성\n",
    "driver = webdriver.Chrome('chromedriver')"
   ]
  },
  {
   "cell_type": "code",
   "execution_count": 3,
   "metadata": {},
   "outputs": [],
   "source": [
    "# DB 생성\n",
    "conn = sqlite3.connect('meatbox.db')\n",
    "cur = conn.cursor()"
   ]
  },
  {
   "cell_type": "code",
   "execution_count": null,
   "metadata": {},
   "outputs": [],
   "source": [
    "#cur.execute('drop table 상품코드정보')\n",
    "#cur.execute('drop table 상세정보')\n",
    "#cur.execute('drop table 판매자정보')\n",
    "#cur.execute('drop table 상품정보')\n",
    "#cur.execute('drop table 판매정보')"
   ]
  },
  {
   "cell_type": "code",
   "execution_count": 131,
   "metadata": {},
   "outputs": [
    {
     "data": {
      "text/plain": [
       "<sqlite3.Cursor at 0x7e92c70>"
      ]
     },
     "execution_count": 131,
     "metadata": {},
     "output_type": "execute_result"
    }
   ],
   "source": [
    "# 테이블 내용물 삭제\n",
    "#cur.execute('delete from 상품정보')\n",
    "#cur.execute('delete from 상세정보')\n",
    "#cur.execute('delete from 판매자정보')"
   ]
  },
  {
   "cell_type": "code",
   "execution_count": 4,
   "metadata": {},
   "outputs": [
    {
     "data": {
      "text/plain": [
       "<sqlite3.Cursor at 0x7e92b90>"
      ]
     },
     "execution_count": 4,
     "metadata": {},
     "output_type": "execute_result"
    }
   ],
   "source": [
    "# 테이블 생성\n",
    "cur.execute('create table 상품코드정보(기준일자, 상품코드 text, primary key(기준일자, 상품코드))')\n",
    "cur.execute('create table 상세정보(상품코드 text, 보관방법, 축종, 품목, 가공방법, 원산지, 브랜드, 등급, 배송불가지역 ,배송정책, 판매대상, EST_NO, 포장상태, primary key(상품코드))')\n",
    "cur.execute('create table 판매자정보(상품코드 text, 대표자, 상호, 전화, 이메일주소, 사업자등록번호, 사업장소재지, primary key(상품코드))')\n",
    "cur.execute('create table 상품정보(상품코드 text, kg당가격, 가공일, 유통기한, 최대, 최소, 평균, 유통식별번호, primary key(상품코드))')\n",
    "cur.execute('create table 판매정보(기준일자, 상품코드 text, 구매, 후기, primary key(기준일자, 상품코드))')"
   ]
  },
  {
   "cell_type": "code",
   "execution_count": 5,
   "metadata": {},
   "outputs": [],
   "source": [
    "#### BeautifulSoup를 이용해 리팩토링 요망 ####\n",
    "# 상품코드 수집\n",
    "def 상품코드수집():\n",
    "    date = datetime.date.today()\n",
    "    url = 'https://www.meatbox.co.kr/fo/product/productListPage.do'\n",
    "    params = {'categorySeq':10005,'articleCount':'1000'}\n",
    "    url_params = '{}?{}'.format(url, urllib.parse.urlencode(params))\n",
    "    driver.get(url_params)\n",
    "    상품코드 = driver.find_elements_by_xpath(\"//li[@data-product-seq]\")\n",
    "    상품코드정보 = []\n",
    "    for 상품 in 상품코드:\n",
    "        상품코드정보.append((str(datetime.date.today()), 상품.get_attribute('data-product-seq')))\n",
    "    return 상품코드정보"
   ]
  },
  {
   "cell_type": "code",
   "execution_count": 13,
   "metadata": {},
   "outputs": [],
   "source": [
    "def 정보수집(코드):\n",
    "    기준일자 = str(datetime.date.today())\n",
    "    # 타겟 접근\n",
    "    url = 'https://www.meatbox.co.kr/fo/product/productViewPage.do'\n",
    "    params = {'productSeq':코드}\n",
    "    url_params = '{}?{}'.format(url, urllib.parse.urlencode(params))\n",
    "    driver.get(url_params)\n",
    "    \n",
    "    # 상세정보수집\n",
    "    테이블 = driver.find_element_by_xpath(\"//table[@class='section_td']\").find_elements_by_tag_name('tr')\n",
    "    상세정보 = {'상품코드':코드}\n",
    "    for 레코드 in 테이블:\n",
    "        속성 = 레코드.find_element_by_tag_name('th').text\n",
    "        내용 = 레코드.find_element_by_tag_name('td').text\n",
    "        상세정보[속성] = 내용\n",
    "        \n",
    "    # 판매정보수집\n",
    "    테이블 = driver.find_element_by_xpath(\"//li[@class='bott_info']\").find_elements_by_tag_name('dl')\n",
    "    판매정보 = {'기준일자':기준일자, '상품코드':코드}\n",
    "    for 레코드 in 테이블:\n",
    "        속성 = 레코드.find_element_by_tag_name('dt').get_attribute('innerHTML')\n",
    "        내용 = 레코드.find_element_by_tag_name('em').get_attribute('innerHTML')\n",
    "        판매정보[속성] = 내용\n",
    "    \n",
    "    # 판매자정보수집\n",
    "    테이블 = driver.find_element_by_xpath(\"//div[@class='pop_comm sale_pop']\").find_elements_by_tag_name('tr')\n",
    "    판매자정보 = {'상품코드':코드}\n",
    "    for 레코드 in 테이블:\n",
    "        속성 = 레코드.find_element_by_tag_name('th').get_attribute('innerHTML')\n",
    "        내용 = 레코드.find_element_by_tag_name('td').get_attribute('innerHTML')\n",
    "        판매자정보[속성] = 내용\n",
    "    판매자정보['사업자등록번호'] = 판매자정보['사업자등록번호'].split('<strong>')[0] \n",
    "    \n",
    "    # 상품정보수집\n",
    "    try:\n",
    "        테이블 = driver.find_element_by_xpath(\"//div[@class='pop_comm deteil_over_pop _optionDetailInfoLayer']\").find_element_by_xpath(\"//div[@class='table_wrap']\").find_elements_by_tag_name('tr')\n",
    "        상품정보 = {'상품코드':코드}\n",
    "        for 레코드 in 테이블:\n",
    "            속성 = 레코드.find_element_by_tag_name('th').get_attribute('innerHTML')\n",
    "            내용 = 레코드.find_element_by_tag_name('td').get_attribute('innerHTML')\n",
    "            상품정보[속성] = 내용\n",
    "    except NoSuchElementException:\n",
    "        상품정보 = {'상품코드':코드}\n",
    "        \n",
    "    return (상세정보, 판매정보, 판매자정보, 상품정보)"
   ]
  },
  {
   "cell_type": "code",
   "execution_count": 14,
   "metadata": {},
   "outputs": [],
   "source": [
    "def 데이터적재(상세정보, 판매정보, 판매자정보, 상품정보):\n",
    "    # 데이터 가공\n",
    "    df = pd.DataFrame(columns=['상품코드','보관방법','축종','품목','가공방법','원산지','브랜드','등급','배송불가지역','배송정책','판매대상','EST NO','포장상태'])\n",
    "    df = df.append(상세정보, ignore_index=True)\n",
    "    상세정보 = tuple(df.loc[0])\n",
    "    \n",
    "    df = pd.DataFrame(columns=['기준일자','상품코드','구매','후기'])\n",
    "    df = df.append(판매정보, ignore_index=True)\n",
    "    판매정보 = tuple(df.loc[0])\n",
    "    \n",
    "    df = pd.DataFrame(columns=['상품코드','대표자','상호','전화','이메일 주소','사업자등록번호','사업장 소재지'])\n",
    "    df = df.append(판매자정보, ignore_index=True)\n",
    "    판매자정보 = tuple(df.loc[0])\n",
    "    \n",
    "    df = pd.DataFrame(columns=['상품코드','kg당 가격','가공일','유통기한','최대','최소','평균','유통식별번호'])\n",
    "    df = df.append(상품정보, ignore_index=True)\n",
    "    상품정보 = tuple(df.loc[0])\n",
    "    \n",
    "    # 데이터 적재\n",
    "    try:\n",
    "        cur.execute('insert into 상세정보 values (?,?,?,?,?,?,?,?,?,?,?,?,?)', 상세정보) \n",
    "        cur.execute('insert into 판매정보 values (?,?,?,?)', 판매정보)\n",
    "        cur.execute('insert into 판매자정보 values (?,?,?,?,?,?,?)', 판매자정보)\n",
    "        cur.execute('insert into 상품정보 values (?,?,?,?,?,?,?,?)', 상품정보)\n",
    "        print('적재성공(상품코드 : {:})'.format(상세정보[0]))\n",
    "    except sqlite3.IntegrityError:\n",
    "        print('적재실패(상품코드 : {:}) : 무결성 조건 오류'.format(상세정보[0]))\n",
    "    return None"
   ]
  },
  {
   "cell_type": "code",
   "execution_count": 15,
   "metadata": {},
   "outputs": [],
   "source": [
    "def 적재대상코드(기준일자):\n",
    "    sql = \"select 상품코드 from 상품코드정보 where 기준일자 = '{}' and 상품코드 not in (select 상품코드 from 판매정보 where 기준일자 = '{}')\".format(기준일자, 기준일자)\n",
    "    cur.execute(sql)\n",
    "    rows = list(map(lambda x:x[0], cur.fetchall()))\n",
    "    return rows"
   ]
  },
  {
   "cell_type": "code",
   "execution_count": null,
   "metadata": {},
   "outputs": [],
   "source": [
    "# 상품코드 수집 \n",
    "상품코드정보 = 상품코드수집() \n",
    "sql = 'insert into 상품코드정보 values (?,?)'\n",
    "cur.executemany(sql, 상품코드정보)"
   ]
  },
  {
   "cell_type": "code",
   "execution_count": 20,
   "metadata": {},
   "outputs": [],
   "source": [
    "# 적재대상코드 추출\n",
    "기준일자 = str(datetime.date.today())\n",
    "상품코드 = 적재대상코드(기준일자)"
   ]
  },
  {
   "cell_type": "code",
   "execution_count": null,
   "metadata": {},
   "outputs": [
    {
     "name": "stdout",
     "output_type": "stream",
     "text": [
      "적재성공(상품코드 : 112092)\n",
      "적재성공(상품코드 : 112117)\n",
      "적재성공(상품코드 : 112142)\n",
      "적재성공(상품코드 : 112158)\n"
     ]
    }
   ],
   "source": [
    "# 상품정보 수집 및 데이터 적재\n",
    "for 코드 in 상품코드:\n",
    "    상세정보, 판매정보, 판매자정보, 상품정보 = 정보수집(코드)\n",
    "    데이터적재(상세정보, 판매정보, 판매자정보, 상품정보)"
   ]
  }
 ],
 "metadata": {
  "kernelspec": {
   "display_name": "Python 3",
   "language": "python",
   "name": "python3"
  },
  "language_info": {
   "codemirror_mode": {
    "name": "ipython",
    "version": 3
   },
   "file_extension": ".py",
   "mimetype": "text/x-python",
   "name": "python",
   "nbconvert_exporter": "python",
   "pygments_lexer": "ipython3",
   "version": "3.6.5"
  }
 },
 "nbformat": 4,
 "nbformat_minor": 2
}
