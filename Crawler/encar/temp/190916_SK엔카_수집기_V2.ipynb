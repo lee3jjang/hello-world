{
 "cells": [
  {
   "cell_type": "code",
   "execution_count": 1,
   "metadata": {},
   "outputs": [],
   "source": [
    "import os\n",
    "import time\n",
    "from glob import glob\n",
    "import pandas as pd\n",
    "from random import random\n",
    "from bs4 import BeautifulSoup\n",
    "from selenium import webdriver\n",
    "from selenium.webdriver.support.ui import Select\n",
    "from selenium.common.exceptions import NoSuchElementException"
   ]
  },
  {
   "cell_type": "code",
   "execution_count": 2,
   "metadata": {},
   "outputs": [],
   "source": [
    "def get_source(url, name, page_max=200):\n",
    "    driver = webdriver.Chrome('chromedriver')\n",
    "    # 폴더 생성\n",
    "    if not any([s == name for s in os.listdir('./result/')]):\n",
    "        os.mkdir('./result/{}'.format(name))\n",
    "    \n",
    "    # 접속하기\n",
    "    print('({}) 첫 페이지에 접근합니다.'.format(name))\n",
    "    driver.get(url)\n",
    "\n",
    "    # [20개씩 보기] → [50개씩 보기]로 변환\n",
    "    viewer = Select(driver.find_element_by_css_selector('select#pagerow'))\n",
    "    viewer.select_by_value('50')\n",
    "\n",
    "    time.sleep(10)\n",
    "\n",
    "    # 수집하기\n",
    "    page = 1\n",
    "    print('수집을 시작합니다.')\n",
    "    while(True):\n",
    "        if(page > page_max):\n",
    "            print('수집을 종료합니다. (페이지 지정치 도달)')\n",
    "            break\n",
    "        with open('./result/{}/carlist_{}_{:04d}.html'.format(name, name, page), 'w', -1, encoding='utf-8') as f:\n",
    "            soup = BeautifulSoup(driver.find_element_by_xpath('//tbody[@id=\"sr_normal\"]/ancestor::table').get_attribute('outerHTML'))\n",
    "            html = str(soup)\n",
    "            f.write(html)\n",
    "        try:\n",
    "            driver.find_element_by_css_selector('div#pagination').find_element_by_xpath('//a[@data-page=\"{}\"]'.format(page+1)).click()\n",
    "        except NoSuchElementException:\n",
    "            print('수집을 종료합니다. (NoSuchElementException)')\n",
    "            break\n",
    "        page += 1\n",
    "        time.sleep(1+2*random())\n",
    "    driver.close()"
   ]
  },
  {
   "cell_type": "code",
   "execution_count": 3,
   "metadata": {},
   "outputs": [],
   "source": [
    "def parse(name):\n",
    "    print('({}) 파싱을 시작합니다.'.format(name))\n",
    "    result = []\n",
    "    files = glob('./result/{}/*.html'.format(name))\n",
    "    for file in files:\n",
    "        with open(file, 'r', -1, encoding='utf-8') as f:\n",
    "            html = f.read()\n",
    "        soup = BeautifulSoup(html, 'lxml')\n",
    "        carlist_batch = soup.select('tr')[1:]\n",
    "        result_batch = []\n",
    "        for car in carlist_batch:\n",
    "            name1 = car.select_one('span.cls > strong').text\n",
    "            name2 = car.select_one('span.cls > em').text\n",
    "            name3 = car.select_one('span.dtl > strong').text\n",
    "            name4 = car.select_one('span.dtl > em').text\n",
    "            yer = car.select_one('span.yer').text\n",
    "            km = car.select_one('span.km').text\n",
    "            fue = car.select_one('span.fue').text\n",
    "            loc = car.select_one('span.loc').text\n",
    "            ins = '' if car.select_one('span.ins') == None else car.select_one('span.ins').text\n",
    "            ass = '' if car.select_one('span.ass') == None else car.select_one('span.ass').text\n",
    "            prc = car.select_one('td.prc_hs').text\n",
    "            link = car.select_one('a').attrs['href']\n",
    "            result_batch.append((name1, name2, name3, name4, yer, km, fue, loc, ins, ass, prc, link))\n",
    "        column_name = ['name1', 'name2', 'name3', 'name4', 'yer', 'km', 'fue', 'loc', 'ins', 'ass', 'prc', 'link']\n",
    "        df = pd.DataFrame(result_batch, columns=column_name)\n",
    "        result.append(df)\n",
    "    df = pd.concat(result).reset_index(drop=True)\n",
    "    df['link'] = 'http://www.encar.com' + df['link']\n",
    "    with pd.ExcelWriter('./result/{}/carlist_{}.xlsx'.format(name, name), 'xlsxwriter') as writer:\n",
    "        df.to_excel(writer, index=False)\n",
    "    print('파싱이 종료되었습니다.')"
   ]
  },
  {
   "cell_type": "code",
   "execution_count": 4,
   "metadata": {},
   "outputs": [
    {
     "name": "stdout",
     "output_type": "stream",
     "text": [
      "(benz) 첫 페이지에 접근합니다.\n",
      "수집을 시작합니다.\n",
      "수집을 종료합니다. (NoSuchElementException)\n",
      "(benz) 파싱을 시작합니다.\n",
      "파싱이 종료되었습니다.\n"
     ]
    }
   ],
   "source": [
    "# BENZ\n",
    "url_benz = 'http://www.encar.com/fc/fc_carsearchlist.do?carType=for&searchType=model&TG.R=B#!%7B%22action%22%3A%22(And.Hidden.N._.(C.CarType.N._.Manufacturer.%EB%B2%A4%EC%B8%A0.))%22%2C%22toggle%22%3A%7B%7D%2C%22layer%22%3A%22%22%2C%22sort%22%3A%22ModifiedDate%22%2C%22page%22%3A1%2C%22limit%22%3A20%7D'\n",
    "get_source(url_benz, 'benz')\n",
    "parse('benz')"
   ]
  },
  {
   "cell_type": "code",
   "execution_count": 5,
   "metadata": {},
   "outputs": [
    {
     "name": "stdout",
     "output_type": "stream",
     "text": [
      "(ev) 파싱을 시작합니다.\n",
      "파싱이 종료되었습니다.\n"
     ]
    }
   ],
   "source": [
    "# EV\n",
    "url_ev = 'http://www.encar.com/ev/ev_carsearchlist.do?carType=ev&searchType=model&TG.R=D#!'\n",
    "get_source(url_ev, 'ev')\n",
    "parse('ev')"
   ]
  },
  {
   "cell_type": "code",
   "execution_count": 4,
   "metadata": {},
   "outputs": [
    {
     "name": "stdout",
     "output_type": "stream",
     "text": [
      "(bmw) 첫 페이지에 접근합니다.\n",
      "수집을 시작합니다.\n",
      "수집을 종료합니다. (NoSuchElementException)\n",
      "(bmw) 파싱을 시작합니다.\n",
      "파싱이 종료되었습니다.\n"
     ]
    }
   ],
   "source": [
    "# BMW\n",
    "url_bmw = 'http://www.encar.com/fc/fc_carsearchlist.do?carType=for&searchType=model&TG.R=B#!%7B%22action%22%3A%22(And.Hidden.N._.(C.CarType.N._.Manufacturer.BMW.))%22%2C%22toggle%22%3A%7B%7D%2C%22layer%22%3A%22%22%2C%22sort%22%3A%22ModifiedDate%22%2C%22page%22%3A1%2C%22limit%22%3A20%7D'\n",
    "get_source(url_bmw, 'bmw')\n",
    "parse('bmw')"
   ]
  },
  {
   "cell_type": "code",
   "execution_count": 6,
   "metadata": {},
   "outputs": [
    {
     "name": "stdout",
     "output_type": "stream",
     "text": [
      "(spark) 첫 페이지에 접근합니다.\n",
      "수집을 시작합니다.\n",
      "수집을 종료합니다. (NoSuchElementException)\n",
      "(spark) 파싱을 시작합니다.\n",
      "파싱이 종료되었습니다.\n"
     ]
    }
   ],
   "source": [
    "# SPARK\n",
    "url_spark = 'http://www.encar.com/dc/dc_carsearchlist.do?carType=kor&searchType=model&wtClick_kor=003&TG.R=A#!%7B%22action%22%3A%22(And.Hidden.N._.(C.CarType.Y._.(C.Manufacturer.%EC%89%90%EB%B3%B4%EB%A0%88(GM%EB%8C%80%EC%9A%B0_)._.ModelGroup.%EC%8A%A4%ED%8C%8C%ED%81%AC.)))%22%2C%22toggle%22%3A%7B%7D%2C%22layer%22%3A%22%22%2C%22sort%22%3A%22ModifiedDate%22%2C%22page%22%3A1%2C%22limit%22%3A20%7D'\n",
    "get_source(url_spark, 'spark')\n",
    "parse('spark')"
   ]
  }
 ],
 "metadata": {
  "kernelspec": {
   "display_name": "Python 3",
   "language": "python",
   "name": "python3"
  },
  "language_info": {
   "codemirror_mode": {
    "name": "ipython",
    "version": 3
   },
   "file_extension": ".py",
   "mimetype": "text/x-python",
   "name": "python",
   "nbconvert_exporter": "python",
   "pygments_lexer": "ipython3",
   "version": "3.7.0"
  }
 },
 "nbformat": 4,
 "nbformat_minor": 4
}
