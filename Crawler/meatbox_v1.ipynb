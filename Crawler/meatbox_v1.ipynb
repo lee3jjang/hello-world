{
 "cells": [
  {
   "cell_type": "code",
   "execution_count": 1,
   "metadata": {},
   "outputs": [],
   "source": [
    "import pandas as pd\n",
    "import numpy as np\n",
    "import sqlite3\n",
    "import urllib\n",
    "import time\n",
    "from selenium import webdriver"
   ]
  },
  {
   "cell_type": "code",
   "execution_count": 2,
   "metadata": {},
   "outputs": [],
   "source": [
    "#driver.close()"
   ]
  },
  {
   "cell_type": "code",
   "execution_count": 3,
   "metadata": {},
   "outputs": [],
   "source": [
    "# 드라이버 객체 생성\n",
    "driver = webdriver.Chrome('chromedriver')"
   ]
  },
  {
   "cell_type": "code",
   "execution_count": 4,
   "metadata": {},
   "outputs": [],
   "source": [
    "#### BeautifulSoup를 이용해 리팩토링 요망 ####\n",
    "# 상품코드 수집\n",
    "def 상품코드수집():\n",
    "    url = 'https://www.meatbox.co.kr/fo/product/productListPage.do'\n",
    "    params = {'categorySeq':10005,'articleCount':'1000'}\n",
    "    url_params = '{}?{}'.format(url, urllib.parse.urlencode(params))\n",
    "    driver.get(url_params)\n",
    "    상품정보 = driver.find_elements_by_xpath(\"//li[@data-product-seq]\")\n",
    "    상품코드 = []\n",
    "    for 상품 in 상품정보:\n",
    "        상품코드.append(상품.get_attribute('data-product-seq'))\n",
    "    return 상품코드"
   ]
  },
  {
   "cell_type": "code",
   "execution_count": 5,
   "metadata": {},
   "outputs": [],
   "source": [
    "상품코드 = 상품코드수집()"
   ]
  },
  {
   "cell_type": "code",
   "execution_count": 25,
   "metadata": {},
   "outputs": [],
   "source": [
    "def 상세정보수집(seq):\n",
    "    url = 'https://www.meatbox.co.kr/fo/product/productViewPage.do'\n",
    "    params = {'productSeq':seq}\n",
    "    url_params = '{}?{}'.format(url, urllib.parse.urlencode(params))\n",
    "    driver.get(url_params)\n",
    "    \n",
    "    테이블 = driver.find_element_by_xpath(\"//table[@class='section_td']\").find_elements_by_tag_name('tr')\n",
    "    상세정보 = []\n",
    "    for 레코드 in 테이블:\n",
    "        속성 = 레코드.find_element_by_tag_name('th').text\n",
    "        내용 = 레코드.find_element_by_tag_name('td').text\n",
    "        상세정보.append([속성, 내용])\n",
    "    return 상세정보"
   ]
  },
  {
   "cell_type": "code",
   "execution_count": 26,
   "metadata": {},
   "outputs": [],
   "source": [
    "상세정보 = 상세정보수집('122752')"
   ]
  },
  {
   "cell_type": "code",
   "execution_count": 27,
   "metadata": {},
   "outputs": [],
   "source": [
    "def 판매자정보수집(seq):\n",
    "    url = 'https://www.meatbox.co.kr/fo/product/productViewPage.do'\n",
    "    params = {'productSeq':seq}\n",
    "    url_params = '{}?{}'.format(url, urllib.parse.urlencode(params))\n",
    "    driver.get(url_params)\n",
    "    \n",
    "    #판매업체버튼 = driver.find_element_by_xpath(\"//button[@class='sale_info']\")\n",
    "    #판매업체버튼.click()\n",
    "    #time.sleep(3)\n",
    "    #테이블 = driver.find_element_by_xpath(\"//div[@class='pop_comm sale_pop']\").find_element_by_xpath(\"div[@class='pop_cont']\").find_elements_by_tag_name('tr')\n",
    "    테이블 = driver.find_element_by_xpath(\"//div[@class='pop_comm sale_pop']\").find_elements_by_tag_name('tr')\n",
    "    판매자정보 = []\n",
    "    for 레코드 in 테이블:\n",
    "        속성 = 레코드.find_element_by_tag_name('th').get_attribute('innerHTML')\n",
    "        내용 = 레코드.find_element_by_tag_name('td').get_attribute('innerHTML')\n",
    "        판매자정보.append([속성, 내용])\n",
    "        \n",
    "    판매자정보[4][1] = 판매자정보[4][1].split('<strong>')[0]\n",
    "    return 판매자정보"
   ]
  },
  {
   "cell_type": "code",
   "execution_count": 28,
   "metadata": {},
   "outputs": [],
   "source": [
    "판매자정보 = 판매자정보수집('122752')"
   ]
  },
  {
   "cell_type": "code",
   "execution_count": 29,
   "metadata": {},
   "outputs": [],
   "source": [
    "def 상품정보수집(seq):\n",
    "    url = 'https://www.meatbox.co.kr/fo/product/productViewPage.do'\n",
    "    params = {'productSeq':seq}\n",
    "    url_params = '{}?{}'.format(url, urllib.parse.urlencode(params))\n",
    "    driver.get(url_params)\n",
    "    \n",
    "    테이블 = driver.find_element_by_xpath(\"//div[@class='pop_comm deteil_over_pop _optionDetailInfoLayer']\").find_element_by_xpath(\"//div[@class='table_wrap']\").find_elements_by_tag_name('tr')\n",
    "    상품정보 = []\n",
    "    for 레코드 in 테이블:\n",
    "        속성 = 레코드.find_element_by_tag_name('th').get_attribute('innerHTML')\n",
    "        내용 = 레코드.find_element_by_tag_name('td').get_attribute('innerHTML')\n",
    "        상품정보.append([속성, 내용])\n",
    "    return 상품정보"
   ]
  },
  {
   "cell_type": "code",
   "execution_count": 30,
   "metadata": {},
   "outputs": [],
   "source": [
    "상품정보 = 상품정보수집('122752')"
   ]
  },
  {
   "cell_type": "code",
   "execution_count": 33,
   "metadata": {},
   "outputs": [
    {
     "data": {
      "text/plain": [
       "[['대표자', '안성철'],\n",
       " ['상호', '주식회사 엠렉'],\n",
       " ['전화', '02-3463-8687'],\n",
       " ['이메일 주소', '86mrek@gmail.com'],\n",
       " ['사업자등록번호', '5708600518'],\n",
       " ['사업장 소재지', '서울 서초구 양재동 106-1&nbsp;한도빌딩 401호']]"
      ]
     },
     "execution_count": 33,
     "metadata": {},
     "output_type": "execute_result"
    }
   ],
   "source": [
    "판매자정보"
   ]
  },
  {
   "cell_type": "code",
   "execution_count": 32,
   "metadata": {},
   "outputs": [
    {
     "data": {
      "text/plain": [
       "[['kg당 가격', '29,200원'],\n",
       " ['가공일', '2018-06-13'],\n",
       " ['유통기한', '2018-09-11'],\n",
       " ['최대', '37.74kg'],\n",
       " ['최소', '36.92kg'],\n",
       " ['평균', '37.33kg'],\n",
       " ['유통식별번호', '893903004455']]"
      ]
     },
     "execution_count": 32,
     "metadata": {},
     "output_type": "execute_result"
    }
   ],
   "source": [
    "상품정보"
   ]
  },
  {
   "cell_type": "code",
   "execution_count": 31,
   "metadata": {},
   "outputs": [
    {
     "data": {
      "text/plain": [
       "[['보관방법', '냉장'],\n",
       " ['축종', '수입소'],\n",
       " ['품목', '채끝등심'],\n",
       " ['가공방법', '원물'],\n",
       " ['원산지', '미국'],\n",
       " ['브랜드', '엑셀(PSA/앵거스)'],\n",
       " ['등급', 'Choice'],\n",
       " ['배송정책', '무료배송'],\n",
       " ['판매대상', '사업자회원 전용상품'],\n",
       " ['EST NO', '86R(EXCEL/PSA)'],\n",
       " ['포장상태', '진공포장']]"
      ]
     },
     "execution_count": 31,
     "metadata": {},
     "output_type": "execute_result"
    }
   ],
   "source": [
    "상세정보"
   ]
  }
 ],
 "metadata": {
  "kernelspec": {
   "display_name": "Python 3",
   "language": "python",
   "name": "python3"
  },
  "language_info": {
   "codemirror_mode": {
    "name": "ipython",
    "version": 3
   },
   "file_extension": ".py",
   "mimetype": "text/x-python",
   "name": "python",
   "nbconvert_exporter": "python",
   "pygments_lexer": "ipython3",
   "version": "3.6.5"
  }
 },
 "nbformat": 4,
 "nbformat_minor": 2
}
