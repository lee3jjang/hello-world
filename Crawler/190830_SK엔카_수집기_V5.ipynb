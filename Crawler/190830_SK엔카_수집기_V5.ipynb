{
 "cells": [
  {
   "cell_type": "code",
   "execution_count": 2,
   "metadata": {},
   "outputs": [],
   "source": [
    "import pandas as pd\n",
    "import os\n",
    "from selenium import webdriver\n",
    "from selenium.webdriver.support.ui import Select\n",
    "import random\n",
    "import time\n",
    "from datetime import datetime\n",
    "from urllib.parse import urlparse, parse_qs"
   ]
  },
  {
   "cell_type": "markdown",
   "metadata": {},
   "source": [
    "#### 0. 환경설정"
   ]
  },
  {
   "cell_type": "code",
   "execution_count": 3,
   "metadata": {},
   "outputs": [],
   "source": [
    "delay = 1.5   # 딜레이 시간"
   ]
  },
  {
   "cell_type": "markdown",
   "metadata": {},
   "source": [
    "#### 1. 초기화"
   ]
  },
  {
   "cell_type": "code",
   "execution_count": 4,
   "metadata": {},
   "outputs": [],
   "source": [
    "driver = webdriver.Chrome('chromedriver')"
   ]
  },
  {
   "cell_type": "code",
   "execution_count": 5,
   "metadata": {},
   "outputs": [],
   "source": [
    "# result 폴더 생성\n",
    "if not any([s == 'result' for s in os.listdir('.')]):\n",
    "    os.mkdir('result')\n",
    "    \n",
    "# source 폴더 생성\n",
    "if not any([s == 'source' for s in os.listdir('.')]):\n",
    "    os.mkdir('source')"
   ]
  },
  {
   "cell_type": "code",
   "execution_count": 6,
   "metadata": {},
   "outputs": [],
   "source": [
    "# 접속하기\n",
    "#url = 'http://www.encar.com/ev/ev_carsearchlist.do?carType=ev&searchType=model&TG.R=D#!%7B%22action%22%3A%22(And.Hidden.N._.CarType.A._.FuelType.%EC%A0%84%EA%B8%B0._.(C.GreenType.Y._.EvType.%EC%A0%84%EA%B8%B0%EC%B0%A8.))%22%2C%22toggle%22%3A%7B%7D%2C%22layer%22%3A%22%22%2C%22sort%22%3A%22ModifiedDate%22%2C%22page%22%3A1%2C%22limit%22%3A%2250%22%7D'\n",
    "url = 'http://www.encar.com/fc/fc_carsearchlist.do?carType=for&searchType=model&TG.R=B#!%7B%22action%22%3A%22(And.Hidden.N._.(C.CarType.N._.Manufacturer.%EB%B2%A4%EC%B8%A0.))%22%2C%22toggle%22%3A%7B%7D%2C%22layer%22%3A%22%22%2C%22sort%22%3A%22ModifiedDate%22%2C%22page%22%3A1%2C%22limit%22%3A%2250%22%7D'\n",
    "driver.get(url)\n",
    "time.sleep(3*delay)\n",
    "\n",
    "# [20개씩 보기] → [50개씩 보기]로 변환\n",
    "viewer = Select(driver.find_element_by_css_selector('select#pagerow'))\n",
    "viewer.select_by_value('50')\n",
    "time.sleep(delay)"
   ]
  },
  {
   "cell_type": "code",
   "execution_count": 10,
   "metadata": {},
   "outputs": [
    {
     "name": "stdout",
     "output_type": "stream",
     "text": [
      "현재페이지: p.123\n"
     ]
    }
   ],
   "source": [
    "# 데이터 url 수집\n",
    "batch = []\n",
    "page = 123\n",
    "while(True):\n",
    "    try:\n",
    "        driver.find_element_by_css_selector('div#pagination').find_element_by_xpath('//a[@data-page=\"{}\"]'.format(page)).click()\n",
    "    except:\n",
    "        break\n",
    "    time.sleep(delay)\n",
    "    \n",
    "    rows = driver.find_element_by_css_selector('tbody#sr_normal').find_elements_by_tag_name('tr')\n",
    "    for row in rows:\n",
    "        car_url = row.find_element_by_css_selector('td.inf > a').get_attribute('href')\n",
    "        batch.append(car_url)\n",
    "    print('현재페이지: p.{}'.format(page))\n",
    "    page += 1\n",
    "    \n",
    "\n",
    "# url 저장\n",
    "now = datetime.now().strftime('%Y%m%d%H%M%S')\n",
    "\n",
    "# 결과 저장하기\n",
    "df = pd.DataFrame(batch)\n",
    "df[1] = df[0].apply(lambda x: parse_qs(urlparse(x).query)['carid'][0])\n",
    "writer = pd.ExcelWriter('./result/car_url_{}.xlsx'.format(now), 'xlsxwriter')\n",
    "df.to_excel(writer, index=False)\n",
    "writer.save()\n",
    "writer.close()"
   ]
  },
  {
   "cell_type": "markdown",
   "metadata": {},
   "source": [
    "#### 2. page 저장하기"
   ]
  },
  {
   "cell_type": "code",
   "execution_count": null,
   "metadata": {},
   "outputs": [],
   "source": [
    "# URL 데이터 불러오기\n",
    "df = pd.read_excel('./result/car_url_20190903162242.xlsx')\n",
    "\n",
    "# 데이터 저장하기\n",
    "for i, url in df.iterrows():\n",
    "    driver.get(url[0])\n",
    "    time.sleep(2 + 3*random.random())\n",
    "    with open('./source/car_{}.html'.format(i+1), 'w', -1, encoding='utf-8') as f:\n",
    "        f.write(driver.page_source)"
   ]
  },
  {
   "cell_type": "markdown",
   "metadata": {},
   "source": [
    "#### 3. page에서 데이터 추출하기"
   ]
  },
  {
   "cell_type": "code",
   "execution_count": null,
   "metadata": {},
   "outputs": [],
   "source": [
    "from bs4 import BeautifulSoup"
   ]
  },
  {
   "cell_type": "code",
   "execution_count": null,
   "metadata": {},
   "outputs": [],
   "source": [
    "batch = []\n",
    "for i in range(1, 50):\n",
    "    with open('./source/car_{}.html'.format(i), 'r', encoding='utf-8') as f:\n",
    "        html = f.read()\n",
    "    soup = BeautifulSoup(html[html.find('<div id=\"areaBase\"'):html.find('<div class=\"product_detail\"')])\n",
    "    result = {}\n",
    "    try:\n",
    "        # 일반\n",
    "        result['브랜드'] = [soup.select('div.product_left > div.area_info > h1.prod_name > span.brand')[0].text]\n",
    "        result['디테일'] = [soup.select('div.product_left > div.area_info > h1.prod_name > span.detail')[0].text]\n",
    "        prod_infomain_list = soup.select('div.product_left > div.area_info > div.prod_infomain > ul > li')\n",
    "        prod_infomain = {}\n",
    "        for p in prod_infomain_list:\n",
    "            key = p.select('span.blind')[0].text.replace(':', '')\n",
    "            value = p.text.replace(' ', '').replace('\\n', '').replace('자세히보기', '').replace(p.select('span.blind')[0].text, '')\n",
    "            prod_infomain[key] = [value]\n",
    "        result.update(prod_infomain)\n",
    "        if not '수입형태' in result.keys():\n",
    "            result['수입형태'] = ['']\n",
    "        result['가격'] = [soup.select('div.product_left > div.area_info > div.prod_price > span.num')[0].text]\n",
    "        result['등록번호'] = [soup.select('div.product_left > div.area_info2nd > div.prod_infoetc > ul.reg > li')[0].text.replace('등록번호', '').replace('\\n', '').replace('자세히보기', '').replace(' ', '')]\n",
    "        result['조회수'] = [soup.select('div.product_left > div.area_info2nd > div.prod_infoetc > ul.reg > li')[1].text.replace('조회수', '').replace('\\n', '').replace('자세히보기', '').replace(' ', '')]\n",
    "        result['찜'] = [soup.select('div.product_left > div.area_info2nd > div.prod_infoetc > ul.reg > li')[2].text.replace('찜', '').replace('\\n', '').replace('자세히보기', '').replace(' ', '')]\n",
    "        #result['핫마크'] = [', '.join(list(map(lambda x: x.text.replace('\\n', '').replace(' ', ''), soup.select('div.product_left > div.area_info2nd > div.prod_addon > span'))))]\n",
    "        \n",
    "        soup = BeautifulSoup(html[html.find('<div class=\"product_detail\"'):html.find('<div><div id=\"ad_btm\">')])\n",
    "        option_classes = soup.select('div#areaOption > div.box_opt > div.con.option_hover')\n",
    "        option_effective = []\n",
    "        for option_class in option_classes:\n",
    "            options = option_class.select('dl > dd.on')\n",
    "            for option in options:\n",
    "                try:\n",
    "                    option_effective.append(option.select('a')[0].text.replace('\\n', '').replace(' ', ''))\n",
    "                except:\n",
    "                    option_effective.append(option.select('p')[0].text.replace('\\n', '').replace(' ', ''))\n",
    "        df = pd.DataFrame.from_dict(result)\n",
    "        df.insert(0, '진단구분', '일반')\n",
    "        batch.append(df)\n",
    "    except:\n",
    "        # 진단\n",
    "        result['브랜드'] = [soup.select('div#carPic > div.info_product > div.wrap_tit > strong.prod_name > span.brand')[0].text]\n",
    "        result['디테일'] = [soup.select('div#carPic > div.info_product > div.wrap_tit > strong.prod_name > span.detail')[0].text]\n",
    "        prod_infomain_list = soup.select('div#carPic > div.info_product > ul.list_carinfo')[0].select('li')\n",
    "        prod_infomain = {}\n",
    "        for p in prod_infomain_list:\n",
    "            key = p.select('span.blind')[0].text.replace(':', '')\n",
    "            value = p.text.replace(' ', '').replace('\\n', '').replace('자세히보기', '').replace(p.select('span.blind')[0].text, '')\n",
    "            prod_infomain[key] = [value]\n",
    "        result.update(prod_infomain)\n",
    "        if not '수입형태' in result.keys():\n",
    "            result['수입형태'] = ['']\n",
    "        result['가격'] = [soup.select('div#scrFix > div.wrap_keyinfo > div.info_purchase > em.emph_price')[0].text]\n",
    "        result['등록번호'] = [soup.select('div#carPic > div.info_product > ul.list_carinfo')[1].select('li')[0].text.replace('등록번호', '').replace('\\n', '').replace('자세히보기', '').replace(' ', '')]\n",
    "        result['조회수'] = [soup.select('div#carPic > div.info_product > ul.list_carinfo')[1].select('li')[1].text.replace('조회수', '').replace('\\n', '').replace('자세히보기', '').replace(' ', '')]\n",
    "        result['찜'] = [soup.select('div#carPic > div.info_product > ul.list_carinfo')[1].select('li')[2].text.replace('찜', '').replace('\\n', '').replace('자세히보기', '').replace(' ', '')]\n",
    "        # result['핫마크'] = [', '.join(list(map(lambda x: x.text.replace('\\n', '').replace(' ', ''), soup.select('div.product_left > div.area_info2nd > div.prod_addon > span'))))]\n",
    "\n",
    "        soup = BeautifulSoup(html[html.find('<div class=\"product_detail\"'):html.find('<div><div id=\"ad_btm\">')])\n",
    "        option_classes = soup.select('div#areaOption > div.area_options > dl.option_all')\n",
    "        option_effective = []\n",
    "        for option_class in option_classes:\n",
    "            options = option_class.select('dd.on')\n",
    "            for option in options:\n",
    "                try:\n",
    "                    option_effective.append(option.select('a')[0].text.replace('\\n', '').replace(' ', ''))\n",
    "                except:\n",
    "                    option_effective.append(option.select('p')[0].text.replace('\\n', '').replace(' ', ''))\n",
    "        df = pd.DataFrame.from_dict(result)\n",
    "        df.insert(0, '진단구분', '진단')\n",
    "        batch.append(df)"
   ]
  },
  {
   "cell_type": "code",
   "execution_count": 6,
   "metadata": {},
   "outputs": [],
   "source": [
    "now = datetime.now().strftime('%Y%m%d%H%M%S')\n",
    "writer = pd.ExcelWriter('./result/result_{}.xlsx'.format(now), 'xlsxwriter')\n",
    "df = pd.concat(batch)\n",
    "df.to_excel(writer, index=False)\n",
    "writer.save()\n",
    "writer.close()"
   ]
  }
 ],
 "metadata": {
  "kernelspec": {
   "display_name": "Python 3",
   "language": "python",
   "name": "python3"
  },
  "language_info": {
   "codemirror_mode": {
    "name": "ipython",
    "version": 3
   },
   "file_extension": ".py",
   "mimetype": "text/x-python",
   "name": "python",
   "nbconvert_exporter": "python",
   "pygments_lexer": "ipython3",
   "version": "3.7.0"
  }
 },
 "nbformat": 4,
 "nbformat_minor": 4
}
