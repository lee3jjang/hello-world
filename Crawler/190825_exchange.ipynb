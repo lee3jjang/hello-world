{
 "cells": [
  {
   "cell_type": "code",
   "execution_count": 70,
   "metadata": {},
   "outputs": [
    {
     "name": "stdout",
     "output_type": "stream",
     "text": [
      "----- 수집 시작 -----\n",
      "환율정보 수집 완료(국가구분 : 미국, 화폐구분: USD, 페이지 수: 383)\n",
      "환율정보 수집 완료(국가구분 : 유럽연합, 화폐구분: EUR, 페이지 수: 383)\n",
      "환율정보 수집 완료(국가구분 : 일본, 화폐구분: JPY, 페이지 수: 383)\n",
      "환율정보 수집 완료(국가구분 : 중국, 화폐구분: CNY, 페이지 수: 383)\n",
      "----- 수집 완료 -----\n"
     ]
    }
   ],
   "source": [
    "import os\n",
    "import pandas as pd\n",
    "import matplotlib.pyplot as plt\n",
    "\n",
    "country_list = {\n",
    "    '미국': 'USD',\n",
    "    '유럽연합': 'EUR',\n",
    "    '일본': 'JPY',\n",
    "    '중국': 'CNY',\n",
    "    '홍콩': 'HKD',\n",
    "    '대만': 'TWD',\n",
    "    '영국': 'GBP',\n",
    "    '오만': 'OMR',\n",
    "    '캐나다': 'CAD',\n",
    "    '스위스': 'CHF',\n",
    "    '스웨덴': 'SEK',\n",
    "    '호주': 'AUD',\n",
    "    '뉴질랜드':'NZD',\n",
    "    '체코': 'CZK',\n",
    "    '칠레': 'CLP',\n",
    "    '터키': 'TRY',\n",
    "    '몽골': 'MNT',\n",
    "    '이스라엘': 'ILS',\n",
    "    '덴마크': 'DKK',\n",
    "    '노르웨이': 'NOK',\n",
    "    '사우디아라비아': 'SAR',\n",
    "    '쿠웨이트': 'KWD',\n",
    "    '바레인': 'BHD',\n",
    "    '아랍에미리트': 'AED',\n",
    "    '요르단': 'JOD',\n",
    "    '이집트': 'EGP',\n",
    "    '태국': 'THB',\n",
    "    '싱가포르': 'SGD',\n",
    "    '말레이시아': 'MYR',\n",
    "    '인도네시아': 'IDR',\n",
    "    '카타르': 'QAR',\n",
    "    '카자흐스탄': 'KZT',\n",
    "    '브루나이': 'BND',\n",
    "    '인도': 'INR',\n",
    "    '파키스탄': 'PKR',\n",
    "    '방글라데시': 'BDT',\n",
    "    '필리핀': 'PHP',\n",
    "    '멕시코': 'MXN',\n",
    "    '브라질': 'BRL',\n",
    "    '베트남': 'VND',\n",
    "    '남아프리카공화국':'ZAR',\n",
    "    '러시아': 'RUB',\n",
    "    '헝가리': 'HUF',\n",
    "    '폴란드': 'PLN'\n",
    "}\n",
    "# result 폴더 생성\n",
    "if not any(['result' == s for s in os.listdir('.')]):\n",
    "    os.mkdir('./result')\n",
    "\n",
    "country_list = list(country_list.keys())[:4]\n",
    "result = list()\n",
    "print('----- 수집 시작 -----')\n",
    "for country in country_list:\n",
    "    index_cd = index_cd_list[country]\n",
    "    page = 1\n",
    "    while(True):\n",
    "        url = 'https://finance.naver.com/marketindex/exchangeDailyQuote.nhn?marketindexCd=FX_{}KRW&page={}'.format(index_cd, page)\n",
    "        data = pd.read_html(url)[0]\n",
    "        result.append(data)\n",
    "        data.insert(0, '화폐구분', index_cd)\n",
    "        data.insert(0, '국가구분', country)\n",
    "        if (data.shape[0] != 10):\n",
    "            break\n",
    "        page += 1\n",
    "    print('환율정보 수집 완료(국가구분 : {}, 화폐구분: {}, 페이지 수: {})'.format(country, index_cd, page))\n",
    "df = pd.concat(result)\n",
    "df.columns = ['국가구분', '화폐구분', '날짜', '매매기준율', '전일대비', '현찰_사실때', '현찰_파실때', '송금_보내실때', '송금_받으실때', 'T/C_사실때', '외화수표_파실때']\n",
    "df = df.drop('전일대비', axis=1)\n",
    "df['날짜'] = pd.to_datetime(df['날짜'], format='%Y.%m.%d')\n",
    "df = df.reset_index(drop=True)\n",
    "print('----- 수집 완료 -----')"
   ]
  },
  {
   "cell_type": "code",
   "execution_count": 75,
   "metadata": {},
   "outputs": [],
   "source": [
    "writer = pd.ExcelWriter('./result/exchange.xlsx', 'xlsxwriter')\n",
    "df.to_excel(writer, index=False)\n",
    "writer.save()\n",
    "writer.close()"
   ]
  },
  {
   "cell_type": "code",
   "execution_count": null,
   "metadata": {},
   "outputs": [],
   "source": [
    "plt.figure(figsize=(12,8))\n",
    "for _, grp in df.groupby('화폐구분'):\n",
    "    plt.plot(grp['날짜'], grp['매매기준율'], label=grp['화폐구분'].iloc[0])\n",
    "plt.legend()\n",
    "plt.grid()\n",
    "plt.tight_layout()\n",
    "plt.savefig('./result/exchange_example.png')\n",
    "plt.show()"
   ]
  }
 ],
 "metadata": {
  "kernelspec": {
   "display_name": "Python 3",
   "language": "python",
   "name": "python3"
  },
  "language_info": {
   "codemirror_mode": {
    "name": "ipython",
    "version": 3
   },
   "file_extension": ".py",
   "mimetype": "text/x-python",
   "name": "python",
   "nbconvert_exporter": "python",
   "pygments_lexer": "ipython3",
   "version": "3.7.3"
  }
 },
 "nbformat": 4,
 "nbformat_minor": 4
}
