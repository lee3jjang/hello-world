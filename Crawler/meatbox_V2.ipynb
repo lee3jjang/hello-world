{
 "cells": [
  {
   "cell_type": "code",
   "execution_count": 28,
   "metadata": {},
   "outputs": [],
   "source": [
    "import pandas as pd\n",
    "import numpy as np\n",
    "import sqlite3\n",
    "import urllib\n",
    "import time\n",
    "from selenium import webdriver\n",
    "from selenium.common.exceptions import NoSuchElementException"
   ]
  },
  {
   "cell_type": "code",
   "execution_count": 2,
   "metadata": {},
   "outputs": [],
   "source": [
    "#driver.close()"
   ]
  },
  {
   "cell_type": "code",
   "execution_count": 2,
   "metadata": {},
   "outputs": [],
   "source": [
    "# 드라이버 객체 생성\n",
    "driver = webdriver.Chrome('chromedriver')"
   ]
  },
  {
   "cell_type": "code",
   "execution_count": 3,
   "metadata": {},
   "outputs": [],
   "source": [
    "#### BeautifulSoup를 이용해 리팩토링 요망 ####\n",
    "# 상품코드 수집\n",
    "def 상품코드수집():\n",
    "    url = 'https://www.meatbox.co.kr/fo/product/productListPage.do'\n",
    "    params = {'categorySeq':10005,'articleCount':'1000'}\n",
    "    url_params = '{}?{}'.format(url, urllib.parse.urlencode(params))\n",
    "    driver.get(url_params)\n",
    "    상품정보 = driver.find_elements_by_xpath(\"//li[@data-product-seq]\")\n",
    "    상품코드 = []\n",
    "    for 상품 in 상품정보:\n",
    "        상품코드.append(상품.get_attribute('data-product-seq'))\n",
    "    return 상품코드"
   ]
  },
  {
   "cell_type": "code",
   "execution_count": 36,
   "metadata": {},
   "outputs": [
    {
     "data": {
      "text/plain": [
       "'123502'"
      ]
     },
     "execution_count": 36,
     "metadata": {},
     "output_type": "execute_result"
    }
   ],
   "source": [
    "상품코드 = 상품코드수집()\n",
    "코드 = 상품코드[40]\n",
    "코드"
   ]
  },
  {
   "cell_type": "code",
   "execution_count": 37,
   "metadata": {},
   "outputs": [],
   "source": [
    "def 상세정보수집(seq):\n",
    "    url = 'https://www.meatbox.co.kr/fo/product/productViewPage.do'\n",
    "    params = {'productSeq':seq}\n",
    "    url_params = '{}?{}'.format(url, urllib.parse.urlencode(params))\n",
    "    driver.get(url_params)\n",
    "    \n",
    "    테이블 = driver.find_element_by_xpath(\"//table[@class='section_td']\").find_elements_by_tag_name('tr')\n",
    "    상세정보 = []\n",
    "    for 레코드 in 테이블:\n",
    "        속성 = 레코드.find_element_by_tag_name('th').text\n",
    "        내용 = 레코드.find_element_by_tag_name('td').text\n",
    "        상세정보.append([속성, 내용])\n",
    "    return 상세정보"
   ]
  },
  {
   "cell_type": "code",
   "execution_count": 38,
   "metadata": {},
   "outputs": [],
   "source": [
    "상세정보 = 상세정보수집(코드)"
   ]
  },
  {
   "cell_type": "code",
   "execution_count": 39,
   "metadata": {},
   "outputs": [],
   "source": [
    "def 판매자정보수집(seq):\n",
    "    url = 'https://www.meatbox.co.kr/fo/product/productViewPage.do'\n",
    "    params = {'productSeq':seq}\n",
    "    url_params = '{}?{}'.format(url, urllib.parse.urlencode(params))\n",
    "    driver.get(url_params)\n",
    "    \n",
    "    #판매업체버튼 = driver.find_element_by_xpath(\"//button[@class='sale_info']\")\n",
    "    #판매업체버튼.click()\n",
    "    #time.sleep(3)\n",
    "    #테이블 = driver.find_element_by_xpath(\"//div[@class='pop_comm sale_pop']\").find_element_by_xpath(\"div[@class='pop_cont']\").find_elements_by_tag_name('tr')\n",
    "    테이블 = driver.find_element_by_xpath(\"//div[@class='pop_comm sale_pop']\").find_elements_by_tag_name('tr')\n",
    "    판매자정보 = []\n",
    "    for 레코드 in 테이블:\n",
    "        속성 = 레코드.find_element_by_tag_name('th').get_attribute('innerHTML')\n",
    "        내용 = 레코드.find_element_by_tag_name('td').get_attribute('innerHTML')\n",
    "        판매자정보.append([속성, 내용])\n",
    "        \n",
    "    판매자정보[4][1] = 판매자정보[4][1].split('<strong>')[0]\n",
    "    return 판매자정보"
   ]
  },
  {
   "cell_type": "code",
   "execution_count": 40,
   "metadata": {},
   "outputs": [],
   "source": [
    "판매자정보 = 판매자정보수집(코드)"
   ]
  },
  {
   "cell_type": "code",
   "execution_count": 41,
   "metadata": {},
   "outputs": [],
   "source": [
    "def 상품정보수집(seq):\n",
    "    url = 'https://www.meatbox.co.kr/fo/product/productViewPage.do'\n",
    "    params = {'productSeq':seq}\n",
    "    url_params = '{}?{}'.format(url, urllib.parse.urlencode(params))\n",
    "    driver.get(url_params)\n",
    "    \n",
    "    테이블 = driver.find_element_by_xpath(\"//div[@class='pop_comm deteil_over_pop _optionDetailInfoLayer']\").find_element_by_xpath(\"//div[@class='table_wrap']\").find_elements_by_tag_name('tr')\n",
    "    상품정보 = []\n",
    "    for 레코드 in 테이블:\n",
    "        속성 = 레코드.find_element_by_tag_name('th').get_attribute('innerHTML')\n",
    "        내용 = 레코드.find_element_by_tag_name('td').get_attribute('innerHTML')\n",
    "        상품정보.append([속성, 내용])\n",
    "    return 상품정보"
   ]
  },
  {
   "cell_type": "code",
   "execution_count": 42,
   "metadata": {},
   "outputs": [],
   "source": [
    "상품정보 = 상품정보수집(코드)"
   ]
  },
  {
   "cell_type": "code",
   "execution_count": 43,
   "metadata": {},
   "outputs": [
    {
     "data": {
      "text/plain": [
       "[['대표자', '김창환'],\n",
       " ['상호', '(주)유명푸드'],\n",
       " ['전화', '031-754-4928'],\n",
       " ['이메일 주소', 'eumyeong@nate.com'],\n",
       " ['사업자등록번호', '2128178298'],\n",
       " ['사업장 소재지', '경기도 성남시 수정구 복정로 133 (복정동 645-2)&nbsp;복정동 2층']]"
      ]
     },
     "execution_count": 43,
     "metadata": {},
     "output_type": "execute_result"
    }
   ],
   "source": [
    "판매자정보"
   ]
  },
  {
   "cell_type": "code",
   "execution_count": 44,
   "metadata": {},
   "outputs": [
    {
     "data": {
      "text/plain": [
       "[['kg당 가격', '4,000원'],\n",
       " ['가공일', '2017-11-01'],\n",
       " ['유통기한', '2019-10-31'],\n",
       " ['최대', '22.80kg'],\n",
       " ['최소', '13.12kg'],\n",
       " ['평균', '17.46kg'],\n",
       " ['유통식별번호', '804002013266']]"
      ]
     },
     "execution_count": 44,
     "metadata": {},
     "output_type": "execute_result"
    }
   ],
   "source": [
    "식별번호 = 상품정보[-1][-1]\n",
    "상품정보"
   ]
  },
  {
   "cell_type": "code",
   "execution_count": 45,
   "metadata": {},
   "outputs": [
    {
     "data": {
      "text/plain": [
       "[['보관방법', '냉동'],\n",
       " ['축종', '수입소'],\n",
       " ['품목', '등갈비/빽립'],\n",
       " ['가공방법', '원물'],\n",
       " ['원산지', '뉴질랜드'],\n",
       " ['브랜드', '실버펀팜'],\n",
       " ['등급', 'COW'],\n",
       " ['배송정책', '무료배송'],\n",
       " ['판매대상', '사업자회원 전용상품'],\n",
       " ['EST NO', 'ME 26'],\n",
       " ['포장상태', '레이어포장']]"
      ]
     },
     "execution_count": 45,
     "metadata": {},
     "output_type": "execute_result"
    }
   ],
   "source": [
    "상세정보"
   ]
  },
  {
   "cell_type": "code",
   "execution_count": 46,
   "metadata": {},
   "outputs": [],
   "source": [
    "url = 'https://www.meatwatch.go.kr/cs/dst/bdi/selectDistbHistInfoDetail.do'\n",
    "driver.get(url)"
   ]
  },
  {
   "cell_type": "code",
   "execution_count": 47,
   "metadata": {},
   "outputs": [],
   "source": [
    "driver.find_element_by_id('searchWrd1').clear()\n",
    "driver.find_element_by_id('searchWrd1').send_keys(식별번호)\n",
    "driver.find_element_by_id('searchWrd1').submit()"
   ]
  },
  {
   "cell_type": "code",
   "execution_count": 48,
   "metadata": {},
   "outputs": [],
   "source": [
    "기본정보, 원산지정보, 수입이력정보 = driver.find_elements_by_xpath(\"//div[@class='tform1']\")"
   ]
  },
  {
   "cell_type": "code",
   "execution_count": 49,
   "metadata": {},
   "outputs": [],
   "source": [
    "테이블 = 기본정보.find_elements_by_tag_name('tr')\n",
    "기본정보 = []\n",
    "for 레코드 in 테이블:\n",
    "    속성들 = 레코드.find_elements_by_tag_name('th')\n",
    "    내용들 = 레코드.find_elements_by_tag_name('td')\n",
    "    for 속성, 내용 in zip(속성들, 내용들):\n",
    "        속성 = 속성.get_attribute('innerHTML')\n",
    "        내용 = 내용.get_attribute('innerHTML')\n",
    "        기본정보.append([속성, 내용])"
   ]
  },
  {
   "cell_type": "code",
   "execution_count": 50,
   "metadata": {},
   "outputs": [],
   "source": [
    "테이블 = 원산지정보.find_elements_by_tag_name('tr')\n",
    "원산지정보 = []\n",
    "for 레코드 in 테이블:\n",
    "    속성들 = 레코드.find_elements_by_tag_name('th')\n",
    "    내용들 = 레코드.find_elements_by_tag_name('td')\n",
    "    for 속성, 내용 in zip(속성들, 내용들):\n",
    "        속성 = 속성.get_attribute('innerHTML')\n",
    "        내용 = 내용.get_attribute('innerHTML')\n",
    "        원산지정보.append([속성, 내용])"
   ]
  },
  {
   "cell_type": "code",
   "execution_count": 51,
   "metadata": {},
   "outputs": [],
   "source": [
    "테이블 = 수입이력정보.find_elements_by_tag_name('tr')\n",
    "수입이력정보 = []\n",
    "for 레코드 in 테이블:\n",
    "    속성들 = 레코드.find_elements_by_tag_name('th')\n",
    "    내용들 = 레코드.find_elements_by_tag_name('td')\n",
    "    for 속성, 내용 in zip(속성들, 내용들):\n",
    "        속성 = 속성.get_attribute('innerHTML')\n",
    "        내용 = 내용.get_attribute('innerHTML')\n",
    "        수입이력정보.append([속성, 내용])"
   ]
  },
  {
   "cell_type": "code",
   "execution_count": 52,
   "metadata": {},
   "outputs": [
    {
     "name": "stdout",
     "output_type": "stream",
     "text": [
      "냉동전환정보 없음\n"
     ]
    }
   ],
   "source": [
    "# 냉동전환정보는 없을 수도 있음\n",
    "try:\n",
    "    냉동전환정보 = driver.find_element_by_xpath(\"//div[@class='grid1']\")\n",
    "    컬럼명 = 냉동전환정보.find_element_by_tag_name('thead').find_elements_by_tag_name('th')\n",
    "\n",
    "    총정보 = []\n",
    "    컬럼정보 = []\n",
    "    for 컬럼 in 컬럼명:\n",
    "        컬럼정보.append(컬럼.text.replace('\\n',' '))\n",
    "    총정보.append(컬럼정보)\n",
    "\n",
    "    데이터 = 냉동전환정보.find_element_by_tag_name('tbody').find_elements_by_tag_name('tr')\n",
    "    for 레코드 in 데이터:\n",
    "        임시 = []\n",
    "        필드 = 레코드.find_elements_by_tag_name('td')\n",
    "        for 컬럼 in 필드:\n",
    "            임시.append(컬럼.text)\n",
    "        총정보.append(임시)\n",
    "except NoSuchElementException:\n",
    "    print('냉동전환정보 없음')"
   ]
  },
  {
   "cell_type": "code",
   "execution_count": 53,
   "metadata": {},
   "outputs": [
    {
     "data": {
      "text/plain": [
       "[['이력번호', '804002013266'], ['선하증권번호', 'MAEU575151254'], ['수입쇠고기 품목명', '냉동쇠고기']]"
      ]
     },
     "execution_count": 53,
     "metadata": {},
     "output_type": "execute_result"
    }
   ],
   "source": [
    "기본정보"
   ]
  },
  {
   "cell_type": "code",
   "execution_count": 54,
   "metadata": {},
   "outputs": [
    {
     "data": {
      "text/plain": [
       "[['원산지 국가', '뉴질랜드']]"
      ]
     },
     "execution_count": 54,
     "metadata": {},
     "output_type": "execute_result"
    }
   ],
   "source": [
    "원산지정보"
   ]
  },
  {
   "cell_type": "code",
   "execution_count": 55,
   "metadata": {},
   "outputs": [
    {
     "data": {
      "text/plain": [
       "[['수출국 도축장', 'SILVER FERN FARMS LIMITED-FINEGAND'],\n",
       " ['수출국 도축일자', '2017-10-31 ~ 2018-03-05'],\n",
       " ['수출국 가공장', 'SILVER FERN FARMS LIMITED-FINEGAND'],\n",
       " ['수출국 가공일자', '2017-11-01 ~ 2018-03-06'],\n",
       " ['수출업체', 'SILVER FERN FARMS BEEF LIMITED'],\n",
       " ['수입업체', '(주)유명푸드'],\n",
       " ['수입일자', '2018-04-13'],\n",
       " ['부위명(코드)', '갈비(BF010)']]"
      ]
     },
     "execution_count": 55,
     "metadata": {},
     "output_type": "execute_result"
    }
   ],
   "source": [
    "수입이력정보"
   ]
  }
 ],
 "metadata": {
  "kernelspec": {
   "display_name": "Python 3",
   "language": "python",
   "name": "python3"
  },
  "language_info": {
   "codemirror_mode": {
    "name": "ipython",
    "version": 3
   },
   "file_extension": ".py",
   "mimetype": "text/x-python",
   "name": "python",
   "nbconvert_exporter": "python",
   "pygments_lexer": "ipython3",
   "version": "3.6.5"
  }
 },
 "nbformat": 4,
 "nbformat_minor": 2
}
