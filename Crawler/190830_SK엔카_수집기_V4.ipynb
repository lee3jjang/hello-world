{
 "cells": [
  {
   "cell_type": "code",
   "execution_count": 1,
   "metadata": {},
   "outputs": [],
   "source": [
    "import pandas as pd\n",
    "#import numpy as np\n",
    "import os\n",
    "#import sys\n",
    "#import matplotlib.pyplot as plt\n",
    "#import matplotlib\n",
    "from selenium import webdriver\n",
    "# from selenium.webdriver.support.ui import Select\n",
    "# from selenium.webdriver.common.by import By\n",
    "# from selenium.webdriver.support.ui import WebDriverWait\n",
    "# from selenium.webdriver.support import expected_conditions as EC\n",
    "import random\n",
    "import time\n",
    "from datetime import datetime"
   ]
  },
  {
   "cell_type": "markdown",
   "metadata": {},
   "source": [
    "#### 0. 환경설정"
   ]
  },
  {
   "cell_type": "code",
   "execution_count": 16,
   "metadata": {},
   "outputs": [],
   "source": [
    "delay = 1.5   # 딜레이 시간"
   ]
  },
  {
   "cell_type": "markdown",
   "metadata": {},
   "source": [
    "#### 1. 초기화"
   ]
  },
  {
   "cell_type": "code",
   "execution_count": 2,
   "metadata": {},
   "outputs": [],
   "source": [
    "driver = webdriver.Chrome('chromedriver')"
   ]
  },
  {
   "cell_type": "code",
   "execution_count": 3,
   "metadata": {},
   "outputs": [],
   "source": [
    "# result 폴더 생성\n",
    "if not any([s == 'result' for s in os.listdir('.')]):\n",
    "    os.mkdir('result')\n",
    "    \n",
    "# source 폴더 생성\n",
    "if not any([s == 'source' for s in os.listdir('.')]):\n",
    "    os.mkdir('source')"
   ]
  },
  {
   "cell_type": "code",
   "execution_count": 15,
   "metadata": {},
   "outputs": [],
   "source": [
    "# 접속하기\n",
    "url = 'http://www.encar.com/ev/ev_carsearchlist.do?carType=ev&searchType=model&TG.R=D#!%7B%22action%22%3A%22(And.Hidden.N._.CarType.A._.FuelType.%EC%A0%84%EA%B8%B0._.(C.GreenType.Y._.EvType.%EC%A0%84%EA%B8%B0%EC%B0%A8.))%22%2C%22toggle%22%3A%7B%7D%2C%22layer%22%3A%22%22%2C%22sort%22%3A%22ModifiedDate%22%2C%22page%22%3A1%2C%22limit%22%3A%2250%22%7D'\n",
    "driver.get(url)\n",
    "\n",
    "# [20개씩 보기] → [50개씩 보기]로 변환\n",
    "viewer = Select(driver.find_element_by_css_selector('select#pagerow'))\n",
    "viewer.select_by_value('50')\n",
    "time.sleep(delay)\n",
    "\n",
    "# 데이터 url 수집\n",
    "batch = []\n",
    "page = 1\n",
    "while(True):\n",
    "    try:\n",
    "        driver.find_element_by_css_selector('div#pagination').find_element_by_xpath('//a[@data-page=\"{}\"]'.format(page)).click()\n",
    "    except:\n",
    "        break\n",
    "    time.sleep(delay)\n",
    "    \n",
    "    rows = driver.find_element_by_css_selector('tbody#sr_normal').find_elements_by_tag_name('tr')\n",
    "    for row in rows:\n",
    "        car_url = row.find_element_by_css_selector('td.inf > a').get_attribute('href')\n",
    "        batch.append(car_url)\n",
    "    page += 1\n",
    "\n",
    "# url 저장\n",
    "now = datetime.now().strftime('%Y%m%d%H%M%S')\n",
    "\n",
    "# 결과 저장하기\n",
    "df = pd.DataFrame(batch)\n",
    "writer = pd.ExcelWriter('./result/car_url_{}.xlsx'.format(now), 'xlsxwriter')\n",
    "df.to_excel(writer, index=False)\n",
    "writer.save()\n",
    "writer.close()"
   ]
  },
  {
   "cell_type": "markdown",
   "metadata": {},
   "source": [
    "#### 2. page 저장하기"
   ]
  },
  {
   "cell_type": "code",
   "execution_count": 4,
   "metadata": {},
   "outputs": [],
   "source": [
    "# URL 데이터 불러오기\n",
    "df = pd.read_excel('./result/car_url_20190903162242.xlsx')\n",
    "\n",
    "# 데이터 저장하기\n",
    "for i, url in df.iterrows():\n",
    "    driver.get(url[0])\n",
    "    time.sleep(2 + 3*random.random())\n",
    "    with open('./source/car_{}.html'.format(i+1), 'w', -1, encoding='utf-8') as f:\n",
    "        f.write(driver.page_source)"
   ]
  }
 ],
 "metadata": {
  "kernelspec": {
   "display_name": "Python 3",
   "language": "python",
   "name": "python3"
  },
  "language_info": {
   "codemirror_mode": {
    "name": "ipython",
    "version": 3
   },
   "file_extension": ".py",
   "mimetype": "text/x-python",
   "name": "python",
   "nbconvert_exporter": "python",
   "pygments_lexer": "ipython3",
   "version": "3.7.0"
  }
 },
 "nbformat": 4,
 "nbformat_minor": 4
}
