{
 "cells": [
  {
   "cell_type": "code",
   "execution_count": 1,
   "metadata": {},
   "outputs": [],
   "source": [
    "import pandas as pd\n",
    "#import numpy as np\n",
    "import os\n",
    "#import sys\n",
    "#import matplotlib.pyplot as plt\n",
    "#import matplotlib\n",
    "from selenium import webdriver\n",
    "# from selenium.webdriver.support.ui import Select\n",
    "# from selenium.webdriver.common.by import By\n",
    "# from selenium.webdriver.support.ui import WebDriverWait\n",
    "# from selenium.webdriver.support import expected_conditions as EC\n",
    "import random\n",
    "import time\n",
    "from datetime import datetime"
   ]
  },
  {
   "cell_type": "markdown",
   "metadata": {},
   "source": [
    "#### 0. 환경설정"
   ]
  },
  {
   "cell_type": "code",
   "execution_count": 16,
   "metadata": {},
   "outputs": [],
   "source": [
    "delay = 1.5   # 딜레이 시간"
   ]
  },
  {
   "cell_type": "markdown",
   "metadata": {},
   "source": [
    "#### 1. 초기화"
   ]
  },
  {
   "cell_type": "code",
   "execution_count": 2,
   "metadata": {},
   "outputs": [],
   "source": [
    "driver = webdriver.Chrome('chromedriver')"
   ]
  },
  {
   "cell_type": "code",
   "execution_count": 3,
   "metadata": {},
   "outputs": [],
   "source": [
    "# result 폴더 생성\n",
    "if not any([s == 'result' for s in os.listdir('.')]):\n",
    "    os.mkdir('result')\n",
    "    \n",
    "# source 폴더 생성\n",
    "if not any([s == 'source' for s in os.listdir('.')]):\n",
    "    os.mkdir('source')"
   ]
  },
  {
   "cell_type": "code",
   "execution_count": 15,
   "metadata": {},
   "outputs": [],
   "source": [
    "# 접속하기\n",
    "url = 'http://www.encar.com/ev/ev_carsearchlist.do?carType=ev&searchType=model&TG.R=D#!%7B%22action%22%3A%22(And.Hidden.N._.CarType.A._.FuelType.%EC%A0%84%EA%B8%B0._.(C.GreenType.Y._.EvType.%EC%A0%84%EA%B8%B0%EC%B0%A8.))%22%2C%22toggle%22%3A%7B%7D%2C%22layer%22%3A%22%22%2C%22sort%22%3A%22ModifiedDate%22%2C%22page%22%3A1%2C%22limit%22%3A%2250%22%7D'\n",
    "driver.get(url)\n",
    "\n",
    "# [20개씩 보기] → [50개씩 보기]로 변환\n",
    "viewer = Select(driver.find_element_by_css_selector('select#pagerow'))\n",
    "viewer.select_by_value('50')\n",
    "time.sleep(delay)\n",
    "\n",
    "# 데이터 url 수집\n",
    "batch = []\n",
    "page = 1\n",
    "while(True):\n",
    "    try:\n",
    "        driver.find_element_by_css_selector('div#pagination').find_element_by_xpath('//a[@data-page=\"{}\"]'.format(page)).click()\n",
    "    except:\n",
    "        break\n",
    "    time.sleep(delay)\n",
    "    \n",
    "    rows = driver.find_element_by_css_selector('tbody#sr_normal').find_elements_by_tag_name('tr')\n",
    "    for row in rows:\n",
    "        car_url = row.find_element_by_css_selector('td.inf > a').get_attribute('href')\n",
    "        batch.append(car_url)\n",
    "    page += 1\n",
    "\n",
    "# url 저장\n",
    "now = datetime.now().strftime('%Y%m%d%H%M%S')\n",
    "\n",
    "# 결과 저장하기\n",
    "df = pd.DataFrame(batch)\n",
    "writer = pd.ExcelWriter('./result/car_url_{}.xlsx'.format(now), 'xlsxwriter')\n",
    "df.to_excel(writer, index=False)\n",
    "writer.save()\n",
    "writer.close()"
   ]
  },
  {
   "cell_type": "markdown",
   "metadata": {},
   "source": [
    "#### 2. page 저장하기"
   ]
  },
  {
   "cell_type": "code",
   "execution_count": 4,
   "metadata": {},
   "outputs": [],
   "source": [
    "# URL 데이터 불러오기\n",
    "df = pd.read_excel('./result/car_url_20190903162242.xlsx')\n",
    "\n",
    "# 데이터 저장하기\n",
    "for i, url in df.iterrows():\n",
    "    driver.get(url[0])\n",
    "    time.sleep(2 + 3*random.random())\n",
    "    with open('./source/car_{}.html'.format(i+1), 'w', -1, encoding='utf-8') as f:\n",
    "        f.write(driver.page_source)"
   ]
  },
  {
   "cell_type": "markdown",
   "metadata": {},
   "source": [
    "#### 3. page에서 데이터 추출하기"
   ]
  },
  {
   "cell_type": "code",
   "execution_count": 7,
   "metadata": {},
   "outputs": [],
   "source": [
    "from bs4 import BeautifulSoup"
   ]
  },
  {
   "cell_type": "code",
   "execution_count": 5,
   "metadata": {},
   "outputs": [],
   "source": [
    "with open('./source/car_1.html', 'r', encoding='utf-8') as f:\n",
    "    html = f.read()"
   ]
  },
  {
   "cell_type": "code",
   "execution_count": 145,
   "metadata": {},
   "outputs": [
    {
     "data": {
      "text/plain": [
       "{'브랜드': '기아 쏘울 EV',\n",
       " '디테일': '  EV ',\n",
       " '주행거리': '29,000Km',\n",
       " '연식': '16년11월식(17년형)',\n",
       " '연료': '전기',\n",
       " '차종': '준중형차',\n",
       " '배기량': '75cc',\n",
       " '변속기': '오토',\n",
       " '색상': '흰색투톤',\n",
       " '차량번호': '48저7664',\n",
       " '가격': '1,630만원',\n",
       " '등록번호': '25345659',\n",
       " '조회수': '101',\n",
       " '찜': '0',\n",
       " '핫마크': ['hot09', 'hot26', 'hot29']}"
      ]
     },
     "execution_count": 145,
     "metadata": {},
     "output_type": "execute_result"
    }
   ],
   "source": [
    "soup = BeautifulSoup(html[html.find('<div id=\"areaBase\"'):html.find('<div class=\"product_detail\"')])\n",
    "result = {}\n",
    "result['브랜드'] = soup.select('div.product_left > div.area_info > h1.prod_name > span.brand')[0].text\n",
    "result['디테일'] = soup.select('div.product_left > div.area_info > h1.prod_name > span.detail')[0].text\n",
    "prod_infomain_list = soup.select('div.product_left > div.area_info > div.prod_infomain > ul > li')\n",
    "prod_infomain = {}\n",
    "for p in prod_infomain_list:\n",
    "    key = p.select('span.blind')[0].text.replace(':', '')\n",
    "    value = p.text.replace(' ', '').replace('\\n', '').replace('자세히보기', '').replace(p.select('span.blind')[0].text, '')\n",
    "    prod_infomain[key] = value\n",
    "result.update(prod_infomain)\n",
    "result['가격'] = soup.select('div.product_left > div.area_info > div.prod_price > span.num')[0].text\n",
    "result['등록번호'] = soup.select('div.product_left > div.area_info2nd > div.prod_infoetc > ul.reg > li')[0].text.replace('등록번호', '').replace('\\n', '').replace('자세히보기', '').replace(' ', '')\n",
    "result['조회수'] = soup.select('div.product_left > div.area_info2nd > div.prod_infoetc > ul.reg > li')[1].text.replace('조회수', '').replace('\\n', '').replace('자세히보기', '').replace(' ', '')\n",
    "result['찜'] = soup.select('div.product_left > div.area_info2nd > div.prod_infoetc > ul.reg > li')[2].text.replace('찜', '').replace('\\n', '').replace('자세히보기', '').replace(' ', '')\n",
    "result['핫마크'] = list(map(lambda x: x.text, soup.select('div.product_left > div.area_info2nd > div.prod_addon > span')))\n",
    "result"
   ]
  },
  {
   "cell_type": "code",
   "execution_count": 206,
   "metadata": {},
   "outputs": [
    {
     "name": "stdout",
     "output_type": "stream",
     "text": [
      "전동접이사이드미러\n",
      "알루미늄휠\n",
      "열선스티어링휠\n",
      "스티어링휠리모컨\n",
      "ECM룸미러\n",
      "하이패스\n",
      "파워도어록\n",
      "파워스티어링휠\n",
      "파워윈도우\n",
      "에어백(운전석,동승석)\n",
      "에어백(사이드)\n",
      "에어백(커튼)\n",
      "브레이크잠김방지(ABS)\n",
      "미끄럼방지(TCS)\n",
      "차체자세제어장치(ESC)\n",
      "타이어공기압센서(TPMS)\n",
      "주차감지센서(전방,후방)\n",
      "후방카메라\n",
      "크루즈컨트롤(일반)\n",
      "전자식주차브레이크(EPB)\n",
      "자동에어컨\n",
      "스마트키\n",
      "무선도어잠금장치\n",
      "레인센서\n",
      "오토라이트\n",
      "내비게이션\n",
      "앞좌석AV모니터\n",
      "블루투스\n",
      "USB단자\n",
      "AUX단자\n",
      "가죽시트\n",
      "열선시트(앞좌석,뒷좌석)\n",
      "통풍시트(운전석,동승석)\n",
      "버튼시동키,\n"
     ]
    }
   ],
   "source": [
    "soup = BeautifulSoup(html[html.find('<div class=\"product_detail\"'):html.find('<div><div id=\"ad_btm\">')])\n",
    "option_classes = soup.select('div#areaOption > div.box_opt > div.con.option_hover')\n",
    "option_effective = []\n",
    "for option_class in option_classes:\n",
    "    options = option_class.select('dl > dd.on')\n",
    "    for option in options:\n",
    "        try:\n",
    "        #option_effective.append()\n",
    "            print(option.select('a')[0].text.replace('\\n', '').replace(' ', ''))\n",
    "        except:\n",
    "            print(option.select('p')[0].text.replace('\\n', '').replace(' ', ''))"
   ]
  }
 ],
 "metadata": {
  "kernelspec": {
   "display_name": "Python 3",
   "language": "python",
   "name": "python3"
  },
  "language_info": {
   "codemirror_mode": {
    "name": "ipython",
    "version": 3
   },
   "file_extension": ".py",
   "mimetype": "text/x-python",
   "name": "python",
   "nbconvert_exporter": "python",
   "pygments_lexer": "ipython3",
   "version": "3.7.0"
  }
 },
 "nbformat": 4,
 "nbformat_minor": 4
}
