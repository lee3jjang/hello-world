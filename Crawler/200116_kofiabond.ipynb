{
 "cells": [
  {
   "cell_type": "code",
   "execution_count": 1,
   "metadata": {},
   "outputs": [],
   "source": [
    "import os\n",
    "import time\n",
    "import pandas as pd\n",
    "from datetime import datetime\n",
    "from selenium import webdriver\n",
    "from selenium.webdriver.common.keys import Keys\n",
    "from selenium.webdriver.support.ui import Select\n",
    "from selenium.webdriver.chrome.options import Options"
   ]
  },
  {
   "cell_type": "code",
   "execution_count": 2,
   "metadata": {},
   "outputs": [],
   "source": [
    "start_date = '20160101'\n",
    "end_date = '20191231'\n",
    "maturities = ['3월', '6월', '9월', '1년', '1년6월', '2년', '2년6월', '3년', '4년', '5년', '7년', '10년', '15년', '20년', '30년']"
   ]
  },
  {
   "cell_type": "code",
   "execution_count": 3,
   "metadata": {},
   "outputs": [],
   "source": [
    "if not any([s=='data' for s in os.listdir('.')]):\n",
    "    os.mkdir('data')\n",
    "now = datetime.now().strftime('%Y%m%d%H%M%S')\n",
    "os.mkdir('./data/' + now)\n",
    "downloads = os.path.abspath(os.curdir) + '\\\\data\\\\{}'.format(now)\n",
    "\n",
    "chrome_options = Options()\n",
    "chrome_options.add_experimental_option(\"prefs\", {\n",
    "  \"download.default_directory\": downloads,\n",
    "  \"download.prompt_for_download\": False,\n",
    "  \"download.directory_upgrade\": True,\n",
    "  \"safebrowsing.enabled\": True,\n",
    "  'profile.default_content_setting_values.automatic_downloads': 1\n",
    "})\n",
    "driver = webdriver.Chrome('chromedriver', options=chrome_options)"
   ]
  },
  {
   "cell_type": "code",
   "execution_count": null,
   "metadata": {},
   "outputs": [],
   "source": [
    "url = 'http://www.kofiabond.or.kr'\n",
    "driver.get(url)\n",
    "driver.switch_to.frame(driver.find_element_by_xpath('//frame[@name=\"fraAMAKMain\"]'))\n",
    "driver.find_element_by_id('group26').click()\n",
    "driver.implicitly_wait(10)\n",
    "driver.switch_to.frame(driver.find_element_by_id('maincontent'))\n",
    "driver.find_element_by_id('tabContents1_tab_tabs2').click()\n",
    "driver.implicitly_wait(10)\n",
    "\n",
    "driver.switch_to.frame(driver.find_element_by_id('tabContents1_contents_tabs2_body'))\n",
    "driver.find_element_by_id('schSstandardDt_input').click()\n",
    "for _ in range(4):\n",
    "    driver.find_element_by_id('schSstandardDt_input').send_keys(Keys.BACK_SPACE)\n",
    "    driver.find_element_by_id('schSstandardDt_input').send_keys(Keys.DELETE)\n",
    "driver.find_element_by_id('schSstandardDt_input').send_keys(start_date)\n",
    "driver.find_element_by_id('schEstandardDt_input').click()\n",
    "for _ in range(4):\n",
    "    driver.find_element_by_id('schEstandardDt_input').send_keys(Keys.BACK_SPACE)\n",
    "    driver.find_element_by_id('schEstandardDt_input').send_keys(Keys.DELETE)\n",
    "driver.find_element_by_id('schEstandardDt_input').send_keys(end_date)\n",
    "\n",
    "\n",
    "for i in range(len(maturities)):\n",
    "    Select(driver.find_element_by_id('selectBndTyp{}_input_0'.format(i%4+1))).select_by_visible_text('국채/국고채권/양곡,외평,재정')\n",
    "    Select(driver.find_element_by_id('selectTrm{}_input_0'.format(i%4+1))).select_by_visible_text(maturities[i])\n",
    "    if i%4==3 or i==len(maturities)-1:\n",
    "        driver.execute_script('searchData()')\n",
    "        while True:\n",
    "            time.sleep(5)\n",
    "            if driver.find_element_by_id('___commonProcessbar2').get_attribute('tabindex') == '-1':\n",
    "                break\n",
    "        driver.execute_script('excelDownLoad()')\n",
    "        for j in range(4):\n",
    "            Select(driver.find_element_by_id('selectBndTyp{}_input_0'.format(j+1))).select_by_visible_text('--선택--')\n",
    "            Select(driver.find_element_by_id('selectTrm{}_input_0'.format(j+1))).select_by_visible_text('--선택--')"
   ]
  },
  {
   "cell_type": "code",
   "execution_count": null,
   "metadata": {},
   "outputs": [],
   "source": [
    "files = [f for f in  os.listdir(downloads) if f[-3:]=='xls']\n",
    "data_by_file_stack = []\n",
    "for file in files:\n",
    "    data = pd.read_excel(\"{}/{}\".format(downloads, file))\n",
    "    data = data.loc[:, data.iloc[1] != '금투협']\n",
    "    data.columns = data.iloc[1]\n",
    "    dates = data.iloc[2:, 0]\n",
    "    num_maturity = (data.shape[1]-1)//5\n",
    "    maturity = []\n",
    "    for i in range(num_maturity):\n",
    "        maturity.append(data.iloc[0, 1+5*i])\n",
    "    data = data.iloc[2:, 1:]\n",
    "    data_by_maturity_stack = []\n",
    "    for i in range(num_maturity):\n",
    "        data_by_maturity = data.iloc[:, 5*i:5*(i+1)]\n",
    "        data_by_maturity.insert(0, 'maturity', maturity[i])\n",
    "        data_by_maturity.insert(0, 'base_date', dates)\n",
    "        data_by_maturity_stack.append(data_by_maturity)\n",
    "    data_by_file = pd.concat(data_by_maturity_stack)\n",
    "    data_by_file_stack.append(data_by_file)\n",
    "data_all_file = pd.concat(data_by_file_stack)\n",
    "data_all_file = data_all_file.melt(id_vars=['base_date', 'maturity'], var_name='agency', value_name='yield')\n",
    "data_all_file = data_all_file.loc[data_all_file['yield'] != \"-\"].reset_index(drop=True)\n",
    "data_all_file['base_date'] = data_all_file['base_date'].str.replace('/', '')\n",
    "data_all_file['maturity'] = data_all_file['maturity'].apply(lambda x: {'3월': 0.25, '6월': 0.5, '9월': 0.75, '1년': 1., '1년6월': 1.5, '2년': 2., '2년6월': 2.5, '3년': 3., '4년': 4., '5년': 5., '7년': 7., '10년': 10., '15년': 15., '20년': 20., '30년': 30.}.get(x))\n",
    "data_all_file['yield'] = data_all_file['yield'].astype(float)\n",
    "data_all_file.insert(4, 'collection_datetime', now)"
   ]
  },
  {
   "cell_type": "code",
   "execution_count": null,
   "metadata": {},
   "outputs": [],
   "source": [
    "if not any([s=='result' for s in os.listdir('.')]):\n",
    "    os.mkdir('result')\n",
    "with pd.ExcelWriter('./result/채권시가평가기준수익률_{}.xlsx'.format(now), 'xlsxwriter') as writer:\n",
    "    data_all_file.to_excel(writer, index=False)"
   ]
  }
 ],
 "metadata": {
  "kernelspec": {
   "display_name": "Python 3",
   "language": "python",
   "name": "python3"
  },
  "language_info": {
   "codemirror_mode": {
    "name": "ipython",
    "version": 3
   },
   "file_extension": ".py",
   "mimetype": "text/x-python",
   "name": "python",
   "nbconvert_exporter": "python",
   "pygments_lexer": "ipython3",
   "version": "3.7.4"
  }
 },
 "nbformat": 4,
 "nbformat_minor": 4
}
