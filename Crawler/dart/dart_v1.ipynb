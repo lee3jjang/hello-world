{
 "cells": [
  {
   "cell_type": "code",
   "execution_count": 1,
   "metadata": {},
   "outputs": [],
   "source": [
    "import pandas as pd\n",
    "from selenium import webdriver"
   ]
  },
  {
   "cell_type": "code",
   "execution_count": 2,
   "metadata": {},
   "outputs": [],
   "source": [
    "driver = webdriver.Chrome('chromedriver')"
   ]
  },
  {
   "cell_type": "code",
   "execution_count": 184,
   "metadata": {},
   "outputs": [],
   "source": [
    "# 사업보고서 접근경로\n",
    "감사보고서_경로 = [\n",
    "    ['2018', 'http://dart.fss.or.kr/dsaf001/main.do?rcpNo=20190401002294&dcmNo=6604769'],\n",
    "    ['2017', 'http://dart.fss.or.kr/dsaf001/main.do?rcpNo=20180330003863&dcmNo=6042097'],\n",
    "    ['2016', 'http://dart.fss.or.kr/dsaf001/main.do?rcpNo=20170331002110&dcmNo=5529376'],\n",
    "    ['2015', 'http://dart.fss.or.kr/dsaf001/main.do?rcpNo=20160330002537&dcmNo=5021094'],\n",
    "    ['2014', 'http://dart.fss.or.kr/dsaf001/main.do?rcpNo=20150320000348&dcmNo=4522222'],\n",
    "    ['2013', 'http://dart.fss.or.kr/dsaf001/main.do?rcpNo=20140331002583&dcmNo=4115526'],\n",
    "]\n",
    "\n",
    "감사보고서_경로 = pd.DataFrame(감사보고서_경로, columns=['기준년도', 'URL'])"
   ]
  },
  {
   "cell_type": "code",
   "execution_count": 207,
   "metadata": {},
   "outputs": [],
   "source": [
    "재무상태표_집계 = []\n",
    "손익계산서_집계 = []\n",
    "현금흐름표_집계 = []\n",
    "\n",
    "# 감사보고서 접근\n",
    "for k in range(감사보고서_경로.shape[0]):\n",
    "    # 설정\n",
    "    기준년도 = 감사보고서_경로['기준년도'][k]\n",
    "    url = 감사보고서_경로['URL'][k]\n",
    "    driver.get(url)\n",
    "\n",
    "    # 재무제표 접근\n",
    "    driver.find_element_by_xpath(\"//span[contains(text(), '재 무 제 표')]\").click()\n",
    "    url2 = driver.find_element_by_id('ifrm').get_attribute('src')\n",
    "    driver.get(url2)\n",
    "\n",
    "    \n",
    "    # 재무상태표 접근\n",
    "    text = '재 무 상 태 표'\n",
    "    재무상태표 = driver.find_element_by_xpath(\"//span[contains(text(), '{}')]/parent::p/following-sibling::table/following-sibling::table\".format(text))\n",
    "    재무상태표_데이터 = pd.read_html(재무상태표.get_attribute('outerHTML'))[0]\n",
    "\n",
    "    # 손익계산서 접근\n",
    "    text = '포 괄 손 익 계 산 서'\n",
    "    손익계산서 = driver.find_element_by_xpath(\"//span[contains(text(), '{}')]/parent::p/following-sibling::table/following-sibling::table\".format(text))\n",
    "    손익계산서_데이터 = pd.read_html(손익계산서.get_attribute('outerHTML'))[0]\n",
    "\n",
    "    # 자본변동표 접근\n",
    "    #text = '자 본 변 동 표'\n",
    "    #자본변동표 = driver.find_element_by_xpath(\"//span[contains(text(), '{}')]/parent::p/following-sibling::table/following-sibling::table\".format(text))\n",
    "    #자본변동표_데이터 = pd.read_html(자본변동표.get_attribute('outerHTML'))[0]\n",
    "\n",
    "    # 현금흐름표 접근\n",
    "    text = '현 금 흐 름 표'\n",
    "    현금흐름표 = driver.find_element_by_xpath(\"//span[contains(text(), '{}')]/parent::p/following-sibling::table/following-sibling::table\".format(text))\n",
    "    현금흐름표_데이터 = pd.read_html(현금흐름표.get_attribute('outerHTML'))[0]\n",
    "\n",
    "\n",
    "    # 재무상태표 가공\n",
    "    재무상태표_가공 = 재무상태표_데이터.drop('주석', axis=1)\n",
    "    재무상태표_가공 = 재무상태표_가공.replace('-', '0')\n",
    "    for i in range(1, 5):\n",
    "        재무상태표_가공.iloc[:, i] = 재무상태표_가공.iloc[:, i].astype(str).str.replace('(', '-').str.replace(')', '').str.replace(',', '')\n",
    "    재무상태표_가공.iloc[:, 1:] = 재무상태표_가공.iloc[:, 1:].astype(float)\n",
    "    재무상태표_가공.columns = ['과 목', '당기', '당기2', '전기', '전기2']\n",
    "    재무상태표_가공.insert(0, '분류', '재무상태표')\n",
    "    재무상태표_가공.insert(0, '기준년도', 기준년도)\n",
    "\n",
    "    # 손익계산서 가공\n",
    "    손익계산서_가공 = 손익계산서_데이터.drop('주석', axis=1)\n",
    "    손익계산서_가공 = 손익계산서_가공.replace('-', '0')\n",
    "    for i in range(1, 5):\n",
    "        손익계산서_가공.iloc[:, i] = 손익계산서_가공.iloc[:, i].astype(str).str.replace('(', '-').str.replace(')', '').str.replace(',', '')\n",
    "    손익계산서_가공.iloc[:, 1:] = 손익계산서_가공.iloc[:, 1:].astype(float)\n",
    "    손익계산서_가공.columns = ['과 목', '당기', '당기2', '전기', '전기2']\n",
    "    손익계산서_가공.insert(0, '분류', '손익계산서')\n",
    "    손익계산서_가공.insert(0, '기준년도', 기준년도)\n",
    "\n",
    "    # 자본변동표 가공\n",
    "    #자본변동표_가공 = 자본변동표_데이터.copy()\n",
    "    #for i in range(1, 8):\n",
    "    #    자본변동표_가공.iloc[:, i] = 자본변동표_가공.iloc[:, i].astype(str).str.replace('-', '0').str.replace('(', '-').str.replace(')', '').str.replace(',', '')\n",
    "    #자본변동표_가공.iloc[:, 1:] = 자본변동표_가공.iloc[:, 1:].astype(float)\n",
    "    #자본변동표_가공.columns = 자본변동표_가공.columns.levels[1][자본변동표_가공.columns.codes[1]]\n",
    "\n",
    "    # 현금흐름표 가공\n",
    "    현금흐름표_가공 = 현금흐름표_데이터.copy()\n",
    "    현금흐름표_가공 = 현금흐름표_가공.replace('-', '0')\n",
    "    for i in range(1, 5):\n",
    "        현금흐름표_가공.iloc[:, i] = 현금흐름표_가공.iloc[:, i].astype(str).str.replace('(', '-').str.replace(')', '').str.replace(',', '')\n",
    "    현금흐름표_가공.iloc[:, 1:] = 현금흐름표_가공.iloc[:, 1:].astype(float)\n",
    "    현금흐름표_가공.columns = ['과 목', '당기', '당기2', '전기', '전기2']\n",
    "    현금흐름표_가공.insert(0, '분류', '현금흐름표')\n",
    "    현금흐름표_가공.insert(0, '기준년도', 기준년도)\n",
    "    \n",
    "    # 적재\n",
    "    재무상태표_집계.append(재무상태표_가공)\n",
    "    손익계산서_집계.append(손익계산서_가공)\n",
    "    현금흐름표_집계.append(현금흐름표_가공)\n",
    "    \n",
    "재무상태표_집계 = pd.concat(재무상태표_집계)\n",
    "손익계산서_집계 = pd.concat(손익계산서_집계)\n",
    "현금흐름표_집계 = pd.concat(현금흐름표_집계)\n",
    "재무제표_집계 = pd.concat([재무상태표_집계, 손익계산서_집계, 현금흐름표_집계])"
   ]
  },
  {
   "cell_type": "code",
   "execution_count": 211,
   "metadata": {},
   "outputs": [],
   "source": [
    "writer = pd.ExcelWriter('dart.xlsx', 'xlsxwriter')\n",
    "재무제표_집계.to_excel(writer, index=False)\n",
    "writer.save()\n",
    "writer.close()"
   ]
  }
 ],
 "metadata": {
  "kernelspec": {
   "display_name": "Python 3",
   "language": "python",
   "name": "python3"
  },
  "language_info": {
   "codemirror_mode": {
    "name": "ipython",
    "version": 3
   },
   "file_extension": ".py",
   "mimetype": "text/x-python",
   "name": "python",
   "nbconvert_exporter": "python",
   "pygments_lexer": "ipython3",
   "version": "3.7.3"
  }
 },
 "nbformat": 4,
 "nbformat_minor": 2
}
