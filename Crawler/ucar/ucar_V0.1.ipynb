{
 "cells": [
  {
   "cell_type": "code",
   "execution_count": 1,
   "metadata": {},
   "outputs": [],
   "source": [
    "import time\n",
    "import pandas as pd\n",
    "from selenium import webdriver"
   ]
  },
  {
   "cell_type": "code",
   "execution_count": 2,
   "metadata": {},
   "outputs": [],
   "source": [
    "driver = webdriver.Chrome('chromedriver')"
   ]
  },
  {
   "cell_type": "code",
   "execution_count": 3,
   "metadata": {},
   "outputs": [],
   "source": [
    "url = 'http://ucar.co.kr/html/all_vehicles/list.asp'\n",
    "driver.get(url)"
   ]
  },
  {
   "cell_type": "code",
   "execution_count": 4,
   "metadata": {},
   "outputs": [],
   "source": [
    "데이터 = []"
   ]
  },
  {
   "cell_type": "code",
   "execution_count": 5,
   "metadata": {},
   "outputs": [
    {
     "name": "stdout",
     "output_type": "stream",
     "text": [
      "페이지 이동 성공(page=1)\n",
      "데이터 수집 성공(page=1)\n",
      "페이지 이동 성공(page=2)\n",
      "데이터 수집 성공(page=2)\n",
      "페이지 이동 성공(page=3)\n",
      "데이터 수집 성공(page=3)\n",
      "페이지 이동 성공(page=4)\n",
      "데이터 수집 성공(page=4)\n",
      "페이지 이동 성공(page=5)\n",
      "데이터 수집 성공(page=5)\n",
      "페이지 이동 성공(page=6)\n",
      "데이터 수집 성공(page=6)\n",
      "페이지 이동 성공(page=7)\n",
      "데이터 수집 성공(page=7)\n",
      "페이지 이동 성공(page=8)\n",
      "데이터 수집 성공(page=8)\n",
      "페이지 이동 성공(page=9)\n",
      "데이터 수집 성공(page=9)\n",
      "페이지 이동 성공(page=10)\n",
      "데이터 수집 성공(page=10)\n",
      "페이지 이동 성공(page=11)\n",
      "데이터 수집 성공(page=11)\n",
      "페이지 이동 성공(page=12)\n",
      "데이터 수집 성공(page=12)\n",
      "페이지 이동 성공(page=13)\n",
      "데이터 수집 성공(page=13)\n",
      "페이지 이동 성공(page=14)\n",
      "데이터 수집 성공(page=14)\n",
      "페이지 이동 성공(page=15)\n",
      "데이터 수집 성공(page=15)\n",
      "페이지 이동 성공(page=16)\n",
      "데이터 수집 성공(page=16)\n",
      "페이지 이동 성공(page=17)\n",
      "데이터 수집 성공(page=17)\n",
      "페이지 이동 성공(page=18)\n",
      "데이터 수집 성공(page=18)\n",
      "페이지 이동 성공(page=19)\n",
      "데이터 수집 성공(page=19)\n",
      "페이지 이동 성공(page=20)\n",
      "데이터 수집 성공(page=20)\n",
      "페이지 이동 성공(page=21)\n",
      "데이터 수집 성공(page=21)\n",
      "페이지 이동 성공(page=22)\n",
      "데이터 수집 성공(page=22)\n",
      "페이지 이동 성공(page=23)\n",
      "데이터 수집 성공(page=23)\n",
      "페이지 이동 성공(page=24)\n",
      "데이터 수집 성공(page=24)\n",
      "페이지 이동 성공(page=25)\n",
      "데이터 수집 성공(page=25)\n",
      "페이지 이동 성공(page=26)\n",
      "데이터 수집 성공(page=26)\n",
      "페이지 이동 성공(page=27)\n",
      "데이터 수집 성공(page=27)\n",
      "페이지 이동 성공(page=28)\n",
      "데이터 수집 성공(page=28)\n",
      "페이지 이동 성공(page=29)\n",
      "데이터 수집 성공(page=29)\n",
      "페이지 이동 성공(page=30)\n",
      "데이터 수집 성공(page=30)\n",
      "페이지 이동 성공(page=31)\n",
      "데이터 수집 성공(page=31)\n",
      "페이지 이동 성공(page=32)\n",
      "데이터 수집 성공(page=32)\n",
      "페이지 이동 성공(page=33)\n",
      "데이터 수집 성공(page=33)\n",
      "페이지 이동 성공(page=34)\n",
      "데이터 수집 성공(page=34)\n",
      "페이지 이동 성공(page=35)\n",
      "데이터 수집 성공(page=35)\n",
      "페이지 이동 성공(page=36)\n",
      "데이터 수집 성공(page=36)\n",
      "페이지 이동 성공(page=37)\n",
      "데이터 수집 성공(page=37)\n",
      "페이지 이동 성공(page=38)\n",
      "데이터 수집 성공(page=38)\n"
     ]
    }
   ],
   "source": [
    "for page in range(1, 39):\n",
    "    # 위치로 이동\n",
    "    script = \"javascript:setLocation({gotoPage:\" + str(page) + \", PagerClick : function (value) {win.btnSearchClick(value);}, params:'PageSize=12&OrderType=REGDESC'});\"\n",
    "    driver.execute_script(script)\n",
    "    print('페이지 이동 성공(page={})'.format(page))\n",
    "    time.sleep(1.7)   ## 휴식시간 ##\n",
    "    \n",
    "    # 지점 : div.info_thumb -> p.branch의 text\n",
    "    # 가격 : div.info_thumb -> span의 text\n",
    "    # 상세정보주소 : div.info_thumb -> p.name -> a의 href\n",
    "    # 차이름 : div.info_thumb -> p.name -> a의 text\n",
    "    # 요약리스트 : div.info_thumb -> div.summary.list -> dl 전체 뽑고, for 돌려서 dt/dd\n",
    "    driver.find_element_by_id('btnThumb').click()\n",
    "    화면별_자동차목록 = driver.find_element_by_id('ListType').find_element_by_tag_name('ul').find_elements_by_tag_name('li')\n",
    "\n",
    "    # 정보 추출하기\n",
    "    for 자동차 in 화면별_자동차목록:\n",
    "        지점 = 자동차.find_element_by_css_selector('div.info_thumb > p.branch').text\n",
    "        가격 = 자동차.find_element_by_css_selector('div.info_thumb > span').text\n",
    "        상세정보주소 = 자동차.find_element_by_css_selector('div.info_thumb > p.name > a').get_attribute('href')\n",
    "        모델명 = 자동차.find_element_by_css_selector('div.info_thumb > p.name > a').text\n",
    "        속성리스트 = 자동차.find_element_by_css_selector('div.info_thumb > div.summary.list').find_elements_by_tag_name('dl')\n",
    "        속성_dict = {}\n",
    "        for 속성 in 속성리스트:\n",
    "            속성키 = 속성.find_element_by_tag_name('dt').text\n",
    "            속성값 = 속성.find_element_by_tag_name('dd').text\n",
    "            속성_dict[속성키] = 속성값\n",
    "\n",
    "        # 정보 집어넣기\n",
    "        정보_dict = {}\n",
    "        정보_dict['페이지'] = page\n",
    "        정보_dict['지점'] = 지점\n",
    "        정보_dict['가격'] = 가격\n",
    "        정보_dict['상세정보주소'] = 상세정보주소\n",
    "        정보_dict['모델명'] = 모델명\n",
    "        정보_dict['속성'] = 속성_dict\n",
    "\n",
    "        # 데이터에 append\n",
    "        데이터.append(정보_dict)\n",
    "    print('데이터 수집 성공(page={})'.format(page))"
   ]
  },
  {
   "cell_type": "code",
   "execution_count": 25,
   "metadata": {},
   "outputs": [],
   "source": [
    "import pickle\n",
    "with open('ucar_data_190428.txt', 'wb') as f:\n",
    "    pickle.dump(데이터, f)"
   ]
  },
  {
   "cell_type": "code",
   "execution_count": 50,
   "metadata": {},
   "outputs": [],
   "source": [
    "res = []\n",
    "for data in 데이터:\n",
    "    res.append([data['지점'], data['가격'], data['모델명'], data['속성']['차량번호'], data['속성']['연식'], data['속성']['주행거리'], data['속성']['변속기'], data['속성']['연료'], data['속성']['사고이력'], data['상세정보주소']])\n",
    "로우데이터 = pd.DataFrame(res, columns=['지점', '가격', '모델명', '차량번호', '연식', '주행거리', '변속기', '연료', '사고이력', '상세정보주소'])"
   ]
  },
  {
   "cell_type": "code",
   "execution_count": 90,
   "metadata": {},
   "outputs": [],
   "source": [
    "from urllib.parse import urlparse, parse_qs"
   ]
  },
  {
   "cell_type": "code",
   "execution_count": 55,
   "metadata": {},
   "outputs": [
    {
     "data": {
      "text/html": [
       "<div>\n",
       "<style scoped>\n",
       "    .dataframe tbody tr th:only-of-type {\n",
       "        vertical-align: middle;\n",
       "    }\n",
       "\n",
       "    .dataframe tbody tr th {\n",
       "        vertical-align: top;\n",
       "    }\n",
       "\n",
       "    .dataframe thead th {\n",
       "        text-align: right;\n",
       "    }\n",
       "</style>\n",
       "<table border=\"1\" class=\"dataframe\">\n",
       "  <thead>\n",
       "    <tr style=\"text-align: right;\">\n",
       "      <th></th>\n",
       "      <th>지점</th>\n",
       "      <th>가격</th>\n",
       "      <th>모델명</th>\n",
       "      <th>차량번호</th>\n",
       "      <th>연식</th>\n",
       "      <th>주행거리</th>\n",
       "      <th>변속기</th>\n",
       "      <th>연료</th>\n",
       "      <th>사고이력</th>\n",
       "      <th>상세정보주소</th>\n",
       "    </tr>\n",
       "  </thead>\n",
       "  <tbody>\n",
       "    <tr>\n",
       "      <th>0</th>\n",
       "      <td>[상봉지점]</td>\n",
       "      <td>￦860만원</td>\n",
       "      <td>현대 싼타페 CM 더 스타일 2WD(R2.0 e-VGT) MLX</td>\n",
       "      <td>35가7533</td>\n",
       "      <td>09년12월(10년형)년식</td>\n",
       "      <td>131,888km</td>\n",
       "      <td>오토</td>\n",
       "      <td>디젤</td>\n",
       "      <td>무사고</td>\n",
       "      <td>http://ucar.co.kr/html/all_vehicles/view.asp?C...</td>\n",
       "    </tr>\n",
       "    <tr>\n",
       "      <th>1</th>\n",
       "      <td>[상봉지점]</td>\n",
       "      <td>￦380만원</td>\n",
       "      <td>쌍용 뉴 체어맨 CM500S</td>\n",
       "      <td>10머1813</td>\n",
       "      <td>07년12월(08년형)년식</td>\n",
       "      <td>142,543km</td>\n",
       "      <td>오토</td>\n",
       "      <td>가솔린</td>\n",
       "      <td>단순교환</td>\n",
       "      <td>http://ucar.co.kr/html/all_vehicles/view.asp?C...</td>\n",
       "    </tr>\n",
       "    <tr>\n",
       "      <th>2</th>\n",
       "      <td>[상봉지점]</td>\n",
       "      <td>￦1,290만원</td>\n",
       "      <td>현대 투싼 ix 디젤 2WD LX20</td>\n",
       "      <td>64거6678</td>\n",
       "      <td>13년07월년식</td>\n",
       "      <td>81,807km</td>\n",
       "      <td>오토</td>\n",
       "      <td>디젤</td>\n",
       "      <td>무사고</td>\n",
       "      <td>http://ucar.co.kr/html/all_vehicles/view.asp?C...</td>\n",
       "    </tr>\n",
       "    <tr>\n",
       "      <th>3</th>\n",
       "      <td>[대구지점]</td>\n",
       "      <td>￦1,590만원</td>\n",
       "      <td>기아 봉고3 1톤 초장축 더블캡 CRDi 노블레스</td>\n",
       "      <td>96누0882</td>\n",
       "      <td>18년03월년식</td>\n",
       "      <td>23,412km</td>\n",
       "      <td>오토</td>\n",
       "      <td>디젤</td>\n",
       "      <td>단순교환</td>\n",
       "      <td>http://ucar.co.kr/html/all_vehicles/view.asp?C...</td>\n",
       "    </tr>\n",
       "    <tr>\n",
       "      <th>4</th>\n",
       "      <td>[상봉지점]</td>\n",
       "      <td>￦1,430만원</td>\n",
       "      <td>현대 포터 2 초장축 더블캡 CRDi 하이슈퍼</td>\n",
       "      <td>83머6330</td>\n",
       "      <td>16년11월(17년형)년식</td>\n",
       "      <td>40,559km</td>\n",
       "      <td>오토</td>\n",
       "      <td>디젤</td>\n",
       "      <td>무사고</td>\n",
       "      <td>http://ucar.co.kr/html/all_vehicles/view.asp?C...</td>\n",
       "    </tr>\n",
       "  </tbody>\n",
       "</table>\n",
       "</div>"
      ],
      "text/plain": [
       "       지점        가격                                  모델명     차량번호  \\\n",
       "0  [상봉지점]    ￦860만원  현대 싼타페 CM 더 스타일 2WD(R2.0 e-VGT) MLX  35가7533   \n",
       "1  [상봉지점]    ￦380만원                      쌍용 뉴 체어맨 CM500S  10머1813   \n",
       "2  [상봉지점]  ￦1,290만원                 현대 투싼 ix 디젤 2WD LX20  64거6678   \n",
       "3  [대구지점]  ￦1,590만원          기아 봉고3 1톤 초장축 더블캡 CRDi 노블레스  96누0882   \n",
       "4  [상봉지점]  ￦1,430만원            현대 포터 2 초장축 더블캡 CRDi 하이슈퍼  83머6330   \n",
       "\n",
       "               연식       주행거리 변속기   연료  사고이력  \\\n",
       "0  09년12월(10년형)년식  131,888km  오토   디젤   무사고   \n",
       "1  07년12월(08년형)년식  142,543km  오토  가솔린  단순교환   \n",
       "2        13년07월년식   81,807km  오토   디젤   무사고   \n",
       "3        18년03월년식   23,412km  오토   디젤  단순교환   \n",
       "4  16년11월(17년형)년식   40,559km  오토   디젤   무사고   \n",
       "\n",
       "                                              상세정보주소  \n",
       "0  http://ucar.co.kr/html/all_vehicles/view.asp?C...  \n",
       "1  http://ucar.co.kr/html/all_vehicles/view.asp?C...  \n",
       "2  http://ucar.co.kr/html/all_vehicles/view.asp?C...  \n",
       "3  http://ucar.co.kr/html/all_vehicles/view.asp?C...  \n",
       "4  http://ucar.co.kr/html/all_vehicles/view.asp?C...  "
      ]
     },
     "execution_count": 55,
     "metadata": {},
     "output_type": "execute_result"
    }
   ],
   "source": [
    "로우데이터.head()"
   ]
  },
  {
   "cell_type": "code",
   "execution_count": 52,
   "metadata": {},
   "outputs": [
    {
     "data": {
      "text/plain": [
       "array(['[상봉지점]', '[대구지점]', '[인천지점]', '[대전지점]', '[전주지점]', '[수원지점]',\n",
       "       '[용인지점]', '[원주지점]', '[천안지점]'], dtype=object)"
      ]
     },
     "execution_count": 52,
     "metadata": {},
     "output_type": "execute_result"
    }
   ],
   "source": [
    "로우데이터.지점.unique()"
   ]
  },
  {
   "cell_type": "code",
   "execution_count": 60,
   "metadata": {},
   "outputs": [
    {
     "data": {
      "text/plain": [
       "array(['오토', '수동', 'CVT'], dtype=object)"
      ]
     },
     "execution_count": 60,
     "metadata": {},
     "output_type": "execute_result"
    }
   ],
   "source": [
    "로우데이터.변속기.unique()"
   ]
  },
  {
   "cell_type": "code",
   "execution_count": 61,
   "metadata": {},
   "outputs": [
    {
     "data": {
      "text/plain": [
       "array(['디젤', '가솔린', 'LPG', '기타', '하이브리드(G)'], dtype=object)"
      ]
     },
     "execution_count": 61,
     "metadata": {},
     "output_type": "execute_result"
    }
   ],
   "source": [
    "로우데이터.연료.unique()"
   ]
  },
  {
   "cell_type": "code",
   "execution_count": 62,
   "metadata": {},
   "outputs": [
    {
     "data": {
      "text/plain": [
       "array(['무사고', '단순교환', '사고'], dtype=object)"
      ]
     },
     "execution_count": 62,
     "metadata": {},
     "output_type": "execute_result"
    }
   ],
   "source": [
    "로우데이터.사고이력.unique()"
   ]
  },
  {
   "cell_type": "code",
   "execution_count": 104,
   "metadata": {},
   "outputs": [
    {
     "data": {
      "text/plain": [
       "array(['09년12월(10년형)년식', '07년12월(08년형)년식', '13년07월년식', '18년03월년식',\n",
       "       '16년11월(17년형)년식', '15년03월년식', '17년11월(18년형)년식', '16년02월년식',\n",
       "       '13년03월년식', '15년02월년식', '13년04월년식', '15년11월년식', '15년05월년식',\n",
       "       '18년07월(19년형)년식', '08년05월년식', '14년09월년식', '13년10월(14년형)년식',\n",
       "       '14년03월년식', '14년06월(15년형)년식', '16년04월년식', '15년07월년식', '11년11월년식',\n",
       "       '16년10월(17년형)년식', '16년07월년식', '16년11월년식', '16년04월(17년형)년식',\n",
       "       '14년02월년식', '16년09월(17년형)년식', '16년03월년식', '17년12월년식', '09년09월년식',\n",
       "       '14년06월년식', '14년09월(15년형)년식', '15년03월(16년형)년식', '13년09월(14년형)년식',\n",
       "       '11년05월년식', '12년12월년식', '11년10월년식', '16년08월(17년형)년식', '15년12월년식',\n",
       "       '17년02월년식', '10년03월년식', '12년01월(13년형)년식', '17년04월년식', '12년05월년식',\n",
       "       '11년07월(12년형)년식', '15년12월(16년형)년식', '08년02월년식', '14년12월년식',\n",
       "       '15년04월년식', '10년12월(11년형)년식', '10년04월년식', '14년05월년식',\n",
       "       '15년05월(16년형)년식', '16년01월년식', '18년09월(19년형)년식', '16년12월(17년형)년식',\n",
       "       '09년05월(10년형)년식', '13년06월(14년형)년식', '15년09월년식', '16년06월년식',\n",
       "       '15년09월(16년형)년식', '17년01월년식', '15년10월(16년형)년식', '11년07월년식',\n",
       "       '14년10월(15년형)년식', '11년06월(12년형)년식', '15년08월년식', '11년11월(12년형)년식',\n",
       "       '11년08월년식', '07년03월년식', '17년05월(18년형)년식', '12년03월년식',\n",
       "       '12년02월(13년형)년식', '15년01월년식', '17년05월년식', '16년05월년식', '13년02월년식',\n",
       "       '17년12월(18년형)년식', '12년07월년식', '16년05월(15년형)년식', '11년03월년식',\n",
       "       '16년05월(17년형)년식', '10년01월년식', '09년08월년식', '14년12월(15년형)년식',\n",
       "       '09년11월(10년형)년식', '18년05월년식', '12년10월(13년형)년식', '15년08월(16년형)년식',\n",
       "       '10년06월(11년형)년식', '18년01월년식', '06년10월년식', '10년10월년식', '12년04월년식',\n",
       "       '14년04월년식', '10년09월(11년형)년식', '17년03월년식', '17년10월년식',\n",
       "       '08년09월(09년형)년식', '14년08월(15년형)년식', '13년10월년식', '12년09월년식',\n",
       "       '17년09월(18년형)년식', '17년07월년식', '15년06월년식', '15년11월(16년형)년식',\n",
       "       '16년09월년식', '11년06월년식', '16년10월년식', '14년01월년식', '13년12월(14년형)년식',\n",
       "       '07년04월년식', '10년07월(11년형)년식', '18년11월(19년형)년식', '09년10월(10년형)년식',\n",
       "       '09년07월년식', '12년06월년식', '18년08월년식', '12년12월(13년형)년식',\n",
       "       '15년04월(16년형)년식', '12년08월년식', '08년04월년식', '13년05월년식', '09년12월년식',\n",
       "       '13년01월(12년형)년식', '16년12월년식', '17년07월(18년형)년식', '17년10월(18년형)년식',\n",
       "       '18년04월(19년형)년식', '11년09월년식', '10년09월년식', '01년01월년식',\n",
       "       '11년12월(12년형)년식', '10년11월(11년형)년식', '12년11월년식', '15년07월(16년형)년식',\n",
       "       '13년12월년식', '14년11월년식', '05년06월년식', '12년01월년식', '16년06월(17년형)년식',\n",
       "       '11년04월년식', '17년09월년식', '18년02월년식', '15년10월년식', '07년01월년식',\n",
       "       '16년08월년식', '18년02월(19년형)년식'], dtype=object)"
      ]
     },
     "execution_count": 104,
     "metadata": {},
     "output_type": "execute_result"
    }
   ],
   "source": [
    "로우데이터.연식.unique()"
   ]
  },
  {
   "cell_type": "code",
   "execution_count": 109,
   "metadata": {},
   "outputs": [
    {
     "data": {
      "text/html": [
       "<div>\n",
       "<style scoped>\n",
       "    .dataframe tbody tr th:only-of-type {\n",
       "        vertical-align: middle;\n",
       "    }\n",
       "\n",
       "    .dataframe tbody tr th {\n",
       "        vertical-align: top;\n",
       "    }\n",
       "\n",
       "    .dataframe thead th {\n",
       "        text-align: right;\n",
       "    }\n",
       "</style>\n",
       "<table border=\"1\" class=\"dataframe\">\n",
       "  <thead>\n",
       "    <tr style=\"text-align: right;\">\n",
       "      <th></th>\n",
       "      <th>지점</th>\n",
       "      <th>가격</th>\n",
       "      <th>모델명</th>\n",
       "      <th>차량번호</th>\n",
       "      <th>연식</th>\n",
       "      <th>주행거리</th>\n",
       "      <th>변속기</th>\n",
       "      <th>연료</th>\n",
       "      <th>사고이력</th>\n",
       "      <th>CarID</th>\n",
       "      <th>CarGbnCode</th>\n",
       "    </tr>\n",
       "  </thead>\n",
       "  <tbody>\n",
       "    <tr>\n",
       "      <th>0</th>\n",
       "      <td>상봉지점</td>\n",
       "      <td>860.0</td>\n",
       "      <td>현대 싼타페 CM 더 스타일 2WD(R2.0 e-VGT) MLX</td>\n",
       "      <td>35가7533</td>\n",
       "      <td>2009</td>\n",
       "      <td>131888.0</td>\n",
       "      <td>오토</td>\n",
       "      <td>디젤</td>\n",
       "      <td>무사고</td>\n",
       "      <td>96997</td>\n",
       "      <td>002008</td>\n",
       "    </tr>\n",
       "    <tr>\n",
       "      <th>1</th>\n",
       "      <td>상봉지점</td>\n",
       "      <td>380.0</td>\n",
       "      <td>쌍용 뉴 체어맨 CM500S</td>\n",
       "      <td>10머1813</td>\n",
       "      <td>2007</td>\n",
       "      <td>142543.0</td>\n",
       "      <td>오토</td>\n",
       "      <td>가솔린</td>\n",
       "      <td>단순교환</td>\n",
       "      <td>96990</td>\n",
       "      <td>002005</td>\n",
       "    </tr>\n",
       "    <tr>\n",
       "      <th>2</th>\n",
       "      <td>상봉지점</td>\n",
       "      <td>1290.0</td>\n",
       "      <td>현대 투싼 ix 디젤 2WD LX20</td>\n",
       "      <td>64거6678</td>\n",
       "      <td>2013</td>\n",
       "      <td>81807.0</td>\n",
       "      <td>오토</td>\n",
       "      <td>디젤</td>\n",
       "      <td>무사고</td>\n",
       "      <td>96943</td>\n",
       "      <td>002008</td>\n",
       "    </tr>\n",
       "    <tr>\n",
       "      <th>3</th>\n",
       "      <td>대구지점</td>\n",
       "      <td>1590.0</td>\n",
       "      <td>기아 봉고3 1톤 초장축 더블캡 CRDi 노블레스</td>\n",
       "      <td>96누0882</td>\n",
       "      <td>2018</td>\n",
       "      <td>23412.0</td>\n",
       "      <td>오토</td>\n",
       "      <td>디젤</td>\n",
       "      <td>단순교환</td>\n",
       "      <td>96927</td>\n",
       "      <td>002011</td>\n",
       "    </tr>\n",
       "    <tr>\n",
       "      <th>4</th>\n",
       "      <td>상봉지점</td>\n",
       "      <td>1430.0</td>\n",
       "      <td>현대 포터 2 초장축 더블캡 CRDi 하이슈퍼</td>\n",
       "      <td>83머6330</td>\n",
       "      <td>2016</td>\n",
       "      <td>40559.0</td>\n",
       "      <td>오토</td>\n",
       "      <td>디젤</td>\n",
       "      <td>무사고</td>\n",
       "      <td>96924</td>\n",
       "      <td>002011</td>\n",
       "    </tr>\n",
       "  </tbody>\n",
       "</table>\n",
       "</div>"
      ],
      "text/plain": [
       "     지점      가격                                  모델명     차량번호    연식      주행거리  \\\n",
       "0  상봉지점   860.0  현대 싼타페 CM 더 스타일 2WD(R2.0 e-VGT) MLX  35가7533  2009  131888.0   \n",
       "1  상봉지점   380.0                      쌍용 뉴 체어맨 CM500S  10머1813  2007  142543.0   \n",
       "2  상봉지점  1290.0                 현대 투싼 ix 디젤 2WD LX20  64거6678  2013   81807.0   \n",
       "3  대구지점  1590.0          기아 봉고3 1톤 초장축 더블캡 CRDi 노블레스  96누0882  2018   23412.0   \n",
       "4  상봉지점  1430.0            현대 포터 2 초장축 더블캡 CRDi 하이슈퍼  83머6330  2016   40559.0   \n",
       "\n",
       "  변속기   연료  사고이력  CarID CarGbnCode  \n",
       "0  오토   디젤   무사고  96997     002008  \n",
       "1  오토  가솔린  단순교환  96990     002005  \n",
       "2  오토   디젤   무사고  96943     002008  \n",
       "3  오토   디젤  단순교환  96927     002011  \n",
       "4  오토   디젤   무사고  96924     002011  "
      ]
     },
     "execution_count": 109,
     "metadata": {},
     "output_type": "execute_result"
    }
   ],
   "source": [
    "가공데이터 = 로우데이터.copy()\n",
    "가공데이터['지점'] = 가공데이터['지점'].str.slice(1, 5)\n",
    "가공데이터['가격'] = 가공데이터['가격'].str.replace('\\￦', '').str.replace('만원', '').str.replace(',', '').astype(float)\n",
    "가공데이터['주행거리'] = 가공데이터['주행거리'].str.replace('km', '').str.replace(',', '').astype(float)\n",
    "가공데이터['연식'] = ('20' + 가공데이터['연식'].str.slice(0, 2)).astype(int)\n",
    "가공데이터['CarID'] = 가공데이터['상세정보주소'].apply(lambda x: parse_qs(urlparse(x).query)['CarID'][0])\n",
    "가공데이터['CarGbnCode'] = 가공데이터['상세정보주소'].apply(lambda x: parse_qs(urlparse(x).query)['CarGbnCode'][0])\n",
    "가공데이터 = 가공데이터.drop('상세정보주소', axis=1)\n",
    "가공데이터.head()"
   ]
  },
  {
   "cell_type": "code",
   "execution_count": 110,
   "metadata": {},
   "outputs": [],
   "source": [
    "writer = pd.ExcelWriter('data.xlsx', 'xlsxwriter')\n",
    "가공데이터.to_excel(writer, index=False)\n",
    "writer.save()\n",
    "writer.close()"
   ]
  }
 ],
 "metadata": {
  "kernelspec": {
   "display_name": "Python 3",
   "language": "python",
   "name": "python3"
  },
  "language_info": {
   "codemirror_mode": {
    "name": "ipython",
    "version": 3
   },
   "file_extension": ".py",
   "mimetype": "text/x-python",
   "name": "python",
   "nbconvert_exporter": "python",
   "pygments_lexer": "ipython3",
   "version": "3.7.3"
  }
 },
 "nbformat": 4,
 "nbformat_minor": 2
}
