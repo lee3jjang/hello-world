{
 "cells": [
  {
   "cell_type": "code",
   "execution_count": 45,
   "metadata": {},
   "outputs": [],
   "source": [
    "import time\n",
    "import pandas as pd\n",
    "from selenium import webdriver"
   ]
  },
  {
   "cell_type": "code",
   "execution_count": 2,
   "metadata": {},
   "outputs": [],
   "source": [
    "driver = webdriver.Chrome('chromedriver')"
   ]
  },
  {
   "cell_type": "code",
   "execution_count": 3,
   "metadata": {},
   "outputs": [],
   "source": [
    "url = 'http://ucar.co.kr/html/all_vehicles/list.asp'\n",
    "driver.get(url)"
   ]
  },
  {
   "cell_type": "code",
   "execution_count": 41,
   "metadata": {},
   "outputs": [
    {
     "name": "stdout",
     "output_type": "stream",
     "text": [
      "---- 완료 ----\n"
     ]
    }
   ],
   "source": [
    "데이터 = []\n",
    "for page in range(1, 39):\n",
    "    # 위치로 이동\n",
    "    script = \"javascript:setLocation({gotoPage:\" + str(page) + \", PagerClick : function (value) {win.btnSearchClick(value);}, params:'PageSize=12&OrderType=REGDESC'});\"\n",
    "    driver.execute_script(script)\n",
    "\n",
    "    # 지점 : div.info_thumb -> p.branch의 text\n",
    "    # 가격 : div.info_thumb -> span의 text\n",
    "    # 상세정보주소 : div.info_thumb -> p.name -> a의 href\n",
    "    # 차이름 : div.info_thumb -> p.name -> a의 text\n",
    "    # 요약리스트 : div.info_thumb -> div.summary.list -> dl 전체 뽑고, for 돌려서 dt/dd\n",
    "    driver.find_element_by_id('btnThumb').click()\n",
    "    화면별_자동차목록 = driver.find_element_by_id('ListType').find_element_by_tag_name('ul').find_elements_by_tag_name('li')\n",
    "\n",
    "    # 정보 추출하기\n",
    "    time.sleep(3)   ## 휴식시간 ##\n",
    "    for 자동차 in 화면별_자동차목록:\n",
    "        지점 = 자동차.find_element_by_css_selector('div.info_thumb > p.branch').text\n",
    "        가격 = 자동차.find_element_by_css_selector('div.info_thumb > span').text\n",
    "        상세정보주소 = 자동차.find_element_by_css_selector('div.info_thumb > p.name > a').get_attribute('href')\n",
    "        모델명 = 자동차.find_element_by_css_selector('div.info_thumb > p.name > a').text\n",
    "        속성리스트 = 자동차.find_element_by_css_selector('div.info_thumb > div.summary.list').find_elements_by_tag_name('dl')\n",
    "        속성_dict = {}\n",
    "        for 속성 in 속성리스트:\n",
    "            속성키 = 속성.find_element_by_tag_name('dt').text\n",
    "            속성값 = 속성.find_element_by_tag_name('dd').text\n",
    "            속성_dict[속성키] = 속성값\n",
    "\n",
    "        # 정보 집어넣기\n",
    "        정보_dict = {}\n",
    "        정보_dict['지점'] = 지점\n",
    "        정보_dict['가격'] = 가격\n",
    "        정보_dict['상세정보주소'] = 상세정보주소\n",
    "        정보_dict['모델명'] = 모델명\n",
    "        정보_dict['속성'] = 속성_dict\n",
    "\n",
    "        # 데이터에 append\n",
    "        데이터.append(정보_dict)\n",
    "    \n",
    "    time.sleep(3)   ## 휴식시간 ##"
   ]
  }
 ],
 "metadata": {
  "kernelspec": {
   "display_name": "Python 3",
   "language": "python",
   "name": "python3"
  },
  "language_info": {
   "codemirror_mode": {
    "name": "ipython",
    "version": 3
   },
   "file_extension": ".py",
   "mimetype": "text/x-python",
   "name": "python",
   "nbconvert_exporter": "python",
   "pygments_lexer": "ipython3",
   "version": "3.7.3"
  }
 },
 "nbformat": 4,
 "nbformat_minor": 2
}
