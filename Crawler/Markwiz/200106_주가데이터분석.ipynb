{
 "cells": [
  {
   "cell_type": "code",
   "execution_count": 3,
   "metadata": {},
   "outputs": [],
   "source": [
    "with open('CODE.csv', 'r', encoding='utf-8') as f:\n",
    "    reader = csv.reader(f, delimiter=',')\n",
    "    code = [row for row in reader]\n",
    "code = pd.DataFrame(code[1:], columns=code[0])        \n",
    "\n",
    "with open('SISE_DAY.csv', 'r', encoding='utf-8') as f:\n",
    "    reader = csv.reader(f, delimiter=',')\n",
    "    sise_day = [row for row in reader]\n",
    "sise_day = pd.DataFrame(sise_day[1:], columns=sise_day[0])\n",
    "sise_day[['종가', '전일비', '시가', '고가', '저가', '거래량']] = sise_day[['종가', '전일비', '시가', '고가', '저가', '거래량']].astype(float)"
   ]
  },
  {
   "cell_type": "code",
   "execution_count": 166,
   "metadata": {},
   "outputs": [],
   "source": [
    "sise_day_series = sise_day.merge(code, on='코드', how='left').pivot_table(index='날짜', columns='회사명', values='종가', aggfunc=np.sum, fill_value=0).astype(float)\n",
    "sise_day_series = sise_day_series.loc[sise_day_series.index >= '20170101']\n",
    "sise_day_series = (sise_day_series/sise_day_series.shift(1)-1)*100\n",
    "sise_day_series = sise_day_series.iloc[1:]\n",
    "sise_day_series.columns.name = None\n",
    "sise_day_series.index = pd.to_datetime(sise_day_series.index)\n",
    "sise_day_series = sise_day_series.drop('현대해상', axis=1)"
   ]
  },
  {
   "cell_type": "code",
   "execution_count": 167,
   "metadata": {},
   "outputs": [
    {
     "data": {
      "text/html": [
       "<div>\n",
       "<style scoped>\n",
       "    .dataframe tbody tr th:only-of-type {\n",
       "        vertical-align: middle;\n",
       "    }\n",
       "\n",
       "    .dataframe tbody tr th {\n",
       "        vertical-align: top;\n",
       "    }\n",
       "\n",
       "    .dataframe thead th {\n",
       "        text-align: right;\n",
       "    }\n",
       "</style>\n",
       "<table border=\"1\" class=\"dataframe\">\n",
       "  <thead>\n",
       "    <tr style=\"text-align: right;\">\n",
       "      <th></th>\n",
       "      <th>DB손해보험</th>\n",
       "      <th>메리츠화재</th>\n",
       "      <th>삼성화재</th>\n",
       "    </tr>\n",
       "  </thead>\n",
       "  <tbody>\n",
       "    <tr>\n",
       "      <th>DB손해보험</th>\n",
       "      <td>1.00</td>\n",
       "      <td>0.43</td>\n",
       "      <td>0.57</td>\n",
       "    </tr>\n",
       "    <tr>\n",
       "      <th>메리츠화재</th>\n",
       "      <td>0.43</td>\n",
       "      <td>1.00</td>\n",
       "      <td>0.35</td>\n",
       "    </tr>\n",
       "    <tr>\n",
       "      <th>삼성화재</th>\n",
       "      <td>0.57</td>\n",
       "      <td>0.35</td>\n",
       "      <td>1.00</td>\n",
       "    </tr>\n",
       "  </tbody>\n",
       "</table>\n",
       "</div>"
      ],
      "text/plain": [
       "        DB손해보험  메리츠화재  삼성화재\n",
       "DB손해보험    1.00   0.43  0.57\n",
       "메리츠화재     0.43   1.00  0.35\n",
       "삼성화재      0.57   0.35  1.00"
      ]
     },
     "execution_count": 167,
     "metadata": {},
     "output_type": "execute_result"
    }
   ],
   "source": [
    "covariance_matrix = sise_day_series.cov()\n",
    "correlation_matrix = sise_day_series.corr()\n",
    "mean_returns = sise_day_series.mean()\n",
    "correlation_matrix"
   ]
  },
  {
   "cell_type": "code",
   "execution_count": 168,
   "metadata": {},
   "outputs": [],
   "source": [
    "def obj_fun(p, r):\n",
    "    portfolio_allocation = pd.Series(p, index=covariance_matrix.columns).T\n",
    "    variances = (covariance_matrix*portfolio_allocation).sum(axis=1)\n",
    "    portfolio_variance = (variances*portfolio_allocation).sum()\n",
    "    return portfolio_variance\n",
    "\n",
    "def eq_const1(p, r):\n",
    "    portfolio_return = sum(p*mean_returns)\n",
    "    return portfolio_return-r\n",
    "    \n",
    "def eq_const2(p, r):\n",
    "    return p.sum()-1\n",
    "\n",
    "def eq_const3(p, r):\n",
    "    return p.sum()-1"
   ]
  },
  {
   "cell_type": "code",
   "execution_count": 169,
   "metadata": {},
   "outputs": [],
   "source": [
    "result = []\n",
    "returns = np.linspace(0.002, 0.01, 100)\n",
    "for r in returns:\n",
    "    p = np.random.random(len(covariance_matrix.columns))\n",
    "    x_opt = fmin_slsqp(obj_fun, p, eqcons=[eq_const1, eq_const2], full_output=True, args=(r,), iprint=0)\n",
    "    result.append([r, x_opt[0], x_opt[1]])"
   ]
  },
  {
   "cell_type": "code",
   "execution_count": 170,
   "metadata": {},
   "outputs": [
    {
     "data": {
      "image/png": "[encoded data removed]",
      "text/plain": [
       "<Figure size 432x288 with 1 Axes>"
      ]
     },
     "metadata": {
      "needs_background": "light"
     },
     "output_type": "display_data"
    },
    {
     "data": {
      "text/plain": [
       "DB손해보험    5.27\n",
       "메리츠화재    36.16\n",
       "삼성화재     58.57\n",
       "dtype: float64"
      ]
     },
     "execution_count": 170,
     "metadata": {},
     "output_type": "execute_result"
    }
   ],
   "source": [
    "returns = [r[0] for r in result]\n",
    "variances = [r[2] for r in result]\n",
    "weights = [r[1] for r in result]\n",
    "plt.plot(variances, returns, '-o')\n",
    "plt.show()\n",
    "portfolio_min_variance = pd.Series(weights[np.argmin(variances)]*100, index=covariance_matrix.columns).T\n",
    "portfolio_min_variance"
   ]
  },
  {
   "cell_type": "code",
   "execution_count": 171,
   "metadata": {},
   "outputs": [
    {
     "data": {
      "text/plain": [
       "DB손해보험    0\n",
       "메리츠화재     9\n",
       "삼성화재      1\n",
       "dtype: int32"
      ]
     },
     "execution_count": 171,
     "metadata": {},
     "output_type": "execute_result"
    }
   ],
   "source": [
    "lastday = sise_day['날짜'].max()\n",
    "lastprice = sise_day.query('날짜 == @lastday').merge(code, on='코드', how='left')[['회사명', '종가']].set_index('회사명')['종가'][sise_day_series.columns]\n",
    "stock_num = np.round((lastprice.max()/lastprice)*(portfolio_min_variance/portfolio_min_variance.max()), 0).astype(int)\n",
    "stock_num"
   ]
  },
  {
   "cell_type": "code",
   "execution_count": 172,
   "metadata": {},
   "outputs": [
    {
     "data": {
      "text/plain": [
       "384300.0"
      ]
     },
     "execution_count": 172,
     "metadata": {},
     "output_type": "execute_result"
    }
   ],
   "source": [
    "sum(stock_num*lastprice)"
   ]
  },
  {
   "cell_type": "code",
   "execution_count": 173,
   "metadata": {},
   "outputs": [
    {
     "data": {
      "text/plain": [
       "2035.5688534156739"
      ]
     },
     "execution_count": 173,
     "metadata": {},
     "output_type": "execute_result"
    }
   ],
   "source": [
    "sum(stock_num*mean_returns*lastprice)"
   ]
  }
 ],
 "metadata": {
  "kernelspec": {
   "display_name": "Python 3",
   "language": "python",
   "name": "python3"
  },
  "language_info": {
   "codemirror_mode": {
    "name": "ipython",
    "version": 3
   },
   "file_extension": ".py",
   "mimetype": "text/x-python",
   "name": "python",
   "nbconvert_exporter": "python",
   "pygments_lexer": "ipython3",
   "version": "3.7.3"
  }
 },
 "nbformat": 4,
 "nbformat_minor": 4
}
