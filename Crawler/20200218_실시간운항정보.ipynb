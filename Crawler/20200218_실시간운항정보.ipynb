{
 "cells": [
  {
   "cell_type": "code",
   "execution_count": 1,
   "metadata": {},
   "outputs": [],
   "source": [
    "import os\n",
    "import time\n",
    "import pandas as pd\n",
    "from datetime import datetime\n",
    "from dateutil.relativedelta import relativedelta\n",
    "from selenium import webdriver\n",
    "from selenium.webdriver.support.ui import Select"
   ]
  },
  {
   "cell_type": "code",
   "execution_count": 2,
   "metadata": {},
   "outputs": [],
   "source": [
    "# column name\n",
    "column_name = ['기준년월', '공항', '항공사', '편명', '목적지', '계획', '예상', '출발', '구분', '현황', '비정상원인', '비고']\n",
    "\n",
    "# ports\n",
    "ports = ['인천', '김포', '청주', '양양', '군산', '원주', '김해', '제주', '대구', '광주', '여수', '울산', '포항', '사천', '무안']\n",
    "\n",
    "# dates\n",
    "dates = []\n",
    "start_date = datetime(2017,1,1)\n",
    "end_date = datetime(2017,12,31)\n",
    "date = start_date\n",
    "while(date <= end_date):\n",
    "    dates.append(date.strftime('%Y%m%d'))\n",
    "    date = date + relativedelta(days=1)"
   ]
  },
  {
   "cell_type": "code",
   "execution_count": 3,
   "metadata": {},
   "outputs": [],
   "source": [
    "driver = webdriver.Chrome('chromedriver')"
   ]
  },
  {
   "cell_type": "code",
   "execution_count": null,
   "metadata": {},
   "outputs": [],
   "source": [
    "data = []\n",
    "log = ''\n",
    "for date in dates:\n",
    "    for port in ports:\n",
    "        driver.get('http://www.airportal.go.kr/life/airinfo/RbBejFrm.jsp')\n",
    "        # time.sleep(1)\n",
    "        driver.find_elements_by_css_selector('input[name=\"depArr\"]')[1].click()\n",
    "        driver.execute_script('''\n",
    "            x = $(\"#current_date\").focus();\n",
    "            x[0]['value'] = {};\n",
    "        '''.format(date))\n",
    "        Select(driver.find_element_by_css_selector('select[name=\"airport\"]')).select_by_visible_text(port)\n",
    "        driver.execute_script('go_search()')\n",
    "        time.sleep(2)\n",
    "        driver.switch_to.frame(driver.find_element_by_tag_name('iframe'))\n",
    "\n",
    "        rows = driver.find_elements_by_tag_name('table')[1].find_elements_by_tag_name('tr')\n",
    "        bulk = []\n",
    "        if len(rows) == 4:\n",
    "            log += '[{}, {}] 검색된 결과가 없습니다.\\n'.format(date, port)\n",
    "        else:\n",
    "            for row in rows:\n",
    "                if len(row.find_elements_by_tag_name('td')) == 1: continue\n",
    "                cols = row.find_elements_by_css_selector('td[width$=\"0\"]')\n",
    "                bulk.append([date, port]+[x.text for x in cols])\n",
    "            log += '[{}, {}] {:2}건의 결과가 검색되었습니다.\\n'.format(date, port, len(bulk))\n",
    "            data += bulk"
   ]
  },
  {
   "cell_type": "code",
   "execution_count": null,
   "metadata": {},
   "outputs": [],
   "source": [
    "df = pd.DataFrame(data, columns=column_name)\n",
    "if not any([s=='result' for s in os.listdir('.')]): os.mkdir('result')\n",
    "now = datetime.now().strftime('%Y%m%d%H%M%S')\n",
    "file_name = 'airportal_2017'\n",
    "with pd.ExcelWriter('result/{}_{}.xlsx'.format(file_name, now), 'xlsxwriter') as writer:\n",
    "    df.to_excel(writer, index=False)\n",
    "with open('result/{}_{}.log'.format(file_name, now), 'w') as f:\n",
    "    f.write(log)"
   ]
  }
 ],
 "metadata": {
  "kernelspec": {
   "display_name": "Python 3",
   "language": "python",
   "name": "python3"
  },
  "language_info": {
   "codemirror_mode": {
    "name": "ipython",
    "version": 3
   },
   "file_extension": ".py",
   "mimetype": "text/x-python",
   "name": "python",
   "nbconvert_exporter": "python",
   "pygments_lexer": "ipython3",
   "version": "3.7.3"
  }
 },
 "nbformat": 4,
 "nbformat_minor": 4
}
