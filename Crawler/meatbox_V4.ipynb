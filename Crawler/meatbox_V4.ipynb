{
 "cells": [
  {
   "cell_type": "code",
   "execution_count": 63,
   "metadata": {},
   "outputs": [],
   "source": [
    "import pandas as pd\n",
    "import numpy as np\n",
    "import sqlite3\n",
    "import urllib\n",
    "import datetime\n",
    "from bs4 import BeautifulSoup\n",
    "import re"
   ]
  },
  {
   "cell_type": "code",
   "execution_count": 2,
   "metadata": {},
   "outputs": [],
   "source": [
    "conn = sqlite3.connect('meatbox.db')\n",
    "cur = conn.cursor()"
   ]
  },
  {
   "cell_type": "code",
   "execution_count": 3,
   "metadata": {},
   "outputs": [
    {
     "data": {
      "text/plain": [
       "<sqlite3.Cursor at 0x1de54273b90>"
      ]
     },
     "execution_count": 3,
     "metadata": {},
     "output_type": "execute_result"
    }
   ],
   "source": [
    "# 테이블 생성\n",
    "cur.execute('create table 상품코드정보(기준일자, 상품코드 text, primary key(기준일자, 상품코드))')\n",
    "cur.execute('create table 상세정보(상품코드 text, 보관방법, 축종, 품목, 가공방법, 원산지, 브랜드, 등급, 배송불가지역 ,배송정책, 판매대상, EST_NO, 포장상태, primary key(상품코드))')\n",
    "cur.execute('create table 판매자정보(상품코드 text, 대표자, 상호, 전화, 이메일주소, 사업자등록번호, 사업장소재지, primary key(상품코드))')\n",
    "cur.execute('create table 상품정보(상품코드 text, kg당가격, 가공일, 유통기한, 최대, 최소, 평균, 유통식별번호, primary key(상품코드))')\n",
    "cur.execute('create table 판매정보(기준일자, 상품코드 text, 구매, 후기, primary key(기준일자, 상품코드))')"
   ]
  },
  {
   "cell_type": "code",
   "execution_count": 94,
   "metadata": {},
   "outputs": [],
   "source": [
    "# URL 및 Query string을 받아 홈페이지에 접속한 후 그 결과에 대한 객체(soup)를 리턴\n",
    "def 홈페이지접근(url, params):\n",
    "    # URL 생성\n",
    "    url_params = '{}?{}'.format(url, urllib.parse.urlencode(params))\n",
    "    \n",
    "    # 홈페이지 접속하기\n",
    "    res = urllib.request.urlopen(url_params)\n",
    "    html = res.read().decode('utf-8')\n",
    "    soup = BeautifulSoup(html, 'html.parser')\n",
    "    \n",
    "    return soup"
   ]
  },
  {
   "cell_type": "code",
   "execution_count": 97,
   "metadata": {},
   "outputs": [],
   "source": [
    "# 홈페이지에 등록된 상품코드들을 수집하는 함수\n",
    "def 상품코드수집():\n",
    "    # 접속 설정\n",
    "    url = 'https://www.meatbox.co.kr/fo/product/productListPage.do'\n",
    "    params = {'categorySeq':10005,'articleCount':'1000'}\n",
    "    \n",
    "    # 홈페이지 접속하기\n",
    "    soup = 홈페이지접근(url, params)\n",
    "\n",
    "    # 데이터 수집\n",
    "    기준일자 = str(datetime.date.today())\n",
    "    상품코드 = soup.find_all('li', {'data-product-seq':re.compile(r'[0-9]+')})\n",
    "    상품코드정보 = []\n",
    "    for 코드 in 상품코드:\n",
    "        상품코드정보.append((기준일자 , 코드.attrs['data-product-seq']))\n",
    "\n",
    "    # 데이터 프레임 생성\n",
    "    상품코드리스트 = pd.DataFrame(상품코드정보, columns=['수집일','상품코드'])\n",
    "    \n",
    "    return 상품코드리스트"
   ]
  },
  {
   "cell_type": "code",
   "execution_count": 182,
   "metadata": {},
   "outputs": [],
   "source": [
    "# 상세정보 수집\n",
    "def 상세정보수집(soup):\n",
    "    테이블 = soup.find('table', {'class':'section_td'}).find_all('tr')\n",
    "    상세정보 = {'상품코드':코드}\n",
    "    for 레코드 in 테이블:\n",
    "        속성 = 레코드.find('th').text\n",
    "        내용 = 레코드.find('td').text\n",
    "        상세정보[속성] = 내용\n",
    "    return 상세정보"
   ]
  },
  {
   "cell_type": "code",
   "execution_count": 247,
   "metadata": {},
   "outputs": [],
   "source": [
    "# 판매자정보 수집\n",
    "def 판매자정보수집(soup):\n",
    "    테이블 = soup.find('div', {'class':'pop_comm sale_pop'}).find_all('tr')\n",
    "    판매자정보 = {'상품코드':코드}\n",
    "    for 레코드 in 테이블:\n",
    "        속성 = 레코드.find('th').contents[0].replace('\\xa0',' ')\n",
    "        내용 = 레코드.find('td').contents[0].replace('\\xa0',' ')\n",
    "        판매자정보[속성] = 내용\n",
    "    return 판매자정보"
   ]
  },
  {
   "cell_type": "code",
   "execution_count": 195,
   "metadata": {},
   "outputs": [],
   "source": [
    "# 판매정보수집\n",
    "def 판매정보수집(soup):\n",
    "    테이블 = soup.find('li',{'class':'bott_info'}).find_all('dl')\n",
    "    판매정보 = {'기준일자':기준일자, '상품코드':코드}\n",
    "    for 레코드 in 테이블:\n",
    "        속성 = 레코드.find('dt').contents[0]\n",
    "        내용 = 레코드.find('em').contents[0]\n",
    "        판매정보[속성] = 내용\n",
    "    return 판매정보"
   ]
  },
  {
   "cell_type": "code",
   "execution_count": 253,
   "metadata": {},
   "outputs": [],
   "source": [
    "# 판매자정보 추가수집\n",
    "def 사업자정보수집(사업자번호):\n",
    "    url = 'https://www.ftc.go.kr/bizCommPop.do'\n",
    "    params = {'wrkr_no':사업자번호}\n",
    "    soup = 홈페이지접근(url, params)\n",
    "    테이블 = soup.find('table',{'class','bbs_default view'}).find_all('tr')\n",
    "    사업자정보 = {}\n",
    "    for 레코드 in 테이블:\n",
    "        속성 = 레코드.find('th').text.strip().replace('\\xa0',' ')\n",
    "        내용 = 레코드.find('td').text.strip().replace('\\xa0',' ')\n",
    "        사업자정보[속성] = 내용\n",
    "    return 사업자정보"
   ]
  },
  {
   "cell_type": "code",
   "execution_count": 334,
   "metadata": {},
   "outputs": [],
   "source": [
    "# 시세정보 수집\n",
    "def 시세수집(시세번호):\n",
    "    url = 'https://www.meatbox.co.kr/fo/sise/siseViewPage.do'\n",
    "    params = {'siseSeq':시세번호}\n",
    "    soup = 홈페이지접근(url, params)\n",
    "    테이블 = soup.find('div',{'id':'table'}).find('table').find_all('tr')\n",
    "    시세정보 = []\n",
    "    for 레코드 in 테이블:\n",
    "        일자 = 레코드.find('td',{'class':'align'}).contents[0].strip()\n",
    "        요일 = 레코드.find('td',{'class':'align'}).contents[1].text\n",
    "        시세 = 레코드.find('td',{'class':'dome_sise'}).find('span',{'class':'much'}).text.replace(',','').replace('원','')\n",
    "        시세 = int(시세)\n",
    "        시세정보.append((시세번호, 일자, 요일, 시세))\n",
    "\n",
    "    시세정보 = pd.DataFrame(시세정보, columns=['시세번호','기준일자','요일','시세'])\n",
    "    return 시세정보"
   ]
  },
  {
   "cell_type": "code",
   "execution_count": null,
   "metadata": {},
   "outputs": [],
   "source": [
    "시세정보 = 시세수집(3932878)"
   ]
  },
  {
   "cell_type": "code",
   "execution_count": 362,
   "metadata": {},
   "outputs": [],
   "source": [
    "# 수입이력정보수집\n",
    "def 수입이력정보수집(이력번호):\n",
    "    url = 'https://www.meatwatch.go.kr/cs/dst/bdi/selectDistbHistInfoDetail.do'\n",
    "    params = {'searchWrd':이력번호}\n",
    "    soup = 홈페이지접근(url, params)\n",
    "    테이블리스트 = soup.find_all('table')\n",
    "    수입이력정보 = {}\n",
    "    for 테이블 in 테이블리스트:\n",
    "        info = 테이블.attrs['summary']\n",
    "        테이블 = 테이블.find_all('tr')\n",
    "        for 레코드 in 테이블:\n",
    "            속성들 = 레코드.find_all('th')\n",
    "            내용들 = 레코드.find_all('td')\n",
    "            for i in range(len(속성들)):\n",
    "                속성 = 속성들[i].text\n",
    "                내용 = 내용들[i].text\n",
    "                수입이력정보[속성] = 내용\n",
    "    return 수입이력정보"
   ]
  },
  {
   "cell_type": "code",
   "execution_count": 363,
   "metadata": {},
   "outputs": [
    {
     "data": {
      "text/plain": [
       "{'이력번호': '800103065450',\n",
       " '선하증권번호': 'ONEYRICUF7556900',\n",
       " '수입쇠고기 품목명': '냉장쇠고기',\n",
       " '원산지 국가': '미국',\n",
       " '수출국 도축장': 'Cargill Meat Solutions Corporation,EXCEL CORPORATION',\n",
       " '수출국 도축일자': '2018-06-27 ~ 2018-07-10',\n",
       " '수출국 가공장': 'Cargill Meat Solutions Corporation,EXCEL CORPORATION',\n",
       " '수출국 가공일자': '2018-07-05 ~ 2018-07-11',\n",
       " '수출업체': 'CARGILL MEAT SOLUTION CORP.',\n",
       " '수입업체': '(주)한결엘에스',\n",
       " '수입일자': '2018-08-24',\n",
       " '부위명(코드)': '안심(BF001),등심(BF002),채끝(BF003),목심(BF004),앞다리(BF005),갈비(BF010)'}"
      ]
     },
     "execution_count": 363,
     "metadata": {},
     "output_type": "execute_result"
    }
   ],
   "source": [
    "수입이력정보수집(800103065450)"
   ]
  },
  {
   "cell_type": "code",
   "execution_count": 335,
   "metadata": {},
   "outputs": [],
   "source": [
    "# 시세번호 및 상품정보 수집"
   ]
  },
  {
   "cell_type": "code",
   "execution_count": null,
   "metadata": {},
   "outputs": [],
   "source": [
    "#http://www.ekapepia.com/user/distribution/distDetail.do?nd57433"
   ]
  },
  {
   "cell_type": "code",
   "execution_count": null,
   "metadata": {},
   "outputs": [],
   "source": [
    "# 상품정보 수집"
   ]
  }
 ],
 "metadata": {
  "kernelspec": {
   "display_name": "Python 3",
   "language": "python",
   "name": "python3"
  },
  "language_info": {
   "codemirror_mode": {
    "name": "ipython",
    "version": 3
   },
   "file_extension": ".py",
   "mimetype": "text/x-python",
   "name": "python",
   "nbconvert_exporter": "python",
   "pygments_lexer": "ipython3",
   "version": "3.6.5"
  }
 },
 "nbformat": 4,
 "nbformat_minor": 2
}
