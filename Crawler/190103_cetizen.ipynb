{
 "cells": [
  {
   "cell_type": "code",
   "execution_count": 103,
   "metadata": {},
   "outputs": [],
   "source": [
    "import urllib.request as req\n",
    "from urllib.parse import urlparse, urlsplit\n",
    "from bs4 import BeautifulSoup\n",
    "import pandas as pd\n",
    "import numpy as np\n",
    "import sqlite3\n",
    "import re\n",
    "pd.options.display.float_format = '{:,.1f}'.format"
   ]
  },
  {
   "cell_type": "code",
   "execution_count": 17,
   "metadata": {},
   "outputs": [],
   "source": [
    "url = 'https://price.cetizen.com/'\n",
    "res = req.Request(url)\n",
    "html = req.urlopen(res).read()\n",
    "soup = BeautifulSoup(html, 'html.parser')"
   ]
  },
  {
   "cell_type": "code",
   "execution_count": 221,
   "metadata": {},
   "outputs": [],
   "source": [
    "wireless = {'wireless_1[]':'S', 'wireless_2[]':'K', 'wireless_3[]':'L', 'wireless_1,2[]':'S,K',\n",
    "            'wireless_1,3[]':'S,L', 'wireless_2,3[]':'K,L', 'wireless_1,2,3[]':'S,K,L', 'wireless_7[]':'SELF'}\n",
    "\n",
    "def getInfo(tag):\n",
    "    tag2 = tag.find_all('li', {'style':re.compile('^float:left')})\n",
    "    pno = urlparse(tag2[0].a['href']).query.split('&')[1].split('=')[1]\n",
    "    name = tag2[0].text\n",
    "    model = tag2[1].text\n",
    "    price = tag2[2].text\n",
    "    return pno, name, model, price\n",
    "\n",
    "def getInfoWireless(wireless):\n",
    "    rstList = []\n",
    "    tag = soup.find_all('div', {'name':wireless[0]})\n",
    "    for i in range(len(tag)):\n",
    "        rstList.append([wireless[1], *getInfo(tag[i])])\n",
    "    df = pd.DataFrame(rstList, columns={'wireless','pno','name','model','price'})\n",
    "    return df\n",
    "\n",
    "def getInfoAll():\n",
    "    rstList = []\n",
    "    for wl in wireless.items():        \n",
    "        rstList.append(getInfoWireless(wl))\n",
    "    df = pd.concat(rstList)\n",
    "    return df"
   ]
  },
  {
   "cell_type": "code",
   "execution_count": 222,
   "metadata": {},
   "outputs": [],
   "source": [
    "df = getInfoAll()"
   ]
  }
 ],
 "metadata": {
  "kernelspec": {
   "display_name": "Python 3",
   "language": "python",
   "name": "python3"
  },
  "language_info": {
   "codemirror_mode": {
    "name": "ipython",
    "version": 3
   },
   "file_extension": ".py",
   "mimetype": "text/x-python",
   "name": "python",
   "nbconvert_exporter": "python",
   "pygments_lexer": "ipython3",
   "version": "3.7.1"
  }
 },
 "nbformat": 4,
 "nbformat_minor": 2
}
