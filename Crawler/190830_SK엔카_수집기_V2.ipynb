{
 "cells": [
  {
   "cell_type": "code",
   "execution_count": 1,
   "metadata": {},
   "outputs": [],
   "source": [
    "import pandas as pd\n",
    "#import numpy as np\n",
    "import os\n",
    "#import sys\n",
    "#import matplotlib.pyplot as plt\n",
    "#import matplotlib\n",
    "from selenium import webdriver\n",
    "from selenium.webdriver.support.ui import Select\n",
    "from selenium.webdriver.common.by import By\n",
    "from selenium.webdriver.support.ui import WebDriverWait\n",
    "from selenium.webdriver.support import expected_conditions as EC\n",
    "import random\n",
    "import time\n",
    "from datetime import datetime"
   ]
  },
  {
   "cell_type": "code",
   "execution_count": 2,
   "metadata": {},
   "outputs": [],
   "source": [
    "driver = webdriver.Chrome('chromedriver')"
   ]
  },
  {
   "cell_type": "markdown",
   "metadata": {},
   "source": [
    "#### 0. 환경설정"
   ]
  },
  {
   "cell_type": "code",
   "execution_count": 3,
   "metadata": {},
   "outputs": [],
   "source": [
    "car_domestic = 'http://www.encar.com/dc/dc_carsearchlist.do?carType=kor&searchType=model&TG.R=A#!'\n",
    "car_foreign = 'http://www.encar.com/fc/fc_carsearchlist.do?carType=for&searchType=model&TG.R=B#!'\n",
    "car_ev = 'http://www.encar.com/ev/ev_carsearchlist.do?carType=ev&searchType=model&TG.R=D#!'\n",
    "page_num = 100   # 수집 페이지 수\n",
    "delay = 1.5   # 딜레이 시간"
   ]
  },
  {
   "cell_type": "markdown",
   "metadata": {},
   "source": [
    "#### 1. 초기화"
   ]
  },
  {
   "cell_type": "code",
   "execution_count": 4,
   "metadata": {},
   "outputs": [],
   "source": [
    "# 접속하기\n",
    "driver.get(car_ev)\n",
    "\n",
    "# [20개씩 보기] → [50개씩 보기]로 변환\n",
    "viewer = Select(driver.find_element_by_css_selector('select#pagerow'))\n",
    "viewer.select_by_value('50')\n",
    "time.sleep(delay)\n",
    "\n",
    "# 차종 카테고리 열기\n",
    "driver.find_element_by_css_selector('div.schset.category').find_element_by_css_selector('h5').click()\n",
    "time.sleep(delay)"
   ]
  },
  {
   "cell_type": "markdown",
   "metadata": {},
   "source": [
    "#### 2. 페이지 순회 함수"
   ]
  },
  {
   "cell_type": "code",
   "execution_count": 5,
   "metadata": {},
   "outputs": [],
   "source": [
    "# 페이지 순회\n",
    "def get_data_batch(car_category, ev_type):\n",
    "    stack = []\n",
    "    page = 1\n",
    "    while(True):\n",
    "        rows = driver.find_element_by_css_selector('tbody#sr_normal').find_elements_by_tag_name('tr')\n",
    "        batch = []\n",
    "        for row in rows:\n",
    "            batch.append(row.get_attribute('outerHTML'))\n",
    "        stack += batch\n",
    "        try:\n",
    "            driver.find_element_by_css_selector('div#pagination').find_element_by_xpath('//a[@data-page=\"{}\"]'.format(page)).click()\n",
    "        except:\n",
    "            break\n",
    "        page += 1\n",
    "        time.sleep(delay)\n",
    "    df = pd.DataFrame(stack)\n",
    "    df.columns = ['데이터']\n",
    "    df.insert(0, '종류2', ev_type)\n",
    "    df.insert(0, '종류1', car_category)\n",
    "    return df"
   ]
  },
  {
   "cell_type": "markdown",
   "metadata": {},
   "source": [
    "#### 3. 순회 시작"
   ]
  },
  {
   "cell_type": "code",
   "execution_count": null,
   "metadata": {},
   "outputs": [
    {
     "name": "stdout",
     "output_type": "stream",
     "text": [
      "수집시작(차종: 경차, 종류: 전기차)\n",
      "수집완료(개수: 156개)\n",
      "수집시작(차종: 경차, 종류: LPG)\n",
      "수집완료(개수: 225개)\n",
      "수집시작(차종: 소형차, 종류: 하이브리드)\n",
      "수집완료(개수: 40개)\n",
      "수집시작(차종: 소형차, 종류: 전기차)\n",
      "수집완료(개수: 76개)\n",
      "수집시작(차종: 준중형차, 종류: 하이브리드)\n",
      "수집완료(개수: 360개)\n",
      "수집시작(차종: 준중형차, 종류: 플러그인 하이브리드)\n",
      "수집완료(개수: 30개)\n",
      "수집시작(차종: 준중형차, 종류: 전기차)\n",
      "수집완료(개수: 228개)\n",
      "수집시작(차종: 준중형차, 종류: LPG)\n",
      "수집완료(개수: 188개)\n",
      "수집시작(차종: 중형차, 종류: 하이브리드)\n",
      "수집완료(개수: 550개)\n",
      "수집시작(차종: 중형차, 종류: 플러그인 하이브리드)\n",
      "수집완료(개수: 50개)\n",
      "수집시작(차종: 중형차, 종류: 전기차)\n",
      "수집완료(개수: 50개)\n",
      "수집시작(차종: 중형차, 종류: LPG)\n",
      "수집완료(개수: 50개)\n"
     ]
    }
   ],
   "source": [
    "result = []\n",
    "# 차종 선택\n",
    "for category_num in range(12):\n",
    "    if driver.find_element_by_css_selector('input#category_{}'.format(category_num)).find_element_by_xpath('./following-sibling::em').text != '0':\n",
    "        driver.find_element_by_css_selector('input#category_{}'.format(category_num)).click()\n",
    "        time.sleep(delay)\n",
    "        car_category = driver.find_element_by_css_selector('input#category_{}'.format(category_num)).find_element_by_xpath('./following-sibling::label').text\n",
    "        \n",
    "    \n",
    "        # 전기ㆍ친환경차 종류 선택\n",
    "        for ev_type_num in range(4):\n",
    "            if driver.find_element_by_css_selector('input#evType_{}'.format(ev_type_num)).find_element_by_xpath('./following-sibling::em').text != '0':\n",
    "                driver.find_element_by_css_selector('input#evType_{}'.format(ev_type_num)).click()\n",
    "                time.sleep(delay)\n",
    "                ev_type = driver.find_element_by_css_selector('input#evType_{}'.format(ev_type_num)).find_element_by_xpath('./following-sibling::label').text\n",
    "                ################\n",
    "                print('수집시작(차종: {}, 종류: {})'.format(car_category, ev_type))\n",
    "                temp = get_data_batch(car_category, ev_type)\n",
    "                result.append(temp)\n",
    "                print('수집완료(개수: {}개)'.format(len(temp)))\n",
    "                ################\n",
    "                driver.find_element_by_css_selector('input#evType_{}'.format(ev_type_num)).click()\n",
    "                time.sleep(delay)\n",
    "\n",
    "        driver.find_element_by_css_selector('input#category_{}'.format(category_num)).click()\n",
    "        time.sleep(delay)"
   ]
  },
  {
   "cell_type": "code",
   "execution_count": 5,
   "metadata": {},
   "outputs": [],
   "source": [
    "# result 폴더 생성\n",
    "if not any([s == 'result' for s in os.listdir('.')]):\n",
    "    os.mkdir('result')\n",
    "\n",
    "# 결과 저장하기\n",
    "df = pd.concat(result)\n",
    "today = datetime.now().strftime('%Y%m%d%H%M%S')\n",
    "\n",
    "writer = pd.ExcelWriter('./result/skencar_carlist_env_{}.xlsx'.format(today))\n",
    "df.to_excel(writer, index=False)\n",
    "writer.save()\n",
    "writer.close()"
   ]
  }
 ],
 "metadata": {
  "kernelspec": {
   "display_name": "Python 3",
   "language": "python",
   "name": "python3"
  },
  "language_info": {
   "codemirror_mode": {
    "name": "ipython",
    "version": 3
   },
   "file_extension": ".py",
   "mimetype": "text/x-python",
   "name": "python",
   "nbconvert_exporter": "python",
   "pygments_lexer": "ipython3",
   "version": "3.7.0"
  }
 },
 "nbformat": 4,
 "nbformat_minor": 4
}
