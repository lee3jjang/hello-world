{
 "cells": [
  {
   "cell_type": "code",
   "execution_count": 93,
   "metadata": {},
   "outputs": [],
   "source": [
    "import pandas as pd\n",
    "import numpy as np\n",
    "import sqlite3\n",
    "import urllib\n",
    "import datetime\n",
    "from selenium import webdriver\n",
    "from selenium.common.exceptions import NoSuchElementException\n",
    "import pickle"
   ]
  },
  {
   "cell_type": "code",
   "execution_count": 83,
   "metadata": {},
   "outputs": [],
   "source": [
    "class 크롤러:\n",
    "    def __init__(self, driver):\n",
    "        self.driver = driver\n",
    "        self.date = str(datetime.date.today())\n",
    "    def __홈페이지접근(self, url, params):\n",
    "        url_params = '{}?{}'.format(url, urllib.parse.urlencode(params))\n",
    "        if self.driver.current_url != url_params:\n",
    "            self.driver.get(url_params)\n",
    "    def 상품코드수집(self):\n",
    "        url = 'https://www.meatbox.co.kr/fo/product/productListPage.do'\n",
    "        params = {'categorySeq':10005,'articleCount':'1000'}\n",
    "        self.__홈페이지접근(url, params)\n",
    "        상품코드 = self.driver.find_elements_by_css_selector('li[data-product-seq]')\n",
    "        상품코드정보 = []\n",
    "        for 상품 in 상품코드:\n",
    "            상품코드정보.append((self.date, 상품.get_attribute('data-product-seq')))\n",
    "        상품코드정보 = pd.DataFrame(상품코드정보, columns=['기준일자','상품코드'])\n",
    "        return 상품코드정보\n",
    "    def 추가정보수집(self, 상품코드):\n",
    "        url = 'https://www.meatbox.co.kr/fo/product/productViewPage.do'\n",
    "        params = {'productSeq':상품코드}\n",
    "        self.__홈페이지접근(url, params)\n",
    "        \n",
    "        # 상세정보수집\n",
    "        테이블 = driver.find_element_by_xpath(\"//table[@class='section_td']\").find_elements_by_tag_name('tr')\n",
    "        상세정보 = {'상품코드':상품코드}\n",
    "        for 레코드 in 테이블:\n",
    "            속성 = 레코드.find_element_by_tag_name('th').text\n",
    "            내용 = 레코드.find_element_by_tag_name('td').text\n",
    "            상세정보[속성] = 내용\n",
    "            \n",
    "        # 판매정보수집\n",
    "        테이블 = driver.find_element_by_xpath(\"//li[@class='bott_info']\").find_elements_by_tag_name('dl')\n",
    "        판매정보 = {'기준일자':self.date, '상품코드':상품코드}\n",
    "        for 레코드 in 테이블:\n",
    "            속성 = 레코드.find_element_by_tag_name('dt').get_attribute('innerHTML')\n",
    "            내용 = 레코드.find_element_by_tag_name('em').get_attribute('innerHTML')\n",
    "            판매정보[속성] = 내용\n",
    "\n",
    "        # 판매자정보수집\n",
    "        테이블 = driver.find_element_by_xpath(\"//div[@class='pop_comm sale_pop']\").find_elements_by_tag_name('tr')\n",
    "        판매자정보 = {'상품코드':상품코드}\n",
    "        for 레코드 in 테이블:\n",
    "            속성 = 레코드.find_element_by_tag_name('th').get_attribute('innerHTML').replace('&nbsp;', ' ')\n",
    "            내용 = 레코드.find_element_by_tag_name('td').get_attribute('innerHTML').replace('&nbsp;', ' ')\n",
    "            판매자정보[속성] = 내용\n",
    "        판매자정보['사업자등록번호'] = 판매자정보['사업자등록번호'].split('<strong>')[0]\n",
    "\n",
    "        # 상품정보수집\n",
    "        try:\n",
    "            테이블 = driver.find_element_by_xpath(\"//div[@class='pop_comm deteil_over_pop _optionDetailInfoLayer']\").find_element_by_xpath(\"//div[@class='table_wrap']\").find_elements_by_tag_name('tr')\n",
    "            상품정보 = {'상품코드':상품코드}\n",
    "            for 레코드 in 테이블:\n",
    "                속성 = 레코드.find_element_by_tag_name('th').get_attribute('innerHTML')\n",
    "                내용 = 레코드.find_element_by_tag_name('td').get_attribute('innerHTML')\n",
    "                상품정보[속성] = 내용\n",
    "        except NoSuchElementException:\n",
    "            상품정보 = {'상품코드':상품코드}\n",
    "\n",
    "        return (상세정보, 판매정보, 판매자정보, 상품정보)"
   ]
  },
  {
   "cell_type": "code",
   "execution_count": 85,
   "metadata": {},
   "outputs": [],
   "source": [
    "driver = webdriver.Chrome('./downloads/chromedriver')\n",
    "crawler = 크롤러(driver)\n",
    "상품코드 = crawler.상품코드수집()"
   ]
  },
  {
   "cell_type": "code",
   "execution_count": 90,
   "metadata": {},
   "outputs": [],
   "source": [
    "상세정보들, 판매정보들, 판매자정보들, 상품정보들 = [], [], [], []\n",
    "for 코드 in 상품코드['상품코드']:\n",
    "    상세정보, 판매정보, 판매자정보, 상품정보 = crawler.추가정보수집(코드)\n",
    "    상세정보들.append(상세정보)\n",
    "    판매정보들.append(판매정보)\n",
    "    판매자정보들.append(판매자정보)\n",
    "    상품정보들.append(상품정보)"
   ]
  },
  {
   "cell_type": "code",
   "execution_count": 109,
   "metadata": {},
   "outputs": [],
   "source": [
    "정보목록 = ['상세정보', '판매정보', '판매자정보', '상품정보']\n",
    "for 정보 in 정보목록:\n",
    "    with open(정보+'.obj', 'wb') as f:\n",
    "        pickle.dump(상세정보들, f)"
   ]
  }
 ],
 "metadata": {
  "kernelspec": {
   "display_name": "Python 3",
   "language": "python",
   "name": "python3"
  },
  "language_info": {
   "codemirror_mode": {
    "name": "ipython",
    "version": 3
   },
   "file_extension": ".py",
   "mimetype": "text/x-python",
   "name": "python",
   "nbconvert_exporter": "python",
   "pygments_lexer": "ipython3",
   "version": "3.6.5"
  }
 },
 "nbformat": 4,
 "nbformat_minor": 2
}
