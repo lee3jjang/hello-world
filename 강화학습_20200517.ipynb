{
 "cells": [
  {
   "cell_type": "code",
   "execution_count": 1,
   "metadata": {},
   "outputs": [],
   "source": [
    "import gym\n",
    "import numpy as np\n",
    "import matplotlib.pyplot as plt\n",
    "from gym.envs.registration import register"
   ]
  },
  {
   "cell_type": "code",
   "execution_count": 2,
   "metadata": {},
   "outputs": [],
   "source": [
    "register(\n",
    "    id = 'FrozenLake-v3',\n",
    "    entry_point = 'gym.envs.toy_text:FrozenLakeEnv',\n",
    "    kwargs={\n",
    "        'map_name': '4x4',\n",
    "        'is_slippery': False\n",
    "    }\n",
    ")\n",
    "env = gym.make('FrozenLake-v3')"
   ]
  },
  {
   "cell_type": "code",
   "execution_count": 3,
   "metadata": {},
   "outputs": [
    {
     "name": "stdout",
     "output_type": "stream",
     "text": [
      "1 0.0 False {'prob': 1.0}\n",
      "  (Right)\n",
      "S\u001b[41mF\u001b[0mFF\n",
      "FHFH\n",
      "FFFH\n",
      "HFFG\n"
     ]
    }
   ],
   "source": [
    "LEFT, DOWN, RIGHT, UP = 0, 1, 2, 3\n",
    "state, reward, done, info = env.step(RIGHT)\n",
    "print(state, reward, done, info)\n",
    "env.render()"
   ]
  },
  {
   "cell_type": "code",
   "execution_count": 4,
   "metadata": {},
   "outputs": [],
   "source": [
    "# Q : 현재 State에서 action을 취할 때 얻을 수 있는 reward\n",
    "# 16 : 4x4라서 16개임\n",
    "# 4 : 위, 아래, 왼쪽, 오른쪽\n",
    "\n",
    "Q = np.zeros([env.observation_space.n, env.action_space.n])\n",
    "v = 0.99\n",
    "\n",
    "num_episodes = 10000\n",
    "\n",
    "rList = []\n",
    "\n",
    "# Random Noise\n",
    "for i in range(num_episodes):\n",
    "    state = env.reset()\n",
    "    rAll = 0\n",
    "    done = False\n",
    "\n",
    "    while not done:\n",
    "        action = np.argmax(Q[state, :]+np.random.randn(env.action_space.n)/(i+1))\n",
    "        new_state, reward, done, _ = env.step(action)\n",
    "        Q[state, action] = reward + v*np.max(Q[new_state, :])\n",
    "        rAll += reward\n",
    "        state = new_state\n",
    "    rList.append(rAll)\n",
    "\n",
    "# E-greedy\n",
    "# for i in range(num_episodes):\n",
    "#     state = env.reset()\n",
    "#     rAll = 0\n",
    "#     done = False\n",
    "#     e = 1./(i/100+1)\n",
    "\n",
    "#     while not done:\n",
    "#         action = env.action_space.sample() if np.random.rand() < e else np.argmax(Q[state, :])\n",
    "#         new_state, reward, done, _ = env.step(action)\n",
    "#         Q[state, action] = reward + v*np.max(Q[new_state, :])\n",
    "#         rAll += reward\n",
    "#         state = new_state\n",
    "#     rList.append(rAll)"
   ]
  },
  {
   "cell_type": "code",
   "execution_count": 13,
   "metadata": {},
   "outputs": [
    {
     "data": {
      "image/png": "[encoded data removed]",
      "text/plain": [
       "<Figure size 720x360 with 1 Axes>"
      ]
     },
     "metadata": {
      "needs_background": "light"
     },
     "output_type": "display_data"
    }
   ],
   "source": [
    "fig, ax = plt.subplots(1,1,figsize=(10,5))\n",
    "ax.plot(rList)\n",
    "ax.grid()\n",
    "# ax.spines['right'].set_visible(False)\n",
    "# ax.spines['top'].set_visible(False)\n",
    "plt.show()"
   ]
  }
 ],
 "metadata": {
  "kernelspec": {
   "display_name": "Python 3",
   "language": "python",
   "name": "python3"
  },
  "language_info": {
   "codemirror_mode": {
    "name": "ipython",
    "version": 3
   },
   "file_extension": ".py",
   "mimetype": "text/x-python",
   "name": "python",
   "nbconvert_exporter": "python",
   "pygments_lexer": "ipython3",
   "version": "3.7.6"
  }
 },
 "nbformat": 4,
 "nbformat_minor": 4
}
