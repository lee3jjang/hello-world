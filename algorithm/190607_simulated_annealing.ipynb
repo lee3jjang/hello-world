{
 "cells": [
  {
   "cell_type": "code",
   "execution_count": 6,
   "metadata": {},
   "outputs": [],
   "source": [
    "import random\n",
    "import math\n",
    "LIMIT = 10"
   ]
  },
  {
   "cell_type": "code",
   "execution_count": 7,
   "metadata": {},
   "outputs": [],
   "source": [
    "def update_temperature(T, k):\n",
    "    return T - 0.001\n",
    "\n",
    "def get_neighbors(i, L):\n",
    "    assert L > 1 and i >= 0 and i < L\n",
    "    if i == 0:\n",
    "        return [1]\n",
    "    elif i == L-1:\n",
    "        return [L-2]\n",
    "    else:\n",
    "        return [i-1, i+1]\n",
    "    \n",
    "def make_move(x, A, T):\n",
    "    nhb = random.choice(range(len(A)))\n",
    "    \n",
    "    delta = A[nhb] - A[x]\n",
    "    \n",
    "    if delta < 0:\n",
    "        return nhb\n",
    "    else:\n",
    "        p = math.exp(-delta/T)\n",
    "        return nhb if random.random() < p else x\n",
    "    \n",
    "def simulated_annealing(A):\n",
    "    L = len(A)\n",
    "    x0 = random.choice(range(L))\n",
    "    T = 1.\n",
    "    k = 1\n",
    "    \n",
    "    x = x0\n",
    "    x_best = x0\n",
    "    \n",
    "    while T > 1e-3:\n",
    "        x = make_move(x, A, T)\n",
    "        if(A[x] < A[x_best]):\n",
    "            x_best = x\n",
    "        T = update_temperature(T, k)\n",
    "        k += 1\n",
    "    \n",
    "    print(\"Iterations: {}\".format(k))\n",
    "    return x, x_best, x0\n",
    "\n",
    "def isminima_local(p, A):\n",
    "    return all(A[p] < A[i] for i in get_neighbors(p, len(A)))\n",
    "\n",
    "def func(x):\n",
    "    return math.sin((2*math.pi/LIMIT)*x) + 0.001*random.random()\n",
    "\n",
    "def initialize(L):\n",
    "    return list(map(func, range(L)))"
   ]
  },
  {
   "cell_type": "code",
   "execution_count": 16,
   "metadata": {},
   "outputs": [],
   "source": [
    "import matplotlib.pyplot as plt\n",
    "import numpy as np"
   ]
  },
  {
   "cell_type": "code",
   "execution_count": 559,
   "metadata": {},
   "outputs": [
    {
     "data": {
      "image/png": "[encoded data removed]",
      "text/plain": [
       "<Figure size 432x288 with 1 Axes>"
      ]
     },
     "metadata": {
      "needs_background": "light"
     },
     "output_type": "display_data"
    }
   ],
   "source": [
    "X = np.linspace(0.01, LIMIT, 100)\n",
    "y = np.array([func(x) for x in X])\n",
    "plt.scatter(X, y, s=10)\n",
    "plt.show()"
   ]
  },
  {
   "cell_type": "code",
   "execution_count": 562,
   "metadata": {},
   "outputs": [],
   "source": [
    "def simulated_annealing(y):\n",
    "    T = 1.\n",
    "    idx0 = random.choice(indices)\n",
    "    k = 1\n",
    "    \n",
    "    idx = x0\n",
    "    idx_best = x0\n",
    "    \n",
    "    while T > 1e-3:\n",
    "        idx = make_move(idx, y, T)\n",
    "        if(y[idx] < y[idx_best]):\n",
    "            idx_best = idx\n",
    "        T = update_temperature(T)\n",
    "        k += 1\n",
    "    \n",
    "    return idx, idx_best, idx0\n",
    "\n",
    "def update_temperature(T):\n",
    "    return T - 0.001\n",
    "\n",
    "def get_neighbors(idx):\n",
    "    assert idx < len(y) and idx >= 0\n",
    "    if idx == 0:\n",
    "        return np.array([idx+1])\n",
    "    elif idx == len(y)-1:\n",
    "        return np.array([idx-1])\n",
    "    else:\n",
    "        return np.array([idx-1, idx+1])\n",
    "    \n",
    "def make_move(idx, y, T):\n",
    "    nhb = random.choice(indices)\n",
    "    delta = y[nhb] - y[idx]\n",
    "    if delta < 0:\n",
    "        return nhb\n",
    "    else:\n",
    "        p = math.exp(-delta/T)\n",
    "        return nhb if random.random() < p else idx\n",
    "    \n",
    "def isminima_local(idx, y):\n",
    "    return (y[indices[idx]] < y[get_neighbors(indices[idx])]).all()\n",
    "    \n",
    "    \n",
    "indices = np.arange(y.shape[0])\n",
    "local_minima = []\n",
    "for idx in indices:\n",
    "    if(isminima_local(idx, y)):\n",
    "        local_minima.append([idx, y[idx]])\n",
    "        \n",
    "x = 0\n",
    "y2 = y[x]\n",
    "for xi, yi in enumerate(y):\n",
    "    if yi < y2:\n",
    "        x = xi\n",
    "        y2 = yi\n",
    "global_minimum = x"
   ]
  },
  {
   "cell_type": "code",
   "execution_count": 569,
   "metadata": {},
   "outputs": [],
   "source": [
    "x, x_best, x0 = simulated_annealing(y)"
   ]
  }
 ],
 "metadata": {
  "kernelspec": {
   "display_name": "Python 3",
   "language": "python",
   "name": "python3"
  },
  "language_info": {
   "codemirror_mode": {
    "name": "ipython",
    "version": 3
   },
   "file_extension": ".py",
   "mimetype": "text/x-python",
   "name": "python",
   "nbconvert_exporter": "python",
   "pygments_lexer": "ipython3",
   "version": "3.7.3"
  }
 },
 "nbformat": 4,
 "nbformat_minor": 2
}
