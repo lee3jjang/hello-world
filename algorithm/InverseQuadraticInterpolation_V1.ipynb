{
 "cells": [
  {
   "cell_type": "code",
   "execution_count": 1,
   "metadata": {},
   "outputs": [],
   "source": [
    "import numpy as np"
   ]
  },
  {
   "cell_type": "code",
   "execution_count": 75,
   "metadata": {},
   "outputs": [],
   "source": [
    "obj_func = lambda x: (x-3)**2"
   ]
  },
  {
   "cell_type": "code",
   "execution_count": 78,
   "metadata": {},
   "outputs": [
    {
     "name": "stdout",
     "output_type": "stream",
     "text": [
      "[20 10  7] [289  49  18]\n",
      "[10  7  5] [49 18  4]\n",
      "[7 5 4] [18  4  1]\n",
      "[5 4 3] [4 1 0]\n",
      "Root: 3\n"
     ]
    }
   ],
   "source": [
    "x = x0 = np.array([-40, 20, 10])\n",
    "f = obj_func(x)\n",
    "\n",
    "tol = 1e-10\n",
    "for i in range(100):\n",
    "    x_next = f[1]*f[2]/((f[0]-f[1])*(f[0]-f[2]))*x[0] + f[0]*f[2]/((f[1]-f[0])*(f[1]-f[2]))*x[1] + f[0]*f[1]/((f[2]-f[0])*(f[2]-f[1]))*x[2]\n",
    "    x[:2] = x[1:]\n",
    "    f[:2] = f[1:]\n",
    "    x[2] = x_next\n",
    "    f[2] = obj_func(x_next)\n",
    "    print(x, f)\n",
    "    if(f[2] < tol):\n",
    "        break\n",
    "\n",
    "print(\"Root: {}\".format(x[2]))"
   ]
  }
 ],
 "metadata": {
  "kernelspec": {
   "display_name": "Python 3",
   "language": "python",
   "name": "python3"
  },
  "language_info": {
   "codemirror_mode": {
    "name": "ipython",
    "version": 3
   },
   "file_extension": ".py",
   "mimetype": "text/x-python",
   "name": "python",
   "nbconvert_exporter": "python",
   "pygments_lexer": "ipython3",
   "version": "3.7.0"
  }
 },
 "nbformat": 4,
 "nbformat_minor": 2
}
