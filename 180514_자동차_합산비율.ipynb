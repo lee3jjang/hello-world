{
 "cells": [
  {
   "cell_type": "code",
   "execution_count": 1,
   "metadata": {},
   "outputs": [],
   "source": [
    "import pandas as pd\n",
    "import numpy as np\n",
    "pd.options.display.float_format = '{:,.0f}'.format"
   ]
  },
  {
   "cell_type": "code",
   "execution_count": 2,
   "metadata": {},
   "outputs": [
    {
     "data": {
      "text/html": [
       "<div>\n",
       "<style scoped>\n",
       "    .dataframe tbody tr th:only-of-type {\n",
       "        vertical-align: middle;\n",
       "    }\n",
       "\n",
       "    .dataframe tbody tr th {\n",
       "        vertical-align: top;\n",
       "    }\n",
       "\n",
       "    .dataframe thead th {\n",
       "        text-align: right;\n",
       "    }\n",
       "</style>\n",
       "<table border=\"1\" class=\"dataframe\">\n",
       "  <thead>\n",
       "    <tr style=\"text-align: right;\">\n",
       "      <th></th>\n",
       "      <th>QIS분류</th>\n",
       "      <th>업무보고서</th>\n",
       "    </tr>\n",
       "  </thead>\n",
       "  <tbody>\n",
       "    <tr>\n",
       "      <th>0</th>\n",
       "      <td>NaN</td>\n",
       "      <td>1. 책임보험</td>\n",
       "    </tr>\n",
       "    <tr>\n",
       "      <th>1</th>\n",
       "      <td>개인용(인담보)</td>\n",
       "      <td>가. 개인용</td>\n",
       "    </tr>\n",
       "    <tr>\n",
       "      <th>2</th>\n",
       "      <td>업무용(인담보)</td>\n",
       "      <td>나. 업무용</td>\n",
       "    </tr>\n",
       "    <tr>\n",
       "      <th>3</th>\n",
       "      <td>영업용(인담보)</td>\n",
       "      <td>다. 영업용</td>\n",
       "    </tr>\n",
       "    <tr>\n",
       "      <th>4</th>\n",
       "      <td>기타</td>\n",
       "      <td>라. 이륜자동차</td>\n",
       "    </tr>\n",
       "  </tbody>\n",
       "</table>\n",
       "</div>"
      ],
      "text/plain": [
       "      QIS분류         업무보고서\n",
       "0       NaN       1. 책임보험\n",
       "1  개인용(인담보)        가. 개인용\n",
       "2  업무용(인담보)        나. 업무용\n",
       "3  영업용(인담보)        다. 영업용\n",
       "4        기타      라. 이륜자동차"
      ]
     },
     "execution_count": 2,
     "metadata": {},
     "output_type": "execute_result"
    }
   ],
   "source": [
    "qis_clsf = pd.read_excel('./Downloads/AI060_QIS분류.xlsx')\n",
    "qis_clsf.head()"
   ]
  },
  {
   "cell_type": "code",
   "execution_count": 66,
   "metadata": {},
   "outputs": [],
   "source": [
    "def 합산비율(ai060):\n",
    "    ai060.drop(0, axis=0, inplace=True) # 빈 행 삭제\n",
    "    ai060 = ai060[:72] # 불량물건 삭제\n",
    "    ai060.reset_index(drop=True, inplace=True) # 인덱스 리셋\n",
    "    ai060['QIS분류'] = qis_clsf['QIS분류'] # QIS분류 넣기\n",
    "    ai060 = ai060[['QIS분류','Unnamed: 0','원수보험료','해약환급금','수재보험료','해약환급금.1','출재보험료','해약환급금환입','Unnamed: 20','발생손해액(c)','금액(d)']] # 필요 컬럼 추출\n",
    "    ai060['원수보험료'] = ai060['원수보험료'] - ai060['해약환급금']   # 순원수보험료\n",
    "    ai060['수재보험료'] = ai060['수재보험료'] - ai060['해약환급금.1']   # 순수재보험료\n",
    "    ai060['출재보험료'] = ai060['출재보험료'] - ai060['해약환급금환입']   # 순출재보험료\n",
    "    ai060.drop(['해약환급금','해약환급금.1','해약환급금환입'], axis=1, inplace=True) # 해약환급금 컬럼 삭제\n",
    "    ai060.columns = ['QIS분류','업무보고서분류','원수보험료','수재보험료','출재보험료','경과보험료','발생손해액','순사업비']  # 컬럼명 변경\n",
    "    ai060 = ai060[~ai060['QIS분류'].isna()] # 불필요한 컬럼 제거\n",
    "    summary = ai060.groupby('QIS분류').sum()\n",
    "    row_ord = ['개인용(인담보)','개인용(물담보)','업무용(인담보)','업무용(물담보)','영업용(인담보)','영업용(물담보)','기타']\n",
    "    summary = summary.loc[row_ord]\n",
    "    summary.eval('합산비율 = (발생손해액+순사업비)/경과보험료', inplace=True) # 합산비율 계산\n",
    "    return summary"
   ]
  },
  {
   "cell_type": "code",
   "execution_count": 80,
   "metadata": {},
   "outputs": [
    {
     "name": "stderr",
     "output_type": "stream",
     "text": [
      "C:\\ProgramData\\Anaconda3\\lib\\site-packages\\ipykernel_launcher.py:5: SettingWithCopyWarning: \n",
      "A value is trying to be set on a copy of a slice from a DataFrame.\n",
      "Try using .loc[row_indexer,col_indexer] = value instead\n",
      "\n",
      "See the caveats in the documentation: http://pandas.pydata.org/pandas-docs/stable/indexing.html#indexing-view-versus-copy\n",
      "  \"\"\"\n"
     ]
    }
   ],
   "source": [
    "ai060_1512 = pd.read_excel('./Downloads/AI060_201512.xlsx', sheet_name='AI060', skiprows=11) # 엑셀 읽어오기\n",
    "ai060_1612 = pd.read_excel('./Downloads/AI060_201612.xlsx', sheet_name='AI060', skiprows=11) # 엑셀 읽어오기\n",
    "ai060_1712 = pd.read_excel('./Downloads/AI060_201712.xlsx', sheet_name='AI060', skiprows=11) # 엑셀 읽어오기\n",
    "\n",
    "summary_1512 = 합산비율(ai060_1512) # Output (1)\n",
    "summary_1612 = 합산비율(ai060_1612) # Output (2)\n",
    "summary_1712 = 합산비율(ai060_1712) # Output (3)\n",
    "\n",
    "평균합산비율 = (summary_1512 + summary_1612 + summary_1712)[['합산비율']]/3\n",
    "평균합산비율.to_excel('output_auto.xlsx')\n",
    "#평균합산비율.style.format('{:.1%}')"
   ]
  }
 ],
 "metadata": {
  "kernelspec": {
   "display_name": "Python 3",
   "language": "python",
   "name": "python3"
  },
  "language_info": {
   "codemirror_mode": {
    "name": "ipython",
    "version": 3
   },
   "file_extension": ".py",
   "mimetype": "text/x-python",
   "name": "python",
   "nbconvert_exporter": "python",
   "pygments_lexer": "ipython3",
   "version": "3.6.4"
  }
 },
 "nbformat": 4,
 "nbformat_minor": 2
}
