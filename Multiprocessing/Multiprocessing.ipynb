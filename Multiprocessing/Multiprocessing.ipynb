{
 "cells": [
  {
   "cell_type": "code",
   "execution_count": 7,
   "metadata": {},
   "outputs": [],
   "source": [
    "import time\n",
    "from multiprocessing import Pool\n",
    "from fibo import fibo, print_fibo\n",
    "import multiprocessing"
   ]
  },
  {
   "cell_type": "code",
   "execution_count": 5,
   "metadata": {},
   "outputs": [
    {
     "name": "stdout",
     "output_type": "stream",
     "text": [
      "1346269\n",
      "2178309\n",
      "3524578\n",
      "5702887\n",
      "--- 4.55 seconds ---\n"
     ]
    }
   ],
   "source": [
    "# 멀티프로세싱 미사용\n",
    "\n",
    "start_time = time.time()\n",
    "num_list = [31,32,33,34]\n",
    "for num in num_list:\n",
    "    print_fibo(num)\n",
    "\n",
    "print(\"--- {:.2f} seconds ---\".format(time.time() - start_time))"
   ]
  },
  {
   "cell_type": "code",
   "execution_count": 6,
   "metadata": {},
   "outputs": [
    {
     "name": "stdout",
     "output_type": "stream",
     "text": [
      "--- 2.14 seconds ---\n"
     ]
    }
   ],
   "source": [
    "# 멀티프로세싱 사용\n",
    "\n",
    "start_time = time.time()\n",
    "num_list = [31,32,33,34]\n",
    "pool = Pool(processes=4)\n",
    "pool.map(print_fibo, num_list)\n",
    "print(\"--- {:.2f} seconds ---\".format(time.time() - start_time))"
   ]
  },
  {
   "cell_type": "code",
   "execution_count": 12,
   "metadata": {},
   "outputs": [
    {
     "name": "stdout",
     "output_type": "stream",
     "text": [
      "Number of cpu : 4\n"
     ]
    }
   ],
   "source": [
    "print(\"Number of cpu : {}\".format(multiprocessing.cpu_count()))"
   ]
  }
 ],
 "metadata": {
  "kernelspec": {
   "display_name": "Python 3",
   "language": "python",
   "name": "python3"
  },
  "language_info": {
   "codemirror_mode": {
    "name": "ipython",
    "version": 3
   },
   "file_extension": ".py",
   "mimetype": "text/x-python",
   "name": "python",
   "nbconvert_exporter": "python",
   "pygments_lexer": "ipython3",
   "version": "3.6.5"
  }
 },
 "nbformat": 4,
 "nbformat_minor": 2
}
