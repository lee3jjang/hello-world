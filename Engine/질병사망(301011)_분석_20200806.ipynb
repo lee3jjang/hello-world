{
 "cells": [
  {
   "cell_type": "code",
   "execution_count": 1,
   "metadata": {},
   "outputs": [],
   "source": [
    "import pandas as pd\n",
    "import numpy as np"
   ]
  },
  {
   "cell_type": "code",
   "execution_count": 263,
   "metadata": {},
   "outputs": [],
   "source": [
    "class NetPremium:\n",
    "    \n",
    "    def __init__(self, rate, i, **kwargs):\n",
    "        self.v = 1/(1+i)\n",
    "        self.l0 = 100000000\n",
    "        \n",
    "        self.gender = kwargs['성별']\n",
    "        self.x = kwargs['연령']\n",
    "        self.n = kwargs['보험기간']\n",
    "        self.m = kwargs['납입기간']\n",
    "        self.mpp = kwargs['납입주기']\n",
    "        self.type = kwargs['종구분']\n",
    "        self.rate = rate\n",
    "        \n",
    "    def __get_mortality_rate(self, rate, 상해질병구분, 담보명, 성별, x, k, options=None):\n",
    "        \"\"\"조건에 맞는 위험률 리턴\"\"\"\n",
    "        \n",
    "        if 상해질병구분 == 'accident':\n",
    "            상해급수 = options['상해급수']\n",
    "            return rate['accident'] \\\n",
    "                .query('담보명 == @담보명') \\\n",
    "                .query('상해급수 == @상해급수') \\\n",
    "                .query('성별 == @성별') \\\n",
    "                .drop(['담보명', '성별'], axis=1) \\\n",
    "                .sort_values(by='연령') \\\n",
    "                .set_index('연령') \\\n",
    "                ['위험률'] \\\n",
    "                .loc[x:x+k]\n",
    "        elif 상해질병구분 == 'disease':\n",
    "            return rate['disease'] \\\n",
    "                .query('담보명 == @담보명') \\\n",
    "                .query('성별 == @성별') \\\n",
    "                .drop(['담보명', '성별'], axis=1) \\\n",
    "                .sort_values(by='연령') \\\n",
    "                .set_index('연령') \\\n",
    "                ['위험률'] \\\n",
    "                .loc[x:x+k]\n",
    "        else:\n",
    "            raise Exception('상해질병구분 입력오류')\n",
    "        \n",
    "    def get_product(self):\n",
    "        \"\"\"상품명 리턴\"\"\"\n",
    "        \n",
    "        return '참좋은훼밀리플러스종합보험1901'\n",
    "        \n",
    "    def get_coverage(self):\n",
    "        \"\"\"담보명 리턴\"\"\"\n",
    "        \n",
    "        return '질병사망(301011)'\n",
    "    \n",
    "    def __calc_maintainer(self, x, n):\n",
    "        \"\"\"유지자(순보험료 분자 부분) 계산\"\"\"\n",
    "        \n",
    "        # 위험률\n",
    "        q_질병사망률 = self.__get_mortality_rate(rate, 'disease', '질병사망률', self.gender, self.x, self.n)\n",
    "        \n",
    "        # lx, Cx, Mx\n",
    "        lx = pd.Series(data=0, index=np.arange(x, x+n+1))\n",
    "        lx.index.name = '연령'\n",
    "        lx[x] = self.l0\n",
    "        for t in range(n):\n",
    "            lx[x+t+1] = lx[x+t]*(1-q_질병사망률[x+t])\n",
    "        Cx = lx*q_질병사망률*v**np.arange(x, x+n+1)\n",
    "        Mx = Cx[::-1].cumsum()[::-1]\n",
    "        \n",
    "        return Mx[x]-Mx[x+n]\n",
    "    \n",
    "    def __calc_payer(self, x, m, mpp, **kwargs):\n",
    "        \"\"\"납입자(순보험료 분모 부분) 계산\"\"\"\n",
    "        \n",
    "        \n",
    "        if kwargs['종구분'] == '1종':\n",
    "            # 위험률\n",
    "            q_질병사망률 = self.__get_mortality_rate(rate, 'disease', '질병사망률', self.gender, self.x, self.m)\n",
    "            q_상해1급일반상해후유장해발생률_80이상 = self.__get_mortality_rate(rate, 'accident', '일반상해후유장해발생률(80%이상)', self.gender, self.x, self.m,options={'상해급수': '1급'})\n",
    "            q_질병후유장해발생률_80이상 = self.__get_mortality_rate(rate, 'disease', '질병후유장해발생률(80%이상)', self.gender, self.x, self.m)\n",
    "            q_기타피부암및갑상선암이외의암발생률 = self.__get_mortality_rate(rate, 'disease', '기타피부암및갑상선암이외의암발생률', self.gender, self.x, self.m)\n",
    "            q_뇌졸중발생률 = self.__get_mortality_rate(rate, 'disease', '뇌졸중발생률', self.gender, self.x, self.m)\n",
    "            q_급성심근경색증발생률 = self.__get_mortality_rate(rate, 'disease', '급성심근경색증발생률', self.gender, self.x, self.m)\n",
    "            q_말기신부전증발생률 = self.__get_mortality_rate(rate, 'disease', '말기신부전증발생률', self.gender, self.x, self.m)\n",
    "            q_말기폐질환발생률 = self.__get_mortality_rate(rate, 'disease', '말기폐질환발생률', self.gender, self.x, self.m)\n",
    "            q_말기간경화증발생률 = self.__get_mortality_rate(rate, 'disease', '말기간경화증발생률', self.gender, self.x, self.m)\n",
    "            self.q_j = [q_상해1급일반상해후유장해발생률_80이상, q_질병후유장해발생률_80이상, q_기타피부암및갑상선암이외의암발생률, q_뇌졸중발생률, q_급성심근경색증발생률, q_말기신부전증발생률, q_말기폐질환발생률, q_말기간경화증발생률]\n",
    "\n",
    "            # lpx, Dpx, Npx\n",
    "            lpx = pd.Series(data=0, index=np.arange(x, x+m+1))\n",
    "            lpx.index.name = '연령'\n",
    "            lpx[x] = self.l0\n",
    "            for t in range(m):\n",
    "                lpx[x+t+1] = lpx[x+t]*(1-q_질병사망률[x+t])\n",
    "                for j in range(8):\n",
    "                    Dj = 3/4 if t==0 and j==2 else 1\n",
    "                    lpx[x+t+1] *= (1-Dj*q_j[j][x+t]*(1-0.5*q_질병사망률[x+t])/(1-q_질병사망률[x+t]))\n",
    "            Dpx = lpx*v**np.arange(x, x+m+1)\n",
    "            Npx = Dpx[::-1].cumsum()[::-1]\n",
    "            NN = mpp*((Npx[x]-Npx[x+m])-(mpp-1)/(2*mpp)*(Dpx[x]-Dpx[x+m]))\n",
    "\n",
    "            return NN\n",
    "        else:\n",
    "            raise Exception('종구분 입력오류')\n",
    "    \n",
    "    def calc_net_premium(self):\n",
    "        \"\"\"순보험료 계산\"\"\"\n",
    "        \n",
    "        return self.__calc_maintainer(self.x, self.n)/self.__calc_payer(self.x, self.m, self.mpp, 종구분=self.type)"
   ]
  },
  {
   "cell_type": "code",
   "execution_count": 266,
   "metadata": {},
   "outputs": [
    {
     "data": {
      "text/plain": [
       "12049.248899247605"
      ]
     },
     "execution_count": 266,
     "metadata": {},
     "output_type": "execute_result"
    }
   ],
   "source": [
    "# 테스트\n",
    "x, n, m, mpp = 30, 20, 10, 12\n",
    "100000000*NetPremium(rate, 0.02, 성별='남자', 연령=x, 보험기간=n, 납입기간=m, 납입주기=mpp, 종구분='1종').calc_net_premium()"
   ]
  },
  {
   "cell_type": "code",
   "execution_count": 202,
   "metadata": {},
   "outputs": [],
   "source": [
    "# 데이터 불러오기\n",
    "disease = pd.read_excel('data/질병사망(301011)_기초데이터_20200806.xlsx', sheet_name='질병', dtype={'연령': int, '위험률': float, '성별': str})\n",
    "accident = pd.read_excel('data/질병사망(301011)_기초데이터_20200806.xlsx', sheet_name='상해', dtype={'연령': int, '위험률': float, '성별': str, '상해급수': str})\n",
    "rate = {'disease': disease, 'accident': accident}"
   ]
  }
 ],
 "metadata": {
  "kernelspec": {
   "display_name": "Python 3",
   "language": "python",
   "name": "python3"
  },
  "language_info": {
   "codemirror_mode": {
    "name": "ipython",
    "version": 3
   },
   "file_extension": ".py",
   "mimetype": "text/x-python",
   "name": "python",
   "nbconvert_exporter": "python",
   "pygments_lexer": "ipython3",
   "version": "3.7.6"
  }
 },
 "nbformat": 4,
 "nbformat_minor": 4
}
