{
 "cells": [
  {
   "cell_type": "code",
   "execution_count": 1,
   "metadata": {},
   "outputs": [],
   "source": [
    "import pandas as pd\n",
    "import numpy as np"
   ]
  },
  {
   "cell_type": "code",
   "execution_count": 53,
   "metadata": {},
   "outputs": [],
   "source": [
    "class NetPremium:\n",
    "    \n",
    "    def __init__(self, rate, i, SIZE=101, l0=10000):\n",
    "        self.v = 1/(1+i)\n",
    "        self.l0 = l0\n",
    "        self.q_x = rate['mortality'].groupby('구분').apply(lambda df: df[['연령', '위험률']].sort_values(by='연령')['위험률'].to_numpy())\n",
    "        self.q_w = rate['lapse'].sort_values(by='시점')['해지율'].to_numpy()\n",
    "        \n",
    "    def get_product(self):\n",
    "        \"\"\"상품명 리턴\"\"\"\n",
    "        \n",
    "        return '참좋은간편건강보험1904'\n",
    "        \n",
    "    def get_coverage(self):\n",
    "        \"\"\"담보명 리턴\"\"\"\n",
    "        \n",
    "        return '질병사망(간편고지)(갱신형, 비갱신형)'\n",
    "    \n",
    "    def __calc_maintainer(self, x, n, options):\n",
    "        \"\"\"유지자(순보험료 분자 부분) 계산\"\"\"\n",
    "        \n",
    "        # lx\n",
    "        l1x = np.zeros(n+1)\n",
    "        l2x = np.zeros(n+1)\n",
    "        l3x = np.zeros(n+1)\n",
    "        l4x = np.zeros(n+1)\n",
    "        l1x[0] = self.l0\n",
    "        l2x[0] = self.l0\n",
    "        l3x[0] = self.l0\n",
    "        l4x[0] = self.l0\n",
    "        for t in range(n):\n",
    "            l1x[t+1] = l1x[t]*(1-self.q_x['제자리암(상피내암)발생률'][x+t])*(1-self.q_w[t])\n",
    "            l2x[t+1] = l2x[t]*(1-self.q_x['경계성종양발생률'][x+t])*(1-self.q_w[t])\n",
    "            l3x[t+1] = l3x[t]*(1-self.q_x['기타피부암발생률'][x+t])*(1-self.q_w[t])\n",
    "            l4x[t+1] = l4x[t]*(1-self.q_x['갑상선암발생률'][x+t])*(1-self.q_w[t])\n",
    "            \n",
    "        # Cx, Mx\n",
    "        C1x = l1x*self.q_x['제자리암(상피내암)발생률'][x:(x+n+1)]*self.v**(np.arange(n+1)+0.5)*(1-self.q_w[:(n+1)]/2)\n",
    "        C2x = l2x*self.q_x['경계성종양발생률'][x:(x+n+1)]*self.v**(np.arange(n+1)+0.5)*(1-self.q_w[:(n+1)]/2)\n",
    "        C3x = l3x*self.q_x['기타피부암발생률'][x:(x+n+1)]*self.v**(np.arange(n+1)+0.5)*(1-self.q_w[:(n+1)]/2)\n",
    "        C4x = l4x*self.q_x['갑상선암발생률'][x:(x+n+1)]*self.v**(np.arange(n+1)+0.5)*(1-self.q_w[:(n+1)]/2)\n",
    "        M1x = C1x[::-1].cumsum()[::-1]\n",
    "        M2x = C2x[::-1].cumsum()[::-1]\n",
    "        M3x = C3x[::-1].cumsum()[::-1]\n",
    "        M4x = C4x[::-1].cumsum()[::-1]\n",
    "\n",
    "        \n",
    "        if ((options['new'] and ~options['renewal']) or options['renewal']):\n",
    "            return 0.5*(3/4)*(C1x[0]+C2x[0]+C3x[0]+C4x[0]) \\\n",
    "                + (M1x[0]-M1x[n]) + (M2x[0]-M2x[n]) + (M3x[0]-M3x[n]) + (M4x[0]-M4x[n])\n",
    "        else:\n",
    "            return (M1x[n]-M1x[n]) + (M2x[0]-M2x[n]) + (M3x[0]-M3x[n]) + (M4x[0]-M4x[n])\n",
    "    \n",
    "    def __calc_payer(self, x, m, mpp, options):\n",
    "        \"\"\"납입자(순보험료 분모 부분) 계산\"\"\"\n",
    "        \n",
    "        # 1종, 3종, 9종\n",
    "        if options['types'] in ['1종', '3종', '9종']:\n",
    "            q_j = list(map(lambda k: self.q_x[k], ['간편고지상해1급80%이상후유장해발생률', '간편고지질병80%이상후유장해발생률', '기타피부암및갑상선암이외의암발생률', '뇌졸중발생률', '급성심근경색증발생률']))\n",
    "            \n",
    "            # lpx\n",
    "            lpx = np.zeros(m+1)\n",
    "            lpx[0] = self.l0\n",
    "            for t in range(m):\n",
    "                lpx[t+1] = lpx[t]*(1-self.q_w[t])\n",
    "                for j in range(len(q_j)):\n",
    "                    Dj = 3/4 if j==2 and ((options['new'] and ~options['renewal']) or options['renewal']) and t == x else 1\n",
    "                    lpx[t+1] *= 1-Dj*q_j[j][t]\n",
    "\n",
    "            # Dpx, Npx\n",
    "            Dpx = lpx*self.v**np.arange(m+1)\n",
    "            Npx = Dpx[::-1].cumsum()[::-1]\n",
    "\n",
    "        # 5종, 7종, 11종\n",
    "        elif options['types'] in ['5종', '7종', '11종']:\n",
    "\n",
    "            # lpx\n",
    "            lpx = np.zeros(m+1)\n",
    "            lpx[0] = self.l0\n",
    "            for t in range(m):\n",
    "                lpx[t+1] = lpx[t]*(1-self.q_w[t])\n",
    "\n",
    "            # Dpx, Npx\n",
    "            Dpx = lpx*self.v**np.arange(m+1)\n",
    "            Npx = Dpx[::-1].cumsum()[::-1]\n",
    "\n",
    "        else:\n",
    "            raise Exception('종구분오류')\n",
    "            \n",
    "        return mpp*((Npx[0]-Npx[m])-(mpp-1)/(2*mpp)*(Dpx[0]-Dpx[m]))\n",
    "    \n",
    "    def calc_net_premium(self, x, n, m, mpp, options):\n",
    "        \"\"\"순보험료 계산\"\"\"\n",
    "        \n",
    "        return self.__calc_maintainer(x, n, options)/self.__calc_payer(x, m, mpp, options)"
   ]
  },
  {
   "cell_type": "code",
   "execution_count": 54,
   "metadata": {},
   "outputs": [],
   "source": [
    "# 데이터 불러오기\n",
    "mortality_rate = pd.read_excel('data/참좋은간편건강보험1904_기초데이터_20200805.xlsx', sheet_name='위험률', dtype={'연령': int, '위험률': float})\n",
    "lapse_rate = pd.read_excel('data/참좋은간편건강보험1904_기초데이터_20200805.xlsx', sheet_name='해지율', dtype={'시점': int, '해지율': float})\n",
    "rate = {'mortality': mortality_rate, 'lapse': lapse_rate}"
   ]
  },
  {
   "cell_type": "code",
   "execution_count": 60,
   "metadata": {},
   "outputs": [
    {
     "data": {
      "text/plain": [
       "33252.19307880745"
      ]
     },
     "execution_count": 60,
     "metadata": {},
     "output_type": "execute_result"
    }
   ],
   "source": [
    "# 테스트\n",
    "net_premium = NetPremium(rate, 0.02)\n",
    "x, n, m, mpp = 30, 20, 10, 12\n",
    "100000000*net_premium.calc_net_premium(x, n, m, mpp, {'types': '5종', 'renewal': True, 'new': True})"
   ]
  }
 ],
 "metadata": {
  "kernelspec": {
   "display_name": "Python 3",
   "language": "python",
   "name": "python3"
  },
  "language_info": {
   "codemirror_mode": {
    "name": "ipython",
    "version": 3
   },
   "file_extension": ".py",
   "mimetype": "text/x-python",
   "name": "python",
   "nbconvert_exporter": "python",
   "pygments_lexer": "ipython3",
   "version": "3.7.6"
  }
 },
 "nbformat": 4,
 "nbformat_minor": 4
}
