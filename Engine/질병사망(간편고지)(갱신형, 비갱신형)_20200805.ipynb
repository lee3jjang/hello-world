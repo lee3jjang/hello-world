{
 "cells": [
  {
   "cell_type": "code",
   "execution_count": 5,
   "metadata": {},
   "outputs": [],
   "source": [
    "import pandas as pd\n",
    "import numpy as np"
   ]
  },
  {
   "cell_type": "code",
   "execution_count": 15,
   "metadata": {},
   "outputs": [],
   "source": [
    "class NetPremium:\n",
    "    \n",
    "    def __init__(self, rate, i, SIZE=101, l0=10000):\n",
    "        self.v = 1/(1+i)\n",
    "        self.SIZE = SIZE\n",
    "        self.l0 = l0\n",
    "        self.q_x = rate['mortality'].groupby('구분').apply(lambda df: df[['연령', '위험률']].sort_values(by='연령')['위험률'].to_numpy())\n",
    "        self.q_w = rate['lapse'].sort_values(by='시점')['해지율'].to_numpy()\n",
    "        \n",
    "    def get_product(self):\n",
    "        \"\"\"상품명 리턴\"\"\"\n",
    "        \n",
    "        return '참좋은간편건강보험1904'\n",
    "        \n",
    "    def get_coverage(self):\n",
    "        \"\"\"담보명 리턴\"\"\"\n",
    "        \n",
    "        return '질병사망(간편고지)(갱신형, 비갱신형)'\n",
    "    \n",
    "    def __calc_maintainer(self, x, n, options):\n",
    "        \"\"\"유지자(순보험료 분자 부분) 계산\"\"\"\n",
    "        \n",
    "        # lx\n",
    "        lx = np.zeros(self.SIZE)\n",
    "        lx[0] = self.l0\n",
    "        for i in range(self.SIZE-1):\n",
    "            lx[i+1] = lx[i]*(1-self.q_x['간편고지질병사망률'][i])*(1-self.q_w[i]*(1-self.q_x['간편고지질병사망률'][i]/2)/(1-self.q_x['간편고지질병사망률'][i]))\n",
    "\n",
    "        # Cx, Mx\n",
    "        Cx = lx*self.q_x['간편고지질병사망률']*self.v**(np.arange(self.SIZE)+0.5)*(1-self.q_w/2)\n",
    "        Mx = Cx[::-1].cumsum()[::-1]\n",
    "\n",
    "        \n",
    "        if ((options['new'] and ~options['renewal']) or options['renewal']):\n",
    "            return 0.5*(3/4)*Cx[x]+(Mx[x+1]-Mx[x+n])\n",
    "        else:\n",
    "            return Mx[x]-Mx[x+n]\n",
    "    \n",
    "    def __calc_payer(self, x, m, mpp, options):\n",
    "        \"\"\"납입자(순보험료 분모 부분) 계산\"\"\"\n",
    "        \n",
    "        # 1종, 3종, 9종\n",
    "        if options['types'] in ['1종', '3종', '9종']:\n",
    "            q_j = list(map(lambda k: self.q_x[k], ['간편고지상해1급80%이상후유장해발생률', '간편고지질병80%이상후유장해발생률', '기타피부암및갑상선암이외의암발생률', '뇌졸중발생률', '급성심근경색증발생률']))\n",
    "            \n",
    "            # lpx\n",
    "            lpx = np.zeros(self.SIZE)\n",
    "            lpx[0] = self.l0\n",
    "            for i in range(self.SIZE-1):\n",
    "                lpx[i+1] = lpx[i]*(1-self.q_x['간편고지질병사망률'][i])*(1-self.q_w[i]*(1-self.q_x['간편고지질병사망률'][i]/2)/(1-self.q_x['간편고지질병사망률'][i]))\n",
    "                for j in range(len(q_j)):\n",
    "                    Dj = 3/4 if j==2 and ((options['new'] and ~options['renewal']) or options['renewal']) and i == x else 1\n",
    "                    lpx[i+1] *= 1-Dj*q_j[j][i]*(1-self.q_x['간편고지질병사망률'][i]/2)/(1-self.q_x['간편고지질병사망률'][i])\n",
    "\n",
    "            # Dpx, Npx\n",
    "            Dpx = lpx*self.v**np.arange(self.SIZE)\n",
    "            Npx = Dpx[::-1].cumsum()[::-1]\n",
    "\n",
    "        # 5종, 7종, 11종\n",
    "        elif options['types'] in ['5종', '7종', '11종']:\n",
    "\n",
    "            # lpx\n",
    "            lpx = np.zeros(self.SIZE)\n",
    "            lpx[0] = self.l0\n",
    "            for i in range(self.SIZE-1):\n",
    "                lpx[i+1] = lpx[i]*(1-self.q_x['간편고지질병사망률'][i])*(1-self.q_w[i]*(1-self.q_x['간편고지질병사망률'][i]/2)/(1-self.q_x['간편고지질병사망률'][i]))\n",
    "\n",
    "            # Dpx, Npx\n",
    "            Dpx = lpx*self.v**np.arange(self.SIZE)\n",
    "            Npx = Dpx[::-1].cumsum()[::-1]\n",
    "\n",
    "        else:\n",
    "            raise Exception('종구분오류')\n",
    "            \n",
    "        return mpp*((Npx[x]-Npx[x+m])-(mpp-1)/(2*mpp)*(Dpx[x]-Dpx[x+m]))\n",
    "    \n",
    "    def calc_net_premium(self, x, n, m, mpp, options):\n",
    "        \"\"\"순보험료 계산\"\"\"\n",
    "        \n",
    "        return self.__calc_maintainer(x, n, options)/self.__calc_payer(x, m, mpp, options)"
   ]
  },
  {
   "cell_type": "code",
   "execution_count": 16,
   "metadata": {},
   "outputs": [],
   "source": [
    "# 데이터 불러오기\n",
    "mortality_rate = pd.read_excel('data/참좋은간편건강보험1904_기초데이터_20200805.xlsx', sheet_name='위험률', dtype={'연령': int, '위험률': float})\n",
    "lapse_rate = pd.read_excel('data/참좋은간편건강보험1904_기초데이터_20200805.xlsx', sheet_name='해지율', dtype={'시점': int, '해지율': float})\n",
    "rate = {'mortality': mortality_rate, 'lapse': lapse_rate}"
   ]
  },
  {
   "cell_type": "code",
   "execution_count": 17,
   "metadata": {},
   "outputs": [
    {
     "data": {
      "text/plain": [
       "14335.19597435583"
      ]
     },
     "execution_count": 17,
     "metadata": {},
     "output_type": "execute_result"
    }
   ],
   "source": [
    "# 테스트\n",
    "net_premium = NetPremium(rate, 0.02)\n",
    "x, n, m, mpp = 30, 50, 10, 12\n",
    "100000000*net_premium.calc_net_premium(x, n, m, mpp, {'types': '5종', 'renewal': True, 'new': True})"
   ]
  }
 ],
 "metadata": {
  "kernelspec": {
   "display_name": "Python 3",
   "language": "python",
   "name": "python3"
  },
  "language_info": {
   "codemirror_mode": {
    "name": "ipython",
    "version": 3
   },
   "file_extension": ".py",
   "mimetype": "text/x-python",
   "name": "python",
   "nbconvert_exporter": "python",
   "pygments_lexer": "ipython3",
   "version": "3.7.6"
  }
 },
 "nbformat": 4,
 "nbformat_minor": 4
}
