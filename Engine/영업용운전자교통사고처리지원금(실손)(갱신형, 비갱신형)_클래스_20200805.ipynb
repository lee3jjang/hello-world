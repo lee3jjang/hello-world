{
 "cells": [
  {
   "cell_type": "code",
   "execution_count": 83,
   "metadata": {},
   "outputs": [],
   "source": [
    "import pandas as pd\n",
    "import numpy as np"
   ]
  },
  {
   "cell_type": "code",
   "execution_count": 111,
   "metadata": {},
   "outputs": [],
   "source": [
    "class NetPremium:-\n",
    "    \n",
    "    def __init__(self, rate, i, SIZE=101, l0=10000):\n",
    "        self.v = 1/(1+i)\n",
    "        self.SIZE = SIZE\n",
    "        self.l0 = l0\n",
    "        self.q_x = rate['mortality'].groupby('구분').apply(lambda df: df[['연령', '위험률']].sort_values(by='연령')['위험률'].to_numpy())\n",
    "        self.q_w = rate['lapse'].sort_values(by='시점')['해지율'].to_numpy()\n",
    "        \n",
    "    def get_product(self):\n",
    "        \"\"\"상품명 리턴\"\"\"\n",
    "        \n",
    "        return '참좋은간편건강보험1904'\n",
    "        \n",
    "    def get_coverage(self):\n",
    "        \"\"\"담보명 리턴\"\"\"\n",
    "        \n",
    "        return '자가용운전자 교통사고처리지원금(실손)(갱신형, 비갱신형)'\n",
    "    \n",
    "    def __calc_maintainer(self, x, n):\n",
    "        \"\"\"유지자(순보험료 분자 부분) 계산\"\"\"\n",
    "        \n",
    "        # lx\n",
    "        lx = np.zeros(self.SIZE)\n",
    "        lx[0] = self.l0\n",
    "        for i in range(self.SIZE-1):\n",
    "            lx[i+1] = lx[i]*(1-self.q_w[i])\n",
    "\n",
    "        # Cx, Mx\n",
    "        C1x = lx*self.q_x['운전형태별피해자사망']*self.v**(np.arange(self.SIZE)+0.5)*(1-self.q_w/2)\n",
    "        C2x = lx*self.q_x['운전형태별6주이상진단']*self.v**(np.arange(self.SIZE)+0.5)*(1-self.q_w/2)\n",
    "        C3x = lx*self.q_x['운전형태별중상해진단']*self.v**(np.arange(self.SIZE)+0.5)*(1-self.q_w/2)\n",
    "        M1x = C1x[::-1].cumsum()[::-1]\n",
    "        M2x = C2x[::-1].cumsum()[::-1]\n",
    "        M3x = C3x[::-1].cumsum()[::-1]\n",
    "        \n",
    "        return M1x[x]-M1x[x+n] + M2x[x]-M2x[x+n] + M3x[x]-M3x[x+n]\n",
    "    \n",
    "    def __calc_payer(self, x, m, mpp, options):\n",
    "        \"\"\"납입자(순보험료 분모 부분) 계산\"\"\"\n",
    "        \n",
    "        # 1종, 3종, 9종\n",
    "        if options['types'] in ['1종', '3종', '9종']:\n",
    "            q_j = list(map(lambda k: self.q_x[k], ['간편고지상해3급80%이상후유장해발생률', '간편고지질병80%이상후유장해발생률', '기타피부암및갑상선암이외의암발생률', '뇌졸중발생률', '급성심근경색증발생률']))\n",
    "            \n",
    "            # lpx\n",
    "            lpx = np.zeros(self.SIZE)\n",
    "            lpx[0] = self.l0\n",
    "            for i in range(self.SIZE-1):\n",
    "                lpx[i+1] = lpx[i]*(1-self.q_w[i])\n",
    "                for j in range(len(q_j)):\n",
    "                    Dj = 3/4 if j==2 and ((options['new'] and options['renewal']) or ~options['renewal']) and i == x else 1\n",
    "                    lpx[i+1] *= 1-Dj*q_j[j][i]\n",
    "\n",
    "            # Dpx, Npx\n",
    "            Dpx = lpx*self.v**np.arange(self.SIZE)\n",
    "            Npx = Dpx[::-1].cumsum()[::-1]\n",
    "\n",
    "        # 5종, 7종, 11종\n",
    "        elif options['types'] in ['5종', '7종', '11종']:\n",
    "\n",
    "            # lpx\n",
    "            lpx = np.zeros(self.SIZE)\n",
    "            lpx[0] = self.l0\n",
    "            for i in range(self.SIZE-1):\n",
    "                lpx[i+1] = lpx[i]*(1-q_w[i])\n",
    "\n",
    "            # Dpx, Npx\n",
    "            Dpx = lpx*self.v**np.arange(self.SIZE)\n",
    "            Npx = Dpx[::-1].cumsum()[::-1]\n",
    "\n",
    "        else:\n",
    "            raise Exception('종구분오류')\n",
    "            \n",
    "        return mpp*((Npx[x]-Npx[x+m])-(mpp-1)/(2*mpp)*(Dpx[x]-Dpx[x+m]))\n",
    "    \n",
    "    def calc_net_premium(self, x, n, m, mpp, options):\n",
    "        \"\"\"순보험료 계산\"\"\"\n",
    "        \n",
    "        return self.__calc_maintainer(x, n)/self.__calc_payer(x, m, mpp, options)"
   ]
  },
  {
   "cell_type": "code",
   "execution_count": 113,
   "metadata": {},
   "outputs": [],
   "source": [
    "# 데이터 불러오기\n",
    "mortality_rate = pd.read_excel('data/참좋은간편건강보험1904_기초데이터_20200805.xlsx', sheet_name='위험률', dtype={'연령': int, '위험률': float})\n",
    "lapse_rate = pd.read_excel('data/참좋은간편건강보험1904_기초데이터_20200805.xlsx', sheet_name='해지율', dtype={'시점': int, '해지율': float})\n",
    "rate = {'mortality': mortality_rate, 'lapse': lapse_rate}"
   ]
  },
  {
   "cell_type": "code",
   "execution_count": 124,
   "metadata": {},
   "outputs": [
    {
     "data": {
      "text/plain": [
       "0.00035731025116973356"
      ]
     },
     "execution_count": 124,
     "metadata": {},
     "output_type": "execute_result"
    }
   ],
   "source": [
    "# 테스트\n",
    "net_premium = NetPremium(rate, 0.02)\n",
    "x, n, m, mpp = 80, 20, 10, 12\n",
    "net_premium.calc_net_premium(x, n, m, mpp, {'types': '3종', 'renewal': True, 'new': True})"
   ]
  }
 ],
 "metadata": {
  "kernelspec": {
   "display_name": "Python 3",
   "language": "python",
   "name": "python3"
  },
  "language_info": {
   "codemirror_mode": {
    "name": "ipython",
    "version": 3
   },
   "file_extension": ".py",
   "mimetype": "text/x-python",
   "name": "python",
   "nbconvert_exporter": "python",
   "pygments_lexer": "ipython3",
   "version": "3.7.6"
  }
 },
 "nbformat": 4,
 "nbformat_minor": 4
}
