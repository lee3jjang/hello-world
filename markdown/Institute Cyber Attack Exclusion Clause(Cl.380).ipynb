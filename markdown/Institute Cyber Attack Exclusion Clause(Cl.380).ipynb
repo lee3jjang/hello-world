{
 "cells": [
  {
   "cell_type": "markdown",
   "metadata": {},
   "source": [
    "# 원문\n",
    "## Institute Cyber Attack Exclusion Clause(Cl.380)\n",
    "1. Subject only to clause 2 below, in no case shall this insurance cover loss damage liability or expense directly or indirectly caused by or contributed to by or arising from the use or operation, as a means for inflicting harm, of any computer, computer system, computer software programme, malicious code, computer virus or process or any other electronic system.\n",
    "2. Where this clause is endorsed on policies covering risks of war, civil war, revolution, rebellion, insurrection, or civil strife arising therefrom, or any hostile act by or against a belligerent power, or terrorism or any person acting from a political motive, Clause 1.1 shall not operate to exclude losses (which would otherwise be covered) arising from the use of any computer, computer system or computer software programme or any other electronic system in the launch and/or guidance system and/or firing mechanism of any weapon or missile. "
   ]
  },
  {
   "cell_type": "markdown",
   "metadata": {},
   "source": [
    "# 번역\n",
    "1. 이 보험은 다음에 의해 야기되거나 기여된 어떠한 직간접적 손해배상책임 및 비용도 보장하지 않습니다.\n",
    " + 사이버공격(컴퓨터, 컴퓨터시스템, 컴퓨터소프트웨어, 악성코드, 컴퓨터바이러스, 컴퓨터프로세스, 기타 전자시스템을 피해를 주기 위해 이용하는 것)\n",
    " \n",
    "2. 이 조항(clause)이 전쟁, 내전, 혁명, 반란, 이로 인한 사회적인 갈등, 적대적인 권력 (belligerent power)에 대한 적대적 행위(hostile act), 테러, 정치적 동기에 의한 행위에 대한 위험을 보장해주는 증권에 배서가 될 때는, 조항1(Clause 1)이 무기 및 미사일의 발사/유도 시스템 또는 격발장치에 사용되는 컴퓨터, 컴퓨터시스템, 컴퓨터소프트웨어, 악성코드, 컴퓨터바이러스, 컴퓨터프로세스, 기타 전자시스템의 사용은 제외하진 않음"
   ]
  },
  {
   "cell_type": "markdown",
   "metadata": {},
   "source": [
    "# 해석\n",
    "+ 사이버공격에 의해 발생한 책임에 대해서 면책\n",
    "+ 여기서 사이버공격은 컴퓨터를 이용해서 뭔가 피해를 주는 활동을 하는 것을 의미. 컴퓨터시스템을 목표로 공격하는 것만을 한정하는 게 아님\n",
    "+ 사이버공격자가 컴퓨터를 쓰는 경우를 이야기 함\n",
    "+ 만약 이 조항이 전쟁 같은 위험을 보장해주는 증권에 배서가 된다면, 예를 들어, 미사일 관련 시스템을 해킹한 후 미사일이 발사되어 피해가 발생하는 경우 면책이 아님"
   ]
  },
  {
   "cell_type": "markdown",
   "metadata": {},
   "source": [
    "# 용어\n",
    "+ as a means for: ~하기 위한 수단으로써\n",
    "+ inflict: (괴로움 등을) 가하다\n",
    "+ harm: 피해\n",
    "+ malicious: 악의적인\n",
    "+ malicious code: 악성코드\n",
    "+ rebellion: 반란\n",
    "+ insurrection: 폭동\n",
    "+ civil strife: 사회적인 갈등\n",
    "+ therefrom: 그 것으로부터\n",
    "+ hostile: 적대적인\n",
    "+ firing mechanism: 격발장치\n",
    "+ belligerent: 적대적인"
   ]
  }
 ],
 "metadata": {
  "kernelspec": {
   "display_name": "Python 3",
   "language": "python",
   "name": "python3"
  },
  "language_info": {
   "codemirror_mode": {
    "name": "ipython",
    "version": 3
   },
   "file_extension": ".py",
   "mimetype": "text/x-python",
   "name": "python",
   "nbconvert_exporter": "python",
   "pygments_lexer": "ipython3",
   "version": "3.7.6"
  }
 },
 "nbformat": 4,
 "nbformat_minor": 4
}
