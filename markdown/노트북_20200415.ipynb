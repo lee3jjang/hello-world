{
 "cells": [
  {
   "cell_type": "markdown",
   "metadata": {},
   "source": [
    "# 노트북 튜토리얼\n",
    "\n",
    "---\n",
    "\n",
    "이텔릭체: *이텔릭체*  \n",
    "두껍게: **두껍게**, __이것도 두껍게임__  \n",
    "이텔릭+두껍게: **_이텔릭 + 두껍게 _**  \n",
    "취소선: ~~취소선~~<br>\n",
    "<u>밑줄</u>\n",
    "\n",
    "---\n",
    "\n",
    "1. 순서가 필요한 목록\n",
    "- 순서가 필요한 목록(2)\n",
    " - 순서가 필요하지 않은 목록\n",
    " - 순서가 필요하지 않은 목록(2)\n",
    "   * 별표\n",
    "   + 별표\n",
    "   - 별표\n",
    "  \n",
    "  \n",
    "- 두칸 띄워쓰기 해야 초기화됨\n",
    "\n",
    "---\n",
    "\n",
    "[GOOGLE](https://google.com)<br>\n",
    "[네이버][네이버]<br>\n",
    "이것도 [네이버]\n",
    "\n",
    "[네이버]: https://naver.com\n",
    "\n",
    "---\n",
    "\n",
    "[![대체텍스트입력란](img/fire.jpg \"여기다 설명 작성하면 됨\")](https://naver.com)\n",
    "\n",
    "---\n",
    "\n",
    "`inline code` <br>\n",
    "```python\n",
    "s = \"Python syntax highlighting\"\n",
    "print s\n",
    "```\n",
    "\n",
    "---\n",
    "***\n",
    "___\n",
    "> 인용문\n",
    ">> 인용문\n",
    ">>> 중첩된 인용문  \n",
    "ㅇㅇㅇ\n",
    "\n",
    "---\n",
    "\n",
    "|값|의미|기본값|\n",
    "|---|:---:|---:|\n",
    "|`static`|유형(기준) 없음/배치 불가능|`static`|\n",
    "|`relative`|자신을 기준으로 배치||\n",
    "|`absolute`|부모지구즌오||"
   ]
  }
 ],
 "metadata": {
  "kernelspec": {
   "display_name": "Python 3",
   "language": "python",
   "name": "python3"
  },
  "language_info": {
   "codemirror_mode": {
    "name": "ipython",
    "version": 3
   },
   "file_extension": ".py",
   "mimetype": "text/x-python",
   "name": "python",
   "nbconvert_exporter": "python",
   "pygments_lexer": "ipython3",
   "version": "3.7.6"
  }
 },
 "nbformat": 4,
 "nbformat_minor": 4
}
