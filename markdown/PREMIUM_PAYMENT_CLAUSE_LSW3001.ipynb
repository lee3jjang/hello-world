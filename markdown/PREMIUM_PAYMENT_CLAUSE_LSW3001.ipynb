{
 "cells": [
  {
   "cell_type": "markdown",
   "metadata": {},
   "source": [
    "# Premium Payment Clause (LSW3001)\n",
    "Notwithstanding any provision to the contrary within this contract or any endorsement hereto, in respect of non payment of premium only the following clause will apply.\n",
    "\n",
    "The (Re)Insured undertakes that premium will be paid in full to (Re)Insurers within 30 (thirty) days of inception of this contract (or, in respect of instalment premiums, when due).\n",
    "\n",
    "If the premium due under this contract has not been so paid to (Re)Insurers by the 30th (thirtieth) day from the inception of this contract (and, in respect of instalment premiums, by the date they are due) (Re)Insurers shall have the right to cancel this contract by notifying the (Re)Insured via the broker in writing. In the event of cancellation, premium is due to (Re)Insurers on a pro rata basis for the period that (Re)Insurers are on risk but the full contract premium shall be payable to (Re)Insurers in the event of a loss or occurrence prior to the date of termination which gives rise to a valid claim under this contract.\n",
    "\n",
    "It is agreed that (Re)Insurers shall give not less than 15 days prior notice of cancellation to the (Re)Insured via the broker. If premium due is paid in full to (Re)Insurers before the notice period expires, notice of cancellation shall automatically be revoked. If not, the contract shall automatically terminate at the end of the notice period.\n",
    "\n",
    "If any provision of this clause is found by any court or administrative body of competent jurisdiction to be invalid or unenforceable, such invalidity or unenforceability will not affect the other provisions of this clause which will remain in full force and effect.\n",
    "\n",
    "**LSW3001**  \n",
    "**30/09/08**"
   ]
  },
  {
   "cell_type": "markdown",
   "metadata": {},
   "source": [
    "## 번역\n",
    "본 계약상 반대되는 조항이나 어떤 배서가 있더라도, **보험료 미납**에 관해서는 다음 조항만 적용된다.\n",
    "\n",
    "원보험자는 재보험자에게 본 계약의 개시일(분할납보험료의 경우, 예정일) 이후 30일 이내에 보험료 전부를 납부할 것을 약속한다.\n",
    "\n",
    "본 계약에 따라 납입해야 하는 보험료가 재보험자에게 30일 이내에 납부되지 않은 경우 재보험자는 원보험자에게 중개사(broker)를 통해 서면으로 통지함으로써 본 계약을 취소할 수 있는 권리를 가진다. 만약 취소하는 상황이 발생하는 경우, 원보험자는 재보험자에게 재보험자가 리스크를 진 기간에 대한 보험료를 (기간)비례기준으로(pro rata basis) 납부해야한다. 그러나, 본 계약 종료 전 사고발생으로 유효한 클레임이 발생한 경우, 보험료 전부를 재보험자에게 지급해야 한다.\n",
    "\n",
    "재보험자는 원보험자에게 중개인을 통해 종료일로부터 15일 이상의 기간을 두어 취소 통지를 하는 것에 동의한다. 만약 보험료 전부가 통지기간만료일 전에 재보험자에게 납입되면, 취소통지는 자동적으로 폐지된다. 그렇지 않으면, 본 계약은 자동적으로 통지기간만료일에 종료된다.\n",
    "\n",
    "조항 중 일부(any provision of this clause)가 자격이 있는 관할구역의 어떤 법원이나 행정기관에 의해 무효하거나 강요할 수 없는(unenforceable) 것으로 밝혀진 경우, 그러한 무효성, 강요불가능성은 완전한 효력을 유지하고 있는 다른 조항(other provisions of this clause)에 영향을 미치지 않을 것이다."
   ]
  },
  {
   "cell_type": "markdown",
   "metadata": {},
   "source": [
    "## 해석\n",
    "+ 원보험자가 재보험자에게 **출재보험료를 보험시작일 이후 30일 이내에 납입**해야 하고, 만약 납입하지 않으면 재보험자가 **보험계약취소권**을 가지는 내용의 조항임.\n",
    "\n",
    "+ 재보험자에게 취소권이 발생하지만, <u>자동취소는 아님</u>.\n",
    "\n",
    "+ 재보험자가 보험계약 취소를 위해서는 15일 이전에 서면으로 통지해야 함. 즉, 바로 취소가 되는 건 아니고 15일의 기간을 두고 그 때 까지 보험료가 납입되지 않을 때, 비로소 계약이 종료되는 구조임. 만약 15일 이전에 유효한 보험사고 발생했으면, 재보험자는 보험금을 지급해야 함.\n",
    "\n",
    "+ 법원이나 정부에서 Premium Payment Clause의 일부조항(provision)에 대해 무효라고 판단을 할 수도 있음(아마 보험계약법상 문제가 될 소지가 있는 조항들이 일부 있어서 그런 것으로 추정). 하지만 그 일부조항이 무효가 됐다고 해서, 이 Premium Payment Clause 전체가 무효가 되는 것은 아님."
   ]
  },
  {
   "cell_type": "markdown",
   "metadata": {},
   "source": [
    "## 용어\n",
    "+ hereto: 여기에\n",
    "+ to the contrary: 그 반대를 보여주는\n",
    "+ notwithstanding: ~에도 불구하고\n",
    "+ inception: 시작(개시)\n",
    "+ undertake: 약속하다\n",
    "+ due: 만기일(예정일)\n",
    "+ pro rata basis: 비례기준\n",
    "+ premium due: 납입해야하는 보험료\n",
    "+ revoke: 폐지하다\n",
    "+ notice period: 통지기간\n",
    "+ administrative body: 행정기관\n",
    "+ jurisdiction: 관할구역\n",
    "+ competent: 자격이 있는\n",
    "+ unenforceable: 강요할 수 없는\n",
    "+ in full force and effect: 완전한 효력\n",
    "+ provision: 조항\n",
    "+ clause: 조항\n",
    "\n",
    "※ `provision`은 LSW3001 조항 내 하나하나를 지칭, `clause`은 LSW3001 전체 조항을 지칭하는 것으로 파악됨"
   ]
  }
 ],
 "metadata": {
  "kernelspec": {
   "display_name": "Python 3",
   "language": "python",
   "name": "python3"
  },
  "language_info": {
   "codemirror_mode": {
    "name": "ipython",
    "version": 3
   },
   "file_extension": ".py",
   "mimetype": "text/x-python",
   "name": "python",
   "nbconvert_exporter": "python",
   "pygments_lexer": "ipython3",
   "version": "3.7.6"
  }
 },
 "nbformat": 4,
 "nbformat_minor": 4
}
