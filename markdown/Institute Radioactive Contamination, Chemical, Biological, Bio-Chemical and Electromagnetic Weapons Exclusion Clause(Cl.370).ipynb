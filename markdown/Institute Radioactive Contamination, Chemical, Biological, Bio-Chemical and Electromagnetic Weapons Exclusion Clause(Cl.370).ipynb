{
 "cells": [
  {
   "cell_type": "markdown",
   "metadata": {},
   "source": [
    "# 원문\n",
    "## Institute Radioactive Contamination, Chemical, Biological, Bio-Chemical and Electromagnetic Weapons Exclusion Clause(Cl.370)\n",
    "\n",
    "This clause shall be paramount and shall override anything contained in this insurance inconsistent therewith:\n",
    "\n",
    "1. In no case shall this insurance cover loss damage liability or expense directly or indirectly caused by or contributed to by or arising from\n",
    "\n",
    " 1. ionising radiations from or contamination by radioactivity from any nuclear waste or from the combustion of nuclear fuel\n",
    "\n",
    " 2. the radioactive, toxic, explosive, or other hazardous or contaminating properties of any nuclear installation, reactor or other nuclear assembly or nuclear component thereof\n",
    "\n",
    " 3. any weapon or device employing atomic or nuclear fission and/or fusion or other like reaction or radioactive force or matter\n",
    "\n",
    " 4. the radioactive, toxic, explosive or other hazardous or contaminating properties of any radioactive matter. The exclusion in this sub-clause does not extend to radioactive isotopes, other than nuclear fuel, when such isotopes are being prepared, carried, stored, or used for commercial, agricultural, medical, scientific or other similar peaceful purposes\n",
    "\n",
    " 5. any chemical, biological, bio-chemical, or electromagnetic weapon "
   ]
  },
  {
   "cell_type": "markdown",
   "metadata": {},
   "source": [
    "# 번역\n",
    "\n",
    "이 조항은 다른 무엇보다도 중요하며, 이 보험 다른 조항에서 이 조항과 부합되지 않는 모든 것들(anything contained in this insurance inconsistent therewith)은 무시한다.\n",
    "\n",
    "1. 이 보험에서는 어떤 경우에도 **다음**에 의해(by) 혹은 **다음**에서 발생되어(arising from), 야기되거나(caused by) 기여된(contributed to), 직·간접적인, 손해배상책임 및 비용을 보장하지 않습니다.\n",
    " 1. **핵연료의 연소** 또는 **핵폐기물**에서 방출된 이온화 방사선 또는 동 물질의 방사능에 인한 오염\n",
    " 2. **핵시설**, **원자로**, **기타 핵조립체(nuclear assembly)** 또는 **핵구성요소(nuclear component)**의 방사능, 독성, 폭발성, 기타 위험하거나 (무언가를) 오염시키는 성질\n",
    " 3.  핵융합/핵분열, 기타 유사한 반응 혹은 방사능힘과 물질(radioactive force or matter)를 이용하는 **무기** 혹은 **장치**\n",
    " 4. **방사성 물질(radioactive matter)**의 방사능, 독성, 폭발성, 기타 위험하거나 오염시키는 성질. 이 부수조항(sub-clause)의 면책조항(exclusion)은 핵원료가 아니면서, 상업적, 농업적, 의료적, 과학적 또는 기타 유사하게 평화적 목적으로 준비(prepare), 운반, 저장 또는 사용되는 방사성동위원소(radioactive isotopes)를 말하는 것은 아님\n",
    " 5. 화학적, 생물학적, 생화학적, 전자기학적 **무기**"
   ]
  },
  {
   "cell_type": "markdown",
   "metadata": {},
   "source": [
    "# 해석\n",
    "\n",
    "+ **핵연료 연소** 과정에서 발생된 방사선 방출, 핵연료 연소에 의해 무언가가 오염되는 경우\n",
    "+ **핵폐기물**에서 방사선이 방출, 핵폐기물로 인해 무언가가 오염되는 경우\n",
    "+ **핵시설(원자력발전소 등), 원자로 등 핵과 관련된 장치들** 관련\n",
    "+ **핵무기** 혹은 **원자력 이용 장치** 관련\n",
    "+ **핵연료, 핵폐기물 외 방사성 물질** 관련\n",
    "+ **기타 핵무기가 아닌 무기들** 관련"
   ]
  },
  {
   "cell_type": "markdown",
   "metadata": {},
   "source": [
    "# 용어\n",
    "+ paramount: 다른 무엇보다 중요한\n",
    "+ override: ~보다 우선하다, 무시하다\n",
    "+ inconsistent: 모순되는\n",
    "+ therewith: (앞에 언급된) 그 안에서\n",
    "+ damage: 피해\n",
    "+ contribute to: ~에 기여하다\n",
    "+ loss: 손실\n",
    "+ ionizing radiation: 이온화 방사선\n",
    "+ radioactivity: 방사능\n",
    "+ nuclear waste: 핵폐기물\n",
    "+ combustion: 연소\n",
    "+ nuclear fuel: 핵연료\n",
    "+ radioactivity: 방사성(불안정한 원소의 원자핵이 스스로 붕괴하면서 내부로부터 방사선을 방출하는 성질)\n",
    "+ nuclear installation: 핵시설\n",
    "+ reactor: 원자로\n",
    "+ nuclear assembly: 핵조립체\n",
    "+ nuclear component: 핵구성요소\n",
    "+ employ: (기술·방법 등을) 쓰다\n",
    "+ fission: 분열\n",
    "+ nuclear fission: 핵분열\n",
    "+ fussion: 융합\n",
    "+ reaction: 반응\n",
    "+ radioactive force: 방사능힘\n",
    "+ radioactive isotopes: 방사성 동위원소\n",
    "+ isotopes: 동위원소(양성자수가 동일하여 같은 원소이나 중성자수가 다른 원소)\n",
    "+ prepare: 준비하다\n",
    "\n",
    "※ `damage`는 물리적 피해 그 자체를 지칭하는 용어이고, `loss`는 그로 인한 금전적 손실을 의미하는 것으로 보이나 뚜렷히 구별되진 않는 거 같음"
   ]
  }
 ],
 "metadata": {
  "kernelspec": {
   "display_name": "Python 3",
   "language": "python",
   "name": "python3"
  },
  "language_info": {
   "codemirror_mode": {
    "name": "ipython",
    "version": 3
   },
   "file_extension": ".py",
   "mimetype": "text/x-python",
   "name": "python",
   "nbconvert_exporter": "python",
   "pygments_lexer": "ipython3",
   "version": "3.7.6"
  }
 },
 "nbformat": 4,
 "nbformat_minor": 4
}
