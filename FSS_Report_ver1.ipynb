{
 "cells": [
  {
   "cell_type": "code",
   "execution_count": 1,
   "metadata": {},
   "outputs": [],
   "source": [
    "import pandas as pd\n",
    "import numpy as np\n",
    "import matplotlib.pyplot as plt\n",
    "import warnings\n",
    "warnings.filterwarnings('ignore')\n",
    "\n",
    "pd.options.display.float_format = '{:,.0f}'.format"
   ]
  },
  {
   "cell_type": "code",
   "execution_count": 2,
   "metadata": {},
   "outputs": [],
   "source": [
    "# 분류 테이블\n",
    "claf_pnc = pd.read_excel('C:/FSS_FinesReport/Setting/RBC분류.xlsx', sheet_name='일반')\n",
    "claf_auto = pd.read_excel('C:/FSS_FinesReport/Setting/RBC분류.xlsx', sheet_name='자동차')"
   ]
  },
  {
   "cell_type": "code",
   "execution_count": 3,
   "metadata": {},
   "outputs": [],
   "source": [
    "def genDates(date):\n",
    "    # 필요한 업무보고서 일자 생성\n",
    "    date = str(date)\n",
    "    if date[2:] == '12':\n",
    "        res = [date, str(int(date) - 100), str(int(date) - 200)]\n",
    "    else:\n",
    "        res = [date, str(int(date) - 100)[:2] + '12', str(int(date) - 100), str(int(date) - 200)[:2] + '12', str(int(date) - 200), str(int(date) - 300)[:2] + '12', str(int(date) - 300)]\n",
    "    return res"
   ]
  },
  {
   "cell_type": "code",
   "execution_count": 22,
   "metadata": {},
   "outputs": [],
   "source": [
    "def fss_rpt(num, date):\n",
    "    # 업무보고서와 기준일자를 받아서 테이블을 출력하는 함수\n",
    "    num = str(num)\n",
    "    while len(num) < 3: num = '0' + num\n",
    "    rpt = pd.read_excel('C:/FSS_FinesReport/Setting/업무보고서_'+str(date)+'.xlsx', sheet_name='AI'+num)\n",
    "    \n",
    "    if num == '059':\n",
    "        rpt = rpt.iloc[11:,1:]\n",
    "        rpt.index = pd.RangeIndex(start=14,stop=155, step=1)\n",
    "        rpt.columns = pd.RangeIndex(start=2,stop=80, step=1)\n",
    "        rpt.iloc[:,1:] = rpt.iloc[:,1:].astype(float, inplace=True).fillna(0)\n",
    "    elif num == '060':\n",
    "        rpt = pd.read_excel('C:/FSS_FinesReport/Setting/업무보고서_'+str(1712)+'.xlsx', sheet_name='AI060')\n",
    "        rpt = rpt.iloc[11:]\n",
    "        rpt.index = pd.RangeIndex(start=14,stop=146, step=1)\n",
    "        rpt.columns = pd.RangeIndex(start=1,stop=60, step=1)\n",
    "        rpt.iloc[:,1:] = rpt.iloc[:,1:].astype(float, inplace=True).fillna(0)\n",
    "    else:\n",
    "        print('AI{:}_{:}는 목록에 없습니다'.format(num,date))\n",
    "        return None\n",
    "    \n",
    "    print('[AI{:}_{:}]가 생성 되었습니다.'.format(num,date))\n",
    "    return rpt"
   ]
  },
  {
   "cell_type": "code",
   "execution_count": 34,
   "metadata": {},
   "outputs": [],
   "source": [
    "def fss_filter(num, date):\n",
    "    # 사업실적표를 받아서 필요한 열만 추출하는 함수\n",
    "    rpt = fss_rpt(num, date)\n",
    "    num = str(num)\n",
    "    while len(num) < 3: num = '0' + num\n",
    "    if num == '059':\n",
    "        cols = ['RBC분류','모니터링분류','구분',7,8,12,13,17,18,23,32,45,52,55,67]\n",
    "        colnames = ['RBC분류','모니터링분류','구분','원수보험료','원수해약환급금','수재보험료','수재해약환급금','출재보험료','출재해약환급금','경과보험료','원수지급준비금','수재지급준비금','출재지급준비금','발생손해액','순사업비']\n",
    "        filtered = rpt.merge(claf_pnc, left_on=2, right_on='구분', how='inner').drop(2, axis=1)[cols]\n",
    "        filtered.columns = colnames\n",
    "        filtered = filtered.dropna()\n",
    "        filtered['원수보험료'] = filtered['원수보험료'] - filtered['원수해약환급금']\n",
    "        filtered['수재보험료'] = filtered['수재보험료'] - filtered['수재해약환급금']\n",
    "        filtered['출재보험료'] = filtered['출재보험료'] - filtered['출재해약환급금']\n",
    "        filtered.drop(['원수해약환급금','수재해약환급금','출재해약환급금'], axis=1, inplace=True)\n",
    "    if num == '060':\n",
    "        cols = ['RBC분류','모니터링분류','구분',5,6,10,11,15,16,21,27,34,41,44,58]\n",
    "        colnames = ['RBC분류','모니터링분류','구분','원수보험료','원수해약환급금','수재보험료','수재해약환급금','출재보험료','출재해약환급금','경과보험료','원수지급준비금','수재지급준비금','출재지급준비금','발생손해액','순사업비']\n",
    "        filtered = rpt.merge(claf_auto, left_on=1, right_on='구분', how='inner').drop(2, axis=1)[cols]\n",
    "        filtered.columns = colnames\n",
    "        filtered = filtered.dropna()\n",
    "        filtered['원수보험료'] = filtered['원수보험료'] - filtered['원수해약환급금']\n",
    "        filtered['수재보험료'] = filtered['수재보험료'] - filtered['수재해약환급금']\n",
    "        filtered['출재보험료'] = filtered['출재보험료'] - filtered['출재해약환급금']\n",
    "        filtered.drop(['원수해약환급금','수재해약환급금','출재해약환급금'], axis=1, inplace=True)    \n",
    "    return filtered"
   ]
  },
  {
   "cell_type": "code",
   "execution_count": 49,
   "metadata": {},
   "outputs": [],
   "source": [
    "def rbc_sum(filtered):\n",
    "    # 정제된 사업실적표를 RBC분류 단위로 합치는 함수\n",
    "    summed = filtered.drop(['모니터링분류','구분'], axis=1).groupby('RBC분류').sum()\n",
    "    return summed"
   ]
  },
  {
   "cell_type": "code",
   "execution_count": 53,
   "metadata": {},
   "outputs": [],
   "source": [
    "def rbc_expo_prem(summed):\n",
    "    # 누적 수입보험료\n",
    "    return summed[['원수보험료','수재보험료','출재보험료']]\n",
    "def rbc_expo_rsrv(summed):\n",
    "    # 지급준비금\n",
    "    return summed[['원수지급준비금','수재지급준비금','출재지급준비금']]\n",
    "def rbc_comb(summed):\n",
    "    # 누적 합산비율\n",
    "    return summed[['경과보험료','발생손해액','순사업비']]"
   ]
  },
  {
   "cell_type": "code",
   "execution_count": 71,
   "metadata": {},
   "outputs": [],
   "source": [
    "def rbc_expo_prem_1yr(num, date):\n",
    "    # 직전 1년 수입보험료\n",
    "    dates = genDates(date)\n",
    "    if str(date)[2:] == '12':\n",
    "        prem_expo = rbc_expo_prem(rbc_sum(fss_filter(num,dates[0])))\n",
    "    else:\n",
    "        prem_expo = rbc_expo_prem(rbc_sum(fss_filter(num,dates[0]))) + rbc_expo_prem(rbc_sum(fss_filter(num,dates[1]))) - rbc_expo_prem(rbc_sum(fss_filter(num,dates[2])))\n",
    "    return prem_expo\n",
    "\n",
    "def rbc_comb_3yrs(num, date):\n",
    "    # 직전 3년 합산비율\n",
    "    dates = genDates(date)\n",
    "    if str(date)[2:] == '12':\n",
    "        comb_0 = rbc_comb(rbc_sum(fss_filter(num,dates[0])))\n",
    "        comb_1 = rbc_comb(rbc_sum(fss_filter(num,dates[1])))\n",
    "        comb_2 = rbc_comb(rbc_sum(fss_filter(num,dates[2])))\n",
    "    else:\n",
    "        comb_0 = rbc_comb(rbc_sum(fss_filter(num,dates[0]))) + rbc_comb(rbc_sum(fss_filter(num,dates[1]))) - rbc_comb(rbc_sum(fss_filter(num,dates[2])))\n",
    "        comb_1 = rbc_comb(rbc_sum(fss_filter(num,dates[2]))) + rbc_comb(rbc_sum(fss_filter(num,dates[3]))) - rbc_comb(rbc_sum(fss_filter(num,dates[4])))\n",
    "        comb_2 = rbc_comb(rbc_sum(fss_filter(num,dates[4]))) + rbc_comb(rbc_sum(fss_filter(num,dates[5]))) - rbc_comb(rbc_sum(fss_filter(num,dates[6])))\n",
    "            \n",
    "    comb_0.columns = comb_0.columns + '_0년'\n",
    "    comb_1.columns = comb_1.columns + '_1년'\n",
    "    comb_2.columns = comb_2.columns + '_2년'\n",
    "    comb = pd.concat([comb_0, comb_1, comb_2], axis=1)\n",
    "    return comb"
   ]
  },
  {
   "cell_type": "code",
   "execution_count": 73,
   "metadata": {},
   "outputs": [],
   "source": [
    "def rbc_result(num, date):\n",
    "    # RBC 입력데이터\n",
    "    return pd.concat([rbc_expo_prem_1yr(num, date), rbc_expo_rsrv(rbc_sum(fss_filter(num, date))), rbc_comb_3yrs(num, date)], axis=1)"
   ]
  }
 ],
 "metadata": {
  "kernelspec": {
   "display_name": "Python 3",
   "language": "python",
   "name": "python3"
  },
  "language_info": {
   "codemirror_mode": {
    "name": "ipython",
    "version": 3
   },
   "file_extension": ".py",
   "mimetype": "text/x-python",
   "name": "python",
   "nbconvert_exporter": "python",
   "pygments_lexer": "ipython3",
   "version": "3.6.4"
  }
 },
 "nbformat": 4,
 "nbformat_minor": 2
}
