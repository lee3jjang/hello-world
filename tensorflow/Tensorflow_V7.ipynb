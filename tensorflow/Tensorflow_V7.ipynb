{
 "cells": [
  {
   "cell_type": "code",
   "execution_count": 135,
   "metadata": {},
   "outputs": [],
   "source": [
    "import tensorflow as tf"
   ]
  },
  {
   "cell_type": "code",
   "execution_count": 181,
   "metadata": {},
   "outputs": [],
   "source": [
    "sess = tf.Session()"
   ]
  },
  {
   "cell_type": "code",
   "execution_count": 143,
   "metadata": {},
   "outputs": [
    {
     "name": "stdout",
     "output_type": "stream",
     "text": [
      "[[  256 65536]\n",
      " [    9    27]]\n"
     ]
    }
   ],
   "source": [
    "x = tf.constant([[2,2], [3,3]])\n",
    "y = tf.constant([[8, 16], [2,3]])\n",
    "\n",
    "with tf.Session() as sess:\n",
    "    z = sess.run(tf.pow(x, y))\n",
    "print(z)"
   ]
  },
  {
   "cell_type": "code",
   "execution_count": 178,
   "metadata": {},
   "outputs": [
    {
     "name": "stdout",
     "output_type": "stream",
     "text": [
      "[0.3385797  0.88964117 1.7270286 ]\n"
     ]
    }
   ],
   "source": [
    "z = tf.random_normal([3], mean=0., stddev=1., dtype=tf.float32, seed=20180906, name=None)\n",
    "\n",
    "with tf.Session() as sess:\n",
    "    n = sess.run(z)\n",
    "print(n)"
   ]
  },
  {
   "cell_type": "code",
   "execution_count": 202,
   "metadata": {},
   "outputs": [
    {
     "name": "stdout",
     "output_type": "stream",
     "text": [
      "[ 0.14660311  0.57919407 -0.40918136]\n"
     ]
    }
   ],
   "source": [
    "w = tf.random_uniform([3], minval=-1, maxval=1, dtype=tf.float32, seed=None)\n",
    "print(sess.run(w))"
   ]
  },
  {
   "cell_type": "code",
   "execution_count": 214,
   "metadata": {},
   "outputs": [
    {
     "data": {
      "text/plain": [
       "0.98508316"
      ]
     },
     "execution_count": 214,
     "metadata": {},
     "output_type": "execute_result"
    }
   ],
   "source": [
    "w.mean()"
   ]
  },
  {
   "cell_type": "code",
   "execution_count": 241,
   "metadata": {},
   "outputs": [
    {
     "name": "stdout",
     "output_type": "stream",
     "text": [
      "[[ 0.3385797   0.88964117  1.7270286 ]\n",
      " [ 1.5021957  -0.598586   -0.11976691]\n",
      " [ 0.7576737   1.3728415  -0.20659192]]\n",
      "[0.8661497 0.5546322 0.4668899]\n",
      "[0.8661497 0.5546322 0.4668899]\n"
     ]
    }
   ],
   "source": [
    "z = tf.random_normal([3,3], mean=0., stddev=1., dtype=tf.float32, seed=20180906, name=None)\n",
    "a, b = sess.run([z, tf.reduce_mean(z, axis=0)])\n",
    "print(a)\n",
    "print(b)\n",
    "print(a.mean(axis=0))"
   ]
  },
  {
   "cell_type": "code",
   "execution_count": 226,
   "metadata": {},
   "outputs": [
    {
     "data": {
      "text/plain": [
       "42"
      ]
     },
     "execution_count": 226,
     "metadata": {},
     "output_type": "execute_result"
    }
   ],
   "source": [
    "sess.run(tf.reduce_mean([1,2,123], axis=0))"
   ]
  }
 ],
 "metadata": {
  "kernelspec": {
   "display_name": "Python 3",
   "language": "python",
   "name": "python3"
  },
  "language_info": {
   "codemirror_mode": {
    "name": "ipython",
    "version": 3
   },
   "file_extension": ".py",
   "mimetype": "text/x-python",
   "name": "python",
   "nbconvert_exporter": "python",
   "pygments_lexer": "ipython3",
   "version": "3.6.5"
  }
 },
 "nbformat": 4,
 "nbformat_minor": 2
}
