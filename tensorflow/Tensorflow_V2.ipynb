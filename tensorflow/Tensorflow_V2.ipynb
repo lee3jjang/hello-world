{
 "cells": [
  {
   "cell_type": "code",
   "execution_count": 1,
   "metadata": {},
   "outputs": [
    {
     "name": "stderr",
     "output_type": "stream",
     "text": [
      "C:\\ProgramData\\Anaconda3\\lib\\site-packages\\h5py\\__init__.py:36: FutureWarning: Conversion of the second argument of issubdtype from `float` to `np.floating` is deprecated. In future, it will be treated as `np.float64 == np.dtype(float).type`.\n",
      "  from ._conv import register_converters as _register_converters\n"
     ]
    }
   ],
   "source": [
    "import numpy as np\n",
    "import tensorflow as tf\n",
    "import matplotlib.pyplot as plt\n",
    "from tensorflow.examples.tutorials.mnist import input_data"
   ]
  },
  {
   "cell_type": "markdown",
   "metadata": {},
   "source": [
    "#### 1. 연습1"
   ]
  },
  {
   "cell_type": "code",
   "execution_count": 2,
   "metadata": {},
   "outputs": [
    {
     "name": "stdout",
     "output_type": "stream",
     "text": [
      "WARNING:tensorflow:From <ipython-input-2-a1414fd6f724>:1: read_data_sets (from tensorflow.contrib.learn.python.learn.datasets.mnist) is deprecated and will be removed in a future version.\n",
      "Instructions for updating:\n",
      "Please use alternatives such as official/mnist/dataset.py from tensorflow/models.\n",
      "WARNING:tensorflow:From C:\\ProgramData\\Anaconda3\\lib\\site-packages\\tensorflow\\contrib\\learn\\python\\learn\\datasets\\mnist.py:260: maybe_download (from tensorflow.contrib.learn.python.learn.datasets.base) is deprecated and will be removed in a future version.\n",
      "Instructions for updating:\n",
      "Please write your own downloading logic.\n",
      "WARNING:tensorflow:From C:\\ProgramData\\Anaconda3\\lib\\site-packages\\tensorflow\\contrib\\learn\\python\\learn\\datasets\\mnist.py:262: extract_images (from tensorflow.contrib.learn.python.learn.datasets.mnist) is deprecated and will be removed in a future version.\n",
      "Instructions for updating:\n",
      "Please use tf.data to implement this functionality.\n",
      "Extracting ./mnist/data\\train-images-idx3-ubyte.gz\n",
      "WARNING:tensorflow:From C:\\ProgramData\\Anaconda3\\lib\\site-packages\\tensorflow\\contrib\\learn\\python\\learn\\datasets\\mnist.py:267: extract_labels (from tensorflow.contrib.learn.python.learn.datasets.mnist) is deprecated and will be removed in a future version.\n",
      "Instructions for updating:\n",
      "Please use tf.data to implement this functionality.\n",
      "Extracting ./mnist/data\\train-labels-idx1-ubyte.gz\n",
      "WARNING:tensorflow:From C:\\ProgramData\\Anaconda3\\lib\\site-packages\\tensorflow\\contrib\\learn\\python\\learn\\datasets\\mnist.py:110: dense_to_one_hot (from tensorflow.contrib.learn.python.learn.datasets.mnist) is deprecated and will be removed in a future version.\n",
      "Instructions for updating:\n",
      "Please use tf.one_hot on tensors.\n",
      "Extracting ./mnist/data\\t10k-images-idx3-ubyte.gz\n",
      "Extracting ./mnist/data\\t10k-labels-idx1-ubyte.gz\n",
      "WARNING:tensorflow:From C:\\ProgramData\\Anaconda3\\lib\\site-packages\\tensorflow\\contrib\\learn\\python\\learn\\datasets\\mnist.py:290: DataSet.__init__ (from tensorflow.contrib.learn.python.learn.datasets.mnist) is deprecated and will be removed in a future version.\n",
      "Instructions for updating:\n",
      "Please use alternatives such as official/mnist/dataset.py from tensorflow/models.\n"
     ]
    }
   ],
   "source": [
    "mnist = input_data.read_data_sets('./mnist/data', one_hot=True)"
   ]
  },
  {
   "cell_type": "code",
   "execution_count": 39,
   "metadata": {},
   "outputs": [],
   "source": [
    "X = tf.placeholder(tf.float32, [None, 784])\n",
    "Y = tf.placeholder(tf.float32, [None, 10])\n",
    "\n",
    "keep_prob = tf.placeholder(tf.float32)\n",
    "n1 = 256\n",
    "n2 = 256\n",
    "\n",
    "W1 = tf.Variable(tf.random_normal([784,n1], stddev=0.01))\n",
    "b1 = tf.Variable(tf.random_normal([n1], stddev=0.01))\n",
    "L1 = tf.nn.relu(tf.matmul(X,W1)+b1)\n",
    "L1 = tf.nn.dropout(L1, keep_prob)\n",
    "\n",
    "W2 = tf.Variable(tf.random_normal([n1,n2], stddev=0.01))\n",
    "b2 = tf.Variable(tf.random_normal([n2], stddev=0.01))\n",
    "L2 = tf.nn.relu(tf.matmul(L1,W2)+b2)\n",
    "L2 = tf.nn.dropout(L2, keep_prob)\n",
    "\n",
    "W3 = tf.Variable(tf.random_normal([n2,10], stddev=0.01))\n",
    "b3 = tf.Variable(tf.random_normal([10], stddev=0.01))\n",
    "model = tf.nn.softmax(tf.matmul(L2,W3)+b3, axis=1)\n",
    "\n",
    "cost = tf.reduce_mean(-tf.reduce_sum(Y*tf.log(model), axis=1))\n",
    "optimizer = tf.train.AdamOptimizer(learning_rate=0.0001)\n",
    "train_op = optimizer.minimize(cost)\n",
    "\n",
    "init = tf.global_variables_initializer()"
   ]
  },
  {
   "cell_type": "code",
   "execution_count": 44,
   "metadata": {},
   "outputs": [
    {
     "name": "stdout",
     "output_type": "stream",
     "text": [
      "Epoch: 1 Avg. cost = 1.026\n",
      "Epoch: 2 Avg. cost = 0.442\n",
      "Epoch: 3 Avg. cost = 0.362\n",
      "Epoch: 4 Avg. cost = 0.315\n",
      "Epoch: 5 Avg. cost = 0.285\n",
      "Epoch: 6 Avg. cost = 0.256\n",
      "Epoch: 7 Avg. cost = 0.228\n",
      "Epoch: 8 Avg. cost = 0.206\n",
      "Epoch: 9 Avg. cost = 0.190\n",
      "Epoch: 10 Avg. cost = 0.172\n",
      "Epoch: 11 Avg. cost = 0.158\n",
      "Epoch: 12 Avg. cost = 0.148\n",
      "Epoch: 13 Avg. cost = 0.136\n",
      "Epoch: 14 Avg. cost = 0.126\n",
      "Epoch: 15 Avg. cost = 0.116\n",
      "0.9676\n"
     ]
    },
    {
     "data": {
      "image/png": "[encoded data removed]",
      "text/plain": [
       "<Figure size 432x288 with 1 Axes>"
      ]
     },
     "metadata": {},
     "output_type": "display_data"
    },
    {
     "name": "stdout",
     "output_type": "stream",
     "text": [
      "[7]\n"
     ]
    }
   ],
   "source": [
    "with tf.Session() as sess:\n",
    "    sess.run(init)\n",
    "    batch_size = 100\n",
    "    total_batch = int(mnist.train.num_examples/100)\n",
    "    \n",
    "    for epoch in range(15):\n",
    "        total_cost = 0\n",
    "        \n",
    "        for _ in range(total_batch):\n",
    "            batch_xs, batch_ys = mnist.train.next_batch(batch_size)\n",
    "            sess.run(train_op, feed_dict={X: batch_xs, Y: batch_ys, keep_prob: 0.8})\n",
    "            cost_val = sess.run(cost, feed_dict={X: batch_xs, Y: batch_ys, keep_prob: 0.8})\n",
    "            total_cost += cost_val\n",
    "            \n",
    "        print('Epoch:', (epoch+1), 'Avg. cost = {:.3f}'.format(total_cost/total_batch))\n",
    "        \n",
    "    is_correct = tf.equal(tf.argmax(model, axis=1), tf.argmax(Y, axis=1))\n",
    "    accuracy = tf.reduce_mean(tf.cast(is_correct, tf.float32))\n",
    "    \n",
    "    print(sess.run(accuracy, feed_dict={X: mnist.test.images, Y: mnist.test.labels, keep_prob: 1}))\n",
    "    \n",
    "    img = mnist.test.images[0].reshape(28,28)\n",
    "    plt.imshow(img, cmap=plt.cm.binary)\n",
    "    plt.show()\n",
    "    print(sess.run(tf.argmax(model, axis=1), feed_dict={X: mnist.test.images[:1,:], keep_prob: 1}))"
   ]
  },
  {
   "cell_type": "markdown",
   "metadata": {},
   "source": [
    "#### 2. 연습2"
   ]
  },
  {
   "cell_type": "code",
   "execution_count": 273,
   "metadata": {},
   "outputs": [],
   "source": [
    "#x_data = np.array([[0,0],[1,0],[1,1],[0,0],[0,0],[0,1]])\n",
    "x_data = np.array([[1,1],[1,1],[1,1],[1,1],[1,1],[1,1]])\n",
    "y_data = np.array([\n",
    "    [1,0,0],\n",
    "    [0,1,0],\n",
    "    [0,0,1],\n",
    "    [1,0,0],\n",
    "    [1,0,0],\n",
    "    [0,0,1]\n",
    "])"
   ]
  },
  {
   "cell_type": "code",
   "execution_count": 349,
   "metadata": {},
   "outputs": [],
   "source": [
    "X = tf.placeholder(tf.float32, [None, 2])\n",
    "Y = tf.placeholder(tf.float32, [None, 3])\n",
    "\n",
    "W1 = tf.Variable(tf.random_uniform([2, 5], -1, 1))\n",
    "L1 = tf.matmul(X, W1)\n",
    "L1_2 = tf.nn.dropout(L1, 0.7)\n",
    "# L1_2 : L1/0.7을 한 후 30%를 0으로 치환\n",
    "\n",
    "W2 = tf.Variable(tf.random_uniform([5, 3], -1, 1))\n",
    "b2 = tf.Variable(tf.random_uniform([3], -1, 1))\n",
    "model = tf.nn.softmax(tf.matmul(L1_2, W2) + b2)\n",
    "\n",
    "cost = tf.reduce_mean(-tf.reduce_sum(Y*tf.log(model), axis=1))\n",
    "optimizer = tf.train.GradientDescentOptimizer(learning_rate=0.1)\n",
    "train_op = optimizer.minimize(cost)\n",
    "init = tf.global_variables_initializer()"
   ]
  },
  {
   "cell_type": "code",
   "execution_count": 350,
   "metadata": {},
   "outputs": [],
   "source": [
    "with tf.Session() as sess:\n",
    "    sess.run(init)\n",
    "    w = sess.run(W1, feed_dict={X: x_data})\n",
    "    before = sess.run(L1, feed_dict={X: x_data})\n",
    "    dropout = sess.run(L1_2, feed_dict={X: x_data})"
   ]
  },
  {
   "cell_type": "code",
   "execution_count": 352,
   "metadata": {},
   "outputs": [
    {
     "data": {
      "text/plain": [
       "array([[ 0.76889706,  0.1344831 , -0.22330785,  0.38124418,  0.35005856],\n",
       "       [ 0.76889706,  0.1344831 , -0.22330785,  0.38124418,  0.35005856],\n",
       "       [ 0.76889706,  0.1344831 , -0.22330785,  0.38124418,  0.35005856],\n",
       "       [ 0.76889706,  0.1344831 , -0.22330785,  0.38124418,  0.35005856],\n",
       "       [ 0.76889706,  0.1344831 , -0.22330785,  0.38124418,  0.35005856],\n",
       "       [ 0.76889706,  0.1344831 , -0.22330785,  0.38124418,  0.35005856]],\n",
       "      dtype=float32)"
      ]
     },
     "execution_count": 352,
     "metadata": {},
     "output_type": "execute_result"
    }
   ],
   "source": [
    "before"
   ]
  },
  {
   "cell_type": "code",
   "execution_count": 351,
   "metadata": {},
   "outputs": [
    {
     "data": {
      "text/plain": [
       "array([[ 0.        ,  0.19211872, -0.3190112 ,  0.5446346 ,  0.5000837 ],\n",
       "       [ 0.        ,  0.19211872, -0.3190112 ,  0.        ,  0.5000837 ],\n",
       "       [ 0.        ,  0.19211872, -0.        ,  0.5446346 ,  0.5000837 ],\n",
       "       [ 1.0984244 ,  0.        , -0.3190112 ,  0.        ,  0.5000837 ],\n",
       "       [ 0.        ,  0.19211872, -0.        ,  0.        ,  0.        ],\n",
       "       [ 0.        ,  0.19211872, -0.3190112 ,  0.5446346 ,  0.5000837 ]],\n",
       "      dtype=float32)"
      ]
     },
     "execution_count": 351,
     "metadata": {},
     "output_type": "execute_result"
    }
   ],
   "source": [
    "dropout"
   ]
  },
  {
   "cell_type": "code",
   "execution_count": 353,
   "metadata": {},
   "outputs": [
    {
     "data": {
      "text/plain": [
       "array([[ 1.0984244 ,  0.19211872, -0.3190112 ,  0.5446346 ,  0.5000837 ],\n",
       "       [ 1.0984244 ,  0.19211872, -0.3190112 ,  0.5446346 ,  0.5000837 ],\n",
       "       [ 1.0984244 ,  0.19211872, -0.3190112 ,  0.5446346 ,  0.5000837 ],\n",
       "       [ 1.0984244 ,  0.19211872, -0.3190112 ,  0.5446346 ,  0.5000837 ],\n",
       "       [ 1.0984244 ,  0.19211872, -0.3190112 ,  0.5446346 ,  0.5000837 ],\n",
       "       [ 1.0984244 ,  0.19211872, -0.3190112 ,  0.5446346 ,  0.5000837 ]],\n",
       "      dtype=float32)"
      ]
     },
     "execution_count": 353,
     "metadata": {},
     "output_type": "execute_result"
    }
   ],
   "source": [
    "before/0.7"
   ]
  },
  {
   "cell_type": "code",
   "execution_count": null,
   "metadata": {},
   "outputs": [],
   "source": [
    "before/(1-k) = dropout"
   ]
  },
  {
   "cell_type": "code",
   "execution_count": null,
   "metadata": {},
   "outputs": [],
   "source": [
    "dropout*k = dropout - before"
   ]
  },
  {
   "cell_type": "code",
   "execution_count": 345,
   "metadata": {},
   "outputs": [
    {
     "name": "stderr",
     "output_type": "stream",
     "text": [
      "C:\\ProgramData\\Anaconda3\\lib\\site-packages\\ipykernel_launcher.py:1: RuntimeWarning: divide by zero encountered in true_divide\n",
      "  \"\"\"Entry point for launching an IPython kernel.\n"
     ]
    },
    {
     "data": {
      "text/plain": [
       "array([[0.00999994, 0.        , 0.00999997, 0.00999997, 0.00999993],\n",
       "       [0.00999994, 0.00999999, 0.00999997, 0.00999997, 0.00999993],\n",
       "       [0.00999994, 0.00999999, 0.00999997, 0.00999997, 0.00999993],\n",
       "       [0.00999994, 0.00999999, 0.00999997, 0.00999997, 0.00999993],\n",
       "       [0.00999994, 0.00999999, 0.00999997, 0.00999997, 0.00999993],\n",
       "       [0.00999994, 0.00999999, 0.00999997, 0.00999997, 0.00999993]],\n",
       "      dtype=float32)"
      ]
     },
     "execution_count": 345,
     "metadata": {},
     "output_type": "execute_result"
    }
   ],
   "source": [
    "k = (dropout - before)/dropout\n",
    "k[0][1] = 0\n",
    "k"
   ]
  },
  {
   "cell_type": "code",
   "execution_count": null,
   "metadata": {},
   "outputs": [],
   "source": [
    "\n"
   ]
  }
 ],
 "metadata": {
  "kernelspec": {
   "display_name": "Python 3",
   "language": "python",
   "name": "python3"
  },
  "language_info": {
   "codemirror_mode": {
    "name": "ipython",
    "version": 3
   },
   "file_extension": ".py",
   "mimetype": "text/x-python",
   "name": "python",
   "nbconvert_exporter": "python",
   "pygments_lexer": "ipython3",
   "version": "3.6.5"
  }
 },
 "nbformat": 4,
 "nbformat_minor": 2
}
